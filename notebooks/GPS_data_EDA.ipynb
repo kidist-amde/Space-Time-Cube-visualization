{
 "cells": [
  {
   "cell_type": "code",
   "execution_count": 1,
   "metadata": {},
   "outputs": [],
   "source": [
    "# !conda install --channel conda-forge cartopy \n",
    "# !pip install pandas keplergl movingpandas \n",
    "# !pip install topojson \n",
    "# !pip install geojson\n",
    "# ! pip install reverse-geocode\n",
    "# !pip install geopy \n"
   ]
  },
  {
   "cell_type": "code",
   "execution_count": 73,
   "metadata": {},
   "outputs": [],
   "source": [
    "import matplotlib.pyplot as plt\n",
    "import pandas as pd\n",
    "import warnings\n",
    "warnings.filterwarnings('ignore')\n",
    "import plotly.express as px # 3d plot\n"
   ]
  },
  {
   "cell_type": "code",
   "execution_count": 81,
   "metadata": {},
   "outputs": [],
   "source": [
    "import geopandas as gpd\n",
    "import geojson \n",
    "from tqdm.auto import tqdm \n",
    "import time\n",
    "import csv\n"
   ]
  },
  {
   "cell_type": "code",
   "execution_count": 82,
   "metadata": {},
   "outputs": [
    {
     "data": {
      "text/html": [
       "<div>\n",
       "<style scoped>\n",
       "    .dataframe tbody tr th:only-of-type {\n",
       "        vertical-align: middle;\n",
       "    }\n",
       "\n",
       "    .dataframe tbody tr th {\n",
       "        vertical-align: top;\n",
       "    }\n",
       "\n",
       "    .dataframe thead th {\n",
       "        text-align: right;\n",
       "    }\n",
       "</style>\n",
       "<table border=\"1\" class=\"dataframe\">\n",
       "  <thead>\n",
       "    <tr style=\"text-align: right;\">\n",
       "      <th></th>\n",
       "      <th>idcode</th>\n",
       "      <th>accuracy</th>\n",
       "      <th>latitude</th>\n",
       "      <th>longitude</th>\n",
       "      <th>ticon</th>\n",
       "      <th>mm_r</th>\n",
       "      <th>gg_r</th>\n",
       "      <th>MM_gps</th>\n",
       "      <th>GG_gps</th>\n",
       "      <th>hh_gps</th>\n",
       "      <th>mm_gps</th>\n",
       "      <th>ss_gps</th>\n",
       "      <th>ms_gps</th>\n",
       "      <th>time_str_gps</th>\n",
       "      <th>timestamp_gps</th>\n",
       "    </tr>\n",
       "  </thead>\n",
       "  <tbody>\n",
       "    <tr>\n",
       "      <th>0</th>\n",
       "      <td>deb1cc1094abe3b84148183e5acff809c7890942</td>\n",
       "      <td>19.087999</td>\n",
       "      <td>46.06103</td>\n",
       "      <td>11.13130</td>\n",
       "      <td>network</td>\n",
       "      <td>5.0</td>\n",
       "      <td>10.0</td>\n",
       "      <td>5.0</td>\n",
       "      <td>10.0</td>\n",
       "      <td>0.0</td>\n",
       "      <td>0.0</td>\n",
       "      <td>15.0</td>\n",
       "      <td>348.0</td>\n",
       "      <td>10/5/2018 0:0:15.348</td>\n",
       "      <td>2018-05-10 00:00:15.348</td>\n",
       "    </tr>\n",
       "    <tr>\n",
       "      <th>1</th>\n",
       "      <td>deb1cc1094abe3b84148183e5acff809c7890942</td>\n",
       "      <td>19.167999</td>\n",
       "      <td>46.06103</td>\n",
       "      <td>11.13130</td>\n",
       "      <td>network</td>\n",
       "      <td>5.0</td>\n",
       "      <td>10.0</td>\n",
       "      <td>5.0</td>\n",
       "      <td>10.0</td>\n",
       "      <td>0.0</td>\n",
       "      <td>0.0</td>\n",
       "      <td>56.0</td>\n",
       "      <td>41.0</td>\n",
       "      <td>10/5/2018 0:0:56.41</td>\n",
       "      <td>2018-05-10 00:00:56.410</td>\n",
       "    </tr>\n",
       "    <tr>\n",
       "      <th>2</th>\n",
       "      <td>deb1cc1094abe3b84148183e5acff809c7890942</td>\n",
       "      <td>19.167999</td>\n",
       "      <td>46.06103</td>\n",
       "      <td>11.13130</td>\n",
       "      <td>network</td>\n",
       "      <td>5.0</td>\n",
       "      <td>10.0</td>\n",
       "      <td>5.0</td>\n",
       "      <td>10.0</td>\n",
       "      <td>0.0</td>\n",
       "      <td>0.0</td>\n",
       "      <td>56.0</td>\n",
       "      <td>95.0</td>\n",
       "      <td>10/5/2018 0:0:56.95</td>\n",
       "      <td>2018-05-10 00:00:56.950</td>\n",
       "    </tr>\n",
       "    <tr>\n",
       "      <th>3</th>\n",
       "      <td>deb1cc1094abe3b84148183e5acff809c7890942</td>\n",
       "      <td>19.100000</td>\n",
       "      <td>46.06104</td>\n",
       "      <td>11.13133</td>\n",
       "      <td>network</td>\n",
       "      <td>5.0</td>\n",
       "      <td>10.0</td>\n",
       "      <td>5.0</td>\n",
       "      <td>10.0</td>\n",
       "      <td>0.0</td>\n",
       "      <td>1.0</td>\n",
       "      <td>44.0</td>\n",
       "      <td>38.0</td>\n",
       "      <td>10/5/2018 0:1:44.38</td>\n",
       "      <td>2018-05-10 00:01:44.380</td>\n",
       "    </tr>\n",
       "    <tr>\n",
       "      <th>4</th>\n",
       "      <td>deb1cc1094abe3b84148183e5acff809c7890942</td>\n",
       "      <td>19.129999</td>\n",
       "      <td>46.06102</td>\n",
       "      <td>11.13130</td>\n",
       "      <td>network</td>\n",
       "      <td>5.0</td>\n",
       "      <td>10.0</td>\n",
       "      <td>5.0</td>\n",
       "      <td>10.0</td>\n",
       "      <td>0.0</td>\n",
       "      <td>1.0</td>\n",
       "      <td>58.0</td>\n",
       "      <td>8.0</td>\n",
       "      <td>10/5/2018 0:1:58.8</td>\n",
       "      <td>2018-05-10 00:01:58.800</td>\n",
       "    </tr>\n",
       "  </tbody>\n",
       "</table>\n",
       "</div>"
      ],
      "text/plain": [
       "                                     idcode   accuracy  latitude  longitude  \\\n",
       "0  deb1cc1094abe3b84148183e5acff809c7890942  19.087999  46.06103   11.13130   \n",
       "1  deb1cc1094abe3b84148183e5acff809c7890942  19.167999  46.06103   11.13130   \n",
       "2  deb1cc1094abe3b84148183e5acff809c7890942  19.167999  46.06103   11.13130   \n",
       "3  deb1cc1094abe3b84148183e5acff809c7890942  19.100000  46.06104   11.13133   \n",
       "4  deb1cc1094abe3b84148183e5acff809c7890942  19.129999  46.06102   11.13130   \n",
       "\n",
       "     ticon  mm_r  gg_r  MM_gps  GG_gps  hh_gps  mm_gps  ss_gps  ms_gps  \\\n",
       "0  network   5.0  10.0     5.0    10.0     0.0     0.0    15.0   348.0   \n",
       "1  network   5.0  10.0     5.0    10.0     0.0     0.0    56.0    41.0   \n",
       "2  network   5.0  10.0     5.0    10.0     0.0     0.0    56.0    95.0   \n",
       "3  network   5.0  10.0     5.0    10.0     0.0     1.0    44.0    38.0   \n",
       "4  network   5.0  10.0     5.0    10.0     0.0     1.0    58.0     8.0   \n",
       "\n",
       "           time_str_gps           timestamp_gps  \n",
       "0  10/5/2018 0:0:15.348 2018-05-10 00:00:15.348  \n",
       "1   10/5/2018 0:0:56.41 2018-05-10 00:00:56.410  \n",
       "2   10/5/2018 0:0:56.95 2018-05-10 00:00:56.950  \n",
       "3   10/5/2018 0:1:44.38 2018-05-10 00:01:44.380  \n",
       "4    10/5/2018 0:1:58.8 2018-05-10 00:01:58.800  "
      ]
     },
     "execution_count": 82,
     "metadata": {},
     "output_type": "execute_result"
    }
   ],
   "source": [
    "df_gps = pd.read_stata(\"raw_data/gps4_3D.dta\")\n",
    "df_gps.head()"
   ]
  },
  {
   "cell_type": "code",
   "execution_count": 83,
   "metadata": {},
   "outputs": [
    {
     "data": {
      "text/plain": [
       "Index(['idcode', 'accuracy', 'latitude', 'longitude', 'ticon', 'mm_r', 'gg_r',\n",
       "       'MM_gps', 'GG_gps', 'hh_gps', 'mm_gps', 'ss_gps', 'ms_gps',\n",
       "       'time_str_gps', 'timestamp_gps'],\n",
       "      dtype='object')"
      ]
     },
     "execution_count": 83,
     "metadata": {},
     "output_type": "execute_result"
    }
   ],
   "source": [
    "df_gps.columns"
   ]
  },
  {
   "cell_type": "code",
   "execution_count": 84,
   "metadata": {},
   "outputs": [
    {
     "data": {
      "text/plain": [
       "(96732, 4)"
      ]
     },
     "execution_count": 84,
     "metadata": {},
     "output_type": "execute_result"
    }
   ],
   "source": [
    "# Drop unwanted columns\n",
    "df_gps = df_gps.drop(['accuracy','ticon', 'mm_r', 'gg_r','MM_gps', 'GG_gps', 'hh_gps',\\\n",
    "                     'mm_gps', 'ss_gps', 'ms_gps','time_str_gps'], axis=1)\n",
    "df_gps.shape"
   ]
  },
  {
   "cell_type": "code",
   "execution_count": 85,
   "metadata": {},
   "outputs": [
    {
     "name": "stdout",
     "output_type": "stream",
     "text": [
      "not sorted \n"
     ]
    }
   ],
   "source": [
    "# check if the timestamp column  of our data is sorted / inorder to sort the gis data based on timestamp \n",
    "s = True \n",
    "for i in range(len(df_gps)-1):\n",
    "    if df_gps.timestamp_gps[i] > df_gps.timestamp_gps[i+1]:\n",
    "        s = False\n",
    "if s : \n",
    "    print(\" sorted\")\n",
    "else:\n",
    "    print(\"not sorted \")"
   ]
  },
  {
   "cell_type": "code",
   "execution_count": 86,
   "metadata": {},
   "outputs": [
    {
     "data": {
      "text/plain": [
       "0   2018-05-10 00:00:15.348\n",
       "1   2018-05-10 00:00:56.410\n",
       "2   2018-05-10 00:00:56.950\n",
       "3   2018-05-10 00:01:44.380\n",
       "4   2018-05-10 00:01:58.800\n",
       "Name: timestamp_gps, dtype: datetime64[ns]"
      ]
     },
     "execution_count": 86,
     "metadata": {},
     "output_type": "execute_result"
    }
   ],
   "source": [
    "df_gps[\"timestamp_gps\"].head()"
   ]
  },
  {
   "cell_type": "code",
   "execution_count": 87,
   "metadata": {},
   "outputs": [],
   "source": [
    "# sort the timestamp column \n",
    "df_gps= df_gps.sort_values(\"timestamp_gps\").reset_index(drop=True)"
   ]
  },
  {
   "cell_type": "code",
   "execution_count": 88,
   "metadata": {},
   "outputs": [
    {
     "data": {
      "text/plain": [
       "0   2018-05-10 00:00:06.865\n",
       "1   2018-05-10 00:00:15.348\n",
       "2   2018-05-10 00:00:35.390\n",
       "3   2018-05-10 00:00:56.410\n",
       "4   2018-05-10 00:00:56.950\n",
       "Name: timestamp_gps, dtype: datetime64[ns]"
      ]
     },
     "execution_count": 88,
     "metadata": {},
     "output_type": "execute_result"
    }
   ],
   "source": [
    "df_gps[\"timestamp_gps\"].head()"
   ]
  },
  {
   "cell_type": "code",
   "execution_count": 10,
   "metadata": {},
   "outputs": [
    {
     "data": {
      "text/plain": [
       "(96732, 4)"
      ]
     },
     "execution_count": 10,
     "metadata": {},
     "output_type": "execute_result"
    }
   ],
   "source": [
    "df_gps.shape"
   ]
  },
  {
   "cell_type": "markdown",
   "metadata": {},
   "source": [
    "### Convert the panda data frame to the geopanda  data frame  \n",
    "* create a geomtry column for the long and lat \n"
   ]
  },
  {
   "cell_type": "code",
   "execution_count": 11,
   "metadata": {},
   "outputs": [],
   "source": [
    "gdf_gps = gpd.GeoDataFrame(df_gps,geometry=gpd.points_from_xy(df_gps.longitude,df_gps.latitude))"
   ]
  },
  {
   "cell_type": "code",
   "execution_count": 12,
   "metadata": {},
   "outputs": [
    {
     "data": {
      "text/plain": [
       "geopandas.geodataframe.GeoDataFrame"
      ]
     },
     "execution_count": 12,
     "metadata": {},
     "output_type": "execute_result"
    }
   ],
   "source": [
    "type(gdf_gps)"
   ]
  },
  {
   "cell_type": "code",
   "execution_count": 13,
   "metadata": {},
   "outputs": [
    {
     "data": {
      "text/plain": [
       "(96732, 5)"
      ]
     },
     "execution_count": 13,
     "metadata": {},
     "output_type": "execute_result"
    }
   ],
   "source": [
    "gdf_gps.shape"
   ]
  },
  {
   "cell_type": "code",
   "execution_count": 14,
   "metadata": {},
   "outputs": [
    {
     "data": {
      "text/html": [
       "<div>\n",
       "<style scoped>\n",
       "    .dataframe tbody tr th:only-of-type {\n",
       "        vertical-align: middle;\n",
       "    }\n",
       "\n",
       "    .dataframe tbody tr th {\n",
       "        vertical-align: top;\n",
       "    }\n",
       "\n",
       "    .dataframe thead th {\n",
       "        text-align: right;\n",
       "    }\n",
       "</style>\n",
       "<table border=\"1\" class=\"dataframe\">\n",
       "  <thead>\n",
       "    <tr style=\"text-align: right;\">\n",
       "      <th></th>\n",
       "      <th>idcode</th>\n",
       "      <th>latitude</th>\n",
       "      <th>longitude</th>\n",
       "      <th>timestamp_gps</th>\n",
       "      <th>geometry</th>\n",
       "    </tr>\n",
       "  </thead>\n",
       "  <tbody>\n",
       "    <tr>\n",
       "      <th>0</th>\n",
       "      <td>f9b89058526285256897833d8e21eab988b6057f</td>\n",
       "      <td>46.06229</td>\n",
       "      <td>11.13661</td>\n",
       "      <td>2018-05-10 00:00:06.865</td>\n",
       "      <td>POINT (11.13661 46.06229)</td>\n",
       "    </tr>\n",
       "    <tr>\n",
       "      <th>1</th>\n",
       "      <td>deb1cc1094abe3b84148183e5acff809c7890942</td>\n",
       "      <td>46.06103</td>\n",
       "      <td>11.13130</td>\n",
       "      <td>2018-05-10 00:00:15.348</td>\n",
       "      <td>POINT (11.13130 46.06103)</td>\n",
       "    </tr>\n",
       "    <tr>\n",
       "      <th>2</th>\n",
       "      <td>f9b89058526285256897833d8e21eab988b6057f</td>\n",
       "      <td>46.06229</td>\n",
       "      <td>11.13661</td>\n",
       "      <td>2018-05-10 00:00:35.390</td>\n",
       "      <td>POINT (11.13661 46.06229)</td>\n",
       "    </tr>\n",
       "    <tr>\n",
       "      <th>3</th>\n",
       "      <td>deb1cc1094abe3b84148183e5acff809c7890942</td>\n",
       "      <td>46.06103</td>\n",
       "      <td>11.13130</td>\n",
       "      <td>2018-05-10 00:00:56.410</td>\n",
       "      <td>POINT (11.13130 46.06103)</td>\n",
       "    </tr>\n",
       "    <tr>\n",
       "      <th>4</th>\n",
       "      <td>deb1cc1094abe3b84148183e5acff809c7890942</td>\n",
       "      <td>46.06103</td>\n",
       "      <td>11.13130</td>\n",
       "      <td>2018-05-10 00:00:56.950</td>\n",
       "      <td>POINT (11.13130 46.06103)</td>\n",
       "    </tr>\n",
       "  </tbody>\n",
       "</table>\n",
       "</div>"
      ],
      "text/plain": [
       "                                     idcode  latitude  longitude  \\\n",
       "0  f9b89058526285256897833d8e21eab988b6057f  46.06229   11.13661   \n",
       "1  deb1cc1094abe3b84148183e5acff809c7890942  46.06103   11.13130   \n",
       "2  f9b89058526285256897833d8e21eab988b6057f  46.06229   11.13661   \n",
       "3  deb1cc1094abe3b84148183e5acff809c7890942  46.06103   11.13130   \n",
       "4  deb1cc1094abe3b84148183e5acff809c7890942  46.06103   11.13130   \n",
       "\n",
       "            timestamp_gps                   geometry  \n",
       "0 2018-05-10 00:00:06.865  POINT (11.13661 46.06229)  \n",
       "1 2018-05-10 00:00:15.348  POINT (11.13130 46.06103)  \n",
       "2 2018-05-10 00:00:35.390  POINT (11.13661 46.06229)  \n",
       "3 2018-05-10 00:00:56.410  POINT (11.13130 46.06103)  \n",
       "4 2018-05-10 00:00:56.950  POINT (11.13130 46.06103)  "
      ]
     },
     "execution_count": 14,
     "metadata": {},
     "output_type": "execute_result"
    }
   ],
   "source": [
    "gdf_gps.head()"
   ]
  },
  {
   "cell_type": "markdown",
   "metadata": {},
   "source": [
    "### Calculate x and y coordinates\n",
    "\n",
    "* For coordinates captured using a GPS, or by any means, longitude is the X value and latitude is the Y value.\n",
    "* These are for a geographic coordinate system and have units of degrees.[Here](https://gis.stackexchange.com/questions/260672/difference-between-x-y-and-latitude-longitude-or-meters#:~:text=For%20coordinates%20captured%20using%20a,and%20have%20units%20of%20degrees.)\n",
    "*let'scalculate x and y coordinates based on our Point geometries, so that we can easily plot our data in 3D:\n"
   ]
  },
  {
   "cell_type": "code",
   "execution_count": 15,
   "metadata": {},
   "outputs": [],
   "source": [
    "gdf_gps[\"x\"] = gdf_gps[\"geometry\"].x  # x  is longitude \n",
    "gdf_gps[\"y\"] = gdf_gps[\"geometry\"].y   # y is latitude \n"
   ]
  },
  {
   "cell_type": "code",
   "execution_count": 16,
   "metadata": {},
   "outputs": [
    {
     "data": {
      "text/plain": [
       "(96732, 7)"
      ]
     },
     "execution_count": 16,
     "metadata": {},
     "output_type": "execute_result"
    }
   ],
   "source": [
    "gdf_gps.shape"
   ]
  },
  {
   "cell_type": "code",
   "execution_count": 17,
   "metadata": {},
   "outputs": [
    {
     "data": {
      "text/html": [
       "<div>\n",
       "<style scoped>\n",
       "    .dataframe tbody tr th:only-of-type {\n",
       "        vertical-align: middle;\n",
       "    }\n",
       "\n",
       "    .dataframe tbody tr th {\n",
       "        vertical-align: top;\n",
       "    }\n",
       "\n",
       "    .dataframe thead th {\n",
       "        text-align: right;\n",
       "    }\n",
       "</style>\n",
       "<table border=\"1\" class=\"dataframe\">\n",
       "  <thead>\n",
       "    <tr style=\"text-align: right;\">\n",
       "      <th></th>\n",
       "      <th>idcode</th>\n",
       "      <th>latitude</th>\n",
       "      <th>longitude</th>\n",
       "      <th>timestamp_gps</th>\n",
       "      <th>geometry</th>\n",
       "      <th>x</th>\n",
       "      <th>y</th>\n",
       "    </tr>\n",
       "  </thead>\n",
       "  <tbody>\n",
       "    <tr>\n",
       "      <th>0</th>\n",
       "      <td>f9b89058526285256897833d8e21eab988b6057f</td>\n",
       "      <td>46.06229</td>\n",
       "      <td>11.13661</td>\n",
       "      <td>2018-05-10 00:00:06.865</td>\n",
       "      <td>POINT (11.13661 46.06229)</td>\n",
       "      <td>11.13661</td>\n",
       "      <td>46.06229</td>\n",
       "    </tr>\n",
       "    <tr>\n",
       "      <th>1</th>\n",
       "      <td>deb1cc1094abe3b84148183e5acff809c7890942</td>\n",
       "      <td>46.06103</td>\n",
       "      <td>11.13130</td>\n",
       "      <td>2018-05-10 00:00:15.348</td>\n",
       "      <td>POINT (11.13130 46.06103)</td>\n",
       "      <td>11.13130</td>\n",
       "      <td>46.06103</td>\n",
       "    </tr>\n",
       "    <tr>\n",
       "      <th>2</th>\n",
       "      <td>f9b89058526285256897833d8e21eab988b6057f</td>\n",
       "      <td>46.06229</td>\n",
       "      <td>11.13661</td>\n",
       "      <td>2018-05-10 00:00:35.390</td>\n",
       "      <td>POINT (11.13661 46.06229)</td>\n",
       "      <td>11.13661</td>\n",
       "      <td>46.06229</td>\n",
       "    </tr>\n",
       "    <tr>\n",
       "      <th>3</th>\n",
       "      <td>deb1cc1094abe3b84148183e5acff809c7890942</td>\n",
       "      <td>46.06103</td>\n",
       "      <td>11.13130</td>\n",
       "      <td>2018-05-10 00:00:56.410</td>\n",
       "      <td>POINT (11.13130 46.06103)</td>\n",
       "      <td>11.13130</td>\n",
       "      <td>46.06103</td>\n",
       "    </tr>\n",
       "    <tr>\n",
       "      <th>4</th>\n",
       "      <td>deb1cc1094abe3b84148183e5acff809c7890942</td>\n",
       "      <td>46.06103</td>\n",
       "      <td>11.13130</td>\n",
       "      <td>2018-05-10 00:00:56.950</td>\n",
       "      <td>POINT (11.13130 46.06103)</td>\n",
       "      <td>11.13130</td>\n",
       "      <td>46.06103</td>\n",
       "    </tr>\n",
       "  </tbody>\n",
       "</table>\n",
       "</div>"
      ],
      "text/plain": [
       "                                     idcode  latitude  longitude  \\\n",
       "0  f9b89058526285256897833d8e21eab988b6057f  46.06229   11.13661   \n",
       "1  deb1cc1094abe3b84148183e5acff809c7890942  46.06103   11.13130   \n",
       "2  f9b89058526285256897833d8e21eab988b6057f  46.06229   11.13661   \n",
       "3  deb1cc1094abe3b84148183e5acff809c7890942  46.06103   11.13130   \n",
       "4  deb1cc1094abe3b84148183e5acff809c7890942  46.06103   11.13130   \n",
       "\n",
       "            timestamp_gps                   geometry         x         y  \n",
       "0 2018-05-10 00:00:06.865  POINT (11.13661 46.06229)  11.13661  46.06229  \n",
       "1 2018-05-10 00:00:15.348  POINT (11.13130 46.06103)  11.13130  46.06103  \n",
       "2 2018-05-10 00:00:35.390  POINT (11.13661 46.06229)  11.13661  46.06229  \n",
       "3 2018-05-10 00:00:56.410  POINT (11.13130 46.06103)  11.13130  46.06103  \n",
       "4 2018-05-10 00:00:56.950  POINT (11.13130 46.06103)  11.13130  46.06103  "
      ]
     },
     "execution_count": 17,
     "metadata": {},
     "output_type": "execute_result"
    }
   ],
   "source": [
    "gdf_gps.head()"
   ]
  },
  {
   "cell_type": "markdown",
   "metadata": {},
   "source": [
    "# location set"
   ]
  },
  {
   "cell_type": "code",
   "execution_count": 18,
   "metadata": {},
   "outputs": [],
   "source": [
    "locations = set()\n",
    "for index,row in gdf_gps.iterrows():\n",
    "    locations.add((row.x,row.y))"
   ]
  },
  {
   "cell_type": "code",
   "execution_count": 19,
   "metadata": {},
   "outputs": [
    {
     "data": {
      "text/plain": [
       "9123"
      ]
     },
     "execution_count": 19,
     "metadata": {},
     "output_type": "execute_result"
    }
   ],
   "source": [
    "len(locations)"
   ]
  },
  {
   "cell_type": "code",
   "execution_count": 20,
   "metadata": {},
   "outputs": [
    {
     "data": {
      "text/plain": [
       "[(11.13118, 46.06076),\n",
       " (11.11856, 46.06598),\n",
       " (11.1309, 46.0612),\n",
       " (16.41321, 41.15685),\n",
       " (11.13103, 46.06125),\n",
       " (11.11804, 46.06604),\n",
       " (11.13865, 46.06504),\n",
       " (11.11886, 46.0699),\n",
       " (16.41363, 41.15684),\n",
       " (11.11864, 46.06602)]"
      ]
     },
     "execution_count": 20,
     "metadata": {},
     "output_type": "execute_result"
    }
   ],
   "source": [
    "locations = list(locations)\n",
    "locations[:10]"
   ]
  },
  {
   "cell_type": "markdown",
   "metadata": {},
   "source": [
    "# location to name"
   ]
  },
  {
   "cell_type": "code",
   "execution_count": 21,
   "metadata": {},
   "outputs": [],
   "source": [
    "from geopy.geocoders import Nominatim\n",
    "geolocator = Nominatim(user_agent=\"Trento\")\n",
    "from geopy.extra.rate_limiter import RateLimiter\n",
    "geocode = RateLimiter(geolocator.geocode, min_delay_seconds=1)"
   ]
  },
  {
   "cell_type": "code",
   "execution_count": 22,
   "metadata": {},
   "outputs": [],
   "source": [
    "# location_to_name = dict()\n",
    "# for lon,lat in tqdm(locations[0:2000],total = len(locations[0:2000])):\n",
    "#     try:\n",
    "#         location = geolocator.reverse(\"{},{}\".format( lat, lon),timeout=None)\n",
    "#     except:\n",
    "#         time.sleep(1)\n",
    "#         location = geolocator.reverse(\"{},{}\".format(lat, lon),timeout=None)\n",
    "\n",
    "#     address = location.raw[\"address\"]\n",
    "#     if \"road\" in address and \"suburb\" in address and \"city\" in address:\n",
    "#         result = \"{}-{}-{}\".format(address[\"city\"],address[\"suburb\"],address[\"road\"])\n",
    "#     elif \"suburb\" in address and \"city\" in address:\n",
    "#         results = \"{}-{}\".format(address[\"city\"],address[\"suburb\"])\n",
    "#     elif \"city\" in address:\n",
    "#         result = \"{}\".format(address[\"city\"])\n",
    "#     else:\n",
    "#         result = \"\"\n",
    "#     location_to_name[(lon,lat)] = result"
   ]
  },
  {
   "cell_type": "code",
   "execution_count": 23,
   "metadata": {},
   "outputs": [],
   "source": [
    "# for lon,lat in tqdm(locations[2000:4000],total = len(locations[2000:4000])):\n",
    "#     try:\n",
    "#         location = geolocator.reverse(\"{},{}\".format( lat, lon),timeout=None)\n",
    "#     except:\n",
    "#         time.sleep(1)\n",
    "#         location = geolocator.reverse(\"{},{}\".format(lat, lon),timeout=None)\n",
    "\n",
    "#     address = location.raw[\"address\"]\n",
    "#     if \"road\" in address and \"suburb\" in address and \"city\" in address:\n",
    "#         result = \"{}-{}-{}\".format(address[\"city\"],address[\"suburb\"],address[\"road\"])\n",
    "#     elif \"suburb\" in address and \"city\" in address:\n",
    "#         results = \"{}-{}\".format(address[\"city\"],address[\"suburb\"])\n",
    "#     elif \"city\" in address:\n",
    "#         result = \"{}\".format(address[\"city\"])\n",
    "#     else:\n",
    "#         result = \"\"\n",
    "#     location_to_name[(lon,lat)] = result"
   ]
  },
  {
   "cell_type": "code",
   "execution_count": 24,
   "metadata": {},
   "outputs": [],
   "source": [
    "# for lon,lat in tqdm(locations[4000:6000],total = len(locations[4000:6000])):\n",
    "#     try:\n",
    "#         location = geolocator.reverse(\"{},{}\".format( lat, lon),timeout=None)\n",
    "#     except:\n",
    "#         time.sleep(1)\n",
    "#         location = geolocator.reverse(\"{},{}\".format(lat, lon),timeout=None)\n",
    "\n",
    "#     address = location.raw[\"address\"]\n",
    "#     if \"road\" in address and \"suburb\" in address and \"city\" in address:\n",
    "#         result = \"{}-{}-{}\".format(address[\"city\"],address[\"suburb\"],address[\"road\"])\n",
    "#     elif \"suburb\" in address and \"city\" in address:\n",
    "#         results = \"{}-{}\".format(address[\"city\"],address[\"suburb\"])\n",
    "#     elif \"city\" in address:\n",
    "#         result = \"{}\".format(address[\"city\"])\n",
    "#     else:\n",
    "#         result = \"\"\n",
    "#     location_to_name[(lon,lat)] = result"
   ]
  },
  {
   "cell_type": "code",
   "execution_count": 25,
   "metadata": {},
   "outputs": [],
   "source": [
    "# for lon,lat in tqdm(locations[6000:8000],total = len(locations[6000:8000])):\n",
    "#     try:\n",
    "#         location = geolocator.reverse(\"{},{}\".format( lat, lon),timeout=None)\n",
    "#     except:\n",
    "#         time.sleep(1)\n",
    "#         location = geolocator.reverse(\"{},{}\".format(lat, lon),timeout=None)\n",
    "\n",
    "#     address = location.raw[\"address\"]\n",
    "#     if \"road\" in address and \"suburb\" in address and \"city\" in address:\n",
    "#         result = \"{}-{}-{}\".format(address[\"city\"],address[\"suburb\"],address[\"road\"])\n",
    "#     elif \"suburb\" in address and \"city\" in address:\n",
    "#         results = \"{}-{}\".format(address[\"city\"],address[\"suburb\"])\n",
    "#     elif \"city\" in address:\n",
    "#         result = \"{}\".format(address[\"city\"])\n",
    "#     else:\n",
    "#         result = \"\"\n",
    "#     location_to_name[(lon,lat)] = result"
   ]
  },
  {
   "cell_type": "code",
   "execution_count": 26,
   "metadata": {},
   "outputs": [],
   "source": [
    "# for lon,lat in tqdm(locations[8000:],total = len(locations[8000:])):\n",
    "#     try:\n",
    "#         location = geolocator.reverse(\"{},{}\".format( lat, lon),timeout=None)\n",
    "#     except:\n",
    "#         time.sleep(1)\n",
    "#         location = geolocator.reverse(\"{},{}\".format(lat, lon),timeout=None)\n",
    "\n",
    "#     address = location.raw[\"address\"]\n",
    "#     if \"road\" in address and \"suburb\" in address and \"city\" in address:\n",
    "#         result = \"{}-{}-{}\".format(address[\"city\"],address[\"suburb\"],address[\"road\"])\n",
    "#     elif \"suburb\" in address and \"city\" in address:\n",
    "#         results = \"{}-{}\".format(address[\"city\"],address[\"suburb\"])\n",
    "#     elif \"city\" in address:\n",
    "#         result = \"{}\".format(address[\"city\"])\n",
    "#     else:\n",
    "#         result = \"\"\n",
    "#     location_to_name[(lon,lat)] = result"
   ]
  },
  {
   "cell_type": "code",
   "execution_count": 27,
   "metadata": {},
   "outputs": [],
   "source": [
    "# len(location_to_name.values())"
   ]
  },
  {
   "cell_type": "code",
   "execution_count": 28,
   "metadata": {},
   "outputs": [
    {
     "data": {
      "text/plain": [
       "(96732, 7)"
      ]
     },
     "execution_count": 28,
     "metadata": {},
     "output_type": "execute_result"
    }
   ],
   "source": [
    "gdf_gps.shape"
   ]
  },
  {
   "cell_type": "code",
   "execution_count": 29,
   "metadata": {},
   "outputs": [],
   "source": [
    "# set(location_to_name.values())"
   ]
  },
  {
   "cell_type": "code",
   "execution_count": 30,
   "metadata": {},
   "outputs": [],
   "source": [
    "# with open('location.csv', 'w') as csv_file:  \n",
    "#     writer = csv.writer(csv_file)\n",
    "#     for key, value in location_to_name.items():\n",
    "#         writer.writerow([key, value])"
   ]
  },
  {
   "cell_type": "code",
   "execution_count": 31,
   "metadata": {},
   "outputs": [
    {
     "data": {
      "text/html": [
       "<div>\n",
       "<style scoped>\n",
       "    .dataframe tbody tr th:only-of-type {\n",
       "        vertical-align: middle;\n",
       "    }\n",
       "\n",
       "    .dataframe tbody tr th {\n",
       "        vertical-align: top;\n",
       "    }\n",
       "\n",
       "    .dataframe thead th {\n",
       "        text-align: right;\n",
       "    }\n",
       "</style>\n",
       "<table border=\"1\" class=\"dataframe\">\n",
       "  <thead>\n",
       "    <tr style=\"text-align: right;\">\n",
       "      <th></th>\n",
       "      <th>idcode</th>\n",
       "      <th>latitude</th>\n",
       "      <th>longitude</th>\n",
       "      <th>timestamp_gps</th>\n",
       "      <th>geometry</th>\n",
       "      <th>x</th>\n",
       "      <th>y</th>\n",
       "    </tr>\n",
       "  </thead>\n",
       "  <tbody>\n",
       "    <tr>\n",
       "      <th>0</th>\n",
       "      <td>f9b89058526285256897833d8e21eab988b6057f</td>\n",
       "      <td>46.06229</td>\n",
       "      <td>11.13661</td>\n",
       "      <td>2018-05-10 00:00:06.865</td>\n",
       "      <td>POINT (11.13661 46.06229)</td>\n",
       "      <td>11.13661</td>\n",
       "      <td>46.06229</td>\n",
       "    </tr>\n",
       "    <tr>\n",
       "      <th>1</th>\n",
       "      <td>deb1cc1094abe3b84148183e5acff809c7890942</td>\n",
       "      <td>46.06103</td>\n",
       "      <td>11.13130</td>\n",
       "      <td>2018-05-10 00:00:15.348</td>\n",
       "      <td>POINT (11.13130 46.06103)</td>\n",
       "      <td>11.13130</td>\n",
       "      <td>46.06103</td>\n",
       "    </tr>\n",
       "    <tr>\n",
       "      <th>2</th>\n",
       "      <td>f9b89058526285256897833d8e21eab988b6057f</td>\n",
       "      <td>46.06229</td>\n",
       "      <td>11.13661</td>\n",
       "      <td>2018-05-10 00:00:35.390</td>\n",
       "      <td>POINT (11.13661 46.06229)</td>\n",
       "      <td>11.13661</td>\n",
       "      <td>46.06229</td>\n",
       "    </tr>\n",
       "    <tr>\n",
       "      <th>3</th>\n",
       "      <td>deb1cc1094abe3b84148183e5acff809c7890942</td>\n",
       "      <td>46.06103</td>\n",
       "      <td>11.13130</td>\n",
       "      <td>2018-05-10 00:00:56.410</td>\n",
       "      <td>POINT (11.13130 46.06103)</td>\n",
       "      <td>11.13130</td>\n",
       "      <td>46.06103</td>\n",
       "    </tr>\n",
       "    <tr>\n",
       "      <th>4</th>\n",
       "      <td>deb1cc1094abe3b84148183e5acff809c7890942</td>\n",
       "      <td>46.06103</td>\n",
       "      <td>11.13130</td>\n",
       "      <td>2018-05-10 00:00:56.950</td>\n",
       "      <td>POINT (11.13130 46.06103)</td>\n",
       "      <td>11.13130</td>\n",
       "      <td>46.06103</td>\n",
       "    </tr>\n",
       "  </tbody>\n",
       "</table>\n",
       "</div>"
      ],
      "text/plain": [
       "                                     idcode  latitude  longitude  \\\n",
       "0  f9b89058526285256897833d8e21eab988b6057f  46.06229   11.13661   \n",
       "1  deb1cc1094abe3b84148183e5acff809c7890942  46.06103   11.13130   \n",
       "2  f9b89058526285256897833d8e21eab988b6057f  46.06229   11.13661   \n",
       "3  deb1cc1094abe3b84148183e5acff809c7890942  46.06103   11.13130   \n",
       "4  deb1cc1094abe3b84148183e5acff809c7890942  46.06103   11.13130   \n",
       "\n",
       "            timestamp_gps                   geometry         x         y  \n",
       "0 2018-05-10 00:00:06.865  POINT (11.13661 46.06229)  11.13661  46.06229  \n",
       "1 2018-05-10 00:00:15.348  POINT (11.13130 46.06103)  11.13130  46.06103  \n",
       "2 2018-05-10 00:00:35.390  POINT (11.13661 46.06229)  11.13661  46.06229  \n",
       "3 2018-05-10 00:00:56.410  POINT (11.13130 46.06103)  11.13130  46.06103  \n",
       "4 2018-05-10 00:00:56.950  POINT (11.13130 46.06103)  11.13130  46.06103  "
      ]
     },
     "execution_count": 31,
     "metadata": {},
     "output_type": "execute_result"
    }
   ],
   "source": [
    "gdf_gps.head()"
   ]
  },
  {
   "cell_type": "code",
   "execution_count": 32,
   "metadata": {},
   "outputs": [],
   "source": [
    "df_loc = pd.read_csv(\"location.csv\", header=None, names=['lat_lon', 'Adress'])"
   ]
  },
  {
   "cell_type": "code",
   "execution_count": 33,
   "metadata": {},
   "outputs": [
    {
     "data": {
      "text/plain": [
       "(9123, 2)"
      ]
     },
     "execution_count": 33,
     "metadata": {},
     "output_type": "execute_result"
    }
   ],
   "source": [
    "df_loc.shape"
   ]
  },
  {
   "cell_type": "code",
   "execution_count": 34,
   "metadata": {},
   "outputs": [
    {
     "data": {
      "text/html": [
       "<div>\n",
       "<style scoped>\n",
       "    .dataframe tbody tr th:only-of-type {\n",
       "        vertical-align: middle;\n",
       "    }\n",
       "\n",
       "    .dataframe tbody tr th {\n",
       "        vertical-align: top;\n",
       "    }\n",
       "\n",
       "    .dataframe thead th {\n",
       "        text-align: right;\n",
       "    }\n",
       "</style>\n",
       "<table border=\"1\" class=\"dataframe\">\n",
       "  <thead>\n",
       "    <tr style=\"text-align: right;\">\n",
       "      <th></th>\n",
       "      <th>lat_lon</th>\n",
       "      <th>Adress</th>\n",
       "    </tr>\n",
       "  </thead>\n",
       "  <tbody>\n",
       "    <tr>\n",
       "      <th>0</th>\n",
       "      <td>(11.13118, 46.06076)</td>\n",
       "      <td>Trento-Bolghera-Via Adamello</td>\n",
       "    </tr>\n",
       "    <tr>\n",
       "      <th>1</th>\n",
       "      <td>(11.11856, 46.06598)</td>\n",
       "      <td>Trento-Le Albere-Via Vigilio Inama</td>\n",
       "    </tr>\n",
       "    <tr>\n",
       "      <th>2</th>\n",
       "      <td>(11.1309, 46.0612)</td>\n",
       "      <td>Trento-Bolghera-Viale Nepomuceno Bolognini</td>\n",
       "    </tr>\n",
       "    <tr>\n",
       "      <th>3</th>\n",
       "      <td>(16.41321, 41.15685)</td>\n",
       "      <td>NaN</td>\n",
       "    </tr>\n",
       "    <tr>\n",
       "      <th>4</th>\n",
       "      <td>(11.13103, 46.06125)</td>\n",
       "      <td>Trento-Bolghera-Viale Nepomuceno Bolognini</td>\n",
       "    </tr>\n",
       "  </tbody>\n",
       "</table>\n",
       "</div>"
      ],
      "text/plain": [
       "                lat_lon                                      Adress\n",
       "0  (11.13118, 46.06076)                Trento-Bolghera-Via Adamello\n",
       "1  (11.11856, 46.06598)          Trento-Le Albere-Via Vigilio Inama\n",
       "2    (11.1309, 46.0612)  Trento-Bolghera-Viale Nepomuceno Bolognini\n",
       "3  (16.41321, 41.15685)                                         NaN\n",
       "4  (11.13103, 46.06125)  Trento-Bolghera-Viale Nepomuceno Bolognini"
      ]
     },
     "execution_count": 34,
     "metadata": {},
     "output_type": "execute_result"
    }
   ],
   "source": [
    "df_loc.head()"
   ]
  },
  {
   "cell_type": "code",
   "execution_count": 35,
   "metadata": {},
   "outputs": [
    {
     "data": {
      "text/plain": [
       "lat_lon       0\n",
       "Adress     1116\n",
       "dtype: int64"
      ]
     },
     "execution_count": 35,
     "metadata": {},
     "output_type": "execute_result"
    }
   ],
   "source": [
    "df_loc.isna().sum()"
   ]
  },
  {
   "cell_type": "code",
   "execution_count": 36,
   "metadata": {},
   "outputs": [],
   "source": [
    "#python pandas dataframe columns convert to dict key and value\n",
    "loc_dict  = dict(zip(df_loc.lat_lon, df_loc.Adress))\n"
   ]
  },
  {
   "cell_type": "code",
   "execution_count": 37,
   "metadata": {},
   "outputs": [
    {
     "data": {
      "text/plain": [
       "9123"
      ]
     },
     "execution_count": 37,
     "metadata": {},
     "output_type": "execute_result"
    }
   ],
   "source": [
    "len(loc_dict)"
   ]
  },
  {
   "cell_type": "code",
   "execution_count": 38,
   "metadata": {},
   "outputs": [],
   "source": [
    "# # append location name as a column on the data frame \n",
    "gdf_gps[\"location_name\"] = gdf_gps.apply(lambda row:loc_dict[str((row.x,row.y))],axis=1)"
   ]
  },
  {
   "cell_type": "code",
   "execution_count": 39,
   "metadata": {},
   "outputs": [
    {
     "data": {
      "text/plain": [
       "(96732, 8)"
      ]
     },
     "execution_count": 39,
     "metadata": {},
     "output_type": "execute_result"
    }
   ],
   "source": [
    "gdf_gps.shape"
   ]
  },
  {
   "cell_type": "code",
   "execution_count": 40,
   "metadata": {},
   "outputs": [
    {
     "data": {
      "text/html": [
       "<div>\n",
       "<style scoped>\n",
       "    .dataframe tbody tr th:only-of-type {\n",
       "        vertical-align: middle;\n",
       "    }\n",
       "\n",
       "    .dataframe tbody tr th {\n",
       "        vertical-align: top;\n",
       "    }\n",
       "\n",
       "    .dataframe thead th {\n",
       "        text-align: right;\n",
       "    }\n",
       "</style>\n",
       "<table border=\"1\" class=\"dataframe\">\n",
       "  <thead>\n",
       "    <tr style=\"text-align: right;\">\n",
       "      <th></th>\n",
       "      <th>idcode</th>\n",
       "      <th>latitude</th>\n",
       "      <th>longitude</th>\n",
       "      <th>timestamp_gps</th>\n",
       "      <th>geometry</th>\n",
       "      <th>x</th>\n",
       "      <th>y</th>\n",
       "      <th>location_name</th>\n",
       "    </tr>\n",
       "  </thead>\n",
       "  <tbody>\n",
       "    <tr>\n",
       "      <th>0</th>\n",
       "      <td>f9b89058526285256897833d8e21eab988b6057f</td>\n",
       "      <td>46.06229</td>\n",
       "      <td>11.13661</td>\n",
       "      <td>2018-05-10 00:00:06.865</td>\n",
       "      <td>POINT (11.13661 46.06229)</td>\n",
       "      <td>11.13661</td>\n",
       "      <td>46.06229</td>\n",
       "      <td>Trento-Bolghera-Via Montello</td>\n",
       "    </tr>\n",
       "    <tr>\n",
       "      <th>1</th>\n",
       "      <td>deb1cc1094abe3b84148183e5acff809c7890942</td>\n",
       "      <td>46.06103</td>\n",
       "      <td>11.13130</td>\n",
       "      <td>2018-05-10 00:00:15.348</td>\n",
       "      <td>POINT (11.13130 46.06103)</td>\n",
       "      <td>11.13130</td>\n",
       "      <td>46.06103</td>\n",
       "      <td>Trento-Bolghera-Viale Nepomuceno Bolognini</td>\n",
       "    </tr>\n",
       "    <tr>\n",
       "      <th>2</th>\n",
       "      <td>f9b89058526285256897833d8e21eab988b6057f</td>\n",
       "      <td>46.06229</td>\n",
       "      <td>11.13661</td>\n",
       "      <td>2018-05-10 00:00:35.390</td>\n",
       "      <td>POINT (11.13661 46.06229)</td>\n",
       "      <td>11.13661</td>\n",
       "      <td>46.06229</td>\n",
       "      <td>Trento-Bolghera-Via Montello</td>\n",
       "    </tr>\n",
       "    <tr>\n",
       "      <th>3</th>\n",
       "      <td>deb1cc1094abe3b84148183e5acff809c7890942</td>\n",
       "      <td>46.06103</td>\n",
       "      <td>11.13130</td>\n",
       "      <td>2018-05-10 00:00:56.410</td>\n",
       "      <td>POINT (11.13130 46.06103)</td>\n",
       "      <td>11.13130</td>\n",
       "      <td>46.06103</td>\n",
       "      <td>Trento-Bolghera-Viale Nepomuceno Bolognini</td>\n",
       "    </tr>\n",
       "    <tr>\n",
       "      <th>4</th>\n",
       "      <td>deb1cc1094abe3b84148183e5acff809c7890942</td>\n",
       "      <td>46.06103</td>\n",
       "      <td>11.13130</td>\n",
       "      <td>2018-05-10 00:00:56.950</td>\n",
       "      <td>POINT (11.13130 46.06103)</td>\n",
       "      <td>11.13130</td>\n",
       "      <td>46.06103</td>\n",
       "      <td>Trento-Bolghera-Viale Nepomuceno Bolognini</td>\n",
       "    </tr>\n",
       "  </tbody>\n",
       "</table>\n",
       "</div>"
      ],
      "text/plain": [
       "                                     idcode  latitude  longitude  \\\n",
       "0  f9b89058526285256897833d8e21eab988b6057f  46.06229   11.13661   \n",
       "1  deb1cc1094abe3b84148183e5acff809c7890942  46.06103   11.13130   \n",
       "2  f9b89058526285256897833d8e21eab988b6057f  46.06229   11.13661   \n",
       "3  deb1cc1094abe3b84148183e5acff809c7890942  46.06103   11.13130   \n",
       "4  deb1cc1094abe3b84148183e5acff809c7890942  46.06103   11.13130   \n",
       "\n",
       "            timestamp_gps                   geometry         x         y  \\\n",
       "0 2018-05-10 00:00:06.865  POINT (11.13661 46.06229)  11.13661  46.06229   \n",
       "1 2018-05-10 00:00:15.348  POINT (11.13130 46.06103)  11.13130  46.06103   \n",
       "2 2018-05-10 00:00:35.390  POINT (11.13661 46.06229)  11.13661  46.06229   \n",
       "3 2018-05-10 00:00:56.410  POINT (11.13130 46.06103)  11.13130  46.06103   \n",
       "4 2018-05-10 00:00:56.950  POINT (11.13130 46.06103)  11.13130  46.06103   \n",
       "\n",
       "                                location_name  \n",
       "0                Trento-Bolghera-Via Montello  \n",
       "1  Trento-Bolghera-Viale Nepomuceno Bolognini  \n",
       "2                Trento-Bolghera-Via Montello  \n",
       "3  Trento-Bolghera-Viale Nepomuceno Bolognini  \n",
       "4  Trento-Bolghera-Viale Nepomuceno Bolognini  "
      ]
     },
     "execution_count": 40,
     "metadata": {},
     "output_type": "execute_result"
    }
   ],
   "source": [
    "gdf_gps.head()"
   ]
  },
  {
   "cell_type": "code",
   "execution_count": 41,
   "metadata": {},
   "outputs": [
    {
     "data": {
      "text/plain": [
       "Timestamp('2018-05-10 00:00:06.865000')"
      ]
     },
     "execution_count": 41,
     "metadata": {},
     "output_type": "execute_result"
    }
   ],
   "source": [
    "gdf_gps[\"timestamp_gps\"].min()"
   ]
  },
  {
   "cell_type": "markdown",
   "metadata": {},
   "source": [
    "* The data started being collected on 10th of may 2018  "
   ]
  },
  {
   "cell_type": "code",
   "execution_count": 42,
   "metadata": {},
   "outputs": [
    {
     "data": {
      "text/plain": [
       "Timestamp('2018-05-23 22:26:49.319000')"
      ]
     },
     "execution_count": 42,
     "metadata": {},
     "output_type": "execute_result"
    }
   ],
   "source": [
    "gdf_gps[\"timestamp_gps\"].max()"
   ]
  },
  {
   "cell_type": "markdown",
   "metadata": {},
   "source": [
    "* The data collection endded on 23 th of may 2018  (after 13 days)"
   ]
  },
  {
   "cell_type": "code",
   "execution_count": 43,
   "metadata": {},
   "outputs": [
    {
     "data": {
      "text/plain": [
       "Timedelta('13 days 22:26:42.454000')"
      ]
     },
     "execution_count": 43,
     "metadata": {},
     "output_type": "execute_result"
    }
   ],
   "source": [
    "# we have 13 days of data \n",
    "gdf_gps[\"timestamp_gps\"].max()-gdf_gps[\"timestamp_gps\"].min()"
   ]
  },
  {
   "cell_type": "code",
   "execution_count": 44,
   "metadata": {},
   "outputs": [
    {
     "data": {
      "text/plain": [
       "['f9b89058526285256897833d8e21eab988b6057f',\n",
       " 'deb1cc1094abe3b84148183e5acff809c7890942',\n",
       " 'f88da12a9900972539558ad26ee4d65b48eef06f']"
      ]
     },
     "execution_count": 44,
     "metadata": {},
     "output_type": "execute_result"
    }
   ],
   "source": [
    "# number of partcipant \n",
    "gdf_gps[\"idcode\"].unique().tolist()\n"
   ]
  },
  {
   "cell_type": "markdown",
   "metadata": {},
   "source": [
    "* We have 3 partcipants / 3 subjects for this study "
   ]
  },
  {
   "cell_type": "code",
   "execution_count": 45,
   "metadata": {},
   "outputs": [],
   "source": [
    "sub_1,sub_2,sub_3= gdf_gps[\"idcode\"].unique().tolist()\n"
   ]
  },
  {
   "cell_type": "code",
   "execution_count": 46,
   "metadata": {},
   "outputs": [
    {
     "name": "stdout",
     "output_type": "stream",
     "text": [
      "(19570, 8)\n",
      "(47054, 8)\n",
      "(30108, 8)\n"
     ]
    }
   ],
   "source": [
    "gdf_sub1 = gdf_gps[gdf_gps[\"idcode\"]==sub_1].reset_index(drop=True)\n",
    "gdf_sub2 = gdf_gps[gdf_gps[\"idcode\"]==sub_2].reset_index(drop=True)\n",
    "gdf_sub3 = gdf_gps[gdf_gps[\"idcode\"]==sub_3].reset_index(drop=True)\n",
    "print(gdf_sub1.shape)\n",
    "print(gdf_sub2.shape)\n",
    "print(gdf_sub3.shape)"
   ]
  },
  {
   "cell_type": "code",
   "execution_count": 47,
   "metadata": {},
   "outputs": [
    {
     "data": {
      "text/plain": [
       "Timedelta('13 days 20:40:59.235000')"
      ]
     },
     "execution_count": 47,
     "metadata": {},
     "output_type": "execute_result"
    }
   ],
   "source": [
    "gdf_sub1[\"timestamp_gps\"].max()-gdf_sub1[\"timestamp_gps\"].min()"
   ]
  },
  {
   "cell_type": "code",
   "execution_count": 48,
   "metadata": {},
   "outputs": [
    {
     "data": {
      "text/plain": [
       "Timedelta('13 days 20:06:56.086000')"
      ]
     },
     "execution_count": 48,
     "metadata": {},
     "output_type": "execute_result"
    }
   ],
   "source": [
    "gdf_sub2[\"timestamp_gps\"].max()-gdf_sub2[\"timestamp_gps\"].min()"
   ]
  },
  {
   "cell_type": "code",
   "execution_count": 49,
   "metadata": {},
   "outputs": [
    {
     "data": {
      "text/plain": [
       "Timedelta('13 days 22:24:23.510000')"
      ]
     },
     "execution_count": 49,
     "metadata": {},
     "output_type": "execute_result"
    }
   ],
   "source": [
    "gdf_sub3[\"timestamp_gps\"].max()-gdf_sub3[\"timestamp_gps\"].min()"
   ]
  },
  {
   "cell_type": "markdown",
   "metadata": {},
   "source": [
    "* We have 13 days of data for all of our  partcipants / subjects only the time diffrence found\n"
   ]
  },
  {
   "cell_type": "code",
   "execution_count": 50,
   "metadata": {},
   "outputs": [
    {
     "name": "stdout",
     "output_type": "stream",
     "text": [
      "(19570, 8)\n",
      "(47054, 8)\n",
      "(30108, 8)\n"
     ]
    }
   ],
   "source": [
    "print(gdf_sub1.shape)\n",
    "print(gdf_sub2.shape)\n",
    "print(gdf_sub3.shape)"
   ]
  },
  {
   "cell_type": "code",
   "execution_count": 51,
   "metadata": {},
   "outputs": [],
   "source": [
    "df_a = pd.DataFrame(gdf_gps.idcode.value_counts()).reset_index(drop=False)\n",
    "df_a.columns = [\"idcode\",\"count\"]\n",
    "# rename idcode value\n",
    "df_a[\"idcode\"].replace({df_a.idcode[0]: \"Subject_1\",df_a.idcode[1]: \"Subject_2\",df_a.idcode[2]: \"Subject_3\"}, inplace=True)\n",
    "\n"
   ]
  },
  {
   "cell_type": "code",
   "execution_count": 56,
   "metadata": {},
   "outputs": [
    {
     "data": {
      "application/vnd.plotly.v1+json": {
       "config": {
        "plotlyServerURL": "https://plot.ly"
       },
       "data": [
        {
         "alignmentgroup": "True",
         "hovertemplate": "idcode=%{x}<br>count=%{y}<extra></extra>",
         "legendgroup": "Subject_1",
         "marker": {
          "color": "#636efa",
          "pattern": {
           "shape": ""
          }
         },
         "name": "Subject_1",
         "offsetgroup": "Subject_1",
         "orientation": "v",
         "showlegend": true,
         "textposition": "auto",
         "type": "bar",
         "x": [
          "Subject_1"
         ],
         "xaxis": "x",
         "y": [
          47054
         ],
         "yaxis": "y"
        },
        {
         "alignmentgroup": "True",
         "hovertemplate": "idcode=%{x}<br>count=%{y}<extra></extra>",
         "legendgroup": "Subject_2",
         "marker": {
          "color": "#EF553B",
          "pattern": {
           "shape": ""
          }
         },
         "name": "Subject_2",
         "offsetgroup": "Subject_2",
         "orientation": "v",
         "showlegend": true,
         "textposition": "auto",
         "type": "bar",
         "x": [
          "Subject_2"
         ],
         "xaxis": "x",
         "y": [
          30108
         ],
         "yaxis": "y"
        },
        {
         "alignmentgroup": "True",
         "hovertemplate": "idcode=%{x}<br>count=%{y}<extra></extra>",
         "legendgroup": "Subject_3",
         "marker": {
          "color": "#00cc96",
          "pattern": {
           "shape": ""
          }
         },
         "name": "Subject_3",
         "offsetgroup": "Subject_3",
         "orientation": "v",
         "showlegend": true,
         "textposition": "auto",
         "type": "bar",
         "x": [
          "Subject_3"
         ],
         "xaxis": "x",
         "y": [
          19570
         ],
         "yaxis": "y"
        }
       ],
       "layout": {
        "barmode": "relative",
        "legend": {
         "title": {
          "text": "idcode"
         },
         "tracegroupgap": 0
        },
        "template": {
         "data": {
          "bar": [
           {
            "error_x": {
             "color": "#2a3f5f"
            },
            "error_y": {
             "color": "#2a3f5f"
            },
            "marker": {
             "line": {
              "color": "#E5ECF6",
              "width": 0.5
             },
             "pattern": {
              "fillmode": "overlay",
              "size": 10,
              "solidity": 0.2
             }
            },
            "type": "bar"
           }
          ],
          "barpolar": [
           {
            "marker": {
             "line": {
              "color": "#E5ECF6",
              "width": 0.5
             },
             "pattern": {
              "fillmode": "overlay",
              "size": 10,
              "solidity": 0.2
             }
            },
            "type": "barpolar"
           }
          ],
          "carpet": [
           {
            "aaxis": {
             "endlinecolor": "#2a3f5f",
             "gridcolor": "white",
             "linecolor": "white",
             "minorgridcolor": "white",
             "startlinecolor": "#2a3f5f"
            },
            "baxis": {
             "endlinecolor": "#2a3f5f",
             "gridcolor": "white",
             "linecolor": "white",
             "minorgridcolor": "white",
             "startlinecolor": "#2a3f5f"
            },
            "type": "carpet"
           }
          ],
          "choropleth": [
           {
            "colorbar": {
             "outlinewidth": 0,
             "ticks": ""
            },
            "type": "choropleth"
           }
          ],
          "contour": [
           {
            "colorbar": {
             "outlinewidth": 0,
             "ticks": ""
            },
            "colorscale": [
             [
              0,
              "#0d0887"
             ],
             [
              0.1111111111111111,
              "#46039f"
             ],
             [
              0.2222222222222222,
              "#7201a8"
             ],
             [
              0.3333333333333333,
              "#9c179e"
             ],
             [
              0.4444444444444444,
              "#bd3786"
             ],
             [
              0.5555555555555556,
              "#d8576b"
             ],
             [
              0.6666666666666666,
              "#ed7953"
             ],
             [
              0.7777777777777778,
              "#fb9f3a"
             ],
             [
              0.8888888888888888,
              "#fdca26"
             ],
             [
              1,
              "#f0f921"
             ]
            ],
            "type": "contour"
           }
          ],
          "contourcarpet": [
           {
            "colorbar": {
             "outlinewidth": 0,
             "ticks": ""
            },
            "type": "contourcarpet"
           }
          ],
          "heatmap": [
           {
            "colorbar": {
             "outlinewidth": 0,
             "ticks": ""
            },
            "colorscale": [
             [
              0,
              "#0d0887"
             ],
             [
              0.1111111111111111,
              "#46039f"
             ],
             [
              0.2222222222222222,
              "#7201a8"
             ],
             [
              0.3333333333333333,
              "#9c179e"
             ],
             [
              0.4444444444444444,
              "#bd3786"
             ],
             [
              0.5555555555555556,
              "#d8576b"
             ],
             [
              0.6666666666666666,
              "#ed7953"
             ],
             [
              0.7777777777777778,
              "#fb9f3a"
             ],
             [
              0.8888888888888888,
              "#fdca26"
             ],
             [
              1,
              "#f0f921"
             ]
            ],
            "type": "heatmap"
           }
          ],
          "heatmapgl": [
           {
            "colorbar": {
             "outlinewidth": 0,
             "ticks": ""
            },
            "colorscale": [
             [
              0,
              "#0d0887"
             ],
             [
              0.1111111111111111,
              "#46039f"
             ],
             [
              0.2222222222222222,
              "#7201a8"
             ],
             [
              0.3333333333333333,
              "#9c179e"
             ],
             [
              0.4444444444444444,
              "#bd3786"
             ],
             [
              0.5555555555555556,
              "#d8576b"
             ],
             [
              0.6666666666666666,
              "#ed7953"
             ],
             [
              0.7777777777777778,
              "#fb9f3a"
             ],
             [
              0.8888888888888888,
              "#fdca26"
             ],
             [
              1,
              "#f0f921"
             ]
            ],
            "type": "heatmapgl"
           }
          ],
          "histogram": [
           {
            "marker": {
             "pattern": {
              "fillmode": "overlay",
              "size": 10,
              "solidity": 0.2
             }
            },
            "type": "histogram"
           }
          ],
          "histogram2d": [
           {
            "colorbar": {
             "outlinewidth": 0,
             "ticks": ""
            },
            "colorscale": [
             [
              0,
              "#0d0887"
             ],
             [
              0.1111111111111111,
              "#46039f"
             ],
             [
              0.2222222222222222,
              "#7201a8"
             ],
             [
              0.3333333333333333,
              "#9c179e"
             ],
             [
              0.4444444444444444,
              "#bd3786"
             ],
             [
              0.5555555555555556,
              "#d8576b"
             ],
             [
              0.6666666666666666,
              "#ed7953"
             ],
             [
              0.7777777777777778,
              "#fb9f3a"
             ],
             [
              0.8888888888888888,
              "#fdca26"
             ],
             [
              1,
              "#f0f921"
             ]
            ],
            "type": "histogram2d"
           }
          ],
          "histogram2dcontour": [
           {
            "colorbar": {
             "outlinewidth": 0,
             "ticks": ""
            },
            "colorscale": [
             [
              0,
              "#0d0887"
             ],
             [
              0.1111111111111111,
              "#46039f"
             ],
             [
              0.2222222222222222,
              "#7201a8"
             ],
             [
              0.3333333333333333,
              "#9c179e"
             ],
             [
              0.4444444444444444,
              "#bd3786"
             ],
             [
              0.5555555555555556,
              "#d8576b"
             ],
             [
              0.6666666666666666,
              "#ed7953"
             ],
             [
              0.7777777777777778,
              "#fb9f3a"
             ],
             [
              0.8888888888888888,
              "#fdca26"
             ],
             [
              1,
              "#f0f921"
             ]
            ],
            "type": "histogram2dcontour"
           }
          ],
          "mesh3d": [
           {
            "colorbar": {
             "outlinewidth": 0,
             "ticks": ""
            },
            "type": "mesh3d"
           }
          ],
          "parcoords": [
           {
            "line": {
             "colorbar": {
              "outlinewidth": 0,
              "ticks": ""
             }
            },
            "type": "parcoords"
           }
          ],
          "pie": [
           {
            "automargin": true,
            "type": "pie"
           }
          ],
          "scatter": [
           {
            "marker": {
             "colorbar": {
              "outlinewidth": 0,
              "ticks": ""
             }
            },
            "type": "scatter"
           }
          ],
          "scatter3d": [
           {
            "line": {
             "colorbar": {
              "outlinewidth": 0,
              "ticks": ""
             }
            },
            "marker": {
             "colorbar": {
              "outlinewidth": 0,
              "ticks": ""
             }
            },
            "type": "scatter3d"
           }
          ],
          "scattercarpet": [
           {
            "marker": {
             "colorbar": {
              "outlinewidth": 0,
              "ticks": ""
             }
            },
            "type": "scattercarpet"
           }
          ],
          "scattergeo": [
           {
            "marker": {
             "colorbar": {
              "outlinewidth": 0,
              "ticks": ""
             }
            },
            "type": "scattergeo"
           }
          ],
          "scattergl": [
           {
            "marker": {
             "colorbar": {
              "outlinewidth": 0,
              "ticks": ""
             }
            },
            "type": "scattergl"
           }
          ],
          "scattermapbox": [
           {
            "marker": {
             "colorbar": {
              "outlinewidth": 0,
              "ticks": ""
             }
            },
            "type": "scattermapbox"
           }
          ],
          "scatterpolar": [
           {
            "marker": {
             "colorbar": {
              "outlinewidth": 0,
              "ticks": ""
             }
            },
            "type": "scatterpolar"
           }
          ],
          "scatterpolargl": [
           {
            "marker": {
             "colorbar": {
              "outlinewidth": 0,
              "ticks": ""
             }
            },
            "type": "scatterpolargl"
           }
          ],
          "scatterternary": [
           {
            "marker": {
             "colorbar": {
              "outlinewidth": 0,
              "ticks": ""
             }
            },
            "type": "scatterternary"
           }
          ],
          "surface": [
           {
            "colorbar": {
             "outlinewidth": 0,
             "ticks": ""
            },
            "colorscale": [
             [
              0,
              "#0d0887"
             ],
             [
              0.1111111111111111,
              "#46039f"
             ],
             [
              0.2222222222222222,
              "#7201a8"
             ],
             [
              0.3333333333333333,
              "#9c179e"
             ],
             [
              0.4444444444444444,
              "#bd3786"
             ],
             [
              0.5555555555555556,
              "#d8576b"
             ],
             [
              0.6666666666666666,
              "#ed7953"
             ],
             [
              0.7777777777777778,
              "#fb9f3a"
             ],
             [
              0.8888888888888888,
              "#fdca26"
             ],
             [
              1,
              "#f0f921"
             ]
            ],
            "type": "surface"
           }
          ],
          "table": [
           {
            "cells": {
             "fill": {
              "color": "#EBF0F8"
             },
             "line": {
              "color": "white"
             }
            },
            "header": {
             "fill": {
              "color": "#C8D4E3"
             },
             "line": {
              "color": "white"
             }
            },
            "type": "table"
           }
          ]
         },
         "layout": {
          "annotationdefaults": {
           "arrowcolor": "#2a3f5f",
           "arrowhead": 0,
           "arrowwidth": 1
          },
          "autotypenumbers": "strict",
          "coloraxis": {
           "colorbar": {
            "outlinewidth": 0,
            "ticks": ""
           }
          },
          "colorscale": {
           "diverging": [
            [
             0,
             "#8e0152"
            ],
            [
             0.1,
             "#c51b7d"
            ],
            [
             0.2,
             "#de77ae"
            ],
            [
             0.3,
             "#f1b6da"
            ],
            [
             0.4,
             "#fde0ef"
            ],
            [
             0.5,
             "#f7f7f7"
            ],
            [
             0.6,
             "#e6f5d0"
            ],
            [
             0.7,
             "#b8e186"
            ],
            [
             0.8,
             "#7fbc41"
            ],
            [
             0.9,
             "#4d9221"
            ],
            [
             1,
             "#276419"
            ]
           ],
           "sequential": [
            [
             0,
             "#0d0887"
            ],
            [
             0.1111111111111111,
             "#46039f"
            ],
            [
             0.2222222222222222,
             "#7201a8"
            ],
            [
             0.3333333333333333,
             "#9c179e"
            ],
            [
             0.4444444444444444,
             "#bd3786"
            ],
            [
             0.5555555555555556,
             "#d8576b"
            ],
            [
             0.6666666666666666,
             "#ed7953"
            ],
            [
             0.7777777777777778,
             "#fb9f3a"
            ],
            [
             0.8888888888888888,
             "#fdca26"
            ],
            [
             1,
             "#f0f921"
            ]
           ],
           "sequentialminus": [
            [
             0,
             "#0d0887"
            ],
            [
             0.1111111111111111,
             "#46039f"
            ],
            [
             0.2222222222222222,
             "#7201a8"
            ],
            [
             0.3333333333333333,
             "#9c179e"
            ],
            [
             0.4444444444444444,
             "#bd3786"
            ],
            [
             0.5555555555555556,
             "#d8576b"
            ],
            [
             0.6666666666666666,
             "#ed7953"
            ],
            [
             0.7777777777777778,
             "#fb9f3a"
            ],
            [
             0.8888888888888888,
             "#fdca26"
            ],
            [
             1,
             "#f0f921"
            ]
           ]
          },
          "colorway": [
           "#636efa",
           "#EF553B",
           "#00cc96",
           "#ab63fa",
           "#FFA15A",
           "#19d3f3",
           "#FF6692",
           "#B6E880",
           "#FF97FF",
           "#FECB52"
          ],
          "font": {
           "color": "#2a3f5f"
          },
          "geo": {
           "bgcolor": "white",
           "lakecolor": "white",
           "landcolor": "#E5ECF6",
           "showlakes": true,
           "showland": true,
           "subunitcolor": "white"
          },
          "hoverlabel": {
           "align": "left"
          },
          "hovermode": "closest",
          "mapbox": {
           "style": "light"
          },
          "paper_bgcolor": "white",
          "plot_bgcolor": "#E5ECF6",
          "polar": {
           "angularaxis": {
            "gridcolor": "white",
            "linecolor": "white",
            "ticks": ""
           },
           "bgcolor": "#E5ECF6",
           "radialaxis": {
            "gridcolor": "white",
            "linecolor": "white",
            "ticks": ""
           }
          },
          "scene": {
           "xaxis": {
            "backgroundcolor": "#E5ECF6",
            "gridcolor": "white",
            "gridwidth": 2,
            "linecolor": "white",
            "showbackground": true,
            "ticks": "",
            "zerolinecolor": "white"
           },
           "yaxis": {
            "backgroundcolor": "#E5ECF6",
            "gridcolor": "white",
            "gridwidth": 2,
            "linecolor": "white",
            "showbackground": true,
            "ticks": "",
            "zerolinecolor": "white"
           },
           "zaxis": {
            "backgroundcolor": "#E5ECF6",
            "gridcolor": "white",
            "gridwidth": 2,
            "linecolor": "white",
            "showbackground": true,
            "ticks": "",
            "zerolinecolor": "white"
           }
          },
          "shapedefaults": {
           "line": {
            "color": "#2a3f5f"
           }
          },
          "ternary": {
           "aaxis": {
            "gridcolor": "white",
            "linecolor": "white",
            "ticks": ""
           },
           "baxis": {
            "gridcolor": "white",
            "linecolor": "white",
            "ticks": ""
           },
           "bgcolor": "#E5ECF6",
           "caxis": {
            "gridcolor": "white",
            "linecolor": "white",
            "ticks": ""
           }
          },
          "title": {
           "x": 0.05
          },
          "xaxis": {
           "automargin": true,
           "gridcolor": "white",
           "linecolor": "white",
           "ticks": "",
           "title": {
            "standoff": 15
           },
           "zerolinecolor": "white",
           "zerolinewidth": 2
          },
          "yaxis": {
           "automargin": true,
           "gridcolor": "white",
           "linecolor": "white",
           "ticks": "",
           "title": {
            "standoff": 15
           },
           "zerolinecolor": "white",
           "zerolinewidth": 2
          }
         }
        },
        "title": {
         "text": "Valu count of data for each subject"
        },
        "xaxis": {
         "anchor": "y",
         "categoryarray": [
          "Subject_1",
          "Subject_2",
          "Subject_3"
         ],
         "categoryorder": "array",
         "domain": [
          0,
          1
         ],
         "title": {
          "text": "idcode"
         }
        },
        "yaxis": {
         "anchor": "x",
         "domain": [
          0,
          1
         ],
         "title": {
          "text": "count"
         }
        }
       }
      },
      "text/html": [
       "<div>                            <div id=\"cca9addc-51b1-4f80-9b28-b70cbc87af34\" class=\"plotly-graph-div\" style=\"height:525px; width:100%;\"></div>            <script type=\"text/javascript\">                require([\"plotly\"], function(Plotly) {                    window.PLOTLYENV=window.PLOTLYENV || {};                                    if (document.getElementById(\"cca9addc-51b1-4f80-9b28-b70cbc87af34\")) {                    Plotly.newPlot(                        \"cca9addc-51b1-4f80-9b28-b70cbc87af34\",                        [{\"alignmentgroup\":\"True\",\"hovertemplate\":\"idcode=%{x}<br>count=%{y}<extra></extra>\",\"legendgroup\":\"Subject_1\",\"marker\":{\"color\":\"#636efa\",\"pattern\":{\"shape\":\"\"}},\"name\":\"Subject_1\",\"offsetgroup\":\"Subject_1\",\"orientation\":\"v\",\"showlegend\":true,\"textposition\":\"auto\",\"x\":[\"Subject_1\"],\"xaxis\":\"x\",\"y\":[47054],\"yaxis\":\"y\",\"type\":\"bar\"},{\"alignmentgroup\":\"True\",\"hovertemplate\":\"idcode=%{x}<br>count=%{y}<extra></extra>\",\"legendgroup\":\"Subject_2\",\"marker\":{\"color\":\"#EF553B\",\"pattern\":{\"shape\":\"\"}},\"name\":\"Subject_2\",\"offsetgroup\":\"Subject_2\",\"orientation\":\"v\",\"showlegend\":true,\"textposition\":\"auto\",\"x\":[\"Subject_2\"],\"xaxis\":\"x\",\"y\":[30108],\"yaxis\":\"y\",\"type\":\"bar\"},{\"alignmentgroup\":\"True\",\"hovertemplate\":\"idcode=%{x}<br>count=%{y}<extra></extra>\",\"legendgroup\":\"Subject_3\",\"marker\":{\"color\":\"#00cc96\",\"pattern\":{\"shape\":\"\"}},\"name\":\"Subject_3\",\"offsetgroup\":\"Subject_3\",\"orientation\":\"v\",\"showlegend\":true,\"textposition\":\"auto\",\"x\":[\"Subject_3\"],\"xaxis\":\"x\",\"y\":[19570],\"yaxis\":\"y\",\"type\":\"bar\"}],                        {\"template\":{\"data\":{\"bar\":[{\"error_x\":{\"color\":\"#2a3f5f\"},\"error_y\":{\"color\":\"#2a3f5f\"},\"marker\":{\"line\":{\"color\":\"#E5ECF6\",\"width\":0.5},\"pattern\":{\"fillmode\":\"overlay\",\"size\":10,\"solidity\":0.2}},\"type\":\"bar\"}],\"barpolar\":[{\"marker\":{\"line\":{\"color\":\"#E5ECF6\",\"width\":0.5},\"pattern\":{\"fillmode\":\"overlay\",\"size\":10,\"solidity\":0.2}},\"type\":\"barpolar\"}],\"carpet\":[{\"aaxis\":{\"endlinecolor\":\"#2a3f5f\",\"gridcolor\":\"white\",\"linecolor\":\"white\",\"minorgridcolor\":\"white\",\"startlinecolor\":\"#2a3f5f\"},\"baxis\":{\"endlinecolor\":\"#2a3f5f\",\"gridcolor\":\"white\",\"linecolor\":\"white\",\"minorgridcolor\":\"white\",\"startlinecolor\":\"#2a3f5f\"},\"type\":\"carpet\"}],\"choropleth\":[{\"colorbar\":{\"outlinewidth\":0,\"ticks\":\"\"},\"type\":\"choropleth\"}],\"contour\":[{\"colorbar\":{\"outlinewidth\":0,\"ticks\":\"\"},\"colorscale\":[[0.0,\"#0d0887\"],[0.1111111111111111,\"#46039f\"],[0.2222222222222222,\"#7201a8\"],[0.3333333333333333,\"#9c179e\"],[0.4444444444444444,\"#bd3786\"],[0.5555555555555556,\"#d8576b\"],[0.6666666666666666,\"#ed7953\"],[0.7777777777777778,\"#fb9f3a\"],[0.8888888888888888,\"#fdca26\"],[1.0,\"#f0f921\"]],\"type\":\"contour\"}],\"contourcarpet\":[{\"colorbar\":{\"outlinewidth\":0,\"ticks\":\"\"},\"type\":\"contourcarpet\"}],\"heatmap\":[{\"colorbar\":{\"outlinewidth\":0,\"ticks\":\"\"},\"colorscale\":[[0.0,\"#0d0887\"],[0.1111111111111111,\"#46039f\"],[0.2222222222222222,\"#7201a8\"],[0.3333333333333333,\"#9c179e\"],[0.4444444444444444,\"#bd3786\"],[0.5555555555555556,\"#d8576b\"],[0.6666666666666666,\"#ed7953\"],[0.7777777777777778,\"#fb9f3a\"],[0.8888888888888888,\"#fdca26\"],[1.0,\"#f0f921\"]],\"type\":\"heatmap\"}],\"heatmapgl\":[{\"colorbar\":{\"outlinewidth\":0,\"ticks\":\"\"},\"colorscale\":[[0.0,\"#0d0887\"],[0.1111111111111111,\"#46039f\"],[0.2222222222222222,\"#7201a8\"],[0.3333333333333333,\"#9c179e\"],[0.4444444444444444,\"#bd3786\"],[0.5555555555555556,\"#d8576b\"],[0.6666666666666666,\"#ed7953\"],[0.7777777777777778,\"#fb9f3a\"],[0.8888888888888888,\"#fdca26\"],[1.0,\"#f0f921\"]],\"type\":\"heatmapgl\"}],\"histogram\":[{\"marker\":{\"pattern\":{\"fillmode\":\"overlay\",\"size\":10,\"solidity\":0.2}},\"type\":\"histogram\"}],\"histogram2d\":[{\"colorbar\":{\"outlinewidth\":0,\"ticks\":\"\"},\"colorscale\":[[0.0,\"#0d0887\"],[0.1111111111111111,\"#46039f\"],[0.2222222222222222,\"#7201a8\"],[0.3333333333333333,\"#9c179e\"],[0.4444444444444444,\"#bd3786\"],[0.5555555555555556,\"#d8576b\"],[0.6666666666666666,\"#ed7953\"],[0.7777777777777778,\"#fb9f3a\"],[0.8888888888888888,\"#fdca26\"],[1.0,\"#f0f921\"]],\"type\":\"histogram2d\"}],\"histogram2dcontour\":[{\"colorbar\":{\"outlinewidth\":0,\"ticks\":\"\"},\"colorscale\":[[0.0,\"#0d0887\"],[0.1111111111111111,\"#46039f\"],[0.2222222222222222,\"#7201a8\"],[0.3333333333333333,\"#9c179e\"],[0.4444444444444444,\"#bd3786\"],[0.5555555555555556,\"#d8576b\"],[0.6666666666666666,\"#ed7953\"],[0.7777777777777778,\"#fb9f3a\"],[0.8888888888888888,\"#fdca26\"],[1.0,\"#f0f921\"]],\"type\":\"histogram2dcontour\"}],\"mesh3d\":[{\"colorbar\":{\"outlinewidth\":0,\"ticks\":\"\"},\"type\":\"mesh3d\"}],\"parcoords\":[{\"line\":{\"colorbar\":{\"outlinewidth\":0,\"ticks\":\"\"}},\"type\":\"parcoords\"}],\"pie\":[{\"automargin\":true,\"type\":\"pie\"}],\"scatter\":[{\"marker\":{\"colorbar\":{\"outlinewidth\":0,\"ticks\":\"\"}},\"type\":\"scatter\"}],\"scatter3d\":[{\"line\":{\"colorbar\":{\"outlinewidth\":0,\"ticks\":\"\"}},\"marker\":{\"colorbar\":{\"outlinewidth\":0,\"ticks\":\"\"}},\"type\":\"scatter3d\"}],\"scattercarpet\":[{\"marker\":{\"colorbar\":{\"outlinewidth\":0,\"ticks\":\"\"}},\"type\":\"scattercarpet\"}],\"scattergeo\":[{\"marker\":{\"colorbar\":{\"outlinewidth\":0,\"ticks\":\"\"}},\"type\":\"scattergeo\"}],\"scattergl\":[{\"marker\":{\"colorbar\":{\"outlinewidth\":0,\"ticks\":\"\"}},\"type\":\"scattergl\"}],\"scattermapbox\":[{\"marker\":{\"colorbar\":{\"outlinewidth\":0,\"ticks\":\"\"}},\"type\":\"scattermapbox\"}],\"scatterpolar\":[{\"marker\":{\"colorbar\":{\"outlinewidth\":0,\"ticks\":\"\"}},\"type\":\"scatterpolar\"}],\"scatterpolargl\":[{\"marker\":{\"colorbar\":{\"outlinewidth\":0,\"ticks\":\"\"}},\"type\":\"scatterpolargl\"}],\"scatterternary\":[{\"marker\":{\"colorbar\":{\"outlinewidth\":0,\"ticks\":\"\"}},\"type\":\"scatterternary\"}],\"surface\":[{\"colorbar\":{\"outlinewidth\":0,\"ticks\":\"\"},\"colorscale\":[[0.0,\"#0d0887\"],[0.1111111111111111,\"#46039f\"],[0.2222222222222222,\"#7201a8\"],[0.3333333333333333,\"#9c179e\"],[0.4444444444444444,\"#bd3786\"],[0.5555555555555556,\"#d8576b\"],[0.6666666666666666,\"#ed7953\"],[0.7777777777777778,\"#fb9f3a\"],[0.8888888888888888,\"#fdca26\"],[1.0,\"#f0f921\"]],\"type\":\"surface\"}],\"table\":[{\"cells\":{\"fill\":{\"color\":\"#EBF0F8\"},\"line\":{\"color\":\"white\"}},\"header\":{\"fill\":{\"color\":\"#C8D4E3\"},\"line\":{\"color\":\"white\"}},\"type\":\"table\"}]},\"layout\":{\"annotationdefaults\":{\"arrowcolor\":\"#2a3f5f\",\"arrowhead\":0,\"arrowwidth\":1},\"autotypenumbers\":\"strict\",\"coloraxis\":{\"colorbar\":{\"outlinewidth\":0,\"ticks\":\"\"}},\"colorscale\":{\"diverging\":[[0,\"#8e0152\"],[0.1,\"#c51b7d\"],[0.2,\"#de77ae\"],[0.3,\"#f1b6da\"],[0.4,\"#fde0ef\"],[0.5,\"#f7f7f7\"],[0.6,\"#e6f5d0\"],[0.7,\"#b8e186\"],[0.8,\"#7fbc41\"],[0.9,\"#4d9221\"],[1,\"#276419\"]],\"sequential\":[[0.0,\"#0d0887\"],[0.1111111111111111,\"#46039f\"],[0.2222222222222222,\"#7201a8\"],[0.3333333333333333,\"#9c179e\"],[0.4444444444444444,\"#bd3786\"],[0.5555555555555556,\"#d8576b\"],[0.6666666666666666,\"#ed7953\"],[0.7777777777777778,\"#fb9f3a\"],[0.8888888888888888,\"#fdca26\"],[1.0,\"#f0f921\"]],\"sequentialminus\":[[0.0,\"#0d0887\"],[0.1111111111111111,\"#46039f\"],[0.2222222222222222,\"#7201a8\"],[0.3333333333333333,\"#9c179e\"],[0.4444444444444444,\"#bd3786\"],[0.5555555555555556,\"#d8576b\"],[0.6666666666666666,\"#ed7953\"],[0.7777777777777778,\"#fb9f3a\"],[0.8888888888888888,\"#fdca26\"],[1.0,\"#f0f921\"]]},\"colorway\":[\"#636efa\",\"#EF553B\",\"#00cc96\",\"#ab63fa\",\"#FFA15A\",\"#19d3f3\",\"#FF6692\",\"#B6E880\",\"#FF97FF\",\"#FECB52\"],\"font\":{\"color\":\"#2a3f5f\"},\"geo\":{\"bgcolor\":\"white\",\"lakecolor\":\"white\",\"landcolor\":\"#E5ECF6\",\"showlakes\":true,\"showland\":true,\"subunitcolor\":\"white\"},\"hoverlabel\":{\"align\":\"left\"},\"hovermode\":\"closest\",\"mapbox\":{\"style\":\"light\"},\"paper_bgcolor\":\"white\",\"plot_bgcolor\":\"#E5ECF6\",\"polar\":{\"angularaxis\":{\"gridcolor\":\"white\",\"linecolor\":\"white\",\"ticks\":\"\"},\"bgcolor\":\"#E5ECF6\",\"radialaxis\":{\"gridcolor\":\"white\",\"linecolor\":\"white\",\"ticks\":\"\"}},\"scene\":{\"xaxis\":{\"backgroundcolor\":\"#E5ECF6\",\"gridcolor\":\"white\",\"gridwidth\":2,\"linecolor\":\"white\",\"showbackground\":true,\"ticks\":\"\",\"zerolinecolor\":\"white\"},\"yaxis\":{\"backgroundcolor\":\"#E5ECF6\",\"gridcolor\":\"white\",\"gridwidth\":2,\"linecolor\":\"white\",\"showbackground\":true,\"ticks\":\"\",\"zerolinecolor\":\"white\"},\"zaxis\":{\"backgroundcolor\":\"#E5ECF6\",\"gridcolor\":\"white\",\"gridwidth\":2,\"linecolor\":\"white\",\"showbackground\":true,\"ticks\":\"\",\"zerolinecolor\":\"white\"}},\"shapedefaults\":{\"line\":{\"color\":\"#2a3f5f\"}},\"ternary\":{\"aaxis\":{\"gridcolor\":\"white\",\"linecolor\":\"white\",\"ticks\":\"\"},\"baxis\":{\"gridcolor\":\"white\",\"linecolor\":\"white\",\"ticks\":\"\"},\"bgcolor\":\"#E5ECF6\",\"caxis\":{\"gridcolor\":\"white\",\"linecolor\":\"white\",\"ticks\":\"\"}},\"title\":{\"x\":0.05},\"xaxis\":{\"automargin\":true,\"gridcolor\":\"white\",\"linecolor\":\"white\",\"ticks\":\"\",\"title\":{\"standoff\":15},\"zerolinecolor\":\"white\",\"zerolinewidth\":2},\"yaxis\":{\"automargin\":true,\"gridcolor\":\"white\",\"linecolor\":\"white\",\"ticks\":\"\",\"title\":{\"standoff\":15},\"zerolinecolor\":\"white\",\"zerolinewidth\":2}}},\"xaxis\":{\"anchor\":\"y\",\"domain\":[0.0,1.0],\"title\":{\"text\":\"idcode\"},\"categoryorder\":\"array\",\"categoryarray\":[\"Subject_1\",\"Subject_2\",\"Subject_3\"]},\"yaxis\":{\"anchor\":\"x\",\"domain\":[0.0,1.0],\"title\":{\"text\":\"count\"}},\"legend\":{\"title\":{\"text\":\"idcode\"},\"tracegroupgap\":0},\"title\":{\"text\":\"Valu count of data for each subject\"},\"barmode\":\"relative\"},                        {\"responsive\": true}                    ).then(function(){\n",
       "                            \n",
       "var gd = document.getElementById('cca9addc-51b1-4f80-9b28-b70cbc87af34');\n",
       "var x = new MutationObserver(function (mutations, observer) {{\n",
       "        var display = window.getComputedStyle(gd).display;\n",
       "        if (!display || display === 'none') {{\n",
       "            console.log([gd, 'removed!']);\n",
       "            Plotly.purge(gd);\n",
       "            observer.disconnect();\n",
       "        }}\n",
       "}});\n",
       "\n",
       "// Listen for the removal of the full notebook cells\n",
       "var notebookContainer = gd.closest('#notebook-container');\n",
       "if (notebookContainer) {{\n",
       "    x.observe(notebookContainer, {childList: true});\n",
       "}}\n",
       "\n",
       "// Listen for the clearing of the current output cell\n",
       "var outputEl = gd.closest('.output');\n",
       "if (outputEl) {{\n",
       "    x.observe(outputEl, {childList: true});\n",
       "}}\n",
       "\n",
       "                        })                };                });            </script>        </div>"
      ]
     },
     "metadata": {},
     "output_type": "display_data"
    }
   ],
   "source": [
    "\n",
    "fig = px.bar(df_a, x=\"idcode\", y=\"count\", color=\"idcode\", title=\"Valu count of data for each subject\")\n",
    "\n",
    "\n",
    "\n",
    "fig.show()"
   ]
  },
  {
   "cell_type": "markdown",
   "metadata": {},
   "source": [
    "* value counts of our partcipant, according to the chart subject one has more data"
   ]
  },
  {
   "cell_type": "markdown",
   "metadata": {},
   "source": [
    "## Export the GIS data of each subject as geogeson file"
   ]
  },
  {
   "cell_type": "code",
   "execution_count": 53,
   "metadata": {},
   "outputs": [],
   "source": [
    "# # let's save our geopanda of each subject \n",
    "# gdf_sub1['timestamp_gps'] = gdf_sub1['timestamp_gps'].dt.strftime('%Y-%m-%d %H:%M:%S')\n",
    "\n",
    "# with open(\"gdata/gdf_sub1.geojson\", 'w') as f:\n",
    "#     geojson.dump(gdf_sub1, f,)"
   ]
  },
  {
   "cell_type": "code",
   "execution_count": 54,
   "metadata": {},
   "outputs": [],
   "source": [
    "# # let's save our geopanda of each subject \n",
    "# gdf_sub2['timestamp_gps'] = gdf_sub2['timestamp_gps'].dt.strftime('%Y-%m-%d %H:%M:%S')\n",
    "\n",
    "# with open(\"gdata/gdf_sub2.geojson\", 'w') as f:\n",
    "#     geojson.dump(gdf_sub2, f,)"
   ]
  },
  {
   "cell_type": "code",
   "execution_count": 55,
   "metadata": {},
   "outputs": [],
   "source": [
    "# # let's save our geopanda of each subject \n",
    "# gdf_sub3['timestamp_gps'] = gdf_sub3['timestamp_gps'].dt.strftime('%Y-%m-%d %H:%M:%S')\n",
    "\n",
    "# with open(\"gdata/gdf_sub3.geojson\", 'w') as f:\n",
    "#     geojson.dump(gdf_sub3, f,)"
   ]
  },
  {
   "cell_type": "code",
   "execution_count": null,
   "metadata": {},
   "outputs": [],
   "source": []
  }
 ],
 "metadata": {
  "kernelspec": {
   "display_name": "Python [conda env:geoviz-HB] *",
   "language": "python",
   "name": "conda-env-geoviz-HB-py"
  },
  "language_info": {
   "codemirror_mode": {
    "name": "ipython",
    "version": 3
   },
   "file_extension": ".py",
   "mimetype": "text/x-python",
   "name": "python",
   "nbconvert_exporter": "python",
   "pygments_lexer": "ipython3",
   "version": "3.8.12"
  }
 },
 "nbformat": 4,
 "nbformat_minor": 4
}
