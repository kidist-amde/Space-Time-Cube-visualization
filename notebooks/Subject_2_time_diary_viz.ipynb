{
 "cells": [
  {
   "cell_type": "code",
   "execution_count": 1,
   "metadata": {},
   "outputs": [],
   "source": [
    "import pandas as pd\n",
    "import numpy as np\n",
    "import plotly.express as px # 3d plot\n",
    "from collections import defaultdict\n"
   ]
  },
  {
   "cell_type": "code",
   "execution_count": 2,
   "metadata": {},
   "outputs": [],
   "source": [
    "tdf_sub2 = pd.read_csv(\"tdata/tdf_sub2.csv\",sep='\\t', )\n"
   ]
  },
  {
   "cell_type": "code",
   "execution_count": 3,
   "metadata": {},
   "outputs": [],
   "source": [
    "# fill null\n",
    "tdf_sub2.with_who = tdf_sub2.with_who.fillna(\"missing_val\")\n",
    "tdf_sub2[\"where\"] = tdf_sub2[\"where\"].fillna(\"missing_val\")\n"
   ]
  },
  {
   "cell_type": "code",
   "execution_count": 4,
   "metadata": {},
   "outputs": [
    {
     "data": {
      "text/html": [
       "<div>\n",
       "<style scoped>\n",
       "    .dataframe tbody tr th:only-of-type {\n",
       "        vertical-align: middle;\n",
       "    }\n",
       "\n",
       "    .dataframe tbody tr th {\n",
       "        vertical-align: top;\n",
       "    }\n",
       "\n",
       "    .dataframe thead th {\n",
       "        text-align: right;\n",
       "    }\n",
       "</style>\n",
       "<table border=\"1\" class=\"dataframe\">\n",
       "  <thead>\n",
       "    <tr style=\"text-align: right;\">\n",
       "      <th></th>\n",
       "      <th>idcode</th>\n",
       "      <th>activity</th>\n",
       "      <th>with_who</th>\n",
       "      <th>where</th>\n",
       "      <th>mood</th>\n",
       "      <th>day_of_week</th>\n",
       "      <th>sex</th>\n",
       "      <th>latitude_home</th>\n",
       "      <th>longitude_home</th>\n",
       "      <th>timestamp_TD</th>\n",
       "      <th>Time</th>\n",
       "    </tr>\n",
       "  </thead>\n",
       "  <tbody>\n",
       "    <tr>\n",
       "      <th>0</th>\n",
       "      <td>f88da12a9900972539558ad26ee4d65b48eef06f</td>\n",
       "      <td>Watcing Youtube Tv-shows etc.</td>\n",
       "      <td>Alone</td>\n",
       "      <td>Home Apartment Room</td>\n",
       "      <td>Fairly happy</td>\n",
       "      <td>Thursday</td>\n",
       "      <td>M</td>\n",
       "      <td>46.065852</td>\n",
       "      <td>11.119008</td>\n",
       "      <td>2018-05-10 00:02:18.790</td>\n",
       "      <td>2018-05-10 00:02:18.790</td>\n",
       "    </tr>\n",
       "    <tr>\n",
       "      <th>1</th>\n",
       "      <td>f88da12a9900972539558ad26ee4d65b48eef06f</td>\n",
       "      <td>Watcing Youtube Tv-shows etc.</td>\n",
       "      <td>Alone</td>\n",
       "      <td>Home Apartment Room</td>\n",
       "      <td>Fairly happy</td>\n",
       "      <td>Thursday</td>\n",
       "      <td>M</td>\n",
       "      <td>46.065852</td>\n",
       "      <td>11.119008</td>\n",
       "      <td>2018-05-10 00:32:18.635</td>\n",
       "      <td>2018-05-10 00:32:18.635</td>\n",
       "    </tr>\n",
       "    <tr>\n",
       "      <th>2</th>\n",
       "      <td>f88da12a9900972539558ad26ee4d65b48eef06f</td>\n",
       "      <td>Sleeping</td>\n",
       "      <td>Alone</td>\n",
       "      <td>Home Apartment Room</td>\n",
       "      <td>Fairly happy</td>\n",
       "      <td>Thursday</td>\n",
       "      <td>M</td>\n",
       "      <td>46.065852</td>\n",
       "      <td>11.119008</td>\n",
       "      <td>2018-05-10 01:02:18.641</td>\n",
       "      <td>2018-05-10 01:02:18.641</td>\n",
       "    </tr>\n",
       "    <tr>\n",
       "      <th>3</th>\n",
       "      <td>f88da12a9900972539558ad26ee4d65b48eef06f</td>\n",
       "      <td>Sleeping</td>\n",
       "      <td>Alone</td>\n",
       "      <td>Home Apartment Room</td>\n",
       "      <td>Fairly happy</td>\n",
       "      <td>Thursday</td>\n",
       "      <td>M</td>\n",
       "      <td>46.065852</td>\n",
       "      <td>11.119008</td>\n",
       "      <td>2018-05-10 01:32:18.620</td>\n",
       "      <td>2018-05-10 01:32:18.620</td>\n",
       "    </tr>\n",
       "    <tr>\n",
       "      <th>4</th>\n",
       "      <td>f88da12a9900972539558ad26ee4d65b48eef06f</td>\n",
       "      <td>Sleeping</td>\n",
       "      <td>Alone</td>\n",
       "      <td>Home Apartment Room</td>\n",
       "      <td>Fairly happy</td>\n",
       "      <td>Thursday</td>\n",
       "      <td>M</td>\n",
       "      <td>46.065852</td>\n",
       "      <td>11.119008</td>\n",
       "      <td>2018-05-10 02:02:18.631</td>\n",
       "      <td>2018-05-10 02:02:18.631</td>\n",
       "    </tr>\n",
       "  </tbody>\n",
       "</table>\n",
       "</div>"
      ],
      "text/plain": [
       "                                     idcode                       activity  \\\n",
       "0  f88da12a9900972539558ad26ee4d65b48eef06f  Watcing Youtube Tv-shows etc.   \n",
       "1  f88da12a9900972539558ad26ee4d65b48eef06f  Watcing Youtube Tv-shows etc.   \n",
       "2  f88da12a9900972539558ad26ee4d65b48eef06f                       Sleeping   \n",
       "3  f88da12a9900972539558ad26ee4d65b48eef06f                       Sleeping   \n",
       "4  f88da12a9900972539558ad26ee4d65b48eef06f                       Sleeping   \n",
       "\n",
       "  with_who                where          mood day_of_week sex  latitude_home  \\\n",
       "0    Alone  Home Apartment Room  Fairly happy    Thursday   M      46.065852   \n",
       "1    Alone  Home Apartment Room  Fairly happy    Thursday   M      46.065852   \n",
       "2    Alone  Home Apartment Room  Fairly happy    Thursday   M      46.065852   \n",
       "3    Alone  Home Apartment Room  Fairly happy    Thursday   M      46.065852   \n",
       "4    Alone  Home Apartment Room  Fairly happy    Thursday   M      46.065852   \n",
       "\n",
       "   longitude_home             timestamp_TD                    Time  \n",
       "0       11.119008  2018-05-10 00:02:18.790 2018-05-10 00:02:18.790  \n",
       "1       11.119008  2018-05-10 00:32:18.635 2018-05-10 00:32:18.635  \n",
       "2       11.119008  2018-05-10 01:02:18.641 2018-05-10 01:02:18.641  \n",
       "3       11.119008  2018-05-10 01:32:18.620 2018-05-10 01:32:18.620  \n",
       "4       11.119008  2018-05-10 02:02:18.631 2018-05-10 02:02:18.631  "
      ]
     },
     "execution_count": 4,
     "metadata": {},
     "output_type": "execute_result"
    }
   ],
   "source": [
    "# create time col\n",
    "tdf_sub2[\"Time\"] = pd.to_datetime(tdf_sub2.timestamp_TD)\n",
    "tdf_sub2.head()"
   ]
  },
  {
   "cell_type": "code",
   "execution_count": 5,
   "metadata": {},
   "outputs": [
    {
     "data": {
      "text/plain": [
       "(672, 11)"
      ]
     },
     "execution_count": 5,
     "metadata": {},
     "output_type": "execute_result"
    }
   ],
   "source": [
    "tdf_sub2.shape"
   ]
  },
  {
   "cell_type": "code",
   "execution_count": 6,
   "metadata": {},
   "outputs": [
    {
     "data": {
      "text/plain": [
       "Timedelta('13 days 23:29:59.210000')"
      ]
     },
     "execution_count": 6,
     "metadata": {},
     "output_type": "execute_result"
    }
   ],
   "source": [
    "# How many days of data we have for sunject 1\n",
    "tdf_sub2.Time.max() - tdf_sub2.Time.min()\n"
   ]
  },
  {
   "cell_type": "markdown",
   "metadata": {},
   "source": [
    "# 2D Visualization"
   ]
  },
  {
   "cell_type": "markdown",
   "metadata": {},
   "source": [
    "#### frequency of  activity   "
   ]
  },
  {
   "cell_type": "code",
   "execution_count": 10,
   "metadata": {},
   "outputs": [],
   "source": [
    "df_a = pd.DataFrame(tdf_sub2.activity.value_counts()).reset_index(drop=False)\n",
    "df_a.columns = [\"activity\",\"count\"]\n",
    "# df_a.head()"
   ]
  },
  {
   "cell_type": "code",
   "execution_count": 12,
   "metadata": {},
   "outputs": [
    {
     "data": {
      "application/vnd.plotly.v1+json": {
       "config": {
        "plotlyServerURL": "https://plot.ly"
       },
       "data": [
        {
         "alignmentgroup": "True",
         "hovertemplate": "activity=%{x}<br>count=%{y}<extra></extra>",
         "legendgroup": "Sleeping",
         "marker": {
          "color": "#636efa",
          "pattern": {
           "shape": ""
          }
         },
         "name": "Sleeping",
         "offsetgroup": "Sleeping",
         "orientation": "v",
         "showlegend": true,
         "textposition": "auto",
         "type": "bar",
         "x": [
          "Sleeping"
         ],
         "xaxis": "x",
         "y": [
          208
         ],
         "yaxis": "y"
        },
        {
         "alignmentgroup": "True",
         "hovertemplate": "activity=%{x}<br>count=%{y}<extra></extra>",
         "legendgroup": "Null",
         "marker": {
          "color": "#EF553B",
          "pattern": {
           "shape": ""
          }
         },
         "name": "Null",
         "offsetgroup": "Null",
         "orientation": "v",
         "showlegend": true,
         "textposition": "auto",
         "type": "bar",
         "x": [
          "Null"
         ],
         "xaxis": "x",
         "y": [
          85
         ],
         "yaxis": "y"
        },
        {
         "alignmentgroup": "True",
         "hovertemplate": "activity=%{x}<br>count=%{y}<extra></extra>",
         "legendgroup": "Free time",
         "marker": {
          "color": "#00cc96",
          "pattern": {
           "shape": ""
          }
         },
         "name": "Free time",
         "offsetgroup": "Free time",
         "orientation": "v",
         "showlegend": true,
         "textposition": "auto",
         "type": "bar",
         "x": [
          "Free time"
         ],
         "xaxis": "x",
         "y": [
          73
         ],
         "yaxis": "y"
        },
        {
         "alignmentgroup": "True",
         "hovertemplate": "activity=%{x}<br>count=%{y}<extra></extra>",
         "legendgroup": "Eating",
         "marker": {
          "color": "#ab63fa",
          "pattern": {
           "shape": ""
          }
         },
         "name": "Eating",
         "offsetgroup": "Eating",
         "orientation": "v",
         "showlegend": true,
         "textposition": "auto",
         "type": "bar",
         "x": [
          "Eating"
         ],
         "xaxis": "x",
         "y": [
          48
         ],
         "yaxis": "y"
        },
        {
         "alignmentgroup": "True",
         "hovertemplate": "activity=%{x}<br>count=%{y}<extra></extra>",
         "legendgroup": "Lesson",
         "marker": {
          "color": "#FFA15A",
          "pattern": {
           "shape": ""
          }
         },
         "name": "Lesson",
         "offsetgroup": "Lesson",
         "orientation": "v",
         "showlegend": true,
         "textposition": "auto",
         "type": "bar",
         "x": [
          "Lesson"
         ],
         "xaxis": "x",
         "y": [
          41
         ],
         "yaxis": "y"
        },
        {
         "alignmentgroup": "True",
         "hovertemplate": "activity=%{x}<br>count=%{y}<extra></extra>",
         "legendgroup": "Travel",
         "marker": {
          "color": "#19d3f3",
          "pattern": {
           "shape": ""
          }
         },
         "name": "Travel",
         "offsetgroup": "Travel",
         "orientation": "v",
         "showlegend": true,
         "textposition": "auto",
         "type": "bar",
         "x": [
          "Travel"
         ],
         "xaxis": "x",
         "y": [
          39
         ],
         "yaxis": "y"
        },
        {
         "alignmentgroup": "True",
         "hovertemplate": "activity=%{x}<br>count=%{y}<extra></extra>",
         "legendgroup": "Study",
         "marker": {
          "color": "#FF6692",
          "pattern": {
           "shape": ""
          }
         },
         "name": "Study",
         "offsetgroup": "Study",
         "orientation": "v",
         "showlegend": true,
         "textposition": "auto",
         "type": "bar",
         "x": [
          "Study"
         ],
         "xaxis": "x",
         "y": [
          35
         ],
         "yaxis": "y"
        },
        {
         "alignmentgroup": "True",
         "hovertemplate": "activity=%{x}<br>count=%{y}<extra></extra>",
         "legendgroup": "Social media,Phone; chat",
         "marker": {
          "color": "#B6E880",
          "pattern": {
           "shape": ""
          }
         },
         "name": "Social media,Phone; chat",
         "offsetgroup": "Social media,Phone; chat",
         "orientation": "v",
         "showlegend": true,
         "textposition": "auto",
         "type": "bar",
         "x": [
          "Social media,Phone; chat"
         ],
         "xaxis": "x",
         "y": [
          34
         ],
         "yaxis": "y"
        },
        {
         "alignmentgroup": "True",
         "hovertemplate": "activity=%{x}<br>count=%{y}<extra></extra>",
         "legendgroup": "Watcing Youtube Tv-shows etc.",
         "marker": {
          "color": "#FF97FF",
          "pattern": {
           "shape": ""
          }
         },
         "name": "Watcing Youtube Tv-shows etc.",
         "offsetgroup": "Watcing Youtube Tv-shows etc.",
         "orientation": "v",
         "showlegend": true,
         "textposition": "auto",
         "type": "bar",
         "x": [
          "Watcing Youtube Tv-shows etc."
         ],
         "xaxis": "x",
         "y": [
          32
         ],
         "yaxis": "y"
        },
        {
         "alignmentgroup": "True",
         "hovertemplate": "activity=%{x}<br>count=%{y}<extra></extra>",
         "legendgroup": "Work",
         "marker": {
          "color": "#FECB52",
          "pattern": {
           "shape": ""
          }
         },
         "name": "Work",
         "offsetgroup": "Work",
         "orientation": "v",
         "showlegend": true,
         "textposition": "auto",
         "type": "bar",
         "x": [
          "Work"
         ],
         "xaxis": "x",
         "y": [
          29
         ],
         "yaxis": "y"
        },
        {
         "alignmentgroup": "True",
         "hovertemplate": "activity=%{x}<br>count=%{y}<extra></extra>",
         "legendgroup": "Selfcare",
         "marker": {
          "color": "#636efa",
          "pattern": {
           "shape": ""
          }
         },
         "name": "Selfcare",
         "offsetgroup": "Selfcare",
         "orientation": "v",
         "showlegend": true,
         "textposition": "auto",
         "type": "bar",
         "x": [
          "Selfcare"
         ],
         "xaxis": "x",
         "y": [
          27
         ],
         "yaxis": "y"
        },
        {
         "alignmentgroup": "True",
         "hovertemplate": "activity=%{x}<br>count=%{y}<extra></extra>",
         "legendgroup": "Social life & Break",
         "marker": {
          "color": "#EF553B",
          "pattern": {
           "shape": ""
          }
         },
         "name": "Social life & Break",
         "offsetgroup": "Social life & Break",
         "orientation": "v",
         "showlegend": true,
         "textposition": "auto",
         "type": "bar",
         "x": [
          "Social life & Break"
         ],
         "xaxis": "x",
         "y": [
          21
         ],
         "yaxis": "y"
        }
       ],
       "layout": {
        "barmode": "relative",
        "legend": {
         "title": {
          "text": "activity"
         },
         "tracegroupgap": 0
        },
        "template": {
         "data": {
          "bar": [
           {
            "error_x": {
             "color": "#2a3f5f"
            },
            "error_y": {
             "color": "#2a3f5f"
            },
            "marker": {
             "line": {
              "color": "#E5ECF6",
              "width": 0.5
             },
             "pattern": {
              "fillmode": "overlay",
              "size": 10,
              "solidity": 0.2
             }
            },
            "type": "bar"
           }
          ],
          "barpolar": [
           {
            "marker": {
             "line": {
              "color": "#E5ECF6",
              "width": 0.5
             },
             "pattern": {
              "fillmode": "overlay",
              "size": 10,
              "solidity": 0.2
             }
            },
            "type": "barpolar"
           }
          ],
          "carpet": [
           {
            "aaxis": {
             "endlinecolor": "#2a3f5f",
             "gridcolor": "white",
             "linecolor": "white",
             "minorgridcolor": "white",
             "startlinecolor": "#2a3f5f"
            },
            "baxis": {
             "endlinecolor": "#2a3f5f",
             "gridcolor": "white",
             "linecolor": "white",
             "minorgridcolor": "white",
             "startlinecolor": "#2a3f5f"
            },
            "type": "carpet"
           }
          ],
          "choropleth": [
           {
            "colorbar": {
             "outlinewidth": 0,
             "ticks": ""
            },
            "type": "choropleth"
           }
          ],
          "contour": [
           {
            "colorbar": {
             "outlinewidth": 0,
             "ticks": ""
            },
            "colorscale": [
             [
              0,
              "#0d0887"
             ],
             [
              0.1111111111111111,
              "#46039f"
             ],
             [
              0.2222222222222222,
              "#7201a8"
             ],
             [
              0.3333333333333333,
              "#9c179e"
             ],
             [
              0.4444444444444444,
              "#bd3786"
             ],
             [
              0.5555555555555556,
              "#d8576b"
             ],
             [
              0.6666666666666666,
              "#ed7953"
             ],
             [
              0.7777777777777778,
              "#fb9f3a"
             ],
             [
              0.8888888888888888,
              "#fdca26"
             ],
             [
              1,
              "#f0f921"
             ]
            ],
            "type": "contour"
           }
          ],
          "contourcarpet": [
           {
            "colorbar": {
             "outlinewidth": 0,
             "ticks": ""
            },
            "type": "contourcarpet"
           }
          ],
          "heatmap": [
           {
            "colorbar": {
             "outlinewidth": 0,
             "ticks": ""
            },
            "colorscale": [
             [
              0,
              "#0d0887"
             ],
             [
              0.1111111111111111,
              "#46039f"
             ],
             [
              0.2222222222222222,
              "#7201a8"
             ],
             [
              0.3333333333333333,
              "#9c179e"
             ],
             [
              0.4444444444444444,
              "#bd3786"
             ],
             [
              0.5555555555555556,
              "#d8576b"
             ],
             [
              0.6666666666666666,
              "#ed7953"
             ],
             [
              0.7777777777777778,
              "#fb9f3a"
             ],
             [
              0.8888888888888888,
              "#fdca26"
             ],
             [
              1,
              "#f0f921"
             ]
            ],
            "type": "heatmap"
           }
          ],
          "heatmapgl": [
           {
            "colorbar": {
             "outlinewidth": 0,
             "ticks": ""
            },
            "colorscale": [
             [
              0,
              "#0d0887"
             ],
             [
              0.1111111111111111,
              "#46039f"
             ],
             [
              0.2222222222222222,
              "#7201a8"
             ],
             [
              0.3333333333333333,
              "#9c179e"
             ],
             [
              0.4444444444444444,
              "#bd3786"
             ],
             [
              0.5555555555555556,
              "#d8576b"
             ],
             [
              0.6666666666666666,
              "#ed7953"
             ],
             [
              0.7777777777777778,
              "#fb9f3a"
             ],
             [
              0.8888888888888888,
              "#fdca26"
             ],
             [
              1,
              "#f0f921"
             ]
            ],
            "type": "heatmapgl"
           }
          ],
          "histogram": [
           {
            "marker": {
             "pattern": {
              "fillmode": "overlay",
              "size": 10,
              "solidity": 0.2
             }
            },
            "type": "histogram"
           }
          ],
          "histogram2d": [
           {
            "colorbar": {
             "outlinewidth": 0,
             "ticks": ""
            },
            "colorscale": [
             [
              0,
              "#0d0887"
             ],
             [
              0.1111111111111111,
              "#46039f"
             ],
             [
              0.2222222222222222,
              "#7201a8"
             ],
             [
              0.3333333333333333,
              "#9c179e"
             ],
             [
              0.4444444444444444,
              "#bd3786"
             ],
             [
              0.5555555555555556,
              "#d8576b"
             ],
             [
              0.6666666666666666,
              "#ed7953"
             ],
             [
              0.7777777777777778,
              "#fb9f3a"
             ],
             [
              0.8888888888888888,
              "#fdca26"
             ],
             [
              1,
              "#f0f921"
             ]
            ],
            "type": "histogram2d"
           }
          ],
          "histogram2dcontour": [
           {
            "colorbar": {
             "outlinewidth": 0,
             "ticks": ""
            },
            "colorscale": [
             [
              0,
              "#0d0887"
             ],
             [
              0.1111111111111111,
              "#46039f"
             ],
             [
              0.2222222222222222,
              "#7201a8"
             ],
             [
              0.3333333333333333,
              "#9c179e"
             ],
             [
              0.4444444444444444,
              "#bd3786"
             ],
             [
              0.5555555555555556,
              "#d8576b"
             ],
             [
              0.6666666666666666,
              "#ed7953"
             ],
             [
              0.7777777777777778,
              "#fb9f3a"
             ],
             [
              0.8888888888888888,
              "#fdca26"
             ],
             [
              1,
              "#f0f921"
             ]
            ],
            "type": "histogram2dcontour"
           }
          ],
          "mesh3d": [
           {
            "colorbar": {
             "outlinewidth": 0,
             "ticks": ""
            },
            "type": "mesh3d"
           }
          ],
          "parcoords": [
           {
            "line": {
             "colorbar": {
              "outlinewidth": 0,
              "ticks": ""
             }
            },
            "type": "parcoords"
           }
          ],
          "pie": [
           {
            "automargin": true,
            "type": "pie"
           }
          ],
          "scatter": [
           {
            "marker": {
             "colorbar": {
              "outlinewidth": 0,
              "ticks": ""
             }
            },
            "type": "scatter"
           }
          ],
          "scatter3d": [
           {
            "line": {
             "colorbar": {
              "outlinewidth": 0,
              "ticks": ""
             }
            },
            "marker": {
             "colorbar": {
              "outlinewidth": 0,
              "ticks": ""
             }
            },
            "type": "scatter3d"
           }
          ],
          "scattercarpet": [
           {
            "marker": {
             "colorbar": {
              "outlinewidth": 0,
              "ticks": ""
             }
            },
            "type": "scattercarpet"
           }
          ],
          "scattergeo": [
           {
            "marker": {
             "colorbar": {
              "outlinewidth": 0,
              "ticks": ""
             }
            },
            "type": "scattergeo"
           }
          ],
          "scattergl": [
           {
            "marker": {
             "colorbar": {
              "outlinewidth": 0,
              "ticks": ""
             }
            },
            "type": "scattergl"
           }
          ],
          "scattermapbox": [
           {
            "marker": {
             "colorbar": {
              "outlinewidth": 0,
              "ticks": ""
             }
            },
            "type": "scattermapbox"
           }
          ],
          "scatterpolar": [
           {
            "marker": {
             "colorbar": {
              "outlinewidth": 0,
              "ticks": ""
             }
            },
            "type": "scatterpolar"
           }
          ],
          "scatterpolargl": [
           {
            "marker": {
             "colorbar": {
              "outlinewidth": 0,
              "ticks": ""
             }
            },
            "type": "scatterpolargl"
           }
          ],
          "scatterternary": [
           {
            "marker": {
             "colorbar": {
              "outlinewidth": 0,
              "ticks": ""
             }
            },
            "type": "scatterternary"
           }
          ],
          "surface": [
           {
            "colorbar": {
             "outlinewidth": 0,
             "ticks": ""
            },
            "colorscale": [
             [
              0,
              "#0d0887"
             ],
             [
              0.1111111111111111,
              "#46039f"
             ],
             [
              0.2222222222222222,
              "#7201a8"
             ],
             [
              0.3333333333333333,
              "#9c179e"
             ],
             [
              0.4444444444444444,
              "#bd3786"
             ],
             [
              0.5555555555555556,
              "#d8576b"
             ],
             [
              0.6666666666666666,
              "#ed7953"
             ],
             [
              0.7777777777777778,
              "#fb9f3a"
             ],
             [
              0.8888888888888888,
              "#fdca26"
             ],
             [
              1,
              "#f0f921"
             ]
            ],
            "type": "surface"
           }
          ],
          "table": [
           {
            "cells": {
             "fill": {
              "color": "#EBF0F8"
             },
             "line": {
              "color": "white"
             }
            },
            "header": {
             "fill": {
              "color": "#C8D4E3"
             },
             "line": {
              "color": "white"
             }
            },
            "type": "table"
           }
          ]
         },
         "layout": {
          "annotationdefaults": {
           "arrowcolor": "#2a3f5f",
           "arrowhead": 0,
           "arrowwidth": 1
          },
          "autotypenumbers": "strict",
          "coloraxis": {
           "colorbar": {
            "outlinewidth": 0,
            "ticks": ""
           }
          },
          "colorscale": {
           "diverging": [
            [
             0,
             "#8e0152"
            ],
            [
             0.1,
             "#c51b7d"
            ],
            [
             0.2,
             "#de77ae"
            ],
            [
             0.3,
             "#f1b6da"
            ],
            [
             0.4,
             "#fde0ef"
            ],
            [
             0.5,
             "#f7f7f7"
            ],
            [
             0.6,
             "#e6f5d0"
            ],
            [
             0.7,
             "#b8e186"
            ],
            [
             0.8,
             "#7fbc41"
            ],
            [
             0.9,
             "#4d9221"
            ],
            [
             1,
             "#276419"
            ]
           ],
           "sequential": [
            [
             0,
             "#0d0887"
            ],
            [
             0.1111111111111111,
             "#46039f"
            ],
            [
             0.2222222222222222,
             "#7201a8"
            ],
            [
             0.3333333333333333,
             "#9c179e"
            ],
            [
             0.4444444444444444,
             "#bd3786"
            ],
            [
             0.5555555555555556,
             "#d8576b"
            ],
            [
             0.6666666666666666,
             "#ed7953"
            ],
            [
             0.7777777777777778,
             "#fb9f3a"
            ],
            [
             0.8888888888888888,
             "#fdca26"
            ],
            [
             1,
             "#f0f921"
            ]
           ],
           "sequentialminus": [
            [
             0,
             "#0d0887"
            ],
            [
             0.1111111111111111,
             "#46039f"
            ],
            [
             0.2222222222222222,
             "#7201a8"
            ],
            [
             0.3333333333333333,
             "#9c179e"
            ],
            [
             0.4444444444444444,
             "#bd3786"
            ],
            [
             0.5555555555555556,
             "#d8576b"
            ],
            [
             0.6666666666666666,
             "#ed7953"
            ],
            [
             0.7777777777777778,
             "#fb9f3a"
            ],
            [
             0.8888888888888888,
             "#fdca26"
            ],
            [
             1,
             "#f0f921"
            ]
           ]
          },
          "colorway": [
           "#636efa",
           "#EF553B",
           "#00cc96",
           "#ab63fa",
           "#FFA15A",
           "#19d3f3",
           "#FF6692",
           "#B6E880",
           "#FF97FF",
           "#FECB52"
          ],
          "font": {
           "color": "#2a3f5f"
          },
          "geo": {
           "bgcolor": "white",
           "lakecolor": "white",
           "landcolor": "#E5ECF6",
           "showlakes": true,
           "showland": true,
           "subunitcolor": "white"
          },
          "hoverlabel": {
           "align": "left"
          },
          "hovermode": "closest",
          "mapbox": {
           "style": "light"
          },
          "paper_bgcolor": "white",
          "plot_bgcolor": "#E5ECF6",
          "polar": {
           "angularaxis": {
            "gridcolor": "white",
            "linecolor": "white",
            "ticks": ""
           },
           "bgcolor": "#E5ECF6",
           "radialaxis": {
            "gridcolor": "white",
            "linecolor": "white",
            "ticks": ""
           }
          },
          "scene": {
           "xaxis": {
            "backgroundcolor": "#E5ECF6",
            "gridcolor": "white",
            "gridwidth": 2,
            "linecolor": "white",
            "showbackground": true,
            "ticks": "",
            "zerolinecolor": "white"
           },
           "yaxis": {
            "backgroundcolor": "#E5ECF6",
            "gridcolor": "white",
            "gridwidth": 2,
            "linecolor": "white",
            "showbackground": true,
            "ticks": "",
            "zerolinecolor": "white"
           },
           "zaxis": {
            "backgroundcolor": "#E5ECF6",
            "gridcolor": "white",
            "gridwidth": 2,
            "linecolor": "white",
            "showbackground": true,
            "ticks": "",
            "zerolinecolor": "white"
           }
          },
          "shapedefaults": {
           "line": {
            "color": "#2a3f5f"
           }
          },
          "ternary": {
           "aaxis": {
            "gridcolor": "white",
            "linecolor": "white",
            "ticks": ""
           },
           "baxis": {
            "gridcolor": "white",
            "linecolor": "white",
            "ticks": ""
           },
           "bgcolor": "#E5ECF6",
           "caxis": {
            "gridcolor": "white",
            "linecolor": "white",
            "ticks": ""
           }
          },
          "title": {
           "x": 0.05
          },
          "xaxis": {
           "automargin": true,
           "gridcolor": "white",
           "linecolor": "white",
           "ticks": "",
           "title": {
            "standoff": 15
           },
           "zerolinecolor": "white",
           "zerolinewidth": 2
          },
          "yaxis": {
           "automargin": true,
           "gridcolor": "white",
           "linecolor": "white",
           "ticks": "",
           "title": {
            "standoff": 15
           },
           "zerolinecolor": "white",
           "zerolinewidth": 2
          }
         }
        },
        "title": {
         "text": "Subject_2 - frequency of  activity"
        },
        "xaxis": {
         "anchor": "y",
         "categoryarray": [
          "Sleeping",
          "Null",
          "Free time",
          "Eating",
          "Lesson",
          "Travel",
          "Study",
          "Social media,Phone; chat",
          "Watcing Youtube Tv-shows etc.",
          "Work",
          "Selfcare",
          "Social life & Break"
         ],
         "categoryorder": "array",
         "domain": [
          0,
          1
         ],
         "title": {
          "text": "activity"
         }
        },
        "yaxis": {
         "anchor": "x",
         "domain": [
          0,
          1
         ],
         "title": {
          "text": "count"
         }
        }
       }
      },
      "text/html": [
       "<div>                            <div id=\"7b9f0673-bba6-4eea-bfba-ee5224328a9d\" class=\"plotly-graph-div\" style=\"height:525px; width:100%;\"></div>            <script type=\"text/javascript\">                require([\"plotly\"], function(Plotly) {                    window.PLOTLYENV=window.PLOTLYENV || {};                                    if (document.getElementById(\"7b9f0673-bba6-4eea-bfba-ee5224328a9d\")) {                    Plotly.newPlot(                        \"7b9f0673-bba6-4eea-bfba-ee5224328a9d\",                        [{\"alignmentgroup\":\"True\",\"hovertemplate\":\"activity=%{x}<br>count=%{y}<extra></extra>\",\"legendgroup\":\"Sleeping\",\"marker\":{\"color\":\"#636efa\",\"pattern\":{\"shape\":\"\"}},\"name\":\"Sleeping\",\"offsetgroup\":\"Sleeping\",\"orientation\":\"v\",\"showlegend\":true,\"textposition\":\"auto\",\"x\":[\"Sleeping\"],\"xaxis\":\"x\",\"y\":[208],\"yaxis\":\"y\",\"type\":\"bar\"},{\"alignmentgroup\":\"True\",\"hovertemplate\":\"activity=%{x}<br>count=%{y}<extra></extra>\",\"legendgroup\":\"Null\",\"marker\":{\"color\":\"#EF553B\",\"pattern\":{\"shape\":\"\"}},\"name\":\"Null\",\"offsetgroup\":\"Null\",\"orientation\":\"v\",\"showlegend\":true,\"textposition\":\"auto\",\"x\":[\"Null\"],\"xaxis\":\"x\",\"y\":[85],\"yaxis\":\"y\",\"type\":\"bar\"},{\"alignmentgroup\":\"True\",\"hovertemplate\":\"activity=%{x}<br>count=%{y}<extra></extra>\",\"legendgroup\":\"Free time\",\"marker\":{\"color\":\"#00cc96\",\"pattern\":{\"shape\":\"\"}},\"name\":\"Free time\",\"offsetgroup\":\"Free time\",\"orientation\":\"v\",\"showlegend\":true,\"textposition\":\"auto\",\"x\":[\"Free time\"],\"xaxis\":\"x\",\"y\":[73],\"yaxis\":\"y\",\"type\":\"bar\"},{\"alignmentgroup\":\"True\",\"hovertemplate\":\"activity=%{x}<br>count=%{y}<extra></extra>\",\"legendgroup\":\"Eating\",\"marker\":{\"color\":\"#ab63fa\",\"pattern\":{\"shape\":\"\"}},\"name\":\"Eating\",\"offsetgroup\":\"Eating\",\"orientation\":\"v\",\"showlegend\":true,\"textposition\":\"auto\",\"x\":[\"Eating\"],\"xaxis\":\"x\",\"y\":[48],\"yaxis\":\"y\",\"type\":\"bar\"},{\"alignmentgroup\":\"True\",\"hovertemplate\":\"activity=%{x}<br>count=%{y}<extra></extra>\",\"legendgroup\":\"Lesson\",\"marker\":{\"color\":\"#FFA15A\",\"pattern\":{\"shape\":\"\"}},\"name\":\"Lesson\",\"offsetgroup\":\"Lesson\",\"orientation\":\"v\",\"showlegend\":true,\"textposition\":\"auto\",\"x\":[\"Lesson\"],\"xaxis\":\"x\",\"y\":[41],\"yaxis\":\"y\",\"type\":\"bar\"},{\"alignmentgroup\":\"True\",\"hovertemplate\":\"activity=%{x}<br>count=%{y}<extra></extra>\",\"legendgroup\":\"Travel\",\"marker\":{\"color\":\"#19d3f3\",\"pattern\":{\"shape\":\"\"}},\"name\":\"Travel\",\"offsetgroup\":\"Travel\",\"orientation\":\"v\",\"showlegend\":true,\"textposition\":\"auto\",\"x\":[\"Travel\"],\"xaxis\":\"x\",\"y\":[39],\"yaxis\":\"y\",\"type\":\"bar\"},{\"alignmentgroup\":\"True\",\"hovertemplate\":\"activity=%{x}<br>count=%{y}<extra></extra>\",\"legendgroup\":\"Study\",\"marker\":{\"color\":\"#FF6692\",\"pattern\":{\"shape\":\"\"}},\"name\":\"Study\",\"offsetgroup\":\"Study\",\"orientation\":\"v\",\"showlegend\":true,\"textposition\":\"auto\",\"x\":[\"Study\"],\"xaxis\":\"x\",\"y\":[35],\"yaxis\":\"y\",\"type\":\"bar\"},{\"alignmentgroup\":\"True\",\"hovertemplate\":\"activity=%{x}<br>count=%{y}<extra></extra>\",\"legendgroup\":\"Social media,Phone; chat\",\"marker\":{\"color\":\"#B6E880\",\"pattern\":{\"shape\":\"\"}},\"name\":\"Social media,Phone; chat\",\"offsetgroup\":\"Social media,Phone; chat\",\"orientation\":\"v\",\"showlegend\":true,\"textposition\":\"auto\",\"x\":[\"Social media,Phone; chat\"],\"xaxis\":\"x\",\"y\":[34],\"yaxis\":\"y\",\"type\":\"bar\"},{\"alignmentgroup\":\"True\",\"hovertemplate\":\"activity=%{x}<br>count=%{y}<extra></extra>\",\"legendgroup\":\"Watcing Youtube Tv-shows etc.\",\"marker\":{\"color\":\"#FF97FF\",\"pattern\":{\"shape\":\"\"}},\"name\":\"Watcing Youtube Tv-shows etc.\",\"offsetgroup\":\"Watcing Youtube Tv-shows etc.\",\"orientation\":\"v\",\"showlegend\":true,\"textposition\":\"auto\",\"x\":[\"Watcing Youtube Tv-shows etc.\"],\"xaxis\":\"x\",\"y\":[32],\"yaxis\":\"y\",\"type\":\"bar\"},{\"alignmentgroup\":\"True\",\"hovertemplate\":\"activity=%{x}<br>count=%{y}<extra></extra>\",\"legendgroup\":\"Work\",\"marker\":{\"color\":\"#FECB52\",\"pattern\":{\"shape\":\"\"}},\"name\":\"Work\",\"offsetgroup\":\"Work\",\"orientation\":\"v\",\"showlegend\":true,\"textposition\":\"auto\",\"x\":[\"Work\"],\"xaxis\":\"x\",\"y\":[29],\"yaxis\":\"y\",\"type\":\"bar\"},{\"alignmentgroup\":\"True\",\"hovertemplate\":\"activity=%{x}<br>count=%{y}<extra></extra>\",\"legendgroup\":\"Selfcare\",\"marker\":{\"color\":\"#636efa\",\"pattern\":{\"shape\":\"\"}},\"name\":\"Selfcare\",\"offsetgroup\":\"Selfcare\",\"orientation\":\"v\",\"showlegend\":true,\"textposition\":\"auto\",\"x\":[\"Selfcare\"],\"xaxis\":\"x\",\"y\":[27],\"yaxis\":\"y\",\"type\":\"bar\"},{\"alignmentgroup\":\"True\",\"hovertemplate\":\"activity=%{x}<br>count=%{y}<extra></extra>\",\"legendgroup\":\"Social life & Break\",\"marker\":{\"color\":\"#EF553B\",\"pattern\":{\"shape\":\"\"}},\"name\":\"Social life & Break\",\"offsetgroup\":\"Social life & Break\",\"orientation\":\"v\",\"showlegend\":true,\"textposition\":\"auto\",\"x\":[\"Social life & Break\"],\"xaxis\":\"x\",\"y\":[21],\"yaxis\":\"y\",\"type\":\"bar\"}],                        {\"template\":{\"data\":{\"bar\":[{\"error_x\":{\"color\":\"#2a3f5f\"},\"error_y\":{\"color\":\"#2a3f5f\"},\"marker\":{\"line\":{\"color\":\"#E5ECF6\",\"width\":0.5},\"pattern\":{\"fillmode\":\"overlay\",\"size\":10,\"solidity\":0.2}},\"type\":\"bar\"}],\"barpolar\":[{\"marker\":{\"line\":{\"color\":\"#E5ECF6\",\"width\":0.5},\"pattern\":{\"fillmode\":\"overlay\",\"size\":10,\"solidity\":0.2}},\"type\":\"barpolar\"}],\"carpet\":[{\"aaxis\":{\"endlinecolor\":\"#2a3f5f\",\"gridcolor\":\"white\",\"linecolor\":\"white\",\"minorgridcolor\":\"white\",\"startlinecolor\":\"#2a3f5f\"},\"baxis\":{\"endlinecolor\":\"#2a3f5f\",\"gridcolor\":\"white\",\"linecolor\":\"white\",\"minorgridcolor\":\"white\",\"startlinecolor\":\"#2a3f5f\"},\"type\":\"carpet\"}],\"choropleth\":[{\"colorbar\":{\"outlinewidth\":0,\"ticks\":\"\"},\"type\":\"choropleth\"}],\"contour\":[{\"colorbar\":{\"outlinewidth\":0,\"ticks\":\"\"},\"colorscale\":[[0.0,\"#0d0887\"],[0.1111111111111111,\"#46039f\"],[0.2222222222222222,\"#7201a8\"],[0.3333333333333333,\"#9c179e\"],[0.4444444444444444,\"#bd3786\"],[0.5555555555555556,\"#d8576b\"],[0.6666666666666666,\"#ed7953\"],[0.7777777777777778,\"#fb9f3a\"],[0.8888888888888888,\"#fdca26\"],[1.0,\"#f0f921\"]],\"type\":\"contour\"}],\"contourcarpet\":[{\"colorbar\":{\"outlinewidth\":0,\"ticks\":\"\"},\"type\":\"contourcarpet\"}],\"heatmap\":[{\"colorbar\":{\"outlinewidth\":0,\"ticks\":\"\"},\"colorscale\":[[0.0,\"#0d0887\"],[0.1111111111111111,\"#46039f\"],[0.2222222222222222,\"#7201a8\"],[0.3333333333333333,\"#9c179e\"],[0.4444444444444444,\"#bd3786\"],[0.5555555555555556,\"#d8576b\"],[0.6666666666666666,\"#ed7953\"],[0.7777777777777778,\"#fb9f3a\"],[0.8888888888888888,\"#fdca26\"],[1.0,\"#f0f921\"]],\"type\":\"heatmap\"}],\"heatmapgl\":[{\"colorbar\":{\"outlinewidth\":0,\"ticks\":\"\"},\"colorscale\":[[0.0,\"#0d0887\"],[0.1111111111111111,\"#46039f\"],[0.2222222222222222,\"#7201a8\"],[0.3333333333333333,\"#9c179e\"],[0.4444444444444444,\"#bd3786\"],[0.5555555555555556,\"#d8576b\"],[0.6666666666666666,\"#ed7953\"],[0.7777777777777778,\"#fb9f3a\"],[0.8888888888888888,\"#fdca26\"],[1.0,\"#f0f921\"]],\"type\":\"heatmapgl\"}],\"histogram\":[{\"marker\":{\"pattern\":{\"fillmode\":\"overlay\",\"size\":10,\"solidity\":0.2}},\"type\":\"histogram\"}],\"histogram2d\":[{\"colorbar\":{\"outlinewidth\":0,\"ticks\":\"\"},\"colorscale\":[[0.0,\"#0d0887\"],[0.1111111111111111,\"#46039f\"],[0.2222222222222222,\"#7201a8\"],[0.3333333333333333,\"#9c179e\"],[0.4444444444444444,\"#bd3786\"],[0.5555555555555556,\"#d8576b\"],[0.6666666666666666,\"#ed7953\"],[0.7777777777777778,\"#fb9f3a\"],[0.8888888888888888,\"#fdca26\"],[1.0,\"#f0f921\"]],\"type\":\"histogram2d\"}],\"histogram2dcontour\":[{\"colorbar\":{\"outlinewidth\":0,\"ticks\":\"\"},\"colorscale\":[[0.0,\"#0d0887\"],[0.1111111111111111,\"#46039f\"],[0.2222222222222222,\"#7201a8\"],[0.3333333333333333,\"#9c179e\"],[0.4444444444444444,\"#bd3786\"],[0.5555555555555556,\"#d8576b\"],[0.6666666666666666,\"#ed7953\"],[0.7777777777777778,\"#fb9f3a\"],[0.8888888888888888,\"#fdca26\"],[1.0,\"#f0f921\"]],\"type\":\"histogram2dcontour\"}],\"mesh3d\":[{\"colorbar\":{\"outlinewidth\":0,\"ticks\":\"\"},\"type\":\"mesh3d\"}],\"parcoords\":[{\"line\":{\"colorbar\":{\"outlinewidth\":0,\"ticks\":\"\"}},\"type\":\"parcoords\"}],\"pie\":[{\"automargin\":true,\"type\":\"pie\"}],\"scatter\":[{\"marker\":{\"colorbar\":{\"outlinewidth\":0,\"ticks\":\"\"}},\"type\":\"scatter\"}],\"scatter3d\":[{\"line\":{\"colorbar\":{\"outlinewidth\":0,\"ticks\":\"\"}},\"marker\":{\"colorbar\":{\"outlinewidth\":0,\"ticks\":\"\"}},\"type\":\"scatter3d\"}],\"scattercarpet\":[{\"marker\":{\"colorbar\":{\"outlinewidth\":0,\"ticks\":\"\"}},\"type\":\"scattercarpet\"}],\"scattergeo\":[{\"marker\":{\"colorbar\":{\"outlinewidth\":0,\"ticks\":\"\"}},\"type\":\"scattergeo\"}],\"scattergl\":[{\"marker\":{\"colorbar\":{\"outlinewidth\":0,\"ticks\":\"\"}},\"type\":\"scattergl\"}],\"scattermapbox\":[{\"marker\":{\"colorbar\":{\"outlinewidth\":0,\"ticks\":\"\"}},\"type\":\"scattermapbox\"}],\"scatterpolar\":[{\"marker\":{\"colorbar\":{\"outlinewidth\":0,\"ticks\":\"\"}},\"type\":\"scatterpolar\"}],\"scatterpolargl\":[{\"marker\":{\"colorbar\":{\"outlinewidth\":0,\"ticks\":\"\"}},\"type\":\"scatterpolargl\"}],\"scatterternary\":[{\"marker\":{\"colorbar\":{\"outlinewidth\":0,\"ticks\":\"\"}},\"type\":\"scatterternary\"}],\"surface\":[{\"colorbar\":{\"outlinewidth\":0,\"ticks\":\"\"},\"colorscale\":[[0.0,\"#0d0887\"],[0.1111111111111111,\"#46039f\"],[0.2222222222222222,\"#7201a8\"],[0.3333333333333333,\"#9c179e\"],[0.4444444444444444,\"#bd3786\"],[0.5555555555555556,\"#d8576b\"],[0.6666666666666666,\"#ed7953\"],[0.7777777777777778,\"#fb9f3a\"],[0.8888888888888888,\"#fdca26\"],[1.0,\"#f0f921\"]],\"type\":\"surface\"}],\"table\":[{\"cells\":{\"fill\":{\"color\":\"#EBF0F8\"},\"line\":{\"color\":\"white\"}},\"header\":{\"fill\":{\"color\":\"#C8D4E3\"},\"line\":{\"color\":\"white\"}},\"type\":\"table\"}]},\"layout\":{\"annotationdefaults\":{\"arrowcolor\":\"#2a3f5f\",\"arrowhead\":0,\"arrowwidth\":1},\"autotypenumbers\":\"strict\",\"coloraxis\":{\"colorbar\":{\"outlinewidth\":0,\"ticks\":\"\"}},\"colorscale\":{\"diverging\":[[0,\"#8e0152\"],[0.1,\"#c51b7d\"],[0.2,\"#de77ae\"],[0.3,\"#f1b6da\"],[0.4,\"#fde0ef\"],[0.5,\"#f7f7f7\"],[0.6,\"#e6f5d0\"],[0.7,\"#b8e186\"],[0.8,\"#7fbc41\"],[0.9,\"#4d9221\"],[1,\"#276419\"]],\"sequential\":[[0.0,\"#0d0887\"],[0.1111111111111111,\"#46039f\"],[0.2222222222222222,\"#7201a8\"],[0.3333333333333333,\"#9c179e\"],[0.4444444444444444,\"#bd3786\"],[0.5555555555555556,\"#d8576b\"],[0.6666666666666666,\"#ed7953\"],[0.7777777777777778,\"#fb9f3a\"],[0.8888888888888888,\"#fdca26\"],[1.0,\"#f0f921\"]],\"sequentialminus\":[[0.0,\"#0d0887\"],[0.1111111111111111,\"#46039f\"],[0.2222222222222222,\"#7201a8\"],[0.3333333333333333,\"#9c179e\"],[0.4444444444444444,\"#bd3786\"],[0.5555555555555556,\"#d8576b\"],[0.6666666666666666,\"#ed7953\"],[0.7777777777777778,\"#fb9f3a\"],[0.8888888888888888,\"#fdca26\"],[1.0,\"#f0f921\"]]},\"colorway\":[\"#636efa\",\"#EF553B\",\"#00cc96\",\"#ab63fa\",\"#FFA15A\",\"#19d3f3\",\"#FF6692\",\"#B6E880\",\"#FF97FF\",\"#FECB52\"],\"font\":{\"color\":\"#2a3f5f\"},\"geo\":{\"bgcolor\":\"white\",\"lakecolor\":\"white\",\"landcolor\":\"#E5ECF6\",\"showlakes\":true,\"showland\":true,\"subunitcolor\":\"white\"},\"hoverlabel\":{\"align\":\"left\"},\"hovermode\":\"closest\",\"mapbox\":{\"style\":\"light\"},\"paper_bgcolor\":\"white\",\"plot_bgcolor\":\"#E5ECF6\",\"polar\":{\"angularaxis\":{\"gridcolor\":\"white\",\"linecolor\":\"white\",\"ticks\":\"\"},\"bgcolor\":\"#E5ECF6\",\"radialaxis\":{\"gridcolor\":\"white\",\"linecolor\":\"white\",\"ticks\":\"\"}},\"scene\":{\"xaxis\":{\"backgroundcolor\":\"#E5ECF6\",\"gridcolor\":\"white\",\"gridwidth\":2,\"linecolor\":\"white\",\"showbackground\":true,\"ticks\":\"\",\"zerolinecolor\":\"white\"},\"yaxis\":{\"backgroundcolor\":\"#E5ECF6\",\"gridcolor\":\"white\",\"gridwidth\":2,\"linecolor\":\"white\",\"showbackground\":true,\"ticks\":\"\",\"zerolinecolor\":\"white\"},\"zaxis\":{\"backgroundcolor\":\"#E5ECF6\",\"gridcolor\":\"white\",\"gridwidth\":2,\"linecolor\":\"white\",\"showbackground\":true,\"ticks\":\"\",\"zerolinecolor\":\"white\"}},\"shapedefaults\":{\"line\":{\"color\":\"#2a3f5f\"}},\"ternary\":{\"aaxis\":{\"gridcolor\":\"white\",\"linecolor\":\"white\",\"ticks\":\"\"},\"baxis\":{\"gridcolor\":\"white\",\"linecolor\":\"white\",\"ticks\":\"\"},\"bgcolor\":\"#E5ECF6\",\"caxis\":{\"gridcolor\":\"white\",\"linecolor\":\"white\",\"ticks\":\"\"}},\"title\":{\"x\":0.05},\"xaxis\":{\"automargin\":true,\"gridcolor\":\"white\",\"linecolor\":\"white\",\"ticks\":\"\",\"title\":{\"standoff\":15},\"zerolinecolor\":\"white\",\"zerolinewidth\":2},\"yaxis\":{\"automargin\":true,\"gridcolor\":\"white\",\"linecolor\":\"white\",\"ticks\":\"\",\"title\":{\"standoff\":15},\"zerolinecolor\":\"white\",\"zerolinewidth\":2}}},\"xaxis\":{\"anchor\":\"y\",\"domain\":[0.0,1.0],\"title\":{\"text\":\"activity\"},\"categoryorder\":\"array\",\"categoryarray\":[\"Sleeping\",\"Null\",\"Free time\",\"Eating\",\"Lesson\",\"Travel\",\"Study\",\"Social media,Phone; chat\",\"Watcing Youtube Tv-shows etc.\",\"Work\",\"Selfcare\",\"Social life & Break\"]},\"yaxis\":{\"anchor\":\"x\",\"domain\":[0.0,1.0],\"title\":{\"text\":\"count\"}},\"legend\":{\"title\":{\"text\":\"activity\"},\"tracegroupgap\":0},\"title\":{\"text\":\"Subject_2 - frequency of  activity\"},\"barmode\":\"relative\"},                        {\"responsive\": true}                    ).then(function(){\n",
       "                            \n",
       "var gd = document.getElementById('7b9f0673-bba6-4eea-bfba-ee5224328a9d');\n",
       "var x = new MutationObserver(function (mutations, observer) {{\n",
       "        var display = window.getComputedStyle(gd).display;\n",
       "        if (!display || display === 'none') {{\n",
       "            console.log([gd, 'removed!']);\n",
       "            Plotly.purge(gd);\n",
       "            observer.disconnect();\n",
       "        }}\n",
       "}});\n",
       "\n",
       "// Listen for the removal of the full notebook cells\n",
       "var notebookContainer = gd.closest('#notebook-container');\n",
       "if (notebookContainer) {{\n",
       "    x.observe(notebookContainer, {childList: true});\n",
       "}}\n",
       "\n",
       "// Listen for the clearing of the current output cell\n",
       "var outputEl = gd.closest('.output');\n",
       "if (outputEl) {{\n",
       "    x.observe(outputEl, {childList: true});\n",
       "}}\n",
       "\n",
       "                        })                };                });            </script>        </div>"
      ]
     },
     "metadata": {},
     "output_type": "display_data"
    }
   ],
   "source": [
    "\n",
    "fig = px.bar(df_a, x=\"activity\", y=\"count\", color=\"activity\", title=\"Subject_2 - frequency of  activity\")\n",
    "fig.show()\n"
   ]
  },
  {
   "cell_type": "code",
   "execution_count": 14,
   "metadata": {},
   "outputs": [],
   "source": [
    "df_m = pd.DataFrame(tdf_sub2.mood.value_counts()).reset_index(drop=False)\n",
    "df_m.columns = [\"mood\",\"count\"]\n",
    "# df_m.head()"
   ]
  },
  {
   "cell_type": "code",
   "execution_count": 15,
   "metadata": {},
   "outputs": [
    {
     "data": {
      "application/vnd.plotly.v1+json": {
       "config": {
        "plotlyServerURL": "https://plot.ly"
       },
       "data": [
        {
         "alignmentgroup": "True",
         "hovertemplate": "mood=%{x}<br>count=%{y}<extra></extra>",
         "legendgroup": "missing_val",
         "marker": {
          "color": "#636efa",
          "pattern": {
           "shape": ""
          }
         },
         "name": "missing_val",
         "offsetgroup": "missing_val",
         "orientation": "v",
         "showlegend": true,
         "textposition": "auto",
         "type": "bar",
         "x": [
          "missing_val"
         ],
         "xaxis": "x",
         "y": [
          281
         ],
         "yaxis": "y"
        },
        {
         "alignmentgroup": "True",
         "hovertemplate": "mood=%{x}<br>count=%{y}<extra></extra>",
         "legendgroup": "Fairly happy",
         "marker": {
          "color": "#EF553B",
          "pattern": {
           "shape": ""
          }
         },
         "name": "Fairly happy",
         "offsetgroup": "Fairly happy",
         "orientation": "v",
         "showlegend": true,
         "textposition": "auto",
         "type": "bar",
         "x": [
          "Fairly happy"
         ],
         "xaxis": "x",
         "y": [
          131
         ],
         "yaxis": "y"
        },
        {
         "alignmentgroup": "True",
         "hovertemplate": "mood=%{x}<br>count=%{y}<extra></extra>",
         "legendgroup": "Very happy",
         "marker": {
          "color": "#00cc96",
          "pattern": {
           "shape": ""
          }
         },
         "name": "Very happy",
         "offsetgroup": "Very happy",
         "orientation": "v",
         "showlegend": true,
         "textposition": "auto",
         "type": "bar",
         "x": [
          "Very happy"
         ],
         "xaxis": "x",
         "y": [
          114
         ],
         "yaxis": "y"
        },
        {
         "alignmentgroup": "True",
         "hovertemplate": "mood=%{x}<br>count=%{y}<extra></extra>",
         "legendgroup": "Neutral",
         "marker": {
          "color": "#ab63fa",
          "pattern": {
           "shape": ""
          }
         },
         "name": "Neutral",
         "offsetgroup": "Neutral",
         "orientation": "v",
         "showlegend": true,
         "textposition": "auto",
         "type": "bar",
         "x": [
          "Neutral"
         ],
         "xaxis": "x",
         "y": [
          79
         ],
         "yaxis": "y"
        },
        {
         "alignmentgroup": "True",
         "hovertemplate": "mood=%{x}<br>count=%{y}<extra></extra>",
         "legendgroup": "Very sad",
         "marker": {
          "color": "#FFA15A",
          "pattern": {
           "shape": ""
          }
         },
         "name": "Very sad",
         "offsetgroup": "Very sad",
         "orientation": "v",
         "showlegend": true,
         "textposition": "auto",
         "type": "bar",
         "x": [
          "Very sad"
         ],
         "xaxis": "x",
         "y": [
          45
         ],
         "yaxis": "y"
        },
        {
         "alignmentgroup": "True",
         "hovertemplate": "mood=%{x}<br>count=%{y}<extra></extra>",
         "legendgroup": "Fairly sad",
         "marker": {
          "color": "#19d3f3",
          "pattern": {
           "shape": ""
          }
         },
         "name": "Fairly sad",
         "offsetgroup": "Fairly sad",
         "orientation": "v",
         "showlegend": true,
         "textposition": "auto",
         "type": "bar",
         "x": [
          "Fairly sad"
         ],
         "xaxis": "x",
         "y": [
          22
         ],
         "yaxis": "y"
        }
       ],
       "layout": {
        "barmode": "relative",
        "legend": {
         "title": {
          "text": "mood"
         },
         "tracegroupgap": 0
        },
        "template": {
         "data": {
          "bar": [
           {
            "error_x": {
             "color": "#2a3f5f"
            },
            "error_y": {
             "color": "#2a3f5f"
            },
            "marker": {
             "line": {
              "color": "#E5ECF6",
              "width": 0.5
             },
             "pattern": {
              "fillmode": "overlay",
              "size": 10,
              "solidity": 0.2
             }
            },
            "type": "bar"
           }
          ],
          "barpolar": [
           {
            "marker": {
             "line": {
              "color": "#E5ECF6",
              "width": 0.5
             },
             "pattern": {
              "fillmode": "overlay",
              "size": 10,
              "solidity": 0.2
             }
            },
            "type": "barpolar"
           }
          ],
          "carpet": [
           {
            "aaxis": {
             "endlinecolor": "#2a3f5f",
             "gridcolor": "white",
             "linecolor": "white",
             "minorgridcolor": "white",
             "startlinecolor": "#2a3f5f"
            },
            "baxis": {
             "endlinecolor": "#2a3f5f",
             "gridcolor": "white",
             "linecolor": "white",
             "minorgridcolor": "white",
             "startlinecolor": "#2a3f5f"
            },
            "type": "carpet"
           }
          ],
          "choropleth": [
           {
            "colorbar": {
             "outlinewidth": 0,
             "ticks": ""
            },
            "type": "choropleth"
           }
          ],
          "contour": [
           {
            "colorbar": {
             "outlinewidth": 0,
             "ticks": ""
            },
            "colorscale": [
             [
              0,
              "#0d0887"
             ],
             [
              0.1111111111111111,
              "#46039f"
             ],
             [
              0.2222222222222222,
              "#7201a8"
             ],
             [
              0.3333333333333333,
              "#9c179e"
             ],
             [
              0.4444444444444444,
              "#bd3786"
             ],
             [
              0.5555555555555556,
              "#d8576b"
             ],
             [
              0.6666666666666666,
              "#ed7953"
             ],
             [
              0.7777777777777778,
              "#fb9f3a"
             ],
             [
              0.8888888888888888,
              "#fdca26"
             ],
             [
              1,
              "#f0f921"
             ]
            ],
            "type": "contour"
           }
          ],
          "contourcarpet": [
           {
            "colorbar": {
             "outlinewidth": 0,
             "ticks": ""
            },
            "type": "contourcarpet"
           }
          ],
          "heatmap": [
           {
            "colorbar": {
             "outlinewidth": 0,
             "ticks": ""
            },
            "colorscale": [
             [
              0,
              "#0d0887"
             ],
             [
              0.1111111111111111,
              "#46039f"
             ],
             [
              0.2222222222222222,
              "#7201a8"
             ],
             [
              0.3333333333333333,
              "#9c179e"
             ],
             [
              0.4444444444444444,
              "#bd3786"
             ],
             [
              0.5555555555555556,
              "#d8576b"
             ],
             [
              0.6666666666666666,
              "#ed7953"
             ],
             [
              0.7777777777777778,
              "#fb9f3a"
             ],
             [
              0.8888888888888888,
              "#fdca26"
             ],
             [
              1,
              "#f0f921"
             ]
            ],
            "type": "heatmap"
           }
          ],
          "heatmapgl": [
           {
            "colorbar": {
             "outlinewidth": 0,
             "ticks": ""
            },
            "colorscale": [
             [
              0,
              "#0d0887"
             ],
             [
              0.1111111111111111,
              "#46039f"
             ],
             [
              0.2222222222222222,
              "#7201a8"
             ],
             [
              0.3333333333333333,
              "#9c179e"
             ],
             [
              0.4444444444444444,
              "#bd3786"
             ],
             [
              0.5555555555555556,
              "#d8576b"
             ],
             [
              0.6666666666666666,
              "#ed7953"
             ],
             [
              0.7777777777777778,
              "#fb9f3a"
             ],
             [
              0.8888888888888888,
              "#fdca26"
             ],
             [
              1,
              "#f0f921"
             ]
            ],
            "type": "heatmapgl"
           }
          ],
          "histogram": [
           {
            "marker": {
             "pattern": {
              "fillmode": "overlay",
              "size": 10,
              "solidity": 0.2
             }
            },
            "type": "histogram"
           }
          ],
          "histogram2d": [
           {
            "colorbar": {
             "outlinewidth": 0,
             "ticks": ""
            },
            "colorscale": [
             [
              0,
              "#0d0887"
             ],
             [
              0.1111111111111111,
              "#46039f"
             ],
             [
              0.2222222222222222,
              "#7201a8"
             ],
             [
              0.3333333333333333,
              "#9c179e"
             ],
             [
              0.4444444444444444,
              "#bd3786"
             ],
             [
              0.5555555555555556,
              "#d8576b"
             ],
             [
              0.6666666666666666,
              "#ed7953"
             ],
             [
              0.7777777777777778,
              "#fb9f3a"
             ],
             [
              0.8888888888888888,
              "#fdca26"
             ],
             [
              1,
              "#f0f921"
             ]
            ],
            "type": "histogram2d"
           }
          ],
          "histogram2dcontour": [
           {
            "colorbar": {
             "outlinewidth": 0,
             "ticks": ""
            },
            "colorscale": [
             [
              0,
              "#0d0887"
             ],
             [
              0.1111111111111111,
              "#46039f"
             ],
             [
              0.2222222222222222,
              "#7201a8"
             ],
             [
              0.3333333333333333,
              "#9c179e"
             ],
             [
              0.4444444444444444,
              "#bd3786"
             ],
             [
              0.5555555555555556,
              "#d8576b"
             ],
             [
              0.6666666666666666,
              "#ed7953"
             ],
             [
              0.7777777777777778,
              "#fb9f3a"
             ],
             [
              0.8888888888888888,
              "#fdca26"
             ],
             [
              1,
              "#f0f921"
             ]
            ],
            "type": "histogram2dcontour"
           }
          ],
          "mesh3d": [
           {
            "colorbar": {
             "outlinewidth": 0,
             "ticks": ""
            },
            "type": "mesh3d"
           }
          ],
          "parcoords": [
           {
            "line": {
             "colorbar": {
              "outlinewidth": 0,
              "ticks": ""
             }
            },
            "type": "parcoords"
           }
          ],
          "pie": [
           {
            "automargin": true,
            "type": "pie"
           }
          ],
          "scatter": [
           {
            "marker": {
             "colorbar": {
              "outlinewidth": 0,
              "ticks": ""
             }
            },
            "type": "scatter"
           }
          ],
          "scatter3d": [
           {
            "line": {
             "colorbar": {
              "outlinewidth": 0,
              "ticks": ""
             }
            },
            "marker": {
             "colorbar": {
              "outlinewidth": 0,
              "ticks": ""
             }
            },
            "type": "scatter3d"
           }
          ],
          "scattercarpet": [
           {
            "marker": {
             "colorbar": {
              "outlinewidth": 0,
              "ticks": ""
             }
            },
            "type": "scattercarpet"
           }
          ],
          "scattergeo": [
           {
            "marker": {
             "colorbar": {
              "outlinewidth": 0,
              "ticks": ""
             }
            },
            "type": "scattergeo"
           }
          ],
          "scattergl": [
           {
            "marker": {
             "colorbar": {
              "outlinewidth": 0,
              "ticks": ""
             }
            },
            "type": "scattergl"
           }
          ],
          "scattermapbox": [
           {
            "marker": {
             "colorbar": {
              "outlinewidth": 0,
              "ticks": ""
             }
            },
            "type": "scattermapbox"
           }
          ],
          "scatterpolar": [
           {
            "marker": {
             "colorbar": {
              "outlinewidth": 0,
              "ticks": ""
             }
            },
            "type": "scatterpolar"
           }
          ],
          "scatterpolargl": [
           {
            "marker": {
             "colorbar": {
              "outlinewidth": 0,
              "ticks": ""
             }
            },
            "type": "scatterpolargl"
           }
          ],
          "scatterternary": [
           {
            "marker": {
             "colorbar": {
              "outlinewidth": 0,
              "ticks": ""
             }
            },
            "type": "scatterternary"
           }
          ],
          "surface": [
           {
            "colorbar": {
             "outlinewidth": 0,
             "ticks": ""
            },
            "colorscale": [
             [
              0,
              "#0d0887"
             ],
             [
              0.1111111111111111,
              "#46039f"
             ],
             [
              0.2222222222222222,
              "#7201a8"
             ],
             [
              0.3333333333333333,
              "#9c179e"
             ],
             [
              0.4444444444444444,
              "#bd3786"
             ],
             [
              0.5555555555555556,
              "#d8576b"
             ],
             [
              0.6666666666666666,
              "#ed7953"
             ],
             [
              0.7777777777777778,
              "#fb9f3a"
             ],
             [
              0.8888888888888888,
              "#fdca26"
             ],
             [
              1,
              "#f0f921"
             ]
            ],
            "type": "surface"
           }
          ],
          "table": [
           {
            "cells": {
             "fill": {
              "color": "#EBF0F8"
             },
             "line": {
              "color": "white"
             }
            },
            "header": {
             "fill": {
              "color": "#C8D4E3"
             },
             "line": {
              "color": "white"
             }
            },
            "type": "table"
           }
          ]
         },
         "layout": {
          "annotationdefaults": {
           "arrowcolor": "#2a3f5f",
           "arrowhead": 0,
           "arrowwidth": 1
          },
          "autotypenumbers": "strict",
          "coloraxis": {
           "colorbar": {
            "outlinewidth": 0,
            "ticks": ""
           }
          },
          "colorscale": {
           "diverging": [
            [
             0,
             "#8e0152"
            ],
            [
             0.1,
             "#c51b7d"
            ],
            [
             0.2,
             "#de77ae"
            ],
            [
             0.3,
             "#f1b6da"
            ],
            [
             0.4,
             "#fde0ef"
            ],
            [
             0.5,
             "#f7f7f7"
            ],
            [
             0.6,
             "#e6f5d0"
            ],
            [
             0.7,
             "#b8e186"
            ],
            [
             0.8,
             "#7fbc41"
            ],
            [
             0.9,
             "#4d9221"
            ],
            [
             1,
             "#276419"
            ]
           ],
           "sequential": [
            [
             0,
             "#0d0887"
            ],
            [
             0.1111111111111111,
             "#46039f"
            ],
            [
             0.2222222222222222,
             "#7201a8"
            ],
            [
             0.3333333333333333,
             "#9c179e"
            ],
            [
             0.4444444444444444,
             "#bd3786"
            ],
            [
             0.5555555555555556,
             "#d8576b"
            ],
            [
             0.6666666666666666,
             "#ed7953"
            ],
            [
             0.7777777777777778,
             "#fb9f3a"
            ],
            [
             0.8888888888888888,
             "#fdca26"
            ],
            [
             1,
             "#f0f921"
            ]
           ],
           "sequentialminus": [
            [
             0,
             "#0d0887"
            ],
            [
             0.1111111111111111,
             "#46039f"
            ],
            [
             0.2222222222222222,
             "#7201a8"
            ],
            [
             0.3333333333333333,
             "#9c179e"
            ],
            [
             0.4444444444444444,
             "#bd3786"
            ],
            [
             0.5555555555555556,
             "#d8576b"
            ],
            [
             0.6666666666666666,
             "#ed7953"
            ],
            [
             0.7777777777777778,
             "#fb9f3a"
            ],
            [
             0.8888888888888888,
             "#fdca26"
            ],
            [
             1,
             "#f0f921"
            ]
           ]
          },
          "colorway": [
           "#636efa",
           "#EF553B",
           "#00cc96",
           "#ab63fa",
           "#FFA15A",
           "#19d3f3",
           "#FF6692",
           "#B6E880",
           "#FF97FF",
           "#FECB52"
          ],
          "font": {
           "color": "#2a3f5f"
          },
          "geo": {
           "bgcolor": "white",
           "lakecolor": "white",
           "landcolor": "#E5ECF6",
           "showlakes": true,
           "showland": true,
           "subunitcolor": "white"
          },
          "hoverlabel": {
           "align": "left"
          },
          "hovermode": "closest",
          "mapbox": {
           "style": "light"
          },
          "paper_bgcolor": "white",
          "plot_bgcolor": "#E5ECF6",
          "polar": {
           "angularaxis": {
            "gridcolor": "white",
            "linecolor": "white",
            "ticks": ""
           },
           "bgcolor": "#E5ECF6",
           "radialaxis": {
            "gridcolor": "white",
            "linecolor": "white",
            "ticks": ""
           }
          },
          "scene": {
           "xaxis": {
            "backgroundcolor": "#E5ECF6",
            "gridcolor": "white",
            "gridwidth": 2,
            "linecolor": "white",
            "showbackground": true,
            "ticks": "",
            "zerolinecolor": "white"
           },
           "yaxis": {
            "backgroundcolor": "#E5ECF6",
            "gridcolor": "white",
            "gridwidth": 2,
            "linecolor": "white",
            "showbackground": true,
            "ticks": "",
            "zerolinecolor": "white"
           },
           "zaxis": {
            "backgroundcolor": "#E5ECF6",
            "gridcolor": "white",
            "gridwidth": 2,
            "linecolor": "white",
            "showbackground": true,
            "ticks": "",
            "zerolinecolor": "white"
           }
          },
          "shapedefaults": {
           "line": {
            "color": "#2a3f5f"
           }
          },
          "ternary": {
           "aaxis": {
            "gridcolor": "white",
            "linecolor": "white",
            "ticks": ""
           },
           "baxis": {
            "gridcolor": "white",
            "linecolor": "white",
            "ticks": ""
           },
           "bgcolor": "#E5ECF6",
           "caxis": {
            "gridcolor": "white",
            "linecolor": "white",
            "ticks": ""
           }
          },
          "title": {
           "x": 0.05
          },
          "xaxis": {
           "automargin": true,
           "gridcolor": "white",
           "linecolor": "white",
           "ticks": "",
           "title": {
            "standoff": 15
           },
           "zerolinecolor": "white",
           "zerolinewidth": 2
          },
          "yaxis": {
           "automargin": true,
           "gridcolor": "white",
           "linecolor": "white",
           "ticks": "",
           "title": {
            "standoff": 15
           },
           "zerolinecolor": "white",
           "zerolinewidth": 2
          }
         }
        },
        "title": {
         "text": "Subject-2 frequency of  Mood"
        },
        "xaxis": {
         "anchor": "y",
         "categoryarray": [
          "missing_val",
          "Fairly happy",
          "Very happy",
          "Neutral",
          "Very sad",
          "Fairly sad"
         ],
         "categoryorder": "array",
         "domain": [
          0,
          1
         ],
         "title": {
          "text": "mood"
         }
        },
        "yaxis": {
         "anchor": "x",
         "domain": [
          0,
          1
         ],
         "title": {
          "text": "count"
         }
        }
       }
      },
      "text/html": [
       "<div>                            <div id=\"8c2a30b7-80c2-46f6-ba23-8befef84b90b\" class=\"plotly-graph-div\" style=\"height:525px; width:100%;\"></div>            <script type=\"text/javascript\">                require([\"plotly\"], function(Plotly) {                    window.PLOTLYENV=window.PLOTLYENV || {};                                    if (document.getElementById(\"8c2a30b7-80c2-46f6-ba23-8befef84b90b\")) {                    Plotly.newPlot(                        \"8c2a30b7-80c2-46f6-ba23-8befef84b90b\",                        [{\"alignmentgroup\":\"True\",\"hovertemplate\":\"mood=%{x}<br>count=%{y}<extra></extra>\",\"legendgroup\":\"missing_val\",\"marker\":{\"color\":\"#636efa\",\"pattern\":{\"shape\":\"\"}},\"name\":\"missing_val\",\"offsetgroup\":\"missing_val\",\"orientation\":\"v\",\"showlegend\":true,\"textposition\":\"auto\",\"x\":[\"missing_val\"],\"xaxis\":\"x\",\"y\":[281],\"yaxis\":\"y\",\"type\":\"bar\"},{\"alignmentgroup\":\"True\",\"hovertemplate\":\"mood=%{x}<br>count=%{y}<extra></extra>\",\"legendgroup\":\"Fairly happy\",\"marker\":{\"color\":\"#EF553B\",\"pattern\":{\"shape\":\"\"}},\"name\":\"Fairly happy\",\"offsetgroup\":\"Fairly happy\",\"orientation\":\"v\",\"showlegend\":true,\"textposition\":\"auto\",\"x\":[\"Fairly happy\"],\"xaxis\":\"x\",\"y\":[131],\"yaxis\":\"y\",\"type\":\"bar\"},{\"alignmentgroup\":\"True\",\"hovertemplate\":\"mood=%{x}<br>count=%{y}<extra></extra>\",\"legendgroup\":\"Very happy\",\"marker\":{\"color\":\"#00cc96\",\"pattern\":{\"shape\":\"\"}},\"name\":\"Very happy\",\"offsetgroup\":\"Very happy\",\"orientation\":\"v\",\"showlegend\":true,\"textposition\":\"auto\",\"x\":[\"Very happy\"],\"xaxis\":\"x\",\"y\":[114],\"yaxis\":\"y\",\"type\":\"bar\"},{\"alignmentgroup\":\"True\",\"hovertemplate\":\"mood=%{x}<br>count=%{y}<extra></extra>\",\"legendgroup\":\"Neutral\",\"marker\":{\"color\":\"#ab63fa\",\"pattern\":{\"shape\":\"\"}},\"name\":\"Neutral\",\"offsetgroup\":\"Neutral\",\"orientation\":\"v\",\"showlegend\":true,\"textposition\":\"auto\",\"x\":[\"Neutral\"],\"xaxis\":\"x\",\"y\":[79],\"yaxis\":\"y\",\"type\":\"bar\"},{\"alignmentgroup\":\"True\",\"hovertemplate\":\"mood=%{x}<br>count=%{y}<extra></extra>\",\"legendgroup\":\"Very sad\",\"marker\":{\"color\":\"#FFA15A\",\"pattern\":{\"shape\":\"\"}},\"name\":\"Very sad\",\"offsetgroup\":\"Very sad\",\"orientation\":\"v\",\"showlegend\":true,\"textposition\":\"auto\",\"x\":[\"Very sad\"],\"xaxis\":\"x\",\"y\":[45],\"yaxis\":\"y\",\"type\":\"bar\"},{\"alignmentgroup\":\"True\",\"hovertemplate\":\"mood=%{x}<br>count=%{y}<extra></extra>\",\"legendgroup\":\"Fairly sad\",\"marker\":{\"color\":\"#19d3f3\",\"pattern\":{\"shape\":\"\"}},\"name\":\"Fairly sad\",\"offsetgroup\":\"Fairly sad\",\"orientation\":\"v\",\"showlegend\":true,\"textposition\":\"auto\",\"x\":[\"Fairly sad\"],\"xaxis\":\"x\",\"y\":[22],\"yaxis\":\"y\",\"type\":\"bar\"}],                        {\"template\":{\"data\":{\"bar\":[{\"error_x\":{\"color\":\"#2a3f5f\"},\"error_y\":{\"color\":\"#2a3f5f\"},\"marker\":{\"line\":{\"color\":\"#E5ECF6\",\"width\":0.5},\"pattern\":{\"fillmode\":\"overlay\",\"size\":10,\"solidity\":0.2}},\"type\":\"bar\"}],\"barpolar\":[{\"marker\":{\"line\":{\"color\":\"#E5ECF6\",\"width\":0.5},\"pattern\":{\"fillmode\":\"overlay\",\"size\":10,\"solidity\":0.2}},\"type\":\"barpolar\"}],\"carpet\":[{\"aaxis\":{\"endlinecolor\":\"#2a3f5f\",\"gridcolor\":\"white\",\"linecolor\":\"white\",\"minorgridcolor\":\"white\",\"startlinecolor\":\"#2a3f5f\"},\"baxis\":{\"endlinecolor\":\"#2a3f5f\",\"gridcolor\":\"white\",\"linecolor\":\"white\",\"minorgridcolor\":\"white\",\"startlinecolor\":\"#2a3f5f\"},\"type\":\"carpet\"}],\"choropleth\":[{\"colorbar\":{\"outlinewidth\":0,\"ticks\":\"\"},\"type\":\"choropleth\"}],\"contour\":[{\"colorbar\":{\"outlinewidth\":0,\"ticks\":\"\"},\"colorscale\":[[0.0,\"#0d0887\"],[0.1111111111111111,\"#46039f\"],[0.2222222222222222,\"#7201a8\"],[0.3333333333333333,\"#9c179e\"],[0.4444444444444444,\"#bd3786\"],[0.5555555555555556,\"#d8576b\"],[0.6666666666666666,\"#ed7953\"],[0.7777777777777778,\"#fb9f3a\"],[0.8888888888888888,\"#fdca26\"],[1.0,\"#f0f921\"]],\"type\":\"contour\"}],\"contourcarpet\":[{\"colorbar\":{\"outlinewidth\":0,\"ticks\":\"\"},\"type\":\"contourcarpet\"}],\"heatmap\":[{\"colorbar\":{\"outlinewidth\":0,\"ticks\":\"\"},\"colorscale\":[[0.0,\"#0d0887\"],[0.1111111111111111,\"#46039f\"],[0.2222222222222222,\"#7201a8\"],[0.3333333333333333,\"#9c179e\"],[0.4444444444444444,\"#bd3786\"],[0.5555555555555556,\"#d8576b\"],[0.6666666666666666,\"#ed7953\"],[0.7777777777777778,\"#fb9f3a\"],[0.8888888888888888,\"#fdca26\"],[1.0,\"#f0f921\"]],\"type\":\"heatmap\"}],\"heatmapgl\":[{\"colorbar\":{\"outlinewidth\":0,\"ticks\":\"\"},\"colorscale\":[[0.0,\"#0d0887\"],[0.1111111111111111,\"#46039f\"],[0.2222222222222222,\"#7201a8\"],[0.3333333333333333,\"#9c179e\"],[0.4444444444444444,\"#bd3786\"],[0.5555555555555556,\"#d8576b\"],[0.6666666666666666,\"#ed7953\"],[0.7777777777777778,\"#fb9f3a\"],[0.8888888888888888,\"#fdca26\"],[1.0,\"#f0f921\"]],\"type\":\"heatmapgl\"}],\"histogram\":[{\"marker\":{\"pattern\":{\"fillmode\":\"overlay\",\"size\":10,\"solidity\":0.2}},\"type\":\"histogram\"}],\"histogram2d\":[{\"colorbar\":{\"outlinewidth\":0,\"ticks\":\"\"},\"colorscale\":[[0.0,\"#0d0887\"],[0.1111111111111111,\"#46039f\"],[0.2222222222222222,\"#7201a8\"],[0.3333333333333333,\"#9c179e\"],[0.4444444444444444,\"#bd3786\"],[0.5555555555555556,\"#d8576b\"],[0.6666666666666666,\"#ed7953\"],[0.7777777777777778,\"#fb9f3a\"],[0.8888888888888888,\"#fdca26\"],[1.0,\"#f0f921\"]],\"type\":\"histogram2d\"}],\"histogram2dcontour\":[{\"colorbar\":{\"outlinewidth\":0,\"ticks\":\"\"},\"colorscale\":[[0.0,\"#0d0887\"],[0.1111111111111111,\"#46039f\"],[0.2222222222222222,\"#7201a8\"],[0.3333333333333333,\"#9c179e\"],[0.4444444444444444,\"#bd3786\"],[0.5555555555555556,\"#d8576b\"],[0.6666666666666666,\"#ed7953\"],[0.7777777777777778,\"#fb9f3a\"],[0.8888888888888888,\"#fdca26\"],[1.0,\"#f0f921\"]],\"type\":\"histogram2dcontour\"}],\"mesh3d\":[{\"colorbar\":{\"outlinewidth\":0,\"ticks\":\"\"},\"type\":\"mesh3d\"}],\"parcoords\":[{\"line\":{\"colorbar\":{\"outlinewidth\":0,\"ticks\":\"\"}},\"type\":\"parcoords\"}],\"pie\":[{\"automargin\":true,\"type\":\"pie\"}],\"scatter\":[{\"marker\":{\"colorbar\":{\"outlinewidth\":0,\"ticks\":\"\"}},\"type\":\"scatter\"}],\"scatter3d\":[{\"line\":{\"colorbar\":{\"outlinewidth\":0,\"ticks\":\"\"}},\"marker\":{\"colorbar\":{\"outlinewidth\":0,\"ticks\":\"\"}},\"type\":\"scatter3d\"}],\"scattercarpet\":[{\"marker\":{\"colorbar\":{\"outlinewidth\":0,\"ticks\":\"\"}},\"type\":\"scattercarpet\"}],\"scattergeo\":[{\"marker\":{\"colorbar\":{\"outlinewidth\":0,\"ticks\":\"\"}},\"type\":\"scattergeo\"}],\"scattergl\":[{\"marker\":{\"colorbar\":{\"outlinewidth\":0,\"ticks\":\"\"}},\"type\":\"scattergl\"}],\"scattermapbox\":[{\"marker\":{\"colorbar\":{\"outlinewidth\":0,\"ticks\":\"\"}},\"type\":\"scattermapbox\"}],\"scatterpolar\":[{\"marker\":{\"colorbar\":{\"outlinewidth\":0,\"ticks\":\"\"}},\"type\":\"scatterpolar\"}],\"scatterpolargl\":[{\"marker\":{\"colorbar\":{\"outlinewidth\":0,\"ticks\":\"\"}},\"type\":\"scatterpolargl\"}],\"scatterternary\":[{\"marker\":{\"colorbar\":{\"outlinewidth\":0,\"ticks\":\"\"}},\"type\":\"scatterternary\"}],\"surface\":[{\"colorbar\":{\"outlinewidth\":0,\"ticks\":\"\"},\"colorscale\":[[0.0,\"#0d0887\"],[0.1111111111111111,\"#46039f\"],[0.2222222222222222,\"#7201a8\"],[0.3333333333333333,\"#9c179e\"],[0.4444444444444444,\"#bd3786\"],[0.5555555555555556,\"#d8576b\"],[0.6666666666666666,\"#ed7953\"],[0.7777777777777778,\"#fb9f3a\"],[0.8888888888888888,\"#fdca26\"],[1.0,\"#f0f921\"]],\"type\":\"surface\"}],\"table\":[{\"cells\":{\"fill\":{\"color\":\"#EBF0F8\"},\"line\":{\"color\":\"white\"}},\"header\":{\"fill\":{\"color\":\"#C8D4E3\"},\"line\":{\"color\":\"white\"}},\"type\":\"table\"}]},\"layout\":{\"annotationdefaults\":{\"arrowcolor\":\"#2a3f5f\",\"arrowhead\":0,\"arrowwidth\":1},\"autotypenumbers\":\"strict\",\"coloraxis\":{\"colorbar\":{\"outlinewidth\":0,\"ticks\":\"\"}},\"colorscale\":{\"diverging\":[[0,\"#8e0152\"],[0.1,\"#c51b7d\"],[0.2,\"#de77ae\"],[0.3,\"#f1b6da\"],[0.4,\"#fde0ef\"],[0.5,\"#f7f7f7\"],[0.6,\"#e6f5d0\"],[0.7,\"#b8e186\"],[0.8,\"#7fbc41\"],[0.9,\"#4d9221\"],[1,\"#276419\"]],\"sequential\":[[0.0,\"#0d0887\"],[0.1111111111111111,\"#46039f\"],[0.2222222222222222,\"#7201a8\"],[0.3333333333333333,\"#9c179e\"],[0.4444444444444444,\"#bd3786\"],[0.5555555555555556,\"#d8576b\"],[0.6666666666666666,\"#ed7953\"],[0.7777777777777778,\"#fb9f3a\"],[0.8888888888888888,\"#fdca26\"],[1.0,\"#f0f921\"]],\"sequentialminus\":[[0.0,\"#0d0887\"],[0.1111111111111111,\"#46039f\"],[0.2222222222222222,\"#7201a8\"],[0.3333333333333333,\"#9c179e\"],[0.4444444444444444,\"#bd3786\"],[0.5555555555555556,\"#d8576b\"],[0.6666666666666666,\"#ed7953\"],[0.7777777777777778,\"#fb9f3a\"],[0.8888888888888888,\"#fdca26\"],[1.0,\"#f0f921\"]]},\"colorway\":[\"#636efa\",\"#EF553B\",\"#00cc96\",\"#ab63fa\",\"#FFA15A\",\"#19d3f3\",\"#FF6692\",\"#B6E880\",\"#FF97FF\",\"#FECB52\"],\"font\":{\"color\":\"#2a3f5f\"},\"geo\":{\"bgcolor\":\"white\",\"lakecolor\":\"white\",\"landcolor\":\"#E5ECF6\",\"showlakes\":true,\"showland\":true,\"subunitcolor\":\"white\"},\"hoverlabel\":{\"align\":\"left\"},\"hovermode\":\"closest\",\"mapbox\":{\"style\":\"light\"},\"paper_bgcolor\":\"white\",\"plot_bgcolor\":\"#E5ECF6\",\"polar\":{\"angularaxis\":{\"gridcolor\":\"white\",\"linecolor\":\"white\",\"ticks\":\"\"},\"bgcolor\":\"#E5ECF6\",\"radialaxis\":{\"gridcolor\":\"white\",\"linecolor\":\"white\",\"ticks\":\"\"}},\"scene\":{\"xaxis\":{\"backgroundcolor\":\"#E5ECF6\",\"gridcolor\":\"white\",\"gridwidth\":2,\"linecolor\":\"white\",\"showbackground\":true,\"ticks\":\"\",\"zerolinecolor\":\"white\"},\"yaxis\":{\"backgroundcolor\":\"#E5ECF6\",\"gridcolor\":\"white\",\"gridwidth\":2,\"linecolor\":\"white\",\"showbackground\":true,\"ticks\":\"\",\"zerolinecolor\":\"white\"},\"zaxis\":{\"backgroundcolor\":\"#E5ECF6\",\"gridcolor\":\"white\",\"gridwidth\":2,\"linecolor\":\"white\",\"showbackground\":true,\"ticks\":\"\",\"zerolinecolor\":\"white\"}},\"shapedefaults\":{\"line\":{\"color\":\"#2a3f5f\"}},\"ternary\":{\"aaxis\":{\"gridcolor\":\"white\",\"linecolor\":\"white\",\"ticks\":\"\"},\"baxis\":{\"gridcolor\":\"white\",\"linecolor\":\"white\",\"ticks\":\"\"},\"bgcolor\":\"#E5ECF6\",\"caxis\":{\"gridcolor\":\"white\",\"linecolor\":\"white\",\"ticks\":\"\"}},\"title\":{\"x\":0.05},\"xaxis\":{\"automargin\":true,\"gridcolor\":\"white\",\"linecolor\":\"white\",\"ticks\":\"\",\"title\":{\"standoff\":15},\"zerolinecolor\":\"white\",\"zerolinewidth\":2},\"yaxis\":{\"automargin\":true,\"gridcolor\":\"white\",\"linecolor\":\"white\",\"ticks\":\"\",\"title\":{\"standoff\":15},\"zerolinecolor\":\"white\",\"zerolinewidth\":2}}},\"xaxis\":{\"anchor\":\"y\",\"domain\":[0.0,1.0],\"title\":{\"text\":\"mood\"},\"categoryorder\":\"array\",\"categoryarray\":[\"missing_val\",\"Fairly happy\",\"Very happy\",\"Neutral\",\"Very sad\",\"Fairly sad\"]},\"yaxis\":{\"anchor\":\"x\",\"domain\":[0.0,1.0],\"title\":{\"text\":\"count\"}},\"legend\":{\"title\":{\"text\":\"mood\"},\"tracegroupgap\":0},\"title\":{\"text\":\"Subject-2 frequency of  Mood\"},\"barmode\":\"relative\"},                        {\"responsive\": true}                    ).then(function(){\n",
       "                            \n",
       "var gd = document.getElementById('8c2a30b7-80c2-46f6-ba23-8befef84b90b');\n",
       "var x = new MutationObserver(function (mutations, observer) {{\n",
       "        var display = window.getComputedStyle(gd).display;\n",
       "        if (!display || display === 'none') {{\n",
       "            console.log([gd, 'removed!']);\n",
       "            Plotly.purge(gd);\n",
       "            observer.disconnect();\n",
       "        }}\n",
       "}});\n",
       "\n",
       "// Listen for the removal of the full notebook cells\n",
       "var notebookContainer = gd.closest('#notebook-container');\n",
       "if (notebookContainer) {{\n",
       "    x.observe(notebookContainer, {childList: true});\n",
       "}}\n",
       "\n",
       "// Listen for the clearing of the current output cell\n",
       "var outputEl = gd.closest('.output');\n",
       "if (outputEl) {{\n",
       "    x.observe(outputEl, {childList: true});\n",
       "}}\n",
       "\n",
       "                        })                };                });            </script>        </div>"
      ]
     },
     "metadata": {},
     "output_type": "display_data"
    }
   ],
   "source": [
    "\n",
    "fig = px.bar(df_m, x=\"mood\", y=\"count\", color=\"mood\", title=\"Subject-2 frequency of  Mood\")\n",
    "fig.show()"
   ]
  },
  {
   "cell_type": "code",
   "execution_count": 17,
   "metadata": {},
   "outputs": [],
   "source": [
    "df_f = pd.DataFrame(tdf_sub2.with_who.value_counts()).reset_index(drop=False)\n",
    "df_f.columns = [\"with_who\",\"count\"]\n",
    "# df_f.head()"
   ]
  },
  {
   "cell_type": "code",
   "execution_count": 18,
   "metadata": {},
   "outputs": [
    {
     "data": {
      "application/vnd.plotly.v1+json": {
       "config": {
        "plotlyServerURL": "https://plot.ly"
       },
       "data": [
        {
         "alignmentgroup": "True",
         "hovertemplate": "with_who=%{x}<br>count=%{y}<extra></extra>",
         "legendgroup": "Alone",
         "marker": {
          "color": "#636efa",
          "pattern": {
           "shape": ""
          }
         },
         "name": "Alone",
         "offsetgroup": "Alone",
         "orientation": "v",
         "showlegend": true,
         "textposition": "auto",
         "type": "bar",
         "x": [
          "Alone"
         ],
         "xaxis": "x",
         "y": [
          467
         ],
         "yaxis": "y"
        },
        {
         "alignmentgroup": "True",
         "hovertemplate": "with_who=%{x}<br>count=%{y}<extra></extra>",
         "legendgroup": "missing_val",
         "marker": {
          "color": "#EF553B",
          "pattern": {
           "shape": ""
          }
         },
         "name": "missing_val",
         "offsetgroup": "missing_val",
         "orientation": "v",
         "showlegend": true,
         "textposition": "auto",
         "type": "bar",
         "x": [
          "missing_val"
         ],
         "xaxis": "x",
         "y": [
          85
         ],
         "yaxis": "y"
        },
        {
         "alignmentgroup": "True",
         "hovertemplate": "with_who=%{x}<br>count=%{y}<extra></extra>",
         "legendgroup": "Classmate(s)",
         "marker": {
          "color": "#00cc96",
          "pattern": {
           "shape": ""
          }
         },
         "name": "Classmate(s)",
         "offsetgroup": "Classmate(s)",
         "orientation": "v",
         "showlegend": true,
         "textposition": "auto",
         "type": "bar",
         "x": [
          "Classmate(s)"
         ],
         "xaxis": "x",
         "y": [
          47
         ],
         "yaxis": "y"
        },
        {
         "alignmentgroup": "True",
         "hovertemplate": "with_who=%{x}<br>count=%{y}<extra></extra>",
         "legendgroup": "Friend(s)",
         "marker": {
          "color": "#ab63fa",
          "pattern": {
           "shape": ""
          }
         },
         "name": "Friend(s)",
         "offsetgroup": "Friend(s)",
         "orientation": "v",
         "showlegend": true,
         "textposition": "auto",
         "type": "bar",
         "x": [
          "Friend(s)"
         ],
         "xaxis": "x",
         "y": [
          40
         ],
         "yaxis": "y"
        },
        {
         "alignmentgroup": "True",
         "hovertemplate": "with_who=%{x}<br>count=%{y}<extra></extra>",
         "legendgroup": "Relative(s)",
         "marker": {
          "color": "#FFA15A",
          "pattern": {
           "shape": ""
          }
         },
         "name": "Relative(s)",
         "offsetgroup": "Relative(s)",
         "orientation": "v",
         "showlegend": true,
         "textposition": "auto",
         "type": "bar",
         "x": [
          "Relative(s)"
         ],
         "xaxis": "x",
         "y": [
          18
         ],
         "yaxis": "y"
        },
        {
         "alignmentgroup": "True",
         "hovertemplate": "with_who=%{x}<br>count=%{y}<extra></extra>",
         "legendgroup": "Roommate(s)",
         "marker": {
          "color": "#19d3f3",
          "pattern": {
           "shape": ""
          }
         },
         "name": "Roommate(s)",
         "offsetgroup": "Roommate(s)",
         "orientation": "v",
         "showlegend": true,
         "textposition": "auto",
         "type": "bar",
         "x": [
          "Roommate(s)"
         ],
         "xaxis": "x",
         "y": [
          15
         ],
         "yaxis": "y"
        }
       ],
       "layout": {
        "barmode": "relative",
        "legend": {
         "title": {
          "text": "with_who"
         },
         "tracegroupgap": 0
        },
        "template": {
         "data": {
          "bar": [
           {
            "error_x": {
             "color": "#2a3f5f"
            },
            "error_y": {
             "color": "#2a3f5f"
            },
            "marker": {
             "line": {
              "color": "#E5ECF6",
              "width": 0.5
             },
             "pattern": {
              "fillmode": "overlay",
              "size": 10,
              "solidity": 0.2
             }
            },
            "type": "bar"
           }
          ],
          "barpolar": [
           {
            "marker": {
             "line": {
              "color": "#E5ECF6",
              "width": 0.5
             },
             "pattern": {
              "fillmode": "overlay",
              "size": 10,
              "solidity": 0.2
             }
            },
            "type": "barpolar"
           }
          ],
          "carpet": [
           {
            "aaxis": {
             "endlinecolor": "#2a3f5f",
             "gridcolor": "white",
             "linecolor": "white",
             "minorgridcolor": "white",
             "startlinecolor": "#2a3f5f"
            },
            "baxis": {
             "endlinecolor": "#2a3f5f",
             "gridcolor": "white",
             "linecolor": "white",
             "minorgridcolor": "white",
             "startlinecolor": "#2a3f5f"
            },
            "type": "carpet"
           }
          ],
          "choropleth": [
           {
            "colorbar": {
             "outlinewidth": 0,
             "ticks": ""
            },
            "type": "choropleth"
           }
          ],
          "contour": [
           {
            "colorbar": {
             "outlinewidth": 0,
             "ticks": ""
            },
            "colorscale": [
             [
              0,
              "#0d0887"
             ],
             [
              0.1111111111111111,
              "#46039f"
             ],
             [
              0.2222222222222222,
              "#7201a8"
             ],
             [
              0.3333333333333333,
              "#9c179e"
             ],
             [
              0.4444444444444444,
              "#bd3786"
             ],
             [
              0.5555555555555556,
              "#d8576b"
             ],
             [
              0.6666666666666666,
              "#ed7953"
             ],
             [
              0.7777777777777778,
              "#fb9f3a"
             ],
             [
              0.8888888888888888,
              "#fdca26"
             ],
             [
              1,
              "#f0f921"
             ]
            ],
            "type": "contour"
           }
          ],
          "contourcarpet": [
           {
            "colorbar": {
             "outlinewidth": 0,
             "ticks": ""
            },
            "type": "contourcarpet"
           }
          ],
          "heatmap": [
           {
            "colorbar": {
             "outlinewidth": 0,
             "ticks": ""
            },
            "colorscale": [
             [
              0,
              "#0d0887"
             ],
             [
              0.1111111111111111,
              "#46039f"
             ],
             [
              0.2222222222222222,
              "#7201a8"
             ],
             [
              0.3333333333333333,
              "#9c179e"
             ],
             [
              0.4444444444444444,
              "#bd3786"
             ],
             [
              0.5555555555555556,
              "#d8576b"
             ],
             [
              0.6666666666666666,
              "#ed7953"
             ],
             [
              0.7777777777777778,
              "#fb9f3a"
             ],
             [
              0.8888888888888888,
              "#fdca26"
             ],
             [
              1,
              "#f0f921"
             ]
            ],
            "type": "heatmap"
           }
          ],
          "heatmapgl": [
           {
            "colorbar": {
             "outlinewidth": 0,
             "ticks": ""
            },
            "colorscale": [
             [
              0,
              "#0d0887"
             ],
             [
              0.1111111111111111,
              "#46039f"
             ],
             [
              0.2222222222222222,
              "#7201a8"
             ],
             [
              0.3333333333333333,
              "#9c179e"
             ],
             [
              0.4444444444444444,
              "#bd3786"
             ],
             [
              0.5555555555555556,
              "#d8576b"
             ],
             [
              0.6666666666666666,
              "#ed7953"
             ],
             [
              0.7777777777777778,
              "#fb9f3a"
             ],
             [
              0.8888888888888888,
              "#fdca26"
             ],
             [
              1,
              "#f0f921"
             ]
            ],
            "type": "heatmapgl"
           }
          ],
          "histogram": [
           {
            "marker": {
             "pattern": {
              "fillmode": "overlay",
              "size": 10,
              "solidity": 0.2
             }
            },
            "type": "histogram"
           }
          ],
          "histogram2d": [
           {
            "colorbar": {
             "outlinewidth": 0,
             "ticks": ""
            },
            "colorscale": [
             [
              0,
              "#0d0887"
             ],
             [
              0.1111111111111111,
              "#46039f"
             ],
             [
              0.2222222222222222,
              "#7201a8"
             ],
             [
              0.3333333333333333,
              "#9c179e"
             ],
             [
              0.4444444444444444,
              "#bd3786"
             ],
             [
              0.5555555555555556,
              "#d8576b"
             ],
             [
              0.6666666666666666,
              "#ed7953"
             ],
             [
              0.7777777777777778,
              "#fb9f3a"
             ],
             [
              0.8888888888888888,
              "#fdca26"
             ],
             [
              1,
              "#f0f921"
             ]
            ],
            "type": "histogram2d"
           }
          ],
          "histogram2dcontour": [
           {
            "colorbar": {
             "outlinewidth": 0,
             "ticks": ""
            },
            "colorscale": [
             [
              0,
              "#0d0887"
             ],
             [
              0.1111111111111111,
              "#46039f"
             ],
             [
              0.2222222222222222,
              "#7201a8"
             ],
             [
              0.3333333333333333,
              "#9c179e"
             ],
             [
              0.4444444444444444,
              "#bd3786"
             ],
             [
              0.5555555555555556,
              "#d8576b"
             ],
             [
              0.6666666666666666,
              "#ed7953"
             ],
             [
              0.7777777777777778,
              "#fb9f3a"
             ],
             [
              0.8888888888888888,
              "#fdca26"
             ],
             [
              1,
              "#f0f921"
             ]
            ],
            "type": "histogram2dcontour"
           }
          ],
          "mesh3d": [
           {
            "colorbar": {
             "outlinewidth": 0,
             "ticks": ""
            },
            "type": "mesh3d"
           }
          ],
          "parcoords": [
           {
            "line": {
             "colorbar": {
              "outlinewidth": 0,
              "ticks": ""
             }
            },
            "type": "parcoords"
           }
          ],
          "pie": [
           {
            "automargin": true,
            "type": "pie"
           }
          ],
          "scatter": [
           {
            "marker": {
             "colorbar": {
              "outlinewidth": 0,
              "ticks": ""
             }
            },
            "type": "scatter"
           }
          ],
          "scatter3d": [
           {
            "line": {
             "colorbar": {
              "outlinewidth": 0,
              "ticks": ""
             }
            },
            "marker": {
             "colorbar": {
              "outlinewidth": 0,
              "ticks": ""
             }
            },
            "type": "scatter3d"
           }
          ],
          "scattercarpet": [
           {
            "marker": {
             "colorbar": {
              "outlinewidth": 0,
              "ticks": ""
             }
            },
            "type": "scattercarpet"
           }
          ],
          "scattergeo": [
           {
            "marker": {
             "colorbar": {
              "outlinewidth": 0,
              "ticks": ""
             }
            },
            "type": "scattergeo"
           }
          ],
          "scattergl": [
           {
            "marker": {
             "colorbar": {
              "outlinewidth": 0,
              "ticks": ""
             }
            },
            "type": "scattergl"
           }
          ],
          "scattermapbox": [
           {
            "marker": {
             "colorbar": {
              "outlinewidth": 0,
              "ticks": ""
             }
            },
            "type": "scattermapbox"
           }
          ],
          "scatterpolar": [
           {
            "marker": {
             "colorbar": {
              "outlinewidth": 0,
              "ticks": ""
             }
            },
            "type": "scatterpolar"
           }
          ],
          "scatterpolargl": [
           {
            "marker": {
             "colorbar": {
              "outlinewidth": 0,
              "ticks": ""
             }
            },
            "type": "scatterpolargl"
           }
          ],
          "scatterternary": [
           {
            "marker": {
             "colorbar": {
              "outlinewidth": 0,
              "ticks": ""
             }
            },
            "type": "scatterternary"
           }
          ],
          "surface": [
           {
            "colorbar": {
             "outlinewidth": 0,
             "ticks": ""
            },
            "colorscale": [
             [
              0,
              "#0d0887"
             ],
             [
              0.1111111111111111,
              "#46039f"
             ],
             [
              0.2222222222222222,
              "#7201a8"
             ],
             [
              0.3333333333333333,
              "#9c179e"
             ],
             [
              0.4444444444444444,
              "#bd3786"
             ],
             [
              0.5555555555555556,
              "#d8576b"
             ],
             [
              0.6666666666666666,
              "#ed7953"
             ],
             [
              0.7777777777777778,
              "#fb9f3a"
             ],
             [
              0.8888888888888888,
              "#fdca26"
             ],
             [
              1,
              "#f0f921"
             ]
            ],
            "type": "surface"
           }
          ],
          "table": [
           {
            "cells": {
             "fill": {
              "color": "#EBF0F8"
             },
             "line": {
              "color": "white"
             }
            },
            "header": {
             "fill": {
              "color": "#C8D4E3"
             },
             "line": {
              "color": "white"
             }
            },
            "type": "table"
           }
          ]
         },
         "layout": {
          "annotationdefaults": {
           "arrowcolor": "#2a3f5f",
           "arrowhead": 0,
           "arrowwidth": 1
          },
          "autotypenumbers": "strict",
          "coloraxis": {
           "colorbar": {
            "outlinewidth": 0,
            "ticks": ""
           }
          },
          "colorscale": {
           "diverging": [
            [
             0,
             "#8e0152"
            ],
            [
             0.1,
             "#c51b7d"
            ],
            [
             0.2,
             "#de77ae"
            ],
            [
             0.3,
             "#f1b6da"
            ],
            [
             0.4,
             "#fde0ef"
            ],
            [
             0.5,
             "#f7f7f7"
            ],
            [
             0.6,
             "#e6f5d0"
            ],
            [
             0.7,
             "#b8e186"
            ],
            [
             0.8,
             "#7fbc41"
            ],
            [
             0.9,
             "#4d9221"
            ],
            [
             1,
             "#276419"
            ]
           ],
           "sequential": [
            [
             0,
             "#0d0887"
            ],
            [
             0.1111111111111111,
             "#46039f"
            ],
            [
             0.2222222222222222,
             "#7201a8"
            ],
            [
             0.3333333333333333,
             "#9c179e"
            ],
            [
             0.4444444444444444,
             "#bd3786"
            ],
            [
             0.5555555555555556,
             "#d8576b"
            ],
            [
             0.6666666666666666,
             "#ed7953"
            ],
            [
             0.7777777777777778,
             "#fb9f3a"
            ],
            [
             0.8888888888888888,
             "#fdca26"
            ],
            [
             1,
             "#f0f921"
            ]
           ],
           "sequentialminus": [
            [
             0,
             "#0d0887"
            ],
            [
             0.1111111111111111,
             "#46039f"
            ],
            [
             0.2222222222222222,
             "#7201a8"
            ],
            [
             0.3333333333333333,
             "#9c179e"
            ],
            [
             0.4444444444444444,
             "#bd3786"
            ],
            [
             0.5555555555555556,
             "#d8576b"
            ],
            [
             0.6666666666666666,
             "#ed7953"
            ],
            [
             0.7777777777777778,
             "#fb9f3a"
            ],
            [
             0.8888888888888888,
             "#fdca26"
            ],
            [
             1,
             "#f0f921"
            ]
           ]
          },
          "colorway": [
           "#636efa",
           "#EF553B",
           "#00cc96",
           "#ab63fa",
           "#FFA15A",
           "#19d3f3",
           "#FF6692",
           "#B6E880",
           "#FF97FF",
           "#FECB52"
          ],
          "font": {
           "color": "#2a3f5f"
          },
          "geo": {
           "bgcolor": "white",
           "lakecolor": "white",
           "landcolor": "#E5ECF6",
           "showlakes": true,
           "showland": true,
           "subunitcolor": "white"
          },
          "hoverlabel": {
           "align": "left"
          },
          "hovermode": "closest",
          "mapbox": {
           "style": "light"
          },
          "paper_bgcolor": "white",
          "plot_bgcolor": "#E5ECF6",
          "polar": {
           "angularaxis": {
            "gridcolor": "white",
            "linecolor": "white",
            "ticks": ""
           },
           "bgcolor": "#E5ECF6",
           "radialaxis": {
            "gridcolor": "white",
            "linecolor": "white",
            "ticks": ""
           }
          },
          "scene": {
           "xaxis": {
            "backgroundcolor": "#E5ECF6",
            "gridcolor": "white",
            "gridwidth": 2,
            "linecolor": "white",
            "showbackground": true,
            "ticks": "",
            "zerolinecolor": "white"
           },
           "yaxis": {
            "backgroundcolor": "#E5ECF6",
            "gridcolor": "white",
            "gridwidth": 2,
            "linecolor": "white",
            "showbackground": true,
            "ticks": "",
            "zerolinecolor": "white"
           },
           "zaxis": {
            "backgroundcolor": "#E5ECF6",
            "gridcolor": "white",
            "gridwidth": 2,
            "linecolor": "white",
            "showbackground": true,
            "ticks": "",
            "zerolinecolor": "white"
           }
          },
          "shapedefaults": {
           "line": {
            "color": "#2a3f5f"
           }
          },
          "ternary": {
           "aaxis": {
            "gridcolor": "white",
            "linecolor": "white",
            "ticks": ""
           },
           "baxis": {
            "gridcolor": "white",
            "linecolor": "white",
            "ticks": ""
           },
           "bgcolor": "#E5ECF6",
           "caxis": {
            "gridcolor": "white",
            "linecolor": "white",
            "ticks": ""
           }
          },
          "title": {
           "x": 0.05
          },
          "xaxis": {
           "automargin": true,
           "gridcolor": "white",
           "linecolor": "white",
           "ticks": "",
           "title": {
            "standoff": 15
           },
           "zerolinecolor": "white",
           "zerolinewidth": 2
          },
          "yaxis": {
           "automargin": true,
           "gridcolor": "white",
           "linecolor": "white",
           "ticks": "",
           "title": {
            "standoff": 15
           },
           "zerolinecolor": "white",
           "zerolinewidth": 2
          }
         }
        },
        "title": {
         "text": "Subject-2 frequency of with-who data "
        },
        "xaxis": {
         "anchor": "y",
         "categoryarray": [
          "Alone",
          "missing_val",
          "Classmate(s)",
          "Friend(s)",
          "Relative(s)",
          "Roommate(s)"
         ],
         "categoryorder": "array",
         "domain": [
          0,
          1
         ],
         "title": {
          "text": "with_who"
         }
        },
        "yaxis": {
         "anchor": "x",
         "domain": [
          0,
          1
         ],
         "title": {
          "text": "count"
         }
        }
       }
      },
      "text/html": [
       "<div>                            <div id=\"74dfb7f2-be09-4ba5-83e4-84eeb68e703f\" class=\"plotly-graph-div\" style=\"height:525px; width:100%;\"></div>            <script type=\"text/javascript\">                require([\"plotly\"], function(Plotly) {                    window.PLOTLYENV=window.PLOTLYENV || {};                                    if (document.getElementById(\"74dfb7f2-be09-4ba5-83e4-84eeb68e703f\")) {                    Plotly.newPlot(                        \"74dfb7f2-be09-4ba5-83e4-84eeb68e703f\",                        [{\"alignmentgroup\":\"True\",\"hovertemplate\":\"with_who=%{x}<br>count=%{y}<extra></extra>\",\"legendgroup\":\"Alone\",\"marker\":{\"color\":\"#636efa\",\"pattern\":{\"shape\":\"\"}},\"name\":\"Alone\",\"offsetgroup\":\"Alone\",\"orientation\":\"v\",\"showlegend\":true,\"textposition\":\"auto\",\"x\":[\"Alone\"],\"xaxis\":\"x\",\"y\":[467],\"yaxis\":\"y\",\"type\":\"bar\"},{\"alignmentgroup\":\"True\",\"hovertemplate\":\"with_who=%{x}<br>count=%{y}<extra></extra>\",\"legendgroup\":\"missing_val\",\"marker\":{\"color\":\"#EF553B\",\"pattern\":{\"shape\":\"\"}},\"name\":\"missing_val\",\"offsetgroup\":\"missing_val\",\"orientation\":\"v\",\"showlegend\":true,\"textposition\":\"auto\",\"x\":[\"missing_val\"],\"xaxis\":\"x\",\"y\":[85],\"yaxis\":\"y\",\"type\":\"bar\"},{\"alignmentgroup\":\"True\",\"hovertemplate\":\"with_who=%{x}<br>count=%{y}<extra></extra>\",\"legendgroup\":\"Classmate(s)\",\"marker\":{\"color\":\"#00cc96\",\"pattern\":{\"shape\":\"\"}},\"name\":\"Classmate(s)\",\"offsetgroup\":\"Classmate(s)\",\"orientation\":\"v\",\"showlegend\":true,\"textposition\":\"auto\",\"x\":[\"Classmate(s)\"],\"xaxis\":\"x\",\"y\":[47],\"yaxis\":\"y\",\"type\":\"bar\"},{\"alignmentgroup\":\"True\",\"hovertemplate\":\"with_who=%{x}<br>count=%{y}<extra></extra>\",\"legendgroup\":\"Friend(s)\",\"marker\":{\"color\":\"#ab63fa\",\"pattern\":{\"shape\":\"\"}},\"name\":\"Friend(s)\",\"offsetgroup\":\"Friend(s)\",\"orientation\":\"v\",\"showlegend\":true,\"textposition\":\"auto\",\"x\":[\"Friend(s)\"],\"xaxis\":\"x\",\"y\":[40],\"yaxis\":\"y\",\"type\":\"bar\"},{\"alignmentgroup\":\"True\",\"hovertemplate\":\"with_who=%{x}<br>count=%{y}<extra></extra>\",\"legendgroup\":\"Relative(s)\",\"marker\":{\"color\":\"#FFA15A\",\"pattern\":{\"shape\":\"\"}},\"name\":\"Relative(s)\",\"offsetgroup\":\"Relative(s)\",\"orientation\":\"v\",\"showlegend\":true,\"textposition\":\"auto\",\"x\":[\"Relative(s)\"],\"xaxis\":\"x\",\"y\":[18],\"yaxis\":\"y\",\"type\":\"bar\"},{\"alignmentgroup\":\"True\",\"hovertemplate\":\"with_who=%{x}<br>count=%{y}<extra></extra>\",\"legendgroup\":\"Roommate(s)\",\"marker\":{\"color\":\"#19d3f3\",\"pattern\":{\"shape\":\"\"}},\"name\":\"Roommate(s)\",\"offsetgroup\":\"Roommate(s)\",\"orientation\":\"v\",\"showlegend\":true,\"textposition\":\"auto\",\"x\":[\"Roommate(s)\"],\"xaxis\":\"x\",\"y\":[15],\"yaxis\":\"y\",\"type\":\"bar\"}],                        {\"template\":{\"data\":{\"bar\":[{\"error_x\":{\"color\":\"#2a3f5f\"},\"error_y\":{\"color\":\"#2a3f5f\"},\"marker\":{\"line\":{\"color\":\"#E5ECF6\",\"width\":0.5},\"pattern\":{\"fillmode\":\"overlay\",\"size\":10,\"solidity\":0.2}},\"type\":\"bar\"}],\"barpolar\":[{\"marker\":{\"line\":{\"color\":\"#E5ECF6\",\"width\":0.5},\"pattern\":{\"fillmode\":\"overlay\",\"size\":10,\"solidity\":0.2}},\"type\":\"barpolar\"}],\"carpet\":[{\"aaxis\":{\"endlinecolor\":\"#2a3f5f\",\"gridcolor\":\"white\",\"linecolor\":\"white\",\"minorgridcolor\":\"white\",\"startlinecolor\":\"#2a3f5f\"},\"baxis\":{\"endlinecolor\":\"#2a3f5f\",\"gridcolor\":\"white\",\"linecolor\":\"white\",\"minorgridcolor\":\"white\",\"startlinecolor\":\"#2a3f5f\"},\"type\":\"carpet\"}],\"choropleth\":[{\"colorbar\":{\"outlinewidth\":0,\"ticks\":\"\"},\"type\":\"choropleth\"}],\"contour\":[{\"colorbar\":{\"outlinewidth\":0,\"ticks\":\"\"},\"colorscale\":[[0.0,\"#0d0887\"],[0.1111111111111111,\"#46039f\"],[0.2222222222222222,\"#7201a8\"],[0.3333333333333333,\"#9c179e\"],[0.4444444444444444,\"#bd3786\"],[0.5555555555555556,\"#d8576b\"],[0.6666666666666666,\"#ed7953\"],[0.7777777777777778,\"#fb9f3a\"],[0.8888888888888888,\"#fdca26\"],[1.0,\"#f0f921\"]],\"type\":\"contour\"}],\"contourcarpet\":[{\"colorbar\":{\"outlinewidth\":0,\"ticks\":\"\"},\"type\":\"contourcarpet\"}],\"heatmap\":[{\"colorbar\":{\"outlinewidth\":0,\"ticks\":\"\"},\"colorscale\":[[0.0,\"#0d0887\"],[0.1111111111111111,\"#46039f\"],[0.2222222222222222,\"#7201a8\"],[0.3333333333333333,\"#9c179e\"],[0.4444444444444444,\"#bd3786\"],[0.5555555555555556,\"#d8576b\"],[0.6666666666666666,\"#ed7953\"],[0.7777777777777778,\"#fb9f3a\"],[0.8888888888888888,\"#fdca26\"],[1.0,\"#f0f921\"]],\"type\":\"heatmap\"}],\"heatmapgl\":[{\"colorbar\":{\"outlinewidth\":0,\"ticks\":\"\"},\"colorscale\":[[0.0,\"#0d0887\"],[0.1111111111111111,\"#46039f\"],[0.2222222222222222,\"#7201a8\"],[0.3333333333333333,\"#9c179e\"],[0.4444444444444444,\"#bd3786\"],[0.5555555555555556,\"#d8576b\"],[0.6666666666666666,\"#ed7953\"],[0.7777777777777778,\"#fb9f3a\"],[0.8888888888888888,\"#fdca26\"],[1.0,\"#f0f921\"]],\"type\":\"heatmapgl\"}],\"histogram\":[{\"marker\":{\"pattern\":{\"fillmode\":\"overlay\",\"size\":10,\"solidity\":0.2}},\"type\":\"histogram\"}],\"histogram2d\":[{\"colorbar\":{\"outlinewidth\":0,\"ticks\":\"\"},\"colorscale\":[[0.0,\"#0d0887\"],[0.1111111111111111,\"#46039f\"],[0.2222222222222222,\"#7201a8\"],[0.3333333333333333,\"#9c179e\"],[0.4444444444444444,\"#bd3786\"],[0.5555555555555556,\"#d8576b\"],[0.6666666666666666,\"#ed7953\"],[0.7777777777777778,\"#fb9f3a\"],[0.8888888888888888,\"#fdca26\"],[1.0,\"#f0f921\"]],\"type\":\"histogram2d\"}],\"histogram2dcontour\":[{\"colorbar\":{\"outlinewidth\":0,\"ticks\":\"\"},\"colorscale\":[[0.0,\"#0d0887\"],[0.1111111111111111,\"#46039f\"],[0.2222222222222222,\"#7201a8\"],[0.3333333333333333,\"#9c179e\"],[0.4444444444444444,\"#bd3786\"],[0.5555555555555556,\"#d8576b\"],[0.6666666666666666,\"#ed7953\"],[0.7777777777777778,\"#fb9f3a\"],[0.8888888888888888,\"#fdca26\"],[1.0,\"#f0f921\"]],\"type\":\"histogram2dcontour\"}],\"mesh3d\":[{\"colorbar\":{\"outlinewidth\":0,\"ticks\":\"\"},\"type\":\"mesh3d\"}],\"parcoords\":[{\"line\":{\"colorbar\":{\"outlinewidth\":0,\"ticks\":\"\"}},\"type\":\"parcoords\"}],\"pie\":[{\"automargin\":true,\"type\":\"pie\"}],\"scatter\":[{\"marker\":{\"colorbar\":{\"outlinewidth\":0,\"ticks\":\"\"}},\"type\":\"scatter\"}],\"scatter3d\":[{\"line\":{\"colorbar\":{\"outlinewidth\":0,\"ticks\":\"\"}},\"marker\":{\"colorbar\":{\"outlinewidth\":0,\"ticks\":\"\"}},\"type\":\"scatter3d\"}],\"scattercarpet\":[{\"marker\":{\"colorbar\":{\"outlinewidth\":0,\"ticks\":\"\"}},\"type\":\"scattercarpet\"}],\"scattergeo\":[{\"marker\":{\"colorbar\":{\"outlinewidth\":0,\"ticks\":\"\"}},\"type\":\"scattergeo\"}],\"scattergl\":[{\"marker\":{\"colorbar\":{\"outlinewidth\":0,\"ticks\":\"\"}},\"type\":\"scattergl\"}],\"scattermapbox\":[{\"marker\":{\"colorbar\":{\"outlinewidth\":0,\"ticks\":\"\"}},\"type\":\"scattermapbox\"}],\"scatterpolar\":[{\"marker\":{\"colorbar\":{\"outlinewidth\":0,\"ticks\":\"\"}},\"type\":\"scatterpolar\"}],\"scatterpolargl\":[{\"marker\":{\"colorbar\":{\"outlinewidth\":0,\"ticks\":\"\"}},\"type\":\"scatterpolargl\"}],\"scatterternary\":[{\"marker\":{\"colorbar\":{\"outlinewidth\":0,\"ticks\":\"\"}},\"type\":\"scatterternary\"}],\"surface\":[{\"colorbar\":{\"outlinewidth\":0,\"ticks\":\"\"},\"colorscale\":[[0.0,\"#0d0887\"],[0.1111111111111111,\"#46039f\"],[0.2222222222222222,\"#7201a8\"],[0.3333333333333333,\"#9c179e\"],[0.4444444444444444,\"#bd3786\"],[0.5555555555555556,\"#d8576b\"],[0.6666666666666666,\"#ed7953\"],[0.7777777777777778,\"#fb9f3a\"],[0.8888888888888888,\"#fdca26\"],[1.0,\"#f0f921\"]],\"type\":\"surface\"}],\"table\":[{\"cells\":{\"fill\":{\"color\":\"#EBF0F8\"},\"line\":{\"color\":\"white\"}},\"header\":{\"fill\":{\"color\":\"#C8D4E3\"},\"line\":{\"color\":\"white\"}},\"type\":\"table\"}]},\"layout\":{\"annotationdefaults\":{\"arrowcolor\":\"#2a3f5f\",\"arrowhead\":0,\"arrowwidth\":1},\"autotypenumbers\":\"strict\",\"coloraxis\":{\"colorbar\":{\"outlinewidth\":0,\"ticks\":\"\"}},\"colorscale\":{\"diverging\":[[0,\"#8e0152\"],[0.1,\"#c51b7d\"],[0.2,\"#de77ae\"],[0.3,\"#f1b6da\"],[0.4,\"#fde0ef\"],[0.5,\"#f7f7f7\"],[0.6,\"#e6f5d0\"],[0.7,\"#b8e186\"],[0.8,\"#7fbc41\"],[0.9,\"#4d9221\"],[1,\"#276419\"]],\"sequential\":[[0.0,\"#0d0887\"],[0.1111111111111111,\"#46039f\"],[0.2222222222222222,\"#7201a8\"],[0.3333333333333333,\"#9c179e\"],[0.4444444444444444,\"#bd3786\"],[0.5555555555555556,\"#d8576b\"],[0.6666666666666666,\"#ed7953\"],[0.7777777777777778,\"#fb9f3a\"],[0.8888888888888888,\"#fdca26\"],[1.0,\"#f0f921\"]],\"sequentialminus\":[[0.0,\"#0d0887\"],[0.1111111111111111,\"#46039f\"],[0.2222222222222222,\"#7201a8\"],[0.3333333333333333,\"#9c179e\"],[0.4444444444444444,\"#bd3786\"],[0.5555555555555556,\"#d8576b\"],[0.6666666666666666,\"#ed7953\"],[0.7777777777777778,\"#fb9f3a\"],[0.8888888888888888,\"#fdca26\"],[1.0,\"#f0f921\"]]},\"colorway\":[\"#636efa\",\"#EF553B\",\"#00cc96\",\"#ab63fa\",\"#FFA15A\",\"#19d3f3\",\"#FF6692\",\"#B6E880\",\"#FF97FF\",\"#FECB52\"],\"font\":{\"color\":\"#2a3f5f\"},\"geo\":{\"bgcolor\":\"white\",\"lakecolor\":\"white\",\"landcolor\":\"#E5ECF6\",\"showlakes\":true,\"showland\":true,\"subunitcolor\":\"white\"},\"hoverlabel\":{\"align\":\"left\"},\"hovermode\":\"closest\",\"mapbox\":{\"style\":\"light\"},\"paper_bgcolor\":\"white\",\"plot_bgcolor\":\"#E5ECF6\",\"polar\":{\"angularaxis\":{\"gridcolor\":\"white\",\"linecolor\":\"white\",\"ticks\":\"\"},\"bgcolor\":\"#E5ECF6\",\"radialaxis\":{\"gridcolor\":\"white\",\"linecolor\":\"white\",\"ticks\":\"\"}},\"scene\":{\"xaxis\":{\"backgroundcolor\":\"#E5ECF6\",\"gridcolor\":\"white\",\"gridwidth\":2,\"linecolor\":\"white\",\"showbackground\":true,\"ticks\":\"\",\"zerolinecolor\":\"white\"},\"yaxis\":{\"backgroundcolor\":\"#E5ECF6\",\"gridcolor\":\"white\",\"gridwidth\":2,\"linecolor\":\"white\",\"showbackground\":true,\"ticks\":\"\",\"zerolinecolor\":\"white\"},\"zaxis\":{\"backgroundcolor\":\"#E5ECF6\",\"gridcolor\":\"white\",\"gridwidth\":2,\"linecolor\":\"white\",\"showbackground\":true,\"ticks\":\"\",\"zerolinecolor\":\"white\"}},\"shapedefaults\":{\"line\":{\"color\":\"#2a3f5f\"}},\"ternary\":{\"aaxis\":{\"gridcolor\":\"white\",\"linecolor\":\"white\",\"ticks\":\"\"},\"baxis\":{\"gridcolor\":\"white\",\"linecolor\":\"white\",\"ticks\":\"\"},\"bgcolor\":\"#E5ECF6\",\"caxis\":{\"gridcolor\":\"white\",\"linecolor\":\"white\",\"ticks\":\"\"}},\"title\":{\"x\":0.05},\"xaxis\":{\"automargin\":true,\"gridcolor\":\"white\",\"linecolor\":\"white\",\"ticks\":\"\",\"title\":{\"standoff\":15},\"zerolinecolor\":\"white\",\"zerolinewidth\":2},\"yaxis\":{\"automargin\":true,\"gridcolor\":\"white\",\"linecolor\":\"white\",\"ticks\":\"\",\"title\":{\"standoff\":15},\"zerolinecolor\":\"white\",\"zerolinewidth\":2}}},\"xaxis\":{\"anchor\":\"y\",\"domain\":[0.0,1.0],\"title\":{\"text\":\"with_who\"},\"categoryorder\":\"array\",\"categoryarray\":[\"Alone\",\"missing_val\",\"Classmate(s)\",\"Friend(s)\",\"Relative(s)\",\"Roommate(s)\"]},\"yaxis\":{\"anchor\":\"x\",\"domain\":[0.0,1.0],\"title\":{\"text\":\"count\"}},\"legend\":{\"title\":{\"text\":\"with_who\"},\"tracegroupgap\":0},\"title\":{\"text\":\"Subject-2 frequency of with-who data \"},\"barmode\":\"relative\"},                        {\"responsive\": true}                    ).then(function(){\n",
       "                            \n",
       "var gd = document.getElementById('74dfb7f2-be09-4ba5-83e4-84eeb68e703f');\n",
       "var x = new MutationObserver(function (mutations, observer) {{\n",
       "        var display = window.getComputedStyle(gd).display;\n",
       "        if (!display || display === 'none') {{\n",
       "            console.log([gd, 'removed!']);\n",
       "            Plotly.purge(gd);\n",
       "            observer.disconnect();\n",
       "        }}\n",
       "}});\n",
       "\n",
       "// Listen for the removal of the full notebook cells\n",
       "var notebookContainer = gd.closest('#notebook-container');\n",
       "if (notebookContainer) {{\n",
       "    x.observe(notebookContainer, {childList: true});\n",
       "}}\n",
       "\n",
       "// Listen for the clearing of the current output cell\n",
       "var outputEl = gd.closest('.output');\n",
       "if (outputEl) {{\n",
       "    x.observe(outputEl, {childList: true});\n",
       "}}\n",
       "\n",
       "                        })                };                });            </script>        </div>"
      ]
     },
     "metadata": {},
     "output_type": "display_data"
    }
   ],
   "source": [
    "\n",
    "fig = px.bar(df_f, x=\"with_who\", y=\"count\", color=\"with_who\", title=\"Subject-2 frequency of with-who data \")\n",
    "fig.show()"
   ]
  },
  {
   "cell_type": "code",
   "execution_count": 20,
   "metadata": {},
   "outputs": [],
   "source": [
    "df_l = pd.DataFrame(tdf_sub2[\"where\"].value_counts()).reset_index(drop=False)\n",
    "df_l.columns = [\"where\",\"count\"]\n",
    "# df_l.head()"
   ]
  },
  {
   "cell_type": "code",
   "execution_count": 21,
   "metadata": {},
   "outputs": [
    {
     "data": {
      "application/vnd.plotly.v1+json": {
       "config": {
        "plotlyServerURL": "https://plot.ly"
       },
       "data": [
        {
         "alignmentgroup": "True",
         "hovertemplate": "where=%{x}<br>count=%{y}<extra></extra>",
         "legendgroup": "Home Apartment Room",
         "marker": {
          "color": "#636efa",
          "pattern": {
           "shape": ""
          }
         },
         "name": "Home Apartment Room",
         "offsetgroup": "Home Apartment Room",
         "orientation": "v",
         "showlegend": true,
         "textposition": "auto",
         "type": "bar",
         "x": [
          "Home Apartment Room"
         ],
         "xaxis": "x",
         "y": [
          431
         ],
         "yaxis": "y"
        },
        {
         "alignmentgroup": "True",
         "hovertemplate": "where=%{x}<br>count=%{y}<extra></extra>",
         "legendgroup": "missing_val",
         "marker": {
          "color": "#EF553B",
          "pattern": {
           "shape": ""
          }
         },
         "name": "missing_val",
         "offsetgroup": "missing_val",
         "orientation": "v",
         "showlegend": true,
         "textposition": "auto",
         "type": "bar",
         "x": [
          "missing_val"
         ],
         "xaxis": "x",
         "y": [
          85
         ],
         "yaxis": "y"
        },
        {
         "alignmentgroup": "True",
         "hovertemplate": "where=%{x}<br>count=%{y}<extra></extra>",
         "legendgroup": "University",
         "marker": {
          "color": "#00cc96",
          "pattern": {
           "shape": ""
          }
         },
         "name": "University",
         "offsetgroup": "University",
         "orientation": "v",
         "showlegend": true,
         "textposition": "auto",
         "type": "bar",
         "x": [
          "University"
         ],
         "xaxis": "x",
         "y": [
          51
         ],
         "yaxis": "y"
        },
        {
         "alignmentgroup": "True",
         "hovertemplate": "where=%{x}<br>count=%{y}<extra></extra>",
         "legendgroup": "Moving",
         "marker": {
          "color": "#ab63fa",
          "pattern": {
           "shape": ""
          }
         },
         "name": "Moving",
         "offsetgroup": "Moving",
         "orientation": "v",
         "showlegend": true,
         "textposition": "auto",
         "type": "bar",
         "x": [
          "Moving"
         ],
         "xaxis": "x",
         "y": [
          39
         ],
         "yaxis": "y"
        },
        {
         "alignmentgroup": "True",
         "hovertemplate": "where=%{x}<br>count=%{y}<extra></extra>",
         "legendgroup": "Relatives Home",
         "marker": {
          "color": "#FFA15A",
          "pattern": {
           "shape": ""
          }
         },
         "name": "Relatives Home",
         "offsetgroup": "Relatives Home",
         "orientation": "v",
         "showlegend": true,
         "textposition": "auto",
         "type": "bar",
         "x": [
          "Relatives Home"
         ],
         "xaxis": "x",
         "y": [
          25
         ],
         "yaxis": "y"
        },
        {
         "alignmentgroup": "True",
         "hovertemplate": "where=%{x}<br>count=%{y}<extra></extra>",
         "legendgroup": "Outdoors",
         "marker": {
          "color": "#19d3f3",
          "pattern": {
           "shape": ""
          }
         },
         "name": "Outdoors",
         "offsetgroup": "Outdoors",
         "orientation": "v",
         "showlegend": true,
         "textposition": "auto",
         "type": "bar",
         "x": [
          "Outdoors"
         ],
         "xaxis": "x",
         "y": [
          15
         ],
         "yaxis": "y"
        },
        {
         "alignmentgroup": "True",
         "hovertemplate": "where=%{x}<br>count=%{y}<extra></extra>",
         "legendgroup": "Shop Pub Theater",
         "marker": {
          "color": "#FF6692",
          "pattern": {
           "shape": ""
          }
         },
         "name": "Shop Pub Theater",
         "offsetgroup": "Shop Pub Theater",
         "orientation": "v",
         "showlegend": true,
         "textposition": "auto",
         "type": "bar",
         "x": [
          "Shop Pub Theater"
         ],
         "xaxis": "x",
         "y": [
          10
         ],
         "yaxis": "y"
        },
        {
         "alignmentgroup": "True",
         "hovertemplate": "where=%{x}<br>count=%{y}<extra></extra>",
         "legendgroup": "House (friends others)",
         "marker": {
          "color": "#B6E880",
          "pattern": {
           "shape": ""
          }
         },
         "name": "House (friends others)",
         "offsetgroup": "House (friends others)",
         "orientation": "v",
         "showlegend": true,
         "textposition": "auto",
         "type": "bar",
         "x": [
          "House (friends others)"
         ],
         "xaxis": "x",
         "y": [
          9
         ],
         "yaxis": "y"
        },
        {
         "alignmentgroup": "True",
         "hovertemplate": "where=%{x}<br>count=%{y}<extra></extra>",
         "legendgroup": "Other place",
         "marker": {
          "color": "#FF97FF",
          "pattern": {
           "shape": ""
          }
         },
         "name": "Other place",
         "offsetgroup": "Other place",
         "orientation": "v",
         "showlegend": true,
         "textposition": "auto",
         "type": "bar",
         "x": [
          "Other place"
         ],
         "xaxis": "x",
         "y": [
          7
         ],
         "yaxis": "y"
        }
       ],
       "layout": {
        "barmode": "relative",
        "legend": {
         "title": {
          "text": "where"
         },
         "tracegroupgap": 0
        },
        "template": {
         "data": {
          "bar": [
           {
            "error_x": {
             "color": "#2a3f5f"
            },
            "error_y": {
             "color": "#2a3f5f"
            },
            "marker": {
             "line": {
              "color": "#E5ECF6",
              "width": 0.5
             },
             "pattern": {
              "fillmode": "overlay",
              "size": 10,
              "solidity": 0.2
             }
            },
            "type": "bar"
           }
          ],
          "barpolar": [
           {
            "marker": {
             "line": {
              "color": "#E5ECF6",
              "width": 0.5
             },
             "pattern": {
              "fillmode": "overlay",
              "size": 10,
              "solidity": 0.2
             }
            },
            "type": "barpolar"
           }
          ],
          "carpet": [
           {
            "aaxis": {
             "endlinecolor": "#2a3f5f",
             "gridcolor": "white",
             "linecolor": "white",
             "minorgridcolor": "white",
             "startlinecolor": "#2a3f5f"
            },
            "baxis": {
             "endlinecolor": "#2a3f5f",
             "gridcolor": "white",
             "linecolor": "white",
             "minorgridcolor": "white",
             "startlinecolor": "#2a3f5f"
            },
            "type": "carpet"
           }
          ],
          "choropleth": [
           {
            "colorbar": {
             "outlinewidth": 0,
             "ticks": ""
            },
            "type": "choropleth"
           }
          ],
          "contour": [
           {
            "colorbar": {
             "outlinewidth": 0,
             "ticks": ""
            },
            "colorscale": [
             [
              0,
              "#0d0887"
             ],
             [
              0.1111111111111111,
              "#46039f"
             ],
             [
              0.2222222222222222,
              "#7201a8"
             ],
             [
              0.3333333333333333,
              "#9c179e"
             ],
             [
              0.4444444444444444,
              "#bd3786"
             ],
             [
              0.5555555555555556,
              "#d8576b"
             ],
             [
              0.6666666666666666,
              "#ed7953"
             ],
             [
              0.7777777777777778,
              "#fb9f3a"
             ],
             [
              0.8888888888888888,
              "#fdca26"
             ],
             [
              1,
              "#f0f921"
             ]
            ],
            "type": "contour"
           }
          ],
          "contourcarpet": [
           {
            "colorbar": {
             "outlinewidth": 0,
             "ticks": ""
            },
            "type": "contourcarpet"
           }
          ],
          "heatmap": [
           {
            "colorbar": {
             "outlinewidth": 0,
             "ticks": ""
            },
            "colorscale": [
             [
              0,
              "#0d0887"
             ],
             [
              0.1111111111111111,
              "#46039f"
             ],
             [
              0.2222222222222222,
              "#7201a8"
             ],
             [
              0.3333333333333333,
              "#9c179e"
             ],
             [
              0.4444444444444444,
              "#bd3786"
             ],
             [
              0.5555555555555556,
              "#d8576b"
             ],
             [
              0.6666666666666666,
              "#ed7953"
             ],
             [
              0.7777777777777778,
              "#fb9f3a"
             ],
             [
              0.8888888888888888,
              "#fdca26"
             ],
             [
              1,
              "#f0f921"
             ]
            ],
            "type": "heatmap"
           }
          ],
          "heatmapgl": [
           {
            "colorbar": {
             "outlinewidth": 0,
             "ticks": ""
            },
            "colorscale": [
             [
              0,
              "#0d0887"
             ],
             [
              0.1111111111111111,
              "#46039f"
             ],
             [
              0.2222222222222222,
              "#7201a8"
             ],
             [
              0.3333333333333333,
              "#9c179e"
             ],
             [
              0.4444444444444444,
              "#bd3786"
             ],
             [
              0.5555555555555556,
              "#d8576b"
             ],
             [
              0.6666666666666666,
              "#ed7953"
             ],
             [
              0.7777777777777778,
              "#fb9f3a"
             ],
             [
              0.8888888888888888,
              "#fdca26"
             ],
             [
              1,
              "#f0f921"
             ]
            ],
            "type": "heatmapgl"
           }
          ],
          "histogram": [
           {
            "marker": {
             "pattern": {
              "fillmode": "overlay",
              "size": 10,
              "solidity": 0.2
             }
            },
            "type": "histogram"
           }
          ],
          "histogram2d": [
           {
            "colorbar": {
             "outlinewidth": 0,
             "ticks": ""
            },
            "colorscale": [
             [
              0,
              "#0d0887"
             ],
             [
              0.1111111111111111,
              "#46039f"
             ],
             [
              0.2222222222222222,
              "#7201a8"
             ],
             [
              0.3333333333333333,
              "#9c179e"
             ],
             [
              0.4444444444444444,
              "#bd3786"
             ],
             [
              0.5555555555555556,
              "#d8576b"
             ],
             [
              0.6666666666666666,
              "#ed7953"
             ],
             [
              0.7777777777777778,
              "#fb9f3a"
             ],
             [
              0.8888888888888888,
              "#fdca26"
             ],
             [
              1,
              "#f0f921"
             ]
            ],
            "type": "histogram2d"
           }
          ],
          "histogram2dcontour": [
           {
            "colorbar": {
             "outlinewidth": 0,
             "ticks": ""
            },
            "colorscale": [
             [
              0,
              "#0d0887"
             ],
             [
              0.1111111111111111,
              "#46039f"
             ],
             [
              0.2222222222222222,
              "#7201a8"
             ],
             [
              0.3333333333333333,
              "#9c179e"
             ],
             [
              0.4444444444444444,
              "#bd3786"
             ],
             [
              0.5555555555555556,
              "#d8576b"
             ],
             [
              0.6666666666666666,
              "#ed7953"
             ],
             [
              0.7777777777777778,
              "#fb9f3a"
             ],
             [
              0.8888888888888888,
              "#fdca26"
             ],
             [
              1,
              "#f0f921"
             ]
            ],
            "type": "histogram2dcontour"
           }
          ],
          "mesh3d": [
           {
            "colorbar": {
             "outlinewidth": 0,
             "ticks": ""
            },
            "type": "mesh3d"
           }
          ],
          "parcoords": [
           {
            "line": {
             "colorbar": {
              "outlinewidth": 0,
              "ticks": ""
             }
            },
            "type": "parcoords"
           }
          ],
          "pie": [
           {
            "automargin": true,
            "type": "pie"
           }
          ],
          "scatter": [
           {
            "marker": {
             "colorbar": {
              "outlinewidth": 0,
              "ticks": ""
             }
            },
            "type": "scatter"
           }
          ],
          "scatter3d": [
           {
            "line": {
             "colorbar": {
              "outlinewidth": 0,
              "ticks": ""
             }
            },
            "marker": {
             "colorbar": {
              "outlinewidth": 0,
              "ticks": ""
             }
            },
            "type": "scatter3d"
           }
          ],
          "scattercarpet": [
           {
            "marker": {
             "colorbar": {
              "outlinewidth": 0,
              "ticks": ""
             }
            },
            "type": "scattercarpet"
           }
          ],
          "scattergeo": [
           {
            "marker": {
             "colorbar": {
              "outlinewidth": 0,
              "ticks": ""
             }
            },
            "type": "scattergeo"
           }
          ],
          "scattergl": [
           {
            "marker": {
             "colorbar": {
              "outlinewidth": 0,
              "ticks": ""
             }
            },
            "type": "scattergl"
           }
          ],
          "scattermapbox": [
           {
            "marker": {
             "colorbar": {
              "outlinewidth": 0,
              "ticks": ""
             }
            },
            "type": "scattermapbox"
           }
          ],
          "scatterpolar": [
           {
            "marker": {
             "colorbar": {
              "outlinewidth": 0,
              "ticks": ""
             }
            },
            "type": "scatterpolar"
           }
          ],
          "scatterpolargl": [
           {
            "marker": {
             "colorbar": {
              "outlinewidth": 0,
              "ticks": ""
             }
            },
            "type": "scatterpolargl"
           }
          ],
          "scatterternary": [
           {
            "marker": {
             "colorbar": {
              "outlinewidth": 0,
              "ticks": ""
             }
            },
            "type": "scatterternary"
           }
          ],
          "surface": [
           {
            "colorbar": {
             "outlinewidth": 0,
             "ticks": ""
            },
            "colorscale": [
             [
              0,
              "#0d0887"
             ],
             [
              0.1111111111111111,
              "#46039f"
             ],
             [
              0.2222222222222222,
              "#7201a8"
             ],
             [
              0.3333333333333333,
              "#9c179e"
             ],
             [
              0.4444444444444444,
              "#bd3786"
             ],
             [
              0.5555555555555556,
              "#d8576b"
             ],
             [
              0.6666666666666666,
              "#ed7953"
             ],
             [
              0.7777777777777778,
              "#fb9f3a"
             ],
             [
              0.8888888888888888,
              "#fdca26"
             ],
             [
              1,
              "#f0f921"
             ]
            ],
            "type": "surface"
           }
          ],
          "table": [
           {
            "cells": {
             "fill": {
              "color": "#EBF0F8"
             },
             "line": {
              "color": "white"
             }
            },
            "header": {
             "fill": {
              "color": "#C8D4E3"
             },
             "line": {
              "color": "white"
             }
            },
            "type": "table"
           }
          ]
         },
         "layout": {
          "annotationdefaults": {
           "arrowcolor": "#2a3f5f",
           "arrowhead": 0,
           "arrowwidth": 1
          },
          "autotypenumbers": "strict",
          "coloraxis": {
           "colorbar": {
            "outlinewidth": 0,
            "ticks": ""
           }
          },
          "colorscale": {
           "diverging": [
            [
             0,
             "#8e0152"
            ],
            [
             0.1,
             "#c51b7d"
            ],
            [
             0.2,
             "#de77ae"
            ],
            [
             0.3,
             "#f1b6da"
            ],
            [
             0.4,
             "#fde0ef"
            ],
            [
             0.5,
             "#f7f7f7"
            ],
            [
             0.6,
             "#e6f5d0"
            ],
            [
             0.7,
             "#b8e186"
            ],
            [
             0.8,
             "#7fbc41"
            ],
            [
             0.9,
             "#4d9221"
            ],
            [
             1,
             "#276419"
            ]
           ],
           "sequential": [
            [
             0,
             "#0d0887"
            ],
            [
             0.1111111111111111,
             "#46039f"
            ],
            [
             0.2222222222222222,
             "#7201a8"
            ],
            [
             0.3333333333333333,
             "#9c179e"
            ],
            [
             0.4444444444444444,
             "#bd3786"
            ],
            [
             0.5555555555555556,
             "#d8576b"
            ],
            [
             0.6666666666666666,
             "#ed7953"
            ],
            [
             0.7777777777777778,
             "#fb9f3a"
            ],
            [
             0.8888888888888888,
             "#fdca26"
            ],
            [
             1,
             "#f0f921"
            ]
           ],
           "sequentialminus": [
            [
             0,
             "#0d0887"
            ],
            [
             0.1111111111111111,
             "#46039f"
            ],
            [
             0.2222222222222222,
             "#7201a8"
            ],
            [
             0.3333333333333333,
             "#9c179e"
            ],
            [
             0.4444444444444444,
             "#bd3786"
            ],
            [
             0.5555555555555556,
             "#d8576b"
            ],
            [
             0.6666666666666666,
             "#ed7953"
            ],
            [
             0.7777777777777778,
             "#fb9f3a"
            ],
            [
             0.8888888888888888,
             "#fdca26"
            ],
            [
             1,
             "#f0f921"
            ]
           ]
          },
          "colorway": [
           "#636efa",
           "#EF553B",
           "#00cc96",
           "#ab63fa",
           "#FFA15A",
           "#19d3f3",
           "#FF6692",
           "#B6E880",
           "#FF97FF",
           "#FECB52"
          ],
          "font": {
           "color": "#2a3f5f"
          },
          "geo": {
           "bgcolor": "white",
           "lakecolor": "white",
           "landcolor": "#E5ECF6",
           "showlakes": true,
           "showland": true,
           "subunitcolor": "white"
          },
          "hoverlabel": {
           "align": "left"
          },
          "hovermode": "closest",
          "mapbox": {
           "style": "light"
          },
          "paper_bgcolor": "white",
          "plot_bgcolor": "#E5ECF6",
          "polar": {
           "angularaxis": {
            "gridcolor": "white",
            "linecolor": "white",
            "ticks": ""
           },
           "bgcolor": "#E5ECF6",
           "radialaxis": {
            "gridcolor": "white",
            "linecolor": "white",
            "ticks": ""
           }
          },
          "scene": {
           "xaxis": {
            "backgroundcolor": "#E5ECF6",
            "gridcolor": "white",
            "gridwidth": 2,
            "linecolor": "white",
            "showbackground": true,
            "ticks": "",
            "zerolinecolor": "white"
           },
           "yaxis": {
            "backgroundcolor": "#E5ECF6",
            "gridcolor": "white",
            "gridwidth": 2,
            "linecolor": "white",
            "showbackground": true,
            "ticks": "",
            "zerolinecolor": "white"
           },
           "zaxis": {
            "backgroundcolor": "#E5ECF6",
            "gridcolor": "white",
            "gridwidth": 2,
            "linecolor": "white",
            "showbackground": true,
            "ticks": "",
            "zerolinecolor": "white"
           }
          },
          "shapedefaults": {
           "line": {
            "color": "#2a3f5f"
           }
          },
          "ternary": {
           "aaxis": {
            "gridcolor": "white",
            "linecolor": "white",
            "ticks": ""
           },
           "baxis": {
            "gridcolor": "white",
            "linecolor": "white",
            "ticks": ""
           },
           "bgcolor": "#E5ECF6",
           "caxis": {
            "gridcolor": "white",
            "linecolor": "white",
            "ticks": ""
           }
          },
          "title": {
           "x": 0.05
          },
          "xaxis": {
           "automargin": true,
           "gridcolor": "white",
           "linecolor": "white",
           "ticks": "",
           "title": {
            "standoff": 15
           },
           "zerolinecolor": "white",
           "zerolinewidth": 2
          },
          "yaxis": {
           "automargin": true,
           "gridcolor": "white",
           "linecolor": "white",
           "ticks": "",
           "title": {
            "standoff": 15
           },
           "zerolinecolor": "white",
           "zerolinewidth": 2
          }
         }
        },
        "title": {
         "text": "Where subject-1 Frequently spent time "
        },
        "xaxis": {
         "anchor": "y",
         "categoryarray": [
          "Home Apartment Room",
          "missing_val",
          "University",
          "Moving",
          "Relatives Home",
          "Outdoors",
          "Shop Pub Theater",
          "House (friends others)",
          "Other place"
         ],
         "categoryorder": "array",
         "domain": [
          0,
          1
         ],
         "title": {
          "text": "where"
         }
        },
        "yaxis": {
         "anchor": "x",
         "domain": [
          0,
          1
         ],
         "title": {
          "text": "count"
         }
        }
       }
      },
      "text/html": [
       "<div>                            <div id=\"a46e0882-c018-47b4-b722-3d45346aacfe\" class=\"plotly-graph-div\" style=\"height:525px; width:100%;\"></div>            <script type=\"text/javascript\">                require([\"plotly\"], function(Plotly) {                    window.PLOTLYENV=window.PLOTLYENV || {};                                    if (document.getElementById(\"a46e0882-c018-47b4-b722-3d45346aacfe\")) {                    Plotly.newPlot(                        \"a46e0882-c018-47b4-b722-3d45346aacfe\",                        [{\"alignmentgroup\":\"True\",\"hovertemplate\":\"where=%{x}<br>count=%{y}<extra></extra>\",\"legendgroup\":\"Home Apartment Room\",\"marker\":{\"color\":\"#636efa\",\"pattern\":{\"shape\":\"\"}},\"name\":\"Home Apartment Room\",\"offsetgroup\":\"Home Apartment Room\",\"orientation\":\"v\",\"showlegend\":true,\"textposition\":\"auto\",\"x\":[\"Home Apartment Room\"],\"xaxis\":\"x\",\"y\":[431],\"yaxis\":\"y\",\"type\":\"bar\"},{\"alignmentgroup\":\"True\",\"hovertemplate\":\"where=%{x}<br>count=%{y}<extra></extra>\",\"legendgroup\":\"missing_val\",\"marker\":{\"color\":\"#EF553B\",\"pattern\":{\"shape\":\"\"}},\"name\":\"missing_val\",\"offsetgroup\":\"missing_val\",\"orientation\":\"v\",\"showlegend\":true,\"textposition\":\"auto\",\"x\":[\"missing_val\"],\"xaxis\":\"x\",\"y\":[85],\"yaxis\":\"y\",\"type\":\"bar\"},{\"alignmentgroup\":\"True\",\"hovertemplate\":\"where=%{x}<br>count=%{y}<extra></extra>\",\"legendgroup\":\"University\",\"marker\":{\"color\":\"#00cc96\",\"pattern\":{\"shape\":\"\"}},\"name\":\"University\",\"offsetgroup\":\"University\",\"orientation\":\"v\",\"showlegend\":true,\"textposition\":\"auto\",\"x\":[\"University\"],\"xaxis\":\"x\",\"y\":[51],\"yaxis\":\"y\",\"type\":\"bar\"},{\"alignmentgroup\":\"True\",\"hovertemplate\":\"where=%{x}<br>count=%{y}<extra></extra>\",\"legendgroup\":\"Moving\",\"marker\":{\"color\":\"#ab63fa\",\"pattern\":{\"shape\":\"\"}},\"name\":\"Moving\",\"offsetgroup\":\"Moving\",\"orientation\":\"v\",\"showlegend\":true,\"textposition\":\"auto\",\"x\":[\"Moving\"],\"xaxis\":\"x\",\"y\":[39],\"yaxis\":\"y\",\"type\":\"bar\"},{\"alignmentgroup\":\"True\",\"hovertemplate\":\"where=%{x}<br>count=%{y}<extra></extra>\",\"legendgroup\":\"Relatives Home\",\"marker\":{\"color\":\"#FFA15A\",\"pattern\":{\"shape\":\"\"}},\"name\":\"Relatives Home\",\"offsetgroup\":\"Relatives Home\",\"orientation\":\"v\",\"showlegend\":true,\"textposition\":\"auto\",\"x\":[\"Relatives Home\"],\"xaxis\":\"x\",\"y\":[25],\"yaxis\":\"y\",\"type\":\"bar\"},{\"alignmentgroup\":\"True\",\"hovertemplate\":\"where=%{x}<br>count=%{y}<extra></extra>\",\"legendgroup\":\"Outdoors\",\"marker\":{\"color\":\"#19d3f3\",\"pattern\":{\"shape\":\"\"}},\"name\":\"Outdoors\",\"offsetgroup\":\"Outdoors\",\"orientation\":\"v\",\"showlegend\":true,\"textposition\":\"auto\",\"x\":[\"Outdoors\"],\"xaxis\":\"x\",\"y\":[15],\"yaxis\":\"y\",\"type\":\"bar\"},{\"alignmentgroup\":\"True\",\"hovertemplate\":\"where=%{x}<br>count=%{y}<extra></extra>\",\"legendgroup\":\"Shop Pub Theater\",\"marker\":{\"color\":\"#FF6692\",\"pattern\":{\"shape\":\"\"}},\"name\":\"Shop Pub Theater\",\"offsetgroup\":\"Shop Pub Theater\",\"orientation\":\"v\",\"showlegend\":true,\"textposition\":\"auto\",\"x\":[\"Shop Pub Theater\"],\"xaxis\":\"x\",\"y\":[10],\"yaxis\":\"y\",\"type\":\"bar\"},{\"alignmentgroup\":\"True\",\"hovertemplate\":\"where=%{x}<br>count=%{y}<extra></extra>\",\"legendgroup\":\"House (friends others)\",\"marker\":{\"color\":\"#B6E880\",\"pattern\":{\"shape\":\"\"}},\"name\":\"House (friends others)\",\"offsetgroup\":\"House (friends others)\",\"orientation\":\"v\",\"showlegend\":true,\"textposition\":\"auto\",\"x\":[\"House (friends others)\"],\"xaxis\":\"x\",\"y\":[9],\"yaxis\":\"y\",\"type\":\"bar\"},{\"alignmentgroup\":\"True\",\"hovertemplate\":\"where=%{x}<br>count=%{y}<extra></extra>\",\"legendgroup\":\"Other place\",\"marker\":{\"color\":\"#FF97FF\",\"pattern\":{\"shape\":\"\"}},\"name\":\"Other place\",\"offsetgroup\":\"Other place\",\"orientation\":\"v\",\"showlegend\":true,\"textposition\":\"auto\",\"x\":[\"Other place\"],\"xaxis\":\"x\",\"y\":[7],\"yaxis\":\"y\",\"type\":\"bar\"}],                        {\"template\":{\"data\":{\"bar\":[{\"error_x\":{\"color\":\"#2a3f5f\"},\"error_y\":{\"color\":\"#2a3f5f\"},\"marker\":{\"line\":{\"color\":\"#E5ECF6\",\"width\":0.5},\"pattern\":{\"fillmode\":\"overlay\",\"size\":10,\"solidity\":0.2}},\"type\":\"bar\"}],\"barpolar\":[{\"marker\":{\"line\":{\"color\":\"#E5ECF6\",\"width\":0.5},\"pattern\":{\"fillmode\":\"overlay\",\"size\":10,\"solidity\":0.2}},\"type\":\"barpolar\"}],\"carpet\":[{\"aaxis\":{\"endlinecolor\":\"#2a3f5f\",\"gridcolor\":\"white\",\"linecolor\":\"white\",\"minorgridcolor\":\"white\",\"startlinecolor\":\"#2a3f5f\"},\"baxis\":{\"endlinecolor\":\"#2a3f5f\",\"gridcolor\":\"white\",\"linecolor\":\"white\",\"minorgridcolor\":\"white\",\"startlinecolor\":\"#2a3f5f\"},\"type\":\"carpet\"}],\"choropleth\":[{\"colorbar\":{\"outlinewidth\":0,\"ticks\":\"\"},\"type\":\"choropleth\"}],\"contour\":[{\"colorbar\":{\"outlinewidth\":0,\"ticks\":\"\"},\"colorscale\":[[0.0,\"#0d0887\"],[0.1111111111111111,\"#46039f\"],[0.2222222222222222,\"#7201a8\"],[0.3333333333333333,\"#9c179e\"],[0.4444444444444444,\"#bd3786\"],[0.5555555555555556,\"#d8576b\"],[0.6666666666666666,\"#ed7953\"],[0.7777777777777778,\"#fb9f3a\"],[0.8888888888888888,\"#fdca26\"],[1.0,\"#f0f921\"]],\"type\":\"contour\"}],\"contourcarpet\":[{\"colorbar\":{\"outlinewidth\":0,\"ticks\":\"\"},\"type\":\"contourcarpet\"}],\"heatmap\":[{\"colorbar\":{\"outlinewidth\":0,\"ticks\":\"\"},\"colorscale\":[[0.0,\"#0d0887\"],[0.1111111111111111,\"#46039f\"],[0.2222222222222222,\"#7201a8\"],[0.3333333333333333,\"#9c179e\"],[0.4444444444444444,\"#bd3786\"],[0.5555555555555556,\"#d8576b\"],[0.6666666666666666,\"#ed7953\"],[0.7777777777777778,\"#fb9f3a\"],[0.8888888888888888,\"#fdca26\"],[1.0,\"#f0f921\"]],\"type\":\"heatmap\"}],\"heatmapgl\":[{\"colorbar\":{\"outlinewidth\":0,\"ticks\":\"\"},\"colorscale\":[[0.0,\"#0d0887\"],[0.1111111111111111,\"#46039f\"],[0.2222222222222222,\"#7201a8\"],[0.3333333333333333,\"#9c179e\"],[0.4444444444444444,\"#bd3786\"],[0.5555555555555556,\"#d8576b\"],[0.6666666666666666,\"#ed7953\"],[0.7777777777777778,\"#fb9f3a\"],[0.8888888888888888,\"#fdca26\"],[1.0,\"#f0f921\"]],\"type\":\"heatmapgl\"}],\"histogram\":[{\"marker\":{\"pattern\":{\"fillmode\":\"overlay\",\"size\":10,\"solidity\":0.2}},\"type\":\"histogram\"}],\"histogram2d\":[{\"colorbar\":{\"outlinewidth\":0,\"ticks\":\"\"},\"colorscale\":[[0.0,\"#0d0887\"],[0.1111111111111111,\"#46039f\"],[0.2222222222222222,\"#7201a8\"],[0.3333333333333333,\"#9c179e\"],[0.4444444444444444,\"#bd3786\"],[0.5555555555555556,\"#d8576b\"],[0.6666666666666666,\"#ed7953\"],[0.7777777777777778,\"#fb9f3a\"],[0.8888888888888888,\"#fdca26\"],[1.0,\"#f0f921\"]],\"type\":\"histogram2d\"}],\"histogram2dcontour\":[{\"colorbar\":{\"outlinewidth\":0,\"ticks\":\"\"},\"colorscale\":[[0.0,\"#0d0887\"],[0.1111111111111111,\"#46039f\"],[0.2222222222222222,\"#7201a8\"],[0.3333333333333333,\"#9c179e\"],[0.4444444444444444,\"#bd3786\"],[0.5555555555555556,\"#d8576b\"],[0.6666666666666666,\"#ed7953\"],[0.7777777777777778,\"#fb9f3a\"],[0.8888888888888888,\"#fdca26\"],[1.0,\"#f0f921\"]],\"type\":\"histogram2dcontour\"}],\"mesh3d\":[{\"colorbar\":{\"outlinewidth\":0,\"ticks\":\"\"},\"type\":\"mesh3d\"}],\"parcoords\":[{\"line\":{\"colorbar\":{\"outlinewidth\":0,\"ticks\":\"\"}},\"type\":\"parcoords\"}],\"pie\":[{\"automargin\":true,\"type\":\"pie\"}],\"scatter\":[{\"marker\":{\"colorbar\":{\"outlinewidth\":0,\"ticks\":\"\"}},\"type\":\"scatter\"}],\"scatter3d\":[{\"line\":{\"colorbar\":{\"outlinewidth\":0,\"ticks\":\"\"}},\"marker\":{\"colorbar\":{\"outlinewidth\":0,\"ticks\":\"\"}},\"type\":\"scatter3d\"}],\"scattercarpet\":[{\"marker\":{\"colorbar\":{\"outlinewidth\":0,\"ticks\":\"\"}},\"type\":\"scattercarpet\"}],\"scattergeo\":[{\"marker\":{\"colorbar\":{\"outlinewidth\":0,\"ticks\":\"\"}},\"type\":\"scattergeo\"}],\"scattergl\":[{\"marker\":{\"colorbar\":{\"outlinewidth\":0,\"ticks\":\"\"}},\"type\":\"scattergl\"}],\"scattermapbox\":[{\"marker\":{\"colorbar\":{\"outlinewidth\":0,\"ticks\":\"\"}},\"type\":\"scattermapbox\"}],\"scatterpolar\":[{\"marker\":{\"colorbar\":{\"outlinewidth\":0,\"ticks\":\"\"}},\"type\":\"scatterpolar\"}],\"scatterpolargl\":[{\"marker\":{\"colorbar\":{\"outlinewidth\":0,\"ticks\":\"\"}},\"type\":\"scatterpolargl\"}],\"scatterternary\":[{\"marker\":{\"colorbar\":{\"outlinewidth\":0,\"ticks\":\"\"}},\"type\":\"scatterternary\"}],\"surface\":[{\"colorbar\":{\"outlinewidth\":0,\"ticks\":\"\"},\"colorscale\":[[0.0,\"#0d0887\"],[0.1111111111111111,\"#46039f\"],[0.2222222222222222,\"#7201a8\"],[0.3333333333333333,\"#9c179e\"],[0.4444444444444444,\"#bd3786\"],[0.5555555555555556,\"#d8576b\"],[0.6666666666666666,\"#ed7953\"],[0.7777777777777778,\"#fb9f3a\"],[0.8888888888888888,\"#fdca26\"],[1.0,\"#f0f921\"]],\"type\":\"surface\"}],\"table\":[{\"cells\":{\"fill\":{\"color\":\"#EBF0F8\"},\"line\":{\"color\":\"white\"}},\"header\":{\"fill\":{\"color\":\"#C8D4E3\"},\"line\":{\"color\":\"white\"}},\"type\":\"table\"}]},\"layout\":{\"annotationdefaults\":{\"arrowcolor\":\"#2a3f5f\",\"arrowhead\":0,\"arrowwidth\":1},\"autotypenumbers\":\"strict\",\"coloraxis\":{\"colorbar\":{\"outlinewidth\":0,\"ticks\":\"\"}},\"colorscale\":{\"diverging\":[[0,\"#8e0152\"],[0.1,\"#c51b7d\"],[0.2,\"#de77ae\"],[0.3,\"#f1b6da\"],[0.4,\"#fde0ef\"],[0.5,\"#f7f7f7\"],[0.6,\"#e6f5d0\"],[0.7,\"#b8e186\"],[0.8,\"#7fbc41\"],[0.9,\"#4d9221\"],[1,\"#276419\"]],\"sequential\":[[0.0,\"#0d0887\"],[0.1111111111111111,\"#46039f\"],[0.2222222222222222,\"#7201a8\"],[0.3333333333333333,\"#9c179e\"],[0.4444444444444444,\"#bd3786\"],[0.5555555555555556,\"#d8576b\"],[0.6666666666666666,\"#ed7953\"],[0.7777777777777778,\"#fb9f3a\"],[0.8888888888888888,\"#fdca26\"],[1.0,\"#f0f921\"]],\"sequentialminus\":[[0.0,\"#0d0887\"],[0.1111111111111111,\"#46039f\"],[0.2222222222222222,\"#7201a8\"],[0.3333333333333333,\"#9c179e\"],[0.4444444444444444,\"#bd3786\"],[0.5555555555555556,\"#d8576b\"],[0.6666666666666666,\"#ed7953\"],[0.7777777777777778,\"#fb9f3a\"],[0.8888888888888888,\"#fdca26\"],[1.0,\"#f0f921\"]]},\"colorway\":[\"#636efa\",\"#EF553B\",\"#00cc96\",\"#ab63fa\",\"#FFA15A\",\"#19d3f3\",\"#FF6692\",\"#B6E880\",\"#FF97FF\",\"#FECB52\"],\"font\":{\"color\":\"#2a3f5f\"},\"geo\":{\"bgcolor\":\"white\",\"lakecolor\":\"white\",\"landcolor\":\"#E5ECF6\",\"showlakes\":true,\"showland\":true,\"subunitcolor\":\"white\"},\"hoverlabel\":{\"align\":\"left\"},\"hovermode\":\"closest\",\"mapbox\":{\"style\":\"light\"},\"paper_bgcolor\":\"white\",\"plot_bgcolor\":\"#E5ECF6\",\"polar\":{\"angularaxis\":{\"gridcolor\":\"white\",\"linecolor\":\"white\",\"ticks\":\"\"},\"bgcolor\":\"#E5ECF6\",\"radialaxis\":{\"gridcolor\":\"white\",\"linecolor\":\"white\",\"ticks\":\"\"}},\"scene\":{\"xaxis\":{\"backgroundcolor\":\"#E5ECF6\",\"gridcolor\":\"white\",\"gridwidth\":2,\"linecolor\":\"white\",\"showbackground\":true,\"ticks\":\"\",\"zerolinecolor\":\"white\"},\"yaxis\":{\"backgroundcolor\":\"#E5ECF6\",\"gridcolor\":\"white\",\"gridwidth\":2,\"linecolor\":\"white\",\"showbackground\":true,\"ticks\":\"\",\"zerolinecolor\":\"white\"},\"zaxis\":{\"backgroundcolor\":\"#E5ECF6\",\"gridcolor\":\"white\",\"gridwidth\":2,\"linecolor\":\"white\",\"showbackground\":true,\"ticks\":\"\",\"zerolinecolor\":\"white\"}},\"shapedefaults\":{\"line\":{\"color\":\"#2a3f5f\"}},\"ternary\":{\"aaxis\":{\"gridcolor\":\"white\",\"linecolor\":\"white\",\"ticks\":\"\"},\"baxis\":{\"gridcolor\":\"white\",\"linecolor\":\"white\",\"ticks\":\"\"},\"bgcolor\":\"#E5ECF6\",\"caxis\":{\"gridcolor\":\"white\",\"linecolor\":\"white\",\"ticks\":\"\"}},\"title\":{\"x\":0.05},\"xaxis\":{\"automargin\":true,\"gridcolor\":\"white\",\"linecolor\":\"white\",\"ticks\":\"\",\"title\":{\"standoff\":15},\"zerolinecolor\":\"white\",\"zerolinewidth\":2},\"yaxis\":{\"automargin\":true,\"gridcolor\":\"white\",\"linecolor\":\"white\",\"ticks\":\"\",\"title\":{\"standoff\":15},\"zerolinecolor\":\"white\",\"zerolinewidth\":2}}},\"xaxis\":{\"anchor\":\"y\",\"domain\":[0.0,1.0],\"title\":{\"text\":\"where\"},\"categoryorder\":\"array\",\"categoryarray\":[\"Home Apartment Room\",\"missing_val\",\"University\",\"Moving\",\"Relatives Home\",\"Outdoors\",\"Shop Pub Theater\",\"House (friends others)\",\"Other place\"]},\"yaxis\":{\"anchor\":\"x\",\"domain\":[0.0,1.0],\"title\":{\"text\":\"count\"}},\"legend\":{\"title\":{\"text\":\"where\"},\"tracegroupgap\":0},\"title\":{\"text\":\"Where subject-1 Frequently spent time \"},\"barmode\":\"relative\"},                        {\"responsive\": true}                    ).then(function(){\n",
       "                            \n",
       "var gd = document.getElementById('a46e0882-c018-47b4-b722-3d45346aacfe');\n",
       "var x = new MutationObserver(function (mutations, observer) {{\n",
       "        var display = window.getComputedStyle(gd).display;\n",
       "        if (!display || display === 'none') {{\n",
       "            console.log([gd, 'removed!']);\n",
       "            Plotly.purge(gd);\n",
       "            observer.disconnect();\n",
       "        }}\n",
       "}});\n",
       "\n",
       "// Listen for the removal of the full notebook cells\n",
       "var notebookContainer = gd.closest('#notebook-container');\n",
       "if (notebookContainer) {{\n",
       "    x.observe(notebookContainer, {childList: true});\n",
       "}}\n",
       "\n",
       "// Listen for the clearing of the current output cell\n",
       "var outputEl = gd.closest('.output');\n",
       "if (outputEl) {{\n",
       "    x.observe(outputEl, {childList: true});\n",
       "}}\n",
       "\n",
       "                        })                };                });            </script>        </div>"
      ]
     },
     "metadata": {},
     "output_type": "display_data"
    }
   ],
   "source": [
    "\n",
    "fig = px.bar(df_l, x=\"where\", y=\"count\", color=\"where\", title=\"Where subject-1 Frequently spent time \")\n",
    "fig.show()"
   ]
  },
  {
   "cell_type": "markdown",
   "metadata": {},
   "source": [
    "## 2D-  Activity  vs time of the day - [Heatmaps](https://plotly.com/python/heatmaps/)\n",
    "* Given spcfic hour of the day find the frequency of activity\n"
   ]
  },
  {
   "cell_type": "code",
   "execution_count": 23,
   "metadata": {},
   "outputs": [
    {
     "data": {
      "text/plain": [
       "defaultdict(int,\n",
       "            {'Eating': 7.0,\n",
       "             'Free time': 5.0,\n",
       "             'Null': 3.0,\n",
       "             'Social media,Phone; chat': 1.0,\n",
       "             'Travel': 4.0,\n",
       "             'Lesson': 5.0,\n",
       "             'Selfcare': 1.0,\n",
       "             'Study': 2.0})"
      ]
     },
     "execution_count": 23,
     "metadata": {},
     "output_type": "execute_result"
    }
   ],
   "source": [
    "time_activity_freq = defaultdict(lambda: defaultdict(int))\n",
    "for index,row in tdf_sub2.iterrows():\n",
    "    # extract hour from the time-column\n",
    "    hr = row.Time.strftime(\"%H\")\n",
    "    activity = row.activity\n",
    "    time_activity_freq[hr][activity]+=1.0\n",
    "# activity at time 13 of all-days \n",
    "time_activity_freq[\"13\"] "
   ]
  },
  {
   "cell_type": "markdown",
   "metadata": {},
   "source": [
    "* give index for each activity "
   ]
  },
  {
   "cell_type": "code",
   "execution_count": 25,
   "metadata": {},
   "outputs": [
    {
     "data": {
      "text/plain": [
       "{'Eating': 0,\n",
       " 'Free time': 1,\n",
       " 'Lesson': 2,\n",
       " 'Null': 3,\n",
       " 'Selfcare': 4,\n",
       " 'Sleeping': 5,\n",
       " 'Social life & Break': 6,\n",
       " 'Social media,Phone; chat': 7,\n",
       " 'Study': 8,\n",
       " 'Travel': 9,\n",
       " 'Watcing Youtube Tv-shows etc.': 10,\n",
       " 'Work': 11}"
      ]
     },
     "execution_count": 25,
     "metadata": {},
     "output_type": "execute_result"
    }
   ],
   "source": [
    "activities = tdf_sub2.activity.unique().tolist()\n",
    "activities.sort()\n",
    "activity_to_index = {activity:i for i,activity in enumerate(activities)}\n",
    "activity_to_index"
   ]
  },
  {
   "cell_type": "markdown",
   "metadata": {},
   "source": [
    "* give index for each hour "
   ]
  },
  {
   "cell_type": "code",
   "execution_count": 26,
   "metadata": {},
   "outputs": [],
   "source": [
    "\n",
    "hours = list(time_activity_freq.keys())\n",
    "hours.sort()\n",
    "hour_to_index = {hour:i for i,hour in enumerate(hours)}\n",
    "# hour_to_index"
   ]
  },
  {
   "cell_type": "markdown",
   "metadata": {},
   "source": [
    "* Get numpy array of activity and hour\n"
   ]
  },
  {
   "cell_type": "code",
   "execution_count": 82,
   "metadata": {},
   "outputs": [],
   "source": [
    "hit_map = np.zeros((len(activities),len(hours)))\n",
    "for hr in time_activity_freq:\n",
    "    for activity in time_activity_freq[hr]:\n",
    "        hit_map[activity_to_index[activity]][hour_to_index[hr]]=time_activity_freq[hr][activity]\n",
    "# hit_map       "
   ]
  },
  {
   "cell_type": "code",
   "execution_count": 83,
   "metadata": {},
   "outputs": [
    {
     "data": {
      "application/vnd.plotly.v1+json": {
       "config": {
        "plotlyServerURL": "https://plot.ly"
       },
       "data": [
        {
         "coloraxis": "coloraxis",
         "hovertemplate": "Time of Day: %{x}<br>Activity: %{y}<br>count: %{z}<extra></extra>",
         "name": "0",
         "type": "heatmap",
         "x": [
          "00",
          "01",
          "02",
          "03",
          "04",
          "05",
          "06",
          "07",
          "08",
          "09",
          "10",
          "11",
          "12",
          "13",
          "14",
          "15",
          "16",
          "17",
          "18",
          "19",
          "20",
          "21",
          "22",
          "23"
         ],
         "xaxis": "x",
         "y": [
          "Eating",
          "Free time",
          "Lesson",
          "Null",
          "Selfcare",
          "Sleeping",
          "Social life & Break",
          "Social media,Phone; chat",
          "Study",
          "Travel",
          "Watcing Youtube Tv-shows etc.",
          "Work"
         ],
         "yaxis": "y",
         "z": [
          [
           0,
           0,
           0,
           0,
           0,
           0,
           0,
           0,
           0,
           1,
           1,
           2,
           3,
           7,
           7,
           1,
           1,
           2,
           1,
           0,
           4,
           9,
           8,
           1
          ],
          [
           4,
           1,
           0,
           0,
           0,
           0,
           0,
           0,
           0,
           0,
           2,
           1,
           2,
           5,
           1,
           5,
           5,
           10,
           9,
           8,
           8,
           3,
           4,
           5
          ],
          [
           0,
           0,
           0,
           0,
           0,
           0,
           0,
           1,
           1,
           4,
           5,
           6,
           9,
           5,
           4,
           4,
           2,
           0,
           0,
           0,
           0,
           0,
           0,
           0
          ],
          [
           2,
           0,
           0,
           0,
           0,
           0,
           0,
           0,
           0,
           10,
           15,
           9,
           5,
           3,
           6,
           6,
           4,
           2,
           3,
           3,
           4,
           2,
           5,
           6
          ],
          [
           0,
           3,
           1,
           1,
           0,
           0,
           0,
           0,
           1,
           0,
           1,
           1,
           2,
           1,
           2,
           0,
           1,
           2,
           0,
           1,
           3,
           3,
           2,
           2
          ],
          [
           2,
           13,
           20,
           26,
           28,
           28,
           28,
           27,
           25,
           11,
           0,
           0,
           0,
           0,
           0,
           0,
           0,
           0,
           0,
           0,
           0,
           0,
           0,
           0
          ],
          [
           6,
           4,
           2,
           0,
           0,
           0,
           0,
           0,
           0,
           0,
           0,
           1,
           0,
           0,
           1,
           0,
           0,
           0,
           0,
           0,
           0,
           2,
           2,
           3
          ],
          [
           2,
           1,
           1,
           1,
           0,
           0,
           0,
           0,
           0,
           0,
           0,
           2,
           3,
           1,
           2,
           1,
           0,
           2,
           8,
           4,
           1,
           1,
           1,
           3
          ],
          [
           4,
           3,
           1,
           0,
           0,
           0,
           0,
           0,
           0,
           0,
           0,
           0,
           1,
           2,
           1,
           2,
           2,
           1,
           2,
           3,
           2,
           3,
           4,
           4
          ],
          [
           1,
           0,
           1,
           0,
           0,
           0,
           0,
           0,
           1,
           1,
           4,
           5,
           1,
           4,
           3,
           3,
           4,
           3,
           2,
           2,
           0,
           2,
           1,
           1
          ],
          [
           7,
           3,
           2,
           0,
           0,
           0,
           0,
           0,
           0,
           0,
           0,
           0,
           0,
           0,
           1,
           2,
           2,
           2,
           1,
           2,
           4,
           3,
           1,
           2
          ],
          [
           0,
           0,
           0,
           0,
           0,
           0,
           0,
           0,
           0,
           1,
           0,
           1,
           2,
           0,
           0,
           4,
           7,
           4,
           2,
           5,
           2,
           0,
           0,
           1
          ]
         ]
        }
       ],
       "layout": {
        "autosize": false,
        "coloraxis": {
         "colorbar": {
          "title": {
           "text": "count"
          }
         },
         "colorscale": [
          [
           0,
           "rgb(0,0,0)"
          ],
          [
           0.25,
           "rgb(230,0,0)"
          ],
          [
           0.5,
           "rgb(230,210,0)"
          ],
          [
           0.75,
           "rgb(255,255,255)"
          ],
          [
           1,
           "rgb(160,200,255)"
          ]
         ]
        },
        "height": 600,
        "margin": {
         "t": 60
        },
        "template": {
         "data": {
          "bar": [
           {
            "error_x": {
             "color": "#2a3f5f"
            },
            "error_y": {
             "color": "#2a3f5f"
            },
            "marker": {
             "line": {
              "color": "#E5ECF6",
              "width": 0.5
             },
             "pattern": {
              "fillmode": "overlay",
              "size": 10,
              "solidity": 0.2
             }
            },
            "type": "bar"
           }
          ],
          "barpolar": [
           {
            "marker": {
             "line": {
              "color": "#E5ECF6",
              "width": 0.5
             },
             "pattern": {
              "fillmode": "overlay",
              "size": 10,
              "solidity": 0.2
             }
            },
            "type": "barpolar"
           }
          ],
          "carpet": [
           {
            "aaxis": {
             "endlinecolor": "#2a3f5f",
             "gridcolor": "white",
             "linecolor": "white",
             "minorgridcolor": "white",
             "startlinecolor": "#2a3f5f"
            },
            "baxis": {
             "endlinecolor": "#2a3f5f",
             "gridcolor": "white",
             "linecolor": "white",
             "minorgridcolor": "white",
             "startlinecolor": "#2a3f5f"
            },
            "type": "carpet"
           }
          ],
          "choropleth": [
           {
            "colorbar": {
             "outlinewidth": 0,
             "ticks": ""
            },
            "type": "choropleth"
           }
          ],
          "contour": [
           {
            "colorbar": {
             "outlinewidth": 0,
             "ticks": ""
            },
            "colorscale": [
             [
              0,
              "#0d0887"
             ],
             [
              0.1111111111111111,
              "#46039f"
             ],
             [
              0.2222222222222222,
              "#7201a8"
             ],
             [
              0.3333333333333333,
              "#9c179e"
             ],
             [
              0.4444444444444444,
              "#bd3786"
             ],
             [
              0.5555555555555556,
              "#d8576b"
             ],
             [
              0.6666666666666666,
              "#ed7953"
             ],
             [
              0.7777777777777778,
              "#fb9f3a"
             ],
             [
              0.8888888888888888,
              "#fdca26"
             ],
             [
              1,
              "#f0f921"
             ]
            ],
            "type": "contour"
           }
          ],
          "contourcarpet": [
           {
            "colorbar": {
             "outlinewidth": 0,
             "ticks": ""
            },
            "type": "contourcarpet"
           }
          ],
          "heatmap": [
           {
            "colorbar": {
             "outlinewidth": 0,
             "ticks": ""
            },
            "colorscale": [
             [
              0,
              "#0d0887"
             ],
             [
              0.1111111111111111,
              "#46039f"
             ],
             [
              0.2222222222222222,
              "#7201a8"
             ],
             [
              0.3333333333333333,
              "#9c179e"
             ],
             [
              0.4444444444444444,
              "#bd3786"
             ],
             [
              0.5555555555555556,
              "#d8576b"
             ],
             [
              0.6666666666666666,
              "#ed7953"
             ],
             [
              0.7777777777777778,
              "#fb9f3a"
             ],
             [
              0.8888888888888888,
              "#fdca26"
             ],
             [
              1,
              "#f0f921"
             ]
            ],
            "type": "heatmap"
           }
          ],
          "heatmapgl": [
           {
            "colorbar": {
             "outlinewidth": 0,
             "ticks": ""
            },
            "colorscale": [
             [
              0,
              "#0d0887"
             ],
             [
              0.1111111111111111,
              "#46039f"
             ],
             [
              0.2222222222222222,
              "#7201a8"
             ],
             [
              0.3333333333333333,
              "#9c179e"
             ],
             [
              0.4444444444444444,
              "#bd3786"
             ],
             [
              0.5555555555555556,
              "#d8576b"
             ],
             [
              0.6666666666666666,
              "#ed7953"
             ],
             [
              0.7777777777777778,
              "#fb9f3a"
             ],
             [
              0.8888888888888888,
              "#fdca26"
             ],
             [
              1,
              "#f0f921"
             ]
            ],
            "type": "heatmapgl"
           }
          ],
          "histogram": [
           {
            "marker": {
             "pattern": {
              "fillmode": "overlay",
              "size": 10,
              "solidity": 0.2
             }
            },
            "type": "histogram"
           }
          ],
          "histogram2d": [
           {
            "colorbar": {
             "outlinewidth": 0,
             "ticks": ""
            },
            "colorscale": [
             [
              0,
              "#0d0887"
             ],
             [
              0.1111111111111111,
              "#46039f"
             ],
             [
              0.2222222222222222,
              "#7201a8"
             ],
             [
              0.3333333333333333,
              "#9c179e"
             ],
             [
              0.4444444444444444,
              "#bd3786"
             ],
             [
              0.5555555555555556,
              "#d8576b"
             ],
             [
              0.6666666666666666,
              "#ed7953"
             ],
             [
              0.7777777777777778,
              "#fb9f3a"
             ],
             [
              0.8888888888888888,
              "#fdca26"
             ],
             [
              1,
              "#f0f921"
             ]
            ],
            "type": "histogram2d"
           }
          ],
          "histogram2dcontour": [
           {
            "colorbar": {
             "outlinewidth": 0,
             "ticks": ""
            },
            "colorscale": [
             [
              0,
              "#0d0887"
             ],
             [
              0.1111111111111111,
              "#46039f"
             ],
             [
              0.2222222222222222,
              "#7201a8"
             ],
             [
              0.3333333333333333,
              "#9c179e"
             ],
             [
              0.4444444444444444,
              "#bd3786"
             ],
             [
              0.5555555555555556,
              "#d8576b"
             ],
             [
              0.6666666666666666,
              "#ed7953"
             ],
             [
              0.7777777777777778,
              "#fb9f3a"
             ],
             [
              0.8888888888888888,
              "#fdca26"
             ],
             [
              1,
              "#f0f921"
             ]
            ],
            "type": "histogram2dcontour"
           }
          ],
          "mesh3d": [
           {
            "colorbar": {
             "outlinewidth": 0,
             "ticks": ""
            },
            "type": "mesh3d"
           }
          ],
          "parcoords": [
           {
            "line": {
             "colorbar": {
              "outlinewidth": 0,
              "ticks": ""
             }
            },
            "type": "parcoords"
           }
          ],
          "pie": [
           {
            "automargin": true,
            "type": "pie"
           }
          ],
          "scatter": [
           {
            "marker": {
             "colorbar": {
              "outlinewidth": 0,
              "ticks": ""
             }
            },
            "type": "scatter"
           }
          ],
          "scatter3d": [
           {
            "line": {
             "colorbar": {
              "outlinewidth": 0,
              "ticks": ""
             }
            },
            "marker": {
             "colorbar": {
              "outlinewidth": 0,
              "ticks": ""
             }
            },
            "type": "scatter3d"
           }
          ],
          "scattercarpet": [
           {
            "marker": {
             "colorbar": {
              "outlinewidth": 0,
              "ticks": ""
             }
            },
            "type": "scattercarpet"
           }
          ],
          "scattergeo": [
           {
            "marker": {
             "colorbar": {
              "outlinewidth": 0,
              "ticks": ""
             }
            },
            "type": "scattergeo"
           }
          ],
          "scattergl": [
           {
            "marker": {
             "colorbar": {
              "outlinewidth": 0,
              "ticks": ""
             }
            },
            "type": "scattergl"
           }
          ],
          "scattermapbox": [
           {
            "marker": {
             "colorbar": {
              "outlinewidth": 0,
              "ticks": ""
             }
            },
            "type": "scattermapbox"
           }
          ],
          "scatterpolar": [
           {
            "marker": {
             "colorbar": {
              "outlinewidth": 0,
              "ticks": ""
             }
            },
            "type": "scatterpolar"
           }
          ],
          "scatterpolargl": [
           {
            "marker": {
             "colorbar": {
              "outlinewidth": 0,
              "ticks": ""
             }
            },
            "type": "scatterpolargl"
           }
          ],
          "scatterternary": [
           {
            "marker": {
             "colorbar": {
              "outlinewidth": 0,
              "ticks": ""
             }
            },
            "type": "scatterternary"
           }
          ],
          "surface": [
           {
            "colorbar": {
             "outlinewidth": 0,
             "ticks": ""
            },
            "colorscale": [
             [
              0,
              "#0d0887"
             ],
             [
              0.1111111111111111,
              "#46039f"
             ],
             [
              0.2222222222222222,
              "#7201a8"
             ],
             [
              0.3333333333333333,
              "#9c179e"
             ],
             [
              0.4444444444444444,
              "#bd3786"
             ],
             [
              0.5555555555555556,
              "#d8576b"
             ],
             [
              0.6666666666666666,
              "#ed7953"
             ],
             [
              0.7777777777777778,
              "#fb9f3a"
             ],
             [
              0.8888888888888888,
              "#fdca26"
             ],
             [
              1,
              "#f0f921"
             ]
            ],
            "type": "surface"
           }
          ],
          "table": [
           {
            "cells": {
             "fill": {
              "color": "#EBF0F8"
             },
             "line": {
              "color": "white"
             }
            },
            "header": {
             "fill": {
              "color": "#C8D4E3"
             },
             "line": {
              "color": "white"
             }
            },
            "type": "table"
           }
          ]
         },
         "layout": {
          "annotationdefaults": {
           "arrowcolor": "#2a3f5f",
           "arrowhead": 0,
           "arrowwidth": 1
          },
          "autotypenumbers": "strict",
          "coloraxis": {
           "colorbar": {
            "outlinewidth": 0,
            "ticks": ""
           }
          },
          "colorscale": {
           "diverging": [
            [
             0,
             "#8e0152"
            ],
            [
             0.1,
             "#c51b7d"
            ],
            [
             0.2,
             "#de77ae"
            ],
            [
             0.3,
             "#f1b6da"
            ],
            [
             0.4,
             "#fde0ef"
            ],
            [
             0.5,
             "#f7f7f7"
            ],
            [
             0.6,
             "#e6f5d0"
            ],
            [
             0.7,
             "#b8e186"
            ],
            [
             0.8,
             "#7fbc41"
            ],
            [
             0.9,
             "#4d9221"
            ],
            [
             1,
             "#276419"
            ]
           ],
           "sequential": [
            [
             0,
             "#0d0887"
            ],
            [
             0.1111111111111111,
             "#46039f"
            ],
            [
             0.2222222222222222,
             "#7201a8"
            ],
            [
             0.3333333333333333,
             "#9c179e"
            ],
            [
             0.4444444444444444,
             "#bd3786"
            ],
            [
             0.5555555555555556,
             "#d8576b"
            ],
            [
             0.6666666666666666,
             "#ed7953"
            ],
            [
             0.7777777777777778,
             "#fb9f3a"
            ],
            [
             0.8888888888888888,
             "#fdca26"
            ],
            [
             1,
             "#f0f921"
            ]
           ],
           "sequentialminus": [
            [
             0,
             "#0d0887"
            ],
            [
             0.1111111111111111,
             "#46039f"
            ],
            [
             0.2222222222222222,
             "#7201a8"
            ],
            [
             0.3333333333333333,
             "#9c179e"
            ],
            [
             0.4444444444444444,
             "#bd3786"
            ],
            [
             0.5555555555555556,
             "#d8576b"
            ],
            [
             0.6666666666666666,
             "#ed7953"
            ],
            [
             0.7777777777777778,
             "#fb9f3a"
            ],
            [
             0.8888888888888888,
             "#fdca26"
            ],
            [
             1,
             "#f0f921"
            ]
           ]
          },
          "colorway": [
           "#636efa",
           "#EF553B",
           "#00cc96",
           "#ab63fa",
           "#FFA15A",
           "#19d3f3",
           "#FF6692",
           "#B6E880",
           "#FF97FF",
           "#FECB52"
          ],
          "font": {
           "color": "#2a3f5f"
          },
          "geo": {
           "bgcolor": "white",
           "lakecolor": "white",
           "landcolor": "#E5ECF6",
           "showlakes": true,
           "showland": true,
           "subunitcolor": "white"
          },
          "hoverlabel": {
           "align": "left"
          },
          "hovermode": "closest",
          "mapbox": {
           "style": "light"
          },
          "paper_bgcolor": "white",
          "plot_bgcolor": "#E5ECF6",
          "polar": {
           "angularaxis": {
            "gridcolor": "white",
            "linecolor": "white",
            "ticks": ""
           },
           "bgcolor": "#E5ECF6",
           "radialaxis": {
            "gridcolor": "white",
            "linecolor": "white",
            "ticks": ""
           }
          },
          "scene": {
           "xaxis": {
            "backgroundcolor": "#E5ECF6",
            "gridcolor": "white",
            "gridwidth": 2,
            "linecolor": "white",
            "showbackground": true,
            "ticks": "",
            "zerolinecolor": "white"
           },
           "yaxis": {
            "backgroundcolor": "#E5ECF6",
            "gridcolor": "white",
            "gridwidth": 2,
            "linecolor": "white",
            "showbackground": true,
            "ticks": "",
            "zerolinecolor": "white"
           },
           "zaxis": {
            "backgroundcolor": "#E5ECF6",
            "gridcolor": "white",
            "gridwidth": 2,
            "linecolor": "white",
            "showbackground": true,
            "ticks": "",
            "zerolinecolor": "white"
           }
          },
          "shapedefaults": {
           "line": {
            "color": "#2a3f5f"
           }
          },
          "ternary": {
           "aaxis": {
            "gridcolor": "white",
            "linecolor": "white",
            "ticks": ""
           },
           "baxis": {
            "gridcolor": "white",
            "linecolor": "white",
            "ticks": ""
           },
           "bgcolor": "#E5ECF6",
           "caxis": {
            "gridcolor": "white",
            "linecolor": "white",
            "ticks": ""
           }
          },
          "title": {
           "x": 0.05
          },
          "xaxis": {
           "automargin": true,
           "gridcolor": "white",
           "linecolor": "white",
           "ticks": "",
           "title": {
            "standoff": 15
           },
           "zerolinecolor": "white",
           "zerolinewidth": 2
          },
          "yaxis": {
           "automargin": true,
           "gridcolor": "white",
           "linecolor": "white",
           "ticks": "",
           "title": {
            "standoff": 15
           },
           "zerolinecolor": "white",
           "zerolinewidth": 2
          }
         }
        },
        "title": {
         "text": "Subject-2-the mapping of activity data with hours of the day"
        },
        "width": 900,
        "xaxis": {
         "anchor": "y",
         "constrain": "domain",
         "domain": [
          0,
          1
         ],
         "scaleanchor": "y",
         "title": {
          "text": "Time of Day"
         }
        },
        "yaxis": {
         "anchor": "x",
         "autorange": "reversed",
         "constrain": "domain",
         "domain": [
          0,
          1
         ],
         "title": {
          "text": "Activity"
         }
        }
       }
      },
      "text/html": [
       "<div>                            <div id=\"46d343e7-19c6-4098-8320-dc218d809871\" class=\"plotly-graph-div\" style=\"height:600px; width:900px;\"></div>            <script type=\"text/javascript\">                require([\"plotly\"], function(Plotly) {                    window.PLOTLYENV=window.PLOTLYENV || {};                                    if (document.getElementById(\"46d343e7-19c6-4098-8320-dc218d809871\")) {                    Plotly.newPlot(                        \"46d343e7-19c6-4098-8320-dc218d809871\",                        [{\"coloraxis\":\"coloraxis\",\"name\":\"0\",\"x\":[\"00\",\"01\",\"02\",\"03\",\"04\",\"05\",\"06\",\"07\",\"08\",\"09\",\"10\",\"11\",\"12\",\"13\",\"14\",\"15\",\"16\",\"17\",\"18\",\"19\",\"20\",\"21\",\"22\",\"23\"],\"y\":[\"Eating\",\"Free time\",\"Lesson\",\"Null\",\"Selfcare\",\"Sleeping\",\"Social life & Break\",\"Social media,Phone; chat\",\"Study\",\"Travel\",\"Watcing Youtube Tv-shows etc.\",\"Work\"],\"z\":[[0.0,0.0,0.0,0.0,0.0,0.0,0.0,0.0,0.0,1.0,1.0,2.0,3.0,7.0,7.0,1.0,1.0,2.0,1.0,0.0,4.0,9.0,8.0,1.0],[4.0,1.0,0.0,0.0,0.0,0.0,0.0,0.0,0.0,0.0,2.0,1.0,2.0,5.0,1.0,5.0,5.0,10.0,9.0,8.0,8.0,3.0,4.0,5.0],[0.0,0.0,0.0,0.0,0.0,0.0,0.0,1.0,1.0,4.0,5.0,6.0,9.0,5.0,4.0,4.0,2.0,0.0,0.0,0.0,0.0,0.0,0.0,0.0],[2.0,0.0,0.0,0.0,0.0,0.0,0.0,0.0,0.0,10.0,15.0,9.0,5.0,3.0,6.0,6.0,4.0,2.0,3.0,3.0,4.0,2.0,5.0,6.0],[0.0,3.0,1.0,1.0,0.0,0.0,0.0,0.0,1.0,0.0,1.0,1.0,2.0,1.0,2.0,0.0,1.0,2.0,0.0,1.0,3.0,3.0,2.0,2.0],[2.0,13.0,20.0,26.0,28.0,28.0,28.0,27.0,25.0,11.0,0.0,0.0,0.0,0.0,0.0,0.0,0.0,0.0,0.0,0.0,0.0,0.0,0.0,0.0],[6.0,4.0,2.0,0.0,0.0,0.0,0.0,0.0,0.0,0.0,0.0,1.0,0.0,0.0,1.0,0.0,0.0,0.0,0.0,0.0,0.0,2.0,2.0,3.0],[2.0,1.0,1.0,1.0,0.0,0.0,0.0,0.0,0.0,0.0,0.0,2.0,3.0,1.0,2.0,1.0,0.0,2.0,8.0,4.0,1.0,1.0,1.0,3.0],[4.0,3.0,1.0,0.0,0.0,0.0,0.0,0.0,0.0,0.0,0.0,0.0,1.0,2.0,1.0,2.0,2.0,1.0,2.0,3.0,2.0,3.0,4.0,4.0],[1.0,0.0,1.0,0.0,0.0,0.0,0.0,0.0,1.0,1.0,4.0,5.0,1.0,4.0,3.0,3.0,4.0,3.0,2.0,2.0,0.0,2.0,1.0,1.0],[7.0,3.0,2.0,0.0,0.0,0.0,0.0,0.0,0.0,0.0,0.0,0.0,0.0,0.0,1.0,2.0,2.0,2.0,1.0,2.0,4.0,3.0,1.0,2.0],[0.0,0.0,0.0,0.0,0.0,0.0,0.0,0.0,0.0,1.0,0.0,1.0,2.0,0.0,0.0,4.0,7.0,4.0,2.0,5.0,2.0,0.0,0.0,1.0]],\"type\":\"heatmap\",\"xaxis\":\"x\",\"yaxis\":\"y\",\"hovertemplate\":\"Time of Day: %{x}<br>Activity: %{y}<br>count: %{z}<extra></extra>\"}],                        {\"template\":{\"data\":{\"bar\":[{\"error_x\":{\"color\":\"#2a3f5f\"},\"error_y\":{\"color\":\"#2a3f5f\"},\"marker\":{\"line\":{\"color\":\"#E5ECF6\",\"width\":0.5},\"pattern\":{\"fillmode\":\"overlay\",\"size\":10,\"solidity\":0.2}},\"type\":\"bar\"}],\"barpolar\":[{\"marker\":{\"line\":{\"color\":\"#E5ECF6\",\"width\":0.5},\"pattern\":{\"fillmode\":\"overlay\",\"size\":10,\"solidity\":0.2}},\"type\":\"barpolar\"}],\"carpet\":[{\"aaxis\":{\"endlinecolor\":\"#2a3f5f\",\"gridcolor\":\"white\",\"linecolor\":\"white\",\"minorgridcolor\":\"white\",\"startlinecolor\":\"#2a3f5f\"},\"baxis\":{\"endlinecolor\":\"#2a3f5f\",\"gridcolor\":\"white\",\"linecolor\":\"white\",\"minorgridcolor\":\"white\",\"startlinecolor\":\"#2a3f5f\"},\"type\":\"carpet\"}],\"choropleth\":[{\"colorbar\":{\"outlinewidth\":0,\"ticks\":\"\"},\"type\":\"choropleth\"}],\"contour\":[{\"colorbar\":{\"outlinewidth\":0,\"ticks\":\"\"},\"colorscale\":[[0.0,\"#0d0887\"],[0.1111111111111111,\"#46039f\"],[0.2222222222222222,\"#7201a8\"],[0.3333333333333333,\"#9c179e\"],[0.4444444444444444,\"#bd3786\"],[0.5555555555555556,\"#d8576b\"],[0.6666666666666666,\"#ed7953\"],[0.7777777777777778,\"#fb9f3a\"],[0.8888888888888888,\"#fdca26\"],[1.0,\"#f0f921\"]],\"type\":\"contour\"}],\"contourcarpet\":[{\"colorbar\":{\"outlinewidth\":0,\"ticks\":\"\"},\"type\":\"contourcarpet\"}],\"heatmap\":[{\"colorbar\":{\"outlinewidth\":0,\"ticks\":\"\"},\"colorscale\":[[0.0,\"#0d0887\"],[0.1111111111111111,\"#46039f\"],[0.2222222222222222,\"#7201a8\"],[0.3333333333333333,\"#9c179e\"],[0.4444444444444444,\"#bd3786\"],[0.5555555555555556,\"#d8576b\"],[0.6666666666666666,\"#ed7953\"],[0.7777777777777778,\"#fb9f3a\"],[0.8888888888888888,\"#fdca26\"],[1.0,\"#f0f921\"]],\"type\":\"heatmap\"}],\"heatmapgl\":[{\"colorbar\":{\"outlinewidth\":0,\"ticks\":\"\"},\"colorscale\":[[0.0,\"#0d0887\"],[0.1111111111111111,\"#46039f\"],[0.2222222222222222,\"#7201a8\"],[0.3333333333333333,\"#9c179e\"],[0.4444444444444444,\"#bd3786\"],[0.5555555555555556,\"#d8576b\"],[0.6666666666666666,\"#ed7953\"],[0.7777777777777778,\"#fb9f3a\"],[0.8888888888888888,\"#fdca26\"],[1.0,\"#f0f921\"]],\"type\":\"heatmapgl\"}],\"histogram\":[{\"marker\":{\"pattern\":{\"fillmode\":\"overlay\",\"size\":10,\"solidity\":0.2}},\"type\":\"histogram\"}],\"histogram2d\":[{\"colorbar\":{\"outlinewidth\":0,\"ticks\":\"\"},\"colorscale\":[[0.0,\"#0d0887\"],[0.1111111111111111,\"#46039f\"],[0.2222222222222222,\"#7201a8\"],[0.3333333333333333,\"#9c179e\"],[0.4444444444444444,\"#bd3786\"],[0.5555555555555556,\"#d8576b\"],[0.6666666666666666,\"#ed7953\"],[0.7777777777777778,\"#fb9f3a\"],[0.8888888888888888,\"#fdca26\"],[1.0,\"#f0f921\"]],\"type\":\"histogram2d\"}],\"histogram2dcontour\":[{\"colorbar\":{\"outlinewidth\":0,\"ticks\":\"\"},\"colorscale\":[[0.0,\"#0d0887\"],[0.1111111111111111,\"#46039f\"],[0.2222222222222222,\"#7201a8\"],[0.3333333333333333,\"#9c179e\"],[0.4444444444444444,\"#bd3786\"],[0.5555555555555556,\"#d8576b\"],[0.6666666666666666,\"#ed7953\"],[0.7777777777777778,\"#fb9f3a\"],[0.8888888888888888,\"#fdca26\"],[1.0,\"#f0f921\"]],\"type\":\"histogram2dcontour\"}],\"mesh3d\":[{\"colorbar\":{\"outlinewidth\":0,\"ticks\":\"\"},\"type\":\"mesh3d\"}],\"parcoords\":[{\"line\":{\"colorbar\":{\"outlinewidth\":0,\"ticks\":\"\"}},\"type\":\"parcoords\"}],\"pie\":[{\"automargin\":true,\"type\":\"pie\"}],\"scatter\":[{\"marker\":{\"colorbar\":{\"outlinewidth\":0,\"ticks\":\"\"}},\"type\":\"scatter\"}],\"scatter3d\":[{\"line\":{\"colorbar\":{\"outlinewidth\":0,\"ticks\":\"\"}},\"marker\":{\"colorbar\":{\"outlinewidth\":0,\"ticks\":\"\"}},\"type\":\"scatter3d\"}],\"scattercarpet\":[{\"marker\":{\"colorbar\":{\"outlinewidth\":0,\"ticks\":\"\"}},\"type\":\"scattercarpet\"}],\"scattergeo\":[{\"marker\":{\"colorbar\":{\"outlinewidth\":0,\"ticks\":\"\"}},\"type\":\"scattergeo\"}],\"scattergl\":[{\"marker\":{\"colorbar\":{\"outlinewidth\":0,\"ticks\":\"\"}},\"type\":\"scattergl\"}],\"scattermapbox\":[{\"marker\":{\"colorbar\":{\"outlinewidth\":0,\"ticks\":\"\"}},\"type\":\"scattermapbox\"}],\"scatterpolar\":[{\"marker\":{\"colorbar\":{\"outlinewidth\":0,\"ticks\":\"\"}},\"type\":\"scatterpolar\"}],\"scatterpolargl\":[{\"marker\":{\"colorbar\":{\"outlinewidth\":0,\"ticks\":\"\"}},\"type\":\"scatterpolargl\"}],\"scatterternary\":[{\"marker\":{\"colorbar\":{\"outlinewidth\":0,\"ticks\":\"\"}},\"type\":\"scatterternary\"}],\"surface\":[{\"colorbar\":{\"outlinewidth\":0,\"ticks\":\"\"},\"colorscale\":[[0.0,\"#0d0887\"],[0.1111111111111111,\"#46039f\"],[0.2222222222222222,\"#7201a8\"],[0.3333333333333333,\"#9c179e\"],[0.4444444444444444,\"#bd3786\"],[0.5555555555555556,\"#d8576b\"],[0.6666666666666666,\"#ed7953\"],[0.7777777777777778,\"#fb9f3a\"],[0.8888888888888888,\"#fdca26\"],[1.0,\"#f0f921\"]],\"type\":\"surface\"}],\"table\":[{\"cells\":{\"fill\":{\"color\":\"#EBF0F8\"},\"line\":{\"color\":\"white\"}},\"header\":{\"fill\":{\"color\":\"#C8D4E3\"},\"line\":{\"color\":\"white\"}},\"type\":\"table\"}]},\"layout\":{\"annotationdefaults\":{\"arrowcolor\":\"#2a3f5f\",\"arrowhead\":0,\"arrowwidth\":1},\"autotypenumbers\":\"strict\",\"coloraxis\":{\"colorbar\":{\"outlinewidth\":0,\"ticks\":\"\"}},\"colorscale\":{\"diverging\":[[0,\"#8e0152\"],[0.1,\"#c51b7d\"],[0.2,\"#de77ae\"],[0.3,\"#f1b6da\"],[0.4,\"#fde0ef\"],[0.5,\"#f7f7f7\"],[0.6,\"#e6f5d0\"],[0.7,\"#b8e186\"],[0.8,\"#7fbc41\"],[0.9,\"#4d9221\"],[1,\"#276419\"]],\"sequential\":[[0.0,\"#0d0887\"],[0.1111111111111111,\"#46039f\"],[0.2222222222222222,\"#7201a8\"],[0.3333333333333333,\"#9c179e\"],[0.4444444444444444,\"#bd3786\"],[0.5555555555555556,\"#d8576b\"],[0.6666666666666666,\"#ed7953\"],[0.7777777777777778,\"#fb9f3a\"],[0.8888888888888888,\"#fdca26\"],[1.0,\"#f0f921\"]],\"sequentialminus\":[[0.0,\"#0d0887\"],[0.1111111111111111,\"#46039f\"],[0.2222222222222222,\"#7201a8\"],[0.3333333333333333,\"#9c179e\"],[0.4444444444444444,\"#bd3786\"],[0.5555555555555556,\"#d8576b\"],[0.6666666666666666,\"#ed7953\"],[0.7777777777777778,\"#fb9f3a\"],[0.8888888888888888,\"#fdca26\"],[1.0,\"#f0f921\"]]},\"colorway\":[\"#636efa\",\"#EF553B\",\"#00cc96\",\"#ab63fa\",\"#FFA15A\",\"#19d3f3\",\"#FF6692\",\"#B6E880\",\"#FF97FF\",\"#FECB52\"],\"font\":{\"color\":\"#2a3f5f\"},\"geo\":{\"bgcolor\":\"white\",\"lakecolor\":\"white\",\"landcolor\":\"#E5ECF6\",\"showlakes\":true,\"showland\":true,\"subunitcolor\":\"white\"},\"hoverlabel\":{\"align\":\"left\"},\"hovermode\":\"closest\",\"mapbox\":{\"style\":\"light\"},\"paper_bgcolor\":\"white\",\"plot_bgcolor\":\"#E5ECF6\",\"polar\":{\"angularaxis\":{\"gridcolor\":\"white\",\"linecolor\":\"white\",\"ticks\":\"\"},\"bgcolor\":\"#E5ECF6\",\"radialaxis\":{\"gridcolor\":\"white\",\"linecolor\":\"white\",\"ticks\":\"\"}},\"scene\":{\"xaxis\":{\"backgroundcolor\":\"#E5ECF6\",\"gridcolor\":\"white\",\"gridwidth\":2,\"linecolor\":\"white\",\"showbackground\":true,\"ticks\":\"\",\"zerolinecolor\":\"white\"},\"yaxis\":{\"backgroundcolor\":\"#E5ECF6\",\"gridcolor\":\"white\",\"gridwidth\":2,\"linecolor\":\"white\",\"showbackground\":true,\"ticks\":\"\",\"zerolinecolor\":\"white\"},\"zaxis\":{\"backgroundcolor\":\"#E5ECF6\",\"gridcolor\":\"white\",\"gridwidth\":2,\"linecolor\":\"white\",\"showbackground\":true,\"ticks\":\"\",\"zerolinecolor\":\"white\"}},\"shapedefaults\":{\"line\":{\"color\":\"#2a3f5f\"}},\"ternary\":{\"aaxis\":{\"gridcolor\":\"white\",\"linecolor\":\"white\",\"ticks\":\"\"},\"baxis\":{\"gridcolor\":\"white\",\"linecolor\":\"white\",\"ticks\":\"\"},\"bgcolor\":\"#E5ECF6\",\"caxis\":{\"gridcolor\":\"white\",\"linecolor\":\"white\",\"ticks\":\"\"}},\"title\":{\"x\":0.05},\"xaxis\":{\"automargin\":true,\"gridcolor\":\"white\",\"linecolor\":\"white\",\"ticks\":\"\",\"title\":{\"standoff\":15},\"zerolinecolor\":\"white\",\"zerolinewidth\":2},\"yaxis\":{\"automargin\":true,\"gridcolor\":\"white\",\"linecolor\":\"white\",\"ticks\":\"\",\"title\":{\"standoff\":15},\"zerolinecolor\":\"white\",\"zerolinewidth\":2}}},\"xaxis\":{\"anchor\":\"y\",\"domain\":[0.0,1.0],\"scaleanchor\":\"y\",\"constrain\":\"domain\",\"title\":{\"text\":\"Time of Day\"}},\"yaxis\":{\"anchor\":\"x\",\"domain\":[0.0,1.0],\"autorange\":\"reversed\",\"constrain\":\"domain\",\"title\":{\"text\":\"Activity\"}},\"coloraxis\":{\"colorbar\":{\"title\":{\"text\":\"count\"}},\"colorscale\":[[0.0,\"rgb(0,0,0)\"],[0.25,\"rgb(230,0,0)\"],[0.5,\"rgb(230,210,0)\"],[0.75,\"rgb(255,255,255)\"],[1.0,\"rgb(160,200,255)\"]]},\"margin\":{\"t\":60},\"title\":{\"text\":\"Subject-2-the mapping of activity data with hours of the day\"},\"autosize\":false,\"width\":900,\"height\":600},                        {\"responsive\": true}                    ).then(function(){\n",
       "                            \n",
       "var gd = document.getElementById('46d343e7-19c6-4098-8320-dc218d809871');\n",
       "var x = new MutationObserver(function (mutations, observer) {{\n",
       "        var display = window.getComputedStyle(gd).display;\n",
       "        if (!display || display === 'none') {{\n",
       "            console.log([gd, 'removed!']);\n",
       "            Plotly.purge(gd);\n",
       "            observer.disconnect();\n",
       "        }}\n",
       "}});\n",
       "\n",
       "// Listen for the removal of the full notebook cells\n",
       "var notebookContainer = gd.closest('#notebook-container');\n",
       "if (notebookContainer) {{\n",
       "    x.observe(notebookContainer, {childList: true});\n",
       "}}\n",
       "\n",
       "// Listen for the clearing of the current output cell\n",
       "var outputEl = gd.closest('.output');\n",
       "if (outputEl) {{\n",
       "    x.observe(outputEl, {childList: true});\n",
       "}}\n",
       "\n",
       "                        })                };                });            </script>        </div>"
      ]
     },
     "metadata": {},
     "output_type": "display_data"
    }
   ],
   "source": [
    "fig = px.imshow(hit_map,\n",
    "                labels=dict(y=\"Activity\", x=\"Time of Day\",color=\"count\"),\n",
    "                y=activities,\n",
    "                x=hours,\n",
    "                color_continuous_scale= 'blackbody'\n",
    "\n",
    "             )\n",
    "fig.update_layout(autosize = False, width=900,height = 600,title_text='Subject-2-the mapping of activity data with hours of the day')\n",
    "fig.show()"
   ]
  },
  {
   "cell_type": "markdown",
   "metadata": {},
   "source": [
    "## 2D- Mood  vs Time of the day \n"
   ]
  },
  {
   "cell_type": "code",
   "execution_count": 29,
   "metadata": {},
   "outputs": [
    {
     "data": {
      "text/plain": [
       "defaultdict(int,\n",
       "            {'Fairly happy': 9.0,\n",
       "             'Very happy': 10.0,\n",
       "             'Fairly sad': 1.0,\n",
       "             'Neutral': 1.0,\n",
       "             'missing_val': 4.0,\n",
       "             'Very sad': 3.0})"
      ]
     },
     "execution_count": 29,
     "metadata": {},
     "output_type": "execute_result"
    }
   ],
   "source": [
    "time_mood_freq = defaultdict(lambda: defaultdict(int))\n",
    "for index,row in tdf_sub2.iterrows():\n",
    "    hr = row.Time.strftime(\"%H\")\n",
    "    mood = row.mood\n",
    "    time_mood_freq[hr][mood]+=1.0\n",
    "# activity at time 00 / midnight of the 13 days \n",
    "time_mood_freq[\"00\"]"
   ]
  },
  {
   "cell_type": "code",
   "execution_count": 33,
   "metadata": {},
   "outputs": [],
   "source": [
    "moods = tdf_sub2.mood.unique().tolist()\n",
    "moods.sort()\n",
    "# mood"
   ]
  },
  {
   "cell_type": "code",
   "execution_count": 34,
   "metadata": {},
   "outputs": [],
   "source": [
    "mood_to_index = {mood:i for i,mood in enumerate(moods)}\n",
    "# mood_to_index"
   ]
  },
  {
   "cell_type": "code",
   "execution_count": 63,
   "metadata": {},
   "outputs": [
    {
     "data": {
      "application/vnd.plotly.v1+json": {
       "config": {
        "plotlyServerURL": "https://plot.ly"
       },
       "data": [
        {
         "coloraxis": "coloraxis",
         "hovertemplate": "Time of Day: %{x}<br>Mood: %{y}<br>count: %{z}<extra></extra>",
         "name": "0",
         "type": "heatmap",
         "x": [
          "00",
          "01",
          "02",
          "03",
          "04",
          "05",
          "06",
          "07",
          "08",
          "09",
          "10",
          "11",
          "12",
          "13",
          "14",
          "15",
          "16",
          "17",
          "18",
          "19",
          "20",
          "21",
          "22",
          "23"
         ],
         "xaxis": "x",
         "y": [
          "Fairly happy",
          "Fairly sad",
          "Neutral",
          "Very happy",
          "Very sad",
          "missing_val"
         ],
         "yaxis": "y",
         "z": [
          [
           9,
           6,
           5,
           1,
           0,
           0,
           0,
           0,
           1,
           1,
           3,
           6,
           10,
           11,
           11,
           8,
           6,
           9,
           8,
           8,
           6,
           9,
           9,
           4
          ],
          [
           1,
           0,
           0,
           0,
           0,
           0,
           0,
           0,
           0,
           0,
           0,
           2,
           1,
           0,
           0,
           0,
           5,
           1,
           1,
           5,
           3,
           0,
           2,
           1
          ],
          [
           1,
           4,
           4,
           2,
           2,
           2,
           2,
           1,
           1,
           2,
           3,
           7,
           6,
           2,
           3,
           3,
           5,
           3,
           5,
           3,
           5,
           5,
           3,
           5
          ],
          [
           10,
           6,
           2,
           1,
           0,
           1,
           2,
           2,
           2,
           3,
           5,
           3,
           5,
           7,
           7,
           8,
           6,
           6,
           4,
           4,
           7,
           7,
           6,
           10
          ],
          [
           3,
           3,
           0,
           0,
           0,
           0,
           0,
           0,
           0,
           0,
           0,
           0,
           1,
           4,
           1,
           2,
           2,
           6,
           7,
           4,
           2,
           5,
           3,
           2
          ],
          [
           4,
           9,
           17,
           24,
           26,
           25,
           24,
           25,
           24,
           22,
           17,
           10,
           5,
           4,
           6,
           7,
           4,
           3,
           3,
           4,
           5,
           2,
           5,
           6
          ]
         ]
        }
       ],
       "layout": {
        "autosize": false,
        "coloraxis": {
         "colorbar": {
          "title": {
           "text": "count"
          }
         },
         "colorscale": [
          [
           0,
           "rgb(0,0,0)"
          ],
          [
           0.25,
           "rgb(230,0,0)"
          ],
          [
           0.5,
           "rgb(230,210,0)"
          ],
          [
           0.75,
           "rgb(255,255,255)"
          ],
          [
           1,
           "rgb(160,200,255)"
          ]
         ]
        },
        "height": 600,
        "margin": {
         "t": 60
        },
        "template": {
         "data": {
          "bar": [
           {
            "error_x": {
             "color": "#2a3f5f"
            },
            "error_y": {
             "color": "#2a3f5f"
            },
            "marker": {
             "line": {
              "color": "#E5ECF6",
              "width": 0.5
             },
             "pattern": {
              "fillmode": "overlay",
              "size": 10,
              "solidity": 0.2
             }
            },
            "type": "bar"
           }
          ],
          "barpolar": [
           {
            "marker": {
             "line": {
              "color": "#E5ECF6",
              "width": 0.5
             },
             "pattern": {
              "fillmode": "overlay",
              "size": 10,
              "solidity": 0.2
             }
            },
            "type": "barpolar"
           }
          ],
          "carpet": [
           {
            "aaxis": {
             "endlinecolor": "#2a3f5f",
             "gridcolor": "white",
             "linecolor": "white",
             "minorgridcolor": "white",
             "startlinecolor": "#2a3f5f"
            },
            "baxis": {
             "endlinecolor": "#2a3f5f",
             "gridcolor": "white",
             "linecolor": "white",
             "minorgridcolor": "white",
             "startlinecolor": "#2a3f5f"
            },
            "type": "carpet"
           }
          ],
          "choropleth": [
           {
            "colorbar": {
             "outlinewidth": 0,
             "ticks": ""
            },
            "type": "choropleth"
           }
          ],
          "contour": [
           {
            "colorbar": {
             "outlinewidth": 0,
             "ticks": ""
            },
            "colorscale": [
             [
              0,
              "#0d0887"
             ],
             [
              0.1111111111111111,
              "#46039f"
             ],
             [
              0.2222222222222222,
              "#7201a8"
             ],
             [
              0.3333333333333333,
              "#9c179e"
             ],
             [
              0.4444444444444444,
              "#bd3786"
             ],
             [
              0.5555555555555556,
              "#d8576b"
             ],
             [
              0.6666666666666666,
              "#ed7953"
             ],
             [
              0.7777777777777778,
              "#fb9f3a"
             ],
             [
              0.8888888888888888,
              "#fdca26"
             ],
             [
              1,
              "#f0f921"
             ]
            ],
            "type": "contour"
           }
          ],
          "contourcarpet": [
           {
            "colorbar": {
             "outlinewidth": 0,
             "ticks": ""
            },
            "type": "contourcarpet"
           }
          ],
          "heatmap": [
           {
            "colorbar": {
             "outlinewidth": 0,
             "ticks": ""
            },
            "colorscale": [
             [
              0,
              "#0d0887"
             ],
             [
              0.1111111111111111,
              "#46039f"
             ],
             [
              0.2222222222222222,
              "#7201a8"
             ],
             [
              0.3333333333333333,
              "#9c179e"
             ],
             [
              0.4444444444444444,
              "#bd3786"
             ],
             [
              0.5555555555555556,
              "#d8576b"
             ],
             [
              0.6666666666666666,
              "#ed7953"
             ],
             [
              0.7777777777777778,
              "#fb9f3a"
             ],
             [
              0.8888888888888888,
              "#fdca26"
             ],
             [
              1,
              "#f0f921"
             ]
            ],
            "type": "heatmap"
           }
          ],
          "heatmapgl": [
           {
            "colorbar": {
             "outlinewidth": 0,
             "ticks": ""
            },
            "colorscale": [
             [
              0,
              "#0d0887"
             ],
             [
              0.1111111111111111,
              "#46039f"
             ],
             [
              0.2222222222222222,
              "#7201a8"
             ],
             [
              0.3333333333333333,
              "#9c179e"
             ],
             [
              0.4444444444444444,
              "#bd3786"
             ],
             [
              0.5555555555555556,
              "#d8576b"
             ],
             [
              0.6666666666666666,
              "#ed7953"
             ],
             [
              0.7777777777777778,
              "#fb9f3a"
             ],
             [
              0.8888888888888888,
              "#fdca26"
             ],
             [
              1,
              "#f0f921"
             ]
            ],
            "type": "heatmapgl"
           }
          ],
          "histogram": [
           {
            "marker": {
             "pattern": {
              "fillmode": "overlay",
              "size": 10,
              "solidity": 0.2
             }
            },
            "type": "histogram"
           }
          ],
          "histogram2d": [
           {
            "colorbar": {
             "outlinewidth": 0,
             "ticks": ""
            },
            "colorscale": [
             [
              0,
              "#0d0887"
             ],
             [
              0.1111111111111111,
              "#46039f"
             ],
             [
              0.2222222222222222,
              "#7201a8"
             ],
             [
              0.3333333333333333,
              "#9c179e"
             ],
             [
              0.4444444444444444,
              "#bd3786"
             ],
             [
              0.5555555555555556,
              "#d8576b"
             ],
             [
              0.6666666666666666,
              "#ed7953"
             ],
             [
              0.7777777777777778,
              "#fb9f3a"
             ],
             [
              0.8888888888888888,
              "#fdca26"
             ],
             [
              1,
              "#f0f921"
             ]
            ],
            "type": "histogram2d"
           }
          ],
          "histogram2dcontour": [
           {
            "colorbar": {
             "outlinewidth": 0,
             "ticks": ""
            },
            "colorscale": [
             [
              0,
              "#0d0887"
             ],
             [
              0.1111111111111111,
              "#46039f"
             ],
             [
              0.2222222222222222,
              "#7201a8"
             ],
             [
              0.3333333333333333,
              "#9c179e"
             ],
             [
              0.4444444444444444,
              "#bd3786"
             ],
             [
              0.5555555555555556,
              "#d8576b"
             ],
             [
              0.6666666666666666,
              "#ed7953"
             ],
             [
              0.7777777777777778,
              "#fb9f3a"
             ],
             [
              0.8888888888888888,
              "#fdca26"
             ],
             [
              1,
              "#f0f921"
             ]
            ],
            "type": "histogram2dcontour"
           }
          ],
          "mesh3d": [
           {
            "colorbar": {
             "outlinewidth": 0,
             "ticks": ""
            },
            "type": "mesh3d"
           }
          ],
          "parcoords": [
           {
            "line": {
             "colorbar": {
              "outlinewidth": 0,
              "ticks": ""
             }
            },
            "type": "parcoords"
           }
          ],
          "pie": [
           {
            "automargin": true,
            "type": "pie"
           }
          ],
          "scatter": [
           {
            "marker": {
             "colorbar": {
              "outlinewidth": 0,
              "ticks": ""
             }
            },
            "type": "scatter"
           }
          ],
          "scatter3d": [
           {
            "line": {
             "colorbar": {
              "outlinewidth": 0,
              "ticks": ""
             }
            },
            "marker": {
             "colorbar": {
              "outlinewidth": 0,
              "ticks": ""
             }
            },
            "type": "scatter3d"
           }
          ],
          "scattercarpet": [
           {
            "marker": {
             "colorbar": {
              "outlinewidth": 0,
              "ticks": ""
             }
            },
            "type": "scattercarpet"
           }
          ],
          "scattergeo": [
           {
            "marker": {
             "colorbar": {
              "outlinewidth": 0,
              "ticks": ""
             }
            },
            "type": "scattergeo"
           }
          ],
          "scattergl": [
           {
            "marker": {
             "colorbar": {
              "outlinewidth": 0,
              "ticks": ""
             }
            },
            "type": "scattergl"
           }
          ],
          "scattermapbox": [
           {
            "marker": {
             "colorbar": {
              "outlinewidth": 0,
              "ticks": ""
             }
            },
            "type": "scattermapbox"
           }
          ],
          "scatterpolar": [
           {
            "marker": {
             "colorbar": {
              "outlinewidth": 0,
              "ticks": ""
             }
            },
            "type": "scatterpolar"
           }
          ],
          "scatterpolargl": [
           {
            "marker": {
             "colorbar": {
              "outlinewidth": 0,
              "ticks": ""
             }
            },
            "type": "scatterpolargl"
           }
          ],
          "scatterternary": [
           {
            "marker": {
             "colorbar": {
              "outlinewidth": 0,
              "ticks": ""
             }
            },
            "type": "scatterternary"
           }
          ],
          "surface": [
           {
            "colorbar": {
             "outlinewidth": 0,
             "ticks": ""
            },
            "colorscale": [
             [
              0,
              "#0d0887"
             ],
             [
              0.1111111111111111,
              "#46039f"
             ],
             [
              0.2222222222222222,
              "#7201a8"
             ],
             [
              0.3333333333333333,
              "#9c179e"
             ],
             [
              0.4444444444444444,
              "#bd3786"
             ],
             [
              0.5555555555555556,
              "#d8576b"
             ],
             [
              0.6666666666666666,
              "#ed7953"
             ],
             [
              0.7777777777777778,
              "#fb9f3a"
             ],
             [
              0.8888888888888888,
              "#fdca26"
             ],
             [
              1,
              "#f0f921"
             ]
            ],
            "type": "surface"
           }
          ],
          "table": [
           {
            "cells": {
             "fill": {
              "color": "#EBF0F8"
             },
             "line": {
              "color": "white"
             }
            },
            "header": {
             "fill": {
              "color": "#C8D4E3"
             },
             "line": {
              "color": "white"
             }
            },
            "type": "table"
           }
          ]
         },
         "layout": {
          "annotationdefaults": {
           "arrowcolor": "#2a3f5f",
           "arrowhead": 0,
           "arrowwidth": 1
          },
          "autotypenumbers": "strict",
          "coloraxis": {
           "colorbar": {
            "outlinewidth": 0,
            "ticks": ""
           }
          },
          "colorscale": {
           "diverging": [
            [
             0,
             "#8e0152"
            ],
            [
             0.1,
             "#c51b7d"
            ],
            [
             0.2,
             "#de77ae"
            ],
            [
             0.3,
             "#f1b6da"
            ],
            [
             0.4,
             "#fde0ef"
            ],
            [
             0.5,
             "#f7f7f7"
            ],
            [
             0.6,
             "#e6f5d0"
            ],
            [
             0.7,
             "#b8e186"
            ],
            [
             0.8,
             "#7fbc41"
            ],
            [
             0.9,
             "#4d9221"
            ],
            [
             1,
             "#276419"
            ]
           ],
           "sequential": [
            [
             0,
             "#0d0887"
            ],
            [
             0.1111111111111111,
             "#46039f"
            ],
            [
             0.2222222222222222,
             "#7201a8"
            ],
            [
             0.3333333333333333,
             "#9c179e"
            ],
            [
             0.4444444444444444,
             "#bd3786"
            ],
            [
             0.5555555555555556,
             "#d8576b"
            ],
            [
             0.6666666666666666,
             "#ed7953"
            ],
            [
             0.7777777777777778,
             "#fb9f3a"
            ],
            [
             0.8888888888888888,
             "#fdca26"
            ],
            [
             1,
             "#f0f921"
            ]
           ],
           "sequentialminus": [
            [
             0,
             "#0d0887"
            ],
            [
             0.1111111111111111,
             "#46039f"
            ],
            [
             0.2222222222222222,
             "#7201a8"
            ],
            [
             0.3333333333333333,
             "#9c179e"
            ],
            [
             0.4444444444444444,
             "#bd3786"
            ],
            [
             0.5555555555555556,
             "#d8576b"
            ],
            [
             0.6666666666666666,
             "#ed7953"
            ],
            [
             0.7777777777777778,
             "#fb9f3a"
            ],
            [
             0.8888888888888888,
             "#fdca26"
            ],
            [
             1,
             "#f0f921"
            ]
           ]
          },
          "colorway": [
           "#636efa",
           "#EF553B",
           "#00cc96",
           "#ab63fa",
           "#FFA15A",
           "#19d3f3",
           "#FF6692",
           "#B6E880",
           "#FF97FF",
           "#FECB52"
          ],
          "font": {
           "color": "#2a3f5f"
          },
          "geo": {
           "bgcolor": "white",
           "lakecolor": "white",
           "landcolor": "#E5ECF6",
           "showlakes": true,
           "showland": true,
           "subunitcolor": "white"
          },
          "hoverlabel": {
           "align": "left"
          },
          "hovermode": "closest",
          "mapbox": {
           "style": "light"
          },
          "paper_bgcolor": "white",
          "plot_bgcolor": "#E5ECF6",
          "polar": {
           "angularaxis": {
            "gridcolor": "white",
            "linecolor": "white",
            "ticks": ""
           },
           "bgcolor": "#E5ECF6",
           "radialaxis": {
            "gridcolor": "white",
            "linecolor": "white",
            "ticks": ""
           }
          },
          "scene": {
           "xaxis": {
            "backgroundcolor": "#E5ECF6",
            "gridcolor": "white",
            "gridwidth": 2,
            "linecolor": "white",
            "showbackground": true,
            "ticks": "",
            "zerolinecolor": "white"
           },
           "yaxis": {
            "backgroundcolor": "#E5ECF6",
            "gridcolor": "white",
            "gridwidth": 2,
            "linecolor": "white",
            "showbackground": true,
            "ticks": "",
            "zerolinecolor": "white"
           },
           "zaxis": {
            "backgroundcolor": "#E5ECF6",
            "gridcolor": "white",
            "gridwidth": 2,
            "linecolor": "white",
            "showbackground": true,
            "ticks": "",
            "zerolinecolor": "white"
           }
          },
          "shapedefaults": {
           "line": {
            "color": "#2a3f5f"
           }
          },
          "ternary": {
           "aaxis": {
            "gridcolor": "white",
            "linecolor": "white",
            "ticks": ""
           },
           "baxis": {
            "gridcolor": "white",
            "linecolor": "white",
            "ticks": ""
           },
           "bgcolor": "#E5ECF6",
           "caxis": {
            "gridcolor": "white",
            "linecolor": "white",
            "ticks": ""
           }
          },
          "title": {
           "x": 0.05
          },
          "xaxis": {
           "automargin": true,
           "gridcolor": "white",
           "linecolor": "white",
           "ticks": "",
           "title": {
            "standoff": 15
           },
           "zerolinecolor": "white",
           "zerolinewidth": 2
          },
          "yaxis": {
           "automargin": true,
           "gridcolor": "white",
           "linecolor": "white",
           "ticks": "",
           "title": {
            "standoff": 15
           },
           "zerolinecolor": "white",
           "zerolinewidth": 2
          }
         }
        },
        "title": {
         "text": "Subject-2-the mapping of mood data with hours of the day"
        },
        "width": 900,
        "xaxis": {
         "anchor": "y",
         "constrain": "domain",
         "domain": [
          0,
          1
         ],
         "scaleanchor": "y",
         "title": {
          "text": "Time of Day"
         }
        },
        "yaxis": {
         "anchor": "x",
         "autorange": "reversed",
         "constrain": "domain",
         "domain": [
          0,
          1
         ],
         "title": {
          "text": "Mood"
         }
        }
       }
      },
      "text/html": [
       "<div>                            <div id=\"109ad8c1-76f3-4421-905b-59dc21eb3ee7\" class=\"plotly-graph-div\" style=\"height:600px; width:900px;\"></div>            <script type=\"text/javascript\">                require([\"plotly\"], function(Plotly) {                    window.PLOTLYENV=window.PLOTLYENV || {};                                    if (document.getElementById(\"109ad8c1-76f3-4421-905b-59dc21eb3ee7\")) {                    Plotly.newPlot(                        \"109ad8c1-76f3-4421-905b-59dc21eb3ee7\",                        [{\"coloraxis\":\"coloraxis\",\"name\":\"0\",\"x\":[\"00\",\"01\",\"02\",\"03\",\"04\",\"05\",\"06\",\"07\",\"08\",\"09\",\"10\",\"11\",\"12\",\"13\",\"14\",\"15\",\"16\",\"17\",\"18\",\"19\",\"20\",\"21\",\"22\",\"23\"],\"y\":[\"Fairly happy\",\"Fairly sad\",\"Neutral\",\"Very happy\",\"Very sad\",\"missing_val\"],\"z\":[[9.0,6.0,5.0,1.0,0.0,0.0,0.0,0.0,1.0,1.0,3.0,6.0,10.0,11.0,11.0,8.0,6.0,9.0,8.0,8.0,6.0,9.0,9.0,4.0],[1.0,0.0,0.0,0.0,0.0,0.0,0.0,0.0,0.0,0.0,0.0,2.0,1.0,0.0,0.0,0.0,5.0,1.0,1.0,5.0,3.0,0.0,2.0,1.0],[1.0,4.0,4.0,2.0,2.0,2.0,2.0,1.0,1.0,2.0,3.0,7.0,6.0,2.0,3.0,3.0,5.0,3.0,5.0,3.0,5.0,5.0,3.0,5.0],[10.0,6.0,2.0,1.0,0.0,1.0,2.0,2.0,2.0,3.0,5.0,3.0,5.0,7.0,7.0,8.0,6.0,6.0,4.0,4.0,7.0,7.0,6.0,10.0],[3.0,3.0,0.0,0.0,0.0,0.0,0.0,0.0,0.0,0.0,0.0,0.0,1.0,4.0,1.0,2.0,2.0,6.0,7.0,4.0,2.0,5.0,3.0,2.0],[4.0,9.0,17.0,24.0,26.0,25.0,24.0,25.0,24.0,22.0,17.0,10.0,5.0,4.0,6.0,7.0,4.0,3.0,3.0,4.0,5.0,2.0,5.0,6.0]],\"type\":\"heatmap\",\"xaxis\":\"x\",\"yaxis\":\"y\",\"hovertemplate\":\"Time of Day: %{x}<br>Mood: %{y}<br>count: %{z}<extra></extra>\"}],                        {\"template\":{\"data\":{\"bar\":[{\"error_x\":{\"color\":\"#2a3f5f\"},\"error_y\":{\"color\":\"#2a3f5f\"},\"marker\":{\"line\":{\"color\":\"#E5ECF6\",\"width\":0.5},\"pattern\":{\"fillmode\":\"overlay\",\"size\":10,\"solidity\":0.2}},\"type\":\"bar\"}],\"barpolar\":[{\"marker\":{\"line\":{\"color\":\"#E5ECF6\",\"width\":0.5},\"pattern\":{\"fillmode\":\"overlay\",\"size\":10,\"solidity\":0.2}},\"type\":\"barpolar\"}],\"carpet\":[{\"aaxis\":{\"endlinecolor\":\"#2a3f5f\",\"gridcolor\":\"white\",\"linecolor\":\"white\",\"minorgridcolor\":\"white\",\"startlinecolor\":\"#2a3f5f\"},\"baxis\":{\"endlinecolor\":\"#2a3f5f\",\"gridcolor\":\"white\",\"linecolor\":\"white\",\"minorgridcolor\":\"white\",\"startlinecolor\":\"#2a3f5f\"},\"type\":\"carpet\"}],\"choropleth\":[{\"colorbar\":{\"outlinewidth\":0,\"ticks\":\"\"},\"type\":\"choropleth\"}],\"contour\":[{\"colorbar\":{\"outlinewidth\":0,\"ticks\":\"\"},\"colorscale\":[[0.0,\"#0d0887\"],[0.1111111111111111,\"#46039f\"],[0.2222222222222222,\"#7201a8\"],[0.3333333333333333,\"#9c179e\"],[0.4444444444444444,\"#bd3786\"],[0.5555555555555556,\"#d8576b\"],[0.6666666666666666,\"#ed7953\"],[0.7777777777777778,\"#fb9f3a\"],[0.8888888888888888,\"#fdca26\"],[1.0,\"#f0f921\"]],\"type\":\"contour\"}],\"contourcarpet\":[{\"colorbar\":{\"outlinewidth\":0,\"ticks\":\"\"},\"type\":\"contourcarpet\"}],\"heatmap\":[{\"colorbar\":{\"outlinewidth\":0,\"ticks\":\"\"},\"colorscale\":[[0.0,\"#0d0887\"],[0.1111111111111111,\"#46039f\"],[0.2222222222222222,\"#7201a8\"],[0.3333333333333333,\"#9c179e\"],[0.4444444444444444,\"#bd3786\"],[0.5555555555555556,\"#d8576b\"],[0.6666666666666666,\"#ed7953\"],[0.7777777777777778,\"#fb9f3a\"],[0.8888888888888888,\"#fdca26\"],[1.0,\"#f0f921\"]],\"type\":\"heatmap\"}],\"heatmapgl\":[{\"colorbar\":{\"outlinewidth\":0,\"ticks\":\"\"},\"colorscale\":[[0.0,\"#0d0887\"],[0.1111111111111111,\"#46039f\"],[0.2222222222222222,\"#7201a8\"],[0.3333333333333333,\"#9c179e\"],[0.4444444444444444,\"#bd3786\"],[0.5555555555555556,\"#d8576b\"],[0.6666666666666666,\"#ed7953\"],[0.7777777777777778,\"#fb9f3a\"],[0.8888888888888888,\"#fdca26\"],[1.0,\"#f0f921\"]],\"type\":\"heatmapgl\"}],\"histogram\":[{\"marker\":{\"pattern\":{\"fillmode\":\"overlay\",\"size\":10,\"solidity\":0.2}},\"type\":\"histogram\"}],\"histogram2d\":[{\"colorbar\":{\"outlinewidth\":0,\"ticks\":\"\"},\"colorscale\":[[0.0,\"#0d0887\"],[0.1111111111111111,\"#46039f\"],[0.2222222222222222,\"#7201a8\"],[0.3333333333333333,\"#9c179e\"],[0.4444444444444444,\"#bd3786\"],[0.5555555555555556,\"#d8576b\"],[0.6666666666666666,\"#ed7953\"],[0.7777777777777778,\"#fb9f3a\"],[0.8888888888888888,\"#fdca26\"],[1.0,\"#f0f921\"]],\"type\":\"histogram2d\"}],\"histogram2dcontour\":[{\"colorbar\":{\"outlinewidth\":0,\"ticks\":\"\"},\"colorscale\":[[0.0,\"#0d0887\"],[0.1111111111111111,\"#46039f\"],[0.2222222222222222,\"#7201a8\"],[0.3333333333333333,\"#9c179e\"],[0.4444444444444444,\"#bd3786\"],[0.5555555555555556,\"#d8576b\"],[0.6666666666666666,\"#ed7953\"],[0.7777777777777778,\"#fb9f3a\"],[0.8888888888888888,\"#fdca26\"],[1.0,\"#f0f921\"]],\"type\":\"histogram2dcontour\"}],\"mesh3d\":[{\"colorbar\":{\"outlinewidth\":0,\"ticks\":\"\"},\"type\":\"mesh3d\"}],\"parcoords\":[{\"line\":{\"colorbar\":{\"outlinewidth\":0,\"ticks\":\"\"}},\"type\":\"parcoords\"}],\"pie\":[{\"automargin\":true,\"type\":\"pie\"}],\"scatter\":[{\"marker\":{\"colorbar\":{\"outlinewidth\":0,\"ticks\":\"\"}},\"type\":\"scatter\"}],\"scatter3d\":[{\"line\":{\"colorbar\":{\"outlinewidth\":0,\"ticks\":\"\"}},\"marker\":{\"colorbar\":{\"outlinewidth\":0,\"ticks\":\"\"}},\"type\":\"scatter3d\"}],\"scattercarpet\":[{\"marker\":{\"colorbar\":{\"outlinewidth\":0,\"ticks\":\"\"}},\"type\":\"scattercarpet\"}],\"scattergeo\":[{\"marker\":{\"colorbar\":{\"outlinewidth\":0,\"ticks\":\"\"}},\"type\":\"scattergeo\"}],\"scattergl\":[{\"marker\":{\"colorbar\":{\"outlinewidth\":0,\"ticks\":\"\"}},\"type\":\"scattergl\"}],\"scattermapbox\":[{\"marker\":{\"colorbar\":{\"outlinewidth\":0,\"ticks\":\"\"}},\"type\":\"scattermapbox\"}],\"scatterpolar\":[{\"marker\":{\"colorbar\":{\"outlinewidth\":0,\"ticks\":\"\"}},\"type\":\"scatterpolar\"}],\"scatterpolargl\":[{\"marker\":{\"colorbar\":{\"outlinewidth\":0,\"ticks\":\"\"}},\"type\":\"scatterpolargl\"}],\"scatterternary\":[{\"marker\":{\"colorbar\":{\"outlinewidth\":0,\"ticks\":\"\"}},\"type\":\"scatterternary\"}],\"surface\":[{\"colorbar\":{\"outlinewidth\":0,\"ticks\":\"\"},\"colorscale\":[[0.0,\"#0d0887\"],[0.1111111111111111,\"#46039f\"],[0.2222222222222222,\"#7201a8\"],[0.3333333333333333,\"#9c179e\"],[0.4444444444444444,\"#bd3786\"],[0.5555555555555556,\"#d8576b\"],[0.6666666666666666,\"#ed7953\"],[0.7777777777777778,\"#fb9f3a\"],[0.8888888888888888,\"#fdca26\"],[1.0,\"#f0f921\"]],\"type\":\"surface\"}],\"table\":[{\"cells\":{\"fill\":{\"color\":\"#EBF0F8\"},\"line\":{\"color\":\"white\"}},\"header\":{\"fill\":{\"color\":\"#C8D4E3\"},\"line\":{\"color\":\"white\"}},\"type\":\"table\"}]},\"layout\":{\"annotationdefaults\":{\"arrowcolor\":\"#2a3f5f\",\"arrowhead\":0,\"arrowwidth\":1},\"autotypenumbers\":\"strict\",\"coloraxis\":{\"colorbar\":{\"outlinewidth\":0,\"ticks\":\"\"}},\"colorscale\":{\"diverging\":[[0,\"#8e0152\"],[0.1,\"#c51b7d\"],[0.2,\"#de77ae\"],[0.3,\"#f1b6da\"],[0.4,\"#fde0ef\"],[0.5,\"#f7f7f7\"],[0.6,\"#e6f5d0\"],[0.7,\"#b8e186\"],[0.8,\"#7fbc41\"],[0.9,\"#4d9221\"],[1,\"#276419\"]],\"sequential\":[[0.0,\"#0d0887\"],[0.1111111111111111,\"#46039f\"],[0.2222222222222222,\"#7201a8\"],[0.3333333333333333,\"#9c179e\"],[0.4444444444444444,\"#bd3786\"],[0.5555555555555556,\"#d8576b\"],[0.6666666666666666,\"#ed7953\"],[0.7777777777777778,\"#fb9f3a\"],[0.8888888888888888,\"#fdca26\"],[1.0,\"#f0f921\"]],\"sequentialminus\":[[0.0,\"#0d0887\"],[0.1111111111111111,\"#46039f\"],[0.2222222222222222,\"#7201a8\"],[0.3333333333333333,\"#9c179e\"],[0.4444444444444444,\"#bd3786\"],[0.5555555555555556,\"#d8576b\"],[0.6666666666666666,\"#ed7953\"],[0.7777777777777778,\"#fb9f3a\"],[0.8888888888888888,\"#fdca26\"],[1.0,\"#f0f921\"]]},\"colorway\":[\"#636efa\",\"#EF553B\",\"#00cc96\",\"#ab63fa\",\"#FFA15A\",\"#19d3f3\",\"#FF6692\",\"#B6E880\",\"#FF97FF\",\"#FECB52\"],\"font\":{\"color\":\"#2a3f5f\"},\"geo\":{\"bgcolor\":\"white\",\"lakecolor\":\"white\",\"landcolor\":\"#E5ECF6\",\"showlakes\":true,\"showland\":true,\"subunitcolor\":\"white\"},\"hoverlabel\":{\"align\":\"left\"},\"hovermode\":\"closest\",\"mapbox\":{\"style\":\"light\"},\"paper_bgcolor\":\"white\",\"plot_bgcolor\":\"#E5ECF6\",\"polar\":{\"angularaxis\":{\"gridcolor\":\"white\",\"linecolor\":\"white\",\"ticks\":\"\"},\"bgcolor\":\"#E5ECF6\",\"radialaxis\":{\"gridcolor\":\"white\",\"linecolor\":\"white\",\"ticks\":\"\"}},\"scene\":{\"xaxis\":{\"backgroundcolor\":\"#E5ECF6\",\"gridcolor\":\"white\",\"gridwidth\":2,\"linecolor\":\"white\",\"showbackground\":true,\"ticks\":\"\",\"zerolinecolor\":\"white\"},\"yaxis\":{\"backgroundcolor\":\"#E5ECF6\",\"gridcolor\":\"white\",\"gridwidth\":2,\"linecolor\":\"white\",\"showbackground\":true,\"ticks\":\"\",\"zerolinecolor\":\"white\"},\"zaxis\":{\"backgroundcolor\":\"#E5ECF6\",\"gridcolor\":\"white\",\"gridwidth\":2,\"linecolor\":\"white\",\"showbackground\":true,\"ticks\":\"\",\"zerolinecolor\":\"white\"}},\"shapedefaults\":{\"line\":{\"color\":\"#2a3f5f\"}},\"ternary\":{\"aaxis\":{\"gridcolor\":\"white\",\"linecolor\":\"white\",\"ticks\":\"\"},\"baxis\":{\"gridcolor\":\"white\",\"linecolor\":\"white\",\"ticks\":\"\"},\"bgcolor\":\"#E5ECF6\",\"caxis\":{\"gridcolor\":\"white\",\"linecolor\":\"white\",\"ticks\":\"\"}},\"title\":{\"x\":0.05},\"xaxis\":{\"automargin\":true,\"gridcolor\":\"white\",\"linecolor\":\"white\",\"ticks\":\"\",\"title\":{\"standoff\":15},\"zerolinecolor\":\"white\",\"zerolinewidth\":2},\"yaxis\":{\"automargin\":true,\"gridcolor\":\"white\",\"linecolor\":\"white\",\"ticks\":\"\",\"title\":{\"standoff\":15},\"zerolinecolor\":\"white\",\"zerolinewidth\":2}}},\"xaxis\":{\"anchor\":\"y\",\"domain\":[0.0,1.0],\"scaleanchor\":\"y\",\"constrain\":\"domain\",\"title\":{\"text\":\"Time of Day\"}},\"yaxis\":{\"anchor\":\"x\",\"domain\":[0.0,1.0],\"autorange\":\"reversed\",\"constrain\":\"domain\",\"title\":{\"text\":\"Mood\"}},\"coloraxis\":{\"colorbar\":{\"title\":{\"text\":\"count\"}},\"colorscale\":[[0.0,\"rgb(0,0,0)\"],[0.25,\"rgb(230,0,0)\"],[0.5,\"rgb(230,210,0)\"],[0.75,\"rgb(255,255,255)\"],[1.0,\"rgb(160,200,255)\"]]},\"margin\":{\"t\":60},\"title\":{\"text\":\"Subject-2-the mapping of mood data with hours of the day\"},\"autosize\":false,\"width\":900,\"height\":600},                        {\"responsive\": true}                    ).then(function(){\n",
       "                            \n",
       "var gd = document.getElementById('109ad8c1-76f3-4421-905b-59dc21eb3ee7');\n",
       "var x = new MutationObserver(function (mutations, observer) {{\n",
       "        var display = window.getComputedStyle(gd).display;\n",
       "        if (!display || display === 'none') {{\n",
       "            console.log([gd, 'removed!']);\n",
       "            Plotly.purge(gd);\n",
       "            observer.disconnect();\n",
       "        }}\n",
       "}});\n",
       "\n",
       "// Listen for the removal of the full notebook cells\n",
       "var notebookContainer = gd.closest('#notebook-container');\n",
       "if (notebookContainer) {{\n",
       "    x.observe(notebookContainer, {childList: true});\n",
       "}}\n",
       "\n",
       "// Listen for the clearing of the current output cell\n",
       "var outputEl = gd.closest('.output');\n",
       "if (outputEl) {{\n",
       "    x.observe(outputEl, {childList: true});\n",
       "}}\n",
       "\n",
       "                        })                };                });            </script>        </div>"
      ]
     },
     "metadata": {},
     "output_type": "display_data"
    }
   ],
   "source": [
    "# numpy array\n",
    "hit_map = np.zeros((len(moods),len(hours)))\n",
    "for hr in time_mood_freq:\n",
    "    for mood in time_mood_freq[hr]:\n",
    "        hit_map[mood_to_index[mood]][hour_to_index[hr]]=time_mood_freq[hr][mood]\n",
    "# hit_map      \n",
    "\n",
    "fig = px.imshow(hit_map,\n",
    "                labels=dict(y=\"Mood\", x=\"Time of Day\",color=\"count\"),\n",
    "                y=moods,\n",
    "                x=hours,\n",
    "                color_continuous_scale= 'blackbody'\n",
    "             )\n",
    "fig.update_layout(autosize = False, width=900,height = 600,title_text='Subject-2-the mapping of mood data with hours of the day')\n",
    "\n",
    "fig.show()"
   ]
  },
  {
   "cell_type": "markdown",
   "metadata": {},
   "source": [
    "## 2D-   Mood vs Activity\n"
   ]
  },
  {
   "cell_type": "code",
   "execution_count": 38,
   "metadata": {},
   "outputs": [
    {
     "data": {
      "text/plain": [
       "defaultdict(int,\n",
       "            {'Social media,Phone; chat': 10.0,\n",
       "             'Eating': 14.0,\n",
       "             'Travel': 11.0,\n",
       "             'Work': 7.0,\n",
       "             'Watcing Youtube Tv-shows etc.': 2.0,\n",
       "             'Social life & Break': 12.0,\n",
       "             'Free time': 22.0,\n",
       "             'Selfcare': 6.0,\n",
       "             'Lesson': 12.0,\n",
       "             'Sleeping': 6.0,\n",
       "             'Study': 12.0})"
      ]
     },
     "execution_count": 38,
     "metadata": {},
     "output_type": "execute_result"
    }
   ],
   "source": [
    "mood_activity_freq =  defaultdict(lambda: defaultdict(int))\n",
    "for index,row in tdf_sub2.iterrows():\n",
    "    mood = row.mood\n",
    "    activity = row.activity\n",
    "    mood_activity_freq[mood][activity]+=1.0\n",
    "# very happy with each activity count \n",
    "mood_activity_freq[\"Very happy\"]"
   ]
  },
  {
   "cell_type": "code",
   "execution_count": 66,
   "metadata": {},
   "outputs": [
    {
     "data": {
      "application/vnd.plotly.v1+json": {
       "config": {
        "plotlyServerURL": "https://plot.ly"
       },
       "data": [
        {
         "coloraxis": "coloraxis",
         "hovertemplate": "Activity: %{x}<br>Mood: %{y}<br>count: %{z}<extra></extra>",
         "name": "0",
         "type": "heatmap",
         "x": [
          "Eating",
          "Free time",
          "Lesson",
          "Null",
          "Selfcare",
          "Sleeping",
          "Social life & Break",
          "Social media,Phone; chat",
          "Study",
          "Travel",
          "Watcing Youtube Tv-shows etc.",
          "Work"
         ],
         "xaxis": "x",
         "y": [
          "Fairly happy",
          "Fairly sad",
          "Neutral",
          "Very happy",
          "Very sad",
          "missing_val"
         ],
         "yaxis": "y",
         "z": [
          [
           14,
           29,
           15,
           0,
           10,
           7,
           8,
           9,
           8,
           14,
           11,
           6
          ],
          [
           4,
           5,
           3,
           0,
           0,
           0,
           0,
           1,
           4,
           2,
           1,
           2
          ],
          [
           9,
           6,
           8,
           0,
           9,
           8,
           1,
           7,
           5,
           11,
           8,
           7
          ],
          [
           14,
           22,
           12,
           0,
           6,
           6,
           12,
           10,
           12,
           11,
           2,
           7
          ],
          [
           7,
           8,
           0,
           0,
           1,
           0,
           0,
           7,
           5,
           1,
           10,
           6
          ],
          [
           0,
           3,
           3,
           85,
           1,
           187,
           0,
           0,
           1,
           0,
           0,
           1
          ]
         ]
        }
       ],
       "layout": {
        "autosize": false,
        "coloraxis": {
         "colorbar": {
          "title": {
           "text": "count"
          }
         },
         "colorscale": [
          [
           0,
           "rgb(0,0,0)"
          ],
          [
           0.25,
           "rgb(230,0,0)"
          ],
          [
           0.5,
           "rgb(230,210,0)"
          ],
          [
           0.75,
           "rgb(255,255,255)"
          ],
          [
           1,
           "rgb(160,200,255)"
          ]
         ]
        },
        "height": 600,
        "margin": {
         "t": 60
        },
        "template": {
         "data": {
          "bar": [
           {
            "error_x": {
             "color": "#2a3f5f"
            },
            "error_y": {
             "color": "#2a3f5f"
            },
            "marker": {
             "line": {
              "color": "#E5ECF6",
              "width": 0.5
             },
             "pattern": {
              "fillmode": "overlay",
              "size": 10,
              "solidity": 0.2
             }
            },
            "type": "bar"
           }
          ],
          "barpolar": [
           {
            "marker": {
             "line": {
              "color": "#E5ECF6",
              "width": 0.5
             },
             "pattern": {
              "fillmode": "overlay",
              "size": 10,
              "solidity": 0.2
             }
            },
            "type": "barpolar"
           }
          ],
          "carpet": [
           {
            "aaxis": {
             "endlinecolor": "#2a3f5f",
             "gridcolor": "white",
             "linecolor": "white",
             "minorgridcolor": "white",
             "startlinecolor": "#2a3f5f"
            },
            "baxis": {
             "endlinecolor": "#2a3f5f",
             "gridcolor": "white",
             "linecolor": "white",
             "minorgridcolor": "white",
             "startlinecolor": "#2a3f5f"
            },
            "type": "carpet"
           }
          ],
          "choropleth": [
           {
            "colorbar": {
             "outlinewidth": 0,
             "ticks": ""
            },
            "type": "choropleth"
           }
          ],
          "contour": [
           {
            "colorbar": {
             "outlinewidth": 0,
             "ticks": ""
            },
            "colorscale": [
             [
              0,
              "#0d0887"
             ],
             [
              0.1111111111111111,
              "#46039f"
             ],
             [
              0.2222222222222222,
              "#7201a8"
             ],
             [
              0.3333333333333333,
              "#9c179e"
             ],
             [
              0.4444444444444444,
              "#bd3786"
             ],
             [
              0.5555555555555556,
              "#d8576b"
             ],
             [
              0.6666666666666666,
              "#ed7953"
             ],
             [
              0.7777777777777778,
              "#fb9f3a"
             ],
             [
              0.8888888888888888,
              "#fdca26"
             ],
             [
              1,
              "#f0f921"
             ]
            ],
            "type": "contour"
           }
          ],
          "contourcarpet": [
           {
            "colorbar": {
             "outlinewidth": 0,
             "ticks": ""
            },
            "type": "contourcarpet"
           }
          ],
          "heatmap": [
           {
            "colorbar": {
             "outlinewidth": 0,
             "ticks": ""
            },
            "colorscale": [
             [
              0,
              "#0d0887"
             ],
             [
              0.1111111111111111,
              "#46039f"
             ],
             [
              0.2222222222222222,
              "#7201a8"
             ],
             [
              0.3333333333333333,
              "#9c179e"
             ],
             [
              0.4444444444444444,
              "#bd3786"
             ],
             [
              0.5555555555555556,
              "#d8576b"
             ],
             [
              0.6666666666666666,
              "#ed7953"
             ],
             [
              0.7777777777777778,
              "#fb9f3a"
             ],
             [
              0.8888888888888888,
              "#fdca26"
             ],
             [
              1,
              "#f0f921"
             ]
            ],
            "type": "heatmap"
           }
          ],
          "heatmapgl": [
           {
            "colorbar": {
             "outlinewidth": 0,
             "ticks": ""
            },
            "colorscale": [
             [
              0,
              "#0d0887"
             ],
             [
              0.1111111111111111,
              "#46039f"
             ],
             [
              0.2222222222222222,
              "#7201a8"
             ],
             [
              0.3333333333333333,
              "#9c179e"
             ],
             [
              0.4444444444444444,
              "#bd3786"
             ],
             [
              0.5555555555555556,
              "#d8576b"
             ],
             [
              0.6666666666666666,
              "#ed7953"
             ],
             [
              0.7777777777777778,
              "#fb9f3a"
             ],
             [
              0.8888888888888888,
              "#fdca26"
             ],
             [
              1,
              "#f0f921"
             ]
            ],
            "type": "heatmapgl"
           }
          ],
          "histogram": [
           {
            "marker": {
             "pattern": {
              "fillmode": "overlay",
              "size": 10,
              "solidity": 0.2
             }
            },
            "type": "histogram"
           }
          ],
          "histogram2d": [
           {
            "colorbar": {
             "outlinewidth": 0,
             "ticks": ""
            },
            "colorscale": [
             [
              0,
              "#0d0887"
             ],
             [
              0.1111111111111111,
              "#46039f"
             ],
             [
              0.2222222222222222,
              "#7201a8"
             ],
             [
              0.3333333333333333,
              "#9c179e"
             ],
             [
              0.4444444444444444,
              "#bd3786"
             ],
             [
              0.5555555555555556,
              "#d8576b"
             ],
             [
              0.6666666666666666,
              "#ed7953"
             ],
             [
              0.7777777777777778,
              "#fb9f3a"
             ],
             [
              0.8888888888888888,
              "#fdca26"
             ],
             [
              1,
              "#f0f921"
             ]
            ],
            "type": "histogram2d"
           }
          ],
          "histogram2dcontour": [
           {
            "colorbar": {
             "outlinewidth": 0,
             "ticks": ""
            },
            "colorscale": [
             [
              0,
              "#0d0887"
             ],
             [
              0.1111111111111111,
              "#46039f"
             ],
             [
              0.2222222222222222,
              "#7201a8"
             ],
             [
              0.3333333333333333,
              "#9c179e"
             ],
             [
              0.4444444444444444,
              "#bd3786"
             ],
             [
              0.5555555555555556,
              "#d8576b"
             ],
             [
              0.6666666666666666,
              "#ed7953"
             ],
             [
              0.7777777777777778,
              "#fb9f3a"
             ],
             [
              0.8888888888888888,
              "#fdca26"
             ],
             [
              1,
              "#f0f921"
             ]
            ],
            "type": "histogram2dcontour"
           }
          ],
          "mesh3d": [
           {
            "colorbar": {
             "outlinewidth": 0,
             "ticks": ""
            },
            "type": "mesh3d"
           }
          ],
          "parcoords": [
           {
            "line": {
             "colorbar": {
              "outlinewidth": 0,
              "ticks": ""
             }
            },
            "type": "parcoords"
           }
          ],
          "pie": [
           {
            "automargin": true,
            "type": "pie"
           }
          ],
          "scatter": [
           {
            "marker": {
             "colorbar": {
              "outlinewidth": 0,
              "ticks": ""
             }
            },
            "type": "scatter"
           }
          ],
          "scatter3d": [
           {
            "line": {
             "colorbar": {
              "outlinewidth": 0,
              "ticks": ""
             }
            },
            "marker": {
             "colorbar": {
              "outlinewidth": 0,
              "ticks": ""
             }
            },
            "type": "scatter3d"
           }
          ],
          "scattercarpet": [
           {
            "marker": {
             "colorbar": {
              "outlinewidth": 0,
              "ticks": ""
             }
            },
            "type": "scattercarpet"
           }
          ],
          "scattergeo": [
           {
            "marker": {
             "colorbar": {
              "outlinewidth": 0,
              "ticks": ""
             }
            },
            "type": "scattergeo"
           }
          ],
          "scattergl": [
           {
            "marker": {
             "colorbar": {
              "outlinewidth": 0,
              "ticks": ""
             }
            },
            "type": "scattergl"
           }
          ],
          "scattermapbox": [
           {
            "marker": {
             "colorbar": {
              "outlinewidth": 0,
              "ticks": ""
             }
            },
            "type": "scattermapbox"
           }
          ],
          "scatterpolar": [
           {
            "marker": {
             "colorbar": {
              "outlinewidth": 0,
              "ticks": ""
             }
            },
            "type": "scatterpolar"
           }
          ],
          "scatterpolargl": [
           {
            "marker": {
             "colorbar": {
              "outlinewidth": 0,
              "ticks": ""
             }
            },
            "type": "scatterpolargl"
           }
          ],
          "scatterternary": [
           {
            "marker": {
             "colorbar": {
              "outlinewidth": 0,
              "ticks": ""
             }
            },
            "type": "scatterternary"
           }
          ],
          "surface": [
           {
            "colorbar": {
             "outlinewidth": 0,
             "ticks": ""
            },
            "colorscale": [
             [
              0,
              "#0d0887"
             ],
             [
              0.1111111111111111,
              "#46039f"
             ],
             [
              0.2222222222222222,
              "#7201a8"
             ],
             [
              0.3333333333333333,
              "#9c179e"
             ],
             [
              0.4444444444444444,
              "#bd3786"
             ],
             [
              0.5555555555555556,
              "#d8576b"
             ],
             [
              0.6666666666666666,
              "#ed7953"
             ],
             [
              0.7777777777777778,
              "#fb9f3a"
             ],
             [
              0.8888888888888888,
              "#fdca26"
             ],
             [
              1,
              "#f0f921"
             ]
            ],
            "type": "surface"
           }
          ],
          "table": [
           {
            "cells": {
             "fill": {
              "color": "#EBF0F8"
             },
             "line": {
              "color": "white"
             }
            },
            "header": {
             "fill": {
              "color": "#C8D4E3"
             },
             "line": {
              "color": "white"
             }
            },
            "type": "table"
           }
          ]
         },
         "layout": {
          "annotationdefaults": {
           "arrowcolor": "#2a3f5f",
           "arrowhead": 0,
           "arrowwidth": 1
          },
          "autotypenumbers": "strict",
          "coloraxis": {
           "colorbar": {
            "outlinewidth": 0,
            "ticks": ""
           }
          },
          "colorscale": {
           "diverging": [
            [
             0,
             "#8e0152"
            ],
            [
             0.1,
             "#c51b7d"
            ],
            [
             0.2,
             "#de77ae"
            ],
            [
             0.3,
             "#f1b6da"
            ],
            [
             0.4,
             "#fde0ef"
            ],
            [
             0.5,
             "#f7f7f7"
            ],
            [
             0.6,
             "#e6f5d0"
            ],
            [
             0.7,
             "#b8e186"
            ],
            [
             0.8,
             "#7fbc41"
            ],
            [
             0.9,
             "#4d9221"
            ],
            [
             1,
             "#276419"
            ]
           ],
           "sequential": [
            [
             0,
             "#0d0887"
            ],
            [
             0.1111111111111111,
             "#46039f"
            ],
            [
             0.2222222222222222,
             "#7201a8"
            ],
            [
             0.3333333333333333,
             "#9c179e"
            ],
            [
             0.4444444444444444,
             "#bd3786"
            ],
            [
             0.5555555555555556,
             "#d8576b"
            ],
            [
             0.6666666666666666,
             "#ed7953"
            ],
            [
             0.7777777777777778,
             "#fb9f3a"
            ],
            [
             0.8888888888888888,
             "#fdca26"
            ],
            [
             1,
             "#f0f921"
            ]
           ],
           "sequentialminus": [
            [
             0,
             "#0d0887"
            ],
            [
             0.1111111111111111,
             "#46039f"
            ],
            [
             0.2222222222222222,
             "#7201a8"
            ],
            [
             0.3333333333333333,
             "#9c179e"
            ],
            [
             0.4444444444444444,
             "#bd3786"
            ],
            [
             0.5555555555555556,
             "#d8576b"
            ],
            [
             0.6666666666666666,
             "#ed7953"
            ],
            [
             0.7777777777777778,
             "#fb9f3a"
            ],
            [
             0.8888888888888888,
             "#fdca26"
            ],
            [
             1,
             "#f0f921"
            ]
           ]
          },
          "colorway": [
           "#636efa",
           "#EF553B",
           "#00cc96",
           "#ab63fa",
           "#FFA15A",
           "#19d3f3",
           "#FF6692",
           "#B6E880",
           "#FF97FF",
           "#FECB52"
          ],
          "font": {
           "color": "#2a3f5f"
          },
          "geo": {
           "bgcolor": "white",
           "lakecolor": "white",
           "landcolor": "#E5ECF6",
           "showlakes": true,
           "showland": true,
           "subunitcolor": "white"
          },
          "hoverlabel": {
           "align": "left"
          },
          "hovermode": "closest",
          "mapbox": {
           "style": "light"
          },
          "paper_bgcolor": "white",
          "plot_bgcolor": "#E5ECF6",
          "polar": {
           "angularaxis": {
            "gridcolor": "white",
            "linecolor": "white",
            "ticks": ""
           },
           "bgcolor": "#E5ECF6",
           "radialaxis": {
            "gridcolor": "white",
            "linecolor": "white",
            "ticks": ""
           }
          },
          "scene": {
           "xaxis": {
            "backgroundcolor": "#E5ECF6",
            "gridcolor": "white",
            "gridwidth": 2,
            "linecolor": "white",
            "showbackground": true,
            "ticks": "",
            "zerolinecolor": "white"
           },
           "yaxis": {
            "backgroundcolor": "#E5ECF6",
            "gridcolor": "white",
            "gridwidth": 2,
            "linecolor": "white",
            "showbackground": true,
            "ticks": "",
            "zerolinecolor": "white"
           },
           "zaxis": {
            "backgroundcolor": "#E5ECF6",
            "gridcolor": "white",
            "gridwidth": 2,
            "linecolor": "white",
            "showbackground": true,
            "ticks": "",
            "zerolinecolor": "white"
           }
          },
          "shapedefaults": {
           "line": {
            "color": "#2a3f5f"
           }
          },
          "ternary": {
           "aaxis": {
            "gridcolor": "white",
            "linecolor": "white",
            "ticks": ""
           },
           "baxis": {
            "gridcolor": "white",
            "linecolor": "white",
            "ticks": ""
           },
           "bgcolor": "#E5ECF6",
           "caxis": {
            "gridcolor": "white",
            "linecolor": "white",
            "ticks": ""
           }
          },
          "title": {
           "x": 0.05
          },
          "xaxis": {
           "automargin": true,
           "gridcolor": "white",
           "linecolor": "white",
           "ticks": "",
           "title": {
            "standoff": 15
           },
           "zerolinecolor": "white",
           "zerolinewidth": 2
          },
          "yaxis": {
           "automargin": true,
           "gridcolor": "white",
           "linecolor": "white",
           "ticks": "",
           "title": {
            "standoff": 15
           },
           "zerolinecolor": "white",
           "zerolinewidth": 2
          }
         }
        },
        "title": {
         "text": "subject_2- Mapping of mood data with activity "
        },
        "width": 900,
        "xaxis": {
         "anchor": "y",
         "constrain": "domain",
         "domain": [
          0,
          1
         ],
         "scaleanchor": "y",
         "title": {
          "text": "Activity"
         }
        },
        "yaxis": {
         "anchor": "x",
         "autorange": "reversed",
         "constrain": "domain",
         "domain": [
          0,
          1
         ],
         "title": {
          "text": "Mood"
         }
        }
       }
      },
      "text/html": [
       "<div>                            <div id=\"40e55154-1294-4618-8db8-341bf8270c9a\" class=\"plotly-graph-div\" style=\"height:600px; width:900px;\"></div>            <script type=\"text/javascript\">                require([\"plotly\"], function(Plotly) {                    window.PLOTLYENV=window.PLOTLYENV || {};                                    if (document.getElementById(\"40e55154-1294-4618-8db8-341bf8270c9a\")) {                    Plotly.newPlot(                        \"40e55154-1294-4618-8db8-341bf8270c9a\",                        [{\"coloraxis\":\"coloraxis\",\"name\":\"0\",\"x\":[\"Eating\",\"Free time\",\"Lesson\",\"Null\",\"Selfcare\",\"Sleeping\",\"Social life & Break\",\"Social media,Phone; chat\",\"Study\",\"Travel\",\"Watcing Youtube Tv-shows etc.\",\"Work\"],\"y\":[\"Fairly happy\",\"Fairly sad\",\"Neutral\",\"Very happy\",\"Very sad\",\"missing_val\"],\"z\":[[14.0,29.0,15.0,0.0,10.0,7.0,8.0,9.0,8.0,14.0,11.0,6.0],[4.0,5.0,3.0,0.0,0.0,0.0,0.0,1.0,4.0,2.0,1.0,2.0],[9.0,6.0,8.0,0.0,9.0,8.0,1.0,7.0,5.0,11.0,8.0,7.0],[14.0,22.0,12.0,0.0,6.0,6.0,12.0,10.0,12.0,11.0,2.0,7.0],[7.0,8.0,0.0,0.0,1.0,0.0,0.0,7.0,5.0,1.0,10.0,6.0],[0.0,3.0,3.0,85.0,1.0,187.0,0.0,0.0,1.0,0.0,0.0,1.0]],\"type\":\"heatmap\",\"xaxis\":\"x\",\"yaxis\":\"y\",\"hovertemplate\":\"Activity: %{x}<br>Mood: %{y}<br>count: %{z}<extra></extra>\"}],                        {\"template\":{\"data\":{\"bar\":[{\"error_x\":{\"color\":\"#2a3f5f\"},\"error_y\":{\"color\":\"#2a3f5f\"},\"marker\":{\"line\":{\"color\":\"#E5ECF6\",\"width\":0.5},\"pattern\":{\"fillmode\":\"overlay\",\"size\":10,\"solidity\":0.2}},\"type\":\"bar\"}],\"barpolar\":[{\"marker\":{\"line\":{\"color\":\"#E5ECF6\",\"width\":0.5},\"pattern\":{\"fillmode\":\"overlay\",\"size\":10,\"solidity\":0.2}},\"type\":\"barpolar\"}],\"carpet\":[{\"aaxis\":{\"endlinecolor\":\"#2a3f5f\",\"gridcolor\":\"white\",\"linecolor\":\"white\",\"minorgridcolor\":\"white\",\"startlinecolor\":\"#2a3f5f\"},\"baxis\":{\"endlinecolor\":\"#2a3f5f\",\"gridcolor\":\"white\",\"linecolor\":\"white\",\"minorgridcolor\":\"white\",\"startlinecolor\":\"#2a3f5f\"},\"type\":\"carpet\"}],\"choropleth\":[{\"colorbar\":{\"outlinewidth\":0,\"ticks\":\"\"},\"type\":\"choropleth\"}],\"contour\":[{\"colorbar\":{\"outlinewidth\":0,\"ticks\":\"\"},\"colorscale\":[[0.0,\"#0d0887\"],[0.1111111111111111,\"#46039f\"],[0.2222222222222222,\"#7201a8\"],[0.3333333333333333,\"#9c179e\"],[0.4444444444444444,\"#bd3786\"],[0.5555555555555556,\"#d8576b\"],[0.6666666666666666,\"#ed7953\"],[0.7777777777777778,\"#fb9f3a\"],[0.8888888888888888,\"#fdca26\"],[1.0,\"#f0f921\"]],\"type\":\"contour\"}],\"contourcarpet\":[{\"colorbar\":{\"outlinewidth\":0,\"ticks\":\"\"},\"type\":\"contourcarpet\"}],\"heatmap\":[{\"colorbar\":{\"outlinewidth\":0,\"ticks\":\"\"},\"colorscale\":[[0.0,\"#0d0887\"],[0.1111111111111111,\"#46039f\"],[0.2222222222222222,\"#7201a8\"],[0.3333333333333333,\"#9c179e\"],[0.4444444444444444,\"#bd3786\"],[0.5555555555555556,\"#d8576b\"],[0.6666666666666666,\"#ed7953\"],[0.7777777777777778,\"#fb9f3a\"],[0.8888888888888888,\"#fdca26\"],[1.0,\"#f0f921\"]],\"type\":\"heatmap\"}],\"heatmapgl\":[{\"colorbar\":{\"outlinewidth\":0,\"ticks\":\"\"},\"colorscale\":[[0.0,\"#0d0887\"],[0.1111111111111111,\"#46039f\"],[0.2222222222222222,\"#7201a8\"],[0.3333333333333333,\"#9c179e\"],[0.4444444444444444,\"#bd3786\"],[0.5555555555555556,\"#d8576b\"],[0.6666666666666666,\"#ed7953\"],[0.7777777777777778,\"#fb9f3a\"],[0.8888888888888888,\"#fdca26\"],[1.0,\"#f0f921\"]],\"type\":\"heatmapgl\"}],\"histogram\":[{\"marker\":{\"pattern\":{\"fillmode\":\"overlay\",\"size\":10,\"solidity\":0.2}},\"type\":\"histogram\"}],\"histogram2d\":[{\"colorbar\":{\"outlinewidth\":0,\"ticks\":\"\"},\"colorscale\":[[0.0,\"#0d0887\"],[0.1111111111111111,\"#46039f\"],[0.2222222222222222,\"#7201a8\"],[0.3333333333333333,\"#9c179e\"],[0.4444444444444444,\"#bd3786\"],[0.5555555555555556,\"#d8576b\"],[0.6666666666666666,\"#ed7953\"],[0.7777777777777778,\"#fb9f3a\"],[0.8888888888888888,\"#fdca26\"],[1.0,\"#f0f921\"]],\"type\":\"histogram2d\"}],\"histogram2dcontour\":[{\"colorbar\":{\"outlinewidth\":0,\"ticks\":\"\"},\"colorscale\":[[0.0,\"#0d0887\"],[0.1111111111111111,\"#46039f\"],[0.2222222222222222,\"#7201a8\"],[0.3333333333333333,\"#9c179e\"],[0.4444444444444444,\"#bd3786\"],[0.5555555555555556,\"#d8576b\"],[0.6666666666666666,\"#ed7953\"],[0.7777777777777778,\"#fb9f3a\"],[0.8888888888888888,\"#fdca26\"],[1.0,\"#f0f921\"]],\"type\":\"histogram2dcontour\"}],\"mesh3d\":[{\"colorbar\":{\"outlinewidth\":0,\"ticks\":\"\"},\"type\":\"mesh3d\"}],\"parcoords\":[{\"line\":{\"colorbar\":{\"outlinewidth\":0,\"ticks\":\"\"}},\"type\":\"parcoords\"}],\"pie\":[{\"automargin\":true,\"type\":\"pie\"}],\"scatter\":[{\"marker\":{\"colorbar\":{\"outlinewidth\":0,\"ticks\":\"\"}},\"type\":\"scatter\"}],\"scatter3d\":[{\"line\":{\"colorbar\":{\"outlinewidth\":0,\"ticks\":\"\"}},\"marker\":{\"colorbar\":{\"outlinewidth\":0,\"ticks\":\"\"}},\"type\":\"scatter3d\"}],\"scattercarpet\":[{\"marker\":{\"colorbar\":{\"outlinewidth\":0,\"ticks\":\"\"}},\"type\":\"scattercarpet\"}],\"scattergeo\":[{\"marker\":{\"colorbar\":{\"outlinewidth\":0,\"ticks\":\"\"}},\"type\":\"scattergeo\"}],\"scattergl\":[{\"marker\":{\"colorbar\":{\"outlinewidth\":0,\"ticks\":\"\"}},\"type\":\"scattergl\"}],\"scattermapbox\":[{\"marker\":{\"colorbar\":{\"outlinewidth\":0,\"ticks\":\"\"}},\"type\":\"scattermapbox\"}],\"scatterpolar\":[{\"marker\":{\"colorbar\":{\"outlinewidth\":0,\"ticks\":\"\"}},\"type\":\"scatterpolar\"}],\"scatterpolargl\":[{\"marker\":{\"colorbar\":{\"outlinewidth\":0,\"ticks\":\"\"}},\"type\":\"scatterpolargl\"}],\"scatterternary\":[{\"marker\":{\"colorbar\":{\"outlinewidth\":0,\"ticks\":\"\"}},\"type\":\"scatterternary\"}],\"surface\":[{\"colorbar\":{\"outlinewidth\":0,\"ticks\":\"\"},\"colorscale\":[[0.0,\"#0d0887\"],[0.1111111111111111,\"#46039f\"],[0.2222222222222222,\"#7201a8\"],[0.3333333333333333,\"#9c179e\"],[0.4444444444444444,\"#bd3786\"],[0.5555555555555556,\"#d8576b\"],[0.6666666666666666,\"#ed7953\"],[0.7777777777777778,\"#fb9f3a\"],[0.8888888888888888,\"#fdca26\"],[1.0,\"#f0f921\"]],\"type\":\"surface\"}],\"table\":[{\"cells\":{\"fill\":{\"color\":\"#EBF0F8\"},\"line\":{\"color\":\"white\"}},\"header\":{\"fill\":{\"color\":\"#C8D4E3\"},\"line\":{\"color\":\"white\"}},\"type\":\"table\"}]},\"layout\":{\"annotationdefaults\":{\"arrowcolor\":\"#2a3f5f\",\"arrowhead\":0,\"arrowwidth\":1},\"autotypenumbers\":\"strict\",\"coloraxis\":{\"colorbar\":{\"outlinewidth\":0,\"ticks\":\"\"}},\"colorscale\":{\"diverging\":[[0,\"#8e0152\"],[0.1,\"#c51b7d\"],[0.2,\"#de77ae\"],[0.3,\"#f1b6da\"],[0.4,\"#fde0ef\"],[0.5,\"#f7f7f7\"],[0.6,\"#e6f5d0\"],[0.7,\"#b8e186\"],[0.8,\"#7fbc41\"],[0.9,\"#4d9221\"],[1,\"#276419\"]],\"sequential\":[[0.0,\"#0d0887\"],[0.1111111111111111,\"#46039f\"],[0.2222222222222222,\"#7201a8\"],[0.3333333333333333,\"#9c179e\"],[0.4444444444444444,\"#bd3786\"],[0.5555555555555556,\"#d8576b\"],[0.6666666666666666,\"#ed7953\"],[0.7777777777777778,\"#fb9f3a\"],[0.8888888888888888,\"#fdca26\"],[1.0,\"#f0f921\"]],\"sequentialminus\":[[0.0,\"#0d0887\"],[0.1111111111111111,\"#46039f\"],[0.2222222222222222,\"#7201a8\"],[0.3333333333333333,\"#9c179e\"],[0.4444444444444444,\"#bd3786\"],[0.5555555555555556,\"#d8576b\"],[0.6666666666666666,\"#ed7953\"],[0.7777777777777778,\"#fb9f3a\"],[0.8888888888888888,\"#fdca26\"],[1.0,\"#f0f921\"]]},\"colorway\":[\"#636efa\",\"#EF553B\",\"#00cc96\",\"#ab63fa\",\"#FFA15A\",\"#19d3f3\",\"#FF6692\",\"#B6E880\",\"#FF97FF\",\"#FECB52\"],\"font\":{\"color\":\"#2a3f5f\"},\"geo\":{\"bgcolor\":\"white\",\"lakecolor\":\"white\",\"landcolor\":\"#E5ECF6\",\"showlakes\":true,\"showland\":true,\"subunitcolor\":\"white\"},\"hoverlabel\":{\"align\":\"left\"},\"hovermode\":\"closest\",\"mapbox\":{\"style\":\"light\"},\"paper_bgcolor\":\"white\",\"plot_bgcolor\":\"#E5ECF6\",\"polar\":{\"angularaxis\":{\"gridcolor\":\"white\",\"linecolor\":\"white\",\"ticks\":\"\"},\"bgcolor\":\"#E5ECF6\",\"radialaxis\":{\"gridcolor\":\"white\",\"linecolor\":\"white\",\"ticks\":\"\"}},\"scene\":{\"xaxis\":{\"backgroundcolor\":\"#E5ECF6\",\"gridcolor\":\"white\",\"gridwidth\":2,\"linecolor\":\"white\",\"showbackground\":true,\"ticks\":\"\",\"zerolinecolor\":\"white\"},\"yaxis\":{\"backgroundcolor\":\"#E5ECF6\",\"gridcolor\":\"white\",\"gridwidth\":2,\"linecolor\":\"white\",\"showbackground\":true,\"ticks\":\"\",\"zerolinecolor\":\"white\"},\"zaxis\":{\"backgroundcolor\":\"#E5ECF6\",\"gridcolor\":\"white\",\"gridwidth\":2,\"linecolor\":\"white\",\"showbackground\":true,\"ticks\":\"\",\"zerolinecolor\":\"white\"}},\"shapedefaults\":{\"line\":{\"color\":\"#2a3f5f\"}},\"ternary\":{\"aaxis\":{\"gridcolor\":\"white\",\"linecolor\":\"white\",\"ticks\":\"\"},\"baxis\":{\"gridcolor\":\"white\",\"linecolor\":\"white\",\"ticks\":\"\"},\"bgcolor\":\"#E5ECF6\",\"caxis\":{\"gridcolor\":\"white\",\"linecolor\":\"white\",\"ticks\":\"\"}},\"title\":{\"x\":0.05},\"xaxis\":{\"automargin\":true,\"gridcolor\":\"white\",\"linecolor\":\"white\",\"ticks\":\"\",\"title\":{\"standoff\":15},\"zerolinecolor\":\"white\",\"zerolinewidth\":2},\"yaxis\":{\"automargin\":true,\"gridcolor\":\"white\",\"linecolor\":\"white\",\"ticks\":\"\",\"title\":{\"standoff\":15},\"zerolinecolor\":\"white\",\"zerolinewidth\":2}}},\"xaxis\":{\"anchor\":\"y\",\"domain\":[0.0,1.0],\"scaleanchor\":\"y\",\"constrain\":\"domain\",\"title\":{\"text\":\"Activity\"}},\"yaxis\":{\"anchor\":\"x\",\"domain\":[0.0,1.0],\"autorange\":\"reversed\",\"constrain\":\"domain\",\"title\":{\"text\":\"Mood\"}},\"coloraxis\":{\"colorbar\":{\"title\":{\"text\":\"count\"}},\"colorscale\":[[0.0,\"rgb(0,0,0)\"],[0.25,\"rgb(230,0,0)\"],[0.5,\"rgb(230,210,0)\"],[0.75,\"rgb(255,255,255)\"],[1.0,\"rgb(160,200,255)\"]]},\"margin\":{\"t\":60},\"title\":{\"text\":\"subject_2- Mapping of mood data with activity \"},\"autosize\":false,\"width\":900,\"height\":600},                        {\"responsive\": true}                    ).then(function(){\n",
       "                            \n",
       "var gd = document.getElementById('40e55154-1294-4618-8db8-341bf8270c9a');\n",
       "var x = new MutationObserver(function (mutations, observer) {{\n",
       "        var display = window.getComputedStyle(gd).display;\n",
       "        if (!display || display === 'none') {{\n",
       "            console.log([gd, 'removed!']);\n",
       "            Plotly.purge(gd);\n",
       "            observer.disconnect();\n",
       "        }}\n",
       "}});\n",
       "\n",
       "// Listen for the removal of the full notebook cells\n",
       "var notebookContainer = gd.closest('#notebook-container');\n",
       "if (notebookContainer) {{\n",
       "    x.observe(notebookContainer, {childList: true});\n",
       "}}\n",
       "\n",
       "// Listen for the clearing of the current output cell\n",
       "var outputEl = gd.closest('.output');\n",
       "if (outputEl) {{\n",
       "    x.observe(outputEl, {childList: true});\n",
       "}}\n",
       "\n",
       "                        })                };                });            </script>        </div>"
      ]
     },
     "metadata": {},
     "output_type": "display_data"
    }
   ],
   "source": [
    "# numpy array\n",
    "hit_map = np.zeros((len(moods),len(activities)))\n",
    "for mood in mood_activity_freq:\n",
    "    for activity in mood_activity_freq[mood]:\n",
    "        hit_map[mood_to_index[mood]][activity_to_index[activity]]=mood_activity_freq[mood][activity]\n",
    "# hit_map      \n",
    "\n",
    "fig = px.imshow(hit_map,\n",
    "                labels=dict(y=\"Mood\", x=\"Activity\",color=\"count\"),\n",
    "                y=moods,\n",
    "                x=activities,\n",
    "                color_continuous_scale= 'blackbody'\n",
    "             )\n",
    "fig.update_layout(autosize = False, width=900,height = 600,title_text='subject_2- Mapping of mood data with activity ')\n",
    "fig.show()"
   ]
  },
  {
   "cell_type": "markdown",
   "metadata": {},
   "source": [
    "## 2D-   Mood vs With-Who\n"
   ]
  },
  {
   "cell_type": "code",
   "execution_count": 67,
   "metadata": {},
   "outputs": [],
   "source": [
    "with_whos = tdf_sub2.with_who.unique().tolist()\n",
    "with_whos.sort()\n"
   ]
  },
  {
   "cell_type": "code",
   "execution_count": 68,
   "metadata": {},
   "outputs": [
    {
     "data": {
      "text/plain": [
       "{'Alone': 0,\n",
       " 'Classmate(s)': 1,\n",
       " 'Friend(s)': 2,\n",
       " 'Relative(s)': 3,\n",
       " 'Roommate(s)': 4,\n",
       " 'missing_val': 5}"
      ]
     },
     "execution_count": 68,
     "metadata": {},
     "output_type": "execute_result"
    }
   ],
   "source": [
    "with_whos_to_index = {with_who:i for i,with_who in enumerate(with_whos)}\n",
    "with_whos_to_index"
   ]
  },
  {
   "cell_type": "code",
   "execution_count": 69,
   "metadata": {},
   "outputs": [
    {
     "data": {
      "text/plain": [
       "defaultdict(int,\n",
       "            {'Relative(s)': 7.0,\n",
       "             'Alone': 64.0,\n",
       "             'Friend(s)': 22.0,\n",
       "             'Classmate(s)': 16.0,\n",
       "             'Roommate(s)': 5.0})"
      ]
     },
     "execution_count": 69,
     "metadata": {},
     "output_type": "execute_result"
    }
   ],
   "source": [
    "mood_with_who_freq =  defaultdict(lambda: defaultdict(int))\n",
    "for index,row in tdf_sub2.iterrows():\n",
    "    mood = row.mood\n",
    "    with_who = row.with_who\n",
    "    mood_with_who_freq[mood][with_who]+=1.0\n",
    "# very happy with who she is count \n",
    "mood_with_who_freq[\"Very happy\"]"
   ]
  },
  {
   "cell_type": "code",
   "execution_count": 70,
   "metadata": {},
   "outputs": [
    {
     "data": {
      "application/vnd.plotly.v1+json": {
       "config": {
        "plotlyServerURL": "https://plot.ly"
       },
       "data": [
        {
         "coloraxis": "coloraxis",
         "hovertemplate": "with_who: %{x}<br>Mood: %{y}<br>count: %{z}<extra></extra>",
         "name": "0",
         "type": "heatmap",
         "x": [
          "Alone",
          "Classmate(s)",
          "Friend(s)",
          "Relative(s)",
          "Roommate(s)",
          "missing_val"
         ],
         "xaxis": "x",
         "y": [
          "Fairly happy",
          "Fairly sad",
          "Neutral",
          "Very happy",
          "Very sad",
          "missing_val"
         ],
         "yaxis": "y",
         "z": [
          [
           82,
           19,
           15,
           10,
           5,
           0
          ],
          [
           20,
           1,
           0,
           0,
           1,
           0
          ],
          [
           67,
           7,
           2,
           1,
           2,
           0
          ],
          [
           64,
           16,
           22,
           7,
           5,
           0
          ],
          [
           43,
           0,
           0,
           0,
           2,
           0
          ],
          [
           191,
           4,
           1,
           0,
           0,
           85
          ]
         ]
        }
       ],
       "layout": {
        "autosize": false,
        "coloraxis": {
         "colorbar": {
          "title": {
           "text": "count"
          }
         },
         "colorscale": [
          [
           0,
           "rgb(0,0,0)"
          ],
          [
           0.25,
           "rgb(230,0,0)"
          ],
          [
           0.5,
           "rgb(230,210,0)"
          ],
          [
           0.75,
           "rgb(255,255,255)"
          ],
          [
           1,
           "rgb(160,200,255)"
          ]
         ]
        },
        "height": 600,
        "margin": {
         "t": 60
        },
        "template": {
         "data": {
          "bar": [
           {
            "error_x": {
             "color": "#2a3f5f"
            },
            "error_y": {
             "color": "#2a3f5f"
            },
            "marker": {
             "line": {
              "color": "#E5ECF6",
              "width": 0.5
             },
             "pattern": {
              "fillmode": "overlay",
              "size": 10,
              "solidity": 0.2
             }
            },
            "type": "bar"
           }
          ],
          "barpolar": [
           {
            "marker": {
             "line": {
              "color": "#E5ECF6",
              "width": 0.5
             },
             "pattern": {
              "fillmode": "overlay",
              "size": 10,
              "solidity": 0.2
             }
            },
            "type": "barpolar"
           }
          ],
          "carpet": [
           {
            "aaxis": {
             "endlinecolor": "#2a3f5f",
             "gridcolor": "white",
             "linecolor": "white",
             "minorgridcolor": "white",
             "startlinecolor": "#2a3f5f"
            },
            "baxis": {
             "endlinecolor": "#2a3f5f",
             "gridcolor": "white",
             "linecolor": "white",
             "minorgridcolor": "white",
             "startlinecolor": "#2a3f5f"
            },
            "type": "carpet"
           }
          ],
          "choropleth": [
           {
            "colorbar": {
             "outlinewidth": 0,
             "ticks": ""
            },
            "type": "choropleth"
           }
          ],
          "contour": [
           {
            "colorbar": {
             "outlinewidth": 0,
             "ticks": ""
            },
            "colorscale": [
             [
              0,
              "#0d0887"
             ],
             [
              0.1111111111111111,
              "#46039f"
             ],
             [
              0.2222222222222222,
              "#7201a8"
             ],
             [
              0.3333333333333333,
              "#9c179e"
             ],
             [
              0.4444444444444444,
              "#bd3786"
             ],
             [
              0.5555555555555556,
              "#d8576b"
             ],
             [
              0.6666666666666666,
              "#ed7953"
             ],
             [
              0.7777777777777778,
              "#fb9f3a"
             ],
             [
              0.8888888888888888,
              "#fdca26"
             ],
             [
              1,
              "#f0f921"
             ]
            ],
            "type": "contour"
           }
          ],
          "contourcarpet": [
           {
            "colorbar": {
             "outlinewidth": 0,
             "ticks": ""
            },
            "type": "contourcarpet"
           }
          ],
          "heatmap": [
           {
            "colorbar": {
             "outlinewidth": 0,
             "ticks": ""
            },
            "colorscale": [
             [
              0,
              "#0d0887"
             ],
             [
              0.1111111111111111,
              "#46039f"
             ],
             [
              0.2222222222222222,
              "#7201a8"
             ],
             [
              0.3333333333333333,
              "#9c179e"
             ],
             [
              0.4444444444444444,
              "#bd3786"
             ],
             [
              0.5555555555555556,
              "#d8576b"
             ],
             [
              0.6666666666666666,
              "#ed7953"
             ],
             [
              0.7777777777777778,
              "#fb9f3a"
             ],
             [
              0.8888888888888888,
              "#fdca26"
             ],
             [
              1,
              "#f0f921"
             ]
            ],
            "type": "heatmap"
           }
          ],
          "heatmapgl": [
           {
            "colorbar": {
             "outlinewidth": 0,
             "ticks": ""
            },
            "colorscale": [
             [
              0,
              "#0d0887"
             ],
             [
              0.1111111111111111,
              "#46039f"
             ],
             [
              0.2222222222222222,
              "#7201a8"
             ],
             [
              0.3333333333333333,
              "#9c179e"
             ],
             [
              0.4444444444444444,
              "#bd3786"
             ],
             [
              0.5555555555555556,
              "#d8576b"
             ],
             [
              0.6666666666666666,
              "#ed7953"
             ],
             [
              0.7777777777777778,
              "#fb9f3a"
             ],
             [
              0.8888888888888888,
              "#fdca26"
             ],
             [
              1,
              "#f0f921"
             ]
            ],
            "type": "heatmapgl"
           }
          ],
          "histogram": [
           {
            "marker": {
             "pattern": {
              "fillmode": "overlay",
              "size": 10,
              "solidity": 0.2
             }
            },
            "type": "histogram"
           }
          ],
          "histogram2d": [
           {
            "colorbar": {
             "outlinewidth": 0,
             "ticks": ""
            },
            "colorscale": [
             [
              0,
              "#0d0887"
             ],
             [
              0.1111111111111111,
              "#46039f"
             ],
             [
              0.2222222222222222,
              "#7201a8"
             ],
             [
              0.3333333333333333,
              "#9c179e"
             ],
             [
              0.4444444444444444,
              "#bd3786"
             ],
             [
              0.5555555555555556,
              "#d8576b"
             ],
             [
              0.6666666666666666,
              "#ed7953"
             ],
             [
              0.7777777777777778,
              "#fb9f3a"
             ],
             [
              0.8888888888888888,
              "#fdca26"
             ],
             [
              1,
              "#f0f921"
             ]
            ],
            "type": "histogram2d"
           }
          ],
          "histogram2dcontour": [
           {
            "colorbar": {
             "outlinewidth": 0,
             "ticks": ""
            },
            "colorscale": [
             [
              0,
              "#0d0887"
             ],
             [
              0.1111111111111111,
              "#46039f"
             ],
             [
              0.2222222222222222,
              "#7201a8"
             ],
             [
              0.3333333333333333,
              "#9c179e"
             ],
             [
              0.4444444444444444,
              "#bd3786"
             ],
             [
              0.5555555555555556,
              "#d8576b"
             ],
             [
              0.6666666666666666,
              "#ed7953"
             ],
             [
              0.7777777777777778,
              "#fb9f3a"
             ],
             [
              0.8888888888888888,
              "#fdca26"
             ],
             [
              1,
              "#f0f921"
             ]
            ],
            "type": "histogram2dcontour"
           }
          ],
          "mesh3d": [
           {
            "colorbar": {
             "outlinewidth": 0,
             "ticks": ""
            },
            "type": "mesh3d"
           }
          ],
          "parcoords": [
           {
            "line": {
             "colorbar": {
              "outlinewidth": 0,
              "ticks": ""
             }
            },
            "type": "parcoords"
           }
          ],
          "pie": [
           {
            "automargin": true,
            "type": "pie"
           }
          ],
          "scatter": [
           {
            "marker": {
             "colorbar": {
              "outlinewidth": 0,
              "ticks": ""
             }
            },
            "type": "scatter"
           }
          ],
          "scatter3d": [
           {
            "line": {
             "colorbar": {
              "outlinewidth": 0,
              "ticks": ""
             }
            },
            "marker": {
             "colorbar": {
              "outlinewidth": 0,
              "ticks": ""
             }
            },
            "type": "scatter3d"
           }
          ],
          "scattercarpet": [
           {
            "marker": {
             "colorbar": {
              "outlinewidth": 0,
              "ticks": ""
             }
            },
            "type": "scattercarpet"
           }
          ],
          "scattergeo": [
           {
            "marker": {
             "colorbar": {
              "outlinewidth": 0,
              "ticks": ""
             }
            },
            "type": "scattergeo"
           }
          ],
          "scattergl": [
           {
            "marker": {
             "colorbar": {
              "outlinewidth": 0,
              "ticks": ""
             }
            },
            "type": "scattergl"
           }
          ],
          "scattermapbox": [
           {
            "marker": {
             "colorbar": {
              "outlinewidth": 0,
              "ticks": ""
             }
            },
            "type": "scattermapbox"
           }
          ],
          "scatterpolar": [
           {
            "marker": {
             "colorbar": {
              "outlinewidth": 0,
              "ticks": ""
             }
            },
            "type": "scatterpolar"
           }
          ],
          "scatterpolargl": [
           {
            "marker": {
             "colorbar": {
              "outlinewidth": 0,
              "ticks": ""
             }
            },
            "type": "scatterpolargl"
           }
          ],
          "scatterternary": [
           {
            "marker": {
             "colorbar": {
              "outlinewidth": 0,
              "ticks": ""
             }
            },
            "type": "scatterternary"
           }
          ],
          "surface": [
           {
            "colorbar": {
             "outlinewidth": 0,
             "ticks": ""
            },
            "colorscale": [
             [
              0,
              "#0d0887"
             ],
             [
              0.1111111111111111,
              "#46039f"
             ],
             [
              0.2222222222222222,
              "#7201a8"
             ],
             [
              0.3333333333333333,
              "#9c179e"
             ],
             [
              0.4444444444444444,
              "#bd3786"
             ],
             [
              0.5555555555555556,
              "#d8576b"
             ],
             [
              0.6666666666666666,
              "#ed7953"
             ],
             [
              0.7777777777777778,
              "#fb9f3a"
             ],
             [
              0.8888888888888888,
              "#fdca26"
             ],
             [
              1,
              "#f0f921"
             ]
            ],
            "type": "surface"
           }
          ],
          "table": [
           {
            "cells": {
             "fill": {
              "color": "#EBF0F8"
             },
             "line": {
              "color": "white"
             }
            },
            "header": {
             "fill": {
              "color": "#C8D4E3"
             },
             "line": {
              "color": "white"
             }
            },
            "type": "table"
           }
          ]
         },
         "layout": {
          "annotationdefaults": {
           "arrowcolor": "#2a3f5f",
           "arrowhead": 0,
           "arrowwidth": 1
          },
          "autotypenumbers": "strict",
          "coloraxis": {
           "colorbar": {
            "outlinewidth": 0,
            "ticks": ""
           }
          },
          "colorscale": {
           "diverging": [
            [
             0,
             "#8e0152"
            ],
            [
             0.1,
             "#c51b7d"
            ],
            [
             0.2,
             "#de77ae"
            ],
            [
             0.3,
             "#f1b6da"
            ],
            [
             0.4,
             "#fde0ef"
            ],
            [
             0.5,
             "#f7f7f7"
            ],
            [
             0.6,
             "#e6f5d0"
            ],
            [
             0.7,
             "#b8e186"
            ],
            [
             0.8,
             "#7fbc41"
            ],
            [
             0.9,
             "#4d9221"
            ],
            [
             1,
             "#276419"
            ]
           ],
           "sequential": [
            [
             0,
             "#0d0887"
            ],
            [
             0.1111111111111111,
             "#46039f"
            ],
            [
             0.2222222222222222,
             "#7201a8"
            ],
            [
             0.3333333333333333,
             "#9c179e"
            ],
            [
             0.4444444444444444,
             "#bd3786"
            ],
            [
             0.5555555555555556,
             "#d8576b"
            ],
            [
             0.6666666666666666,
             "#ed7953"
            ],
            [
             0.7777777777777778,
             "#fb9f3a"
            ],
            [
             0.8888888888888888,
             "#fdca26"
            ],
            [
             1,
             "#f0f921"
            ]
           ],
           "sequentialminus": [
            [
             0,
             "#0d0887"
            ],
            [
             0.1111111111111111,
             "#46039f"
            ],
            [
             0.2222222222222222,
             "#7201a8"
            ],
            [
             0.3333333333333333,
             "#9c179e"
            ],
            [
             0.4444444444444444,
             "#bd3786"
            ],
            [
             0.5555555555555556,
             "#d8576b"
            ],
            [
             0.6666666666666666,
             "#ed7953"
            ],
            [
             0.7777777777777778,
             "#fb9f3a"
            ],
            [
             0.8888888888888888,
             "#fdca26"
            ],
            [
             1,
             "#f0f921"
            ]
           ]
          },
          "colorway": [
           "#636efa",
           "#EF553B",
           "#00cc96",
           "#ab63fa",
           "#FFA15A",
           "#19d3f3",
           "#FF6692",
           "#B6E880",
           "#FF97FF",
           "#FECB52"
          ],
          "font": {
           "color": "#2a3f5f"
          },
          "geo": {
           "bgcolor": "white",
           "lakecolor": "white",
           "landcolor": "#E5ECF6",
           "showlakes": true,
           "showland": true,
           "subunitcolor": "white"
          },
          "hoverlabel": {
           "align": "left"
          },
          "hovermode": "closest",
          "mapbox": {
           "style": "light"
          },
          "paper_bgcolor": "white",
          "plot_bgcolor": "#E5ECF6",
          "polar": {
           "angularaxis": {
            "gridcolor": "white",
            "linecolor": "white",
            "ticks": ""
           },
           "bgcolor": "#E5ECF6",
           "radialaxis": {
            "gridcolor": "white",
            "linecolor": "white",
            "ticks": ""
           }
          },
          "scene": {
           "xaxis": {
            "backgroundcolor": "#E5ECF6",
            "gridcolor": "white",
            "gridwidth": 2,
            "linecolor": "white",
            "showbackground": true,
            "ticks": "",
            "zerolinecolor": "white"
           },
           "yaxis": {
            "backgroundcolor": "#E5ECF6",
            "gridcolor": "white",
            "gridwidth": 2,
            "linecolor": "white",
            "showbackground": true,
            "ticks": "",
            "zerolinecolor": "white"
           },
           "zaxis": {
            "backgroundcolor": "#E5ECF6",
            "gridcolor": "white",
            "gridwidth": 2,
            "linecolor": "white",
            "showbackground": true,
            "ticks": "",
            "zerolinecolor": "white"
           }
          },
          "shapedefaults": {
           "line": {
            "color": "#2a3f5f"
           }
          },
          "ternary": {
           "aaxis": {
            "gridcolor": "white",
            "linecolor": "white",
            "ticks": ""
           },
           "baxis": {
            "gridcolor": "white",
            "linecolor": "white",
            "ticks": ""
           },
           "bgcolor": "#E5ECF6",
           "caxis": {
            "gridcolor": "white",
            "linecolor": "white",
            "ticks": ""
           }
          },
          "title": {
           "x": 0.05
          },
          "xaxis": {
           "automargin": true,
           "gridcolor": "white",
           "linecolor": "white",
           "ticks": "",
           "title": {
            "standoff": 15
           },
           "zerolinecolor": "white",
           "zerolinewidth": 2
          },
          "yaxis": {
           "automargin": true,
           "gridcolor": "white",
           "linecolor": "white",
           "ticks": "",
           "title": {
            "standoff": 15
           },
           "zerolinecolor": "white",
           "zerolinewidth": 2
          }
         }
        },
        "title": {
         "text": "subject_2- Mapping of mood data with with-who "
        },
        "width": 900,
        "xaxis": {
         "anchor": "y",
         "constrain": "domain",
         "domain": [
          0,
          1
         ],
         "scaleanchor": "y",
         "title": {
          "text": "with_who"
         }
        },
        "yaxis": {
         "anchor": "x",
         "autorange": "reversed",
         "constrain": "domain",
         "domain": [
          0,
          1
         ],
         "title": {
          "text": "Mood"
         }
        }
       }
      },
      "text/html": [
       "<div>                            <div id=\"2c5d27fe-23fc-4eff-8729-73c02ad052ab\" class=\"plotly-graph-div\" style=\"height:600px; width:900px;\"></div>            <script type=\"text/javascript\">                require([\"plotly\"], function(Plotly) {                    window.PLOTLYENV=window.PLOTLYENV || {};                                    if (document.getElementById(\"2c5d27fe-23fc-4eff-8729-73c02ad052ab\")) {                    Plotly.newPlot(                        \"2c5d27fe-23fc-4eff-8729-73c02ad052ab\",                        [{\"coloraxis\":\"coloraxis\",\"name\":\"0\",\"x\":[\"Alone\",\"Classmate(s)\",\"Friend(s)\",\"Relative(s)\",\"Roommate(s)\",\"missing_val\"],\"y\":[\"Fairly happy\",\"Fairly sad\",\"Neutral\",\"Very happy\",\"Very sad\",\"missing_val\"],\"z\":[[82.0,19.0,15.0,10.0,5.0,0.0],[20.0,1.0,0.0,0.0,1.0,0.0],[67.0,7.0,2.0,1.0,2.0,0.0],[64.0,16.0,22.0,7.0,5.0,0.0],[43.0,0.0,0.0,0.0,2.0,0.0],[191.0,4.0,1.0,0.0,0.0,85.0]],\"type\":\"heatmap\",\"xaxis\":\"x\",\"yaxis\":\"y\",\"hovertemplate\":\"with_who: %{x}<br>Mood: %{y}<br>count: %{z}<extra></extra>\"}],                        {\"template\":{\"data\":{\"bar\":[{\"error_x\":{\"color\":\"#2a3f5f\"},\"error_y\":{\"color\":\"#2a3f5f\"},\"marker\":{\"line\":{\"color\":\"#E5ECF6\",\"width\":0.5},\"pattern\":{\"fillmode\":\"overlay\",\"size\":10,\"solidity\":0.2}},\"type\":\"bar\"}],\"barpolar\":[{\"marker\":{\"line\":{\"color\":\"#E5ECF6\",\"width\":0.5},\"pattern\":{\"fillmode\":\"overlay\",\"size\":10,\"solidity\":0.2}},\"type\":\"barpolar\"}],\"carpet\":[{\"aaxis\":{\"endlinecolor\":\"#2a3f5f\",\"gridcolor\":\"white\",\"linecolor\":\"white\",\"minorgridcolor\":\"white\",\"startlinecolor\":\"#2a3f5f\"},\"baxis\":{\"endlinecolor\":\"#2a3f5f\",\"gridcolor\":\"white\",\"linecolor\":\"white\",\"minorgridcolor\":\"white\",\"startlinecolor\":\"#2a3f5f\"},\"type\":\"carpet\"}],\"choropleth\":[{\"colorbar\":{\"outlinewidth\":0,\"ticks\":\"\"},\"type\":\"choropleth\"}],\"contour\":[{\"colorbar\":{\"outlinewidth\":0,\"ticks\":\"\"},\"colorscale\":[[0.0,\"#0d0887\"],[0.1111111111111111,\"#46039f\"],[0.2222222222222222,\"#7201a8\"],[0.3333333333333333,\"#9c179e\"],[0.4444444444444444,\"#bd3786\"],[0.5555555555555556,\"#d8576b\"],[0.6666666666666666,\"#ed7953\"],[0.7777777777777778,\"#fb9f3a\"],[0.8888888888888888,\"#fdca26\"],[1.0,\"#f0f921\"]],\"type\":\"contour\"}],\"contourcarpet\":[{\"colorbar\":{\"outlinewidth\":0,\"ticks\":\"\"},\"type\":\"contourcarpet\"}],\"heatmap\":[{\"colorbar\":{\"outlinewidth\":0,\"ticks\":\"\"},\"colorscale\":[[0.0,\"#0d0887\"],[0.1111111111111111,\"#46039f\"],[0.2222222222222222,\"#7201a8\"],[0.3333333333333333,\"#9c179e\"],[0.4444444444444444,\"#bd3786\"],[0.5555555555555556,\"#d8576b\"],[0.6666666666666666,\"#ed7953\"],[0.7777777777777778,\"#fb9f3a\"],[0.8888888888888888,\"#fdca26\"],[1.0,\"#f0f921\"]],\"type\":\"heatmap\"}],\"heatmapgl\":[{\"colorbar\":{\"outlinewidth\":0,\"ticks\":\"\"},\"colorscale\":[[0.0,\"#0d0887\"],[0.1111111111111111,\"#46039f\"],[0.2222222222222222,\"#7201a8\"],[0.3333333333333333,\"#9c179e\"],[0.4444444444444444,\"#bd3786\"],[0.5555555555555556,\"#d8576b\"],[0.6666666666666666,\"#ed7953\"],[0.7777777777777778,\"#fb9f3a\"],[0.8888888888888888,\"#fdca26\"],[1.0,\"#f0f921\"]],\"type\":\"heatmapgl\"}],\"histogram\":[{\"marker\":{\"pattern\":{\"fillmode\":\"overlay\",\"size\":10,\"solidity\":0.2}},\"type\":\"histogram\"}],\"histogram2d\":[{\"colorbar\":{\"outlinewidth\":0,\"ticks\":\"\"},\"colorscale\":[[0.0,\"#0d0887\"],[0.1111111111111111,\"#46039f\"],[0.2222222222222222,\"#7201a8\"],[0.3333333333333333,\"#9c179e\"],[0.4444444444444444,\"#bd3786\"],[0.5555555555555556,\"#d8576b\"],[0.6666666666666666,\"#ed7953\"],[0.7777777777777778,\"#fb9f3a\"],[0.8888888888888888,\"#fdca26\"],[1.0,\"#f0f921\"]],\"type\":\"histogram2d\"}],\"histogram2dcontour\":[{\"colorbar\":{\"outlinewidth\":0,\"ticks\":\"\"},\"colorscale\":[[0.0,\"#0d0887\"],[0.1111111111111111,\"#46039f\"],[0.2222222222222222,\"#7201a8\"],[0.3333333333333333,\"#9c179e\"],[0.4444444444444444,\"#bd3786\"],[0.5555555555555556,\"#d8576b\"],[0.6666666666666666,\"#ed7953\"],[0.7777777777777778,\"#fb9f3a\"],[0.8888888888888888,\"#fdca26\"],[1.0,\"#f0f921\"]],\"type\":\"histogram2dcontour\"}],\"mesh3d\":[{\"colorbar\":{\"outlinewidth\":0,\"ticks\":\"\"},\"type\":\"mesh3d\"}],\"parcoords\":[{\"line\":{\"colorbar\":{\"outlinewidth\":0,\"ticks\":\"\"}},\"type\":\"parcoords\"}],\"pie\":[{\"automargin\":true,\"type\":\"pie\"}],\"scatter\":[{\"marker\":{\"colorbar\":{\"outlinewidth\":0,\"ticks\":\"\"}},\"type\":\"scatter\"}],\"scatter3d\":[{\"line\":{\"colorbar\":{\"outlinewidth\":0,\"ticks\":\"\"}},\"marker\":{\"colorbar\":{\"outlinewidth\":0,\"ticks\":\"\"}},\"type\":\"scatter3d\"}],\"scattercarpet\":[{\"marker\":{\"colorbar\":{\"outlinewidth\":0,\"ticks\":\"\"}},\"type\":\"scattercarpet\"}],\"scattergeo\":[{\"marker\":{\"colorbar\":{\"outlinewidth\":0,\"ticks\":\"\"}},\"type\":\"scattergeo\"}],\"scattergl\":[{\"marker\":{\"colorbar\":{\"outlinewidth\":0,\"ticks\":\"\"}},\"type\":\"scattergl\"}],\"scattermapbox\":[{\"marker\":{\"colorbar\":{\"outlinewidth\":0,\"ticks\":\"\"}},\"type\":\"scattermapbox\"}],\"scatterpolar\":[{\"marker\":{\"colorbar\":{\"outlinewidth\":0,\"ticks\":\"\"}},\"type\":\"scatterpolar\"}],\"scatterpolargl\":[{\"marker\":{\"colorbar\":{\"outlinewidth\":0,\"ticks\":\"\"}},\"type\":\"scatterpolargl\"}],\"scatterternary\":[{\"marker\":{\"colorbar\":{\"outlinewidth\":0,\"ticks\":\"\"}},\"type\":\"scatterternary\"}],\"surface\":[{\"colorbar\":{\"outlinewidth\":0,\"ticks\":\"\"},\"colorscale\":[[0.0,\"#0d0887\"],[0.1111111111111111,\"#46039f\"],[0.2222222222222222,\"#7201a8\"],[0.3333333333333333,\"#9c179e\"],[0.4444444444444444,\"#bd3786\"],[0.5555555555555556,\"#d8576b\"],[0.6666666666666666,\"#ed7953\"],[0.7777777777777778,\"#fb9f3a\"],[0.8888888888888888,\"#fdca26\"],[1.0,\"#f0f921\"]],\"type\":\"surface\"}],\"table\":[{\"cells\":{\"fill\":{\"color\":\"#EBF0F8\"},\"line\":{\"color\":\"white\"}},\"header\":{\"fill\":{\"color\":\"#C8D4E3\"},\"line\":{\"color\":\"white\"}},\"type\":\"table\"}]},\"layout\":{\"annotationdefaults\":{\"arrowcolor\":\"#2a3f5f\",\"arrowhead\":0,\"arrowwidth\":1},\"autotypenumbers\":\"strict\",\"coloraxis\":{\"colorbar\":{\"outlinewidth\":0,\"ticks\":\"\"}},\"colorscale\":{\"diverging\":[[0,\"#8e0152\"],[0.1,\"#c51b7d\"],[0.2,\"#de77ae\"],[0.3,\"#f1b6da\"],[0.4,\"#fde0ef\"],[0.5,\"#f7f7f7\"],[0.6,\"#e6f5d0\"],[0.7,\"#b8e186\"],[0.8,\"#7fbc41\"],[0.9,\"#4d9221\"],[1,\"#276419\"]],\"sequential\":[[0.0,\"#0d0887\"],[0.1111111111111111,\"#46039f\"],[0.2222222222222222,\"#7201a8\"],[0.3333333333333333,\"#9c179e\"],[0.4444444444444444,\"#bd3786\"],[0.5555555555555556,\"#d8576b\"],[0.6666666666666666,\"#ed7953\"],[0.7777777777777778,\"#fb9f3a\"],[0.8888888888888888,\"#fdca26\"],[1.0,\"#f0f921\"]],\"sequentialminus\":[[0.0,\"#0d0887\"],[0.1111111111111111,\"#46039f\"],[0.2222222222222222,\"#7201a8\"],[0.3333333333333333,\"#9c179e\"],[0.4444444444444444,\"#bd3786\"],[0.5555555555555556,\"#d8576b\"],[0.6666666666666666,\"#ed7953\"],[0.7777777777777778,\"#fb9f3a\"],[0.8888888888888888,\"#fdca26\"],[1.0,\"#f0f921\"]]},\"colorway\":[\"#636efa\",\"#EF553B\",\"#00cc96\",\"#ab63fa\",\"#FFA15A\",\"#19d3f3\",\"#FF6692\",\"#B6E880\",\"#FF97FF\",\"#FECB52\"],\"font\":{\"color\":\"#2a3f5f\"},\"geo\":{\"bgcolor\":\"white\",\"lakecolor\":\"white\",\"landcolor\":\"#E5ECF6\",\"showlakes\":true,\"showland\":true,\"subunitcolor\":\"white\"},\"hoverlabel\":{\"align\":\"left\"},\"hovermode\":\"closest\",\"mapbox\":{\"style\":\"light\"},\"paper_bgcolor\":\"white\",\"plot_bgcolor\":\"#E5ECF6\",\"polar\":{\"angularaxis\":{\"gridcolor\":\"white\",\"linecolor\":\"white\",\"ticks\":\"\"},\"bgcolor\":\"#E5ECF6\",\"radialaxis\":{\"gridcolor\":\"white\",\"linecolor\":\"white\",\"ticks\":\"\"}},\"scene\":{\"xaxis\":{\"backgroundcolor\":\"#E5ECF6\",\"gridcolor\":\"white\",\"gridwidth\":2,\"linecolor\":\"white\",\"showbackground\":true,\"ticks\":\"\",\"zerolinecolor\":\"white\"},\"yaxis\":{\"backgroundcolor\":\"#E5ECF6\",\"gridcolor\":\"white\",\"gridwidth\":2,\"linecolor\":\"white\",\"showbackground\":true,\"ticks\":\"\",\"zerolinecolor\":\"white\"},\"zaxis\":{\"backgroundcolor\":\"#E5ECF6\",\"gridcolor\":\"white\",\"gridwidth\":2,\"linecolor\":\"white\",\"showbackground\":true,\"ticks\":\"\",\"zerolinecolor\":\"white\"}},\"shapedefaults\":{\"line\":{\"color\":\"#2a3f5f\"}},\"ternary\":{\"aaxis\":{\"gridcolor\":\"white\",\"linecolor\":\"white\",\"ticks\":\"\"},\"baxis\":{\"gridcolor\":\"white\",\"linecolor\":\"white\",\"ticks\":\"\"},\"bgcolor\":\"#E5ECF6\",\"caxis\":{\"gridcolor\":\"white\",\"linecolor\":\"white\",\"ticks\":\"\"}},\"title\":{\"x\":0.05},\"xaxis\":{\"automargin\":true,\"gridcolor\":\"white\",\"linecolor\":\"white\",\"ticks\":\"\",\"title\":{\"standoff\":15},\"zerolinecolor\":\"white\",\"zerolinewidth\":2},\"yaxis\":{\"automargin\":true,\"gridcolor\":\"white\",\"linecolor\":\"white\",\"ticks\":\"\",\"title\":{\"standoff\":15},\"zerolinecolor\":\"white\",\"zerolinewidth\":2}}},\"xaxis\":{\"anchor\":\"y\",\"domain\":[0.0,1.0],\"scaleanchor\":\"y\",\"constrain\":\"domain\",\"title\":{\"text\":\"with_who\"}},\"yaxis\":{\"anchor\":\"x\",\"domain\":[0.0,1.0],\"autorange\":\"reversed\",\"constrain\":\"domain\",\"title\":{\"text\":\"Mood\"}},\"coloraxis\":{\"colorbar\":{\"title\":{\"text\":\"count\"}},\"colorscale\":[[0.0,\"rgb(0,0,0)\"],[0.25,\"rgb(230,0,0)\"],[0.5,\"rgb(230,210,0)\"],[0.75,\"rgb(255,255,255)\"],[1.0,\"rgb(160,200,255)\"]]},\"margin\":{\"t\":60},\"title\":{\"text\":\"subject_2- Mapping of mood data with with-who \"},\"autosize\":false,\"width\":900,\"height\":600},                        {\"responsive\": true}                    ).then(function(){\n",
       "                            \n",
       "var gd = document.getElementById('2c5d27fe-23fc-4eff-8729-73c02ad052ab');\n",
       "var x = new MutationObserver(function (mutations, observer) {{\n",
       "        var display = window.getComputedStyle(gd).display;\n",
       "        if (!display || display === 'none') {{\n",
       "            console.log([gd, 'removed!']);\n",
       "            Plotly.purge(gd);\n",
       "            observer.disconnect();\n",
       "        }}\n",
       "}});\n",
       "\n",
       "// Listen for the removal of the full notebook cells\n",
       "var notebookContainer = gd.closest('#notebook-container');\n",
       "if (notebookContainer) {{\n",
       "    x.observe(notebookContainer, {childList: true});\n",
       "}}\n",
       "\n",
       "// Listen for the clearing of the current output cell\n",
       "var outputEl = gd.closest('.output');\n",
       "if (outputEl) {{\n",
       "    x.observe(outputEl, {childList: true});\n",
       "}}\n",
       "\n",
       "                        })                };                });            </script>        </div>"
      ]
     },
     "metadata": {},
     "output_type": "display_data"
    }
   ],
   "source": [
    "# numpy array\n",
    "hit_map = np.zeros((len(moods),len(with_whos)))\n",
    "for mood in mood_with_who_freq:\n",
    "    for with_who in mood_with_who_freq[mood]:\n",
    "        hit_map[mood_to_index[mood]][with_whos_to_index[with_who]]=mood_with_who_freq[mood][with_who]\n",
    "# hit_map      \n",
    "\n",
    "fig = px.imshow(hit_map,\n",
    "                labels=dict(y=\"Mood\", x=\"with_who\",color=\"count\"),\n",
    "                y=moods,\n",
    "                x=with_whos,\n",
    "                color_continuous_scale= 'blackbody'\n",
    "             )\n",
    "fig.update_layout(autosize = False, width=900,height = 600,title_text='subject_2- Mapping of mood data with with-who ')\n",
    "fig.show()\n"
   ]
  },
  {
   "cell_type": "markdown",
   "metadata": {},
   "source": [
    "## 2D-   week of the day vs Mood \n"
   ]
  },
  {
   "cell_type": "code",
   "execution_count": 71,
   "metadata": {},
   "outputs": [
    {
     "data": {
      "text/plain": [
       "defaultdict(int,\n",
       "            {'Thursday': 36.0,\n",
       "             'Friday': 42.0,\n",
       "             'Saturday': 14.0,\n",
       "             'Sunday': 7.0,\n",
       "             'Monday': 9.0,\n",
       "             'Wednesday': 5.0,\n",
       "             'Tuesday': 1.0})"
      ]
     },
     "execution_count": 71,
     "metadata": {},
     "output_type": "execute_result"
    }
   ],
   "source": [
    "mood_days_of_week_freq =  defaultdict(lambda: defaultdict(int))\n",
    "for index,row in tdf_sub2.iterrows():\n",
    "    mood = row.mood\n",
    "    week_day = row.day_of_week\n",
    "    mood_days_of_week_freq[mood][week_day]+=1.0\n",
    "# very happy with each day of the week  count (13 days)\n",
    "mood_days_of_week_freq[\"Very happy\"]"
   ]
  },
  {
   "cell_type": "code",
   "execution_count": 72,
   "metadata": {},
   "outputs": [],
   "source": [
    "days_of_weeks = tdf_sub2.day_of_week.unique().tolist()\n",
    "days_of_weeks.sort()\n"
   ]
  },
  {
   "cell_type": "code",
   "execution_count": 73,
   "metadata": {},
   "outputs": [
    {
     "data": {
      "text/plain": [
       "{'Friday': 0,\n",
       " 'Monday': 1,\n",
       " 'Saturday': 2,\n",
       " 'Sunday': 3,\n",
       " 'Thursday': 4,\n",
       " 'Tuesday': 5,\n",
       " 'Wednesday': 6}"
      ]
     },
     "execution_count": 73,
     "metadata": {},
     "output_type": "execute_result"
    }
   ],
   "source": [
    "day_of_week_to_index = {day_of_week:i for i,day_of_week in enumerate(days_of_weeks)}\n",
    "day_of_week_to_index"
   ]
  },
  {
   "cell_type": "code",
   "execution_count": 74,
   "metadata": {},
   "outputs": [
    {
     "data": {
      "application/vnd.plotly.v1+json": {
       "config": {
        "plotlyServerURL": "https://plot.ly"
       },
       "data": [
        {
         "coloraxis": "coloraxis",
         "hovertemplate": "Day of week: %{x}<br>Mood: %{y}<br>count: %{z}<extra></extra>",
         "name": "0",
         "type": "heatmap",
         "x": [
          "Friday",
          "Monday",
          "Saturday",
          "Sunday",
          "Thursday",
          "Tuesday",
          "Wednesday"
         ],
         "xaxis": "x",
         "y": [
          "Fairly happy",
          "Fairly sad",
          "Neutral",
          "Very happy",
          "Very sad",
          "missing_val"
         ],
         "yaxis": "y",
         "z": [
          [
           23,
           18,
           8,
           17,
           27,
           24,
           14
          ],
          [
           1,
           6,
           1,
           0,
           0,
           9,
           5
          ],
          [
           3,
           22,
           19,
           23,
           1,
           8,
           3
          ],
          [
           42,
           9,
           14,
           7,
           36,
           1,
           5
          ],
          [
           0,
           7,
           3,
           14,
           4,
           5,
           12
          ],
          [
           27,
           34,
           51,
           35,
           28,
           49,
           57
          ]
         ]
        }
       ],
       "layout": {
        "autosize": false,
        "coloraxis": {
         "colorbar": {
          "title": {
           "text": "count"
          }
         },
         "colorscale": [
          [
           0,
           "rgb(0,0,0)"
          ],
          [
           0.25,
           "rgb(230,0,0)"
          ],
          [
           0.5,
           "rgb(230,210,0)"
          ],
          [
           0.75,
           "rgb(255,255,255)"
          ],
          [
           1,
           "rgb(160,200,255)"
          ]
         ]
        },
        "height": 600,
        "margin": {
         "t": 60
        },
        "template": {
         "data": {
          "bar": [
           {
            "error_x": {
             "color": "#2a3f5f"
            },
            "error_y": {
             "color": "#2a3f5f"
            },
            "marker": {
             "line": {
              "color": "#E5ECF6",
              "width": 0.5
             },
             "pattern": {
              "fillmode": "overlay",
              "size": 10,
              "solidity": 0.2
             }
            },
            "type": "bar"
           }
          ],
          "barpolar": [
           {
            "marker": {
             "line": {
              "color": "#E5ECF6",
              "width": 0.5
             },
             "pattern": {
              "fillmode": "overlay",
              "size": 10,
              "solidity": 0.2
             }
            },
            "type": "barpolar"
           }
          ],
          "carpet": [
           {
            "aaxis": {
             "endlinecolor": "#2a3f5f",
             "gridcolor": "white",
             "linecolor": "white",
             "minorgridcolor": "white",
             "startlinecolor": "#2a3f5f"
            },
            "baxis": {
             "endlinecolor": "#2a3f5f",
             "gridcolor": "white",
             "linecolor": "white",
             "minorgridcolor": "white",
             "startlinecolor": "#2a3f5f"
            },
            "type": "carpet"
           }
          ],
          "choropleth": [
           {
            "colorbar": {
             "outlinewidth": 0,
             "ticks": ""
            },
            "type": "choropleth"
           }
          ],
          "contour": [
           {
            "colorbar": {
             "outlinewidth": 0,
             "ticks": ""
            },
            "colorscale": [
             [
              0,
              "#0d0887"
             ],
             [
              0.1111111111111111,
              "#46039f"
             ],
             [
              0.2222222222222222,
              "#7201a8"
             ],
             [
              0.3333333333333333,
              "#9c179e"
             ],
             [
              0.4444444444444444,
              "#bd3786"
             ],
             [
              0.5555555555555556,
              "#d8576b"
             ],
             [
              0.6666666666666666,
              "#ed7953"
             ],
             [
              0.7777777777777778,
              "#fb9f3a"
             ],
             [
              0.8888888888888888,
              "#fdca26"
             ],
             [
              1,
              "#f0f921"
             ]
            ],
            "type": "contour"
           }
          ],
          "contourcarpet": [
           {
            "colorbar": {
             "outlinewidth": 0,
             "ticks": ""
            },
            "type": "contourcarpet"
           }
          ],
          "heatmap": [
           {
            "colorbar": {
             "outlinewidth": 0,
             "ticks": ""
            },
            "colorscale": [
             [
              0,
              "#0d0887"
             ],
             [
              0.1111111111111111,
              "#46039f"
             ],
             [
              0.2222222222222222,
              "#7201a8"
             ],
             [
              0.3333333333333333,
              "#9c179e"
             ],
             [
              0.4444444444444444,
              "#bd3786"
             ],
             [
              0.5555555555555556,
              "#d8576b"
             ],
             [
              0.6666666666666666,
              "#ed7953"
             ],
             [
              0.7777777777777778,
              "#fb9f3a"
             ],
             [
              0.8888888888888888,
              "#fdca26"
             ],
             [
              1,
              "#f0f921"
             ]
            ],
            "type": "heatmap"
           }
          ],
          "heatmapgl": [
           {
            "colorbar": {
             "outlinewidth": 0,
             "ticks": ""
            },
            "colorscale": [
             [
              0,
              "#0d0887"
             ],
             [
              0.1111111111111111,
              "#46039f"
             ],
             [
              0.2222222222222222,
              "#7201a8"
             ],
             [
              0.3333333333333333,
              "#9c179e"
             ],
             [
              0.4444444444444444,
              "#bd3786"
             ],
             [
              0.5555555555555556,
              "#d8576b"
             ],
             [
              0.6666666666666666,
              "#ed7953"
             ],
             [
              0.7777777777777778,
              "#fb9f3a"
             ],
             [
              0.8888888888888888,
              "#fdca26"
             ],
             [
              1,
              "#f0f921"
             ]
            ],
            "type": "heatmapgl"
           }
          ],
          "histogram": [
           {
            "marker": {
             "pattern": {
              "fillmode": "overlay",
              "size": 10,
              "solidity": 0.2
             }
            },
            "type": "histogram"
           }
          ],
          "histogram2d": [
           {
            "colorbar": {
             "outlinewidth": 0,
             "ticks": ""
            },
            "colorscale": [
             [
              0,
              "#0d0887"
             ],
             [
              0.1111111111111111,
              "#46039f"
             ],
             [
              0.2222222222222222,
              "#7201a8"
             ],
             [
              0.3333333333333333,
              "#9c179e"
             ],
             [
              0.4444444444444444,
              "#bd3786"
             ],
             [
              0.5555555555555556,
              "#d8576b"
             ],
             [
              0.6666666666666666,
              "#ed7953"
             ],
             [
              0.7777777777777778,
              "#fb9f3a"
             ],
             [
              0.8888888888888888,
              "#fdca26"
             ],
             [
              1,
              "#f0f921"
             ]
            ],
            "type": "histogram2d"
           }
          ],
          "histogram2dcontour": [
           {
            "colorbar": {
             "outlinewidth": 0,
             "ticks": ""
            },
            "colorscale": [
             [
              0,
              "#0d0887"
             ],
             [
              0.1111111111111111,
              "#46039f"
             ],
             [
              0.2222222222222222,
              "#7201a8"
             ],
             [
              0.3333333333333333,
              "#9c179e"
             ],
             [
              0.4444444444444444,
              "#bd3786"
             ],
             [
              0.5555555555555556,
              "#d8576b"
             ],
             [
              0.6666666666666666,
              "#ed7953"
             ],
             [
              0.7777777777777778,
              "#fb9f3a"
             ],
             [
              0.8888888888888888,
              "#fdca26"
             ],
             [
              1,
              "#f0f921"
             ]
            ],
            "type": "histogram2dcontour"
           }
          ],
          "mesh3d": [
           {
            "colorbar": {
             "outlinewidth": 0,
             "ticks": ""
            },
            "type": "mesh3d"
           }
          ],
          "parcoords": [
           {
            "line": {
             "colorbar": {
              "outlinewidth": 0,
              "ticks": ""
             }
            },
            "type": "parcoords"
           }
          ],
          "pie": [
           {
            "automargin": true,
            "type": "pie"
           }
          ],
          "scatter": [
           {
            "marker": {
             "colorbar": {
              "outlinewidth": 0,
              "ticks": ""
             }
            },
            "type": "scatter"
           }
          ],
          "scatter3d": [
           {
            "line": {
             "colorbar": {
              "outlinewidth": 0,
              "ticks": ""
             }
            },
            "marker": {
             "colorbar": {
              "outlinewidth": 0,
              "ticks": ""
             }
            },
            "type": "scatter3d"
           }
          ],
          "scattercarpet": [
           {
            "marker": {
             "colorbar": {
              "outlinewidth": 0,
              "ticks": ""
             }
            },
            "type": "scattercarpet"
           }
          ],
          "scattergeo": [
           {
            "marker": {
             "colorbar": {
              "outlinewidth": 0,
              "ticks": ""
             }
            },
            "type": "scattergeo"
           }
          ],
          "scattergl": [
           {
            "marker": {
             "colorbar": {
              "outlinewidth": 0,
              "ticks": ""
             }
            },
            "type": "scattergl"
           }
          ],
          "scattermapbox": [
           {
            "marker": {
             "colorbar": {
              "outlinewidth": 0,
              "ticks": ""
             }
            },
            "type": "scattermapbox"
           }
          ],
          "scatterpolar": [
           {
            "marker": {
             "colorbar": {
              "outlinewidth": 0,
              "ticks": ""
             }
            },
            "type": "scatterpolar"
           }
          ],
          "scatterpolargl": [
           {
            "marker": {
             "colorbar": {
              "outlinewidth": 0,
              "ticks": ""
             }
            },
            "type": "scatterpolargl"
           }
          ],
          "scatterternary": [
           {
            "marker": {
             "colorbar": {
              "outlinewidth": 0,
              "ticks": ""
             }
            },
            "type": "scatterternary"
           }
          ],
          "surface": [
           {
            "colorbar": {
             "outlinewidth": 0,
             "ticks": ""
            },
            "colorscale": [
             [
              0,
              "#0d0887"
             ],
             [
              0.1111111111111111,
              "#46039f"
             ],
             [
              0.2222222222222222,
              "#7201a8"
             ],
             [
              0.3333333333333333,
              "#9c179e"
             ],
             [
              0.4444444444444444,
              "#bd3786"
             ],
             [
              0.5555555555555556,
              "#d8576b"
             ],
             [
              0.6666666666666666,
              "#ed7953"
             ],
             [
              0.7777777777777778,
              "#fb9f3a"
             ],
             [
              0.8888888888888888,
              "#fdca26"
             ],
             [
              1,
              "#f0f921"
             ]
            ],
            "type": "surface"
           }
          ],
          "table": [
           {
            "cells": {
             "fill": {
              "color": "#EBF0F8"
             },
             "line": {
              "color": "white"
             }
            },
            "header": {
             "fill": {
              "color": "#C8D4E3"
             },
             "line": {
              "color": "white"
             }
            },
            "type": "table"
           }
          ]
         },
         "layout": {
          "annotationdefaults": {
           "arrowcolor": "#2a3f5f",
           "arrowhead": 0,
           "arrowwidth": 1
          },
          "autotypenumbers": "strict",
          "coloraxis": {
           "colorbar": {
            "outlinewidth": 0,
            "ticks": ""
           }
          },
          "colorscale": {
           "diverging": [
            [
             0,
             "#8e0152"
            ],
            [
             0.1,
             "#c51b7d"
            ],
            [
             0.2,
             "#de77ae"
            ],
            [
             0.3,
             "#f1b6da"
            ],
            [
             0.4,
             "#fde0ef"
            ],
            [
             0.5,
             "#f7f7f7"
            ],
            [
             0.6,
             "#e6f5d0"
            ],
            [
             0.7,
             "#b8e186"
            ],
            [
             0.8,
             "#7fbc41"
            ],
            [
             0.9,
             "#4d9221"
            ],
            [
             1,
             "#276419"
            ]
           ],
           "sequential": [
            [
             0,
             "#0d0887"
            ],
            [
             0.1111111111111111,
             "#46039f"
            ],
            [
             0.2222222222222222,
             "#7201a8"
            ],
            [
             0.3333333333333333,
             "#9c179e"
            ],
            [
             0.4444444444444444,
             "#bd3786"
            ],
            [
             0.5555555555555556,
             "#d8576b"
            ],
            [
             0.6666666666666666,
             "#ed7953"
            ],
            [
             0.7777777777777778,
             "#fb9f3a"
            ],
            [
             0.8888888888888888,
             "#fdca26"
            ],
            [
             1,
             "#f0f921"
            ]
           ],
           "sequentialminus": [
            [
             0,
             "#0d0887"
            ],
            [
             0.1111111111111111,
             "#46039f"
            ],
            [
             0.2222222222222222,
             "#7201a8"
            ],
            [
             0.3333333333333333,
             "#9c179e"
            ],
            [
             0.4444444444444444,
             "#bd3786"
            ],
            [
             0.5555555555555556,
             "#d8576b"
            ],
            [
             0.6666666666666666,
             "#ed7953"
            ],
            [
             0.7777777777777778,
             "#fb9f3a"
            ],
            [
             0.8888888888888888,
             "#fdca26"
            ],
            [
             1,
             "#f0f921"
            ]
           ]
          },
          "colorway": [
           "#636efa",
           "#EF553B",
           "#00cc96",
           "#ab63fa",
           "#FFA15A",
           "#19d3f3",
           "#FF6692",
           "#B6E880",
           "#FF97FF",
           "#FECB52"
          ],
          "font": {
           "color": "#2a3f5f"
          },
          "geo": {
           "bgcolor": "white",
           "lakecolor": "white",
           "landcolor": "#E5ECF6",
           "showlakes": true,
           "showland": true,
           "subunitcolor": "white"
          },
          "hoverlabel": {
           "align": "left"
          },
          "hovermode": "closest",
          "mapbox": {
           "style": "light"
          },
          "paper_bgcolor": "white",
          "plot_bgcolor": "#E5ECF6",
          "polar": {
           "angularaxis": {
            "gridcolor": "white",
            "linecolor": "white",
            "ticks": ""
           },
           "bgcolor": "#E5ECF6",
           "radialaxis": {
            "gridcolor": "white",
            "linecolor": "white",
            "ticks": ""
           }
          },
          "scene": {
           "xaxis": {
            "backgroundcolor": "#E5ECF6",
            "gridcolor": "white",
            "gridwidth": 2,
            "linecolor": "white",
            "showbackground": true,
            "ticks": "",
            "zerolinecolor": "white"
           },
           "yaxis": {
            "backgroundcolor": "#E5ECF6",
            "gridcolor": "white",
            "gridwidth": 2,
            "linecolor": "white",
            "showbackground": true,
            "ticks": "",
            "zerolinecolor": "white"
           },
           "zaxis": {
            "backgroundcolor": "#E5ECF6",
            "gridcolor": "white",
            "gridwidth": 2,
            "linecolor": "white",
            "showbackground": true,
            "ticks": "",
            "zerolinecolor": "white"
           }
          },
          "shapedefaults": {
           "line": {
            "color": "#2a3f5f"
           }
          },
          "ternary": {
           "aaxis": {
            "gridcolor": "white",
            "linecolor": "white",
            "ticks": ""
           },
           "baxis": {
            "gridcolor": "white",
            "linecolor": "white",
            "ticks": ""
           },
           "bgcolor": "#E5ECF6",
           "caxis": {
            "gridcolor": "white",
            "linecolor": "white",
            "ticks": ""
           }
          },
          "title": {
           "x": 0.05
          },
          "xaxis": {
           "automargin": true,
           "gridcolor": "white",
           "linecolor": "white",
           "ticks": "",
           "title": {
            "standoff": 15
           },
           "zerolinecolor": "white",
           "zerolinewidth": 2
          },
          "yaxis": {
           "automargin": true,
           "gridcolor": "white",
           "linecolor": "white",
           "ticks": "",
           "title": {
            "standoff": 15
           },
           "zerolinecolor": "white",
           "zerolinewidth": 2
          }
         }
        },
        "title": {
         "text": "subject_2- Mapping of mood data with day of week "
        },
        "width": 900,
        "xaxis": {
         "anchor": "y",
         "constrain": "domain",
         "domain": [
          0,
          1
         ],
         "scaleanchor": "y",
         "title": {
          "text": "Day of week"
         }
        },
        "yaxis": {
         "anchor": "x",
         "autorange": "reversed",
         "constrain": "domain",
         "domain": [
          0,
          1
         ],
         "title": {
          "text": "Mood"
         }
        }
       }
      },
      "text/html": [
       "<div>                            <div id=\"fedd66d2-5192-4c80-a44b-957cd7fb4f76\" class=\"plotly-graph-div\" style=\"height:600px; width:900px;\"></div>            <script type=\"text/javascript\">                require([\"plotly\"], function(Plotly) {                    window.PLOTLYENV=window.PLOTLYENV || {};                                    if (document.getElementById(\"fedd66d2-5192-4c80-a44b-957cd7fb4f76\")) {                    Plotly.newPlot(                        \"fedd66d2-5192-4c80-a44b-957cd7fb4f76\",                        [{\"coloraxis\":\"coloraxis\",\"name\":\"0\",\"x\":[\"Friday\",\"Monday\",\"Saturday\",\"Sunday\",\"Thursday\",\"Tuesday\",\"Wednesday\"],\"y\":[\"Fairly happy\",\"Fairly sad\",\"Neutral\",\"Very happy\",\"Very sad\",\"missing_val\"],\"z\":[[23.0,18.0,8.0,17.0,27.0,24.0,14.0],[1.0,6.0,1.0,0.0,0.0,9.0,5.0],[3.0,22.0,19.0,23.0,1.0,8.0,3.0],[42.0,9.0,14.0,7.0,36.0,1.0,5.0],[0.0,7.0,3.0,14.0,4.0,5.0,12.0],[27.0,34.0,51.0,35.0,28.0,49.0,57.0]],\"type\":\"heatmap\",\"xaxis\":\"x\",\"yaxis\":\"y\",\"hovertemplate\":\"Day of week: %{x}<br>Mood: %{y}<br>count: %{z}<extra></extra>\"}],                        {\"template\":{\"data\":{\"bar\":[{\"error_x\":{\"color\":\"#2a3f5f\"},\"error_y\":{\"color\":\"#2a3f5f\"},\"marker\":{\"line\":{\"color\":\"#E5ECF6\",\"width\":0.5},\"pattern\":{\"fillmode\":\"overlay\",\"size\":10,\"solidity\":0.2}},\"type\":\"bar\"}],\"barpolar\":[{\"marker\":{\"line\":{\"color\":\"#E5ECF6\",\"width\":0.5},\"pattern\":{\"fillmode\":\"overlay\",\"size\":10,\"solidity\":0.2}},\"type\":\"barpolar\"}],\"carpet\":[{\"aaxis\":{\"endlinecolor\":\"#2a3f5f\",\"gridcolor\":\"white\",\"linecolor\":\"white\",\"minorgridcolor\":\"white\",\"startlinecolor\":\"#2a3f5f\"},\"baxis\":{\"endlinecolor\":\"#2a3f5f\",\"gridcolor\":\"white\",\"linecolor\":\"white\",\"minorgridcolor\":\"white\",\"startlinecolor\":\"#2a3f5f\"},\"type\":\"carpet\"}],\"choropleth\":[{\"colorbar\":{\"outlinewidth\":0,\"ticks\":\"\"},\"type\":\"choropleth\"}],\"contour\":[{\"colorbar\":{\"outlinewidth\":0,\"ticks\":\"\"},\"colorscale\":[[0.0,\"#0d0887\"],[0.1111111111111111,\"#46039f\"],[0.2222222222222222,\"#7201a8\"],[0.3333333333333333,\"#9c179e\"],[0.4444444444444444,\"#bd3786\"],[0.5555555555555556,\"#d8576b\"],[0.6666666666666666,\"#ed7953\"],[0.7777777777777778,\"#fb9f3a\"],[0.8888888888888888,\"#fdca26\"],[1.0,\"#f0f921\"]],\"type\":\"contour\"}],\"contourcarpet\":[{\"colorbar\":{\"outlinewidth\":0,\"ticks\":\"\"},\"type\":\"contourcarpet\"}],\"heatmap\":[{\"colorbar\":{\"outlinewidth\":0,\"ticks\":\"\"},\"colorscale\":[[0.0,\"#0d0887\"],[0.1111111111111111,\"#46039f\"],[0.2222222222222222,\"#7201a8\"],[0.3333333333333333,\"#9c179e\"],[0.4444444444444444,\"#bd3786\"],[0.5555555555555556,\"#d8576b\"],[0.6666666666666666,\"#ed7953\"],[0.7777777777777778,\"#fb9f3a\"],[0.8888888888888888,\"#fdca26\"],[1.0,\"#f0f921\"]],\"type\":\"heatmap\"}],\"heatmapgl\":[{\"colorbar\":{\"outlinewidth\":0,\"ticks\":\"\"},\"colorscale\":[[0.0,\"#0d0887\"],[0.1111111111111111,\"#46039f\"],[0.2222222222222222,\"#7201a8\"],[0.3333333333333333,\"#9c179e\"],[0.4444444444444444,\"#bd3786\"],[0.5555555555555556,\"#d8576b\"],[0.6666666666666666,\"#ed7953\"],[0.7777777777777778,\"#fb9f3a\"],[0.8888888888888888,\"#fdca26\"],[1.0,\"#f0f921\"]],\"type\":\"heatmapgl\"}],\"histogram\":[{\"marker\":{\"pattern\":{\"fillmode\":\"overlay\",\"size\":10,\"solidity\":0.2}},\"type\":\"histogram\"}],\"histogram2d\":[{\"colorbar\":{\"outlinewidth\":0,\"ticks\":\"\"},\"colorscale\":[[0.0,\"#0d0887\"],[0.1111111111111111,\"#46039f\"],[0.2222222222222222,\"#7201a8\"],[0.3333333333333333,\"#9c179e\"],[0.4444444444444444,\"#bd3786\"],[0.5555555555555556,\"#d8576b\"],[0.6666666666666666,\"#ed7953\"],[0.7777777777777778,\"#fb9f3a\"],[0.8888888888888888,\"#fdca26\"],[1.0,\"#f0f921\"]],\"type\":\"histogram2d\"}],\"histogram2dcontour\":[{\"colorbar\":{\"outlinewidth\":0,\"ticks\":\"\"},\"colorscale\":[[0.0,\"#0d0887\"],[0.1111111111111111,\"#46039f\"],[0.2222222222222222,\"#7201a8\"],[0.3333333333333333,\"#9c179e\"],[0.4444444444444444,\"#bd3786\"],[0.5555555555555556,\"#d8576b\"],[0.6666666666666666,\"#ed7953\"],[0.7777777777777778,\"#fb9f3a\"],[0.8888888888888888,\"#fdca26\"],[1.0,\"#f0f921\"]],\"type\":\"histogram2dcontour\"}],\"mesh3d\":[{\"colorbar\":{\"outlinewidth\":0,\"ticks\":\"\"},\"type\":\"mesh3d\"}],\"parcoords\":[{\"line\":{\"colorbar\":{\"outlinewidth\":0,\"ticks\":\"\"}},\"type\":\"parcoords\"}],\"pie\":[{\"automargin\":true,\"type\":\"pie\"}],\"scatter\":[{\"marker\":{\"colorbar\":{\"outlinewidth\":0,\"ticks\":\"\"}},\"type\":\"scatter\"}],\"scatter3d\":[{\"line\":{\"colorbar\":{\"outlinewidth\":0,\"ticks\":\"\"}},\"marker\":{\"colorbar\":{\"outlinewidth\":0,\"ticks\":\"\"}},\"type\":\"scatter3d\"}],\"scattercarpet\":[{\"marker\":{\"colorbar\":{\"outlinewidth\":0,\"ticks\":\"\"}},\"type\":\"scattercarpet\"}],\"scattergeo\":[{\"marker\":{\"colorbar\":{\"outlinewidth\":0,\"ticks\":\"\"}},\"type\":\"scattergeo\"}],\"scattergl\":[{\"marker\":{\"colorbar\":{\"outlinewidth\":0,\"ticks\":\"\"}},\"type\":\"scattergl\"}],\"scattermapbox\":[{\"marker\":{\"colorbar\":{\"outlinewidth\":0,\"ticks\":\"\"}},\"type\":\"scattermapbox\"}],\"scatterpolar\":[{\"marker\":{\"colorbar\":{\"outlinewidth\":0,\"ticks\":\"\"}},\"type\":\"scatterpolar\"}],\"scatterpolargl\":[{\"marker\":{\"colorbar\":{\"outlinewidth\":0,\"ticks\":\"\"}},\"type\":\"scatterpolargl\"}],\"scatterternary\":[{\"marker\":{\"colorbar\":{\"outlinewidth\":0,\"ticks\":\"\"}},\"type\":\"scatterternary\"}],\"surface\":[{\"colorbar\":{\"outlinewidth\":0,\"ticks\":\"\"},\"colorscale\":[[0.0,\"#0d0887\"],[0.1111111111111111,\"#46039f\"],[0.2222222222222222,\"#7201a8\"],[0.3333333333333333,\"#9c179e\"],[0.4444444444444444,\"#bd3786\"],[0.5555555555555556,\"#d8576b\"],[0.6666666666666666,\"#ed7953\"],[0.7777777777777778,\"#fb9f3a\"],[0.8888888888888888,\"#fdca26\"],[1.0,\"#f0f921\"]],\"type\":\"surface\"}],\"table\":[{\"cells\":{\"fill\":{\"color\":\"#EBF0F8\"},\"line\":{\"color\":\"white\"}},\"header\":{\"fill\":{\"color\":\"#C8D4E3\"},\"line\":{\"color\":\"white\"}},\"type\":\"table\"}]},\"layout\":{\"annotationdefaults\":{\"arrowcolor\":\"#2a3f5f\",\"arrowhead\":0,\"arrowwidth\":1},\"autotypenumbers\":\"strict\",\"coloraxis\":{\"colorbar\":{\"outlinewidth\":0,\"ticks\":\"\"}},\"colorscale\":{\"diverging\":[[0,\"#8e0152\"],[0.1,\"#c51b7d\"],[0.2,\"#de77ae\"],[0.3,\"#f1b6da\"],[0.4,\"#fde0ef\"],[0.5,\"#f7f7f7\"],[0.6,\"#e6f5d0\"],[0.7,\"#b8e186\"],[0.8,\"#7fbc41\"],[0.9,\"#4d9221\"],[1,\"#276419\"]],\"sequential\":[[0.0,\"#0d0887\"],[0.1111111111111111,\"#46039f\"],[0.2222222222222222,\"#7201a8\"],[0.3333333333333333,\"#9c179e\"],[0.4444444444444444,\"#bd3786\"],[0.5555555555555556,\"#d8576b\"],[0.6666666666666666,\"#ed7953\"],[0.7777777777777778,\"#fb9f3a\"],[0.8888888888888888,\"#fdca26\"],[1.0,\"#f0f921\"]],\"sequentialminus\":[[0.0,\"#0d0887\"],[0.1111111111111111,\"#46039f\"],[0.2222222222222222,\"#7201a8\"],[0.3333333333333333,\"#9c179e\"],[0.4444444444444444,\"#bd3786\"],[0.5555555555555556,\"#d8576b\"],[0.6666666666666666,\"#ed7953\"],[0.7777777777777778,\"#fb9f3a\"],[0.8888888888888888,\"#fdca26\"],[1.0,\"#f0f921\"]]},\"colorway\":[\"#636efa\",\"#EF553B\",\"#00cc96\",\"#ab63fa\",\"#FFA15A\",\"#19d3f3\",\"#FF6692\",\"#B6E880\",\"#FF97FF\",\"#FECB52\"],\"font\":{\"color\":\"#2a3f5f\"},\"geo\":{\"bgcolor\":\"white\",\"lakecolor\":\"white\",\"landcolor\":\"#E5ECF6\",\"showlakes\":true,\"showland\":true,\"subunitcolor\":\"white\"},\"hoverlabel\":{\"align\":\"left\"},\"hovermode\":\"closest\",\"mapbox\":{\"style\":\"light\"},\"paper_bgcolor\":\"white\",\"plot_bgcolor\":\"#E5ECF6\",\"polar\":{\"angularaxis\":{\"gridcolor\":\"white\",\"linecolor\":\"white\",\"ticks\":\"\"},\"bgcolor\":\"#E5ECF6\",\"radialaxis\":{\"gridcolor\":\"white\",\"linecolor\":\"white\",\"ticks\":\"\"}},\"scene\":{\"xaxis\":{\"backgroundcolor\":\"#E5ECF6\",\"gridcolor\":\"white\",\"gridwidth\":2,\"linecolor\":\"white\",\"showbackground\":true,\"ticks\":\"\",\"zerolinecolor\":\"white\"},\"yaxis\":{\"backgroundcolor\":\"#E5ECF6\",\"gridcolor\":\"white\",\"gridwidth\":2,\"linecolor\":\"white\",\"showbackground\":true,\"ticks\":\"\",\"zerolinecolor\":\"white\"},\"zaxis\":{\"backgroundcolor\":\"#E5ECF6\",\"gridcolor\":\"white\",\"gridwidth\":2,\"linecolor\":\"white\",\"showbackground\":true,\"ticks\":\"\",\"zerolinecolor\":\"white\"}},\"shapedefaults\":{\"line\":{\"color\":\"#2a3f5f\"}},\"ternary\":{\"aaxis\":{\"gridcolor\":\"white\",\"linecolor\":\"white\",\"ticks\":\"\"},\"baxis\":{\"gridcolor\":\"white\",\"linecolor\":\"white\",\"ticks\":\"\"},\"bgcolor\":\"#E5ECF6\",\"caxis\":{\"gridcolor\":\"white\",\"linecolor\":\"white\",\"ticks\":\"\"}},\"title\":{\"x\":0.05},\"xaxis\":{\"automargin\":true,\"gridcolor\":\"white\",\"linecolor\":\"white\",\"ticks\":\"\",\"title\":{\"standoff\":15},\"zerolinecolor\":\"white\",\"zerolinewidth\":2},\"yaxis\":{\"automargin\":true,\"gridcolor\":\"white\",\"linecolor\":\"white\",\"ticks\":\"\",\"title\":{\"standoff\":15},\"zerolinecolor\":\"white\",\"zerolinewidth\":2}}},\"xaxis\":{\"anchor\":\"y\",\"domain\":[0.0,1.0],\"scaleanchor\":\"y\",\"constrain\":\"domain\",\"title\":{\"text\":\"Day of week\"}},\"yaxis\":{\"anchor\":\"x\",\"domain\":[0.0,1.0],\"autorange\":\"reversed\",\"constrain\":\"domain\",\"title\":{\"text\":\"Mood\"}},\"coloraxis\":{\"colorbar\":{\"title\":{\"text\":\"count\"}},\"colorscale\":[[0.0,\"rgb(0,0,0)\"],[0.25,\"rgb(230,0,0)\"],[0.5,\"rgb(230,210,0)\"],[0.75,\"rgb(255,255,255)\"],[1.0,\"rgb(160,200,255)\"]]},\"margin\":{\"t\":60},\"title\":{\"text\":\"subject_2- Mapping of mood data with day of week \"},\"autosize\":false,\"width\":900,\"height\":600},                        {\"responsive\": true}                    ).then(function(){\n",
       "                            \n",
       "var gd = document.getElementById('fedd66d2-5192-4c80-a44b-957cd7fb4f76');\n",
       "var x = new MutationObserver(function (mutations, observer) {{\n",
       "        var display = window.getComputedStyle(gd).display;\n",
       "        if (!display || display === 'none') {{\n",
       "            console.log([gd, 'removed!']);\n",
       "            Plotly.purge(gd);\n",
       "            observer.disconnect();\n",
       "        }}\n",
       "}});\n",
       "\n",
       "// Listen for the removal of the full notebook cells\n",
       "var notebookContainer = gd.closest('#notebook-container');\n",
       "if (notebookContainer) {{\n",
       "    x.observe(notebookContainer, {childList: true});\n",
       "}}\n",
       "\n",
       "// Listen for the clearing of the current output cell\n",
       "var outputEl = gd.closest('.output');\n",
       "if (outputEl) {{\n",
       "    x.observe(outputEl, {childList: true});\n",
       "}}\n",
       "\n",
       "                        })                };                });            </script>        </div>"
      ]
     },
     "metadata": {},
     "output_type": "display_data"
    }
   ],
   "source": [
    "# numpy array\n",
    "hit_map = np.zeros((len(moods),len(days_of_weeks)))\n",
    "for mood in mood_days_of_week_freq:\n",
    "    for day_of_week in mood_days_of_week_freq[mood]:\n",
    "        hit_map[mood_to_index[mood]][day_of_week_to_index[day_of_week]]=mood_days_of_week_freq[mood][day_of_week]\n",
    "# hit_map      \n",
    "\n",
    "fig = px.imshow(hit_map,\n",
    "                labels=dict(y=\"Mood\", x=\"Day of week\",color=\"count\"),\n",
    "                y=moods,\n",
    "                x=days_of_weeks,\n",
    "                color_continuous_scale= 'blackbody'\n",
    "             )\n",
    "fig.update_layout(autosize = False, width=900,height = 600,title_text='subject_2- Mapping of mood data with day of week ')\n",
    "fig.show()"
   ]
  },
  {
   "cell_type": "markdown",
   "metadata": {},
   "source": [
    "## 2D-   week of the day vs Activity  \n"
   ]
  },
  {
   "cell_type": "code",
   "execution_count": 75,
   "metadata": {},
   "outputs": [
    {
     "data": {
      "text/plain": [
       "defaultdict(int,\n",
       "            {'Thursday': 3.0,\n",
       "             'Friday': 7.0,\n",
       "             'Monday': 3.0,\n",
       "             'Tuesday': 1.0,\n",
       "             'Wednesday': 3.0,\n",
       "             'Saturday': 9.0,\n",
       "             'Sunday': 3.0})"
      ]
     },
     "execution_count": 75,
     "metadata": {},
     "output_type": "execute_result"
    }
   ],
   "source": [
    "activity_days_of_week_freq =  defaultdict(lambda: defaultdict(int))\n",
    "for index,row in tdf_sub2.iterrows():\n",
    "    activity = row.activity\n",
    "    week_day = row.day_of_week\n",
    "    activity_days_of_week_freq[activity][week_day]+=1.0\n",
    "# counts of  activitis for monday   (13 days)\n",
    "activity_days_of_week_freq[\"Work\"]"
   ]
  },
  {
   "cell_type": "code",
   "execution_count": 77,
   "metadata": {},
   "outputs": [
    {
     "ename": "KeyError",
     "evalue": "'Watcing Youtube Tv-shows etc.'",
     "output_type": "error",
     "traceback": [
      "\u001b[0;31m---------------------------------------------------------------------------\u001b[0m",
      "\u001b[0;31mKeyError\u001b[0m                                  Traceback (most recent call last)",
      "\u001b[0;32m/tmp/ipykernel_7693/1810303709.py\u001b[0m in \u001b[0;36m<module>\u001b[0;34m\u001b[0m\n\u001b[1;32m      3\u001b[0m \u001b[0;32mfor\u001b[0m \u001b[0mday_of_week\u001b[0m \u001b[0;32min\u001b[0m \u001b[0mactivity_days_of_week_freq\u001b[0m\u001b[0;34m:\u001b[0m\u001b[0;34m\u001b[0m\u001b[0;34m\u001b[0m\u001b[0m\n\u001b[1;32m      4\u001b[0m     \u001b[0;32mfor\u001b[0m \u001b[0mactivity\u001b[0m \u001b[0;32min\u001b[0m \u001b[0mactivity_days_of_week_freq\u001b[0m\u001b[0;34m[\u001b[0m\u001b[0mday_of_week\u001b[0m\u001b[0;34m]\u001b[0m\u001b[0;34m:\u001b[0m\u001b[0;34m\u001b[0m\u001b[0;34m\u001b[0m\u001b[0m\n\u001b[0;32m----> 5\u001b[0;31m         \u001b[0mhit_map\u001b[0m\u001b[0;34m[\u001b[0m\u001b[0mday_of_week_to_index\u001b[0m\u001b[0;34m[\u001b[0m\u001b[0mday_of_week\u001b[0m\u001b[0;34m]\u001b[0m\u001b[0;34m]\u001b[0m\u001b[0;34m[\u001b[0m\u001b[0mactivity_to_index\u001b[0m\u001b[0;34m[\u001b[0m\u001b[0mactivity\u001b[0m\u001b[0;34m]\u001b[0m\u001b[0;34m]\u001b[0m\u001b[0;34m=\u001b[0m\u001b[0mactivity_days_of_week_freq\u001b[0m\u001b[0;34m[\u001b[0m\u001b[0mday_of_week\u001b[0m\u001b[0;34m]\u001b[0m\u001b[0;34m[\u001b[0m\u001b[0mactivity\u001b[0m\u001b[0;34m]\u001b[0m\u001b[0;34m\u001b[0m\u001b[0;34m\u001b[0m\u001b[0m\n\u001b[0m\u001b[1;32m      6\u001b[0m \u001b[0;31m# hit_map\u001b[0m\u001b[0;34m\u001b[0m\u001b[0;34m\u001b[0m\u001b[0;34m\u001b[0m\u001b[0m\n\u001b[1;32m      7\u001b[0m \u001b[0;34m\u001b[0m\u001b[0m\n",
      "\u001b[0;31mKeyError\u001b[0m: 'Watcing Youtube Tv-shows etc.'"
     ]
    }
   ],
   "source": [
    "# numpy array\n",
    "hit_map = np.zeros((len(days_of_weeks),len(activities)))\n",
    "for day_of_week in activity_days_of_week_freq:\n",
    "    for activity in activity_days_of_week_freq[day_of_week]:\n",
    "        hit_map[day_of_week_to_index[day_of_week]][activity_to_index[activity]]=activity_days_of_week_freq[day_of_week][activity]\n",
    "# hit_map      \n",
    "\n",
    "fig = px.imshow(hit_map,\n",
    "                labels=dict(y=\"Day of week\", x=\"Activit\",color=\"count\"),\n",
    "                y=days_of_weeks,\n",
    "                x=activities,\n",
    "                color_continuous_scale= 'blackbody'\n",
    "             )\n",
    "fig.update_layout(autosize = False, width=900,height = 600,title_text='subject_2- Mapping of week of day data with activity ')\n",
    "fig.show()"
   ]
  },
  {
   "cell_type": "markdown",
   "metadata": {},
   "source": [
    "# 4D  visualization \n",
    "## 4D visualization of mood "
   ]
  },
  {
   "cell_type": "code",
   "execution_count": 59,
   "metadata": {},
   "outputs": [
    {
     "data": {
      "text/plain": [
       "{'shop': 'Zanella',\n",
       " 'house_number': '78',\n",
       " 'road': 'Via Antonio Rosmini',\n",
       " 'suburb': 'Centro storico Trento',\n",
       " 'city': 'Trento',\n",
       " 'municipality': \"Territorio Val d'Adige\",\n",
       " 'county': 'Provincia di Trento',\n",
       " 'state': 'Trentino-Alto Adige/Südtirol',\n",
       " 'postcode': '38122',\n",
       " 'country': 'Italia',\n",
       " 'country_code': 'it'}"
      ]
     },
     "execution_count": 59,
     "metadata": {},
     "output_type": "execute_result"
    }
   ],
   "source": [
    "from geopy.geocoders import Nominatim\n",
    "geolocator = Nominatim(user_agent=\"Trento\")\n",
    "location = geolocator.reverse(\"{},{}\".format( tdf_sub2.latitude_home[0], tdf_sub2.longitude_home[0]))\n",
    "location.raw[\"address\"]"
   ]
  },
  {
   "cell_type": "code",
   "execution_count": 60,
   "metadata": {},
   "outputs": [
    {
     "data": {
      "text/plain": [
       "'Via Antonio Rosmini'"
      ]
     },
     "execution_count": 60,
     "metadata": {},
     "output_type": "execute_result"
    }
   ],
   "source": [
    "tdf_sub2[\"location_name\"] = [location.raw[\"address\"][\"road\"]]*len(tdf_sub2)\n",
    "tdf_sub2.location_name[0]"
   ]
  },
  {
   "cell_type": "code",
   "execution_count": 79,
   "metadata": {},
   "outputs": [
    {
     "data": {
      "application/vnd.plotly.v1+json": {
       "config": {
        "plotlyServerURL": "https://plot.ly"
       },
       "data": [
        {
         "hovertemplate": "<b>%{hovertext}</b><br><br>mood=Fairly happy<br>longitude_home=%{x}<br>latitude_home=%{y}<br>Time=%{z}<extra></extra>",
         "hovertext": [
          "Via Antonio Rosmini",
          "Via Antonio Rosmini",
          "Via Antonio Rosmini",
          "Via Antonio Rosmini",
          "Via Antonio Rosmini",
          "Via Antonio Rosmini",
          "Via Antonio Rosmini",
          "Via Antonio Rosmini",
          "Via Antonio Rosmini",
          "Via Antonio Rosmini",
          "Via Antonio Rosmini",
          "Via Antonio Rosmini",
          "Via Antonio Rosmini",
          "Via Antonio Rosmini",
          "Via Antonio Rosmini",
          "Via Antonio Rosmini",
          "Via Antonio Rosmini",
          "Via Antonio Rosmini",
          "Via Antonio Rosmini",
          "Via Antonio Rosmini",
          "Via Antonio Rosmini",
          "Via Antonio Rosmini",
          "Via Antonio Rosmini",
          "Via Antonio Rosmini",
          "Via Antonio Rosmini",
          "Via Antonio Rosmini",
          "Via Antonio Rosmini",
          "Via Antonio Rosmini",
          "Via Antonio Rosmini",
          "Via Antonio Rosmini",
          "Via Antonio Rosmini",
          "Via Antonio Rosmini",
          "Via Antonio Rosmini",
          "Via Antonio Rosmini",
          "Via Antonio Rosmini",
          "Via Antonio Rosmini",
          "Via Antonio Rosmini",
          "Via Antonio Rosmini",
          "Via Antonio Rosmini",
          "Via Antonio Rosmini",
          "Via Antonio Rosmini",
          "Via Antonio Rosmini",
          "Via Antonio Rosmini",
          "Via Antonio Rosmini",
          "Via Antonio Rosmini",
          "Via Antonio Rosmini",
          "Via Antonio Rosmini",
          "Via Antonio Rosmini",
          "Via Antonio Rosmini",
          "Via Antonio Rosmini",
          "Via Antonio Rosmini",
          "Via Antonio Rosmini",
          "Via Antonio Rosmini",
          "Via Antonio Rosmini",
          "Via Antonio Rosmini",
          "Via Antonio Rosmini",
          "Via Antonio Rosmini",
          "Via Antonio Rosmini",
          "Via Antonio Rosmini",
          "Via Antonio Rosmini",
          "Via Antonio Rosmini",
          "Via Antonio Rosmini",
          "Via Antonio Rosmini",
          "Via Antonio Rosmini",
          "Via Antonio Rosmini",
          "Via Antonio Rosmini",
          "Via Antonio Rosmini",
          "Via Antonio Rosmini",
          "Via Antonio Rosmini",
          "Via Antonio Rosmini",
          "Via Antonio Rosmini",
          "Via Antonio Rosmini",
          "Via Antonio Rosmini",
          "Via Antonio Rosmini",
          "Via Antonio Rosmini",
          "Via Antonio Rosmini",
          "Via Antonio Rosmini",
          "Via Antonio Rosmini",
          "Via Antonio Rosmini",
          "Via Antonio Rosmini",
          "Via Antonio Rosmini",
          "Via Antonio Rosmini",
          "Via Antonio Rosmini",
          "Via Antonio Rosmini",
          "Via Antonio Rosmini",
          "Via Antonio Rosmini",
          "Via Antonio Rosmini",
          "Via Antonio Rosmini",
          "Via Antonio Rosmini",
          "Via Antonio Rosmini",
          "Via Antonio Rosmini",
          "Via Antonio Rosmini",
          "Via Antonio Rosmini",
          "Via Antonio Rosmini",
          "Via Antonio Rosmini",
          "Via Antonio Rosmini",
          "Via Antonio Rosmini",
          "Via Antonio Rosmini",
          "Via Antonio Rosmini",
          "Via Antonio Rosmini",
          "Via Antonio Rosmini",
          "Via Antonio Rosmini",
          "Via Antonio Rosmini",
          "Via Antonio Rosmini",
          "Via Antonio Rosmini",
          "Via Antonio Rosmini",
          "Via Antonio Rosmini",
          "Via Antonio Rosmini",
          "Via Antonio Rosmini",
          "Via Antonio Rosmini",
          "Via Antonio Rosmini",
          "Via Antonio Rosmini",
          "Via Antonio Rosmini",
          "Via Antonio Rosmini",
          "Via Antonio Rosmini",
          "Via Antonio Rosmini",
          "Via Antonio Rosmini",
          "Via Antonio Rosmini",
          "Via Antonio Rosmini",
          "Via Antonio Rosmini",
          "Via Antonio Rosmini",
          "Via Antonio Rosmini",
          "Via Antonio Rosmini",
          "Via Antonio Rosmini",
          "Via Antonio Rosmini",
          "Via Antonio Rosmini",
          "Via Antonio Rosmini",
          "Via Antonio Rosmini",
          "Via Antonio Rosmini",
          "Via Antonio Rosmini",
          "Via Antonio Rosmini"
         ],
         "legendgroup": "Fairly happy",
         "line": {
          "color": "#636efa",
          "dash": "solid",
          "width": 5
         },
         "marker": {
          "symbol": "circle"
         },
         "mode": "lines",
         "name": "Fairly happy",
         "scene": "scene",
         "showlegend": true,
         "type": "scatter3d",
         "x": [
          11.119008,
          11.119008,
          11.119008,
          11.119008,
          11.119008,
          11.119008,
          11.119008,
          11.119008,
          11.119008,
          11.119008,
          11.119008,
          11.119008,
          11.119008,
          11.119008,
          11.119008,
          11.119008,
          11.119008,
          11.119008,
          11.119008,
          11.119008,
          11.119008,
          11.119008,
          11.119008,
          11.119008,
          11.119008,
          11.119008,
          11.119008,
          11.119008,
          11.119008,
          11.119008,
          11.119008,
          11.119008,
          11.119008,
          11.119008,
          11.119008,
          11.119008,
          11.119008,
          11.119008,
          11.119008,
          11.119008,
          11.119008,
          11.119008,
          11.119008,
          11.119008,
          11.119008,
          11.119008,
          11.119008,
          11.119008,
          11.119008,
          11.119008,
          11.119008,
          11.119008,
          11.119008,
          11.119008,
          11.119008,
          11.119008,
          11.119008,
          11.119008,
          11.119008,
          11.119008,
          11.119008,
          11.119008,
          11.119008,
          11.119008,
          11.119008,
          11.119008,
          11.119008,
          11.119008,
          11.119008,
          11.119008,
          11.119008,
          11.119008,
          11.119008,
          11.119008,
          11.119008,
          11.119008,
          11.119008,
          11.119008,
          11.119008,
          11.119008,
          11.119008,
          11.119008,
          11.119008,
          11.119008,
          11.119008,
          11.119008,
          11.119008,
          11.119008,
          11.119008,
          11.119008,
          11.119008,
          11.119008,
          11.119008,
          11.119008,
          11.119008,
          11.119008,
          11.119008,
          11.119008,
          11.119008,
          11.119008,
          11.119008,
          11.119008,
          11.119008,
          11.119008,
          11.119008,
          11.119008,
          11.119008,
          11.119008,
          11.119008,
          11.119008,
          11.119008,
          11.119008,
          11.119008,
          11.119008,
          11.119008,
          11.119008,
          11.119008,
          11.119008,
          11.119008,
          11.119008,
          11.119008,
          11.119008,
          11.119008,
          11.119008,
          11.119008,
          11.119008,
          11.119008,
          11.119008,
          11.119008,
          11.119008,
          11.119008
         ],
         "y": [
          46.065852,
          46.065852,
          46.065852,
          46.065852,
          46.065852,
          46.065852,
          46.065852,
          46.065852,
          46.065852,
          46.065852,
          46.065852,
          46.065852,
          46.065852,
          46.065852,
          46.065852,
          46.065852,
          46.065852,
          46.065852,
          46.065852,
          46.065852,
          46.065852,
          46.065852,
          46.065852,
          46.065852,
          46.065852,
          46.065852,
          46.065852,
          46.065852,
          46.065852,
          46.065852,
          46.065852,
          46.065852,
          46.065852,
          46.065852,
          46.065852,
          46.065852,
          46.065852,
          46.065852,
          46.065852,
          46.065852,
          46.065852,
          46.065852,
          46.065852,
          46.065852,
          46.065852,
          46.065852,
          46.065852,
          46.065852,
          46.065852,
          46.065852,
          46.065852,
          46.065852,
          46.065852,
          46.065852,
          46.065852,
          46.065852,
          46.065852,
          46.065852,
          46.065852,
          46.065852,
          46.065852,
          46.065852,
          46.065852,
          46.065852,
          46.065852,
          46.065852,
          46.065852,
          46.065852,
          46.065852,
          46.065852,
          46.065852,
          46.065852,
          46.065852,
          46.065852,
          46.065852,
          46.065852,
          46.065852,
          46.065852,
          46.065852,
          46.065852,
          46.065852,
          46.065852,
          46.065852,
          46.065852,
          46.065852,
          46.065852,
          46.065852,
          46.065852,
          46.065852,
          46.065852,
          46.065852,
          46.065852,
          46.065852,
          46.065852,
          46.065852,
          46.065852,
          46.065852,
          46.065852,
          46.065852,
          46.065852,
          46.065852,
          46.065852,
          46.065852,
          46.065852,
          46.065852,
          46.065852,
          46.065852,
          46.065852,
          46.065852,
          46.065852,
          46.065852,
          46.065852,
          46.065852,
          46.065852,
          46.065852,
          46.065852,
          46.065852,
          46.065852,
          46.065852,
          46.065852,
          46.065852,
          46.065852,
          46.065852,
          46.065852,
          46.065852,
          46.065852,
          46.065852,
          46.065852,
          46.065852,
          46.065852,
          46.065852
         ],
         "z": [
          "2018-05-10T00:02:18.790000",
          "2018-05-10T00:32:18.635000",
          "2018-05-10T01:02:18.641000",
          "2018-05-10T01:32:18.620000",
          "2018-05-10T02:02:18.631000",
          "2018-05-10T02:32:18.613000",
          "2018-05-10T03:02:18.624000",
          "2018-05-10T09:32:18.619000",
          "2018-05-10T10:02:18.627000",
          "2018-05-10T10:32:18.621000",
          "2018-05-10T11:02:18.619000",
          "2018-05-10T11:32:18.614000",
          "2018-05-10T12:02:18.619000",
          "2018-05-10T14:02:18.627000",
          "2018-05-10T15:02:58.394000",
          "2018-05-10T17:02:18.623000",
          "2018-05-10T17:32:18.620000",
          "2018-05-10T18:32:18.612000",
          "2018-05-10T19:02:18.634000",
          "2018-05-10T19:32:18.666000",
          "2018-05-10T20:32:18.620000",
          "2018-05-10T21:02:18.624000",
          "2018-05-10T21:32:18.626000",
          "2018-05-10T22:02:18.626000",
          "2018-05-10T22:32:18.616000",
          "2018-05-10T23:02:18.635000",
          "2018-05-10T23:32:18.722000",
          "2018-05-11T00:02:18.635000",
          "2018-05-11T00:32:18.626000",
          "2018-05-11T01:02:18.632000",
          "2018-05-11T10:32:18.616000",
          "2018-05-11T11:02:18.616000",
          "2018-05-11T11:32:18.667000",
          "2018-05-11T12:02:18.624000",
          "2018-05-11T12:32:18.633000",
          "2018-05-11T13:02:18.628000",
          "2018-05-11T13:32:18.638000",
          "2018-05-11T14:02:18.617000",
          "2018-05-11T14:32:18.624000",
          "2018-05-11T15:02:18.703000",
          "2018-05-11T15:32:18.633000",
          "2018-05-11T16:02:18.629000",
          "2018-05-11T17:02:18.612000",
          "2018-05-11T17:32:18.613000",
          "2018-05-11T18:02:18.620000",
          "2018-05-11T19:32:18.613000",
          "2018-05-11T20:02:18.621000",
          "2018-05-11T21:32:18.629000",
          "2018-05-11T22:02:18.619000",
          "2018-05-11T22:32:18.627000",
          "2018-05-12T02:32:18.621000",
          "2018-05-12T17:32:18.622000",
          "2018-05-12T18:02:18.621000",
          "2018-05-12T18:32:18.613000",
          "2018-05-12T19:32:18.612000",
          "2018-05-12T20:02:18.623000",
          "2018-05-12T22:02:18.631000",
          "2018-05-13T00:02:18.618000",
          "2018-05-13T00:32:18.630000",
          "2018-05-13T13:02:18.623000",
          "2018-05-13T13:32:18.629000",
          "2018-05-13T14:32:18.610000",
          "2018-05-13T15:02:18.652000",
          "2018-05-13T15:32:18.614000",
          "2018-05-13T16:32:18.614000",
          "2018-05-13T17:32:18.655000",
          "2018-05-13T18:02:18.616000",
          "2018-05-13T18:32:18.611000",
          "2018-05-13T19:02:18.619000",
          "2018-05-13T19:32:18.616000",
          "2018-05-13T21:02:18.612000",
          "2018-05-13T22:02:18.612000",
          "2018-05-13T22:32:18.618000",
          "2018-05-14T02:32:18.618000",
          "2018-05-14T08:32:18.614000",
          "2018-05-14T12:02:18.619000",
          "2018-05-14T14:02:18.628000",
          "2018-05-14T14:32:18.621000",
          "2018-05-14T16:02:18.679000",
          "2018-05-14T16:32:18.614000",
          "2018-05-14T17:32:18.681000",
          "2018-05-14T21:02:18.612000",
          "2018-05-14T21:32:18.610000",
          "2018-05-14T22:02:18.610000",
          "2018-05-14T22:32:18.611000",
          "2018-05-15T11:32:18.613000",
          "2018-05-15T12:02:18.682000",
          "2018-05-15T12:32:18.628000",
          "2018-05-15T13:02:18.612000",
          "2018-05-15T15:02:18.617000",
          "2018-05-15T15:32:18.615000",
          "2018-05-16T01:32:18.627000",
          "2018-05-16T02:02:18.628000",
          "2018-05-19T23:02:18.610000",
          "2018-05-20T00:32:18.629000",
          "2018-05-21T12:32:18.609000",
          "2018-05-21T13:02:18.612000",
          "2018-05-21T13:32:18.610000",
          "2018-05-21T14:02:18.611000",
          "2018-05-21T20:02:18.614000",
          "2018-05-21T23:02:18.614000",
          "2018-05-22T12:32:18.619000",
          "2018-05-22T13:02:18.613000",
          "2018-05-22T13:32:18.616000",
          "2018-05-22T14:02:18.849000",
          "2018-05-22T14:32:18.865000",
          "2018-05-22T15:32:18.617000",
          "2018-05-22T16:02:18.611000",
          "2018-05-22T16:32:18.610000",
          "2018-05-22T17:02:18.610000",
          "2018-05-22T17:32:18.659000",
          "2018-05-22T18:02:18.622000",
          "2018-05-22T18:32:18.611000",
          "2018-05-22T19:02:18.615000",
          "2018-05-22T19:32:18.702000",
          "2018-05-22T20:02:18.617000",
          "2018-05-22T20:32:18.612000",
          "2018-05-22T21:02:18.666000",
          "2018-05-22T21:32:18.609000",
          "2018-05-23T00:02:18.613000",
          "2018-05-23T00:32:18.613000",
          "2018-05-23T01:02:18.615000",
          "2018-05-23T01:32:18.621000",
          "2018-05-23T11:32:18.645000",
          "2018-05-23T12:02:18.620000",
          "2018-05-23T12:32:18.637000",
          "2018-05-23T13:02:18.624000",
          "2018-05-23T13:32:18.624000",
          "2018-05-23T14:02:18.679000",
          "2018-05-23T14:32:18.640000",
          "2018-05-23T21:02:18.625000"
         ]
        },
        {
         "hovertemplate": "<b>%{hovertext}</b><br><br>mood=missing_val<br>longitude_home=%{x}<br>latitude_home=%{y}<br>Time=%{z}<extra></extra>",
         "hovertext": [
          "Via Antonio Rosmini",
          "Via Antonio Rosmini",
          "Via Antonio Rosmini",
          "Via Antonio Rosmini",
          "Via Antonio Rosmini",
          "Via Antonio Rosmini",
          "Via Antonio Rosmini",
          "Via Antonio Rosmini",
          "Via Antonio Rosmini",
          "Via Antonio Rosmini",
          "Via Antonio Rosmini",
          "Via Antonio Rosmini",
          "Via Antonio Rosmini",
          "Via Antonio Rosmini",
          "Via Antonio Rosmini",
          "Via Antonio Rosmini",
          "Via Antonio Rosmini",
          "Via Antonio Rosmini",
          "Via Antonio Rosmini",
          "Via Antonio Rosmini",
          "Via Antonio Rosmini",
          "Via Antonio Rosmini",
          "Via Antonio Rosmini",
          "Via Antonio Rosmini",
          "Via Antonio Rosmini",
          "Via Antonio Rosmini",
          "Via Antonio Rosmini",
          "Via Antonio Rosmini",
          "Via Antonio Rosmini",
          "Via Antonio Rosmini",
          "Via Antonio Rosmini",
          "Via Antonio Rosmini",
          "Via Antonio Rosmini",
          "Via Antonio Rosmini",
          "Via Antonio Rosmini",
          "Via Antonio Rosmini",
          "Via Antonio Rosmini",
          "Via Antonio Rosmini",
          "Via Antonio Rosmini",
          "Via Antonio Rosmini",
          "Via Antonio Rosmini",
          "Via Antonio Rosmini",
          "Via Antonio Rosmini",
          "Via Antonio Rosmini",
          "Via Antonio Rosmini",
          "Via Antonio Rosmini",
          "Via Antonio Rosmini",
          "Via Antonio Rosmini",
          "Via Antonio Rosmini",
          "Via Antonio Rosmini",
          "Via Antonio Rosmini",
          "Via Antonio Rosmini",
          "Via Antonio Rosmini",
          "Via Antonio Rosmini",
          "Via Antonio Rosmini",
          "Via Antonio Rosmini",
          "Via Antonio Rosmini",
          "Via Antonio Rosmini",
          "Via Antonio Rosmini",
          "Via Antonio Rosmini",
          "Via Antonio Rosmini",
          "Via Antonio Rosmini",
          "Via Antonio Rosmini",
          "Via Antonio Rosmini",
          "Via Antonio Rosmini",
          "Via Antonio Rosmini",
          "Via Antonio Rosmini",
          "Via Antonio Rosmini",
          "Via Antonio Rosmini",
          "Via Antonio Rosmini",
          "Via Antonio Rosmini",
          "Via Antonio Rosmini",
          "Via Antonio Rosmini",
          "Via Antonio Rosmini",
          "Via Antonio Rosmini",
          "Via Antonio Rosmini",
          "Via Antonio Rosmini",
          "Via Antonio Rosmini",
          "Via Antonio Rosmini",
          "Via Antonio Rosmini",
          "Via Antonio Rosmini",
          "Via Antonio Rosmini",
          "Via Antonio Rosmini",
          "Via Antonio Rosmini",
          "Via Antonio Rosmini",
          "Via Antonio Rosmini",
          "Via Antonio Rosmini",
          "Via Antonio Rosmini",
          "Via Antonio Rosmini",
          "Via Antonio Rosmini",
          "Via Antonio Rosmini",
          "Via Antonio Rosmini",
          "Via Antonio Rosmini",
          "Via Antonio Rosmini",
          "Via Antonio Rosmini",
          "Via Antonio Rosmini",
          "Via Antonio Rosmini",
          "Via Antonio Rosmini",
          "Via Antonio Rosmini",
          "Via Antonio Rosmini",
          "Via Antonio Rosmini",
          "Via Antonio Rosmini",
          "Via Antonio Rosmini",
          "Via Antonio Rosmini",
          "Via Antonio Rosmini",
          "Via Antonio Rosmini",
          "Via Antonio Rosmini",
          "Via Antonio Rosmini",
          "Via Antonio Rosmini",
          "Via Antonio Rosmini",
          "Via Antonio Rosmini",
          "Via Antonio Rosmini",
          "Via Antonio Rosmini",
          "Via Antonio Rosmini",
          "Via Antonio Rosmini",
          "Via Antonio Rosmini",
          "Via Antonio Rosmini",
          "Via Antonio Rosmini",
          "Via Antonio Rosmini",
          "Via Antonio Rosmini",
          "Via Antonio Rosmini",
          "Via Antonio Rosmini",
          "Via Antonio Rosmini",
          "Via Antonio Rosmini",
          "Via Antonio Rosmini",
          "Via Antonio Rosmini",
          "Via Antonio Rosmini",
          "Via Antonio Rosmini",
          "Via Antonio Rosmini",
          "Via Antonio Rosmini",
          "Via Antonio Rosmini",
          "Via Antonio Rosmini",
          "Via Antonio Rosmini",
          "Via Antonio Rosmini",
          "Via Antonio Rosmini",
          "Via Antonio Rosmini",
          "Via Antonio Rosmini",
          "Via Antonio Rosmini",
          "Via Antonio Rosmini",
          "Via Antonio Rosmini",
          "Via Antonio Rosmini",
          "Via Antonio Rosmini",
          "Via Antonio Rosmini",
          "Via Antonio Rosmini",
          "Via Antonio Rosmini",
          "Via Antonio Rosmini",
          "Via Antonio Rosmini",
          "Via Antonio Rosmini",
          "Via Antonio Rosmini",
          "Via Antonio Rosmini",
          "Via Antonio Rosmini",
          "Via Antonio Rosmini",
          "Via Antonio Rosmini",
          "Via Antonio Rosmini",
          "Via Antonio Rosmini",
          "Via Antonio Rosmini",
          "Via Antonio Rosmini",
          "Via Antonio Rosmini",
          "Via Antonio Rosmini",
          "Via Antonio Rosmini",
          "Via Antonio Rosmini",
          "Via Antonio Rosmini",
          "Via Antonio Rosmini",
          "Via Antonio Rosmini",
          "Via Antonio Rosmini",
          "Via Antonio Rosmini",
          "Via Antonio Rosmini",
          "Via Antonio Rosmini",
          "Via Antonio Rosmini",
          "Via Antonio Rosmini",
          "Via Antonio Rosmini",
          "Via Antonio Rosmini",
          "Via Antonio Rosmini",
          "Via Antonio Rosmini",
          "Via Antonio Rosmini",
          "Via Antonio Rosmini",
          "Via Antonio Rosmini",
          "Via Antonio Rosmini",
          "Via Antonio Rosmini",
          "Via Antonio Rosmini",
          "Via Antonio Rosmini",
          "Via Antonio Rosmini",
          "Via Antonio Rosmini",
          "Via Antonio Rosmini",
          "Via Antonio Rosmini",
          "Via Antonio Rosmini",
          "Via Antonio Rosmini",
          "Via Antonio Rosmini",
          "Via Antonio Rosmini",
          "Via Antonio Rosmini",
          "Via Antonio Rosmini",
          "Via Antonio Rosmini",
          "Via Antonio Rosmini",
          "Via Antonio Rosmini",
          "Via Antonio Rosmini",
          "Via Antonio Rosmini",
          "Via Antonio Rosmini",
          "Via Antonio Rosmini",
          "Via Antonio Rosmini",
          "Via Antonio Rosmini",
          "Via Antonio Rosmini",
          "Via Antonio Rosmini",
          "Via Antonio Rosmini",
          "Via Antonio Rosmini",
          "Via Antonio Rosmini",
          "Via Antonio Rosmini",
          "Via Antonio Rosmini",
          "Via Antonio Rosmini",
          "Via Antonio Rosmini",
          "Via Antonio Rosmini",
          "Via Antonio Rosmini",
          "Via Antonio Rosmini",
          "Via Antonio Rosmini",
          "Via Antonio Rosmini",
          "Via Antonio Rosmini",
          "Via Antonio Rosmini",
          "Via Antonio Rosmini",
          "Via Antonio Rosmini",
          "Via Antonio Rosmini",
          "Via Antonio Rosmini",
          "Via Antonio Rosmini",
          "Via Antonio Rosmini",
          "Via Antonio Rosmini",
          "Via Antonio Rosmini",
          "Via Antonio Rosmini",
          "Via Antonio Rosmini",
          "Via Antonio Rosmini",
          "Via Antonio Rosmini",
          "Via Antonio Rosmini",
          "Via Antonio Rosmini",
          "Via Antonio Rosmini",
          "Via Antonio Rosmini",
          "Via Antonio Rosmini",
          "Via Antonio Rosmini",
          "Via Antonio Rosmini",
          "Via Antonio Rosmini",
          "Via Antonio Rosmini",
          "Via Antonio Rosmini",
          "Via Antonio Rosmini",
          "Via Antonio Rosmini",
          "Via Antonio Rosmini",
          "Via Antonio Rosmini",
          "Via Antonio Rosmini",
          "Via Antonio Rosmini",
          "Via Antonio Rosmini",
          "Via Antonio Rosmini",
          "Via Antonio Rosmini",
          "Via Antonio Rosmini",
          "Via Antonio Rosmini",
          "Via Antonio Rosmini",
          "Via Antonio Rosmini",
          "Via Antonio Rosmini",
          "Via Antonio Rosmini",
          "Via Antonio Rosmini",
          "Via Antonio Rosmini",
          "Via Antonio Rosmini",
          "Via Antonio Rosmini",
          "Via Antonio Rosmini",
          "Via Antonio Rosmini",
          "Via Antonio Rosmini",
          "Via Antonio Rosmini",
          "Via Antonio Rosmini",
          "Via Antonio Rosmini",
          "Via Antonio Rosmini",
          "Via Antonio Rosmini",
          "Via Antonio Rosmini",
          "Via Antonio Rosmini",
          "Via Antonio Rosmini",
          "Via Antonio Rosmini",
          "Via Antonio Rosmini",
          "Via Antonio Rosmini",
          "Via Antonio Rosmini",
          "Via Antonio Rosmini",
          "Via Antonio Rosmini",
          "Via Antonio Rosmini",
          "Via Antonio Rosmini",
          "Via Antonio Rosmini",
          "Via Antonio Rosmini",
          "Via Antonio Rosmini",
          "Via Antonio Rosmini",
          "Via Antonio Rosmini"
         ],
         "legendgroup": "missing_val",
         "line": {
          "color": "#EF553B",
          "dash": "solid",
          "width": 5
         },
         "marker": {
          "symbol": "circle"
         },
         "mode": "lines",
         "name": "missing_val",
         "scene": "scene",
         "showlegend": true,
         "type": "scatter3d",
         "x": [
          11.119008,
          11.119008,
          11.119008,
          11.119008,
          11.119008,
          11.119008,
          11.119008,
          11.119008,
          11.119008,
          11.119008,
          11.119008,
          11.119008,
          11.119008,
          11.119008,
          11.119008,
          11.119008,
          11.119008,
          11.119008,
          11.119008,
          11.119008,
          11.119008,
          11.119008,
          11.119008,
          11.119008,
          11.119008,
          11.119008,
          11.119008,
          11.119008,
          11.119008,
          11.119008,
          11.119008,
          11.119008,
          11.119008,
          11.119008,
          11.119008,
          11.119008,
          11.119008,
          11.119008,
          11.119008,
          11.119008,
          11.119008,
          11.119008,
          11.119008,
          11.119008,
          11.119008,
          11.119008,
          11.119008,
          11.119008,
          11.119008,
          11.119008,
          11.119008,
          11.119008,
          11.119008,
          11.119008,
          11.119008,
          11.119008,
          11.119008,
          11.119008,
          11.119008,
          11.119008,
          11.119008,
          11.119008,
          11.119008,
          11.119008,
          11.119008,
          11.119008,
          11.119008,
          11.119008,
          11.119008,
          11.119008,
          11.119008,
          11.119008,
          11.119008,
          11.119008,
          11.119008,
          11.119008,
          11.119008,
          11.119008,
          11.119008,
          11.119008,
          11.119008,
          11.119008,
          11.119008,
          11.119008,
          11.119008,
          11.119008,
          11.119008,
          11.119008,
          11.119008,
          11.119008,
          11.119008,
          11.119008,
          11.119008,
          11.119008,
          11.119008,
          11.119008,
          11.119008,
          11.119008,
          11.119008,
          11.119008,
          11.119008,
          11.119008,
          11.119008,
          11.119008,
          11.119008,
          11.119008,
          11.119008,
          11.119008,
          11.119008,
          11.119008,
          11.119008,
          11.119008,
          11.119008,
          11.119008,
          11.119008,
          11.119008,
          11.119008,
          11.119008,
          11.119008,
          11.119008,
          11.119008,
          11.119008,
          11.119008,
          11.119008,
          11.119008,
          11.119008,
          11.119008,
          11.119008,
          11.119008,
          11.119008,
          11.119008,
          11.119008,
          11.119008,
          11.119008,
          11.119008,
          11.119008,
          11.119008,
          11.119008,
          11.119008,
          11.119008,
          11.119008,
          11.119008,
          11.119008,
          11.119008,
          11.119008,
          11.119008,
          11.119008,
          11.119008,
          11.119008,
          11.119008,
          11.119008,
          11.119008,
          11.119008,
          11.119008,
          11.119008,
          11.119008,
          11.119008,
          11.119008,
          11.119008,
          11.119008,
          11.119008,
          11.119008,
          11.119008,
          11.119008,
          11.119008,
          11.119008,
          11.119008,
          11.119008,
          11.119008,
          11.119008,
          11.119008,
          11.119008,
          11.119008,
          11.119008,
          11.119008,
          11.119008,
          11.119008,
          11.119008,
          11.119008,
          11.119008,
          11.119008,
          11.119008,
          11.119008,
          11.119008,
          11.119008,
          11.119008,
          11.119008,
          11.119008,
          11.119008,
          11.119008,
          11.119008,
          11.119008,
          11.119008,
          11.119008,
          11.119008,
          11.119008,
          11.119008,
          11.119008,
          11.119008,
          11.119008,
          11.119008,
          11.119008,
          11.119008,
          11.119008,
          11.119008,
          11.119008,
          11.119008,
          11.119008,
          11.119008,
          11.119008,
          11.119008,
          11.119008,
          11.119008,
          11.119008,
          11.119008,
          11.119008,
          11.119008,
          11.119008,
          11.119008,
          11.119008,
          11.119008,
          11.119008,
          11.119008,
          11.119008,
          11.119008,
          11.119008,
          11.119008,
          11.119008,
          11.119008,
          11.119008,
          11.119008,
          11.119008,
          11.119008,
          11.119008,
          11.119008,
          11.119008,
          11.119008,
          11.119008,
          11.119008,
          11.119008,
          11.119008,
          11.119008,
          11.119008,
          11.119008,
          11.119008,
          11.119008,
          11.119008,
          11.119008,
          11.119008,
          11.119008,
          11.119008,
          11.119008,
          11.119008,
          11.119008,
          11.119008,
          11.119008,
          11.119008,
          11.119008,
          11.119008,
          11.119008,
          11.119008,
          11.119008,
          11.119008,
          11.119008,
          11.119008,
          11.119008,
          11.119008,
          11.119008,
          11.119008,
          11.119008,
          11.119008,
          11.119008,
          11.119008,
          11.119008,
          11.119008,
          11.119008,
          11.119008,
          11.119008,
          11.119008,
          11.119008,
          11.119008
         ],
         "y": [
          46.065852,
          46.065852,
          46.065852,
          46.065852,
          46.065852,
          46.065852,
          46.065852,
          46.065852,
          46.065852,
          46.065852,
          46.065852,
          46.065852,
          46.065852,
          46.065852,
          46.065852,
          46.065852,
          46.065852,
          46.065852,
          46.065852,
          46.065852,
          46.065852,
          46.065852,
          46.065852,
          46.065852,
          46.065852,
          46.065852,
          46.065852,
          46.065852,
          46.065852,
          46.065852,
          46.065852,
          46.065852,
          46.065852,
          46.065852,
          46.065852,
          46.065852,
          46.065852,
          46.065852,
          46.065852,
          46.065852,
          46.065852,
          46.065852,
          46.065852,
          46.065852,
          46.065852,
          46.065852,
          46.065852,
          46.065852,
          46.065852,
          46.065852,
          46.065852,
          46.065852,
          46.065852,
          46.065852,
          46.065852,
          46.065852,
          46.065852,
          46.065852,
          46.065852,
          46.065852,
          46.065852,
          46.065852,
          46.065852,
          46.065852,
          46.065852,
          46.065852,
          46.065852,
          46.065852,
          46.065852,
          46.065852,
          46.065852,
          46.065852,
          46.065852,
          46.065852,
          46.065852,
          46.065852,
          46.065852,
          46.065852,
          46.065852,
          46.065852,
          46.065852,
          46.065852,
          46.065852,
          46.065852,
          46.065852,
          46.065852,
          46.065852,
          46.065852,
          46.065852,
          46.065852,
          46.065852,
          46.065852,
          46.065852,
          46.065852,
          46.065852,
          46.065852,
          46.065852,
          46.065852,
          46.065852,
          46.065852,
          46.065852,
          46.065852,
          46.065852,
          46.065852,
          46.065852,
          46.065852,
          46.065852,
          46.065852,
          46.065852,
          46.065852,
          46.065852,
          46.065852,
          46.065852,
          46.065852,
          46.065852,
          46.065852,
          46.065852,
          46.065852,
          46.065852,
          46.065852,
          46.065852,
          46.065852,
          46.065852,
          46.065852,
          46.065852,
          46.065852,
          46.065852,
          46.065852,
          46.065852,
          46.065852,
          46.065852,
          46.065852,
          46.065852,
          46.065852,
          46.065852,
          46.065852,
          46.065852,
          46.065852,
          46.065852,
          46.065852,
          46.065852,
          46.065852,
          46.065852,
          46.065852,
          46.065852,
          46.065852,
          46.065852,
          46.065852,
          46.065852,
          46.065852,
          46.065852,
          46.065852,
          46.065852,
          46.065852,
          46.065852,
          46.065852,
          46.065852,
          46.065852,
          46.065852,
          46.065852,
          46.065852,
          46.065852,
          46.065852,
          46.065852,
          46.065852,
          46.065852,
          46.065852,
          46.065852,
          46.065852,
          46.065852,
          46.065852,
          46.065852,
          46.065852,
          46.065852,
          46.065852,
          46.065852,
          46.065852,
          46.065852,
          46.065852,
          46.065852,
          46.065852,
          46.065852,
          46.065852,
          46.065852,
          46.065852,
          46.065852,
          46.065852,
          46.065852,
          46.065852,
          46.065852,
          46.065852,
          46.065852,
          46.065852,
          46.065852,
          46.065852,
          46.065852,
          46.065852,
          46.065852,
          46.065852,
          46.065852,
          46.065852,
          46.065852,
          46.065852,
          46.065852,
          46.065852,
          46.065852,
          46.065852,
          46.065852,
          46.065852,
          46.065852,
          46.065852,
          46.065852,
          46.065852,
          46.065852,
          46.065852,
          46.065852,
          46.065852,
          46.065852,
          46.065852,
          46.065852,
          46.065852,
          46.065852,
          46.065852,
          46.065852,
          46.065852,
          46.065852,
          46.065852,
          46.065852,
          46.065852,
          46.065852,
          46.065852,
          46.065852,
          46.065852,
          46.065852,
          46.065852,
          46.065852,
          46.065852,
          46.065852,
          46.065852,
          46.065852,
          46.065852,
          46.065852,
          46.065852,
          46.065852,
          46.065852,
          46.065852,
          46.065852,
          46.065852,
          46.065852,
          46.065852,
          46.065852,
          46.065852,
          46.065852,
          46.065852,
          46.065852,
          46.065852,
          46.065852,
          46.065852,
          46.065852,
          46.065852,
          46.065852,
          46.065852,
          46.065852,
          46.065852,
          46.065852,
          46.065852,
          46.065852,
          46.065852,
          46.065852,
          46.065852,
          46.065852,
          46.065852,
          46.065852,
          46.065852,
          46.065852,
          46.065852,
          46.065852,
          46.065852,
          46.065852,
          46.065852,
          46.065852
         ],
         "z": [
          "2018-05-10T03:32:18",
          "2018-05-10T04:02:18",
          "2018-05-10T04:32:18",
          "2018-05-10T05:02:18",
          "2018-05-10T05:32:18",
          "2018-05-10T06:02:18",
          "2018-05-10T06:32:18",
          "2018-05-10T07:02:18",
          "2018-05-10T07:32:18",
          "2018-05-10T08:02:18",
          "2018-05-10T08:32:18",
          "2018-05-10T09:02:18",
          "2018-05-10T18:02:18",
          "2018-05-11T01:32:18",
          "2018-05-11T02:02:18",
          "2018-05-11T02:32:18",
          "2018-05-11T03:02:18",
          "2018-05-11T03:32:18",
          "2018-05-11T04:02:18",
          "2018-05-11T04:32:18",
          "2018-05-11T05:02:18",
          "2018-05-11T05:32:18",
          "2018-05-11T06:02:18",
          "2018-05-11T06:32:18",
          "2018-05-11T07:02:18",
          "2018-05-11T07:32:18",
          "2018-05-11T08:02:18",
          "2018-05-11T08:32:18",
          "2018-05-11T09:02:18",
          "2018-05-12T03:02:18",
          "2018-05-12T03:32:18",
          "2018-05-12T04:02:18",
          "2018-05-12T04:32:18",
          "2018-05-12T05:02:18",
          "2018-05-12T05:32:18",
          "2018-05-12T06:02:18",
          "2018-05-12T06:32:18",
          "2018-05-12T07:02:18",
          "2018-05-12T07:32:18",
          "2018-05-12T08:02:18",
          "2018-05-12T08:32:18",
          "2018-05-12T09:02:18",
          "2018-05-12T09:32:18",
          "2018-05-12T10:02:18",
          "2018-05-12T10:32:18",
          "2018-05-12T11:02:18",
          "2018-05-12T11:32:18",
          "2018-05-12T12:02:18",
          "2018-05-12T12:32:18",
          "2018-05-12T13:02:18",
          "2018-05-12T13:32:18",
          "2018-05-12T14:02:18",
          "2018-05-12T14:32:18",
          "2018-05-12T15:02:18",
          "2018-05-12T15:32:18",
          "2018-05-12T22:32:18",
          "2018-05-13T01:02:18",
          "2018-05-13T01:32:18",
          "2018-05-13T02:02:18",
          "2018-05-13T02:32:18",
          "2018-05-13T03:02:18",
          "2018-05-13T03:32:18",
          "2018-05-13T04:02:18",
          "2018-05-13T04:32:18",
          "2018-05-13T05:02:18",
          "2018-05-13T05:32:18",
          "2018-05-13T06:02:18",
          "2018-05-13T06:32:18",
          "2018-05-13T07:02:18",
          "2018-05-13T07:32:18",
          "2018-05-13T08:02:18",
          "2018-05-13T08:32:18",
          "2018-05-13T09:02:18",
          "2018-05-13T09:32:18",
          "2018-05-13T10:02:18",
          "2018-05-13T10:32:18",
          "2018-05-13T11:02:18",
          "2018-05-13T11:32:18",
          "2018-05-13T12:02:18",
          "2018-05-13T12:32:18",
          "2018-05-13T17:02:18",
          "2018-05-14T01:32:18",
          "2018-05-14T02:02:18",
          "2018-05-14T03:32:18",
          "2018-05-14T04:02:18",
          "2018-05-14T04:32:18",
          "2018-05-14T05:02:18",
          "2018-05-14T05:32:18",
          "2018-05-14T06:02:18",
          "2018-05-14T06:32:18",
          "2018-05-14T07:02:18",
          "2018-05-14T07:32:18",
          "2018-05-14T09:32:18",
          "2018-05-14T19:32:18",
          "2018-05-14T20:02:18",
          "2018-05-15T00:02:18",
          "2018-05-15T00:32:18",
          "2018-05-15T01:02:18",
          "2018-05-15T01:32:18",
          "2018-05-15T02:02:18",
          "2018-05-15T02:32:18",
          "2018-05-15T03:02:18",
          "2018-05-15T03:32:18",
          "2018-05-15T04:02:18",
          "2018-05-15T04:32:18",
          "2018-05-15T05:02:18",
          "2018-05-15T05:32:18",
          "2018-05-15T06:02:18",
          "2018-05-15T06:32:18",
          "2018-05-15T07:02:18",
          "2018-05-15T07:32:18",
          "2018-05-15T08:02:18",
          "2018-05-15T08:32:18",
          "2018-05-15T09:02:18",
          "2018-05-15T09:32:18",
          "2018-05-15T10:02:18",
          "2018-05-15T10:32:18",
          "2018-05-15T11:02:18",
          "2018-05-15T14:32:18",
          "2018-05-15T23:32:18",
          "2018-05-16T00:02:18",
          "2018-05-16T03:02:18",
          "2018-05-16T03:32:18",
          "2018-05-16T04:02:18",
          "2018-05-16T04:32:18",
          "2018-05-16T05:02:18",
          "2018-05-16T05:32:18",
          "2018-05-16T06:02:18",
          "2018-05-16T06:32:18",
          "2018-05-16T07:02:18",
          "2018-05-16T07:32:18",
          "2018-05-16T08:02:18",
          "2018-05-16T08:32:18",
          "2018-05-16T09:02:18",
          "2018-05-16T09:32:18",
          "2018-05-16T10:02:18",
          "2018-05-16T10:32:18",
          "2018-05-16T13:02:18",
          "2018-05-16T14:02:18",
          "2018-05-16T14:32:18",
          "2018-05-16T15:02:18",
          "2018-05-16T15:32:18",
          "2018-05-16T16:02:18",
          "2018-05-16T16:32:18",
          "2018-05-16T23:02:18",
          "2018-05-17T02:02:18",
          "2018-05-17T02:32:18",
          "2018-05-17T03:02:18",
          "2018-05-17T03:32:18",
          "2018-05-17T04:02:18",
          "2018-05-17T04:32:18",
          "2018-05-17T05:02:18",
          "2018-05-17T05:32:18",
          "2018-05-17T06:02:18",
          "2018-05-17T06:32:18",
          "2018-05-17T07:02:18",
          "2018-05-17T07:32:18",
          "2018-05-17T08:02:18",
          "2018-05-17T08:32:18",
          "2018-05-17T09:02:18",
          "2018-05-18T01:02:18.686000",
          "2018-05-18T01:32:18.613000",
          "2018-05-18T02:02:18.624000",
          "2018-05-18T02:32:18.722000",
          "2018-05-18T03:02:18.611000",
          "2018-05-18T03:32:18.612000",
          "2018-05-18T04:02:18.630000",
          "2018-05-18T04:32:18.612000",
          "2018-05-18T05:02:18.780000",
          "2018-05-18T11:02:18",
          "2018-05-18T20:32:18",
          "2018-05-19T01:32:18",
          "2018-05-19T02:02:18",
          "2018-05-19T02:32:18",
          "2018-05-19T03:02:18",
          "2018-05-19T03:32:18",
          "2018-05-19T04:02:18",
          "2018-05-19T04:32:18",
          "2018-05-19T05:02:18",
          "2018-05-19T05:32:18",
          "2018-05-19T06:02:18",
          "2018-05-19T06:32:18",
          "2018-05-19T07:02:18",
          "2018-05-19T07:32:18",
          "2018-05-19T08:02:18",
          "2018-05-19T08:32:18",
          "2018-05-19T09:02:18",
          "2018-05-19T09:32:18",
          "2018-05-19T10:02:18",
          "2018-05-19T10:32:18",
          "2018-05-19T11:02:18",
          "2018-05-19T11:32:18",
          "2018-05-19T12:02:18",
          "2018-05-19T20:32:18",
          "2018-05-19T21:02:18",
          "2018-05-20T07:32:18.609000",
          "2018-05-20T08:02:18.613000",
          "2018-05-20T08:32:18.609000",
          "2018-05-20T09:02:18.617000",
          "2018-05-20T09:32:18.611000",
          "2018-05-20T10:02:18.626000",
          "2018-05-20T10:32:18.608000",
          "2018-05-20T13:32:18",
          "2018-05-20T14:02:18",
          "2018-05-20T19:32:18",
          "2018-05-21T02:32:18",
          "2018-05-21T03:02:18",
          "2018-05-21T03:32:18",
          "2018-05-21T04:02:18",
          "2018-05-21T04:32:18",
          "2018-05-21T05:02:18",
          "2018-05-21T05:32:18",
          "2018-05-21T06:02:18",
          "2018-05-21T06:32:18",
          "2018-05-21T07:02:18",
          "2018-05-21T07:32:18",
          "2018-05-21T08:02:18",
          "2018-05-21T08:32:18",
          "2018-05-21T09:02:18",
          "2018-05-21T09:32:18",
          "2018-05-21T10:02:18",
          "2018-05-21T10:32:18",
          "2018-05-21T11:02:18",
          "2018-05-21T21:32:18",
          "2018-05-21T22:02:18",
          "2018-05-22T00:32:18",
          "2018-05-22T02:32:18",
          "2018-05-22T03:02:18",
          "2018-05-22T03:32:18",
          "2018-05-22T04:02:18",
          "2018-05-22T04:32:18",
          "2018-05-22T05:02:18",
          "2018-05-22T05:32:18",
          "2018-05-22T06:02:18",
          "2018-05-22T06:32:18",
          "2018-05-22T07:02:18",
          "2018-05-22T07:32:18",
          "2018-05-22T08:02:18",
          "2018-05-22T08:32:18",
          "2018-05-22T09:02:18",
          "2018-05-22T09:32:18",
          "2018-05-22T10:02:18",
          "2018-05-22T10:32:18",
          "2018-05-22T11:02:18",
          "2018-05-22T15:02:18",
          "2018-05-22T22:02:18",
          "2018-05-22T22:32:18",
          "2018-05-22T23:02:18",
          "2018-05-22T23:32:18",
          "2018-05-23T02:02:18",
          "2018-05-23T02:32:18",
          "2018-05-23T03:02:18",
          "2018-05-23T03:32:18",
          "2018-05-23T04:02:18",
          "2018-05-23T04:32:18",
          "2018-05-23T05:02:18",
          "2018-05-23T05:32:18",
          "2018-05-23T06:02:18",
          "2018-05-23T06:32:18",
          "2018-05-23T07:02:18",
          "2018-05-23T07:32:18",
          "2018-05-23T08:02:18",
          "2018-05-23T08:32:18",
          "2018-05-23T09:02:18",
          "2018-05-23T09:32:18",
          "2018-05-23T10:02:18",
          "2018-05-23T15:02:18",
          "2018-05-23T15:32:18",
          "2018-05-23T16:02:18",
          "2018-05-23T16:32:18",
          "2018-05-23T17:02:18",
          "2018-05-23T17:32:18",
          "2018-05-23T18:02:18",
          "2018-05-23T18:32:18",
          "2018-05-23T19:02:18",
          "2018-05-23T19:32:18",
          "2018-05-23T20:02:18",
          "2018-05-23T20:32:18",
          "2018-05-23T22:32:18",
          "2018-05-23T23:02:18",
          "2018-05-23T23:32:18"
         ]
        },
        {
         "hovertemplate": "<b>%{hovertext}</b><br><br>mood=Very happy<br>longitude_home=%{x}<br>latitude_home=%{y}<br>Time=%{z}<extra></extra>",
         "hovertext": [
          "Via Antonio Rosmini",
          "Via Antonio Rosmini",
          "Via Antonio Rosmini",
          "Via Antonio Rosmini",
          "Via Antonio Rosmini",
          "Via Antonio Rosmini",
          "Via Antonio Rosmini",
          "Via Antonio Rosmini",
          "Via Antonio Rosmini",
          "Via Antonio Rosmini",
          "Via Antonio Rosmini",
          "Via Antonio Rosmini",
          "Via Antonio Rosmini",
          "Via Antonio Rosmini",
          "Via Antonio Rosmini",
          "Via Antonio Rosmini",
          "Via Antonio Rosmini",
          "Via Antonio Rosmini",
          "Via Antonio Rosmini",
          "Via Antonio Rosmini",
          "Via Antonio Rosmini",
          "Via Antonio Rosmini",
          "Via Antonio Rosmini",
          "Via Antonio Rosmini",
          "Via Antonio Rosmini",
          "Via Antonio Rosmini",
          "Via Antonio Rosmini",
          "Via Antonio Rosmini",
          "Via Antonio Rosmini",
          "Via Antonio Rosmini",
          "Via Antonio Rosmini",
          "Via Antonio Rosmini",
          "Via Antonio Rosmini",
          "Via Antonio Rosmini",
          "Via Antonio Rosmini",
          "Via Antonio Rosmini",
          "Via Antonio Rosmini",
          "Via Antonio Rosmini",
          "Via Antonio Rosmini",
          "Via Antonio Rosmini",
          "Via Antonio Rosmini",
          "Via Antonio Rosmini",
          "Via Antonio Rosmini",
          "Via Antonio Rosmini",
          "Via Antonio Rosmini",
          "Via Antonio Rosmini",
          "Via Antonio Rosmini",
          "Via Antonio Rosmini",
          "Via Antonio Rosmini",
          "Via Antonio Rosmini",
          "Via Antonio Rosmini",
          "Via Antonio Rosmini",
          "Via Antonio Rosmini",
          "Via Antonio Rosmini",
          "Via Antonio Rosmini",
          "Via Antonio Rosmini",
          "Via Antonio Rosmini",
          "Via Antonio Rosmini",
          "Via Antonio Rosmini",
          "Via Antonio Rosmini",
          "Via Antonio Rosmini",
          "Via Antonio Rosmini",
          "Via Antonio Rosmini",
          "Via Antonio Rosmini",
          "Via Antonio Rosmini",
          "Via Antonio Rosmini",
          "Via Antonio Rosmini",
          "Via Antonio Rosmini",
          "Via Antonio Rosmini",
          "Via Antonio Rosmini",
          "Via Antonio Rosmini",
          "Via Antonio Rosmini",
          "Via Antonio Rosmini",
          "Via Antonio Rosmini",
          "Via Antonio Rosmini",
          "Via Antonio Rosmini",
          "Via Antonio Rosmini",
          "Via Antonio Rosmini",
          "Via Antonio Rosmini",
          "Via Antonio Rosmini",
          "Via Antonio Rosmini",
          "Via Antonio Rosmini",
          "Via Antonio Rosmini",
          "Via Antonio Rosmini",
          "Via Antonio Rosmini",
          "Via Antonio Rosmini",
          "Via Antonio Rosmini",
          "Via Antonio Rosmini",
          "Via Antonio Rosmini",
          "Via Antonio Rosmini",
          "Via Antonio Rosmini",
          "Via Antonio Rosmini",
          "Via Antonio Rosmini",
          "Via Antonio Rosmini",
          "Via Antonio Rosmini",
          "Via Antonio Rosmini",
          "Via Antonio Rosmini",
          "Via Antonio Rosmini",
          "Via Antonio Rosmini",
          "Via Antonio Rosmini",
          "Via Antonio Rosmini",
          "Via Antonio Rosmini",
          "Via Antonio Rosmini",
          "Via Antonio Rosmini",
          "Via Antonio Rosmini",
          "Via Antonio Rosmini",
          "Via Antonio Rosmini",
          "Via Antonio Rosmini",
          "Via Antonio Rosmini",
          "Via Antonio Rosmini",
          "Via Antonio Rosmini",
          "Via Antonio Rosmini",
          "Via Antonio Rosmini",
          "Via Antonio Rosmini"
         ],
         "legendgroup": "Very happy",
         "line": {
          "color": "#00cc96",
          "dash": "solid",
          "width": 5
         },
         "marker": {
          "symbol": "circle"
         },
         "mode": "lines",
         "name": "Very happy",
         "scene": "scene",
         "showlegend": true,
         "type": "scatter3d",
         "x": [
          11.119008,
          11.119008,
          11.119008,
          11.119008,
          11.119008,
          11.119008,
          11.119008,
          11.119008,
          11.119008,
          11.119008,
          11.119008,
          11.119008,
          11.119008,
          11.119008,
          11.119008,
          11.119008,
          11.119008,
          11.119008,
          11.119008,
          11.119008,
          11.119008,
          11.119008,
          11.119008,
          11.119008,
          11.119008,
          11.119008,
          11.119008,
          11.119008,
          11.119008,
          11.119008,
          11.119008,
          11.119008,
          11.119008,
          11.119008,
          11.119008,
          11.119008,
          11.119008,
          11.119008,
          11.119008,
          11.119008,
          11.119008,
          11.119008,
          11.119008,
          11.119008,
          11.119008,
          11.119008,
          11.119008,
          11.119008,
          11.119008,
          11.119008,
          11.119008,
          11.119008,
          11.119008,
          11.119008,
          11.119008,
          11.119008,
          11.119008,
          11.119008,
          11.119008,
          11.119008,
          11.119008,
          11.119008,
          11.119008,
          11.119008,
          11.119008,
          11.119008,
          11.119008,
          11.119008,
          11.119008,
          11.119008,
          11.119008,
          11.119008,
          11.119008,
          11.119008,
          11.119008,
          11.119008,
          11.119008,
          11.119008,
          11.119008,
          11.119008,
          11.119008,
          11.119008,
          11.119008,
          11.119008,
          11.119008,
          11.119008,
          11.119008,
          11.119008,
          11.119008,
          11.119008,
          11.119008,
          11.119008,
          11.119008,
          11.119008,
          11.119008,
          11.119008,
          11.119008,
          11.119008,
          11.119008,
          11.119008,
          11.119008,
          11.119008,
          11.119008,
          11.119008,
          11.119008,
          11.119008,
          11.119008,
          11.119008,
          11.119008,
          11.119008,
          11.119008,
          11.119008,
          11.119008,
          11.119008
         ],
         "y": [
          46.065852,
          46.065852,
          46.065852,
          46.065852,
          46.065852,
          46.065852,
          46.065852,
          46.065852,
          46.065852,
          46.065852,
          46.065852,
          46.065852,
          46.065852,
          46.065852,
          46.065852,
          46.065852,
          46.065852,
          46.065852,
          46.065852,
          46.065852,
          46.065852,
          46.065852,
          46.065852,
          46.065852,
          46.065852,
          46.065852,
          46.065852,
          46.065852,
          46.065852,
          46.065852,
          46.065852,
          46.065852,
          46.065852,
          46.065852,
          46.065852,
          46.065852,
          46.065852,
          46.065852,
          46.065852,
          46.065852,
          46.065852,
          46.065852,
          46.065852,
          46.065852,
          46.065852,
          46.065852,
          46.065852,
          46.065852,
          46.065852,
          46.065852,
          46.065852,
          46.065852,
          46.065852,
          46.065852,
          46.065852,
          46.065852,
          46.065852,
          46.065852,
          46.065852,
          46.065852,
          46.065852,
          46.065852,
          46.065852,
          46.065852,
          46.065852,
          46.065852,
          46.065852,
          46.065852,
          46.065852,
          46.065852,
          46.065852,
          46.065852,
          46.065852,
          46.065852,
          46.065852,
          46.065852,
          46.065852,
          46.065852,
          46.065852,
          46.065852,
          46.065852,
          46.065852,
          46.065852,
          46.065852,
          46.065852,
          46.065852,
          46.065852,
          46.065852,
          46.065852,
          46.065852,
          46.065852,
          46.065852,
          46.065852,
          46.065852,
          46.065852,
          46.065852,
          46.065852,
          46.065852,
          46.065852,
          46.065852,
          46.065852,
          46.065852,
          46.065852,
          46.065852,
          46.065852,
          46.065852,
          46.065852,
          46.065852,
          46.065852,
          46.065852,
          46.065852,
          46.065852,
          46.065852,
          46.065852
         ],
         "z": [
          "2018-05-10T12:32:18.631000",
          "2018-05-10T13:02:18.619000",
          "2018-05-10T13:32:18.628000",
          "2018-05-10T14:32:18.615000",
          "2018-05-10T15:32:18.623000",
          "2018-05-10T16:32:18.671000",
          "2018-05-10T20:02:18.620000",
          "2018-05-11T10:02:18.639000",
          "2018-05-11T20:32:18.623000",
          "2018-05-11T21:02:18.613000",
          "2018-05-11T23:02:18.614000",
          "2018-05-11T23:32:18.620000",
          "2018-05-12T00:02:18.621000",
          "2018-05-12T00:32:18.660000",
          "2018-05-12T01:02:18.618000",
          "2018-05-12T01:32:18.626000",
          "2018-05-12T02:02:18.618000",
          "2018-05-13T16:02:18.612000",
          "2018-05-14T03:02:18.613000",
          "2018-05-14T13:32:18.741000",
          "2018-05-14T15:02:18.663000",
          "2018-05-14T17:02:18.616000",
          "2018-05-14T20:32:18.699000",
          "2018-05-16T02:32:18.635000",
          "2018-05-16T20:32:18.702000",
          "2018-05-16T21:02:18.611000",
          "2018-05-17T09:32:18.619000",
          "2018-05-17T10:02:18.614000",
          "2018-05-17T10:32:18.623000",
          "2018-05-17T11:02:18.620000",
          "2018-05-17T11:32:18.616000",
          "2018-05-17T12:02:18.698000",
          "2018-05-17T12:32:18.611000",
          "2018-05-17T13:02:18.620000",
          "2018-05-17T13:32:18.648000",
          "2018-05-17T14:02:18.616000",
          "2018-05-17T14:32:18.612000",
          "2018-05-17T15:02:18.629000",
          "2018-05-17T15:32:18.619000",
          "2018-05-17T16:02:18.615000",
          "2018-05-17T16:32:18.611000",
          "2018-05-17T17:02:18.622000",
          "2018-05-17T17:32:18.619000",
          "2018-05-17T18:02:18.876000",
          "2018-05-17T18:32:18.627000",
          "2018-05-17T19:02:18.612000",
          "2018-05-17T19:32:18.621000",
          "2018-05-17T20:02:18.726000",
          "2018-05-17T20:32:18.609000",
          "2018-05-17T21:02:18.609000",
          "2018-05-17T21:32:18.613000",
          "2018-05-17T22:02:18.613000",
          "2018-05-17T22:32:18.618000",
          "2018-05-17T23:02:18.611000",
          "2018-05-17T23:32:18.637000",
          "2018-05-18T00:02:18.615000",
          "2018-05-18T00:32:18.620000",
          "2018-05-18T05:32:18.619000",
          "2018-05-18T06:02:18.609000",
          "2018-05-18T06:32:18.611000",
          "2018-05-18T07:02:18.612000",
          "2018-05-18T07:32:18.613000",
          "2018-05-18T08:02:18.609000",
          "2018-05-18T08:32:18.616000",
          "2018-05-18T09:02:18.619000",
          "2018-05-18T09:32:18.629000",
          "2018-05-18T10:02:18.610000",
          "2018-05-18T10:32:18.614000",
          "2018-05-18T11:32:18.614000",
          "2018-05-18T12:02:18.619000",
          "2018-05-18T12:32:18.610000",
          "2018-05-18T13:02:18.617000",
          "2018-05-18T13:32:18.616000",
          "2018-05-18T14:02:18.614000",
          "2018-05-18T14:32:18.613000",
          "2018-05-18T15:02:18.617000",
          "2018-05-18T15:32:18.615000",
          "2018-05-18T16:02:18.609000",
          "2018-05-18T16:32:18.623000",
          "2018-05-18T17:02:18.629000",
          "2018-05-18T17:32:18.611000",
          "2018-05-18T18:02:18.680000",
          "2018-05-18T18:32:18.610000",
          "2018-05-18T19:02:18.622000",
          "2018-05-18T19:32:18.836000",
          "2018-05-18T20:02:18.612000",
          "2018-05-18T21:02:18.612000",
          "2018-05-18T21:32:18.610000",
          "2018-05-18T22:02:18.609000",
          "2018-05-18T22:32:18.614000",
          "2018-05-18T23:02:18.638000",
          "2018-05-18T23:32:18.613000",
          "2018-05-19T00:02:18.614000",
          "2018-05-19T00:32:18.610000",
          "2018-05-19T01:02:18.637000",
          "2018-05-19T14:02:18.612000",
          "2018-05-19T14:32:18.611000",
          "2018-05-19T15:02:18.620000",
          "2018-05-19T15:32:18.620000",
          "2018-05-19T17:02:18.615000",
          "2018-05-19T23:32:18.615000",
          "2018-05-20T00:02:18.613000",
          "2018-05-20T01:02:18.609000",
          "2018-05-20T01:32:18.612000",
          "2018-05-20T22:32:18.610000",
          "2018-05-20T23:02:18.611000",
          "2018-05-20T23:32:18.688000",
          "2018-05-21T00:02:18.609000",
          "2018-05-21T00:32:18.614000",
          "2018-05-21T01:02:18.613000",
          "2018-05-21T23:32:18.609000",
          "2018-05-22T00:02:18.610000",
          "2018-05-23T21:32:18.614000",
          "2018-05-23T22:02:18.613000"
         ]
        },
        {
         "hovertemplate": "<b>%{hovertext}</b><br><br>mood=Neutral<br>longitude_home=%{x}<br>latitude_home=%{y}<br>Time=%{z}<extra></extra>",
         "hovertext": [
          "Via Antonio Rosmini",
          "Via Antonio Rosmini",
          "Via Antonio Rosmini",
          "Via Antonio Rosmini",
          "Via Antonio Rosmini",
          "Via Antonio Rosmini",
          "Via Antonio Rosmini",
          "Via Antonio Rosmini",
          "Via Antonio Rosmini",
          "Via Antonio Rosmini",
          "Via Antonio Rosmini",
          "Via Antonio Rosmini",
          "Via Antonio Rosmini",
          "Via Antonio Rosmini",
          "Via Antonio Rosmini",
          "Via Antonio Rosmini",
          "Via Antonio Rosmini",
          "Via Antonio Rosmini",
          "Via Antonio Rosmini",
          "Via Antonio Rosmini",
          "Via Antonio Rosmini",
          "Via Antonio Rosmini",
          "Via Antonio Rosmini",
          "Via Antonio Rosmini",
          "Via Antonio Rosmini",
          "Via Antonio Rosmini",
          "Via Antonio Rosmini",
          "Via Antonio Rosmini",
          "Via Antonio Rosmini",
          "Via Antonio Rosmini",
          "Via Antonio Rosmini",
          "Via Antonio Rosmini",
          "Via Antonio Rosmini",
          "Via Antonio Rosmini",
          "Via Antonio Rosmini",
          "Via Antonio Rosmini",
          "Via Antonio Rosmini",
          "Via Antonio Rosmini",
          "Via Antonio Rosmini",
          "Via Antonio Rosmini",
          "Via Antonio Rosmini",
          "Via Antonio Rosmini",
          "Via Antonio Rosmini",
          "Via Antonio Rosmini",
          "Via Antonio Rosmini",
          "Via Antonio Rosmini",
          "Via Antonio Rosmini",
          "Via Antonio Rosmini",
          "Via Antonio Rosmini",
          "Via Antonio Rosmini",
          "Via Antonio Rosmini",
          "Via Antonio Rosmini",
          "Via Antonio Rosmini",
          "Via Antonio Rosmini",
          "Via Antonio Rosmini",
          "Via Antonio Rosmini",
          "Via Antonio Rosmini",
          "Via Antonio Rosmini",
          "Via Antonio Rosmini",
          "Via Antonio Rosmini",
          "Via Antonio Rosmini",
          "Via Antonio Rosmini",
          "Via Antonio Rosmini",
          "Via Antonio Rosmini",
          "Via Antonio Rosmini",
          "Via Antonio Rosmini",
          "Via Antonio Rosmini",
          "Via Antonio Rosmini",
          "Via Antonio Rosmini",
          "Via Antonio Rosmini",
          "Via Antonio Rosmini",
          "Via Antonio Rosmini",
          "Via Antonio Rosmini",
          "Via Antonio Rosmini",
          "Via Antonio Rosmini",
          "Via Antonio Rosmini",
          "Via Antonio Rosmini",
          "Via Antonio Rosmini",
          "Via Antonio Rosmini"
         ],
         "legendgroup": "Neutral",
         "line": {
          "color": "#ab63fa",
          "dash": "solid",
          "width": 5
         },
         "marker": {
          "symbol": "circle"
         },
         "mode": "lines",
         "name": "Neutral",
         "scene": "scene",
         "showlegend": true,
         "type": "scatter3d",
         "x": [
          11.119008,
          11.119008,
          11.119008,
          11.119008,
          11.119008,
          11.119008,
          11.119008,
          11.119008,
          11.119008,
          11.119008,
          11.119008,
          11.119008,
          11.119008,
          11.119008,
          11.119008,
          11.119008,
          11.119008,
          11.119008,
          11.119008,
          11.119008,
          11.119008,
          11.119008,
          11.119008,
          11.119008,
          11.119008,
          11.119008,
          11.119008,
          11.119008,
          11.119008,
          11.119008,
          11.119008,
          11.119008,
          11.119008,
          11.119008,
          11.119008,
          11.119008,
          11.119008,
          11.119008,
          11.119008,
          11.119008,
          11.119008,
          11.119008,
          11.119008,
          11.119008,
          11.119008,
          11.119008,
          11.119008,
          11.119008,
          11.119008,
          11.119008,
          11.119008,
          11.119008,
          11.119008,
          11.119008,
          11.119008,
          11.119008,
          11.119008,
          11.119008,
          11.119008,
          11.119008,
          11.119008,
          11.119008,
          11.119008,
          11.119008,
          11.119008,
          11.119008,
          11.119008,
          11.119008,
          11.119008,
          11.119008,
          11.119008,
          11.119008,
          11.119008,
          11.119008,
          11.119008,
          11.119008,
          11.119008,
          11.119008,
          11.119008
         ],
         "y": [
          46.065852,
          46.065852,
          46.065852,
          46.065852,
          46.065852,
          46.065852,
          46.065852,
          46.065852,
          46.065852,
          46.065852,
          46.065852,
          46.065852,
          46.065852,
          46.065852,
          46.065852,
          46.065852,
          46.065852,
          46.065852,
          46.065852,
          46.065852,
          46.065852,
          46.065852,
          46.065852,
          46.065852,
          46.065852,
          46.065852,
          46.065852,
          46.065852,
          46.065852,
          46.065852,
          46.065852,
          46.065852,
          46.065852,
          46.065852,
          46.065852,
          46.065852,
          46.065852,
          46.065852,
          46.065852,
          46.065852,
          46.065852,
          46.065852,
          46.065852,
          46.065852,
          46.065852,
          46.065852,
          46.065852,
          46.065852,
          46.065852,
          46.065852,
          46.065852,
          46.065852,
          46.065852,
          46.065852,
          46.065852,
          46.065852,
          46.065852,
          46.065852,
          46.065852,
          46.065852,
          46.065852,
          46.065852,
          46.065852,
          46.065852,
          46.065852,
          46.065852,
          46.065852,
          46.065852,
          46.065852,
          46.065852,
          46.065852,
          46.065852,
          46.065852,
          46.065852,
          46.065852,
          46.065852,
          46.065852,
          46.065852,
          46.065852
         ],
         "z": [
          "2018-05-10T16:02:18.656000",
          "2018-05-11T09:32:18.637000",
          "2018-05-11T16:32:18.625000",
          "2018-05-11T18:32:18.622000",
          "2018-05-12T16:02:18.636000",
          "2018-05-12T17:02:18.627000",
          "2018-05-12T19:02:18.632000",
          "2018-05-12T20:32:18.615000",
          "2018-05-12T21:02:18.628000",
          "2018-05-12T21:32:18.614000",
          "2018-05-12T23:02:18.627000",
          "2018-05-12T23:32:18.614000",
          "2018-05-13T14:02:18.617000",
          "2018-05-13T20:02:18.613000",
          "2018-05-13T20:32:18.651000",
          "2018-05-13T21:32:18.617000",
          "2018-05-13T23:02:18.627000",
          "2018-05-13T23:32:18.615000",
          "2018-05-14T00:32:18.613000",
          "2018-05-14T01:02:18.611000",
          "2018-05-14T08:02:18.613000",
          "2018-05-14T09:02:18.612000",
          "2018-05-14T10:02:18.615000",
          "2018-05-14T10:32:18.611000",
          "2018-05-14T11:02:18.758000",
          "2018-05-14T11:32:18.620000",
          "2018-05-14T12:32:18.614000",
          "2018-05-14T13:02:18.619000",
          "2018-05-14T15:32:18.612000",
          "2018-05-14T23:02:18.613000",
          "2018-05-15T13:32:18.626000",
          "2018-05-15T14:02:18.618000",
          "2018-05-15T17:02:18.611000",
          "2018-05-16T12:02:18.732000",
          "2018-05-19T16:02:18.610000",
          "2018-05-19T16:32:18.611000",
          "2018-05-19T17:32:18.681000",
          "2018-05-19T18:02:18.609000",
          "2018-05-19T18:32:18.628000",
          "2018-05-19T19:02:18.641000",
          "2018-05-19T19:32:18.615000",
          "2018-05-19T20:02:18.610000",
          "2018-05-19T21:32:18.610000",
          "2018-05-19T22:02:18.633000",
          "2018-05-19T22:32:18.610000",
          "2018-05-20T02:02:18.628000",
          "2018-05-20T02:32:18.617000",
          "2018-05-20T03:02:18.610000",
          "2018-05-20T03:32:18.611000",
          "2018-05-20T04:02:18.613000",
          "2018-05-20T04:32:18.625000",
          "2018-05-20T05:02:18.615000",
          "2018-05-20T05:32:18.611000",
          "2018-05-20T06:02:18.610000",
          "2018-05-20T06:32:18.630000",
          "2018-05-20T07:02:18.611000",
          "2018-05-20T11:02:18.611000",
          "2018-05-20T11:32:18.614000",
          "2018-05-20T12:02:18.610000",
          "2018-05-20T12:32:18.611000",
          "2018-05-20T18:02:18.613000",
          "2018-05-20T18:32:18.682000",
          "2018-05-21T01:32:18.627000",
          "2018-05-21T02:02:18.616000",
          "2018-05-21T11:32:18.610000",
          "2018-05-21T12:02:18.613000",
          "2018-05-21T14:32:18.649000",
          "2018-05-21T15:02:18.614000",
          "2018-05-21T15:32:18.615000",
          "2018-05-21T20:32:18.612000",
          "2018-05-21T21:02:18.614000",
          "2018-05-21T22:32:18.643000",
          "2018-05-22T01:02:18.618000",
          "2018-05-22T01:32:18.619000",
          "2018-05-22T02:02:18.652000",
          "2018-05-22T11:32:18.610000",
          "2018-05-22T12:02:18.616000",
          "2018-05-23T10:32:18.611000",
          "2018-05-23T11:02:18.610000"
         ]
        },
        {
         "hovertemplate": "<b>%{hovertext}</b><br><br>mood=Fairly sad<br>longitude_home=%{x}<br>latitude_home=%{y}<br>Time=%{z}<extra></extra>",
         "hovertext": [
          "Via Antonio Rosmini",
          "Via Antonio Rosmini",
          "Via Antonio Rosmini",
          "Via Antonio Rosmini",
          "Via Antonio Rosmini",
          "Via Antonio Rosmini",
          "Via Antonio Rosmini",
          "Via Antonio Rosmini",
          "Via Antonio Rosmini",
          "Via Antonio Rosmini",
          "Via Antonio Rosmini",
          "Via Antonio Rosmini",
          "Via Antonio Rosmini",
          "Via Antonio Rosmini",
          "Via Antonio Rosmini",
          "Via Antonio Rosmini",
          "Via Antonio Rosmini",
          "Via Antonio Rosmini",
          "Via Antonio Rosmini",
          "Via Antonio Rosmini",
          "Via Antonio Rosmini",
          "Via Antonio Rosmini"
         ],
         "legendgroup": "Fairly sad",
         "line": {
          "color": "#FFA15A",
          "dash": "solid",
          "width": 5
         },
         "marker": {
          "symbol": "circle"
         },
         "mode": "lines",
         "name": "Fairly sad",
         "scene": "scene",
         "showlegend": true,
         "type": "scatter3d",
         "x": [
          11.119008,
          11.119008,
          11.119008,
          11.119008,
          11.119008,
          11.119008,
          11.119008,
          11.119008,
          11.119008,
          11.119008,
          11.119008,
          11.119008,
          11.119008,
          11.119008,
          11.119008,
          11.119008,
          11.119008,
          11.119008,
          11.119008,
          11.119008,
          11.119008,
          11.119008
         ],
         "y": [
          46.065852,
          46.065852,
          46.065852,
          46.065852,
          46.065852,
          46.065852,
          46.065852,
          46.065852,
          46.065852,
          46.065852,
          46.065852,
          46.065852,
          46.065852,
          46.065852,
          46.065852,
          46.065852,
          46.065852,
          46.065852,
          46.065852,
          46.065852,
          46.065852,
          46.065852
         ],
         "z": [
          "2018-05-11T19:02:18.627000",
          "2018-05-12T16:32:18.725000",
          "2018-05-14T00:02:18.618000",
          "2018-05-14T23:32:18.628000",
          "2018-05-15T16:02:18.614000",
          "2018-05-15T16:32:18.613000",
          "2018-05-15T17:32:18.612000",
          "2018-05-15T18:32:18.631000",
          "2018-05-15T19:02:18.627000",
          "2018-05-15T20:02:18.612000",
          "2018-05-15T20:32:18.722000",
          "2018-05-15T22:02:18.620000",
          "2018-05-15T22:32:18.625000",
          "2018-05-16T11:02:18.614000",
          "2018-05-16T11:32:18.614000",
          "2018-05-16T12:32:18.621000",
          "2018-05-16T19:02:18.620000",
          "2018-05-16T20:02:18.623000",
          "2018-05-21T16:02:18.616000",
          "2018-05-21T16:32:18.612000",
          "2018-05-21T19:02:18.610000",
          "2018-05-21T19:32:18.611000"
         ]
        },
        {
         "hovertemplate": "<b>%{hovertext}</b><br><br>mood=Very sad<br>longitude_home=%{x}<br>latitude_home=%{y}<br>Time=%{z}<extra></extra>",
         "hovertext": [
          "Via Antonio Rosmini",
          "Via Antonio Rosmini",
          "Via Antonio Rosmini",
          "Via Antonio Rosmini",
          "Via Antonio Rosmini",
          "Via Antonio Rosmini",
          "Via Antonio Rosmini",
          "Via Antonio Rosmini",
          "Via Antonio Rosmini",
          "Via Antonio Rosmini",
          "Via Antonio Rosmini",
          "Via Antonio Rosmini",
          "Via Antonio Rosmini",
          "Via Antonio Rosmini",
          "Via Antonio Rosmini",
          "Via Antonio Rosmini",
          "Via Antonio Rosmini",
          "Via Antonio Rosmini",
          "Via Antonio Rosmini",
          "Via Antonio Rosmini",
          "Via Antonio Rosmini",
          "Via Antonio Rosmini",
          "Via Antonio Rosmini",
          "Via Antonio Rosmini",
          "Via Antonio Rosmini",
          "Via Antonio Rosmini",
          "Via Antonio Rosmini",
          "Via Antonio Rosmini",
          "Via Antonio Rosmini",
          "Via Antonio Rosmini",
          "Via Antonio Rosmini",
          "Via Antonio Rosmini",
          "Via Antonio Rosmini",
          "Via Antonio Rosmini",
          "Via Antonio Rosmini",
          "Via Antonio Rosmini",
          "Via Antonio Rosmini",
          "Via Antonio Rosmini",
          "Via Antonio Rosmini",
          "Via Antonio Rosmini",
          "Via Antonio Rosmini",
          "Via Antonio Rosmini",
          "Via Antonio Rosmini",
          "Via Antonio Rosmini",
          "Via Antonio Rosmini"
         ],
         "legendgroup": "Very sad",
         "line": {
          "color": "#19d3f3",
          "dash": "solid",
          "width": 5
         },
         "marker": {
          "symbol": "circle"
         },
         "mode": "lines",
         "name": "Very sad",
         "scene": "scene",
         "showlegend": true,
         "type": "scatter3d",
         "x": [
          11.119008,
          11.119008,
          11.119008,
          11.119008,
          11.119008,
          11.119008,
          11.119008,
          11.119008,
          11.119008,
          11.119008,
          11.119008,
          11.119008,
          11.119008,
          11.119008,
          11.119008,
          11.119008,
          11.119008,
          11.119008,
          11.119008,
          11.119008,
          11.119008,
          11.119008,
          11.119008,
          11.119008,
          11.119008,
          11.119008,
          11.119008,
          11.119008,
          11.119008,
          11.119008,
          11.119008,
          11.119008,
          11.119008,
          11.119008,
          11.119008,
          11.119008,
          11.119008,
          11.119008,
          11.119008,
          11.119008,
          11.119008,
          11.119008,
          11.119008,
          11.119008,
          11.119008
         ],
         "y": [
          46.065852,
          46.065852,
          46.065852,
          46.065852,
          46.065852,
          46.065852,
          46.065852,
          46.065852,
          46.065852,
          46.065852,
          46.065852,
          46.065852,
          46.065852,
          46.065852,
          46.065852,
          46.065852,
          46.065852,
          46.065852,
          46.065852,
          46.065852,
          46.065852,
          46.065852,
          46.065852,
          46.065852,
          46.065852,
          46.065852,
          46.065852,
          46.065852,
          46.065852,
          46.065852,
          46.065852,
          46.065852,
          46.065852,
          46.065852,
          46.065852,
          46.065852,
          46.065852,
          46.065852,
          46.065852,
          46.065852,
          46.065852,
          46.065852,
          46.065852,
          46.065852,
          46.065852
         ],
         "z": [
          "2018-05-14T18:02:18.629000",
          "2018-05-14T18:32:18.615000",
          "2018-05-14T19:02:18.621000",
          "2018-05-15T18:02:18.621000",
          "2018-05-15T19:32:18.622000",
          "2018-05-15T21:02:18.651000",
          "2018-05-15T21:32:18.622000",
          "2018-05-15T23:02:18.623000",
          "2018-05-16T00:32:18.646000",
          "2018-05-16T01:02:18.743000",
          "2018-05-16T13:32:18.702000",
          "2018-05-16T17:02:18.656000",
          "2018-05-16T17:32:18.626000",
          "2018-05-16T18:02:18.628000",
          "2018-05-16T18:32:18.623000",
          "2018-05-16T19:32:18.621000",
          "2018-05-16T21:32:18.634000",
          "2018-05-16T22:02:18.623000",
          "2018-05-16T22:32:18.616000",
          "2018-05-16T23:32:18.614000",
          "2018-05-17T00:02:18.629000",
          "2018-05-17T00:32:18.624000",
          "2018-05-17T01:02:18.616000",
          "2018-05-17T01:32:18.620000",
          "2018-05-19T12:32:18.613000",
          "2018-05-19T13:02:18.612000",
          "2018-05-19T13:32:18.611000",
          "2018-05-20T13:02:18.611000",
          "2018-05-20T14:32:18.620000",
          "2018-05-20T15:02:18.744000",
          "2018-05-20T15:32:18.615000",
          "2018-05-20T16:02:18.621000",
          "2018-05-20T16:32:18.612000",
          "2018-05-20T17:02:18.626000",
          "2018-05-20T17:32:18.609000",
          "2018-05-20T19:02:18.614000",
          "2018-05-20T20:02:18.630000",
          "2018-05-20T20:32:18.618000",
          "2018-05-20T21:02:18.610000",
          "2018-05-20T21:32:18.678000",
          "2018-05-20T22:02:18.610000",
          "2018-05-21T17:02:18.622000",
          "2018-05-21T17:32:18.610000",
          "2018-05-21T18:02:18.637000",
          "2018-05-21T18:32:18.619000"
         ]
        }
       ],
       "layout": {
        "autosize": false,
        "height": 600,
        "legend": {
         "title": {
          "text": "mood"
         },
         "tracegroupgap": 0
        },
        "margin": {
         "t": 60
        },
        "scene": {
         "domain": {
          "x": [
           0,
           1
          ],
          "y": [
           0,
           1
          ]
         },
         "xaxis": {
          "title": {
           "text": "longitude_home"
          }
         },
         "yaxis": {
          "title": {
           "text": "latitude_home"
          }
         },
         "zaxis": {
          "title": {
           "text": "Time"
          }
         }
        },
        "template": {
         "data": {
          "bar": [
           {
            "error_x": {
             "color": "#2a3f5f"
            },
            "error_y": {
             "color": "#2a3f5f"
            },
            "marker": {
             "line": {
              "color": "#E5ECF6",
              "width": 0.5
             },
             "pattern": {
              "fillmode": "overlay",
              "size": 10,
              "solidity": 0.2
             }
            },
            "type": "bar"
           }
          ],
          "barpolar": [
           {
            "marker": {
             "line": {
              "color": "#E5ECF6",
              "width": 0.5
             },
             "pattern": {
              "fillmode": "overlay",
              "size": 10,
              "solidity": 0.2
             }
            },
            "type": "barpolar"
           }
          ],
          "carpet": [
           {
            "aaxis": {
             "endlinecolor": "#2a3f5f",
             "gridcolor": "white",
             "linecolor": "white",
             "minorgridcolor": "white",
             "startlinecolor": "#2a3f5f"
            },
            "baxis": {
             "endlinecolor": "#2a3f5f",
             "gridcolor": "white",
             "linecolor": "white",
             "minorgridcolor": "white",
             "startlinecolor": "#2a3f5f"
            },
            "type": "carpet"
           }
          ],
          "choropleth": [
           {
            "colorbar": {
             "outlinewidth": 0,
             "ticks": ""
            },
            "type": "choropleth"
           }
          ],
          "contour": [
           {
            "colorbar": {
             "outlinewidth": 0,
             "ticks": ""
            },
            "colorscale": [
             [
              0,
              "#0d0887"
             ],
             [
              0.1111111111111111,
              "#46039f"
             ],
             [
              0.2222222222222222,
              "#7201a8"
             ],
             [
              0.3333333333333333,
              "#9c179e"
             ],
             [
              0.4444444444444444,
              "#bd3786"
             ],
             [
              0.5555555555555556,
              "#d8576b"
             ],
             [
              0.6666666666666666,
              "#ed7953"
             ],
             [
              0.7777777777777778,
              "#fb9f3a"
             ],
             [
              0.8888888888888888,
              "#fdca26"
             ],
             [
              1,
              "#f0f921"
             ]
            ],
            "type": "contour"
           }
          ],
          "contourcarpet": [
           {
            "colorbar": {
             "outlinewidth": 0,
             "ticks": ""
            },
            "type": "contourcarpet"
           }
          ],
          "heatmap": [
           {
            "colorbar": {
             "outlinewidth": 0,
             "ticks": ""
            },
            "colorscale": [
             [
              0,
              "#0d0887"
             ],
             [
              0.1111111111111111,
              "#46039f"
             ],
             [
              0.2222222222222222,
              "#7201a8"
             ],
             [
              0.3333333333333333,
              "#9c179e"
             ],
             [
              0.4444444444444444,
              "#bd3786"
             ],
             [
              0.5555555555555556,
              "#d8576b"
             ],
             [
              0.6666666666666666,
              "#ed7953"
             ],
             [
              0.7777777777777778,
              "#fb9f3a"
             ],
             [
              0.8888888888888888,
              "#fdca26"
             ],
             [
              1,
              "#f0f921"
             ]
            ],
            "type": "heatmap"
           }
          ],
          "heatmapgl": [
           {
            "colorbar": {
             "outlinewidth": 0,
             "ticks": ""
            },
            "colorscale": [
             [
              0,
              "#0d0887"
             ],
             [
              0.1111111111111111,
              "#46039f"
             ],
             [
              0.2222222222222222,
              "#7201a8"
             ],
             [
              0.3333333333333333,
              "#9c179e"
             ],
             [
              0.4444444444444444,
              "#bd3786"
             ],
             [
              0.5555555555555556,
              "#d8576b"
             ],
             [
              0.6666666666666666,
              "#ed7953"
             ],
             [
              0.7777777777777778,
              "#fb9f3a"
             ],
             [
              0.8888888888888888,
              "#fdca26"
             ],
             [
              1,
              "#f0f921"
             ]
            ],
            "type": "heatmapgl"
           }
          ],
          "histogram": [
           {
            "marker": {
             "pattern": {
              "fillmode": "overlay",
              "size": 10,
              "solidity": 0.2
             }
            },
            "type": "histogram"
           }
          ],
          "histogram2d": [
           {
            "colorbar": {
             "outlinewidth": 0,
             "ticks": ""
            },
            "colorscale": [
             [
              0,
              "#0d0887"
             ],
             [
              0.1111111111111111,
              "#46039f"
             ],
             [
              0.2222222222222222,
              "#7201a8"
             ],
             [
              0.3333333333333333,
              "#9c179e"
             ],
             [
              0.4444444444444444,
              "#bd3786"
             ],
             [
              0.5555555555555556,
              "#d8576b"
             ],
             [
              0.6666666666666666,
              "#ed7953"
             ],
             [
              0.7777777777777778,
              "#fb9f3a"
             ],
             [
              0.8888888888888888,
              "#fdca26"
             ],
             [
              1,
              "#f0f921"
             ]
            ],
            "type": "histogram2d"
           }
          ],
          "histogram2dcontour": [
           {
            "colorbar": {
             "outlinewidth": 0,
             "ticks": ""
            },
            "colorscale": [
             [
              0,
              "#0d0887"
             ],
             [
              0.1111111111111111,
              "#46039f"
             ],
             [
              0.2222222222222222,
              "#7201a8"
             ],
             [
              0.3333333333333333,
              "#9c179e"
             ],
             [
              0.4444444444444444,
              "#bd3786"
             ],
             [
              0.5555555555555556,
              "#d8576b"
             ],
             [
              0.6666666666666666,
              "#ed7953"
             ],
             [
              0.7777777777777778,
              "#fb9f3a"
             ],
             [
              0.8888888888888888,
              "#fdca26"
             ],
             [
              1,
              "#f0f921"
             ]
            ],
            "type": "histogram2dcontour"
           }
          ],
          "mesh3d": [
           {
            "colorbar": {
             "outlinewidth": 0,
             "ticks": ""
            },
            "type": "mesh3d"
           }
          ],
          "parcoords": [
           {
            "line": {
             "colorbar": {
              "outlinewidth": 0,
              "ticks": ""
             }
            },
            "type": "parcoords"
           }
          ],
          "pie": [
           {
            "automargin": true,
            "type": "pie"
           }
          ],
          "scatter": [
           {
            "marker": {
             "colorbar": {
              "outlinewidth": 0,
              "ticks": ""
             }
            },
            "type": "scatter"
           }
          ],
          "scatter3d": [
           {
            "line": {
             "colorbar": {
              "outlinewidth": 0,
              "ticks": ""
             }
            },
            "marker": {
             "colorbar": {
              "outlinewidth": 0,
              "ticks": ""
             }
            },
            "type": "scatter3d"
           }
          ],
          "scattercarpet": [
           {
            "marker": {
             "colorbar": {
              "outlinewidth": 0,
              "ticks": ""
             }
            },
            "type": "scattercarpet"
           }
          ],
          "scattergeo": [
           {
            "marker": {
             "colorbar": {
              "outlinewidth": 0,
              "ticks": ""
             }
            },
            "type": "scattergeo"
           }
          ],
          "scattergl": [
           {
            "marker": {
             "colorbar": {
              "outlinewidth": 0,
              "ticks": ""
             }
            },
            "type": "scattergl"
           }
          ],
          "scattermapbox": [
           {
            "marker": {
             "colorbar": {
              "outlinewidth": 0,
              "ticks": ""
             }
            },
            "type": "scattermapbox"
           }
          ],
          "scatterpolar": [
           {
            "marker": {
             "colorbar": {
              "outlinewidth": 0,
              "ticks": ""
             }
            },
            "type": "scatterpolar"
           }
          ],
          "scatterpolargl": [
           {
            "marker": {
             "colorbar": {
              "outlinewidth": 0,
              "ticks": ""
             }
            },
            "type": "scatterpolargl"
           }
          ],
          "scatterternary": [
           {
            "marker": {
             "colorbar": {
              "outlinewidth": 0,
              "ticks": ""
             }
            },
            "type": "scatterternary"
           }
          ],
          "surface": [
           {
            "colorbar": {
             "outlinewidth": 0,
             "ticks": ""
            },
            "colorscale": [
             [
              0,
              "#0d0887"
             ],
             [
              0.1111111111111111,
              "#46039f"
             ],
             [
              0.2222222222222222,
              "#7201a8"
             ],
             [
              0.3333333333333333,
              "#9c179e"
             ],
             [
              0.4444444444444444,
              "#bd3786"
             ],
             [
              0.5555555555555556,
              "#d8576b"
             ],
             [
              0.6666666666666666,
              "#ed7953"
             ],
             [
              0.7777777777777778,
              "#fb9f3a"
             ],
             [
              0.8888888888888888,
              "#fdca26"
             ],
             [
              1,
              "#f0f921"
             ]
            ],
            "type": "surface"
           }
          ],
          "table": [
           {
            "cells": {
             "fill": {
              "color": "#EBF0F8"
             },
             "line": {
              "color": "white"
             }
            },
            "header": {
             "fill": {
              "color": "#C8D4E3"
             },
             "line": {
              "color": "white"
             }
            },
            "type": "table"
           }
          ]
         },
         "layout": {
          "annotationdefaults": {
           "arrowcolor": "#2a3f5f",
           "arrowhead": 0,
           "arrowwidth": 1
          },
          "autotypenumbers": "strict",
          "coloraxis": {
           "colorbar": {
            "outlinewidth": 0,
            "ticks": ""
           }
          },
          "colorscale": {
           "diverging": [
            [
             0,
             "#8e0152"
            ],
            [
             0.1,
             "#c51b7d"
            ],
            [
             0.2,
             "#de77ae"
            ],
            [
             0.3,
             "#f1b6da"
            ],
            [
             0.4,
             "#fde0ef"
            ],
            [
             0.5,
             "#f7f7f7"
            ],
            [
             0.6,
             "#e6f5d0"
            ],
            [
             0.7,
             "#b8e186"
            ],
            [
             0.8,
             "#7fbc41"
            ],
            [
             0.9,
             "#4d9221"
            ],
            [
             1,
             "#276419"
            ]
           ],
           "sequential": [
            [
             0,
             "#0d0887"
            ],
            [
             0.1111111111111111,
             "#46039f"
            ],
            [
             0.2222222222222222,
             "#7201a8"
            ],
            [
             0.3333333333333333,
             "#9c179e"
            ],
            [
             0.4444444444444444,
             "#bd3786"
            ],
            [
             0.5555555555555556,
             "#d8576b"
            ],
            [
             0.6666666666666666,
             "#ed7953"
            ],
            [
             0.7777777777777778,
             "#fb9f3a"
            ],
            [
             0.8888888888888888,
             "#fdca26"
            ],
            [
             1,
             "#f0f921"
            ]
           ],
           "sequentialminus": [
            [
             0,
             "#0d0887"
            ],
            [
             0.1111111111111111,
             "#46039f"
            ],
            [
             0.2222222222222222,
             "#7201a8"
            ],
            [
             0.3333333333333333,
             "#9c179e"
            ],
            [
             0.4444444444444444,
             "#bd3786"
            ],
            [
             0.5555555555555556,
             "#d8576b"
            ],
            [
             0.6666666666666666,
             "#ed7953"
            ],
            [
             0.7777777777777778,
             "#fb9f3a"
            ],
            [
             0.8888888888888888,
             "#fdca26"
            ],
            [
             1,
             "#f0f921"
            ]
           ]
          },
          "colorway": [
           "#636efa",
           "#EF553B",
           "#00cc96",
           "#ab63fa",
           "#FFA15A",
           "#19d3f3",
           "#FF6692",
           "#B6E880",
           "#FF97FF",
           "#FECB52"
          ],
          "font": {
           "color": "#2a3f5f"
          },
          "geo": {
           "bgcolor": "white",
           "lakecolor": "white",
           "landcolor": "#E5ECF6",
           "showlakes": true,
           "showland": true,
           "subunitcolor": "white"
          },
          "hoverlabel": {
           "align": "left"
          },
          "hovermode": "closest",
          "mapbox": {
           "style": "light"
          },
          "paper_bgcolor": "white",
          "plot_bgcolor": "#E5ECF6",
          "polar": {
           "angularaxis": {
            "gridcolor": "white",
            "linecolor": "white",
            "ticks": ""
           },
           "bgcolor": "#E5ECF6",
           "radialaxis": {
            "gridcolor": "white",
            "linecolor": "white",
            "ticks": ""
           }
          },
          "scene": {
           "xaxis": {
            "backgroundcolor": "#E5ECF6",
            "gridcolor": "white",
            "gridwidth": 2,
            "linecolor": "white",
            "showbackground": true,
            "ticks": "",
            "zerolinecolor": "white"
           },
           "yaxis": {
            "backgroundcolor": "#E5ECF6",
            "gridcolor": "white",
            "gridwidth": 2,
            "linecolor": "white",
            "showbackground": true,
            "ticks": "",
            "zerolinecolor": "white"
           },
           "zaxis": {
            "backgroundcolor": "#E5ECF6",
            "gridcolor": "white",
            "gridwidth": 2,
            "linecolor": "white",
            "showbackground": true,
            "ticks": "",
            "zerolinecolor": "white"
           }
          },
          "shapedefaults": {
           "line": {
            "color": "#2a3f5f"
           }
          },
          "ternary": {
           "aaxis": {
            "gridcolor": "white",
            "linecolor": "white",
            "ticks": ""
           },
           "baxis": {
            "gridcolor": "white",
            "linecolor": "white",
            "ticks": ""
           },
           "bgcolor": "#E5ECF6",
           "caxis": {
            "gridcolor": "white",
            "linecolor": "white",
            "ticks": ""
           }
          },
          "title": {
           "x": 0.05
          },
          "xaxis": {
           "automargin": true,
           "gridcolor": "white",
           "linecolor": "white",
           "ticks": "",
           "title": {
            "standoff": 15
           },
           "zerolinecolor": "white",
           "zerolinewidth": 2
          },
          "yaxis": {
           "automargin": true,
           "gridcolor": "white",
           "linecolor": "white",
           "ticks": "",
           "title": {
            "standoff": 15
           },
           "zerolinecolor": "white",
           "zerolinewidth": 2
          }
         }
        },
        "title": {
         "text": "subject_2- 4D visualization(time-space-cube + mood)  "
        },
        "width": 800
       }
      },
      "text/html": [
       "<div>                            <div id=\"8613c9e0-0ea8-4621-b68c-d415d6849927\" class=\"plotly-graph-div\" style=\"height:600px; width:800px;\"></div>            <script type=\"text/javascript\">                require([\"plotly\"], function(Plotly) {                    window.PLOTLYENV=window.PLOTLYENV || {};                                    if (document.getElementById(\"8613c9e0-0ea8-4621-b68c-d415d6849927\")) {                    Plotly.newPlot(                        \"8613c9e0-0ea8-4621-b68c-d415d6849927\",                        [{\"hovertemplate\":\"<b>%{hovertext}</b><br><br>mood=Fairly happy<br>longitude_home=%{x}<br>latitude_home=%{y}<br>Time=%{z}<extra></extra>\",\"hovertext\":[\"Via Antonio Rosmini\",\"Via Antonio Rosmini\",\"Via Antonio Rosmini\",\"Via Antonio Rosmini\",\"Via Antonio Rosmini\",\"Via Antonio Rosmini\",\"Via Antonio Rosmini\",\"Via Antonio Rosmini\",\"Via Antonio Rosmini\",\"Via Antonio Rosmini\",\"Via Antonio Rosmini\",\"Via Antonio Rosmini\",\"Via Antonio Rosmini\",\"Via Antonio Rosmini\",\"Via Antonio Rosmini\",\"Via Antonio Rosmini\",\"Via Antonio Rosmini\",\"Via Antonio Rosmini\",\"Via Antonio Rosmini\",\"Via Antonio Rosmini\",\"Via Antonio Rosmini\",\"Via Antonio Rosmini\",\"Via Antonio Rosmini\",\"Via Antonio Rosmini\",\"Via Antonio Rosmini\",\"Via Antonio Rosmini\",\"Via Antonio Rosmini\",\"Via Antonio Rosmini\",\"Via Antonio Rosmini\",\"Via Antonio Rosmini\",\"Via Antonio Rosmini\",\"Via Antonio Rosmini\",\"Via Antonio Rosmini\",\"Via Antonio Rosmini\",\"Via Antonio Rosmini\",\"Via Antonio Rosmini\",\"Via Antonio Rosmini\",\"Via Antonio Rosmini\",\"Via Antonio Rosmini\",\"Via Antonio Rosmini\",\"Via Antonio Rosmini\",\"Via Antonio Rosmini\",\"Via Antonio Rosmini\",\"Via Antonio Rosmini\",\"Via Antonio Rosmini\",\"Via Antonio Rosmini\",\"Via Antonio Rosmini\",\"Via Antonio Rosmini\",\"Via Antonio Rosmini\",\"Via Antonio Rosmini\",\"Via Antonio Rosmini\",\"Via Antonio Rosmini\",\"Via Antonio Rosmini\",\"Via Antonio Rosmini\",\"Via Antonio Rosmini\",\"Via Antonio Rosmini\",\"Via Antonio Rosmini\",\"Via Antonio Rosmini\",\"Via Antonio Rosmini\",\"Via Antonio Rosmini\",\"Via Antonio Rosmini\",\"Via Antonio Rosmini\",\"Via Antonio Rosmini\",\"Via Antonio Rosmini\",\"Via Antonio Rosmini\",\"Via Antonio Rosmini\",\"Via Antonio Rosmini\",\"Via Antonio Rosmini\",\"Via Antonio Rosmini\",\"Via Antonio Rosmini\",\"Via Antonio Rosmini\",\"Via Antonio Rosmini\",\"Via Antonio Rosmini\",\"Via Antonio Rosmini\",\"Via Antonio Rosmini\",\"Via Antonio Rosmini\",\"Via Antonio Rosmini\",\"Via Antonio Rosmini\",\"Via Antonio Rosmini\",\"Via Antonio Rosmini\",\"Via Antonio Rosmini\",\"Via Antonio Rosmini\",\"Via Antonio Rosmini\",\"Via Antonio Rosmini\",\"Via Antonio Rosmini\",\"Via Antonio Rosmini\",\"Via Antonio Rosmini\",\"Via Antonio Rosmini\",\"Via Antonio Rosmini\",\"Via Antonio Rosmini\",\"Via Antonio Rosmini\",\"Via Antonio Rosmini\",\"Via Antonio Rosmini\",\"Via Antonio Rosmini\",\"Via Antonio Rosmini\",\"Via Antonio Rosmini\",\"Via Antonio Rosmini\",\"Via Antonio Rosmini\",\"Via Antonio Rosmini\",\"Via Antonio Rosmini\",\"Via Antonio Rosmini\",\"Via Antonio Rosmini\",\"Via Antonio Rosmini\",\"Via Antonio Rosmini\",\"Via Antonio Rosmini\",\"Via Antonio Rosmini\",\"Via Antonio Rosmini\",\"Via Antonio Rosmini\",\"Via Antonio Rosmini\",\"Via Antonio Rosmini\",\"Via Antonio Rosmini\",\"Via Antonio Rosmini\",\"Via Antonio Rosmini\",\"Via Antonio Rosmini\",\"Via Antonio Rosmini\",\"Via Antonio Rosmini\",\"Via Antonio Rosmini\",\"Via Antonio Rosmini\",\"Via Antonio Rosmini\",\"Via Antonio Rosmini\",\"Via Antonio Rosmini\",\"Via Antonio Rosmini\",\"Via Antonio Rosmini\",\"Via Antonio Rosmini\",\"Via Antonio Rosmini\",\"Via Antonio Rosmini\",\"Via Antonio Rosmini\",\"Via Antonio Rosmini\",\"Via Antonio Rosmini\",\"Via Antonio Rosmini\",\"Via Antonio Rosmini\"],\"legendgroup\":\"Fairly happy\",\"line\":{\"color\":\"#636efa\",\"dash\":\"solid\",\"width\":5},\"marker\":{\"symbol\":\"circle\"},\"mode\":\"lines\",\"name\":\"Fairly happy\",\"scene\":\"scene\",\"showlegend\":true,\"x\":[11.119008,11.119008,11.119008,11.119008,11.119008,11.119008,11.119008,11.119008,11.119008,11.119008,11.119008,11.119008,11.119008,11.119008,11.119008,11.119008,11.119008,11.119008,11.119008,11.119008,11.119008,11.119008,11.119008,11.119008,11.119008,11.119008,11.119008,11.119008,11.119008,11.119008,11.119008,11.119008,11.119008,11.119008,11.119008,11.119008,11.119008,11.119008,11.119008,11.119008,11.119008,11.119008,11.119008,11.119008,11.119008,11.119008,11.119008,11.119008,11.119008,11.119008,11.119008,11.119008,11.119008,11.119008,11.119008,11.119008,11.119008,11.119008,11.119008,11.119008,11.119008,11.119008,11.119008,11.119008,11.119008,11.119008,11.119008,11.119008,11.119008,11.119008,11.119008,11.119008,11.119008,11.119008,11.119008,11.119008,11.119008,11.119008,11.119008,11.119008,11.119008,11.119008,11.119008,11.119008,11.119008,11.119008,11.119008,11.119008,11.119008,11.119008,11.119008,11.119008,11.119008,11.119008,11.119008,11.119008,11.119008,11.119008,11.119008,11.119008,11.119008,11.119008,11.119008,11.119008,11.119008,11.119008,11.119008,11.119008,11.119008,11.119008,11.119008,11.119008,11.119008,11.119008,11.119008,11.119008,11.119008,11.119008,11.119008,11.119008,11.119008,11.119008,11.119008,11.119008,11.119008,11.119008,11.119008,11.119008,11.119008,11.119008,11.119008],\"y\":[46.065852,46.065852,46.065852,46.065852,46.065852,46.065852,46.065852,46.065852,46.065852,46.065852,46.065852,46.065852,46.065852,46.065852,46.065852,46.065852,46.065852,46.065852,46.065852,46.065852,46.065852,46.065852,46.065852,46.065852,46.065852,46.065852,46.065852,46.065852,46.065852,46.065852,46.065852,46.065852,46.065852,46.065852,46.065852,46.065852,46.065852,46.065852,46.065852,46.065852,46.065852,46.065852,46.065852,46.065852,46.065852,46.065852,46.065852,46.065852,46.065852,46.065852,46.065852,46.065852,46.065852,46.065852,46.065852,46.065852,46.065852,46.065852,46.065852,46.065852,46.065852,46.065852,46.065852,46.065852,46.065852,46.065852,46.065852,46.065852,46.065852,46.065852,46.065852,46.065852,46.065852,46.065852,46.065852,46.065852,46.065852,46.065852,46.065852,46.065852,46.065852,46.065852,46.065852,46.065852,46.065852,46.065852,46.065852,46.065852,46.065852,46.065852,46.065852,46.065852,46.065852,46.065852,46.065852,46.065852,46.065852,46.065852,46.065852,46.065852,46.065852,46.065852,46.065852,46.065852,46.065852,46.065852,46.065852,46.065852,46.065852,46.065852,46.065852,46.065852,46.065852,46.065852,46.065852,46.065852,46.065852,46.065852,46.065852,46.065852,46.065852,46.065852,46.065852,46.065852,46.065852,46.065852,46.065852,46.065852,46.065852,46.065852,46.065852],\"z\":[\"2018-05-10T00:02:18.790000\",\"2018-05-10T00:32:18.635000\",\"2018-05-10T01:02:18.641000\",\"2018-05-10T01:32:18.620000\",\"2018-05-10T02:02:18.631000\",\"2018-05-10T02:32:18.613000\",\"2018-05-10T03:02:18.624000\",\"2018-05-10T09:32:18.619000\",\"2018-05-10T10:02:18.627000\",\"2018-05-10T10:32:18.621000\",\"2018-05-10T11:02:18.619000\",\"2018-05-10T11:32:18.614000\",\"2018-05-10T12:02:18.619000\",\"2018-05-10T14:02:18.627000\",\"2018-05-10T15:02:58.394000\",\"2018-05-10T17:02:18.623000\",\"2018-05-10T17:32:18.620000\",\"2018-05-10T18:32:18.612000\",\"2018-05-10T19:02:18.634000\",\"2018-05-10T19:32:18.666000\",\"2018-05-10T20:32:18.620000\",\"2018-05-10T21:02:18.624000\",\"2018-05-10T21:32:18.626000\",\"2018-05-10T22:02:18.626000\",\"2018-05-10T22:32:18.616000\",\"2018-05-10T23:02:18.635000\",\"2018-05-10T23:32:18.722000\",\"2018-05-11T00:02:18.635000\",\"2018-05-11T00:32:18.626000\",\"2018-05-11T01:02:18.632000\",\"2018-05-11T10:32:18.616000\",\"2018-05-11T11:02:18.616000\",\"2018-05-11T11:32:18.667000\",\"2018-05-11T12:02:18.624000\",\"2018-05-11T12:32:18.633000\",\"2018-05-11T13:02:18.628000\",\"2018-05-11T13:32:18.638000\",\"2018-05-11T14:02:18.617000\",\"2018-05-11T14:32:18.624000\",\"2018-05-11T15:02:18.703000\",\"2018-05-11T15:32:18.633000\",\"2018-05-11T16:02:18.629000\",\"2018-05-11T17:02:18.612000\",\"2018-05-11T17:32:18.613000\",\"2018-05-11T18:02:18.620000\",\"2018-05-11T19:32:18.613000\",\"2018-05-11T20:02:18.621000\",\"2018-05-11T21:32:18.629000\",\"2018-05-11T22:02:18.619000\",\"2018-05-11T22:32:18.627000\",\"2018-05-12T02:32:18.621000\",\"2018-05-12T17:32:18.622000\",\"2018-05-12T18:02:18.621000\",\"2018-05-12T18:32:18.613000\",\"2018-05-12T19:32:18.612000\",\"2018-05-12T20:02:18.623000\",\"2018-05-12T22:02:18.631000\",\"2018-05-13T00:02:18.618000\",\"2018-05-13T00:32:18.630000\",\"2018-05-13T13:02:18.623000\",\"2018-05-13T13:32:18.629000\",\"2018-05-13T14:32:18.610000\",\"2018-05-13T15:02:18.652000\",\"2018-05-13T15:32:18.614000\",\"2018-05-13T16:32:18.614000\",\"2018-05-13T17:32:18.655000\",\"2018-05-13T18:02:18.616000\",\"2018-05-13T18:32:18.611000\",\"2018-05-13T19:02:18.619000\",\"2018-05-13T19:32:18.616000\",\"2018-05-13T21:02:18.612000\",\"2018-05-13T22:02:18.612000\",\"2018-05-13T22:32:18.618000\",\"2018-05-14T02:32:18.618000\",\"2018-05-14T08:32:18.614000\",\"2018-05-14T12:02:18.619000\",\"2018-05-14T14:02:18.628000\",\"2018-05-14T14:32:18.621000\",\"2018-05-14T16:02:18.679000\",\"2018-05-14T16:32:18.614000\",\"2018-05-14T17:32:18.681000\",\"2018-05-14T21:02:18.612000\",\"2018-05-14T21:32:18.610000\",\"2018-05-14T22:02:18.610000\",\"2018-05-14T22:32:18.611000\",\"2018-05-15T11:32:18.613000\",\"2018-05-15T12:02:18.682000\",\"2018-05-15T12:32:18.628000\",\"2018-05-15T13:02:18.612000\",\"2018-05-15T15:02:18.617000\",\"2018-05-15T15:32:18.615000\",\"2018-05-16T01:32:18.627000\",\"2018-05-16T02:02:18.628000\",\"2018-05-19T23:02:18.610000\",\"2018-05-20T00:32:18.629000\",\"2018-05-21T12:32:18.609000\",\"2018-05-21T13:02:18.612000\",\"2018-05-21T13:32:18.610000\",\"2018-05-21T14:02:18.611000\",\"2018-05-21T20:02:18.614000\",\"2018-05-21T23:02:18.614000\",\"2018-05-22T12:32:18.619000\",\"2018-05-22T13:02:18.613000\",\"2018-05-22T13:32:18.616000\",\"2018-05-22T14:02:18.849000\",\"2018-05-22T14:32:18.865000\",\"2018-05-22T15:32:18.617000\",\"2018-05-22T16:02:18.611000\",\"2018-05-22T16:32:18.610000\",\"2018-05-22T17:02:18.610000\",\"2018-05-22T17:32:18.659000\",\"2018-05-22T18:02:18.622000\",\"2018-05-22T18:32:18.611000\",\"2018-05-22T19:02:18.615000\",\"2018-05-22T19:32:18.702000\",\"2018-05-22T20:02:18.617000\",\"2018-05-22T20:32:18.612000\",\"2018-05-22T21:02:18.666000\",\"2018-05-22T21:32:18.609000\",\"2018-05-23T00:02:18.613000\",\"2018-05-23T00:32:18.613000\",\"2018-05-23T01:02:18.615000\",\"2018-05-23T01:32:18.621000\",\"2018-05-23T11:32:18.645000\",\"2018-05-23T12:02:18.620000\",\"2018-05-23T12:32:18.637000\",\"2018-05-23T13:02:18.624000\",\"2018-05-23T13:32:18.624000\",\"2018-05-23T14:02:18.679000\",\"2018-05-23T14:32:18.640000\",\"2018-05-23T21:02:18.625000\"],\"type\":\"scatter3d\"},{\"hovertemplate\":\"<b>%{hovertext}</b><br><br>mood=missing_val<br>longitude_home=%{x}<br>latitude_home=%{y}<br>Time=%{z}<extra></extra>\",\"hovertext\":[\"Via Antonio Rosmini\",\"Via Antonio Rosmini\",\"Via Antonio Rosmini\",\"Via Antonio Rosmini\",\"Via Antonio Rosmini\",\"Via Antonio Rosmini\",\"Via Antonio Rosmini\",\"Via Antonio Rosmini\",\"Via Antonio Rosmini\",\"Via Antonio Rosmini\",\"Via Antonio Rosmini\",\"Via Antonio Rosmini\",\"Via Antonio Rosmini\",\"Via Antonio Rosmini\",\"Via Antonio Rosmini\",\"Via Antonio Rosmini\",\"Via Antonio Rosmini\",\"Via Antonio Rosmini\",\"Via Antonio Rosmini\",\"Via Antonio Rosmini\",\"Via Antonio Rosmini\",\"Via Antonio Rosmini\",\"Via Antonio Rosmini\",\"Via Antonio Rosmini\",\"Via Antonio Rosmini\",\"Via Antonio Rosmini\",\"Via Antonio Rosmini\",\"Via Antonio Rosmini\",\"Via Antonio Rosmini\",\"Via Antonio Rosmini\",\"Via Antonio Rosmini\",\"Via Antonio Rosmini\",\"Via Antonio Rosmini\",\"Via Antonio Rosmini\",\"Via Antonio Rosmini\",\"Via Antonio Rosmini\",\"Via Antonio Rosmini\",\"Via Antonio Rosmini\",\"Via Antonio Rosmini\",\"Via Antonio Rosmini\",\"Via Antonio Rosmini\",\"Via Antonio Rosmini\",\"Via Antonio Rosmini\",\"Via Antonio Rosmini\",\"Via Antonio Rosmini\",\"Via Antonio Rosmini\",\"Via Antonio Rosmini\",\"Via Antonio Rosmini\",\"Via Antonio Rosmini\",\"Via Antonio Rosmini\",\"Via Antonio Rosmini\",\"Via Antonio Rosmini\",\"Via Antonio Rosmini\",\"Via Antonio Rosmini\",\"Via Antonio Rosmini\",\"Via Antonio Rosmini\",\"Via Antonio Rosmini\",\"Via Antonio Rosmini\",\"Via Antonio Rosmini\",\"Via Antonio Rosmini\",\"Via Antonio Rosmini\",\"Via Antonio Rosmini\",\"Via Antonio Rosmini\",\"Via Antonio Rosmini\",\"Via Antonio Rosmini\",\"Via Antonio Rosmini\",\"Via Antonio Rosmini\",\"Via Antonio Rosmini\",\"Via Antonio Rosmini\",\"Via Antonio Rosmini\",\"Via Antonio Rosmini\",\"Via Antonio Rosmini\",\"Via Antonio Rosmini\",\"Via Antonio Rosmini\",\"Via Antonio Rosmini\",\"Via Antonio Rosmini\",\"Via Antonio Rosmini\",\"Via Antonio Rosmini\",\"Via Antonio Rosmini\",\"Via Antonio Rosmini\",\"Via Antonio Rosmini\",\"Via Antonio Rosmini\",\"Via Antonio Rosmini\",\"Via Antonio Rosmini\",\"Via Antonio Rosmini\",\"Via Antonio Rosmini\",\"Via Antonio Rosmini\",\"Via Antonio Rosmini\",\"Via Antonio Rosmini\",\"Via Antonio Rosmini\",\"Via Antonio Rosmini\",\"Via Antonio Rosmini\",\"Via Antonio Rosmini\",\"Via Antonio Rosmini\",\"Via Antonio Rosmini\",\"Via Antonio Rosmini\",\"Via Antonio Rosmini\",\"Via Antonio Rosmini\",\"Via Antonio Rosmini\",\"Via Antonio Rosmini\",\"Via Antonio Rosmini\",\"Via Antonio Rosmini\",\"Via Antonio Rosmini\",\"Via Antonio Rosmini\",\"Via Antonio Rosmini\",\"Via Antonio Rosmini\",\"Via Antonio Rosmini\",\"Via Antonio Rosmini\",\"Via Antonio Rosmini\",\"Via Antonio Rosmini\",\"Via Antonio Rosmini\",\"Via Antonio Rosmini\",\"Via Antonio Rosmini\",\"Via Antonio Rosmini\",\"Via Antonio Rosmini\",\"Via Antonio Rosmini\",\"Via Antonio Rosmini\",\"Via Antonio Rosmini\",\"Via Antonio Rosmini\",\"Via Antonio Rosmini\",\"Via Antonio Rosmini\",\"Via Antonio Rosmini\",\"Via Antonio Rosmini\",\"Via Antonio Rosmini\",\"Via Antonio Rosmini\",\"Via Antonio Rosmini\",\"Via Antonio Rosmini\",\"Via Antonio Rosmini\",\"Via Antonio Rosmini\",\"Via Antonio Rosmini\",\"Via Antonio Rosmini\",\"Via Antonio Rosmini\",\"Via Antonio Rosmini\",\"Via Antonio Rosmini\",\"Via Antonio Rosmini\",\"Via Antonio Rosmini\",\"Via Antonio Rosmini\",\"Via Antonio Rosmini\",\"Via Antonio Rosmini\",\"Via Antonio Rosmini\",\"Via Antonio Rosmini\",\"Via Antonio Rosmini\",\"Via Antonio Rosmini\",\"Via Antonio Rosmini\",\"Via Antonio Rosmini\",\"Via Antonio Rosmini\",\"Via Antonio Rosmini\",\"Via Antonio Rosmini\",\"Via Antonio Rosmini\",\"Via Antonio Rosmini\",\"Via Antonio Rosmini\",\"Via Antonio Rosmini\",\"Via Antonio Rosmini\",\"Via Antonio Rosmini\",\"Via Antonio Rosmini\",\"Via Antonio Rosmini\",\"Via Antonio Rosmini\",\"Via Antonio Rosmini\",\"Via Antonio Rosmini\",\"Via Antonio Rosmini\",\"Via Antonio Rosmini\",\"Via Antonio Rosmini\",\"Via Antonio Rosmini\",\"Via Antonio Rosmini\",\"Via Antonio Rosmini\",\"Via Antonio Rosmini\",\"Via Antonio Rosmini\",\"Via Antonio Rosmini\",\"Via Antonio Rosmini\",\"Via Antonio Rosmini\",\"Via Antonio Rosmini\",\"Via Antonio Rosmini\",\"Via Antonio Rosmini\",\"Via Antonio Rosmini\",\"Via Antonio Rosmini\",\"Via Antonio Rosmini\",\"Via Antonio Rosmini\",\"Via Antonio Rosmini\",\"Via Antonio Rosmini\",\"Via Antonio Rosmini\",\"Via Antonio Rosmini\",\"Via Antonio Rosmini\",\"Via Antonio Rosmini\",\"Via Antonio Rosmini\",\"Via Antonio Rosmini\",\"Via Antonio Rosmini\",\"Via Antonio Rosmini\",\"Via Antonio Rosmini\",\"Via Antonio Rosmini\",\"Via Antonio Rosmini\",\"Via Antonio Rosmini\",\"Via Antonio Rosmini\",\"Via Antonio Rosmini\",\"Via Antonio Rosmini\",\"Via Antonio Rosmini\",\"Via Antonio Rosmini\",\"Via Antonio Rosmini\",\"Via Antonio Rosmini\",\"Via Antonio Rosmini\",\"Via Antonio Rosmini\",\"Via Antonio Rosmini\",\"Via Antonio Rosmini\",\"Via Antonio Rosmini\",\"Via Antonio Rosmini\",\"Via Antonio Rosmini\",\"Via Antonio Rosmini\",\"Via Antonio Rosmini\",\"Via Antonio Rosmini\",\"Via Antonio Rosmini\",\"Via Antonio Rosmini\",\"Via Antonio Rosmini\",\"Via Antonio Rosmini\",\"Via Antonio Rosmini\",\"Via Antonio Rosmini\",\"Via Antonio Rosmini\",\"Via Antonio Rosmini\",\"Via Antonio Rosmini\",\"Via Antonio Rosmini\",\"Via Antonio Rosmini\",\"Via Antonio Rosmini\",\"Via Antonio Rosmini\",\"Via Antonio Rosmini\",\"Via Antonio Rosmini\",\"Via Antonio Rosmini\",\"Via Antonio Rosmini\",\"Via Antonio Rosmini\",\"Via Antonio Rosmini\",\"Via Antonio Rosmini\",\"Via Antonio Rosmini\",\"Via Antonio Rosmini\",\"Via Antonio Rosmini\",\"Via Antonio Rosmini\",\"Via Antonio Rosmini\",\"Via Antonio Rosmini\",\"Via Antonio Rosmini\",\"Via Antonio Rosmini\",\"Via Antonio Rosmini\",\"Via Antonio Rosmini\",\"Via Antonio Rosmini\",\"Via Antonio Rosmini\",\"Via Antonio Rosmini\",\"Via Antonio Rosmini\",\"Via Antonio Rosmini\",\"Via Antonio Rosmini\",\"Via Antonio Rosmini\",\"Via Antonio Rosmini\",\"Via Antonio Rosmini\",\"Via Antonio Rosmini\",\"Via Antonio Rosmini\",\"Via Antonio Rosmini\",\"Via Antonio Rosmini\",\"Via Antonio Rosmini\",\"Via Antonio Rosmini\",\"Via Antonio Rosmini\",\"Via Antonio Rosmini\",\"Via Antonio Rosmini\",\"Via Antonio Rosmini\",\"Via Antonio Rosmini\",\"Via Antonio Rosmini\",\"Via Antonio Rosmini\",\"Via Antonio Rosmini\",\"Via Antonio Rosmini\",\"Via Antonio Rosmini\",\"Via Antonio Rosmini\",\"Via Antonio Rosmini\",\"Via Antonio Rosmini\",\"Via Antonio Rosmini\",\"Via Antonio Rosmini\",\"Via Antonio Rosmini\",\"Via Antonio Rosmini\",\"Via Antonio Rosmini\",\"Via Antonio Rosmini\",\"Via Antonio Rosmini\",\"Via Antonio Rosmini\",\"Via Antonio Rosmini\",\"Via Antonio Rosmini\",\"Via Antonio Rosmini\",\"Via Antonio Rosmini\",\"Via Antonio Rosmini\",\"Via Antonio Rosmini\",\"Via Antonio Rosmini\"],\"legendgroup\":\"missing_val\",\"line\":{\"color\":\"#EF553B\",\"dash\":\"solid\",\"width\":5},\"marker\":{\"symbol\":\"circle\"},\"mode\":\"lines\",\"name\":\"missing_val\",\"scene\":\"scene\",\"showlegend\":true,\"x\":[11.119008,11.119008,11.119008,11.119008,11.119008,11.119008,11.119008,11.119008,11.119008,11.119008,11.119008,11.119008,11.119008,11.119008,11.119008,11.119008,11.119008,11.119008,11.119008,11.119008,11.119008,11.119008,11.119008,11.119008,11.119008,11.119008,11.119008,11.119008,11.119008,11.119008,11.119008,11.119008,11.119008,11.119008,11.119008,11.119008,11.119008,11.119008,11.119008,11.119008,11.119008,11.119008,11.119008,11.119008,11.119008,11.119008,11.119008,11.119008,11.119008,11.119008,11.119008,11.119008,11.119008,11.119008,11.119008,11.119008,11.119008,11.119008,11.119008,11.119008,11.119008,11.119008,11.119008,11.119008,11.119008,11.119008,11.119008,11.119008,11.119008,11.119008,11.119008,11.119008,11.119008,11.119008,11.119008,11.119008,11.119008,11.119008,11.119008,11.119008,11.119008,11.119008,11.119008,11.119008,11.119008,11.119008,11.119008,11.119008,11.119008,11.119008,11.119008,11.119008,11.119008,11.119008,11.119008,11.119008,11.119008,11.119008,11.119008,11.119008,11.119008,11.119008,11.119008,11.119008,11.119008,11.119008,11.119008,11.119008,11.119008,11.119008,11.119008,11.119008,11.119008,11.119008,11.119008,11.119008,11.119008,11.119008,11.119008,11.119008,11.119008,11.119008,11.119008,11.119008,11.119008,11.119008,11.119008,11.119008,11.119008,11.119008,11.119008,11.119008,11.119008,11.119008,11.119008,11.119008,11.119008,11.119008,11.119008,11.119008,11.119008,11.119008,11.119008,11.119008,11.119008,11.119008,11.119008,11.119008,11.119008,11.119008,11.119008,11.119008,11.119008,11.119008,11.119008,11.119008,11.119008,11.119008,11.119008,11.119008,11.119008,11.119008,11.119008,11.119008,11.119008,11.119008,11.119008,11.119008,11.119008,11.119008,11.119008,11.119008,11.119008,11.119008,11.119008,11.119008,11.119008,11.119008,11.119008,11.119008,11.119008,11.119008,11.119008,11.119008,11.119008,11.119008,11.119008,11.119008,11.119008,11.119008,11.119008,11.119008,11.119008,11.119008,11.119008,11.119008,11.119008,11.119008,11.119008,11.119008,11.119008,11.119008,11.119008,11.119008,11.119008,11.119008,11.119008,11.119008,11.119008,11.119008,11.119008,11.119008,11.119008,11.119008,11.119008,11.119008,11.119008,11.119008,11.119008,11.119008,11.119008,11.119008,11.119008,11.119008,11.119008,11.119008,11.119008,11.119008,11.119008,11.119008,11.119008,11.119008,11.119008,11.119008,11.119008,11.119008,11.119008,11.119008,11.119008,11.119008,11.119008,11.119008,11.119008,11.119008,11.119008,11.119008,11.119008,11.119008,11.119008,11.119008,11.119008,11.119008,11.119008,11.119008,11.119008,11.119008,11.119008,11.119008,11.119008,11.119008,11.119008,11.119008,11.119008,11.119008,11.119008,11.119008,11.119008,11.119008,11.119008,11.119008,11.119008,11.119008,11.119008,11.119008,11.119008,11.119008,11.119008,11.119008,11.119008,11.119008,11.119008],\"y\":[46.065852,46.065852,46.065852,46.065852,46.065852,46.065852,46.065852,46.065852,46.065852,46.065852,46.065852,46.065852,46.065852,46.065852,46.065852,46.065852,46.065852,46.065852,46.065852,46.065852,46.065852,46.065852,46.065852,46.065852,46.065852,46.065852,46.065852,46.065852,46.065852,46.065852,46.065852,46.065852,46.065852,46.065852,46.065852,46.065852,46.065852,46.065852,46.065852,46.065852,46.065852,46.065852,46.065852,46.065852,46.065852,46.065852,46.065852,46.065852,46.065852,46.065852,46.065852,46.065852,46.065852,46.065852,46.065852,46.065852,46.065852,46.065852,46.065852,46.065852,46.065852,46.065852,46.065852,46.065852,46.065852,46.065852,46.065852,46.065852,46.065852,46.065852,46.065852,46.065852,46.065852,46.065852,46.065852,46.065852,46.065852,46.065852,46.065852,46.065852,46.065852,46.065852,46.065852,46.065852,46.065852,46.065852,46.065852,46.065852,46.065852,46.065852,46.065852,46.065852,46.065852,46.065852,46.065852,46.065852,46.065852,46.065852,46.065852,46.065852,46.065852,46.065852,46.065852,46.065852,46.065852,46.065852,46.065852,46.065852,46.065852,46.065852,46.065852,46.065852,46.065852,46.065852,46.065852,46.065852,46.065852,46.065852,46.065852,46.065852,46.065852,46.065852,46.065852,46.065852,46.065852,46.065852,46.065852,46.065852,46.065852,46.065852,46.065852,46.065852,46.065852,46.065852,46.065852,46.065852,46.065852,46.065852,46.065852,46.065852,46.065852,46.065852,46.065852,46.065852,46.065852,46.065852,46.065852,46.065852,46.065852,46.065852,46.065852,46.065852,46.065852,46.065852,46.065852,46.065852,46.065852,46.065852,46.065852,46.065852,46.065852,46.065852,46.065852,46.065852,46.065852,46.065852,46.065852,46.065852,46.065852,46.065852,46.065852,46.065852,46.065852,46.065852,46.065852,46.065852,46.065852,46.065852,46.065852,46.065852,46.065852,46.065852,46.065852,46.065852,46.065852,46.065852,46.065852,46.065852,46.065852,46.065852,46.065852,46.065852,46.065852,46.065852,46.065852,46.065852,46.065852,46.065852,46.065852,46.065852,46.065852,46.065852,46.065852,46.065852,46.065852,46.065852,46.065852,46.065852,46.065852,46.065852,46.065852,46.065852,46.065852,46.065852,46.065852,46.065852,46.065852,46.065852,46.065852,46.065852,46.065852,46.065852,46.065852,46.065852,46.065852,46.065852,46.065852,46.065852,46.065852,46.065852,46.065852,46.065852,46.065852,46.065852,46.065852,46.065852,46.065852,46.065852,46.065852,46.065852,46.065852,46.065852,46.065852,46.065852,46.065852,46.065852,46.065852,46.065852,46.065852,46.065852,46.065852,46.065852,46.065852,46.065852,46.065852,46.065852,46.065852,46.065852,46.065852,46.065852,46.065852,46.065852,46.065852,46.065852,46.065852,46.065852,46.065852,46.065852,46.065852,46.065852,46.065852,46.065852,46.065852,46.065852,46.065852,46.065852,46.065852,46.065852,46.065852,46.065852,46.065852],\"z\":[\"2018-05-10T03:32:18\",\"2018-05-10T04:02:18\",\"2018-05-10T04:32:18\",\"2018-05-10T05:02:18\",\"2018-05-10T05:32:18\",\"2018-05-10T06:02:18\",\"2018-05-10T06:32:18\",\"2018-05-10T07:02:18\",\"2018-05-10T07:32:18\",\"2018-05-10T08:02:18\",\"2018-05-10T08:32:18\",\"2018-05-10T09:02:18\",\"2018-05-10T18:02:18\",\"2018-05-11T01:32:18\",\"2018-05-11T02:02:18\",\"2018-05-11T02:32:18\",\"2018-05-11T03:02:18\",\"2018-05-11T03:32:18\",\"2018-05-11T04:02:18\",\"2018-05-11T04:32:18\",\"2018-05-11T05:02:18\",\"2018-05-11T05:32:18\",\"2018-05-11T06:02:18\",\"2018-05-11T06:32:18\",\"2018-05-11T07:02:18\",\"2018-05-11T07:32:18\",\"2018-05-11T08:02:18\",\"2018-05-11T08:32:18\",\"2018-05-11T09:02:18\",\"2018-05-12T03:02:18\",\"2018-05-12T03:32:18\",\"2018-05-12T04:02:18\",\"2018-05-12T04:32:18\",\"2018-05-12T05:02:18\",\"2018-05-12T05:32:18\",\"2018-05-12T06:02:18\",\"2018-05-12T06:32:18\",\"2018-05-12T07:02:18\",\"2018-05-12T07:32:18\",\"2018-05-12T08:02:18\",\"2018-05-12T08:32:18\",\"2018-05-12T09:02:18\",\"2018-05-12T09:32:18\",\"2018-05-12T10:02:18\",\"2018-05-12T10:32:18\",\"2018-05-12T11:02:18\",\"2018-05-12T11:32:18\",\"2018-05-12T12:02:18\",\"2018-05-12T12:32:18\",\"2018-05-12T13:02:18\",\"2018-05-12T13:32:18\",\"2018-05-12T14:02:18\",\"2018-05-12T14:32:18\",\"2018-05-12T15:02:18\",\"2018-05-12T15:32:18\",\"2018-05-12T22:32:18\",\"2018-05-13T01:02:18\",\"2018-05-13T01:32:18\",\"2018-05-13T02:02:18\",\"2018-05-13T02:32:18\",\"2018-05-13T03:02:18\",\"2018-05-13T03:32:18\",\"2018-05-13T04:02:18\",\"2018-05-13T04:32:18\",\"2018-05-13T05:02:18\",\"2018-05-13T05:32:18\",\"2018-05-13T06:02:18\",\"2018-05-13T06:32:18\",\"2018-05-13T07:02:18\",\"2018-05-13T07:32:18\",\"2018-05-13T08:02:18\",\"2018-05-13T08:32:18\",\"2018-05-13T09:02:18\",\"2018-05-13T09:32:18\",\"2018-05-13T10:02:18\",\"2018-05-13T10:32:18\",\"2018-05-13T11:02:18\",\"2018-05-13T11:32:18\",\"2018-05-13T12:02:18\",\"2018-05-13T12:32:18\",\"2018-05-13T17:02:18\",\"2018-05-14T01:32:18\",\"2018-05-14T02:02:18\",\"2018-05-14T03:32:18\",\"2018-05-14T04:02:18\",\"2018-05-14T04:32:18\",\"2018-05-14T05:02:18\",\"2018-05-14T05:32:18\",\"2018-05-14T06:02:18\",\"2018-05-14T06:32:18\",\"2018-05-14T07:02:18\",\"2018-05-14T07:32:18\",\"2018-05-14T09:32:18\",\"2018-05-14T19:32:18\",\"2018-05-14T20:02:18\",\"2018-05-15T00:02:18\",\"2018-05-15T00:32:18\",\"2018-05-15T01:02:18\",\"2018-05-15T01:32:18\",\"2018-05-15T02:02:18\",\"2018-05-15T02:32:18\",\"2018-05-15T03:02:18\",\"2018-05-15T03:32:18\",\"2018-05-15T04:02:18\",\"2018-05-15T04:32:18\",\"2018-05-15T05:02:18\",\"2018-05-15T05:32:18\",\"2018-05-15T06:02:18\",\"2018-05-15T06:32:18\",\"2018-05-15T07:02:18\",\"2018-05-15T07:32:18\",\"2018-05-15T08:02:18\",\"2018-05-15T08:32:18\",\"2018-05-15T09:02:18\",\"2018-05-15T09:32:18\",\"2018-05-15T10:02:18\",\"2018-05-15T10:32:18\",\"2018-05-15T11:02:18\",\"2018-05-15T14:32:18\",\"2018-05-15T23:32:18\",\"2018-05-16T00:02:18\",\"2018-05-16T03:02:18\",\"2018-05-16T03:32:18\",\"2018-05-16T04:02:18\",\"2018-05-16T04:32:18\",\"2018-05-16T05:02:18\",\"2018-05-16T05:32:18\",\"2018-05-16T06:02:18\",\"2018-05-16T06:32:18\",\"2018-05-16T07:02:18\",\"2018-05-16T07:32:18\",\"2018-05-16T08:02:18\",\"2018-05-16T08:32:18\",\"2018-05-16T09:02:18\",\"2018-05-16T09:32:18\",\"2018-05-16T10:02:18\",\"2018-05-16T10:32:18\",\"2018-05-16T13:02:18\",\"2018-05-16T14:02:18\",\"2018-05-16T14:32:18\",\"2018-05-16T15:02:18\",\"2018-05-16T15:32:18\",\"2018-05-16T16:02:18\",\"2018-05-16T16:32:18\",\"2018-05-16T23:02:18\",\"2018-05-17T02:02:18\",\"2018-05-17T02:32:18\",\"2018-05-17T03:02:18\",\"2018-05-17T03:32:18\",\"2018-05-17T04:02:18\",\"2018-05-17T04:32:18\",\"2018-05-17T05:02:18\",\"2018-05-17T05:32:18\",\"2018-05-17T06:02:18\",\"2018-05-17T06:32:18\",\"2018-05-17T07:02:18\",\"2018-05-17T07:32:18\",\"2018-05-17T08:02:18\",\"2018-05-17T08:32:18\",\"2018-05-17T09:02:18\",\"2018-05-18T01:02:18.686000\",\"2018-05-18T01:32:18.613000\",\"2018-05-18T02:02:18.624000\",\"2018-05-18T02:32:18.722000\",\"2018-05-18T03:02:18.611000\",\"2018-05-18T03:32:18.612000\",\"2018-05-18T04:02:18.630000\",\"2018-05-18T04:32:18.612000\",\"2018-05-18T05:02:18.780000\",\"2018-05-18T11:02:18\",\"2018-05-18T20:32:18\",\"2018-05-19T01:32:18\",\"2018-05-19T02:02:18\",\"2018-05-19T02:32:18\",\"2018-05-19T03:02:18\",\"2018-05-19T03:32:18\",\"2018-05-19T04:02:18\",\"2018-05-19T04:32:18\",\"2018-05-19T05:02:18\",\"2018-05-19T05:32:18\",\"2018-05-19T06:02:18\",\"2018-05-19T06:32:18\",\"2018-05-19T07:02:18\",\"2018-05-19T07:32:18\",\"2018-05-19T08:02:18\",\"2018-05-19T08:32:18\",\"2018-05-19T09:02:18\",\"2018-05-19T09:32:18\",\"2018-05-19T10:02:18\",\"2018-05-19T10:32:18\",\"2018-05-19T11:02:18\",\"2018-05-19T11:32:18\",\"2018-05-19T12:02:18\",\"2018-05-19T20:32:18\",\"2018-05-19T21:02:18\",\"2018-05-20T07:32:18.609000\",\"2018-05-20T08:02:18.613000\",\"2018-05-20T08:32:18.609000\",\"2018-05-20T09:02:18.617000\",\"2018-05-20T09:32:18.611000\",\"2018-05-20T10:02:18.626000\",\"2018-05-20T10:32:18.608000\",\"2018-05-20T13:32:18\",\"2018-05-20T14:02:18\",\"2018-05-20T19:32:18\",\"2018-05-21T02:32:18\",\"2018-05-21T03:02:18\",\"2018-05-21T03:32:18\",\"2018-05-21T04:02:18\",\"2018-05-21T04:32:18\",\"2018-05-21T05:02:18\",\"2018-05-21T05:32:18\",\"2018-05-21T06:02:18\",\"2018-05-21T06:32:18\",\"2018-05-21T07:02:18\",\"2018-05-21T07:32:18\",\"2018-05-21T08:02:18\",\"2018-05-21T08:32:18\",\"2018-05-21T09:02:18\",\"2018-05-21T09:32:18\",\"2018-05-21T10:02:18\",\"2018-05-21T10:32:18\",\"2018-05-21T11:02:18\",\"2018-05-21T21:32:18\",\"2018-05-21T22:02:18\",\"2018-05-22T00:32:18\",\"2018-05-22T02:32:18\",\"2018-05-22T03:02:18\",\"2018-05-22T03:32:18\",\"2018-05-22T04:02:18\",\"2018-05-22T04:32:18\",\"2018-05-22T05:02:18\",\"2018-05-22T05:32:18\",\"2018-05-22T06:02:18\",\"2018-05-22T06:32:18\",\"2018-05-22T07:02:18\",\"2018-05-22T07:32:18\",\"2018-05-22T08:02:18\",\"2018-05-22T08:32:18\",\"2018-05-22T09:02:18\",\"2018-05-22T09:32:18\",\"2018-05-22T10:02:18\",\"2018-05-22T10:32:18\",\"2018-05-22T11:02:18\",\"2018-05-22T15:02:18\",\"2018-05-22T22:02:18\",\"2018-05-22T22:32:18\",\"2018-05-22T23:02:18\",\"2018-05-22T23:32:18\",\"2018-05-23T02:02:18\",\"2018-05-23T02:32:18\",\"2018-05-23T03:02:18\",\"2018-05-23T03:32:18\",\"2018-05-23T04:02:18\",\"2018-05-23T04:32:18\",\"2018-05-23T05:02:18\",\"2018-05-23T05:32:18\",\"2018-05-23T06:02:18\",\"2018-05-23T06:32:18\",\"2018-05-23T07:02:18\",\"2018-05-23T07:32:18\",\"2018-05-23T08:02:18\",\"2018-05-23T08:32:18\",\"2018-05-23T09:02:18\",\"2018-05-23T09:32:18\",\"2018-05-23T10:02:18\",\"2018-05-23T15:02:18\",\"2018-05-23T15:32:18\",\"2018-05-23T16:02:18\",\"2018-05-23T16:32:18\",\"2018-05-23T17:02:18\",\"2018-05-23T17:32:18\",\"2018-05-23T18:02:18\",\"2018-05-23T18:32:18\",\"2018-05-23T19:02:18\",\"2018-05-23T19:32:18\",\"2018-05-23T20:02:18\",\"2018-05-23T20:32:18\",\"2018-05-23T22:32:18\",\"2018-05-23T23:02:18\",\"2018-05-23T23:32:18\"],\"type\":\"scatter3d\"},{\"hovertemplate\":\"<b>%{hovertext}</b><br><br>mood=Very happy<br>longitude_home=%{x}<br>latitude_home=%{y}<br>Time=%{z}<extra></extra>\",\"hovertext\":[\"Via Antonio Rosmini\",\"Via Antonio Rosmini\",\"Via Antonio Rosmini\",\"Via Antonio Rosmini\",\"Via Antonio Rosmini\",\"Via Antonio Rosmini\",\"Via Antonio Rosmini\",\"Via Antonio Rosmini\",\"Via Antonio Rosmini\",\"Via Antonio Rosmini\",\"Via Antonio Rosmini\",\"Via Antonio Rosmini\",\"Via Antonio Rosmini\",\"Via Antonio Rosmini\",\"Via Antonio Rosmini\",\"Via Antonio Rosmini\",\"Via Antonio Rosmini\",\"Via Antonio Rosmini\",\"Via Antonio Rosmini\",\"Via Antonio Rosmini\",\"Via Antonio Rosmini\",\"Via Antonio Rosmini\",\"Via Antonio Rosmini\",\"Via Antonio Rosmini\",\"Via Antonio Rosmini\",\"Via Antonio Rosmini\",\"Via Antonio Rosmini\",\"Via Antonio Rosmini\",\"Via Antonio Rosmini\",\"Via Antonio Rosmini\",\"Via Antonio Rosmini\",\"Via Antonio Rosmini\",\"Via Antonio Rosmini\",\"Via Antonio Rosmini\",\"Via Antonio Rosmini\",\"Via Antonio Rosmini\",\"Via Antonio Rosmini\",\"Via Antonio Rosmini\",\"Via Antonio Rosmini\",\"Via Antonio Rosmini\",\"Via Antonio Rosmini\",\"Via Antonio Rosmini\",\"Via Antonio Rosmini\",\"Via Antonio Rosmini\",\"Via Antonio Rosmini\",\"Via Antonio Rosmini\",\"Via Antonio Rosmini\",\"Via Antonio Rosmini\",\"Via Antonio Rosmini\",\"Via Antonio Rosmini\",\"Via Antonio Rosmini\",\"Via Antonio Rosmini\",\"Via Antonio Rosmini\",\"Via Antonio Rosmini\",\"Via Antonio Rosmini\",\"Via Antonio Rosmini\",\"Via Antonio Rosmini\",\"Via Antonio Rosmini\",\"Via Antonio Rosmini\",\"Via Antonio Rosmini\",\"Via Antonio Rosmini\",\"Via Antonio Rosmini\",\"Via Antonio Rosmini\",\"Via Antonio Rosmini\",\"Via Antonio Rosmini\",\"Via Antonio Rosmini\",\"Via Antonio Rosmini\",\"Via Antonio Rosmini\",\"Via Antonio Rosmini\",\"Via Antonio Rosmini\",\"Via Antonio Rosmini\",\"Via Antonio Rosmini\",\"Via Antonio Rosmini\",\"Via Antonio Rosmini\",\"Via Antonio Rosmini\",\"Via Antonio Rosmini\",\"Via Antonio Rosmini\",\"Via Antonio Rosmini\",\"Via Antonio Rosmini\",\"Via Antonio Rosmini\",\"Via Antonio Rosmini\",\"Via Antonio Rosmini\",\"Via Antonio Rosmini\",\"Via Antonio Rosmini\",\"Via Antonio Rosmini\",\"Via Antonio Rosmini\",\"Via Antonio Rosmini\",\"Via Antonio Rosmini\",\"Via Antonio Rosmini\",\"Via Antonio Rosmini\",\"Via Antonio Rosmini\",\"Via Antonio Rosmini\",\"Via Antonio Rosmini\",\"Via Antonio Rosmini\",\"Via Antonio Rosmini\",\"Via Antonio Rosmini\",\"Via Antonio Rosmini\",\"Via Antonio Rosmini\",\"Via Antonio Rosmini\",\"Via Antonio Rosmini\",\"Via Antonio Rosmini\",\"Via Antonio Rosmini\",\"Via Antonio Rosmini\",\"Via Antonio Rosmini\",\"Via Antonio Rosmini\",\"Via Antonio Rosmini\",\"Via Antonio Rosmini\",\"Via Antonio Rosmini\",\"Via Antonio Rosmini\",\"Via Antonio Rosmini\",\"Via Antonio Rosmini\",\"Via Antonio Rosmini\",\"Via Antonio Rosmini\",\"Via Antonio Rosmini\"],\"legendgroup\":\"Very happy\",\"line\":{\"color\":\"#00cc96\",\"dash\":\"solid\",\"width\":5},\"marker\":{\"symbol\":\"circle\"},\"mode\":\"lines\",\"name\":\"Very happy\",\"scene\":\"scene\",\"showlegend\":true,\"x\":[11.119008,11.119008,11.119008,11.119008,11.119008,11.119008,11.119008,11.119008,11.119008,11.119008,11.119008,11.119008,11.119008,11.119008,11.119008,11.119008,11.119008,11.119008,11.119008,11.119008,11.119008,11.119008,11.119008,11.119008,11.119008,11.119008,11.119008,11.119008,11.119008,11.119008,11.119008,11.119008,11.119008,11.119008,11.119008,11.119008,11.119008,11.119008,11.119008,11.119008,11.119008,11.119008,11.119008,11.119008,11.119008,11.119008,11.119008,11.119008,11.119008,11.119008,11.119008,11.119008,11.119008,11.119008,11.119008,11.119008,11.119008,11.119008,11.119008,11.119008,11.119008,11.119008,11.119008,11.119008,11.119008,11.119008,11.119008,11.119008,11.119008,11.119008,11.119008,11.119008,11.119008,11.119008,11.119008,11.119008,11.119008,11.119008,11.119008,11.119008,11.119008,11.119008,11.119008,11.119008,11.119008,11.119008,11.119008,11.119008,11.119008,11.119008,11.119008,11.119008,11.119008,11.119008,11.119008,11.119008,11.119008,11.119008,11.119008,11.119008,11.119008,11.119008,11.119008,11.119008,11.119008,11.119008,11.119008,11.119008,11.119008,11.119008,11.119008,11.119008,11.119008,11.119008],\"y\":[46.065852,46.065852,46.065852,46.065852,46.065852,46.065852,46.065852,46.065852,46.065852,46.065852,46.065852,46.065852,46.065852,46.065852,46.065852,46.065852,46.065852,46.065852,46.065852,46.065852,46.065852,46.065852,46.065852,46.065852,46.065852,46.065852,46.065852,46.065852,46.065852,46.065852,46.065852,46.065852,46.065852,46.065852,46.065852,46.065852,46.065852,46.065852,46.065852,46.065852,46.065852,46.065852,46.065852,46.065852,46.065852,46.065852,46.065852,46.065852,46.065852,46.065852,46.065852,46.065852,46.065852,46.065852,46.065852,46.065852,46.065852,46.065852,46.065852,46.065852,46.065852,46.065852,46.065852,46.065852,46.065852,46.065852,46.065852,46.065852,46.065852,46.065852,46.065852,46.065852,46.065852,46.065852,46.065852,46.065852,46.065852,46.065852,46.065852,46.065852,46.065852,46.065852,46.065852,46.065852,46.065852,46.065852,46.065852,46.065852,46.065852,46.065852,46.065852,46.065852,46.065852,46.065852,46.065852,46.065852,46.065852,46.065852,46.065852,46.065852,46.065852,46.065852,46.065852,46.065852,46.065852,46.065852,46.065852,46.065852,46.065852,46.065852,46.065852,46.065852,46.065852,46.065852],\"z\":[\"2018-05-10T12:32:18.631000\",\"2018-05-10T13:02:18.619000\",\"2018-05-10T13:32:18.628000\",\"2018-05-10T14:32:18.615000\",\"2018-05-10T15:32:18.623000\",\"2018-05-10T16:32:18.671000\",\"2018-05-10T20:02:18.620000\",\"2018-05-11T10:02:18.639000\",\"2018-05-11T20:32:18.623000\",\"2018-05-11T21:02:18.613000\",\"2018-05-11T23:02:18.614000\",\"2018-05-11T23:32:18.620000\",\"2018-05-12T00:02:18.621000\",\"2018-05-12T00:32:18.660000\",\"2018-05-12T01:02:18.618000\",\"2018-05-12T01:32:18.626000\",\"2018-05-12T02:02:18.618000\",\"2018-05-13T16:02:18.612000\",\"2018-05-14T03:02:18.613000\",\"2018-05-14T13:32:18.741000\",\"2018-05-14T15:02:18.663000\",\"2018-05-14T17:02:18.616000\",\"2018-05-14T20:32:18.699000\",\"2018-05-16T02:32:18.635000\",\"2018-05-16T20:32:18.702000\",\"2018-05-16T21:02:18.611000\",\"2018-05-17T09:32:18.619000\",\"2018-05-17T10:02:18.614000\",\"2018-05-17T10:32:18.623000\",\"2018-05-17T11:02:18.620000\",\"2018-05-17T11:32:18.616000\",\"2018-05-17T12:02:18.698000\",\"2018-05-17T12:32:18.611000\",\"2018-05-17T13:02:18.620000\",\"2018-05-17T13:32:18.648000\",\"2018-05-17T14:02:18.616000\",\"2018-05-17T14:32:18.612000\",\"2018-05-17T15:02:18.629000\",\"2018-05-17T15:32:18.619000\",\"2018-05-17T16:02:18.615000\",\"2018-05-17T16:32:18.611000\",\"2018-05-17T17:02:18.622000\",\"2018-05-17T17:32:18.619000\",\"2018-05-17T18:02:18.876000\",\"2018-05-17T18:32:18.627000\",\"2018-05-17T19:02:18.612000\",\"2018-05-17T19:32:18.621000\",\"2018-05-17T20:02:18.726000\",\"2018-05-17T20:32:18.609000\",\"2018-05-17T21:02:18.609000\",\"2018-05-17T21:32:18.613000\",\"2018-05-17T22:02:18.613000\",\"2018-05-17T22:32:18.618000\",\"2018-05-17T23:02:18.611000\",\"2018-05-17T23:32:18.637000\",\"2018-05-18T00:02:18.615000\",\"2018-05-18T00:32:18.620000\",\"2018-05-18T05:32:18.619000\",\"2018-05-18T06:02:18.609000\",\"2018-05-18T06:32:18.611000\",\"2018-05-18T07:02:18.612000\",\"2018-05-18T07:32:18.613000\",\"2018-05-18T08:02:18.609000\",\"2018-05-18T08:32:18.616000\",\"2018-05-18T09:02:18.619000\",\"2018-05-18T09:32:18.629000\",\"2018-05-18T10:02:18.610000\",\"2018-05-18T10:32:18.614000\",\"2018-05-18T11:32:18.614000\",\"2018-05-18T12:02:18.619000\",\"2018-05-18T12:32:18.610000\",\"2018-05-18T13:02:18.617000\",\"2018-05-18T13:32:18.616000\",\"2018-05-18T14:02:18.614000\",\"2018-05-18T14:32:18.613000\",\"2018-05-18T15:02:18.617000\",\"2018-05-18T15:32:18.615000\",\"2018-05-18T16:02:18.609000\",\"2018-05-18T16:32:18.623000\",\"2018-05-18T17:02:18.629000\",\"2018-05-18T17:32:18.611000\",\"2018-05-18T18:02:18.680000\",\"2018-05-18T18:32:18.610000\",\"2018-05-18T19:02:18.622000\",\"2018-05-18T19:32:18.836000\",\"2018-05-18T20:02:18.612000\",\"2018-05-18T21:02:18.612000\",\"2018-05-18T21:32:18.610000\",\"2018-05-18T22:02:18.609000\",\"2018-05-18T22:32:18.614000\",\"2018-05-18T23:02:18.638000\",\"2018-05-18T23:32:18.613000\",\"2018-05-19T00:02:18.614000\",\"2018-05-19T00:32:18.610000\",\"2018-05-19T01:02:18.637000\",\"2018-05-19T14:02:18.612000\",\"2018-05-19T14:32:18.611000\",\"2018-05-19T15:02:18.620000\",\"2018-05-19T15:32:18.620000\",\"2018-05-19T17:02:18.615000\",\"2018-05-19T23:32:18.615000\",\"2018-05-20T00:02:18.613000\",\"2018-05-20T01:02:18.609000\",\"2018-05-20T01:32:18.612000\",\"2018-05-20T22:32:18.610000\",\"2018-05-20T23:02:18.611000\",\"2018-05-20T23:32:18.688000\",\"2018-05-21T00:02:18.609000\",\"2018-05-21T00:32:18.614000\",\"2018-05-21T01:02:18.613000\",\"2018-05-21T23:32:18.609000\",\"2018-05-22T00:02:18.610000\",\"2018-05-23T21:32:18.614000\",\"2018-05-23T22:02:18.613000\"],\"type\":\"scatter3d\"},{\"hovertemplate\":\"<b>%{hovertext}</b><br><br>mood=Neutral<br>longitude_home=%{x}<br>latitude_home=%{y}<br>Time=%{z}<extra></extra>\",\"hovertext\":[\"Via Antonio Rosmini\",\"Via Antonio Rosmini\",\"Via Antonio Rosmini\",\"Via Antonio Rosmini\",\"Via Antonio Rosmini\",\"Via Antonio Rosmini\",\"Via Antonio Rosmini\",\"Via Antonio Rosmini\",\"Via Antonio Rosmini\",\"Via Antonio Rosmini\",\"Via Antonio Rosmini\",\"Via Antonio Rosmini\",\"Via Antonio Rosmini\",\"Via Antonio Rosmini\",\"Via Antonio Rosmini\",\"Via Antonio Rosmini\",\"Via Antonio Rosmini\",\"Via Antonio Rosmini\",\"Via Antonio Rosmini\",\"Via Antonio Rosmini\",\"Via Antonio Rosmini\",\"Via Antonio Rosmini\",\"Via Antonio Rosmini\",\"Via Antonio Rosmini\",\"Via Antonio Rosmini\",\"Via Antonio Rosmini\",\"Via Antonio Rosmini\",\"Via Antonio Rosmini\",\"Via Antonio Rosmini\",\"Via Antonio Rosmini\",\"Via Antonio Rosmini\",\"Via Antonio Rosmini\",\"Via Antonio Rosmini\",\"Via Antonio Rosmini\",\"Via Antonio Rosmini\",\"Via Antonio Rosmini\",\"Via Antonio Rosmini\",\"Via Antonio Rosmini\",\"Via Antonio Rosmini\",\"Via Antonio Rosmini\",\"Via Antonio Rosmini\",\"Via Antonio Rosmini\",\"Via Antonio Rosmini\",\"Via Antonio Rosmini\",\"Via Antonio Rosmini\",\"Via Antonio Rosmini\",\"Via Antonio Rosmini\",\"Via Antonio Rosmini\",\"Via Antonio Rosmini\",\"Via Antonio Rosmini\",\"Via Antonio Rosmini\",\"Via Antonio Rosmini\",\"Via Antonio Rosmini\",\"Via Antonio Rosmini\",\"Via Antonio Rosmini\",\"Via Antonio Rosmini\",\"Via Antonio Rosmini\",\"Via Antonio Rosmini\",\"Via Antonio Rosmini\",\"Via Antonio Rosmini\",\"Via Antonio Rosmini\",\"Via Antonio Rosmini\",\"Via Antonio Rosmini\",\"Via Antonio Rosmini\",\"Via Antonio Rosmini\",\"Via Antonio Rosmini\",\"Via Antonio Rosmini\",\"Via Antonio Rosmini\",\"Via Antonio Rosmini\",\"Via Antonio Rosmini\",\"Via Antonio Rosmini\",\"Via Antonio Rosmini\",\"Via Antonio Rosmini\",\"Via Antonio Rosmini\",\"Via Antonio Rosmini\",\"Via Antonio Rosmini\",\"Via Antonio Rosmini\",\"Via Antonio Rosmini\",\"Via Antonio Rosmini\"],\"legendgroup\":\"Neutral\",\"line\":{\"color\":\"#ab63fa\",\"dash\":\"solid\",\"width\":5},\"marker\":{\"symbol\":\"circle\"},\"mode\":\"lines\",\"name\":\"Neutral\",\"scene\":\"scene\",\"showlegend\":true,\"x\":[11.119008,11.119008,11.119008,11.119008,11.119008,11.119008,11.119008,11.119008,11.119008,11.119008,11.119008,11.119008,11.119008,11.119008,11.119008,11.119008,11.119008,11.119008,11.119008,11.119008,11.119008,11.119008,11.119008,11.119008,11.119008,11.119008,11.119008,11.119008,11.119008,11.119008,11.119008,11.119008,11.119008,11.119008,11.119008,11.119008,11.119008,11.119008,11.119008,11.119008,11.119008,11.119008,11.119008,11.119008,11.119008,11.119008,11.119008,11.119008,11.119008,11.119008,11.119008,11.119008,11.119008,11.119008,11.119008,11.119008,11.119008,11.119008,11.119008,11.119008,11.119008,11.119008,11.119008,11.119008,11.119008,11.119008,11.119008,11.119008,11.119008,11.119008,11.119008,11.119008,11.119008,11.119008,11.119008,11.119008,11.119008,11.119008,11.119008],\"y\":[46.065852,46.065852,46.065852,46.065852,46.065852,46.065852,46.065852,46.065852,46.065852,46.065852,46.065852,46.065852,46.065852,46.065852,46.065852,46.065852,46.065852,46.065852,46.065852,46.065852,46.065852,46.065852,46.065852,46.065852,46.065852,46.065852,46.065852,46.065852,46.065852,46.065852,46.065852,46.065852,46.065852,46.065852,46.065852,46.065852,46.065852,46.065852,46.065852,46.065852,46.065852,46.065852,46.065852,46.065852,46.065852,46.065852,46.065852,46.065852,46.065852,46.065852,46.065852,46.065852,46.065852,46.065852,46.065852,46.065852,46.065852,46.065852,46.065852,46.065852,46.065852,46.065852,46.065852,46.065852,46.065852,46.065852,46.065852,46.065852,46.065852,46.065852,46.065852,46.065852,46.065852,46.065852,46.065852,46.065852,46.065852,46.065852,46.065852],\"z\":[\"2018-05-10T16:02:18.656000\",\"2018-05-11T09:32:18.637000\",\"2018-05-11T16:32:18.625000\",\"2018-05-11T18:32:18.622000\",\"2018-05-12T16:02:18.636000\",\"2018-05-12T17:02:18.627000\",\"2018-05-12T19:02:18.632000\",\"2018-05-12T20:32:18.615000\",\"2018-05-12T21:02:18.628000\",\"2018-05-12T21:32:18.614000\",\"2018-05-12T23:02:18.627000\",\"2018-05-12T23:32:18.614000\",\"2018-05-13T14:02:18.617000\",\"2018-05-13T20:02:18.613000\",\"2018-05-13T20:32:18.651000\",\"2018-05-13T21:32:18.617000\",\"2018-05-13T23:02:18.627000\",\"2018-05-13T23:32:18.615000\",\"2018-05-14T00:32:18.613000\",\"2018-05-14T01:02:18.611000\",\"2018-05-14T08:02:18.613000\",\"2018-05-14T09:02:18.612000\",\"2018-05-14T10:02:18.615000\",\"2018-05-14T10:32:18.611000\",\"2018-05-14T11:02:18.758000\",\"2018-05-14T11:32:18.620000\",\"2018-05-14T12:32:18.614000\",\"2018-05-14T13:02:18.619000\",\"2018-05-14T15:32:18.612000\",\"2018-05-14T23:02:18.613000\",\"2018-05-15T13:32:18.626000\",\"2018-05-15T14:02:18.618000\",\"2018-05-15T17:02:18.611000\",\"2018-05-16T12:02:18.732000\",\"2018-05-19T16:02:18.610000\",\"2018-05-19T16:32:18.611000\",\"2018-05-19T17:32:18.681000\",\"2018-05-19T18:02:18.609000\",\"2018-05-19T18:32:18.628000\",\"2018-05-19T19:02:18.641000\",\"2018-05-19T19:32:18.615000\",\"2018-05-19T20:02:18.610000\",\"2018-05-19T21:32:18.610000\",\"2018-05-19T22:02:18.633000\",\"2018-05-19T22:32:18.610000\",\"2018-05-20T02:02:18.628000\",\"2018-05-20T02:32:18.617000\",\"2018-05-20T03:02:18.610000\",\"2018-05-20T03:32:18.611000\",\"2018-05-20T04:02:18.613000\",\"2018-05-20T04:32:18.625000\",\"2018-05-20T05:02:18.615000\",\"2018-05-20T05:32:18.611000\",\"2018-05-20T06:02:18.610000\",\"2018-05-20T06:32:18.630000\",\"2018-05-20T07:02:18.611000\",\"2018-05-20T11:02:18.611000\",\"2018-05-20T11:32:18.614000\",\"2018-05-20T12:02:18.610000\",\"2018-05-20T12:32:18.611000\",\"2018-05-20T18:02:18.613000\",\"2018-05-20T18:32:18.682000\",\"2018-05-21T01:32:18.627000\",\"2018-05-21T02:02:18.616000\",\"2018-05-21T11:32:18.610000\",\"2018-05-21T12:02:18.613000\",\"2018-05-21T14:32:18.649000\",\"2018-05-21T15:02:18.614000\",\"2018-05-21T15:32:18.615000\",\"2018-05-21T20:32:18.612000\",\"2018-05-21T21:02:18.614000\",\"2018-05-21T22:32:18.643000\",\"2018-05-22T01:02:18.618000\",\"2018-05-22T01:32:18.619000\",\"2018-05-22T02:02:18.652000\",\"2018-05-22T11:32:18.610000\",\"2018-05-22T12:02:18.616000\",\"2018-05-23T10:32:18.611000\",\"2018-05-23T11:02:18.610000\"],\"type\":\"scatter3d\"},{\"hovertemplate\":\"<b>%{hovertext}</b><br><br>mood=Fairly sad<br>longitude_home=%{x}<br>latitude_home=%{y}<br>Time=%{z}<extra></extra>\",\"hovertext\":[\"Via Antonio Rosmini\",\"Via Antonio Rosmini\",\"Via Antonio Rosmini\",\"Via Antonio Rosmini\",\"Via Antonio Rosmini\",\"Via Antonio Rosmini\",\"Via Antonio Rosmini\",\"Via Antonio Rosmini\",\"Via Antonio Rosmini\",\"Via Antonio Rosmini\",\"Via Antonio Rosmini\",\"Via Antonio Rosmini\",\"Via Antonio Rosmini\",\"Via Antonio Rosmini\",\"Via Antonio Rosmini\",\"Via Antonio Rosmini\",\"Via Antonio Rosmini\",\"Via Antonio Rosmini\",\"Via Antonio Rosmini\",\"Via Antonio Rosmini\",\"Via Antonio Rosmini\",\"Via Antonio Rosmini\"],\"legendgroup\":\"Fairly sad\",\"line\":{\"color\":\"#FFA15A\",\"dash\":\"solid\",\"width\":5},\"marker\":{\"symbol\":\"circle\"},\"mode\":\"lines\",\"name\":\"Fairly sad\",\"scene\":\"scene\",\"showlegend\":true,\"x\":[11.119008,11.119008,11.119008,11.119008,11.119008,11.119008,11.119008,11.119008,11.119008,11.119008,11.119008,11.119008,11.119008,11.119008,11.119008,11.119008,11.119008,11.119008,11.119008,11.119008,11.119008,11.119008],\"y\":[46.065852,46.065852,46.065852,46.065852,46.065852,46.065852,46.065852,46.065852,46.065852,46.065852,46.065852,46.065852,46.065852,46.065852,46.065852,46.065852,46.065852,46.065852,46.065852,46.065852,46.065852,46.065852],\"z\":[\"2018-05-11T19:02:18.627000\",\"2018-05-12T16:32:18.725000\",\"2018-05-14T00:02:18.618000\",\"2018-05-14T23:32:18.628000\",\"2018-05-15T16:02:18.614000\",\"2018-05-15T16:32:18.613000\",\"2018-05-15T17:32:18.612000\",\"2018-05-15T18:32:18.631000\",\"2018-05-15T19:02:18.627000\",\"2018-05-15T20:02:18.612000\",\"2018-05-15T20:32:18.722000\",\"2018-05-15T22:02:18.620000\",\"2018-05-15T22:32:18.625000\",\"2018-05-16T11:02:18.614000\",\"2018-05-16T11:32:18.614000\",\"2018-05-16T12:32:18.621000\",\"2018-05-16T19:02:18.620000\",\"2018-05-16T20:02:18.623000\",\"2018-05-21T16:02:18.616000\",\"2018-05-21T16:32:18.612000\",\"2018-05-21T19:02:18.610000\",\"2018-05-21T19:32:18.611000\"],\"type\":\"scatter3d\"},{\"hovertemplate\":\"<b>%{hovertext}</b><br><br>mood=Very sad<br>longitude_home=%{x}<br>latitude_home=%{y}<br>Time=%{z}<extra></extra>\",\"hovertext\":[\"Via Antonio Rosmini\",\"Via Antonio Rosmini\",\"Via Antonio Rosmini\",\"Via Antonio Rosmini\",\"Via Antonio Rosmini\",\"Via Antonio Rosmini\",\"Via Antonio Rosmini\",\"Via Antonio Rosmini\",\"Via Antonio Rosmini\",\"Via Antonio Rosmini\",\"Via Antonio Rosmini\",\"Via Antonio Rosmini\",\"Via Antonio Rosmini\",\"Via Antonio Rosmini\",\"Via Antonio Rosmini\",\"Via Antonio Rosmini\",\"Via Antonio Rosmini\",\"Via Antonio Rosmini\",\"Via Antonio Rosmini\",\"Via Antonio Rosmini\",\"Via Antonio Rosmini\",\"Via Antonio Rosmini\",\"Via Antonio Rosmini\",\"Via Antonio Rosmini\",\"Via Antonio Rosmini\",\"Via Antonio Rosmini\",\"Via Antonio Rosmini\",\"Via Antonio Rosmini\",\"Via Antonio Rosmini\",\"Via Antonio Rosmini\",\"Via Antonio Rosmini\",\"Via Antonio Rosmini\",\"Via Antonio Rosmini\",\"Via Antonio Rosmini\",\"Via Antonio Rosmini\",\"Via Antonio Rosmini\",\"Via Antonio Rosmini\",\"Via Antonio Rosmini\",\"Via Antonio Rosmini\",\"Via Antonio Rosmini\",\"Via Antonio Rosmini\",\"Via Antonio Rosmini\",\"Via Antonio Rosmini\",\"Via Antonio Rosmini\",\"Via Antonio Rosmini\"],\"legendgroup\":\"Very sad\",\"line\":{\"color\":\"#19d3f3\",\"dash\":\"solid\",\"width\":5},\"marker\":{\"symbol\":\"circle\"},\"mode\":\"lines\",\"name\":\"Very sad\",\"scene\":\"scene\",\"showlegend\":true,\"x\":[11.119008,11.119008,11.119008,11.119008,11.119008,11.119008,11.119008,11.119008,11.119008,11.119008,11.119008,11.119008,11.119008,11.119008,11.119008,11.119008,11.119008,11.119008,11.119008,11.119008,11.119008,11.119008,11.119008,11.119008,11.119008,11.119008,11.119008,11.119008,11.119008,11.119008,11.119008,11.119008,11.119008,11.119008,11.119008,11.119008,11.119008,11.119008,11.119008,11.119008,11.119008,11.119008,11.119008,11.119008,11.119008],\"y\":[46.065852,46.065852,46.065852,46.065852,46.065852,46.065852,46.065852,46.065852,46.065852,46.065852,46.065852,46.065852,46.065852,46.065852,46.065852,46.065852,46.065852,46.065852,46.065852,46.065852,46.065852,46.065852,46.065852,46.065852,46.065852,46.065852,46.065852,46.065852,46.065852,46.065852,46.065852,46.065852,46.065852,46.065852,46.065852,46.065852,46.065852,46.065852,46.065852,46.065852,46.065852,46.065852,46.065852,46.065852,46.065852],\"z\":[\"2018-05-14T18:02:18.629000\",\"2018-05-14T18:32:18.615000\",\"2018-05-14T19:02:18.621000\",\"2018-05-15T18:02:18.621000\",\"2018-05-15T19:32:18.622000\",\"2018-05-15T21:02:18.651000\",\"2018-05-15T21:32:18.622000\",\"2018-05-15T23:02:18.623000\",\"2018-05-16T00:32:18.646000\",\"2018-05-16T01:02:18.743000\",\"2018-05-16T13:32:18.702000\",\"2018-05-16T17:02:18.656000\",\"2018-05-16T17:32:18.626000\",\"2018-05-16T18:02:18.628000\",\"2018-05-16T18:32:18.623000\",\"2018-05-16T19:32:18.621000\",\"2018-05-16T21:32:18.634000\",\"2018-05-16T22:02:18.623000\",\"2018-05-16T22:32:18.616000\",\"2018-05-16T23:32:18.614000\",\"2018-05-17T00:02:18.629000\",\"2018-05-17T00:32:18.624000\",\"2018-05-17T01:02:18.616000\",\"2018-05-17T01:32:18.620000\",\"2018-05-19T12:32:18.613000\",\"2018-05-19T13:02:18.612000\",\"2018-05-19T13:32:18.611000\",\"2018-05-20T13:02:18.611000\",\"2018-05-20T14:32:18.620000\",\"2018-05-20T15:02:18.744000\",\"2018-05-20T15:32:18.615000\",\"2018-05-20T16:02:18.621000\",\"2018-05-20T16:32:18.612000\",\"2018-05-20T17:02:18.626000\",\"2018-05-20T17:32:18.609000\",\"2018-05-20T19:02:18.614000\",\"2018-05-20T20:02:18.630000\",\"2018-05-20T20:32:18.618000\",\"2018-05-20T21:02:18.610000\",\"2018-05-20T21:32:18.678000\",\"2018-05-20T22:02:18.610000\",\"2018-05-21T17:02:18.622000\",\"2018-05-21T17:32:18.610000\",\"2018-05-21T18:02:18.637000\",\"2018-05-21T18:32:18.619000\"],\"type\":\"scatter3d\"}],                        {\"template\":{\"data\":{\"bar\":[{\"error_x\":{\"color\":\"#2a3f5f\"},\"error_y\":{\"color\":\"#2a3f5f\"},\"marker\":{\"line\":{\"color\":\"#E5ECF6\",\"width\":0.5},\"pattern\":{\"fillmode\":\"overlay\",\"size\":10,\"solidity\":0.2}},\"type\":\"bar\"}],\"barpolar\":[{\"marker\":{\"line\":{\"color\":\"#E5ECF6\",\"width\":0.5},\"pattern\":{\"fillmode\":\"overlay\",\"size\":10,\"solidity\":0.2}},\"type\":\"barpolar\"}],\"carpet\":[{\"aaxis\":{\"endlinecolor\":\"#2a3f5f\",\"gridcolor\":\"white\",\"linecolor\":\"white\",\"minorgridcolor\":\"white\",\"startlinecolor\":\"#2a3f5f\"},\"baxis\":{\"endlinecolor\":\"#2a3f5f\",\"gridcolor\":\"white\",\"linecolor\":\"white\",\"minorgridcolor\":\"white\",\"startlinecolor\":\"#2a3f5f\"},\"type\":\"carpet\"}],\"choropleth\":[{\"colorbar\":{\"outlinewidth\":0,\"ticks\":\"\"},\"type\":\"choropleth\"}],\"contour\":[{\"colorbar\":{\"outlinewidth\":0,\"ticks\":\"\"},\"colorscale\":[[0.0,\"#0d0887\"],[0.1111111111111111,\"#46039f\"],[0.2222222222222222,\"#7201a8\"],[0.3333333333333333,\"#9c179e\"],[0.4444444444444444,\"#bd3786\"],[0.5555555555555556,\"#d8576b\"],[0.6666666666666666,\"#ed7953\"],[0.7777777777777778,\"#fb9f3a\"],[0.8888888888888888,\"#fdca26\"],[1.0,\"#f0f921\"]],\"type\":\"contour\"}],\"contourcarpet\":[{\"colorbar\":{\"outlinewidth\":0,\"ticks\":\"\"},\"type\":\"contourcarpet\"}],\"heatmap\":[{\"colorbar\":{\"outlinewidth\":0,\"ticks\":\"\"},\"colorscale\":[[0.0,\"#0d0887\"],[0.1111111111111111,\"#46039f\"],[0.2222222222222222,\"#7201a8\"],[0.3333333333333333,\"#9c179e\"],[0.4444444444444444,\"#bd3786\"],[0.5555555555555556,\"#d8576b\"],[0.6666666666666666,\"#ed7953\"],[0.7777777777777778,\"#fb9f3a\"],[0.8888888888888888,\"#fdca26\"],[1.0,\"#f0f921\"]],\"type\":\"heatmap\"}],\"heatmapgl\":[{\"colorbar\":{\"outlinewidth\":0,\"ticks\":\"\"},\"colorscale\":[[0.0,\"#0d0887\"],[0.1111111111111111,\"#46039f\"],[0.2222222222222222,\"#7201a8\"],[0.3333333333333333,\"#9c179e\"],[0.4444444444444444,\"#bd3786\"],[0.5555555555555556,\"#d8576b\"],[0.6666666666666666,\"#ed7953\"],[0.7777777777777778,\"#fb9f3a\"],[0.8888888888888888,\"#fdca26\"],[1.0,\"#f0f921\"]],\"type\":\"heatmapgl\"}],\"histogram\":[{\"marker\":{\"pattern\":{\"fillmode\":\"overlay\",\"size\":10,\"solidity\":0.2}},\"type\":\"histogram\"}],\"histogram2d\":[{\"colorbar\":{\"outlinewidth\":0,\"ticks\":\"\"},\"colorscale\":[[0.0,\"#0d0887\"],[0.1111111111111111,\"#46039f\"],[0.2222222222222222,\"#7201a8\"],[0.3333333333333333,\"#9c179e\"],[0.4444444444444444,\"#bd3786\"],[0.5555555555555556,\"#d8576b\"],[0.6666666666666666,\"#ed7953\"],[0.7777777777777778,\"#fb9f3a\"],[0.8888888888888888,\"#fdca26\"],[1.0,\"#f0f921\"]],\"type\":\"histogram2d\"}],\"histogram2dcontour\":[{\"colorbar\":{\"outlinewidth\":0,\"ticks\":\"\"},\"colorscale\":[[0.0,\"#0d0887\"],[0.1111111111111111,\"#46039f\"],[0.2222222222222222,\"#7201a8\"],[0.3333333333333333,\"#9c179e\"],[0.4444444444444444,\"#bd3786\"],[0.5555555555555556,\"#d8576b\"],[0.6666666666666666,\"#ed7953\"],[0.7777777777777778,\"#fb9f3a\"],[0.8888888888888888,\"#fdca26\"],[1.0,\"#f0f921\"]],\"type\":\"histogram2dcontour\"}],\"mesh3d\":[{\"colorbar\":{\"outlinewidth\":0,\"ticks\":\"\"},\"type\":\"mesh3d\"}],\"parcoords\":[{\"line\":{\"colorbar\":{\"outlinewidth\":0,\"ticks\":\"\"}},\"type\":\"parcoords\"}],\"pie\":[{\"automargin\":true,\"type\":\"pie\"}],\"scatter\":[{\"marker\":{\"colorbar\":{\"outlinewidth\":0,\"ticks\":\"\"}},\"type\":\"scatter\"}],\"scatter3d\":[{\"line\":{\"colorbar\":{\"outlinewidth\":0,\"ticks\":\"\"}},\"marker\":{\"colorbar\":{\"outlinewidth\":0,\"ticks\":\"\"}},\"type\":\"scatter3d\"}],\"scattercarpet\":[{\"marker\":{\"colorbar\":{\"outlinewidth\":0,\"ticks\":\"\"}},\"type\":\"scattercarpet\"}],\"scattergeo\":[{\"marker\":{\"colorbar\":{\"outlinewidth\":0,\"ticks\":\"\"}},\"type\":\"scattergeo\"}],\"scattergl\":[{\"marker\":{\"colorbar\":{\"outlinewidth\":0,\"ticks\":\"\"}},\"type\":\"scattergl\"}],\"scattermapbox\":[{\"marker\":{\"colorbar\":{\"outlinewidth\":0,\"ticks\":\"\"}},\"type\":\"scattermapbox\"}],\"scatterpolar\":[{\"marker\":{\"colorbar\":{\"outlinewidth\":0,\"ticks\":\"\"}},\"type\":\"scatterpolar\"}],\"scatterpolargl\":[{\"marker\":{\"colorbar\":{\"outlinewidth\":0,\"ticks\":\"\"}},\"type\":\"scatterpolargl\"}],\"scatterternary\":[{\"marker\":{\"colorbar\":{\"outlinewidth\":0,\"ticks\":\"\"}},\"type\":\"scatterternary\"}],\"surface\":[{\"colorbar\":{\"outlinewidth\":0,\"ticks\":\"\"},\"colorscale\":[[0.0,\"#0d0887\"],[0.1111111111111111,\"#46039f\"],[0.2222222222222222,\"#7201a8\"],[0.3333333333333333,\"#9c179e\"],[0.4444444444444444,\"#bd3786\"],[0.5555555555555556,\"#d8576b\"],[0.6666666666666666,\"#ed7953\"],[0.7777777777777778,\"#fb9f3a\"],[0.8888888888888888,\"#fdca26\"],[1.0,\"#f0f921\"]],\"type\":\"surface\"}],\"table\":[{\"cells\":{\"fill\":{\"color\":\"#EBF0F8\"},\"line\":{\"color\":\"white\"}},\"header\":{\"fill\":{\"color\":\"#C8D4E3\"},\"line\":{\"color\":\"white\"}},\"type\":\"table\"}]},\"layout\":{\"annotationdefaults\":{\"arrowcolor\":\"#2a3f5f\",\"arrowhead\":0,\"arrowwidth\":1},\"autotypenumbers\":\"strict\",\"coloraxis\":{\"colorbar\":{\"outlinewidth\":0,\"ticks\":\"\"}},\"colorscale\":{\"diverging\":[[0,\"#8e0152\"],[0.1,\"#c51b7d\"],[0.2,\"#de77ae\"],[0.3,\"#f1b6da\"],[0.4,\"#fde0ef\"],[0.5,\"#f7f7f7\"],[0.6,\"#e6f5d0\"],[0.7,\"#b8e186\"],[0.8,\"#7fbc41\"],[0.9,\"#4d9221\"],[1,\"#276419\"]],\"sequential\":[[0.0,\"#0d0887\"],[0.1111111111111111,\"#46039f\"],[0.2222222222222222,\"#7201a8\"],[0.3333333333333333,\"#9c179e\"],[0.4444444444444444,\"#bd3786\"],[0.5555555555555556,\"#d8576b\"],[0.6666666666666666,\"#ed7953\"],[0.7777777777777778,\"#fb9f3a\"],[0.8888888888888888,\"#fdca26\"],[1.0,\"#f0f921\"]],\"sequentialminus\":[[0.0,\"#0d0887\"],[0.1111111111111111,\"#46039f\"],[0.2222222222222222,\"#7201a8\"],[0.3333333333333333,\"#9c179e\"],[0.4444444444444444,\"#bd3786\"],[0.5555555555555556,\"#d8576b\"],[0.6666666666666666,\"#ed7953\"],[0.7777777777777778,\"#fb9f3a\"],[0.8888888888888888,\"#fdca26\"],[1.0,\"#f0f921\"]]},\"colorway\":[\"#636efa\",\"#EF553B\",\"#00cc96\",\"#ab63fa\",\"#FFA15A\",\"#19d3f3\",\"#FF6692\",\"#B6E880\",\"#FF97FF\",\"#FECB52\"],\"font\":{\"color\":\"#2a3f5f\"},\"geo\":{\"bgcolor\":\"white\",\"lakecolor\":\"white\",\"landcolor\":\"#E5ECF6\",\"showlakes\":true,\"showland\":true,\"subunitcolor\":\"white\"},\"hoverlabel\":{\"align\":\"left\"},\"hovermode\":\"closest\",\"mapbox\":{\"style\":\"light\"},\"paper_bgcolor\":\"white\",\"plot_bgcolor\":\"#E5ECF6\",\"polar\":{\"angularaxis\":{\"gridcolor\":\"white\",\"linecolor\":\"white\",\"ticks\":\"\"},\"bgcolor\":\"#E5ECF6\",\"radialaxis\":{\"gridcolor\":\"white\",\"linecolor\":\"white\",\"ticks\":\"\"}},\"scene\":{\"xaxis\":{\"backgroundcolor\":\"#E5ECF6\",\"gridcolor\":\"white\",\"gridwidth\":2,\"linecolor\":\"white\",\"showbackground\":true,\"ticks\":\"\",\"zerolinecolor\":\"white\"},\"yaxis\":{\"backgroundcolor\":\"#E5ECF6\",\"gridcolor\":\"white\",\"gridwidth\":2,\"linecolor\":\"white\",\"showbackground\":true,\"ticks\":\"\",\"zerolinecolor\":\"white\"},\"zaxis\":{\"backgroundcolor\":\"#E5ECF6\",\"gridcolor\":\"white\",\"gridwidth\":2,\"linecolor\":\"white\",\"showbackground\":true,\"ticks\":\"\",\"zerolinecolor\":\"white\"}},\"shapedefaults\":{\"line\":{\"color\":\"#2a3f5f\"}},\"ternary\":{\"aaxis\":{\"gridcolor\":\"white\",\"linecolor\":\"white\",\"ticks\":\"\"},\"baxis\":{\"gridcolor\":\"white\",\"linecolor\":\"white\",\"ticks\":\"\"},\"bgcolor\":\"#E5ECF6\",\"caxis\":{\"gridcolor\":\"white\",\"linecolor\":\"white\",\"ticks\":\"\"}},\"title\":{\"x\":0.05},\"xaxis\":{\"automargin\":true,\"gridcolor\":\"white\",\"linecolor\":\"white\",\"ticks\":\"\",\"title\":{\"standoff\":15},\"zerolinecolor\":\"white\",\"zerolinewidth\":2},\"yaxis\":{\"automargin\":true,\"gridcolor\":\"white\",\"linecolor\":\"white\",\"ticks\":\"\",\"title\":{\"standoff\":15},\"zerolinecolor\":\"white\",\"zerolinewidth\":2}}},\"scene\":{\"domain\":{\"x\":[0.0,1.0],\"y\":[0.0,1.0]},\"xaxis\":{\"title\":{\"text\":\"longitude_home\"}},\"yaxis\":{\"title\":{\"text\":\"latitude_home\"}},\"zaxis\":{\"title\":{\"text\":\"Time\"}}},\"legend\":{\"title\":{\"text\":\"mood\"},\"tracegroupgap\":0},\"margin\":{\"t\":60},\"title\":{\"text\":\"subject_2- 4D visualization(time-space-cube + mood)  \"},\"autosize\":false,\"width\":800,\"height\":600},                        {\"responsive\": true}                    ).then(function(){\n",
       "                            \n",
       "var gd = document.getElementById('8613c9e0-0ea8-4621-b68c-d415d6849927');\n",
       "var x = new MutationObserver(function (mutations, observer) {{\n",
       "        var display = window.getComputedStyle(gd).display;\n",
       "        if (!display || display === 'none') {{\n",
       "            console.log([gd, 'removed!']);\n",
       "            Plotly.purge(gd);\n",
       "            observer.disconnect();\n",
       "        }}\n",
       "}});\n",
       "\n",
       "// Listen for the removal of the full notebook cells\n",
       "var notebookContainer = gd.closest('#notebook-container');\n",
       "if (notebookContainer) {{\n",
       "    x.observe(notebookContainer, {childList: true});\n",
       "}}\n",
       "\n",
       "// Listen for the clearing of the current output cell\n",
       "var outputEl = gd.closest('.output');\n",
       "if (outputEl) {{\n",
       "    x.observe(outputEl, {childList: true});\n",
       "}}\n",
       "\n",
       "                        })                };                });            </script>        </div>"
      ]
     },
     "metadata": {},
     "output_type": "display_data"
    }
   ],
   "source": [
    "# Plot the trajectory in space-time cube \n",
    "\n",
    "fig = px.line_3d(tdf_sub2, x=\"longitude_home\", y=\"latitude_home\", z=\"Time\",color=\"mood\",hover_name=\"location_name\")\n",
    "fig.update_traces(line=dict(width=5))\n",
    "fig.update_layout(autosize = False,width = 800,height = 600,title_text='subject_2- 4D visualization(time-space-cube + mood)  ')\n",
    "\n",
    "\n",
    "fig.show()"
   ]
  },
  {
   "cell_type": "markdown",
   "metadata": {},
   "source": [
    "## 4D visualization , with who"
   ]
  },
  {
   "cell_type": "code",
   "execution_count": 80,
   "metadata": {},
   "outputs": [
    {
     "data": {
      "application/vnd.plotly.v1+json": {
       "config": {
        "plotlyServerURL": "https://plot.ly"
       },
       "data": [
        {
         "hovertemplate": "<b>%{hovertext}</b><br><br>with_who=Alone<br>longitude_home=%{x}<br>latitude_home=%{y}<br>Time=%{z}<extra></extra>",
         "hovertext": [
          "Via Antonio Rosmini",
          "Via Antonio Rosmini",
          "Via Antonio Rosmini",
          "Via Antonio Rosmini",
          "Via Antonio Rosmini",
          "Via Antonio Rosmini",
          "Via Antonio Rosmini",
          "Via Antonio Rosmini",
          "Via Antonio Rosmini",
          "Via Antonio Rosmini",
          "Via Antonio Rosmini",
          "Via Antonio Rosmini",
          "Via Antonio Rosmini",
          "Via Antonio Rosmini",
          "Via Antonio Rosmini",
          "Via Antonio Rosmini",
          "Via Antonio Rosmini",
          "Via Antonio Rosmini",
          "Via Antonio Rosmini",
          "Via Antonio Rosmini",
          "Via Antonio Rosmini",
          "Via Antonio Rosmini",
          "Via Antonio Rosmini",
          "Via Antonio Rosmini",
          "Via Antonio Rosmini",
          "Via Antonio Rosmini",
          "Via Antonio Rosmini",
          "Via Antonio Rosmini",
          "Via Antonio Rosmini",
          "Via Antonio Rosmini",
          "Via Antonio Rosmini",
          "Via Antonio Rosmini",
          "Via Antonio Rosmini",
          "Via Antonio Rosmini",
          "Via Antonio Rosmini",
          "Via Antonio Rosmini",
          "Via Antonio Rosmini",
          "Via Antonio Rosmini",
          "Via Antonio Rosmini",
          "Via Antonio Rosmini",
          "Via Antonio Rosmini",
          "Via Antonio Rosmini",
          "Via Antonio Rosmini",
          "Via Antonio Rosmini",
          "Via Antonio Rosmini",
          "Via Antonio Rosmini",
          "Via Antonio Rosmini",
          "Via Antonio Rosmini",
          "Via Antonio Rosmini",
          "Via Antonio Rosmini",
          "Via Antonio Rosmini",
          "Via Antonio Rosmini",
          "Via Antonio Rosmini",
          "Via Antonio Rosmini",
          "Via Antonio Rosmini",
          "Via Antonio Rosmini",
          "Via Antonio Rosmini",
          "Via Antonio Rosmini",
          "Via Antonio Rosmini",
          "Via Antonio Rosmini",
          "Via Antonio Rosmini",
          "Via Antonio Rosmini",
          "Via Antonio Rosmini",
          "Via Antonio Rosmini",
          "Via Antonio Rosmini",
          "Via Antonio Rosmini",
          "Via Antonio Rosmini",
          "Via Antonio Rosmini",
          "Via Antonio Rosmini",
          "Via Antonio Rosmini",
          "Via Antonio Rosmini",
          "Via Antonio Rosmini",
          "Via Antonio Rosmini",
          "Via Antonio Rosmini",
          "Via Antonio Rosmini",
          "Via Antonio Rosmini",
          "Via Antonio Rosmini",
          "Via Antonio Rosmini",
          "Via Antonio Rosmini",
          "Via Antonio Rosmini",
          "Via Antonio Rosmini",
          "Via Antonio Rosmini",
          "Via Antonio Rosmini",
          "Via Antonio Rosmini",
          "Via Antonio Rosmini",
          "Via Antonio Rosmini",
          "Via Antonio Rosmini",
          "Via Antonio Rosmini",
          "Via Antonio Rosmini",
          "Via Antonio Rosmini",
          "Via Antonio Rosmini",
          "Via Antonio Rosmini",
          "Via Antonio Rosmini",
          "Via Antonio Rosmini",
          "Via Antonio Rosmini",
          "Via Antonio Rosmini",
          "Via Antonio Rosmini",
          "Via Antonio Rosmini",
          "Via Antonio Rosmini",
          "Via Antonio Rosmini",
          "Via Antonio Rosmini",
          "Via Antonio Rosmini",
          "Via Antonio Rosmini",
          "Via Antonio Rosmini",
          "Via Antonio Rosmini",
          "Via Antonio Rosmini",
          "Via Antonio Rosmini",
          "Via Antonio Rosmini",
          "Via Antonio Rosmini",
          "Via Antonio Rosmini",
          "Via Antonio Rosmini",
          "Via Antonio Rosmini",
          "Via Antonio Rosmini",
          "Via Antonio Rosmini",
          "Via Antonio Rosmini",
          "Via Antonio Rosmini",
          "Via Antonio Rosmini",
          "Via Antonio Rosmini",
          "Via Antonio Rosmini",
          "Via Antonio Rosmini",
          "Via Antonio Rosmini",
          "Via Antonio Rosmini",
          "Via Antonio Rosmini",
          "Via Antonio Rosmini",
          "Via Antonio Rosmini",
          "Via Antonio Rosmini",
          "Via Antonio Rosmini",
          "Via Antonio Rosmini",
          "Via Antonio Rosmini",
          "Via Antonio Rosmini",
          "Via Antonio Rosmini",
          "Via Antonio Rosmini",
          "Via Antonio Rosmini",
          "Via Antonio Rosmini",
          "Via Antonio Rosmini",
          "Via Antonio Rosmini",
          "Via Antonio Rosmini",
          "Via Antonio Rosmini",
          "Via Antonio Rosmini",
          "Via Antonio Rosmini",
          "Via Antonio Rosmini",
          "Via Antonio Rosmini",
          "Via Antonio Rosmini",
          "Via Antonio Rosmini",
          "Via Antonio Rosmini",
          "Via Antonio Rosmini",
          "Via Antonio Rosmini",
          "Via Antonio Rosmini",
          "Via Antonio Rosmini",
          "Via Antonio Rosmini",
          "Via Antonio Rosmini",
          "Via Antonio Rosmini",
          "Via Antonio Rosmini",
          "Via Antonio Rosmini",
          "Via Antonio Rosmini",
          "Via Antonio Rosmini",
          "Via Antonio Rosmini",
          "Via Antonio Rosmini",
          "Via Antonio Rosmini",
          "Via Antonio Rosmini",
          "Via Antonio Rosmini",
          "Via Antonio Rosmini",
          "Via Antonio Rosmini",
          "Via Antonio Rosmini",
          "Via Antonio Rosmini",
          "Via Antonio Rosmini",
          "Via Antonio Rosmini",
          "Via Antonio Rosmini",
          "Via Antonio Rosmini",
          "Via Antonio Rosmini",
          "Via Antonio Rosmini",
          "Via Antonio Rosmini",
          "Via Antonio Rosmini",
          "Via Antonio Rosmini",
          "Via Antonio Rosmini",
          "Via Antonio Rosmini",
          "Via Antonio Rosmini",
          "Via Antonio Rosmini",
          "Via Antonio Rosmini",
          "Via Antonio Rosmini",
          "Via Antonio Rosmini",
          "Via Antonio Rosmini",
          "Via Antonio Rosmini",
          "Via Antonio Rosmini",
          "Via Antonio Rosmini",
          "Via Antonio Rosmini",
          "Via Antonio Rosmini",
          "Via Antonio Rosmini",
          "Via Antonio Rosmini",
          "Via Antonio Rosmini",
          "Via Antonio Rosmini",
          "Via Antonio Rosmini",
          "Via Antonio Rosmini",
          "Via Antonio Rosmini",
          "Via Antonio Rosmini",
          "Via Antonio Rosmini",
          "Via Antonio Rosmini",
          "Via Antonio Rosmini",
          "Via Antonio Rosmini",
          "Via Antonio Rosmini",
          "Via Antonio Rosmini",
          "Via Antonio Rosmini",
          "Via Antonio Rosmini",
          "Via Antonio Rosmini",
          "Via Antonio Rosmini",
          "Via Antonio Rosmini",
          "Via Antonio Rosmini",
          "Via Antonio Rosmini",
          "Via Antonio Rosmini",
          "Via Antonio Rosmini",
          "Via Antonio Rosmini",
          "Via Antonio Rosmini",
          "Via Antonio Rosmini",
          "Via Antonio Rosmini",
          "Via Antonio Rosmini",
          "Via Antonio Rosmini",
          "Via Antonio Rosmini",
          "Via Antonio Rosmini",
          "Via Antonio Rosmini",
          "Via Antonio Rosmini",
          "Via Antonio Rosmini",
          "Via Antonio Rosmini",
          "Via Antonio Rosmini",
          "Via Antonio Rosmini",
          "Via Antonio Rosmini",
          "Via Antonio Rosmini",
          "Via Antonio Rosmini",
          "Via Antonio Rosmini",
          "Via Antonio Rosmini",
          "Via Antonio Rosmini",
          "Via Antonio Rosmini",
          "Via Antonio Rosmini",
          "Via Antonio Rosmini",
          "Via Antonio Rosmini",
          "Via Antonio Rosmini",
          "Via Antonio Rosmini",
          "Via Antonio Rosmini",
          "Via Antonio Rosmini",
          "Via Antonio Rosmini",
          "Via Antonio Rosmini",
          "Via Antonio Rosmini",
          "Via Antonio Rosmini",
          "Via Antonio Rosmini",
          "Via Antonio Rosmini",
          "Via Antonio Rosmini",
          "Via Antonio Rosmini",
          "Via Antonio Rosmini",
          "Via Antonio Rosmini",
          "Via Antonio Rosmini",
          "Via Antonio Rosmini",
          "Via Antonio Rosmini",
          "Via Antonio Rosmini",
          "Via Antonio Rosmini",
          "Via Antonio Rosmini",
          "Via Antonio Rosmini",
          "Via Antonio Rosmini",
          "Via Antonio Rosmini",
          "Via Antonio Rosmini",
          "Via Antonio Rosmini",
          "Via Antonio Rosmini",
          "Via Antonio Rosmini",
          "Via Antonio Rosmini",
          "Via Antonio Rosmini",
          "Via Antonio Rosmini",
          "Via Antonio Rosmini",
          "Via Antonio Rosmini",
          "Via Antonio Rosmini",
          "Via Antonio Rosmini",
          "Via Antonio Rosmini",
          "Via Antonio Rosmini",
          "Via Antonio Rosmini",
          "Via Antonio Rosmini",
          "Via Antonio Rosmini",
          "Via Antonio Rosmini",
          "Via Antonio Rosmini",
          "Via Antonio Rosmini",
          "Via Antonio Rosmini",
          "Via Antonio Rosmini",
          "Via Antonio Rosmini",
          "Via Antonio Rosmini",
          "Via Antonio Rosmini",
          "Via Antonio Rosmini",
          "Via Antonio Rosmini",
          "Via Antonio Rosmini",
          "Via Antonio Rosmini",
          "Via Antonio Rosmini",
          "Via Antonio Rosmini",
          "Via Antonio Rosmini",
          "Via Antonio Rosmini",
          "Via Antonio Rosmini",
          "Via Antonio Rosmini",
          "Via Antonio Rosmini",
          "Via Antonio Rosmini",
          "Via Antonio Rosmini",
          "Via Antonio Rosmini",
          "Via Antonio Rosmini",
          "Via Antonio Rosmini",
          "Via Antonio Rosmini",
          "Via Antonio Rosmini",
          "Via Antonio Rosmini",
          "Via Antonio Rosmini",
          "Via Antonio Rosmini",
          "Via Antonio Rosmini",
          "Via Antonio Rosmini",
          "Via Antonio Rosmini",
          "Via Antonio Rosmini",
          "Via Antonio Rosmini",
          "Via Antonio Rosmini",
          "Via Antonio Rosmini",
          "Via Antonio Rosmini",
          "Via Antonio Rosmini",
          "Via Antonio Rosmini",
          "Via Antonio Rosmini",
          "Via Antonio Rosmini",
          "Via Antonio Rosmini",
          "Via Antonio Rosmini",
          "Via Antonio Rosmini",
          "Via Antonio Rosmini",
          "Via Antonio Rosmini",
          "Via Antonio Rosmini",
          "Via Antonio Rosmini",
          "Via Antonio Rosmini",
          "Via Antonio Rosmini",
          "Via Antonio Rosmini",
          "Via Antonio Rosmini",
          "Via Antonio Rosmini",
          "Via Antonio Rosmini",
          "Via Antonio Rosmini",
          "Via Antonio Rosmini",
          "Via Antonio Rosmini",
          "Via Antonio Rosmini",
          "Via Antonio Rosmini",
          "Via Antonio Rosmini",
          "Via Antonio Rosmini",
          "Via Antonio Rosmini",
          "Via Antonio Rosmini",
          "Via Antonio Rosmini",
          "Via Antonio Rosmini",
          "Via Antonio Rosmini",
          "Via Antonio Rosmini",
          "Via Antonio Rosmini",
          "Via Antonio Rosmini",
          "Via Antonio Rosmini",
          "Via Antonio Rosmini",
          "Via Antonio Rosmini",
          "Via Antonio Rosmini",
          "Via Antonio Rosmini",
          "Via Antonio Rosmini",
          "Via Antonio Rosmini",
          "Via Antonio Rosmini",
          "Via Antonio Rosmini",
          "Via Antonio Rosmini",
          "Via Antonio Rosmini",
          "Via Antonio Rosmini",
          "Via Antonio Rosmini",
          "Via Antonio Rosmini",
          "Via Antonio Rosmini",
          "Via Antonio Rosmini",
          "Via Antonio Rosmini",
          "Via Antonio Rosmini",
          "Via Antonio Rosmini",
          "Via Antonio Rosmini",
          "Via Antonio Rosmini",
          "Via Antonio Rosmini",
          "Via Antonio Rosmini",
          "Via Antonio Rosmini",
          "Via Antonio Rosmini",
          "Via Antonio Rosmini",
          "Via Antonio Rosmini",
          "Via Antonio Rosmini",
          "Via Antonio Rosmini",
          "Via Antonio Rosmini",
          "Via Antonio Rosmini",
          "Via Antonio Rosmini",
          "Via Antonio Rosmini",
          "Via Antonio Rosmini",
          "Via Antonio Rosmini",
          "Via Antonio Rosmini",
          "Via Antonio Rosmini",
          "Via Antonio Rosmini",
          "Via Antonio Rosmini",
          "Via Antonio Rosmini",
          "Via Antonio Rosmini",
          "Via Antonio Rosmini",
          "Via Antonio Rosmini",
          "Via Antonio Rosmini",
          "Via Antonio Rosmini",
          "Via Antonio Rosmini",
          "Via Antonio Rosmini",
          "Via Antonio Rosmini",
          "Via Antonio Rosmini",
          "Via Antonio Rosmini",
          "Via Antonio Rosmini",
          "Via Antonio Rosmini",
          "Via Antonio Rosmini",
          "Via Antonio Rosmini",
          "Via Antonio Rosmini",
          "Via Antonio Rosmini",
          "Via Antonio Rosmini",
          "Via Antonio Rosmini",
          "Via Antonio Rosmini",
          "Via Antonio Rosmini",
          "Via Antonio Rosmini",
          "Via Antonio Rosmini",
          "Via Antonio Rosmini",
          "Via Antonio Rosmini",
          "Via Antonio Rosmini",
          "Via Antonio Rosmini",
          "Via Antonio Rosmini",
          "Via Antonio Rosmini",
          "Via Antonio Rosmini",
          "Via Antonio Rosmini",
          "Via Antonio Rosmini",
          "Via Antonio Rosmini",
          "Via Antonio Rosmini",
          "Via Antonio Rosmini",
          "Via Antonio Rosmini",
          "Via Antonio Rosmini",
          "Via Antonio Rosmini",
          "Via Antonio Rosmini",
          "Via Antonio Rosmini",
          "Via Antonio Rosmini",
          "Via Antonio Rosmini",
          "Via Antonio Rosmini",
          "Via Antonio Rosmini",
          "Via Antonio Rosmini",
          "Via Antonio Rosmini",
          "Via Antonio Rosmini",
          "Via Antonio Rosmini",
          "Via Antonio Rosmini",
          "Via Antonio Rosmini",
          "Via Antonio Rosmini",
          "Via Antonio Rosmini",
          "Via Antonio Rosmini",
          "Via Antonio Rosmini",
          "Via Antonio Rosmini",
          "Via Antonio Rosmini",
          "Via Antonio Rosmini",
          "Via Antonio Rosmini",
          "Via Antonio Rosmini",
          "Via Antonio Rosmini",
          "Via Antonio Rosmini",
          "Via Antonio Rosmini",
          "Via Antonio Rosmini",
          "Via Antonio Rosmini",
          "Via Antonio Rosmini",
          "Via Antonio Rosmini",
          "Via Antonio Rosmini",
          "Via Antonio Rosmini",
          "Via Antonio Rosmini",
          "Via Antonio Rosmini",
          "Via Antonio Rosmini",
          "Via Antonio Rosmini",
          "Via Antonio Rosmini",
          "Via Antonio Rosmini",
          "Via Antonio Rosmini",
          "Via Antonio Rosmini",
          "Via Antonio Rosmini",
          "Via Antonio Rosmini",
          "Via Antonio Rosmini",
          "Via Antonio Rosmini",
          "Via Antonio Rosmini",
          "Via Antonio Rosmini",
          "Via Antonio Rosmini",
          "Via Antonio Rosmini",
          "Via Antonio Rosmini",
          "Via Antonio Rosmini"
         ],
         "legendgroup": "Alone",
         "line": {
          "color": "#636efa",
          "dash": "solid",
          "width": 5
         },
         "marker": {
          "symbol": "circle"
         },
         "mode": "lines",
         "name": "Alone",
         "scene": "scene",
         "showlegend": true,
         "type": "scatter3d",
         "x": [
          11.119008,
          11.119008,
          11.119008,
          11.119008,
          11.119008,
          11.119008,
          11.119008,
          11.119008,
          11.119008,
          11.119008,
          11.119008,
          11.119008,
          11.119008,
          11.119008,
          11.119008,
          11.119008,
          11.119008,
          11.119008,
          11.119008,
          11.119008,
          11.119008,
          11.119008,
          11.119008,
          11.119008,
          11.119008,
          11.119008,
          11.119008,
          11.119008,
          11.119008,
          11.119008,
          11.119008,
          11.119008,
          11.119008,
          11.119008,
          11.119008,
          11.119008,
          11.119008,
          11.119008,
          11.119008,
          11.119008,
          11.119008,
          11.119008,
          11.119008,
          11.119008,
          11.119008,
          11.119008,
          11.119008,
          11.119008,
          11.119008,
          11.119008,
          11.119008,
          11.119008,
          11.119008,
          11.119008,
          11.119008,
          11.119008,
          11.119008,
          11.119008,
          11.119008,
          11.119008,
          11.119008,
          11.119008,
          11.119008,
          11.119008,
          11.119008,
          11.119008,
          11.119008,
          11.119008,
          11.119008,
          11.119008,
          11.119008,
          11.119008,
          11.119008,
          11.119008,
          11.119008,
          11.119008,
          11.119008,
          11.119008,
          11.119008,
          11.119008,
          11.119008,
          11.119008,
          11.119008,
          11.119008,
          11.119008,
          11.119008,
          11.119008,
          11.119008,
          11.119008,
          11.119008,
          11.119008,
          11.119008,
          11.119008,
          11.119008,
          11.119008,
          11.119008,
          11.119008,
          11.119008,
          11.119008,
          11.119008,
          11.119008,
          11.119008,
          11.119008,
          11.119008,
          11.119008,
          11.119008,
          11.119008,
          11.119008,
          11.119008,
          11.119008,
          11.119008,
          11.119008,
          11.119008,
          11.119008,
          11.119008,
          11.119008,
          11.119008,
          11.119008,
          11.119008,
          11.119008,
          11.119008,
          11.119008,
          11.119008,
          11.119008,
          11.119008,
          11.119008,
          11.119008,
          11.119008,
          11.119008,
          11.119008,
          11.119008,
          11.119008,
          11.119008,
          11.119008,
          11.119008,
          11.119008,
          11.119008,
          11.119008,
          11.119008,
          11.119008,
          11.119008,
          11.119008,
          11.119008,
          11.119008,
          11.119008,
          11.119008,
          11.119008,
          11.119008,
          11.119008,
          11.119008,
          11.119008,
          11.119008,
          11.119008,
          11.119008,
          11.119008,
          11.119008,
          11.119008,
          11.119008,
          11.119008,
          11.119008,
          11.119008,
          11.119008,
          11.119008,
          11.119008,
          11.119008,
          11.119008,
          11.119008,
          11.119008,
          11.119008,
          11.119008,
          11.119008,
          11.119008,
          11.119008,
          11.119008,
          11.119008,
          11.119008,
          11.119008,
          11.119008,
          11.119008,
          11.119008,
          11.119008,
          11.119008,
          11.119008,
          11.119008,
          11.119008,
          11.119008,
          11.119008,
          11.119008,
          11.119008,
          11.119008,
          11.119008,
          11.119008,
          11.119008,
          11.119008,
          11.119008,
          11.119008,
          11.119008,
          11.119008,
          11.119008,
          11.119008,
          11.119008,
          11.119008,
          11.119008,
          11.119008,
          11.119008,
          11.119008,
          11.119008,
          11.119008,
          11.119008,
          11.119008,
          11.119008,
          11.119008,
          11.119008,
          11.119008,
          11.119008,
          11.119008,
          11.119008,
          11.119008,
          11.119008,
          11.119008,
          11.119008,
          11.119008,
          11.119008,
          11.119008,
          11.119008,
          11.119008,
          11.119008,
          11.119008,
          11.119008,
          11.119008,
          11.119008,
          11.119008,
          11.119008,
          11.119008,
          11.119008,
          11.119008,
          11.119008,
          11.119008,
          11.119008,
          11.119008,
          11.119008,
          11.119008,
          11.119008,
          11.119008,
          11.119008,
          11.119008,
          11.119008,
          11.119008,
          11.119008,
          11.119008,
          11.119008,
          11.119008,
          11.119008,
          11.119008,
          11.119008,
          11.119008,
          11.119008,
          11.119008,
          11.119008,
          11.119008,
          11.119008,
          11.119008,
          11.119008,
          11.119008,
          11.119008,
          11.119008,
          11.119008,
          11.119008,
          11.119008,
          11.119008,
          11.119008,
          11.119008,
          11.119008,
          11.119008,
          11.119008,
          11.119008,
          11.119008,
          11.119008,
          11.119008,
          11.119008,
          11.119008,
          11.119008,
          11.119008,
          11.119008,
          11.119008,
          11.119008,
          11.119008,
          11.119008,
          11.119008,
          11.119008,
          11.119008,
          11.119008,
          11.119008,
          11.119008,
          11.119008,
          11.119008,
          11.119008,
          11.119008,
          11.119008,
          11.119008,
          11.119008,
          11.119008,
          11.119008,
          11.119008,
          11.119008,
          11.119008,
          11.119008,
          11.119008,
          11.119008,
          11.119008,
          11.119008,
          11.119008,
          11.119008,
          11.119008,
          11.119008,
          11.119008,
          11.119008,
          11.119008,
          11.119008,
          11.119008,
          11.119008,
          11.119008,
          11.119008,
          11.119008,
          11.119008,
          11.119008,
          11.119008,
          11.119008,
          11.119008,
          11.119008,
          11.119008,
          11.119008,
          11.119008,
          11.119008,
          11.119008,
          11.119008,
          11.119008,
          11.119008,
          11.119008,
          11.119008,
          11.119008,
          11.119008,
          11.119008,
          11.119008,
          11.119008,
          11.119008,
          11.119008,
          11.119008,
          11.119008,
          11.119008,
          11.119008,
          11.119008,
          11.119008,
          11.119008,
          11.119008,
          11.119008,
          11.119008,
          11.119008,
          11.119008,
          11.119008,
          11.119008,
          11.119008,
          11.119008,
          11.119008,
          11.119008,
          11.119008,
          11.119008,
          11.119008,
          11.119008,
          11.119008,
          11.119008,
          11.119008,
          11.119008,
          11.119008,
          11.119008,
          11.119008,
          11.119008,
          11.119008,
          11.119008,
          11.119008,
          11.119008,
          11.119008,
          11.119008,
          11.119008,
          11.119008,
          11.119008,
          11.119008,
          11.119008,
          11.119008,
          11.119008,
          11.119008,
          11.119008,
          11.119008,
          11.119008,
          11.119008,
          11.119008,
          11.119008,
          11.119008,
          11.119008,
          11.119008,
          11.119008,
          11.119008,
          11.119008,
          11.119008,
          11.119008,
          11.119008,
          11.119008,
          11.119008,
          11.119008,
          11.119008,
          11.119008,
          11.119008,
          11.119008,
          11.119008,
          11.119008,
          11.119008,
          11.119008,
          11.119008,
          11.119008,
          11.119008,
          11.119008,
          11.119008,
          11.119008,
          11.119008,
          11.119008,
          11.119008,
          11.119008,
          11.119008,
          11.119008,
          11.119008,
          11.119008,
          11.119008,
          11.119008,
          11.119008,
          11.119008,
          11.119008,
          11.119008,
          11.119008,
          11.119008,
          11.119008,
          11.119008,
          11.119008,
          11.119008,
          11.119008,
          11.119008,
          11.119008,
          11.119008,
          11.119008,
          11.119008,
          11.119008,
          11.119008,
          11.119008,
          11.119008,
          11.119008,
          11.119008,
          11.119008,
          11.119008,
          11.119008,
          11.119008,
          11.119008,
          11.119008,
          11.119008,
          11.119008,
          11.119008,
          11.119008,
          11.119008,
          11.119008
         ],
         "y": [
          46.065852,
          46.065852,
          46.065852,
          46.065852,
          46.065852,
          46.065852,
          46.065852,
          46.065852,
          46.065852,
          46.065852,
          46.065852,
          46.065852,
          46.065852,
          46.065852,
          46.065852,
          46.065852,
          46.065852,
          46.065852,
          46.065852,
          46.065852,
          46.065852,
          46.065852,
          46.065852,
          46.065852,
          46.065852,
          46.065852,
          46.065852,
          46.065852,
          46.065852,
          46.065852,
          46.065852,
          46.065852,
          46.065852,
          46.065852,
          46.065852,
          46.065852,
          46.065852,
          46.065852,
          46.065852,
          46.065852,
          46.065852,
          46.065852,
          46.065852,
          46.065852,
          46.065852,
          46.065852,
          46.065852,
          46.065852,
          46.065852,
          46.065852,
          46.065852,
          46.065852,
          46.065852,
          46.065852,
          46.065852,
          46.065852,
          46.065852,
          46.065852,
          46.065852,
          46.065852,
          46.065852,
          46.065852,
          46.065852,
          46.065852,
          46.065852,
          46.065852,
          46.065852,
          46.065852,
          46.065852,
          46.065852,
          46.065852,
          46.065852,
          46.065852,
          46.065852,
          46.065852,
          46.065852,
          46.065852,
          46.065852,
          46.065852,
          46.065852,
          46.065852,
          46.065852,
          46.065852,
          46.065852,
          46.065852,
          46.065852,
          46.065852,
          46.065852,
          46.065852,
          46.065852,
          46.065852,
          46.065852,
          46.065852,
          46.065852,
          46.065852,
          46.065852,
          46.065852,
          46.065852,
          46.065852,
          46.065852,
          46.065852,
          46.065852,
          46.065852,
          46.065852,
          46.065852,
          46.065852,
          46.065852,
          46.065852,
          46.065852,
          46.065852,
          46.065852,
          46.065852,
          46.065852,
          46.065852,
          46.065852,
          46.065852,
          46.065852,
          46.065852,
          46.065852,
          46.065852,
          46.065852,
          46.065852,
          46.065852,
          46.065852,
          46.065852,
          46.065852,
          46.065852,
          46.065852,
          46.065852,
          46.065852,
          46.065852,
          46.065852,
          46.065852,
          46.065852,
          46.065852,
          46.065852,
          46.065852,
          46.065852,
          46.065852,
          46.065852,
          46.065852,
          46.065852,
          46.065852,
          46.065852,
          46.065852,
          46.065852,
          46.065852,
          46.065852,
          46.065852,
          46.065852,
          46.065852,
          46.065852,
          46.065852,
          46.065852,
          46.065852,
          46.065852,
          46.065852,
          46.065852,
          46.065852,
          46.065852,
          46.065852,
          46.065852,
          46.065852,
          46.065852,
          46.065852,
          46.065852,
          46.065852,
          46.065852,
          46.065852,
          46.065852,
          46.065852,
          46.065852,
          46.065852,
          46.065852,
          46.065852,
          46.065852,
          46.065852,
          46.065852,
          46.065852,
          46.065852,
          46.065852,
          46.065852,
          46.065852,
          46.065852,
          46.065852,
          46.065852,
          46.065852,
          46.065852,
          46.065852,
          46.065852,
          46.065852,
          46.065852,
          46.065852,
          46.065852,
          46.065852,
          46.065852,
          46.065852,
          46.065852,
          46.065852,
          46.065852,
          46.065852,
          46.065852,
          46.065852,
          46.065852,
          46.065852,
          46.065852,
          46.065852,
          46.065852,
          46.065852,
          46.065852,
          46.065852,
          46.065852,
          46.065852,
          46.065852,
          46.065852,
          46.065852,
          46.065852,
          46.065852,
          46.065852,
          46.065852,
          46.065852,
          46.065852,
          46.065852,
          46.065852,
          46.065852,
          46.065852,
          46.065852,
          46.065852,
          46.065852,
          46.065852,
          46.065852,
          46.065852,
          46.065852,
          46.065852,
          46.065852,
          46.065852,
          46.065852,
          46.065852,
          46.065852,
          46.065852,
          46.065852,
          46.065852,
          46.065852,
          46.065852,
          46.065852,
          46.065852,
          46.065852,
          46.065852,
          46.065852,
          46.065852,
          46.065852,
          46.065852,
          46.065852,
          46.065852,
          46.065852,
          46.065852,
          46.065852,
          46.065852,
          46.065852,
          46.065852,
          46.065852,
          46.065852,
          46.065852,
          46.065852,
          46.065852,
          46.065852,
          46.065852,
          46.065852,
          46.065852,
          46.065852,
          46.065852,
          46.065852,
          46.065852,
          46.065852,
          46.065852,
          46.065852,
          46.065852,
          46.065852,
          46.065852,
          46.065852,
          46.065852,
          46.065852,
          46.065852,
          46.065852,
          46.065852,
          46.065852,
          46.065852,
          46.065852,
          46.065852,
          46.065852,
          46.065852,
          46.065852,
          46.065852,
          46.065852,
          46.065852,
          46.065852,
          46.065852,
          46.065852,
          46.065852,
          46.065852,
          46.065852,
          46.065852,
          46.065852,
          46.065852,
          46.065852,
          46.065852,
          46.065852,
          46.065852,
          46.065852,
          46.065852,
          46.065852,
          46.065852,
          46.065852,
          46.065852,
          46.065852,
          46.065852,
          46.065852,
          46.065852,
          46.065852,
          46.065852,
          46.065852,
          46.065852,
          46.065852,
          46.065852,
          46.065852,
          46.065852,
          46.065852,
          46.065852,
          46.065852,
          46.065852,
          46.065852,
          46.065852,
          46.065852,
          46.065852,
          46.065852,
          46.065852,
          46.065852,
          46.065852,
          46.065852,
          46.065852,
          46.065852,
          46.065852,
          46.065852,
          46.065852,
          46.065852,
          46.065852,
          46.065852,
          46.065852,
          46.065852,
          46.065852,
          46.065852,
          46.065852,
          46.065852,
          46.065852,
          46.065852,
          46.065852,
          46.065852,
          46.065852,
          46.065852,
          46.065852,
          46.065852,
          46.065852,
          46.065852,
          46.065852,
          46.065852,
          46.065852,
          46.065852,
          46.065852,
          46.065852,
          46.065852,
          46.065852,
          46.065852,
          46.065852,
          46.065852,
          46.065852,
          46.065852,
          46.065852,
          46.065852,
          46.065852,
          46.065852,
          46.065852,
          46.065852,
          46.065852,
          46.065852,
          46.065852,
          46.065852,
          46.065852,
          46.065852,
          46.065852,
          46.065852,
          46.065852,
          46.065852,
          46.065852,
          46.065852,
          46.065852,
          46.065852,
          46.065852,
          46.065852,
          46.065852,
          46.065852,
          46.065852,
          46.065852,
          46.065852,
          46.065852,
          46.065852,
          46.065852,
          46.065852,
          46.065852,
          46.065852,
          46.065852,
          46.065852,
          46.065852,
          46.065852,
          46.065852,
          46.065852,
          46.065852,
          46.065852,
          46.065852,
          46.065852,
          46.065852,
          46.065852,
          46.065852,
          46.065852,
          46.065852,
          46.065852,
          46.065852,
          46.065852,
          46.065852,
          46.065852,
          46.065852,
          46.065852,
          46.065852,
          46.065852,
          46.065852,
          46.065852,
          46.065852,
          46.065852,
          46.065852,
          46.065852,
          46.065852,
          46.065852,
          46.065852,
          46.065852,
          46.065852,
          46.065852,
          46.065852,
          46.065852,
          46.065852,
          46.065852,
          46.065852,
          46.065852,
          46.065852,
          46.065852,
          46.065852,
          46.065852,
          46.065852,
          46.065852,
          46.065852,
          46.065852,
          46.065852,
          46.065852,
          46.065852,
          46.065852,
          46.065852,
          46.065852,
          46.065852,
          46.065852
         ],
         "z": [
          "2018-05-10T00:02:18.790000",
          "2018-05-10T00:32:18.635000",
          "2018-05-10T01:02:18.641000",
          "2018-05-10T01:32:18.620000",
          "2018-05-10T02:02:18.631000",
          "2018-05-10T02:32:18.613000",
          "2018-05-10T03:02:18.624000",
          "2018-05-10T03:32:18",
          "2018-05-10T04:02:18",
          "2018-05-10T04:32:18",
          "2018-05-10T05:02:18",
          "2018-05-10T05:32:18",
          "2018-05-10T06:02:18",
          "2018-05-10T06:32:18",
          "2018-05-10T07:02:18",
          "2018-05-10T07:32:18",
          "2018-05-10T08:02:18",
          "2018-05-10T08:32:18",
          "2018-05-10T09:02:18",
          "2018-05-10T09:32:18.619000",
          "2018-05-10T10:02:18.627000",
          "2018-05-10T10:32:18.621000",
          "2018-05-10T11:02:18.619000",
          "2018-05-10T11:32:18.614000",
          "2018-05-10T14:02:18.627000",
          "2018-05-10T16:02:18.656000",
          "2018-05-10T16:32:18.671000",
          "2018-05-10T17:02:18.623000",
          "2018-05-10T17:32:18.620000",
          "2018-05-10T18:32:18.612000",
          "2018-05-10T19:02:18.634000",
          "2018-05-10T19:32:18.666000",
          "2018-05-10T22:02:18.626000",
          "2018-05-10T22:32:18.616000",
          "2018-05-10T23:02:18.635000",
          "2018-05-10T23:32:18.722000",
          "2018-05-11T00:02:18.635000",
          "2018-05-11T00:32:18.626000",
          "2018-05-11T01:02:18.632000",
          "2018-05-11T01:32:18",
          "2018-05-11T02:02:18",
          "2018-05-11T02:32:18",
          "2018-05-11T03:02:18",
          "2018-05-11T03:32:18",
          "2018-05-11T04:02:18",
          "2018-05-11T04:32:18",
          "2018-05-11T05:02:18",
          "2018-05-11T05:32:18",
          "2018-05-11T06:02:18",
          "2018-05-11T06:32:18",
          "2018-05-11T07:02:18",
          "2018-05-11T07:32:18",
          "2018-05-11T08:02:18",
          "2018-05-11T08:32:18",
          "2018-05-11T12:02:18.624000",
          "2018-05-11T12:32:18.633000",
          "2018-05-11T13:02:18.628000",
          "2018-05-11T14:02:18.617000",
          "2018-05-11T14:32:18.624000",
          "2018-05-11T15:02:18.703000",
          "2018-05-11T16:02:18.629000",
          "2018-05-11T16:32:18.625000",
          "2018-05-11T17:02:18.612000",
          "2018-05-11T17:32:18.613000",
          "2018-05-11T18:02:18.620000",
          "2018-05-11T18:32:18.622000",
          "2018-05-11T19:02:18.627000",
          "2018-05-11T19:32:18.613000",
          "2018-05-11T20:02:18.621000",
          "2018-05-12T02:32:18.621000",
          "2018-05-12T03:02:18",
          "2018-05-12T03:32:18",
          "2018-05-12T04:02:18",
          "2018-05-12T04:32:18",
          "2018-05-12T05:02:18",
          "2018-05-12T05:32:18",
          "2018-05-12T06:02:18",
          "2018-05-12T06:32:18",
          "2018-05-12T07:02:18",
          "2018-05-12T07:32:18",
          "2018-05-12T08:02:18",
          "2018-05-12T08:32:18",
          "2018-05-12T16:02:18.636000",
          "2018-05-12T16:32:18.725000",
          "2018-05-12T17:02:18.627000",
          "2018-05-12T17:32:18.622000",
          "2018-05-12T18:02:18.621000",
          "2018-05-12T18:32:18.613000",
          "2018-05-12T19:02:18.632000",
          "2018-05-12T19:32:18.612000",
          "2018-05-12T20:02:18.623000",
          "2018-05-12T20:32:18.615000",
          "2018-05-12T21:02:18.628000",
          "2018-05-12T21:32:18.614000",
          "2018-05-12T22:02:18.631000",
          "2018-05-12T23:02:18.627000",
          "2018-05-12T23:32:18.614000",
          "2018-05-13T00:02:18.618000",
          "2018-05-13T00:32:18.630000",
          "2018-05-13T01:02:18",
          "2018-05-13T01:32:18",
          "2018-05-13T02:02:18",
          "2018-05-13T02:32:18",
          "2018-05-13T03:02:18",
          "2018-05-13T03:32:18",
          "2018-05-13T04:02:18",
          "2018-05-13T04:32:18",
          "2018-05-13T05:02:18",
          "2018-05-13T05:32:18",
          "2018-05-13T06:02:18",
          "2018-05-13T06:32:18",
          "2018-05-13T07:02:18",
          "2018-05-13T07:32:18",
          "2018-05-13T08:02:18",
          "2018-05-13T08:32:18",
          "2018-05-13T13:02:18.623000",
          "2018-05-13T13:32:18.629000",
          "2018-05-13T14:02:18.617000",
          "2018-05-13T15:02:18.652000",
          "2018-05-13T19:32:18.616000",
          "2018-05-13T20:02:18.613000",
          "2018-05-13T20:32:18.651000",
          "2018-05-13T21:02:18.612000",
          "2018-05-13T21:32:18.617000",
          "2018-05-13T22:02:18.612000",
          "2018-05-13T22:32:18.618000",
          "2018-05-13T23:02:18.627000",
          "2018-05-13T23:32:18.615000",
          "2018-05-14T00:02:18.618000",
          "2018-05-14T00:32:18.613000",
          "2018-05-14T01:02:18.611000",
          "2018-05-14T01:32:18",
          "2018-05-14T02:02:18",
          "2018-05-14T02:32:18.618000",
          "2018-05-14T03:02:18.613000",
          "2018-05-14T03:32:18",
          "2018-05-14T04:02:18",
          "2018-05-14T04:32:18",
          "2018-05-14T05:02:18",
          "2018-05-14T05:32:18",
          "2018-05-14T06:02:18",
          "2018-05-14T06:32:18",
          "2018-05-14T07:02:18",
          "2018-05-14T07:32:18",
          "2018-05-14T08:02:18.613000",
          "2018-05-14T10:32:18.611000",
          "2018-05-14T11:02:18.758000",
          "2018-05-14T11:32:18.620000",
          "2018-05-14T13:02:18.619000",
          "2018-05-14T14:02:18.628000",
          "2018-05-14T14:32:18.621000",
          "2018-05-14T15:32:18.612000",
          "2018-05-14T16:02:18.679000",
          "2018-05-14T16:32:18.614000",
          "2018-05-14T17:02:18.616000",
          "2018-05-14T17:32:18.681000",
          "2018-05-14T18:02:18.629000",
          "2018-05-14T18:32:18.615000",
          "2018-05-14T19:02:18.621000",
          "2018-05-14T20:32:18.699000",
          "2018-05-14T21:02:18.612000",
          "2018-05-14T21:32:18.610000",
          "2018-05-14T22:32:18.611000",
          "2018-05-14T23:02:18.613000",
          "2018-05-14T23:32:18.628000",
          "2018-05-15T00:02:18",
          "2018-05-15T00:32:18",
          "2018-05-15T01:02:18",
          "2018-05-15T01:32:18",
          "2018-05-15T02:02:18",
          "2018-05-15T02:32:18",
          "2018-05-15T03:02:18",
          "2018-05-15T03:32:18",
          "2018-05-15T04:02:18",
          "2018-05-15T04:32:18",
          "2018-05-15T05:02:18",
          "2018-05-15T05:32:18",
          "2018-05-15T06:02:18",
          "2018-05-15T06:32:18",
          "2018-05-15T07:02:18",
          "2018-05-15T07:32:18",
          "2018-05-15T08:02:18",
          "2018-05-15T08:32:18",
          "2018-05-15T09:02:18",
          "2018-05-15T09:32:18",
          "2018-05-15T13:32:18.626000",
          "2018-05-15T14:02:18.618000",
          "2018-05-15T15:02:18.617000",
          "2018-05-15T15:32:18.615000",
          "2018-05-15T16:02:18.614000",
          "2018-05-15T16:32:18.613000",
          "2018-05-15T17:02:18.611000",
          "2018-05-15T17:32:18.612000",
          "2018-05-15T18:02:18.621000",
          "2018-05-15T18:32:18.631000",
          "2018-05-15T19:02:18.627000",
          "2018-05-15T19:32:18.622000",
          "2018-05-15T20:02:18.612000",
          "2018-05-15T20:32:18.722000",
          "2018-05-15T21:02:18.651000",
          "2018-05-15T21:32:18.622000",
          "2018-05-15T22:02:18.620000",
          "2018-05-15T23:02:18.623000",
          "2018-05-16T00:32:18.646000",
          "2018-05-16T01:02:18.743000",
          "2018-05-16T01:32:18.627000",
          "2018-05-16T02:02:18.628000",
          "2018-05-16T02:32:18.635000",
          "2018-05-16T03:02:18",
          "2018-05-16T03:32:18",
          "2018-05-16T04:02:18",
          "2018-05-16T04:32:18",
          "2018-05-16T05:02:18",
          "2018-05-16T05:32:18",
          "2018-05-16T06:02:18",
          "2018-05-16T06:32:18",
          "2018-05-16T07:02:18",
          "2018-05-16T07:32:18",
          "2018-05-16T08:02:18",
          "2018-05-16T08:32:18",
          "2018-05-16T09:02:18",
          "2018-05-16T09:32:18",
          "2018-05-16T11:02:18.614000",
          "2018-05-16T11:32:18.614000",
          "2018-05-16T13:32:18.702000",
          "2018-05-16T17:02:18.656000",
          "2018-05-16T17:32:18.626000",
          "2018-05-16T18:02:18.628000",
          "2018-05-16T18:32:18.623000",
          "2018-05-16T19:02:18.620000",
          "2018-05-16T19:32:18.621000",
          "2018-05-16T20:02:18.623000",
          "2018-05-16T20:32:18.702000",
          "2018-05-16T21:02:18.611000",
          "2018-05-16T21:32:18.634000",
          "2018-05-16T22:02:18.623000",
          "2018-05-16T22:32:18.616000",
          "2018-05-16T23:32:18.614000",
          "2018-05-17T00:02:18.629000",
          "2018-05-17T00:32:18.624000",
          "2018-05-17T01:02:18.616000",
          "2018-05-17T01:32:18.620000",
          "2018-05-17T02:02:18",
          "2018-05-17T02:32:18",
          "2018-05-17T03:02:18",
          "2018-05-17T03:32:18",
          "2018-05-17T04:02:18",
          "2018-05-17T04:32:18",
          "2018-05-17T05:02:18",
          "2018-05-17T05:32:18",
          "2018-05-17T06:02:18",
          "2018-05-17T06:32:18",
          "2018-05-17T07:02:18",
          "2018-05-17T07:32:18",
          "2018-05-17T08:02:18",
          "2018-05-17T08:32:18",
          "2018-05-17T12:32:18.611000",
          "2018-05-17T13:02:18.620000",
          "2018-05-17T13:32:18.648000",
          "2018-05-17T14:02:18.616000",
          "2018-05-17T14:32:18.612000",
          "2018-05-17T15:02:18.629000",
          "2018-05-17T17:32:18.619000",
          "2018-05-17T19:02:18.612000",
          "2018-05-17T19:32:18.621000",
          "2018-05-17T20:02:18.726000",
          "2018-05-17T20:32:18.609000",
          "2018-05-17T21:02:18.609000",
          "2018-05-17T21:32:18.613000",
          "2018-05-17T22:02:18.613000",
          "2018-05-17T22:32:18.618000",
          "2018-05-17T23:02:18.611000",
          "2018-05-17T23:32:18.637000",
          "2018-05-18T00:02:18.615000",
          "2018-05-18T00:32:18.620000",
          "2018-05-18T01:02:18.686000",
          "2018-05-18T01:32:18.613000",
          "2018-05-18T02:02:18.624000",
          "2018-05-18T02:32:18.722000",
          "2018-05-18T03:02:18.611000",
          "2018-05-18T03:32:18.612000",
          "2018-05-18T04:02:18.630000",
          "2018-05-18T04:32:18.612000",
          "2018-05-18T05:02:18.780000",
          "2018-05-18T05:32:18.619000",
          "2018-05-18T06:02:18.609000",
          "2018-05-18T06:32:18.611000",
          "2018-05-18T07:02:18.612000",
          "2018-05-18T07:32:18.613000",
          "2018-05-18T08:02:18.609000",
          "2018-05-18T08:32:18.616000",
          "2018-05-18T09:02:18.619000",
          "2018-05-18T09:32:18.629000",
          "2018-05-18T10:02:18.610000",
          "2018-05-18T12:02:18.619000",
          "2018-05-18T12:32:18.610000",
          "2018-05-18T13:02:18.617000",
          "2018-05-18T14:02:18.614000",
          "2018-05-18T14:32:18.613000",
          "2018-05-18T15:02:18.617000",
          "2018-05-18T15:32:18.615000",
          "2018-05-18T16:02:18.609000",
          "2018-05-18T16:32:18.623000",
          "2018-05-18T17:02:18.629000",
          "2018-05-18T17:32:18.611000",
          "2018-05-18T18:02:18.680000",
          "2018-05-18T18:32:18.610000",
          "2018-05-18T19:02:18.622000",
          "2018-05-18T19:32:18.836000",
          "2018-05-18T20:02:18.612000",
          "2018-05-18T20:32:18",
          "2018-05-18T21:02:18.612000",
          "2018-05-18T22:32:18.614000",
          "2018-05-19T01:02:18.637000",
          "2018-05-19T01:32:18",
          "2018-05-19T02:02:18",
          "2018-05-19T02:32:18",
          "2018-05-19T03:02:18",
          "2018-05-19T03:32:18",
          "2018-05-19T04:02:18",
          "2018-05-19T04:32:18",
          "2018-05-19T05:02:18",
          "2018-05-19T05:32:18",
          "2018-05-19T06:02:18",
          "2018-05-19T06:32:18",
          "2018-05-19T07:02:18",
          "2018-05-19T07:32:18",
          "2018-05-19T08:02:18",
          "2018-05-19T08:32:18",
          "2018-05-19T09:02:18",
          "2018-05-19T09:32:18",
          "2018-05-19T12:32:18.613000",
          "2018-05-19T13:02:18.612000",
          "2018-05-19T13:32:18.611000",
          "2018-05-19T15:32:18.620000",
          "2018-05-19T16:02:18.610000",
          "2018-05-19T16:32:18.611000",
          "2018-05-19T17:32:18.681000",
          "2018-05-19T18:02:18.609000",
          "2018-05-19T18:32:18.628000",
          "2018-05-19T19:02:18.641000",
          "2018-05-19T19:32:18.615000",
          "2018-05-19T20:02:18.610000",
          "2018-05-19T22:02:18.633000",
          "2018-05-19T22:32:18.610000",
          "2018-05-20T03:02:18.610000",
          "2018-05-20T03:32:18.611000",
          "2018-05-20T04:02:18.613000",
          "2018-05-20T04:32:18.625000",
          "2018-05-20T05:02:18.615000",
          "2018-05-20T05:32:18.611000",
          "2018-05-20T06:02:18.610000",
          "2018-05-20T06:32:18.630000",
          "2018-05-20T07:02:18.611000",
          "2018-05-20T07:32:18.609000",
          "2018-05-20T08:02:18.613000",
          "2018-05-20T08:32:18.609000",
          "2018-05-20T09:02:18.617000",
          "2018-05-20T09:32:18.611000",
          "2018-05-20T10:02:18.626000",
          "2018-05-20T10:32:18.608000",
          "2018-05-20T11:02:18.611000",
          "2018-05-20T11:32:18.614000",
          "2018-05-20T12:02:18.610000",
          "2018-05-20T12:32:18.611000",
          "2018-05-20T13:02:18.611000",
          "2018-05-20T14:32:18.620000",
          "2018-05-20T15:02:18.744000",
          "2018-05-20T15:32:18.615000",
          "2018-05-20T16:02:18.621000",
          "2018-05-20T16:32:18.612000",
          "2018-05-20T17:02:18.626000",
          "2018-05-20T17:32:18.609000",
          "2018-05-20T18:02:18.613000",
          "2018-05-20T18:32:18.682000",
          "2018-05-20T19:02:18.614000",
          "2018-05-20T19:32:18",
          "2018-05-20T20:02:18.630000",
          "2018-05-20T21:32:18.678000",
          "2018-05-20T22:02:18.610000",
          "2018-05-20T22:32:18.610000",
          "2018-05-20T23:02:18.611000",
          "2018-05-20T23:32:18.688000",
          "2018-05-21T00:02:18.609000",
          "2018-05-21T00:32:18.614000",
          "2018-05-21T01:02:18.613000",
          "2018-05-21T01:32:18.627000",
          "2018-05-21T02:02:18.616000",
          "2018-05-21T02:32:18",
          "2018-05-21T03:02:18",
          "2018-05-21T03:32:18",
          "2018-05-21T04:02:18",
          "2018-05-21T04:32:18",
          "2018-05-21T05:02:18",
          "2018-05-21T05:32:18",
          "2018-05-21T06:02:18",
          "2018-05-21T06:32:18",
          "2018-05-21T07:02:18",
          "2018-05-21T07:32:18",
          "2018-05-21T08:02:18",
          "2018-05-21T08:32:18",
          "2018-05-21T11:32:18.610000",
          "2018-05-21T12:02:18.613000",
          "2018-05-21T15:32:18.615000",
          "2018-05-21T16:02:18.616000",
          "2018-05-21T16:32:18.612000",
          "2018-05-21T17:02:18.622000",
          "2018-05-21T17:32:18.610000",
          "2018-05-21T18:02:18.637000",
          "2018-05-21T18:32:18.619000",
          "2018-05-21T19:02:18.610000",
          "2018-05-21T19:32:18.611000",
          "2018-05-21T20:02:18.614000",
          "2018-05-21T20:32:18.612000",
          "2018-05-21T21:02:18.614000",
          "2018-05-21T22:32:18.643000",
          "2018-05-21T23:02:18.614000",
          "2018-05-21T23:32:18.609000",
          "2018-05-22T00:02:18.610000",
          "2018-05-22T01:02:18.618000",
          "2018-05-22T01:32:18.619000",
          "2018-05-22T02:02:18.652000",
          "2018-05-22T02:32:18",
          "2018-05-22T03:02:18",
          "2018-05-22T03:32:18",
          "2018-05-22T04:02:18",
          "2018-05-22T04:32:18",
          "2018-05-22T05:02:18",
          "2018-05-22T05:32:18",
          "2018-05-22T06:02:18",
          "2018-05-22T06:32:18",
          "2018-05-22T07:02:18",
          "2018-05-22T07:32:18",
          "2018-05-22T08:02:18",
          "2018-05-22T08:32:18",
          "2018-05-22T17:02:18.610000",
          "2018-05-22T18:02:18.622000",
          "2018-05-22T18:32:18.611000",
          "2018-05-22T19:02:18.615000",
          "2018-05-22T19:32:18.702000",
          "2018-05-22T20:02:18.617000",
          "2018-05-22T20:32:18.612000",
          "2018-05-22T21:02:18.666000",
          "2018-05-22T21:32:18.609000",
          "2018-05-23T00:02:18.613000",
          "2018-05-23T00:32:18.613000",
          "2018-05-23T01:02:18.615000",
          "2018-05-23T01:32:18.621000",
          "2018-05-23T02:02:18",
          "2018-05-23T02:32:18",
          "2018-05-23T03:02:18",
          "2018-05-23T03:32:18",
          "2018-05-23T04:02:18",
          "2018-05-23T04:32:18",
          "2018-05-23T05:02:18",
          "2018-05-23T05:32:18",
          "2018-05-23T06:02:18",
          "2018-05-23T06:32:18",
          "2018-05-23T07:02:18",
          "2018-05-23T07:32:18",
          "2018-05-23T08:02:18",
          "2018-05-23T08:32:18",
          "2018-05-23T09:02:18",
          "2018-05-23T09:32:18",
          "2018-05-23T10:32:18.611000",
          "2018-05-23T11:02:18.610000",
          "2018-05-23T14:02:18.679000"
         ]
        },
        {
         "hovertemplate": "<b>%{hovertext}</b><br><br>with_who=Relative(s)<br>longitude_home=%{x}<br>latitude_home=%{y}<br>Time=%{z}<extra></extra>",
         "hovertext": [
          "Via Antonio Rosmini",
          "Via Antonio Rosmini",
          "Via Antonio Rosmini",
          "Via Antonio Rosmini",
          "Via Antonio Rosmini",
          "Via Antonio Rosmini",
          "Via Antonio Rosmini",
          "Via Antonio Rosmini",
          "Via Antonio Rosmini",
          "Via Antonio Rosmini",
          "Via Antonio Rosmini",
          "Via Antonio Rosmini",
          "Via Antonio Rosmini",
          "Via Antonio Rosmini",
          "Via Antonio Rosmini",
          "Via Antonio Rosmini",
          "Via Antonio Rosmini",
          "Via Antonio Rosmini"
         ],
         "legendgroup": "Relative(s)",
         "line": {
          "color": "#EF553B",
          "dash": "solid",
          "width": 5
         },
         "marker": {
          "symbol": "circle"
         },
         "mode": "lines",
         "name": "Relative(s)",
         "scene": "scene",
         "showlegend": true,
         "type": "scatter3d",
         "x": [
          11.119008,
          11.119008,
          11.119008,
          11.119008,
          11.119008,
          11.119008,
          11.119008,
          11.119008,
          11.119008,
          11.119008,
          11.119008,
          11.119008,
          11.119008,
          11.119008,
          11.119008,
          11.119008,
          11.119008,
          11.119008
         ],
         "y": [
          46.065852,
          46.065852,
          46.065852,
          46.065852,
          46.065852,
          46.065852,
          46.065852,
          46.065852,
          46.065852,
          46.065852,
          46.065852,
          46.065852,
          46.065852,
          46.065852,
          46.065852,
          46.065852,
          46.065852,
          46.065852
         ],
         "z": [
          "2018-05-10T12:02:18.619000",
          "2018-05-10T12:32:18.631000",
          "2018-05-10T13:02:18.619000",
          "2018-05-10T13:32:18.628000",
          "2018-05-10T14:32:18.615000",
          "2018-05-10T15:02:58.394000",
          "2018-05-10T15:32:18.623000",
          "2018-05-10T20:02:18.620000",
          "2018-05-10T20:32:18.620000",
          "2018-05-10T21:02:18.624000",
          "2018-05-10T21:32:18.626000",
          "2018-05-11T09:32:18.637000",
          "2018-05-11T10:02:18.639000",
          "2018-05-11T10:32:18.616000",
          "2018-05-11T11:02:18.616000",
          "2018-05-11T11:32:18.667000",
          "2018-05-11T13:32:18.638000",
          "2018-05-11T15:32:18.633000"
         ]
        },
        {
         "hovertemplate": "<b>%{hovertext}</b><br><br>with_who=missing_val<br>longitude_home=%{x}<br>latitude_home=%{y}<br>Time=%{z}<extra></extra>",
         "hovertext": [
          "Via Antonio Rosmini",
          "Via Antonio Rosmini",
          "Via Antonio Rosmini",
          "Via Antonio Rosmini",
          "Via Antonio Rosmini",
          "Via Antonio Rosmini",
          "Via Antonio Rosmini",
          "Via Antonio Rosmini",
          "Via Antonio Rosmini",
          "Via Antonio Rosmini",
          "Via Antonio Rosmini",
          "Via Antonio Rosmini",
          "Via Antonio Rosmini",
          "Via Antonio Rosmini",
          "Via Antonio Rosmini",
          "Via Antonio Rosmini",
          "Via Antonio Rosmini",
          "Via Antonio Rosmini",
          "Via Antonio Rosmini",
          "Via Antonio Rosmini",
          "Via Antonio Rosmini",
          "Via Antonio Rosmini",
          "Via Antonio Rosmini",
          "Via Antonio Rosmini",
          "Via Antonio Rosmini",
          "Via Antonio Rosmini",
          "Via Antonio Rosmini",
          "Via Antonio Rosmini",
          "Via Antonio Rosmini",
          "Via Antonio Rosmini",
          "Via Antonio Rosmini",
          "Via Antonio Rosmini",
          "Via Antonio Rosmini",
          "Via Antonio Rosmini",
          "Via Antonio Rosmini",
          "Via Antonio Rosmini",
          "Via Antonio Rosmini",
          "Via Antonio Rosmini",
          "Via Antonio Rosmini",
          "Via Antonio Rosmini",
          "Via Antonio Rosmini",
          "Via Antonio Rosmini",
          "Via Antonio Rosmini",
          "Via Antonio Rosmini",
          "Via Antonio Rosmini",
          "Via Antonio Rosmini",
          "Via Antonio Rosmini",
          "Via Antonio Rosmini",
          "Via Antonio Rosmini",
          "Via Antonio Rosmini",
          "Via Antonio Rosmini",
          "Via Antonio Rosmini",
          "Via Antonio Rosmini",
          "Via Antonio Rosmini",
          "Via Antonio Rosmini",
          "Via Antonio Rosmini",
          "Via Antonio Rosmini",
          "Via Antonio Rosmini",
          "Via Antonio Rosmini",
          "Via Antonio Rosmini",
          "Via Antonio Rosmini",
          "Via Antonio Rosmini",
          "Via Antonio Rosmini",
          "Via Antonio Rosmini",
          "Via Antonio Rosmini",
          "Via Antonio Rosmini",
          "Via Antonio Rosmini",
          "Via Antonio Rosmini",
          "Via Antonio Rosmini",
          "Via Antonio Rosmini",
          "Via Antonio Rosmini",
          "Via Antonio Rosmini",
          "Via Antonio Rosmini",
          "Via Antonio Rosmini",
          "Via Antonio Rosmini",
          "Via Antonio Rosmini",
          "Via Antonio Rosmini",
          "Via Antonio Rosmini",
          "Via Antonio Rosmini",
          "Via Antonio Rosmini",
          "Via Antonio Rosmini",
          "Via Antonio Rosmini",
          "Via Antonio Rosmini",
          "Via Antonio Rosmini",
          "Via Antonio Rosmini"
         ],
         "legendgroup": "missing_val",
         "line": {
          "color": "#00cc96",
          "dash": "solid",
          "width": 5
         },
         "marker": {
          "symbol": "circle"
         },
         "mode": "lines",
         "name": "missing_val",
         "scene": "scene",
         "showlegend": true,
         "type": "scatter3d",
         "x": [
          11.119008,
          11.119008,
          11.119008,
          11.119008,
          11.119008,
          11.119008,
          11.119008,
          11.119008,
          11.119008,
          11.119008,
          11.119008,
          11.119008,
          11.119008,
          11.119008,
          11.119008,
          11.119008,
          11.119008,
          11.119008,
          11.119008,
          11.119008,
          11.119008,
          11.119008,
          11.119008,
          11.119008,
          11.119008,
          11.119008,
          11.119008,
          11.119008,
          11.119008,
          11.119008,
          11.119008,
          11.119008,
          11.119008,
          11.119008,
          11.119008,
          11.119008,
          11.119008,
          11.119008,
          11.119008,
          11.119008,
          11.119008,
          11.119008,
          11.119008,
          11.119008,
          11.119008,
          11.119008,
          11.119008,
          11.119008,
          11.119008,
          11.119008,
          11.119008,
          11.119008,
          11.119008,
          11.119008,
          11.119008,
          11.119008,
          11.119008,
          11.119008,
          11.119008,
          11.119008,
          11.119008,
          11.119008,
          11.119008,
          11.119008,
          11.119008,
          11.119008,
          11.119008,
          11.119008,
          11.119008,
          11.119008,
          11.119008,
          11.119008,
          11.119008,
          11.119008,
          11.119008,
          11.119008,
          11.119008,
          11.119008,
          11.119008,
          11.119008,
          11.119008,
          11.119008,
          11.119008,
          11.119008,
          11.119008
         ],
         "y": [
          46.065852,
          46.065852,
          46.065852,
          46.065852,
          46.065852,
          46.065852,
          46.065852,
          46.065852,
          46.065852,
          46.065852,
          46.065852,
          46.065852,
          46.065852,
          46.065852,
          46.065852,
          46.065852,
          46.065852,
          46.065852,
          46.065852,
          46.065852,
          46.065852,
          46.065852,
          46.065852,
          46.065852,
          46.065852,
          46.065852,
          46.065852,
          46.065852,
          46.065852,
          46.065852,
          46.065852,
          46.065852,
          46.065852,
          46.065852,
          46.065852,
          46.065852,
          46.065852,
          46.065852,
          46.065852,
          46.065852,
          46.065852,
          46.065852,
          46.065852,
          46.065852,
          46.065852,
          46.065852,
          46.065852,
          46.065852,
          46.065852,
          46.065852,
          46.065852,
          46.065852,
          46.065852,
          46.065852,
          46.065852,
          46.065852,
          46.065852,
          46.065852,
          46.065852,
          46.065852,
          46.065852,
          46.065852,
          46.065852,
          46.065852,
          46.065852,
          46.065852,
          46.065852,
          46.065852,
          46.065852,
          46.065852,
          46.065852,
          46.065852,
          46.065852,
          46.065852,
          46.065852,
          46.065852,
          46.065852,
          46.065852,
          46.065852,
          46.065852,
          46.065852,
          46.065852,
          46.065852,
          46.065852,
          46.065852
         ],
         "z": [
          "2018-05-10T18:02:18",
          "2018-05-11T09:02:18",
          "2018-05-12T09:02:18",
          "2018-05-12T09:32:18",
          "2018-05-12T10:02:18",
          "2018-05-12T10:32:18",
          "2018-05-12T11:02:18",
          "2018-05-12T11:32:18",
          "2018-05-12T12:02:18",
          "2018-05-12T12:32:18",
          "2018-05-12T13:02:18",
          "2018-05-12T13:32:18",
          "2018-05-12T14:02:18",
          "2018-05-12T14:32:18",
          "2018-05-12T15:02:18",
          "2018-05-12T15:32:18",
          "2018-05-12T22:32:18",
          "2018-05-13T09:02:18",
          "2018-05-13T09:32:18",
          "2018-05-13T10:02:18",
          "2018-05-13T10:32:18",
          "2018-05-13T11:02:18",
          "2018-05-13T11:32:18",
          "2018-05-13T12:02:18",
          "2018-05-13T12:32:18",
          "2018-05-14T19:32:18",
          "2018-05-14T20:02:18",
          "2018-05-15T10:02:18",
          "2018-05-15T10:32:18",
          "2018-05-15T11:02:18",
          "2018-05-15T14:32:18",
          "2018-05-15T23:32:18",
          "2018-05-16T00:02:18",
          "2018-05-16T10:02:18",
          "2018-05-16T10:32:18",
          "2018-05-16T14:02:18",
          "2018-05-16T14:32:18",
          "2018-05-16T15:02:18",
          "2018-05-16T15:32:18",
          "2018-05-16T16:02:18",
          "2018-05-16T16:32:18",
          "2018-05-16T23:02:18",
          "2018-05-17T09:02:18",
          "2018-05-19T10:02:18",
          "2018-05-19T10:32:18",
          "2018-05-19T11:02:18",
          "2018-05-19T11:32:18",
          "2018-05-19T12:02:18",
          "2018-05-19T20:32:18",
          "2018-05-19T21:02:18",
          "2018-05-20T13:32:18",
          "2018-05-20T14:02:18",
          "2018-05-21T09:02:18",
          "2018-05-21T09:32:18",
          "2018-05-21T10:02:18",
          "2018-05-21T10:32:18",
          "2018-05-21T11:02:18",
          "2018-05-21T21:32:18",
          "2018-05-21T22:02:18",
          "2018-05-22T00:32:18",
          "2018-05-22T09:02:18",
          "2018-05-22T09:32:18",
          "2018-05-22T10:02:18",
          "2018-05-22T10:32:18",
          "2018-05-22T11:02:18",
          "2018-05-22T22:02:18",
          "2018-05-22T22:32:18",
          "2018-05-22T23:02:18",
          "2018-05-22T23:32:18",
          "2018-05-23T10:02:18",
          "2018-05-23T15:02:18",
          "2018-05-23T15:32:18",
          "2018-05-23T16:02:18",
          "2018-05-23T16:32:18",
          "2018-05-23T17:02:18",
          "2018-05-23T17:32:18",
          "2018-05-23T18:02:18",
          "2018-05-23T18:32:18",
          "2018-05-23T19:02:18",
          "2018-05-23T19:32:18",
          "2018-05-23T20:02:18",
          "2018-05-23T20:32:18",
          "2018-05-23T22:32:18",
          "2018-05-23T23:02:18",
          "2018-05-23T23:32:18"
         ]
        },
        {
         "hovertemplate": "<b>%{hovertext}</b><br><br>with_who=Friend(s)<br>longitude_home=%{x}<br>latitude_home=%{y}<br>Time=%{z}<extra></extra>",
         "hovertext": [
          "Via Antonio Rosmini",
          "Via Antonio Rosmini",
          "Via Antonio Rosmini",
          "Via Antonio Rosmini",
          "Via Antonio Rosmini",
          "Via Antonio Rosmini",
          "Via Antonio Rosmini",
          "Via Antonio Rosmini",
          "Via Antonio Rosmini",
          "Via Antonio Rosmini",
          "Via Antonio Rosmini",
          "Via Antonio Rosmini",
          "Via Antonio Rosmini",
          "Via Antonio Rosmini",
          "Via Antonio Rosmini",
          "Via Antonio Rosmini",
          "Via Antonio Rosmini",
          "Via Antonio Rosmini",
          "Via Antonio Rosmini",
          "Via Antonio Rosmini",
          "Via Antonio Rosmini",
          "Via Antonio Rosmini",
          "Via Antonio Rosmini",
          "Via Antonio Rosmini",
          "Via Antonio Rosmini",
          "Via Antonio Rosmini",
          "Via Antonio Rosmini",
          "Via Antonio Rosmini",
          "Via Antonio Rosmini",
          "Via Antonio Rosmini",
          "Via Antonio Rosmini",
          "Via Antonio Rosmini",
          "Via Antonio Rosmini",
          "Via Antonio Rosmini",
          "Via Antonio Rosmini",
          "Via Antonio Rosmini",
          "Via Antonio Rosmini",
          "Via Antonio Rosmini",
          "Via Antonio Rosmini",
          "Via Antonio Rosmini"
         ],
         "legendgroup": "Friend(s)",
         "line": {
          "color": "#ab63fa",
          "dash": "solid",
          "width": 5
         },
         "marker": {
          "symbol": "circle"
         },
         "mode": "lines",
         "name": "Friend(s)",
         "scene": "scene",
         "showlegend": true,
         "type": "scatter3d",
         "x": [
          11.119008,
          11.119008,
          11.119008,
          11.119008,
          11.119008,
          11.119008,
          11.119008,
          11.119008,
          11.119008,
          11.119008,
          11.119008,
          11.119008,
          11.119008,
          11.119008,
          11.119008,
          11.119008,
          11.119008,
          11.119008,
          11.119008,
          11.119008,
          11.119008,
          11.119008,
          11.119008,
          11.119008,
          11.119008,
          11.119008,
          11.119008,
          11.119008,
          11.119008,
          11.119008,
          11.119008,
          11.119008,
          11.119008,
          11.119008,
          11.119008,
          11.119008,
          11.119008,
          11.119008,
          11.119008,
          11.119008
         ],
         "y": [
          46.065852,
          46.065852,
          46.065852,
          46.065852,
          46.065852,
          46.065852,
          46.065852,
          46.065852,
          46.065852,
          46.065852,
          46.065852,
          46.065852,
          46.065852,
          46.065852,
          46.065852,
          46.065852,
          46.065852,
          46.065852,
          46.065852,
          46.065852,
          46.065852,
          46.065852,
          46.065852,
          46.065852,
          46.065852,
          46.065852,
          46.065852,
          46.065852,
          46.065852,
          46.065852,
          46.065852,
          46.065852,
          46.065852,
          46.065852,
          46.065852,
          46.065852,
          46.065852,
          46.065852,
          46.065852,
          46.065852
         ],
         "z": [
          "2018-05-11T20:32:18.623000",
          "2018-05-11T21:02:18.613000",
          "2018-05-11T21:32:18.629000",
          "2018-05-11T22:02:18.619000",
          "2018-05-11T22:32:18.627000",
          "2018-05-11T23:02:18.614000",
          "2018-05-11T23:32:18.620000",
          "2018-05-12T00:02:18.621000",
          "2018-05-12T00:32:18.660000",
          "2018-05-12T01:02:18.618000",
          "2018-05-12T01:32:18.626000",
          "2018-05-12T02:02:18.618000",
          "2018-05-13T15:32:18.614000",
          "2018-05-13T16:02:18.612000",
          "2018-05-13T16:32:18.614000",
          "2018-05-13T17:02:18",
          "2018-05-13T17:32:18.655000",
          "2018-05-13T18:02:18.616000",
          "2018-05-13T18:32:18.611000",
          "2018-05-13T19:02:18.619000",
          "2018-05-18T21:32:18.610000",
          "2018-05-18T22:02:18.609000",
          "2018-05-18T23:02:18.638000",
          "2018-05-18T23:32:18.613000",
          "2018-05-19T00:02:18.614000",
          "2018-05-19T00:32:18.610000",
          "2018-05-19T23:02:18.610000",
          "2018-05-19T23:32:18.615000",
          "2018-05-20T00:02:18.613000",
          "2018-05-20T00:32:18.629000",
          "2018-05-20T01:02:18.609000",
          "2018-05-20T01:32:18.612000",
          "2018-05-20T02:02:18.628000",
          "2018-05-20T02:32:18.617000",
          "2018-05-21T13:02:18.612000",
          "2018-05-21T13:32:18.610000",
          "2018-05-23T11:32:18.645000",
          "2018-05-23T21:02:18.625000",
          "2018-05-23T21:32:18.614000",
          "2018-05-23T22:02:18.613000"
         ]
        },
        {
         "hovertemplate": "<b>%{hovertext}</b><br><br>with_who=Roommate(s)<br>longitude_home=%{x}<br>latitude_home=%{y}<br>Time=%{z}<extra></extra>",
         "hovertext": [
          "Via Antonio Rosmini",
          "Via Antonio Rosmini",
          "Via Antonio Rosmini",
          "Via Antonio Rosmini",
          "Via Antonio Rosmini",
          "Via Antonio Rosmini",
          "Via Antonio Rosmini",
          "Via Antonio Rosmini",
          "Via Antonio Rosmini",
          "Via Antonio Rosmini",
          "Via Antonio Rosmini",
          "Via Antonio Rosmini",
          "Via Antonio Rosmini",
          "Via Antonio Rosmini",
          "Via Antonio Rosmini"
         ],
         "legendgroup": "Roommate(s)",
         "line": {
          "color": "#FFA15A",
          "dash": "solid",
          "width": 5
         },
         "marker": {
          "symbol": "circle"
         },
         "mode": "lines",
         "name": "Roommate(s)",
         "scene": "scene",
         "showlegend": true,
         "type": "scatter3d",
         "x": [
          11.119008,
          11.119008,
          11.119008,
          11.119008,
          11.119008,
          11.119008,
          11.119008,
          11.119008,
          11.119008,
          11.119008,
          11.119008,
          11.119008,
          11.119008,
          11.119008,
          11.119008
         ],
         "y": [
          46.065852,
          46.065852,
          46.065852,
          46.065852,
          46.065852,
          46.065852,
          46.065852,
          46.065852,
          46.065852,
          46.065852,
          46.065852,
          46.065852,
          46.065852,
          46.065852,
          46.065852
         ],
         "z": [
          "2018-05-13T14:32:18.610000",
          "2018-05-14T12:02:18.619000",
          "2018-05-14T12:32:18.614000",
          "2018-05-14T22:02:18.610000",
          "2018-05-15T22:32:18.625000",
          "2018-05-18T13:32:18.616000",
          "2018-05-19T14:02:18.612000",
          "2018-05-19T14:32:18.611000",
          "2018-05-19T15:02:18.620000",
          "2018-05-19T17:02:18.615000",
          "2018-05-19T21:32:18.610000",
          "2018-05-20T20:32:18.618000",
          "2018-05-20T21:02:18.610000",
          "2018-05-22T17:32:18.659000",
          "2018-05-23T14:32:18.640000"
         ]
        },
        {
         "hovertemplate": "<b>%{hovertext}</b><br><br>with_who=Classmate(s)<br>longitude_home=%{x}<br>latitude_home=%{y}<br>Time=%{z}<extra></extra>",
         "hovertext": [
          "Via Antonio Rosmini",
          "Via Antonio Rosmini",
          "Via Antonio Rosmini",
          "Via Antonio Rosmini",
          "Via Antonio Rosmini",
          "Via Antonio Rosmini",
          "Via Antonio Rosmini",
          "Via Antonio Rosmini",
          "Via Antonio Rosmini",
          "Via Antonio Rosmini",
          "Via Antonio Rosmini",
          "Via Antonio Rosmini",
          "Via Antonio Rosmini",
          "Via Antonio Rosmini",
          "Via Antonio Rosmini",
          "Via Antonio Rosmini",
          "Via Antonio Rosmini",
          "Via Antonio Rosmini",
          "Via Antonio Rosmini",
          "Via Antonio Rosmini",
          "Via Antonio Rosmini",
          "Via Antonio Rosmini",
          "Via Antonio Rosmini",
          "Via Antonio Rosmini",
          "Via Antonio Rosmini",
          "Via Antonio Rosmini",
          "Via Antonio Rosmini",
          "Via Antonio Rosmini",
          "Via Antonio Rosmini",
          "Via Antonio Rosmini",
          "Via Antonio Rosmini",
          "Via Antonio Rosmini",
          "Via Antonio Rosmini",
          "Via Antonio Rosmini",
          "Via Antonio Rosmini",
          "Via Antonio Rosmini",
          "Via Antonio Rosmini",
          "Via Antonio Rosmini",
          "Via Antonio Rosmini",
          "Via Antonio Rosmini",
          "Via Antonio Rosmini",
          "Via Antonio Rosmini",
          "Via Antonio Rosmini",
          "Via Antonio Rosmini",
          "Via Antonio Rosmini",
          "Via Antonio Rosmini",
          "Via Antonio Rosmini"
         ],
         "legendgroup": "Classmate(s)",
         "line": {
          "color": "#19d3f3",
          "dash": "solid",
          "width": 5
         },
         "marker": {
          "symbol": "circle"
         },
         "mode": "lines",
         "name": "Classmate(s)",
         "scene": "scene",
         "showlegend": true,
         "type": "scatter3d",
         "x": [
          11.119008,
          11.119008,
          11.119008,
          11.119008,
          11.119008,
          11.119008,
          11.119008,
          11.119008,
          11.119008,
          11.119008,
          11.119008,
          11.119008,
          11.119008,
          11.119008,
          11.119008,
          11.119008,
          11.119008,
          11.119008,
          11.119008,
          11.119008,
          11.119008,
          11.119008,
          11.119008,
          11.119008,
          11.119008,
          11.119008,
          11.119008,
          11.119008,
          11.119008,
          11.119008,
          11.119008,
          11.119008,
          11.119008,
          11.119008,
          11.119008,
          11.119008,
          11.119008,
          11.119008,
          11.119008,
          11.119008,
          11.119008,
          11.119008,
          11.119008,
          11.119008,
          11.119008,
          11.119008,
          11.119008
         ],
         "y": [
          46.065852,
          46.065852,
          46.065852,
          46.065852,
          46.065852,
          46.065852,
          46.065852,
          46.065852,
          46.065852,
          46.065852,
          46.065852,
          46.065852,
          46.065852,
          46.065852,
          46.065852,
          46.065852,
          46.065852,
          46.065852,
          46.065852,
          46.065852,
          46.065852,
          46.065852,
          46.065852,
          46.065852,
          46.065852,
          46.065852,
          46.065852,
          46.065852,
          46.065852,
          46.065852,
          46.065852,
          46.065852,
          46.065852,
          46.065852,
          46.065852,
          46.065852,
          46.065852,
          46.065852,
          46.065852,
          46.065852,
          46.065852,
          46.065852,
          46.065852,
          46.065852,
          46.065852,
          46.065852,
          46.065852
         ],
         "z": [
          "2018-05-14T08:32:18.614000",
          "2018-05-14T09:02:18.612000",
          "2018-05-14T09:32:18",
          "2018-05-14T10:02:18.615000",
          "2018-05-14T13:32:18.741000",
          "2018-05-14T15:02:18.663000",
          "2018-05-15T11:32:18.613000",
          "2018-05-15T12:02:18.682000",
          "2018-05-15T12:32:18.628000",
          "2018-05-15T13:02:18.612000",
          "2018-05-16T12:02:18.732000",
          "2018-05-16T12:32:18.621000",
          "2018-05-16T13:02:18",
          "2018-05-17T09:32:18.619000",
          "2018-05-17T10:02:18.614000",
          "2018-05-17T10:32:18.623000",
          "2018-05-17T11:02:18.620000",
          "2018-05-17T11:32:18.616000",
          "2018-05-17T12:02:18.698000",
          "2018-05-17T15:32:18.619000",
          "2018-05-17T16:02:18.615000",
          "2018-05-17T16:32:18.611000",
          "2018-05-17T17:02:18.622000",
          "2018-05-17T18:02:18.876000",
          "2018-05-17T18:32:18.627000",
          "2018-05-18T10:32:18.614000",
          "2018-05-18T11:02:18",
          "2018-05-18T11:32:18.614000",
          "2018-05-21T12:32:18.609000",
          "2018-05-21T14:02:18.611000",
          "2018-05-21T14:32:18.649000",
          "2018-05-21T15:02:18.614000",
          "2018-05-22T11:32:18.610000",
          "2018-05-22T12:02:18.616000",
          "2018-05-22T12:32:18.619000",
          "2018-05-22T13:02:18.613000",
          "2018-05-22T13:32:18.616000",
          "2018-05-22T14:02:18.849000",
          "2018-05-22T14:32:18.865000",
          "2018-05-22T15:02:18",
          "2018-05-22T15:32:18.617000",
          "2018-05-22T16:02:18.611000",
          "2018-05-22T16:32:18.610000",
          "2018-05-23T12:02:18.620000",
          "2018-05-23T12:32:18.637000",
          "2018-05-23T13:02:18.624000",
          "2018-05-23T13:32:18.624000"
         ]
        }
       ],
       "layout": {
        "autosize": false,
        "height": 600,
        "legend": {
         "title": {
          "text": "with_who"
         },
         "tracegroupgap": 0
        },
        "margin": {
         "t": 60
        },
        "scene": {
         "domain": {
          "x": [
           0,
           1
          ],
          "y": [
           0,
           1
          ]
         },
         "xaxis": {
          "title": {
           "text": "longitude_home"
          }
         },
         "yaxis": {
          "title": {
           "text": "latitude_home"
          }
         },
         "zaxis": {
          "title": {
           "text": "Time"
          }
         }
        },
        "template": {
         "data": {
          "bar": [
           {
            "error_x": {
             "color": "#2a3f5f"
            },
            "error_y": {
             "color": "#2a3f5f"
            },
            "marker": {
             "line": {
              "color": "#E5ECF6",
              "width": 0.5
             },
             "pattern": {
              "fillmode": "overlay",
              "size": 10,
              "solidity": 0.2
             }
            },
            "type": "bar"
           }
          ],
          "barpolar": [
           {
            "marker": {
             "line": {
              "color": "#E5ECF6",
              "width": 0.5
             },
             "pattern": {
              "fillmode": "overlay",
              "size": 10,
              "solidity": 0.2
             }
            },
            "type": "barpolar"
           }
          ],
          "carpet": [
           {
            "aaxis": {
             "endlinecolor": "#2a3f5f",
             "gridcolor": "white",
             "linecolor": "white",
             "minorgridcolor": "white",
             "startlinecolor": "#2a3f5f"
            },
            "baxis": {
             "endlinecolor": "#2a3f5f",
             "gridcolor": "white",
             "linecolor": "white",
             "minorgridcolor": "white",
             "startlinecolor": "#2a3f5f"
            },
            "type": "carpet"
           }
          ],
          "choropleth": [
           {
            "colorbar": {
             "outlinewidth": 0,
             "ticks": ""
            },
            "type": "choropleth"
           }
          ],
          "contour": [
           {
            "colorbar": {
             "outlinewidth": 0,
             "ticks": ""
            },
            "colorscale": [
             [
              0,
              "#0d0887"
             ],
             [
              0.1111111111111111,
              "#46039f"
             ],
             [
              0.2222222222222222,
              "#7201a8"
             ],
             [
              0.3333333333333333,
              "#9c179e"
             ],
             [
              0.4444444444444444,
              "#bd3786"
             ],
             [
              0.5555555555555556,
              "#d8576b"
             ],
             [
              0.6666666666666666,
              "#ed7953"
             ],
             [
              0.7777777777777778,
              "#fb9f3a"
             ],
             [
              0.8888888888888888,
              "#fdca26"
             ],
             [
              1,
              "#f0f921"
             ]
            ],
            "type": "contour"
           }
          ],
          "contourcarpet": [
           {
            "colorbar": {
             "outlinewidth": 0,
             "ticks": ""
            },
            "type": "contourcarpet"
           }
          ],
          "heatmap": [
           {
            "colorbar": {
             "outlinewidth": 0,
             "ticks": ""
            },
            "colorscale": [
             [
              0,
              "#0d0887"
             ],
             [
              0.1111111111111111,
              "#46039f"
             ],
             [
              0.2222222222222222,
              "#7201a8"
             ],
             [
              0.3333333333333333,
              "#9c179e"
             ],
             [
              0.4444444444444444,
              "#bd3786"
             ],
             [
              0.5555555555555556,
              "#d8576b"
             ],
             [
              0.6666666666666666,
              "#ed7953"
             ],
             [
              0.7777777777777778,
              "#fb9f3a"
             ],
             [
              0.8888888888888888,
              "#fdca26"
             ],
             [
              1,
              "#f0f921"
             ]
            ],
            "type": "heatmap"
           }
          ],
          "heatmapgl": [
           {
            "colorbar": {
             "outlinewidth": 0,
             "ticks": ""
            },
            "colorscale": [
             [
              0,
              "#0d0887"
             ],
             [
              0.1111111111111111,
              "#46039f"
             ],
             [
              0.2222222222222222,
              "#7201a8"
             ],
             [
              0.3333333333333333,
              "#9c179e"
             ],
             [
              0.4444444444444444,
              "#bd3786"
             ],
             [
              0.5555555555555556,
              "#d8576b"
             ],
             [
              0.6666666666666666,
              "#ed7953"
             ],
             [
              0.7777777777777778,
              "#fb9f3a"
             ],
             [
              0.8888888888888888,
              "#fdca26"
             ],
             [
              1,
              "#f0f921"
             ]
            ],
            "type": "heatmapgl"
           }
          ],
          "histogram": [
           {
            "marker": {
             "pattern": {
              "fillmode": "overlay",
              "size": 10,
              "solidity": 0.2
             }
            },
            "type": "histogram"
           }
          ],
          "histogram2d": [
           {
            "colorbar": {
             "outlinewidth": 0,
             "ticks": ""
            },
            "colorscale": [
             [
              0,
              "#0d0887"
             ],
             [
              0.1111111111111111,
              "#46039f"
             ],
             [
              0.2222222222222222,
              "#7201a8"
             ],
             [
              0.3333333333333333,
              "#9c179e"
             ],
             [
              0.4444444444444444,
              "#bd3786"
             ],
             [
              0.5555555555555556,
              "#d8576b"
             ],
             [
              0.6666666666666666,
              "#ed7953"
             ],
             [
              0.7777777777777778,
              "#fb9f3a"
             ],
             [
              0.8888888888888888,
              "#fdca26"
             ],
             [
              1,
              "#f0f921"
             ]
            ],
            "type": "histogram2d"
           }
          ],
          "histogram2dcontour": [
           {
            "colorbar": {
             "outlinewidth": 0,
             "ticks": ""
            },
            "colorscale": [
             [
              0,
              "#0d0887"
             ],
             [
              0.1111111111111111,
              "#46039f"
             ],
             [
              0.2222222222222222,
              "#7201a8"
             ],
             [
              0.3333333333333333,
              "#9c179e"
             ],
             [
              0.4444444444444444,
              "#bd3786"
             ],
             [
              0.5555555555555556,
              "#d8576b"
             ],
             [
              0.6666666666666666,
              "#ed7953"
             ],
             [
              0.7777777777777778,
              "#fb9f3a"
             ],
             [
              0.8888888888888888,
              "#fdca26"
             ],
             [
              1,
              "#f0f921"
             ]
            ],
            "type": "histogram2dcontour"
           }
          ],
          "mesh3d": [
           {
            "colorbar": {
             "outlinewidth": 0,
             "ticks": ""
            },
            "type": "mesh3d"
           }
          ],
          "parcoords": [
           {
            "line": {
             "colorbar": {
              "outlinewidth": 0,
              "ticks": ""
             }
            },
            "type": "parcoords"
           }
          ],
          "pie": [
           {
            "automargin": true,
            "type": "pie"
           }
          ],
          "scatter": [
           {
            "marker": {
             "colorbar": {
              "outlinewidth": 0,
              "ticks": ""
             }
            },
            "type": "scatter"
           }
          ],
          "scatter3d": [
           {
            "line": {
             "colorbar": {
              "outlinewidth": 0,
              "ticks": ""
             }
            },
            "marker": {
             "colorbar": {
              "outlinewidth": 0,
              "ticks": ""
             }
            },
            "type": "scatter3d"
           }
          ],
          "scattercarpet": [
           {
            "marker": {
             "colorbar": {
              "outlinewidth": 0,
              "ticks": ""
             }
            },
            "type": "scattercarpet"
           }
          ],
          "scattergeo": [
           {
            "marker": {
             "colorbar": {
              "outlinewidth": 0,
              "ticks": ""
             }
            },
            "type": "scattergeo"
           }
          ],
          "scattergl": [
           {
            "marker": {
             "colorbar": {
              "outlinewidth": 0,
              "ticks": ""
             }
            },
            "type": "scattergl"
           }
          ],
          "scattermapbox": [
           {
            "marker": {
             "colorbar": {
              "outlinewidth": 0,
              "ticks": ""
             }
            },
            "type": "scattermapbox"
           }
          ],
          "scatterpolar": [
           {
            "marker": {
             "colorbar": {
              "outlinewidth": 0,
              "ticks": ""
             }
            },
            "type": "scatterpolar"
           }
          ],
          "scatterpolargl": [
           {
            "marker": {
             "colorbar": {
              "outlinewidth": 0,
              "ticks": ""
             }
            },
            "type": "scatterpolargl"
           }
          ],
          "scatterternary": [
           {
            "marker": {
             "colorbar": {
              "outlinewidth": 0,
              "ticks": ""
             }
            },
            "type": "scatterternary"
           }
          ],
          "surface": [
           {
            "colorbar": {
             "outlinewidth": 0,
             "ticks": ""
            },
            "colorscale": [
             [
              0,
              "#0d0887"
             ],
             [
              0.1111111111111111,
              "#46039f"
             ],
             [
              0.2222222222222222,
              "#7201a8"
             ],
             [
              0.3333333333333333,
              "#9c179e"
             ],
             [
              0.4444444444444444,
              "#bd3786"
             ],
             [
              0.5555555555555556,
              "#d8576b"
             ],
             [
              0.6666666666666666,
              "#ed7953"
             ],
             [
              0.7777777777777778,
              "#fb9f3a"
             ],
             [
              0.8888888888888888,
              "#fdca26"
             ],
             [
              1,
              "#f0f921"
             ]
            ],
            "type": "surface"
           }
          ],
          "table": [
           {
            "cells": {
             "fill": {
              "color": "#EBF0F8"
             },
             "line": {
              "color": "white"
             }
            },
            "header": {
             "fill": {
              "color": "#C8D4E3"
             },
             "line": {
              "color": "white"
             }
            },
            "type": "table"
           }
          ]
         },
         "layout": {
          "annotationdefaults": {
           "arrowcolor": "#2a3f5f",
           "arrowhead": 0,
           "arrowwidth": 1
          },
          "autotypenumbers": "strict",
          "coloraxis": {
           "colorbar": {
            "outlinewidth": 0,
            "ticks": ""
           }
          },
          "colorscale": {
           "diverging": [
            [
             0,
             "#8e0152"
            ],
            [
             0.1,
             "#c51b7d"
            ],
            [
             0.2,
             "#de77ae"
            ],
            [
             0.3,
             "#f1b6da"
            ],
            [
             0.4,
             "#fde0ef"
            ],
            [
             0.5,
             "#f7f7f7"
            ],
            [
             0.6,
             "#e6f5d0"
            ],
            [
             0.7,
             "#b8e186"
            ],
            [
             0.8,
             "#7fbc41"
            ],
            [
             0.9,
             "#4d9221"
            ],
            [
             1,
             "#276419"
            ]
           ],
           "sequential": [
            [
             0,
             "#0d0887"
            ],
            [
             0.1111111111111111,
             "#46039f"
            ],
            [
             0.2222222222222222,
             "#7201a8"
            ],
            [
             0.3333333333333333,
             "#9c179e"
            ],
            [
             0.4444444444444444,
             "#bd3786"
            ],
            [
             0.5555555555555556,
             "#d8576b"
            ],
            [
             0.6666666666666666,
             "#ed7953"
            ],
            [
             0.7777777777777778,
             "#fb9f3a"
            ],
            [
             0.8888888888888888,
             "#fdca26"
            ],
            [
             1,
             "#f0f921"
            ]
           ],
           "sequentialminus": [
            [
             0,
             "#0d0887"
            ],
            [
             0.1111111111111111,
             "#46039f"
            ],
            [
             0.2222222222222222,
             "#7201a8"
            ],
            [
             0.3333333333333333,
             "#9c179e"
            ],
            [
             0.4444444444444444,
             "#bd3786"
            ],
            [
             0.5555555555555556,
             "#d8576b"
            ],
            [
             0.6666666666666666,
             "#ed7953"
            ],
            [
             0.7777777777777778,
             "#fb9f3a"
            ],
            [
             0.8888888888888888,
             "#fdca26"
            ],
            [
             1,
             "#f0f921"
            ]
           ]
          },
          "colorway": [
           "#636efa",
           "#EF553B",
           "#00cc96",
           "#ab63fa",
           "#FFA15A",
           "#19d3f3",
           "#FF6692",
           "#B6E880",
           "#FF97FF",
           "#FECB52"
          ],
          "font": {
           "color": "#2a3f5f"
          },
          "geo": {
           "bgcolor": "white",
           "lakecolor": "white",
           "landcolor": "#E5ECF6",
           "showlakes": true,
           "showland": true,
           "subunitcolor": "white"
          },
          "hoverlabel": {
           "align": "left"
          },
          "hovermode": "closest",
          "mapbox": {
           "style": "light"
          },
          "paper_bgcolor": "white",
          "plot_bgcolor": "#E5ECF6",
          "polar": {
           "angularaxis": {
            "gridcolor": "white",
            "linecolor": "white",
            "ticks": ""
           },
           "bgcolor": "#E5ECF6",
           "radialaxis": {
            "gridcolor": "white",
            "linecolor": "white",
            "ticks": ""
           }
          },
          "scene": {
           "xaxis": {
            "backgroundcolor": "#E5ECF6",
            "gridcolor": "white",
            "gridwidth": 2,
            "linecolor": "white",
            "showbackground": true,
            "ticks": "",
            "zerolinecolor": "white"
           },
           "yaxis": {
            "backgroundcolor": "#E5ECF6",
            "gridcolor": "white",
            "gridwidth": 2,
            "linecolor": "white",
            "showbackground": true,
            "ticks": "",
            "zerolinecolor": "white"
           },
           "zaxis": {
            "backgroundcolor": "#E5ECF6",
            "gridcolor": "white",
            "gridwidth": 2,
            "linecolor": "white",
            "showbackground": true,
            "ticks": "",
            "zerolinecolor": "white"
           }
          },
          "shapedefaults": {
           "line": {
            "color": "#2a3f5f"
           }
          },
          "ternary": {
           "aaxis": {
            "gridcolor": "white",
            "linecolor": "white",
            "ticks": ""
           },
           "baxis": {
            "gridcolor": "white",
            "linecolor": "white",
            "ticks": ""
           },
           "bgcolor": "#E5ECF6",
           "caxis": {
            "gridcolor": "white",
            "linecolor": "white",
            "ticks": ""
           }
          },
          "title": {
           "x": 0.05
          },
          "xaxis": {
           "automargin": true,
           "gridcolor": "white",
           "linecolor": "white",
           "ticks": "",
           "title": {
            "standoff": 15
           },
           "zerolinecolor": "white",
           "zerolinewidth": 2
          },
          "yaxis": {
           "automargin": true,
           "gridcolor": "white",
           "linecolor": "white",
           "ticks": "",
           "title": {
            "standoff": 15
           },
           "zerolinecolor": "white",
           "zerolinewidth": 2
          }
         }
        },
        "title": {
         "text": "subject_2- 4D visualization(time-space-cube + with_who)  "
        },
        "width": 800
       }
      },
      "text/html": [
       "<div>                            <div id=\"fe3b0585-ae45-4bc2-8b32-e841956bca58\" class=\"plotly-graph-div\" style=\"height:600px; width:800px;\"></div>            <script type=\"text/javascript\">                require([\"plotly\"], function(Plotly) {                    window.PLOTLYENV=window.PLOTLYENV || {};                                    if (document.getElementById(\"fe3b0585-ae45-4bc2-8b32-e841956bca58\")) {                    Plotly.newPlot(                        \"fe3b0585-ae45-4bc2-8b32-e841956bca58\",                        [{\"hovertemplate\":\"<b>%{hovertext}</b><br><br>with_who=Alone<br>longitude_home=%{x}<br>latitude_home=%{y}<br>Time=%{z}<extra></extra>\",\"hovertext\":[\"Via Antonio Rosmini\",\"Via Antonio Rosmini\",\"Via Antonio Rosmini\",\"Via Antonio Rosmini\",\"Via Antonio Rosmini\",\"Via Antonio Rosmini\",\"Via Antonio Rosmini\",\"Via Antonio Rosmini\",\"Via Antonio Rosmini\",\"Via Antonio Rosmini\",\"Via Antonio Rosmini\",\"Via Antonio Rosmini\",\"Via Antonio Rosmini\",\"Via Antonio Rosmini\",\"Via Antonio Rosmini\",\"Via Antonio Rosmini\",\"Via Antonio Rosmini\",\"Via Antonio Rosmini\",\"Via Antonio Rosmini\",\"Via Antonio Rosmini\",\"Via Antonio Rosmini\",\"Via Antonio Rosmini\",\"Via Antonio Rosmini\",\"Via Antonio Rosmini\",\"Via Antonio Rosmini\",\"Via Antonio Rosmini\",\"Via Antonio Rosmini\",\"Via Antonio Rosmini\",\"Via Antonio Rosmini\",\"Via Antonio Rosmini\",\"Via Antonio Rosmini\",\"Via Antonio Rosmini\",\"Via Antonio Rosmini\",\"Via Antonio Rosmini\",\"Via Antonio Rosmini\",\"Via Antonio Rosmini\",\"Via Antonio Rosmini\",\"Via Antonio Rosmini\",\"Via Antonio Rosmini\",\"Via Antonio Rosmini\",\"Via Antonio Rosmini\",\"Via Antonio Rosmini\",\"Via Antonio Rosmini\",\"Via Antonio Rosmini\",\"Via Antonio Rosmini\",\"Via Antonio Rosmini\",\"Via Antonio Rosmini\",\"Via Antonio Rosmini\",\"Via Antonio Rosmini\",\"Via Antonio Rosmini\",\"Via Antonio Rosmini\",\"Via Antonio Rosmini\",\"Via Antonio Rosmini\",\"Via Antonio Rosmini\",\"Via Antonio Rosmini\",\"Via Antonio Rosmini\",\"Via Antonio Rosmini\",\"Via Antonio Rosmini\",\"Via Antonio Rosmini\",\"Via Antonio Rosmini\",\"Via Antonio Rosmini\",\"Via Antonio Rosmini\",\"Via Antonio Rosmini\",\"Via Antonio Rosmini\",\"Via Antonio Rosmini\",\"Via Antonio Rosmini\",\"Via Antonio Rosmini\",\"Via Antonio Rosmini\",\"Via Antonio Rosmini\",\"Via Antonio Rosmini\",\"Via Antonio Rosmini\",\"Via Antonio Rosmini\",\"Via Antonio Rosmini\",\"Via Antonio Rosmini\",\"Via Antonio Rosmini\",\"Via Antonio Rosmini\",\"Via Antonio Rosmini\",\"Via Antonio Rosmini\",\"Via Antonio Rosmini\",\"Via Antonio Rosmini\",\"Via Antonio Rosmini\",\"Via Antonio Rosmini\",\"Via Antonio Rosmini\",\"Via Antonio Rosmini\",\"Via Antonio Rosmini\",\"Via Antonio Rosmini\",\"Via Antonio Rosmini\",\"Via Antonio Rosmini\",\"Via Antonio Rosmini\",\"Via Antonio Rosmini\",\"Via Antonio Rosmini\",\"Via Antonio Rosmini\",\"Via Antonio Rosmini\",\"Via Antonio Rosmini\",\"Via Antonio Rosmini\",\"Via Antonio Rosmini\",\"Via Antonio Rosmini\",\"Via Antonio Rosmini\",\"Via Antonio Rosmini\",\"Via Antonio Rosmini\",\"Via Antonio Rosmini\",\"Via Antonio Rosmini\",\"Via Antonio Rosmini\",\"Via Antonio Rosmini\",\"Via Antonio Rosmini\",\"Via Antonio Rosmini\",\"Via Antonio Rosmini\",\"Via Antonio Rosmini\",\"Via Antonio Rosmini\",\"Via Antonio Rosmini\",\"Via Antonio Rosmini\",\"Via Antonio Rosmini\",\"Via Antonio Rosmini\",\"Via Antonio Rosmini\",\"Via Antonio Rosmini\",\"Via Antonio Rosmini\",\"Via Antonio Rosmini\",\"Via Antonio Rosmini\",\"Via Antonio Rosmini\",\"Via Antonio Rosmini\",\"Via Antonio Rosmini\",\"Via Antonio Rosmini\",\"Via Antonio Rosmini\",\"Via Antonio Rosmini\",\"Via Antonio Rosmini\",\"Via Antonio Rosmini\",\"Via Antonio Rosmini\",\"Via Antonio Rosmini\",\"Via Antonio Rosmini\",\"Via Antonio Rosmini\",\"Via Antonio Rosmini\",\"Via Antonio Rosmini\",\"Via Antonio Rosmini\",\"Via Antonio Rosmini\",\"Via Antonio Rosmini\",\"Via Antonio Rosmini\",\"Via Antonio Rosmini\",\"Via Antonio Rosmini\",\"Via Antonio Rosmini\",\"Via Antonio Rosmini\",\"Via Antonio Rosmini\",\"Via Antonio Rosmini\",\"Via Antonio Rosmini\",\"Via Antonio Rosmini\",\"Via Antonio Rosmini\",\"Via Antonio Rosmini\",\"Via Antonio Rosmini\",\"Via Antonio Rosmini\",\"Via Antonio Rosmini\",\"Via Antonio Rosmini\",\"Via Antonio Rosmini\",\"Via Antonio Rosmini\",\"Via Antonio Rosmini\",\"Via Antonio Rosmini\",\"Via Antonio Rosmini\",\"Via Antonio Rosmini\",\"Via Antonio Rosmini\",\"Via Antonio Rosmini\",\"Via Antonio Rosmini\",\"Via Antonio Rosmini\",\"Via Antonio Rosmini\",\"Via Antonio Rosmini\",\"Via Antonio Rosmini\",\"Via Antonio Rosmini\",\"Via Antonio Rosmini\",\"Via Antonio Rosmini\",\"Via Antonio Rosmini\",\"Via Antonio Rosmini\",\"Via Antonio Rosmini\",\"Via Antonio Rosmini\",\"Via Antonio Rosmini\",\"Via Antonio Rosmini\",\"Via Antonio Rosmini\",\"Via Antonio Rosmini\",\"Via Antonio Rosmini\",\"Via Antonio Rosmini\",\"Via Antonio Rosmini\",\"Via Antonio Rosmini\",\"Via Antonio Rosmini\",\"Via Antonio Rosmini\",\"Via Antonio Rosmini\",\"Via Antonio Rosmini\",\"Via Antonio Rosmini\",\"Via Antonio Rosmini\",\"Via Antonio Rosmini\",\"Via Antonio Rosmini\",\"Via Antonio Rosmini\",\"Via Antonio Rosmini\",\"Via Antonio Rosmini\",\"Via Antonio Rosmini\",\"Via Antonio Rosmini\",\"Via Antonio Rosmini\",\"Via Antonio Rosmini\",\"Via Antonio Rosmini\",\"Via Antonio Rosmini\",\"Via Antonio Rosmini\",\"Via Antonio Rosmini\",\"Via Antonio Rosmini\",\"Via Antonio Rosmini\",\"Via Antonio Rosmini\",\"Via Antonio Rosmini\",\"Via Antonio Rosmini\",\"Via Antonio Rosmini\",\"Via Antonio Rosmini\",\"Via Antonio Rosmini\",\"Via Antonio Rosmini\",\"Via Antonio Rosmini\",\"Via Antonio Rosmini\",\"Via Antonio Rosmini\",\"Via Antonio Rosmini\",\"Via Antonio Rosmini\",\"Via Antonio Rosmini\",\"Via Antonio Rosmini\",\"Via Antonio Rosmini\",\"Via Antonio Rosmini\",\"Via Antonio Rosmini\",\"Via Antonio Rosmini\",\"Via Antonio Rosmini\",\"Via Antonio Rosmini\",\"Via Antonio Rosmini\",\"Via Antonio Rosmini\",\"Via Antonio Rosmini\",\"Via Antonio Rosmini\",\"Via Antonio Rosmini\",\"Via Antonio Rosmini\",\"Via Antonio Rosmini\",\"Via Antonio Rosmini\",\"Via Antonio Rosmini\",\"Via Antonio Rosmini\",\"Via Antonio Rosmini\",\"Via Antonio Rosmini\",\"Via Antonio Rosmini\",\"Via Antonio Rosmini\",\"Via Antonio Rosmini\",\"Via Antonio Rosmini\",\"Via Antonio Rosmini\",\"Via Antonio Rosmini\",\"Via Antonio Rosmini\",\"Via Antonio Rosmini\",\"Via Antonio Rosmini\",\"Via Antonio Rosmini\",\"Via Antonio Rosmini\",\"Via Antonio Rosmini\",\"Via Antonio Rosmini\",\"Via Antonio Rosmini\",\"Via Antonio Rosmini\",\"Via Antonio Rosmini\",\"Via Antonio Rosmini\",\"Via Antonio Rosmini\",\"Via Antonio Rosmini\",\"Via Antonio Rosmini\",\"Via Antonio Rosmini\",\"Via Antonio Rosmini\",\"Via Antonio Rosmini\",\"Via Antonio Rosmini\",\"Via Antonio Rosmini\",\"Via Antonio Rosmini\",\"Via Antonio Rosmini\",\"Via Antonio Rosmini\",\"Via Antonio Rosmini\",\"Via Antonio Rosmini\",\"Via Antonio Rosmini\",\"Via Antonio Rosmini\",\"Via Antonio Rosmini\",\"Via Antonio Rosmini\",\"Via Antonio Rosmini\",\"Via Antonio Rosmini\",\"Via Antonio Rosmini\",\"Via Antonio Rosmini\",\"Via Antonio Rosmini\",\"Via Antonio Rosmini\",\"Via Antonio Rosmini\",\"Via Antonio Rosmini\",\"Via Antonio Rosmini\",\"Via Antonio Rosmini\",\"Via Antonio Rosmini\",\"Via Antonio Rosmini\",\"Via Antonio Rosmini\",\"Via Antonio Rosmini\",\"Via Antonio Rosmini\",\"Via Antonio Rosmini\",\"Via Antonio Rosmini\",\"Via Antonio Rosmini\",\"Via Antonio Rosmini\",\"Via Antonio Rosmini\",\"Via Antonio Rosmini\",\"Via Antonio Rosmini\",\"Via Antonio Rosmini\",\"Via Antonio Rosmini\",\"Via Antonio Rosmini\",\"Via Antonio Rosmini\",\"Via Antonio Rosmini\",\"Via Antonio Rosmini\",\"Via Antonio Rosmini\",\"Via Antonio Rosmini\",\"Via Antonio Rosmini\",\"Via Antonio Rosmini\",\"Via Antonio Rosmini\",\"Via Antonio Rosmini\",\"Via Antonio Rosmini\",\"Via Antonio Rosmini\",\"Via Antonio Rosmini\",\"Via Antonio Rosmini\",\"Via Antonio Rosmini\",\"Via Antonio Rosmini\",\"Via Antonio Rosmini\",\"Via Antonio Rosmini\",\"Via Antonio Rosmini\",\"Via Antonio Rosmini\",\"Via Antonio Rosmini\",\"Via Antonio Rosmini\",\"Via Antonio Rosmini\",\"Via Antonio Rosmini\",\"Via Antonio Rosmini\",\"Via Antonio Rosmini\",\"Via Antonio Rosmini\",\"Via Antonio Rosmini\",\"Via Antonio Rosmini\",\"Via Antonio Rosmini\",\"Via Antonio Rosmini\",\"Via Antonio Rosmini\",\"Via Antonio Rosmini\",\"Via Antonio Rosmini\",\"Via Antonio Rosmini\",\"Via Antonio Rosmini\",\"Via Antonio Rosmini\",\"Via Antonio Rosmini\",\"Via Antonio Rosmini\",\"Via Antonio Rosmini\",\"Via Antonio Rosmini\",\"Via Antonio Rosmini\",\"Via Antonio Rosmini\",\"Via Antonio Rosmini\",\"Via Antonio Rosmini\",\"Via Antonio Rosmini\",\"Via Antonio Rosmini\",\"Via Antonio Rosmini\",\"Via Antonio Rosmini\",\"Via Antonio Rosmini\",\"Via Antonio Rosmini\",\"Via Antonio Rosmini\",\"Via Antonio Rosmini\",\"Via Antonio Rosmini\",\"Via Antonio Rosmini\",\"Via Antonio Rosmini\",\"Via Antonio Rosmini\",\"Via Antonio Rosmini\",\"Via Antonio Rosmini\",\"Via Antonio Rosmini\",\"Via Antonio Rosmini\",\"Via Antonio Rosmini\",\"Via Antonio Rosmini\",\"Via Antonio Rosmini\",\"Via Antonio Rosmini\",\"Via Antonio Rosmini\",\"Via Antonio Rosmini\",\"Via Antonio Rosmini\",\"Via Antonio Rosmini\",\"Via Antonio Rosmini\",\"Via Antonio Rosmini\",\"Via Antonio Rosmini\",\"Via Antonio Rosmini\",\"Via Antonio Rosmini\",\"Via Antonio Rosmini\",\"Via Antonio Rosmini\",\"Via Antonio Rosmini\",\"Via Antonio Rosmini\",\"Via Antonio Rosmini\",\"Via Antonio Rosmini\",\"Via Antonio Rosmini\",\"Via Antonio Rosmini\",\"Via Antonio Rosmini\",\"Via Antonio Rosmini\",\"Via Antonio Rosmini\",\"Via Antonio Rosmini\",\"Via Antonio Rosmini\",\"Via Antonio Rosmini\",\"Via Antonio Rosmini\",\"Via Antonio Rosmini\",\"Via Antonio Rosmini\",\"Via Antonio Rosmini\",\"Via Antonio Rosmini\",\"Via Antonio Rosmini\",\"Via Antonio Rosmini\",\"Via Antonio Rosmini\",\"Via Antonio Rosmini\",\"Via Antonio Rosmini\",\"Via Antonio Rosmini\",\"Via Antonio Rosmini\",\"Via Antonio Rosmini\",\"Via Antonio Rosmini\",\"Via Antonio Rosmini\",\"Via Antonio Rosmini\",\"Via Antonio Rosmini\",\"Via Antonio Rosmini\",\"Via Antonio Rosmini\",\"Via Antonio Rosmini\",\"Via Antonio Rosmini\",\"Via Antonio Rosmini\",\"Via Antonio Rosmini\",\"Via Antonio Rosmini\",\"Via Antonio Rosmini\",\"Via Antonio Rosmini\",\"Via Antonio Rosmini\",\"Via Antonio Rosmini\",\"Via Antonio Rosmini\",\"Via Antonio Rosmini\",\"Via Antonio Rosmini\",\"Via Antonio Rosmini\",\"Via Antonio Rosmini\",\"Via Antonio Rosmini\",\"Via Antonio Rosmini\",\"Via Antonio Rosmini\",\"Via Antonio Rosmini\",\"Via Antonio Rosmini\",\"Via Antonio Rosmini\",\"Via Antonio Rosmini\",\"Via Antonio Rosmini\",\"Via Antonio Rosmini\",\"Via Antonio Rosmini\",\"Via Antonio Rosmini\",\"Via Antonio Rosmini\",\"Via Antonio Rosmini\",\"Via Antonio Rosmini\",\"Via Antonio Rosmini\",\"Via Antonio Rosmini\",\"Via Antonio Rosmini\",\"Via Antonio Rosmini\",\"Via Antonio Rosmini\",\"Via Antonio Rosmini\",\"Via Antonio Rosmini\",\"Via Antonio Rosmini\",\"Via Antonio Rosmini\",\"Via Antonio Rosmini\",\"Via Antonio Rosmini\",\"Via Antonio Rosmini\",\"Via Antonio Rosmini\",\"Via Antonio Rosmini\",\"Via Antonio Rosmini\",\"Via Antonio Rosmini\",\"Via Antonio Rosmini\",\"Via Antonio Rosmini\",\"Via Antonio Rosmini\",\"Via Antonio Rosmini\",\"Via Antonio Rosmini\",\"Via Antonio Rosmini\",\"Via Antonio Rosmini\",\"Via Antonio Rosmini\",\"Via Antonio Rosmini\",\"Via Antonio Rosmini\",\"Via Antonio Rosmini\",\"Via Antonio Rosmini\",\"Via Antonio Rosmini\",\"Via Antonio Rosmini\",\"Via Antonio Rosmini\",\"Via Antonio Rosmini\",\"Via Antonio Rosmini\",\"Via Antonio Rosmini\",\"Via Antonio Rosmini\",\"Via Antonio Rosmini\",\"Via Antonio Rosmini\",\"Via Antonio Rosmini\",\"Via Antonio Rosmini\",\"Via Antonio Rosmini\",\"Via Antonio Rosmini\",\"Via Antonio Rosmini\",\"Via Antonio Rosmini\"],\"legendgroup\":\"Alone\",\"line\":{\"color\":\"#636efa\",\"dash\":\"solid\",\"width\":5},\"marker\":{\"symbol\":\"circle\"},\"mode\":\"lines\",\"name\":\"Alone\",\"scene\":\"scene\",\"showlegend\":true,\"x\":[11.119008,11.119008,11.119008,11.119008,11.119008,11.119008,11.119008,11.119008,11.119008,11.119008,11.119008,11.119008,11.119008,11.119008,11.119008,11.119008,11.119008,11.119008,11.119008,11.119008,11.119008,11.119008,11.119008,11.119008,11.119008,11.119008,11.119008,11.119008,11.119008,11.119008,11.119008,11.119008,11.119008,11.119008,11.119008,11.119008,11.119008,11.119008,11.119008,11.119008,11.119008,11.119008,11.119008,11.119008,11.119008,11.119008,11.119008,11.119008,11.119008,11.119008,11.119008,11.119008,11.119008,11.119008,11.119008,11.119008,11.119008,11.119008,11.119008,11.119008,11.119008,11.119008,11.119008,11.119008,11.119008,11.119008,11.119008,11.119008,11.119008,11.119008,11.119008,11.119008,11.119008,11.119008,11.119008,11.119008,11.119008,11.119008,11.119008,11.119008,11.119008,11.119008,11.119008,11.119008,11.119008,11.119008,11.119008,11.119008,11.119008,11.119008,11.119008,11.119008,11.119008,11.119008,11.119008,11.119008,11.119008,11.119008,11.119008,11.119008,11.119008,11.119008,11.119008,11.119008,11.119008,11.119008,11.119008,11.119008,11.119008,11.119008,11.119008,11.119008,11.119008,11.119008,11.119008,11.119008,11.119008,11.119008,11.119008,11.119008,11.119008,11.119008,11.119008,11.119008,11.119008,11.119008,11.119008,11.119008,11.119008,11.119008,11.119008,11.119008,11.119008,11.119008,11.119008,11.119008,11.119008,11.119008,11.119008,11.119008,11.119008,11.119008,11.119008,11.119008,11.119008,11.119008,11.119008,11.119008,11.119008,11.119008,11.119008,11.119008,11.119008,11.119008,11.119008,11.119008,11.119008,11.119008,11.119008,11.119008,11.119008,11.119008,11.119008,11.119008,11.119008,11.119008,11.119008,11.119008,11.119008,11.119008,11.119008,11.119008,11.119008,11.119008,11.119008,11.119008,11.119008,11.119008,11.119008,11.119008,11.119008,11.119008,11.119008,11.119008,11.119008,11.119008,11.119008,11.119008,11.119008,11.119008,11.119008,11.119008,11.119008,11.119008,11.119008,11.119008,11.119008,11.119008,11.119008,11.119008,11.119008,11.119008,11.119008,11.119008,11.119008,11.119008,11.119008,11.119008,11.119008,11.119008,11.119008,11.119008,11.119008,11.119008,11.119008,11.119008,11.119008,11.119008,11.119008,11.119008,11.119008,11.119008,11.119008,11.119008,11.119008,11.119008,11.119008,11.119008,11.119008,11.119008,11.119008,11.119008,11.119008,11.119008,11.119008,11.119008,11.119008,11.119008,11.119008,11.119008,11.119008,11.119008,11.119008,11.119008,11.119008,11.119008,11.119008,11.119008,11.119008,11.119008,11.119008,11.119008,11.119008,11.119008,11.119008,11.119008,11.119008,11.119008,11.119008,11.119008,11.119008,11.119008,11.119008,11.119008,11.119008,11.119008,11.119008,11.119008,11.119008,11.119008,11.119008,11.119008,11.119008,11.119008,11.119008,11.119008,11.119008,11.119008,11.119008,11.119008,11.119008,11.119008,11.119008,11.119008,11.119008,11.119008,11.119008,11.119008,11.119008,11.119008,11.119008,11.119008,11.119008,11.119008,11.119008,11.119008,11.119008,11.119008,11.119008,11.119008,11.119008,11.119008,11.119008,11.119008,11.119008,11.119008,11.119008,11.119008,11.119008,11.119008,11.119008,11.119008,11.119008,11.119008,11.119008,11.119008,11.119008,11.119008,11.119008,11.119008,11.119008,11.119008,11.119008,11.119008,11.119008,11.119008,11.119008,11.119008,11.119008,11.119008,11.119008,11.119008,11.119008,11.119008,11.119008,11.119008,11.119008,11.119008,11.119008,11.119008,11.119008,11.119008,11.119008,11.119008,11.119008,11.119008,11.119008,11.119008,11.119008,11.119008,11.119008,11.119008,11.119008,11.119008,11.119008,11.119008,11.119008,11.119008,11.119008,11.119008,11.119008,11.119008,11.119008,11.119008,11.119008,11.119008,11.119008,11.119008,11.119008,11.119008,11.119008,11.119008,11.119008,11.119008,11.119008,11.119008,11.119008,11.119008,11.119008,11.119008,11.119008,11.119008,11.119008,11.119008,11.119008,11.119008,11.119008,11.119008,11.119008,11.119008,11.119008,11.119008,11.119008,11.119008,11.119008,11.119008,11.119008,11.119008,11.119008,11.119008,11.119008,11.119008,11.119008,11.119008,11.119008,11.119008,11.119008,11.119008,11.119008,11.119008,11.119008,11.119008,11.119008,11.119008,11.119008,11.119008,11.119008,11.119008,11.119008,11.119008,11.119008,11.119008,11.119008,11.119008,11.119008,11.119008,11.119008,11.119008,11.119008,11.119008,11.119008,11.119008,11.119008,11.119008,11.119008,11.119008,11.119008,11.119008,11.119008,11.119008,11.119008,11.119008,11.119008,11.119008,11.119008,11.119008,11.119008,11.119008,11.119008,11.119008,11.119008,11.119008,11.119008,11.119008,11.119008,11.119008,11.119008,11.119008,11.119008,11.119008,11.119008,11.119008,11.119008,11.119008,11.119008,11.119008,11.119008],\"y\":[46.065852,46.065852,46.065852,46.065852,46.065852,46.065852,46.065852,46.065852,46.065852,46.065852,46.065852,46.065852,46.065852,46.065852,46.065852,46.065852,46.065852,46.065852,46.065852,46.065852,46.065852,46.065852,46.065852,46.065852,46.065852,46.065852,46.065852,46.065852,46.065852,46.065852,46.065852,46.065852,46.065852,46.065852,46.065852,46.065852,46.065852,46.065852,46.065852,46.065852,46.065852,46.065852,46.065852,46.065852,46.065852,46.065852,46.065852,46.065852,46.065852,46.065852,46.065852,46.065852,46.065852,46.065852,46.065852,46.065852,46.065852,46.065852,46.065852,46.065852,46.065852,46.065852,46.065852,46.065852,46.065852,46.065852,46.065852,46.065852,46.065852,46.065852,46.065852,46.065852,46.065852,46.065852,46.065852,46.065852,46.065852,46.065852,46.065852,46.065852,46.065852,46.065852,46.065852,46.065852,46.065852,46.065852,46.065852,46.065852,46.065852,46.065852,46.065852,46.065852,46.065852,46.065852,46.065852,46.065852,46.065852,46.065852,46.065852,46.065852,46.065852,46.065852,46.065852,46.065852,46.065852,46.065852,46.065852,46.065852,46.065852,46.065852,46.065852,46.065852,46.065852,46.065852,46.065852,46.065852,46.065852,46.065852,46.065852,46.065852,46.065852,46.065852,46.065852,46.065852,46.065852,46.065852,46.065852,46.065852,46.065852,46.065852,46.065852,46.065852,46.065852,46.065852,46.065852,46.065852,46.065852,46.065852,46.065852,46.065852,46.065852,46.065852,46.065852,46.065852,46.065852,46.065852,46.065852,46.065852,46.065852,46.065852,46.065852,46.065852,46.065852,46.065852,46.065852,46.065852,46.065852,46.065852,46.065852,46.065852,46.065852,46.065852,46.065852,46.065852,46.065852,46.065852,46.065852,46.065852,46.065852,46.065852,46.065852,46.065852,46.065852,46.065852,46.065852,46.065852,46.065852,46.065852,46.065852,46.065852,46.065852,46.065852,46.065852,46.065852,46.065852,46.065852,46.065852,46.065852,46.065852,46.065852,46.065852,46.065852,46.065852,46.065852,46.065852,46.065852,46.065852,46.065852,46.065852,46.065852,46.065852,46.065852,46.065852,46.065852,46.065852,46.065852,46.065852,46.065852,46.065852,46.065852,46.065852,46.065852,46.065852,46.065852,46.065852,46.065852,46.065852,46.065852,46.065852,46.065852,46.065852,46.065852,46.065852,46.065852,46.065852,46.065852,46.065852,46.065852,46.065852,46.065852,46.065852,46.065852,46.065852,46.065852,46.065852,46.065852,46.065852,46.065852,46.065852,46.065852,46.065852,46.065852,46.065852,46.065852,46.065852,46.065852,46.065852,46.065852,46.065852,46.065852,46.065852,46.065852,46.065852,46.065852,46.065852,46.065852,46.065852,46.065852,46.065852,46.065852,46.065852,46.065852,46.065852,46.065852,46.065852,46.065852,46.065852,46.065852,46.065852,46.065852,46.065852,46.065852,46.065852,46.065852,46.065852,46.065852,46.065852,46.065852,46.065852,46.065852,46.065852,46.065852,46.065852,46.065852,46.065852,46.065852,46.065852,46.065852,46.065852,46.065852,46.065852,46.065852,46.065852,46.065852,46.065852,46.065852,46.065852,46.065852,46.065852,46.065852,46.065852,46.065852,46.065852,46.065852,46.065852,46.065852,46.065852,46.065852,46.065852,46.065852,46.065852,46.065852,46.065852,46.065852,46.065852,46.065852,46.065852,46.065852,46.065852,46.065852,46.065852,46.065852,46.065852,46.065852,46.065852,46.065852,46.065852,46.065852,46.065852,46.065852,46.065852,46.065852,46.065852,46.065852,46.065852,46.065852,46.065852,46.065852,46.065852,46.065852,46.065852,46.065852,46.065852,46.065852,46.065852,46.065852,46.065852,46.065852,46.065852,46.065852,46.065852,46.065852,46.065852,46.065852,46.065852,46.065852,46.065852,46.065852,46.065852,46.065852,46.065852,46.065852,46.065852,46.065852,46.065852,46.065852,46.065852,46.065852,46.065852,46.065852,46.065852,46.065852,46.065852,46.065852,46.065852,46.065852,46.065852,46.065852,46.065852,46.065852,46.065852,46.065852,46.065852,46.065852,46.065852,46.065852,46.065852,46.065852,46.065852,46.065852,46.065852,46.065852,46.065852,46.065852,46.065852,46.065852,46.065852,46.065852,46.065852,46.065852,46.065852,46.065852,46.065852,46.065852,46.065852,46.065852,46.065852,46.065852,46.065852,46.065852,46.065852,46.065852,46.065852,46.065852,46.065852,46.065852,46.065852,46.065852,46.065852,46.065852,46.065852,46.065852,46.065852,46.065852,46.065852,46.065852,46.065852,46.065852,46.065852,46.065852,46.065852,46.065852,46.065852,46.065852,46.065852,46.065852,46.065852,46.065852,46.065852,46.065852,46.065852,46.065852,46.065852,46.065852,46.065852,46.065852,46.065852,46.065852,46.065852,46.065852,46.065852,46.065852,46.065852,46.065852,46.065852,46.065852,46.065852,46.065852,46.065852,46.065852,46.065852,46.065852,46.065852,46.065852,46.065852,46.065852,46.065852],\"z\":[\"2018-05-10T00:02:18.790000\",\"2018-05-10T00:32:18.635000\",\"2018-05-10T01:02:18.641000\",\"2018-05-10T01:32:18.620000\",\"2018-05-10T02:02:18.631000\",\"2018-05-10T02:32:18.613000\",\"2018-05-10T03:02:18.624000\",\"2018-05-10T03:32:18\",\"2018-05-10T04:02:18\",\"2018-05-10T04:32:18\",\"2018-05-10T05:02:18\",\"2018-05-10T05:32:18\",\"2018-05-10T06:02:18\",\"2018-05-10T06:32:18\",\"2018-05-10T07:02:18\",\"2018-05-10T07:32:18\",\"2018-05-10T08:02:18\",\"2018-05-10T08:32:18\",\"2018-05-10T09:02:18\",\"2018-05-10T09:32:18.619000\",\"2018-05-10T10:02:18.627000\",\"2018-05-10T10:32:18.621000\",\"2018-05-10T11:02:18.619000\",\"2018-05-10T11:32:18.614000\",\"2018-05-10T14:02:18.627000\",\"2018-05-10T16:02:18.656000\",\"2018-05-10T16:32:18.671000\",\"2018-05-10T17:02:18.623000\",\"2018-05-10T17:32:18.620000\",\"2018-05-10T18:32:18.612000\",\"2018-05-10T19:02:18.634000\",\"2018-05-10T19:32:18.666000\",\"2018-05-10T22:02:18.626000\",\"2018-05-10T22:32:18.616000\",\"2018-05-10T23:02:18.635000\",\"2018-05-10T23:32:18.722000\",\"2018-05-11T00:02:18.635000\",\"2018-05-11T00:32:18.626000\",\"2018-05-11T01:02:18.632000\",\"2018-05-11T01:32:18\",\"2018-05-11T02:02:18\",\"2018-05-11T02:32:18\",\"2018-05-11T03:02:18\",\"2018-05-11T03:32:18\",\"2018-05-11T04:02:18\",\"2018-05-11T04:32:18\",\"2018-05-11T05:02:18\",\"2018-05-11T05:32:18\",\"2018-05-11T06:02:18\",\"2018-05-11T06:32:18\",\"2018-05-11T07:02:18\",\"2018-05-11T07:32:18\",\"2018-05-11T08:02:18\",\"2018-05-11T08:32:18\",\"2018-05-11T12:02:18.624000\",\"2018-05-11T12:32:18.633000\",\"2018-05-11T13:02:18.628000\",\"2018-05-11T14:02:18.617000\",\"2018-05-11T14:32:18.624000\",\"2018-05-11T15:02:18.703000\",\"2018-05-11T16:02:18.629000\",\"2018-05-11T16:32:18.625000\",\"2018-05-11T17:02:18.612000\",\"2018-05-11T17:32:18.613000\",\"2018-05-11T18:02:18.620000\",\"2018-05-11T18:32:18.622000\",\"2018-05-11T19:02:18.627000\",\"2018-05-11T19:32:18.613000\",\"2018-05-11T20:02:18.621000\",\"2018-05-12T02:32:18.621000\",\"2018-05-12T03:02:18\",\"2018-05-12T03:32:18\",\"2018-05-12T04:02:18\",\"2018-05-12T04:32:18\",\"2018-05-12T05:02:18\",\"2018-05-12T05:32:18\",\"2018-05-12T06:02:18\",\"2018-05-12T06:32:18\",\"2018-05-12T07:02:18\",\"2018-05-12T07:32:18\",\"2018-05-12T08:02:18\",\"2018-05-12T08:32:18\",\"2018-05-12T16:02:18.636000\",\"2018-05-12T16:32:18.725000\",\"2018-05-12T17:02:18.627000\",\"2018-05-12T17:32:18.622000\",\"2018-05-12T18:02:18.621000\",\"2018-05-12T18:32:18.613000\",\"2018-05-12T19:02:18.632000\",\"2018-05-12T19:32:18.612000\",\"2018-05-12T20:02:18.623000\",\"2018-05-12T20:32:18.615000\",\"2018-05-12T21:02:18.628000\",\"2018-05-12T21:32:18.614000\",\"2018-05-12T22:02:18.631000\",\"2018-05-12T23:02:18.627000\",\"2018-05-12T23:32:18.614000\",\"2018-05-13T00:02:18.618000\",\"2018-05-13T00:32:18.630000\",\"2018-05-13T01:02:18\",\"2018-05-13T01:32:18\",\"2018-05-13T02:02:18\",\"2018-05-13T02:32:18\",\"2018-05-13T03:02:18\",\"2018-05-13T03:32:18\",\"2018-05-13T04:02:18\",\"2018-05-13T04:32:18\",\"2018-05-13T05:02:18\",\"2018-05-13T05:32:18\",\"2018-05-13T06:02:18\",\"2018-05-13T06:32:18\",\"2018-05-13T07:02:18\",\"2018-05-13T07:32:18\",\"2018-05-13T08:02:18\",\"2018-05-13T08:32:18\",\"2018-05-13T13:02:18.623000\",\"2018-05-13T13:32:18.629000\",\"2018-05-13T14:02:18.617000\",\"2018-05-13T15:02:18.652000\",\"2018-05-13T19:32:18.616000\",\"2018-05-13T20:02:18.613000\",\"2018-05-13T20:32:18.651000\",\"2018-05-13T21:02:18.612000\",\"2018-05-13T21:32:18.617000\",\"2018-05-13T22:02:18.612000\",\"2018-05-13T22:32:18.618000\",\"2018-05-13T23:02:18.627000\",\"2018-05-13T23:32:18.615000\",\"2018-05-14T00:02:18.618000\",\"2018-05-14T00:32:18.613000\",\"2018-05-14T01:02:18.611000\",\"2018-05-14T01:32:18\",\"2018-05-14T02:02:18\",\"2018-05-14T02:32:18.618000\",\"2018-05-14T03:02:18.613000\",\"2018-05-14T03:32:18\",\"2018-05-14T04:02:18\",\"2018-05-14T04:32:18\",\"2018-05-14T05:02:18\",\"2018-05-14T05:32:18\",\"2018-05-14T06:02:18\",\"2018-05-14T06:32:18\",\"2018-05-14T07:02:18\",\"2018-05-14T07:32:18\",\"2018-05-14T08:02:18.613000\",\"2018-05-14T10:32:18.611000\",\"2018-05-14T11:02:18.758000\",\"2018-05-14T11:32:18.620000\",\"2018-05-14T13:02:18.619000\",\"2018-05-14T14:02:18.628000\",\"2018-05-14T14:32:18.621000\",\"2018-05-14T15:32:18.612000\",\"2018-05-14T16:02:18.679000\",\"2018-05-14T16:32:18.614000\",\"2018-05-14T17:02:18.616000\",\"2018-05-14T17:32:18.681000\",\"2018-05-14T18:02:18.629000\",\"2018-05-14T18:32:18.615000\",\"2018-05-14T19:02:18.621000\",\"2018-05-14T20:32:18.699000\",\"2018-05-14T21:02:18.612000\",\"2018-05-14T21:32:18.610000\",\"2018-05-14T22:32:18.611000\",\"2018-05-14T23:02:18.613000\",\"2018-05-14T23:32:18.628000\",\"2018-05-15T00:02:18\",\"2018-05-15T00:32:18\",\"2018-05-15T01:02:18\",\"2018-05-15T01:32:18\",\"2018-05-15T02:02:18\",\"2018-05-15T02:32:18\",\"2018-05-15T03:02:18\",\"2018-05-15T03:32:18\",\"2018-05-15T04:02:18\",\"2018-05-15T04:32:18\",\"2018-05-15T05:02:18\",\"2018-05-15T05:32:18\",\"2018-05-15T06:02:18\",\"2018-05-15T06:32:18\",\"2018-05-15T07:02:18\",\"2018-05-15T07:32:18\",\"2018-05-15T08:02:18\",\"2018-05-15T08:32:18\",\"2018-05-15T09:02:18\",\"2018-05-15T09:32:18\",\"2018-05-15T13:32:18.626000\",\"2018-05-15T14:02:18.618000\",\"2018-05-15T15:02:18.617000\",\"2018-05-15T15:32:18.615000\",\"2018-05-15T16:02:18.614000\",\"2018-05-15T16:32:18.613000\",\"2018-05-15T17:02:18.611000\",\"2018-05-15T17:32:18.612000\",\"2018-05-15T18:02:18.621000\",\"2018-05-15T18:32:18.631000\",\"2018-05-15T19:02:18.627000\",\"2018-05-15T19:32:18.622000\",\"2018-05-15T20:02:18.612000\",\"2018-05-15T20:32:18.722000\",\"2018-05-15T21:02:18.651000\",\"2018-05-15T21:32:18.622000\",\"2018-05-15T22:02:18.620000\",\"2018-05-15T23:02:18.623000\",\"2018-05-16T00:32:18.646000\",\"2018-05-16T01:02:18.743000\",\"2018-05-16T01:32:18.627000\",\"2018-05-16T02:02:18.628000\",\"2018-05-16T02:32:18.635000\",\"2018-05-16T03:02:18\",\"2018-05-16T03:32:18\",\"2018-05-16T04:02:18\",\"2018-05-16T04:32:18\",\"2018-05-16T05:02:18\",\"2018-05-16T05:32:18\",\"2018-05-16T06:02:18\",\"2018-05-16T06:32:18\",\"2018-05-16T07:02:18\",\"2018-05-16T07:32:18\",\"2018-05-16T08:02:18\",\"2018-05-16T08:32:18\",\"2018-05-16T09:02:18\",\"2018-05-16T09:32:18\",\"2018-05-16T11:02:18.614000\",\"2018-05-16T11:32:18.614000\",\"2018-05-16T13:32:18.702000\",\"2018-05-16T17:02:18.656000\",\"2018-05-16T17:32:18.626000\",\"2018-05-16T18:02:18.628000\",\"2018-05-16T18:32:18.623000\",\"2018-05-16T19:02:18.620000\",\"2018-05-16T19:32:18.621000\",\"2018-05-16T20:02:18.623000\",\"2018-05-16T20:32:18.702000\",\"2018-05-16T21:02:18.611000\",\"2018-05-16T21:32:18.634000\",\"2018-05-16T22:02:18.623000\",\"2018-05-16T22:32:18.616000\",\"2018-05-16T23:32:18.614000\",\"2018-05-17T00:02:18.629000\",\"2018-05-17T00:32:18.624000\",\"2018-05-17T01:02:18.616000\",\"2018-05-17T01:32:18.620000\",\"2018-05-17T02:02:18\",\"2018-05-17T02:32:18\",\"2018-05-17T03:02:18\",\"2018-05-17T03:32:18\",\"2018-05-17T04:02:18\",\"2018-05-17T04:32:18\",\"2018-05-17T05:02:18\",\"2018-05-17T05:32:18\",\"2018-05-17T06:02:18\",\"2018-05-17T06:32:18\",\"2018-05-17T07:02:18\",\"2018-05-17T07:32:18\",\"2018-05-17T08:02:18\",\"2018-05-17T08:32:18\",\"2018-05-17T12:32:18.611000\",\"2018-05-17T13:02:18.620000\",\"2018-05-17T13:32:18.648000\",\"2018-05-17T14:02:18.616000\",\"2018-05-17T14:32:18.612000\",\"2018-05-17T15:02:18.629000\",\"2018-05-17T17:32:18.619000\",\"2018-05-17T19:02:18.612000\",\"2018-05-17T19:32:18.621000\",\"2018-05-17T20:02:18.726000\",\"2018-05-17T20:32:18.609000\",\"2018-05-17T21:02:18.609000\",\"2018-05-17T21:32:18.613000\",\"2018-05-17T22:02:18.613000\",\"2018-05-17T22:32:18.618000\",\"2018-05-17T23:02:18.611000\",\"2018-05-17T23:32:18.637000\",\"2018-05-18T00:02:18.615000\",\"2018-05-18T00:32:18.620000\",\"2018-05-18T01:02:18.686000\",\"2018-05-18T01:32:18.613000\",\"2018-05-18T02:02:18.624000\",\"2018-05-18T02:32:18.722000\",\"2018-05-18T03:02:18.611000\",\"2018-05-18T03:32:18.612000\",\"2018-05-18T04:02:18.630000\",\"2018-05-18T04:32:18.612000\",\"2018-05-18T05:02:18.780000\",\"2018-05-18T05:32:18.619000\",\"2018-05-18T06:02:18.609000\",\"2018-05-18T06:32:18.611000\",\"2018-05-18T07:02:18.612000\",\"2018-05-18T07:32:18.613000\",\"2018-05-18T08:02:18.609000\",\"2018-05-18T08:32:18.616000\",\"2018-05-18T09:02:18.619000\",\"2018-05-18T09:32:18.629000\",\"2018-05-18T10:02:18.610000\",\"2018-05-18T12:02:18.619000\",\"2018-05-18T12:32:18.610000\",\"2018-05-18T13:02:18.617000\",\"2018-05-18T14:02:18.614000\",\"2018-05-18T14:32:18.613000\",\"2018-05-18T15:02:18.617000\",\"2018-05-18T15:32:18.615000\",\"2018-05-18T16:02:18.609000\",\"2018-05-18T16:32:18.623000\",\"2018-05-18T17:02:18.629000\",\"2018-05-18T17:32:18.611000\",\"2018-05-18T18:02:18.680000\",\"2018-05-18T18:32:18.610000\",\"2018-05-18T19:02:18.622000\",\"2018-05-18T19:32:18.836000\",\"2018-05-18T20:02:18.612000\",\"2018-05-18T20:32:18\",\"2018-05-18T21:02:18.612000\",\"2018-05-18T22:32:18.614000\",\"2018-05-19T01:02:18.637000\",\"2018-05-19T01:32:18\",\"2018-05-19T02:02:18\",\"2018-05-19T02:32:18\",\"2018-05-19T03:02:18\",\"2018-05-19T03:32:18\",\"2018-05-19T04:02:18\",\"2018-05-19T04:32:18\",\"2018-05-19T05:02:18\",\"2018-05-19T05:32:18\",\"2018-05-19T06:02:18\",\"2018-05-19T06:32:18\",\"2018-05-19T07:02:18\",\"2018-05-19T07:32:18\",\"2018-05-19T08:02:18\",\"2018-05-19T08:32:18\",\"2018-05-19T09:02:18\",\"2018-05-19T09:32:18\",\"2018-05-19T12:32:18.613000\",\"2018-05-19T13:02:18.612000\",\"2018-05-19T13:32:18.611000\",\"2018-05-19T15:32:18.620000\",\"2018-05-19T16:02:18.610000\",\"2018-05-19T16:32:18.611000\",\"2018-05-19T17:32:18.681000\",\"2018-05-19T18:02:18.609000\",\"2018-05-19T18:32:18.628000\",\"2018-05-19T19:02:18.641000\",\"2018-05-19T19:32:18.615000\",\"2018-05-19T20:02:18.610000\",\"2018-05-19T22:02:18.633000\",\"2018-05-19T22:32:18.610000\",\"2018-05-20T03:02:18.610000\",\"2018-05-20T03:32:18.611000\",\"2018-05-20T04:02:18.613000\",\"2018-05-20T04:32:18.625000\",\"2018-05-20T05:02:18.615000\",\"2018-05-20T05:32:18.611000\",\"2018-05-20T06:02:18.610000\",\"2018-05-20T06:32:18.630000\",\"2018-05-20T07:02:18.611000\",\"2018-05-20T07:32:18.609000\",\"2018-05-20T08:02:18.613000\",\"2018-05-20T08:32:18.609000\",\"2018-05-20T09:02:18.617000\",\"2018-05-20T09:32:18.611000\",\"2018-05-20T10:02:18.626000\",\"2018-05-20T10:32:18.608000\",\"2018-05-20T11:02:18.611000\",\"2018-05-20T11:32:18.614000\",\"2018-05-20T12:02:18.610000\",\"2018-05-20T12:32:18.611000\",\"2018-05-20T13:02:18.611000\",\"2018-05-20T14:32:18.620000\",\"2018-05-20T15:02:18.744000\",\"2018-05-20T15:32:18.615000\",\"2018-05-20T16:02:18.621000\",\"2018-05-20T16:32:18.612000\",\"2018-05-20T17:02:18.626000\",\"2018-05-20T17:32:18.609000\",\"2018-05-20T18:02:18.613000\",\"2018-05-20T18:32:18.682000\",\"2018-05-20T19:02:18.614000\",\"2018-05-20T19:32:18\",\"2018-05-20T20:02:18.630000\",\"2018-05-20T21:32:18.678000\",\"2018-05-20T22:02:18.610000\",\"2018-05-20T22:32:18.610000\",\"2018-05-20T23:02:18.611000\",\"2018-05-20T23:32:18.688000\",\"2018-05-21T00:02:18.609000\",\"2018-05-21T00:32:18.614000\",\"2018-05-21T01:02:18.613000\",\"2018-05-21T01:32:18.627000\",\"2018-05-21T02:02:18.616000\",\"2018-05-21T02:32:18\",\"2018-05-21T03:02:18\",\"2018-05-21T03:32:18\",\"2018-05-21T04:02:18\",\"2018-05-21T04:32:18\",\"2018-05-21T05:02:18\",\"2018-05-21T05:32:18\",\"2018-05-21T06:02:18\",\"2018-05-21T06:32:18\",\"2018-05-21T07:02:18\",\"2018-05-21T07:32:18\",\"2018-05-21T08:02:18\",\"2018-05-21T08:32:18\",\"2018-05-21T11:32:18.610000\",\"2018-05-21T12:02:18.613000\",\"2018-05-21T15:32:18.615000\",\"2018-05-21T16:02:18.616000\",\"2018-05-21T16:32:18.612000\",\"2018-05-21T17:02:18.622000\",\"2018-05-21T17:32:18.610000\",\"2018-05-21T18:02:18.637000\",\"2018-05-21T18:32:18.619000\",\"2018-05-21T19:02:18.610000\",\"2018-05-21T19:32:18.611000\",\"2018-05-21T20:02:18.614000\",\"2018-05-21T20:32:18.612000\",\"2018-05-21T21:02:18.614000\",\"2018-05-21T22:32:18.643000\",\"2018-05-21T23:02:18.614000\",\"2018-05-21T23:32:18.609000\",\"2018-05-22T00:02:18.610000\",\"2018-05-22T01:02:18.618000\",\"2018-05-22T01:32:18.619000\",\"2018-05-22T02:02:18.652000\",\"2018-05-22T02:32:18\",\"2018-05-22T03:02:18\",\"2018-05-22T03:32:18\",\"2018-05-22T04:02:18\",\"2018-05-22T04:32:18\",\"2018-05-22T05:02:18\",\"2018-05-22T05:32:18\",\"2018-05-22T06:02:18\",\"2018-05-22T06:32:18\",\"2018-05-22T07:02:18\",\"2018-05-22T07:32:18\",\"2018-05-22T08:02:18\",\"2018-05-22T08:32:18\",\"2018-05-22T17:02:18.610000\",\"2018-05-22T18:02:18.622000\",\"2018-05-22T18:32:18.611000\",\"2018-05-22T19:02:18.615000\",\"2018-05-22T19:32:18.702000\",\"2018-05-22T20:02:18.617000\",\"2018-05-22T20:32:18.612000\",\"2018-05-22T21:02:18.666000\",\"2018-05-22T21:32:18.609000\",\"2018-05-23T00:02:18.613000\",\"2018-05-23T00:32:18.613000\",\"2018-05-23T01:02:18.615000\",\"2018-05-23T01:32:18.621000\",\"2018-05-23T02:02:18\",\"2018-05-23T02:32:18\",\"2018-05-23T03:02:18\",\"2018-05-23T03:32:18\",\"2018-05-23T04:02:18\",\"2018-05-23T04:32:18\",\"2018-05-23T05:02:18\",\"2018-05-23T05:32:18\",\"2018-05-23T06:02:18\",\"2018-05-23T06:32:18\",\"2018-05-23T07:02:18\",\"2018-05-23T07:32:18\",\"2018-05-23T08:02:18\",\"2018-05-23T08:32:18\",\"2018-05-23T09:02:18\",\"2018-05-23T09:32:18\",\"2018-05-23T10:32:18.611000\",\"2018-05-23T11:02:18.610000\",\"2018-05-23T14:02:18.679000\"],\"type\":\"scatter3d\"},{\"hovertemplate\":\"<b>%{hovertext}</b><br><br>with_who=Relative(s)<br>longitude_home=%{x}<br>latitude_home=%{y}<br>Time=%{z}<extra></extra>\",\"hovertext\":[\"Via Antonio Rosmini\",\"Via Antonio Rosmini\",\"Via Antonio Rosmini\",\"Via Antonio Rosmini\",\"Via Antonio Rosmini\",\"Via Antonio Rosmini\",\"Via Antonio Rosmini\",\"Via Antonio Rosmini\",\"Via Antonio Rosmini\",\"Via Antonio Rosmini\",\"Via Antonio Rosmini\",\"Via Antonio Rosmini\",\"Via Antonio Rosmini\",\"Via Antonio Rosmini\",\"Via Antonio Rosmini\",\"Via Antonio Rosmini\",\"Via Antonio Rosmini\",\"Via Antonio Rosmini\"],\"legendgroup\":\"Relative(s)\",\"line\":{\"color\":\"#EF553B\",\"dash\":\"solid\",\"width\":5},\"marker\":{\"symbol\":\"circle\"},\"mode\":\"lines\",\"name\":\"Relative(s)\",\"scene\":\"scene\",\"showlegend\":true,\"x\":[11.119008,11.119008,11.119008,11.119008,11.119008,11.119008,11.119008,11.119008,11.119008,11.119008,11.119008,11.119008,11.119008,11.119008,11.119008,11.119008,11.119008,11.119008],\"y\":[46.065852,46.065852,46.065852,46.065852,46.065852,46.065852,46.065852,46.065852,46.065852,46.065852,46.065852,46.065852,46.065852,46.065852,46.065852,46.065852,46.065852,46.065852],\"z\":[\"2018-05-10T12:02:18.619000\",\"2018-05-10T12:32:18.631000\",\"2018-05-10T13:02:18.619000\",\"2018-05-10T13:32:18.628000\",\"2018-05-10T14:32:18.615000\",\"2018-05-10T15:02:58.394000\",\"2018-05-10T15:32:18.623000\",\"2018-05-10T20:02:18.620000\",\"2018-05-10T20:32:18.620000\",\"2018-05-10T21:02:18.624000\",\"2018-05-10T21:32:18.626000\",\"2018-05-11T09:32:18.637000\",\"2018-05-11T10:02:18.639000\",\"2018-05-11T10:32:18.616000\",\"2018-05-11T11:02:18.616000\",\"2018-05-11T11:32:18.667000\",\"2018-05-11T13:32:18.638000\",\"2018-05-11T15:32:18.633000\"],\"type\":\"scatter3d\"},{\"hovertemplate\":\"<b>%{hovertext}</b><br><br>with_who=missing_val<br>longitude_home=%{x}<br>latitude_home=%{y}<br>Time=%{z}<extra></extra>\",\"hovertext\":[\"Via Antonio Rosmini\",\"Via Antonio Rosmini\",\"Via Antonio Rosmini\",\"Via Antonio Rosmini\",\"Via Antonio Rosmini\",\"Via Antonio Rosmini\",\"Via Antonio Rosmini\",\"Via Antonio Rosmini\",\"Via Antonio Rosmini\",\"Via Antonio Rosmini\",\"Via Antonio Rosmini\",\"Via Antonio Rosmini\",\"Via Antonio Rosmini\",\"Via Antonio Rosmini\",\"Via Antonio Rosmini\",\"Via Antonio Rosmini\",\"Via Antonio Rosmini\",\"Via Antonio Rosmini\",\"Via Antonio Rosmini\",\"Via Antonio Rosmini\",\"Via Antonio Rosmini\",\"Via Antonio Rosmini\",\"Via Antonio Rosmini\",\"Via Antonio Rosmini\",\"Via Antonio Rosmini\",\"Via Antonio Rosmini\",\"Via Antonio Rosmini\",\"Via Antonio Rosmini\",\"Via Antonio Rosmini\",\"Via Antonio Rosmini\",\"Via Antonio Rosmini\",\"Via Antonio Rosmini\",\"Via Antonio Rosmini\",\"Via Antonio Rosmini\",\"Via Antonio Rosmini\",\"Via Antonio Rosmini\",\"Via Antonio Rosmini\",\"Via Antonio Rosmini\",\"Via Antonio Rosmini\",\"Via Antonio Rosmini\",\"Via Antonio Rosmini\",\"Via Antonio Rosmini\",\"Via Antonio Rosmini\",\"Via Antonio Rosmini\",\"Via Antonio Rosmini\",\"Via Antonio Rosmini\",\"Via Antonio Rosmini\",\"Via Antonio Rosmini\",\"Via Antonio Rosmini\",\"Via Antonio Rosmini\",\"Via Antonio Rosmini\",\"Via Antonio Rosmini\",\"Via Antonio Rosmini\",\"Via Antonio Rosmini\",\"Via Antonio Rosmini\",\"Via Antonio Rosmini\",\"Via Antonio Rosmini\",\"Via Antonio Rosmini\",\"Via Antonio Rosmini\",\"Via Antonio Rosmini\",\"Via Antonio Rosmini\",\"Via Antonio Rosmini\",\"Via Antonio Rosmini\",\"Via Antonio Rosmini\",\"Via Antonio Rosmini\",\"Via Antonio Rosmini\",\"Via Antonio Rosmini\",\"Via Antonio Rosmini\",\"Via Antonio Rosmini\",\"Via Antonio Rosmini\",\"Via Antonio Rosmini\",\"Via Antonio Rosmini\",\"Via Antonio Rosmini\",\"Via Antonio Rosmini\",\"Via Antonio Rosmini\",\"Via Antonio Rosmini\",\"Via Antonio Rosmini\",\"Via Antonio Rosmini\",\"Via Antonio Rosmini\",\"Via Antonio Rosmini\",\"Via Antonio Rosmini\",\"Via Antonio Rosmini\",\"Via Antonio Rosmini\",\"Via Antonio Rosmini\",\"Via Antonio Rosmini\"],\"legendgroup\":\"missing_val\",\"line\":{\"color\":\"#00cc96\",\"dash\":\"solid\",\"width\":5},\"marker\":{\"symbol\":\"circle\"},\"mode\":\"lines\",\"name\":\"missing_val\",\"scene\":\"scene\",\"showlegend\":true,\"x\":[11.119008,11.119008,11.119008,11.119008,11.119008,11.119008,11.119008,11.119008,11.119008,11.119008,11.119008,11.119008,11.119008,11.119008,11.119008,11.119008,11.119008,11.119008,11.119008,11.119008,11.119008,11.119008,11.119008,11.119008,11.119008,11.119008,11.119008,11.119008,11.119008,11.119008,11.119008,11.119008,11.119008,11.119008,11.119008,11.119008,11.119008,11.119008,11.119008,11.119008,11.119008,11.119008,11.119008,11.119008,11.119008,11.119008,11.119008,11.119008,11.119008,11.119008,11.119008,11.119008,11.119008,11.119008,11.119008,11.119008,11.119008,11.119008,11.119008,11.119008,11.119008,11.119008,11.119008,11.119008,11.119008,11.119008,11.119008,11.119008,11.119008,11.119008,11.119008,11.119008,11.119008,11.119008,11.119008,11.119008,11.119008,11.119008,11.119008,11.119008,11.119008,11.119008,11.119008,11.119008,11.119008],\"y\":[46.065852,46.065852,46.065852,46.065852,46.065852,46.065852,46.065852,46.065852,46.065852,46.065852,46.065852,46.065852,46.065852,46.065852,46.065852,46.065852,46.065852,46.065852,46.065852,46.065852,46.065852,46.065852,46.065852,46.065852,46.065852,46.065852,46.065852,46.065852,46.065852,46.065852,46.065852,46.065852,46.065852,46.065852,46.065852,46.065852,46.065852,46.065852,46.065852,46.065852,46.065852,46.065852,46.065852,46.065852,46.065852,46.065852,46.065852,46.065852,46.065852,46.065852,46.065852,46.065852,46.065852,46.065852,46.065852,46.065852,46.065852,46.065852,46.065852,46.065852,46.065852,46.065852,46.065852,46.065852,46.065852,46.065852,46.065852,46.065852,46.065852,46.065852,46.065852,46.065852,46.065852,46.065852,46.065852,46.065852,46.065852,46.065852,46.065852,46.065852,46.065852,46.065852,46.065852,46.065852,46.065852],\"z\":[\"2018-05-10T18:02:18\",\"2018-05-11T09:02:18\",\"2018-05-12T09:02:18\",\"2018-05-12T09:32:18\",\"2018-05-12T10:02:18\",\"2018-05-12T10:32:18\",\"2018-05-12T11:02:18\",\"2018-05-12T11:32:18\",\"2018-05-12T12:02:18\",\"2018-05-12T12:32:18\",\"2018-05-12T13:02:18\",\"2018-05-12T13:32:18\",\"2018-05-12T14:02:18\",\"2018-05-12T14:32:18\",\"2018-05-12T15:02:18\",\"2018-05-12T15:32:18\",\"2018-05-12T22:32:18\",\"2018-05-13T09:02:18\",\"2018-05-13T09:32:18\",\"2018-05-13T10:02:18\",\"2018-05-13T10:32:18\",\"2018-05-13T11:02:18\",\"2018-05-13T11:32:18\",\"2018-05-13T12:02:18\",\"2018-05-13T12:32:18\",\"2018-05-14T19:32:18\",\"2018-05-14T20:02:18\",\"2018-05-15T10:02:18\",\"2018-05-15T10:32:18\",\"2018-05-15T11:02:18\",\"2018-05-15T14:32:18\",\"2018-05-15T23:32:18\",\"2018-05-16T00:02:18\",\"2018-05-16T10:02:18\",\"2018-05-16T10:32:18\",\"2018-05-16T14:02:18\",\"2018-05-16T14:32:18\",\"2018-05-16T15:02:18\",\"2018-05-16T15:32:18\",\"2018-05-16T16:02:18\",\"2018-05-16T16:32:18\",\"2018-05-16T23:02:18\",\"2018-05-17T09:02:18\",\"2018-05-19T10:02:18\",\"2018-05-19T10:32:18\",\"2018-05-19T11:02:18\",\"2018-05-19T11:32:18\",\"2018-05-19T12:02:18\",\"2018-05-19T20:32:18\",\"2018-05-19T21:02:18\",\"2018-05-20T13:32:18\",\"2018-05-20T14:02:18\",\"2018-05-21T09:02:18\",\"2018-05-21T09:32:18\",\"2018-05-21T10:02:18\",\"2018-05-21T10:32:18\",\"2018-05-21T11:02:18\",\"2018-05-21T21:32:18\",\"2018-05-21T22:02:18\",\"2018-05-22T00:32:18\",\"2018-05-22T09:02:18\",\"2018-05-22T09:32:18\",\"2018-05-22T10:02:18\",\"2018-05-22T10:32:18\",\"2018-05-22T11:02:18\",\"2018-05-22T22:02:18\",\"2018-05-22T22:32:18\",\"2018-05-22T23:02:18\",\"2018-05-22T23:32:18\",\"2018-05-23T10:02:18\",\"2018-05-23T15:02:18\",\"2018-05-23T15:32:18\",\"2018-05-23T16:02:18\",\"2018-05-23T16:32:18\",\"2018-05-23T17:02:18\",\"2018-05-23T17:32:18\",\"2018-05-23T18:02:18\",\"2018-05-23T18:32:18\",\"2018-05-23T19:02:18\",\"2018-05-23T19:32:18\",\"2018-05-23T20:02:18\",\"2018-05-23T20:32:18\",\"2018-05-23T22:32:18\",\"2018-05-23T23:02:18\",\"2018-05-23T23:32:18\"],\"type\":\"scatter3d\"},{\"hovertemplate\":\"<b>%{hovertext}</b><br><br>with_who=Friend(s)<br>longitude_home=%{x}<br>latitude_home=%{y}<br>Time=%{z}<extra></extra>\",\"hovertext\":[\"Via Antonio Rosmini\",\"Via Antonio Rosmini\",\"Via Antonio Rosmini\",\"Via Antonio Rosmini\",\"Via Antonio Rosmini\",\"Via Antonio Rosmini\",\"Via Antonio Rosmini\",\"Via Antonio Rosmini\",\"Via Antonio Rosmini\",\"Via Antonio Rosmini\",\"Via Antonio Rosmini\",\"Via Antonio Rosmini\",\"Via Antonio Rosmini\",\"Via Antonio Rosmini\",\"Via Antonio Rosmini\",\"Via Antonio Rosmini\",\"Via Antonio Rosmini\",\"Via Antonio Rosmini\",\"Via Antonio Rosmini\",\"Via Antonio Rosmini\",\"Via Antonio Rosmini\",\"Via Antonio Rosmini\",\"Via Antonio Rosmini\",\"Via Antonio Rosmini\",\"Via Antonio Rosmini\",\"Via Antonio Rosmini\",\"Via Antonio Rosmini\",\"Via Antonio Rosmini\",\"Via Antonio Rosmini\",\"Via Antonio Rosmini\",\"Via Antonio Rosmini\",\"Via Antonio Rosmini\",\"Via Antonio Rosmini\",\"Via Antonio Rosmini\",\"Via Antonio Rosmini\",\"Via Antonio Rosmini\",\"Via Antonio Rosmini\",\"Via Antonio Rosmini\",\"Via Antonio Rosmini\",\"Via Antonio Rosmini\"],\"legendgroup\":\"Friend(s)\",\"line\":{\"color\":\"#ab63fa\",\"dash\":\"solid\",\"width\":5},\"marker\":{\"symbol\":\"circle\"},\"mode\":\"lines\",\"name\":\"Friend(s)\",\"scene\":\"scene\",\"showlegend\":true,\"x\":[11.119008,11.119008,11.119008,11.119008,11.119008,11.119008,11.119008,11.119008,11.119008,11.119008,11.119008,11.119008,11.119008,11.119008,11.119008,11.119008,11.119008,11.119008,11.119008,11.119008,11.119008,11.119008,11.119008,11.119008,11.119008,11.119008,11.119008,11.119008,11.119008,11.119008,11.119008,11.119008,11.119008,11.119008,11.119008,11.119008,11.119008,11.119008,11.119008,11.119008],\"y\":[46.065852,46.065852,46.065852,46.065852,46.065852,46.065852,46.065852,46.065852,46.065852,46.065852,46.065852,46.065852,46.065852,46.065852,46.065852,46.065852,46.065852,46.065852,46.065852,46.065852,46.065852,46.065852,46.065852,46.065852,46.065852,46.065852,46.065852,46.065852,46.065852,46.065852,46.065852,46.065852,46.065852,46.065852,46.065852,46.065852,46.065852,46.065852,46.065852,46.065852],\"z\":[\"2018-05-11T20:32:18.623000\",\"2018-05-11T21:02:18.613000\",\"2018-05-11T21:32:18.629000\",\"2018-05-11T22:02:18.619000\",\"2018-05-11T22:32:18.627000\",\"2018-05-11T23:02:18.614000\",\"2018-05-11T23:32:18.620000\",\"2018-05-12T00:02:18.621000\",\"2018-05-12T00:32:18.660000\",\"2018-05-12T01:02:18.618000\",\"2018-05-12T01:32:18.626000\",\"2018-05-12T02:02:18.618000\",\"2018-05-13T15:32:18.614000\",\"2018-05-13T16:02:18.612000\",\"2018-05-13T16:32:18.614000\",\"2018-05-13T17:02:18\",\"2018-05-13T17:32:18.655000\",\"2018-05-13T18:02:18.616000\",\"2018-05-13T18:32:18.611000\",\"2018-05-13T19:02:18.619000\",\"2018-05-18T21:32:18.610000\",\"2018-05-18T22:02:18.609000\",\"2018-05-18T23:02:18.638000\",\"2018-05-18T23:32:18.613000\",\"2018-05-19T00:02:18.614000\",\"2018-05-19T00:32:18.610000\",\"2018-05-19T23:02:18.610000\",\"2018-05-19T23:32:18.615000\",\"2018-05-20T00:02:18.613000\",\"2018-05-20T00:32:18.629000\",\"2018-05-20T01:02:18.609000\",\"2018-05-20T01:32:18.612000\",\"2018-05-20T02:02:18.628000\",\"2018-05-20T02:32:18.617000\",\"2018-05-21T13:02:18.612000\",\"2018-05-21T13:32:18.610000\",\"2018-05-23T11:32:18.645000\",\"2018-05-23T21:02:18.625000\",\"2018-05-23T21:32:18.614000\",\"2018-05-23T22:02:18.613000\"],\"type\":\"scatter3d\"},{\"hovertemplate\":\"<b>%{hovertext}</b><br><br>with_who=Roommate(s)<br>longitude_home=%{x}<br>latitude_home=%{y}<br>Time=%{z}<extra></extra>\",\"hovertext\":[\"Via Antonio Rosmini\",\"Via Antonio Rosmini\",\"Via Antonio Rosmini\",\"Via Antonio Rosmini\",\"Via Antonio Rosmini\",\"Via Antonio Rosmini\",\"Via Antonio Rosmini\",\"Via Antonio Rosmini\",\"Via Antonio Rosmini\",\"Via Antonio Rosmini\",\"Via Antonio Rosmini\",\"Via Antonio Rosmini\",\"Via Antonio Rosmini\",\"Via Antonio Rosmini\",\"Via Antonio Rosmini\"],\"legendgroup\":\"Roommate(s)\",\"line\":{\"color\":\"#FFA15A\",\"dash\":\"solid\",\"width\":5},\"marker\":{\"symbol\":\"circle\"},\"mode\":\"lines\",\"name\":\"Roommate(s)\",\"scene\":\"scene\",\"showlegend\":true,\"x\":[11.119008,11.119008,11.119008,11.119008,11.119008,11.119008,11.119008,11.119008,11.119008,11.119008,11.119008,11.119008,11.119008,11.119008,11.119008],\"y\":[46.065852,46.065852,46.065852,46.065852,46.065852,46.065852,46.065852,46.065852,46.065852,46.065852,46.065852,46.065852,46.065852,46.065852,46.065852],\"z\":[\"2018-05-13T14:32:18.610000\",\"2018-05-14T12:02:18.619000\",\"2018-05-14T12:32:18.614000\",\"2018-05-14T22:02:18.610000\",\"2018-05-15T22:32:18.625000\",\"2018-05-18T13:32:18.616000\",\"2018-05-19T14:02:18.612000\",\"2018-05-19T14:32:18.611000\",\"2018-05-19T15:02:18.620000\",\"2018-05-19T17:02:18.615000\",\"2018-05-19T21:32:18.610000\",\"2018-05-20T20:32:18.618000\",\"2018-05-20T21:02:18.610000\",\"2018-05-22T17:32:18.659000\",\"2018-05-23T14:32:18.640000\"],\"type\":\"scatter3d\"},{\"hovertemplate\":\"<b>%{hovertext}</b><br><br>with_who=Classmate(s)<br>longitude_home=%{x}<br>latitude_home=%{y}<br>Time=%{z}<extra></extra>\",\"hovertext\":[\"Via Antonio Rosmini\",\"Via Antonio Rosmini\",\"Via Antonio Rosmini\",\"Via Antonio Rosmini\",\"Via Antonio Rosmini\",\"Via Antonio Rosmini\",\"Via Antonio Rosmini\",\"Via Antonio Rosmini\",\"Via Antonio Rosmini\",\"Via Antonio Rosmini\",\"Via Antonio Rosmini\",\"Via Antonio Rosmini\",\"Via Antonio Rosmini\",\"Via Antonio Rosmini\",\"Via Antonio Rosmini\",\"Via Antonio Rosmini\",\"Via Antonio Rosmini\",\"Via Antonio Rosmini\",\"Via Antonio Rosmini\",\"Via Antonio Rosmini\",\"Via Antonio Rosmini\",\"Via Antonio Rosmini\",\"Via Antonio Rosmini\",\"Via Antonio Rosmini\",\"Via Antonio Rosmini\",\"Via Antonio Rosmini\",\"Via Antonio Rosmini\",\"Via Antonio Rosmini\",\"Via Antonio Rosmini\",\"Via Antonio Rosmini\",\"Via Antonio Rosmini\",\"Via Antonio Rosmini\",\"Via Antonio Rosmini\",\"Via Antonio Rosmini\",\"Via Antonio Rosmini\",\"Via Antonio Rosmini\",\"Via Antonio Rosmini\",\"Via Antonio Rosmini\",\"Via Antonio Rosmini\",\"Via Antonio Rosmini\",\"Via Antonio Rosmini\",\"Via Antonio Rosmini\",\"Via Antonio Rosmini\",\"Via Antonio Rosmini\",\"Via Antonio Rosmini\",\"Via Antonio Rosmini\",\"Via Antonio Rosmini\"],\"legendgroup\":\"Classmate(s)\",\"line\":{\"color\":\"#19d3f3\",\"dash\":\"solid\",\"width\":5},\"marker\":{\"symbol\":\"circle\"},\"mode\":\"lines\",\"name\":\"Classmate(s)\",\"scene\":\"scene\",\"showlegend\":true,\"x\":[11.119008,11.119008,11.119008,11.119008,11.119008,11.119008,11.119008,11.119008,11.119008,11.119008,11.119008,11.119008,11.119008,11.119008,11.119008,11.119008,11.119008,11.119008,11.119008,11.119008,11.119008,11.119008,11.119008,11.119008,11.119008,11.119008,11.119008,11.119008,11.119008,11.119008,11.119008,11.119008,11.119008,11.119008,11.119008,11.119008,11.119008,11.119008,11.119008,11.119008,11.119008,11.119008,11.119008,11.119008,11.119008,11.119008,11.119008],\"y\":[46.065852,46.065852,46.065852,46.065852,46.065852,46.065852,46.065852,46.065852,46.065852,46.065852,46.065852,46.065852,46.065852,46.065852,46.065852,46.065852,46.065852,46.065852,46.065852,46.065852,46.065852,46.065852,46.065852,46.065852,46.065852,46.065852,46.065852,46.065852,46.065852,46.065852,46.065852,46.065852,46.065852,46.065852,46.065852,46.065852,46.065852,46.065852,46.065852,46.065852,46.065852,46.065852,46.065852,46.065852,46.065852,46.065852,46.065852],\"z\":[\"2018-05-14T08:32:18.614000\",\"2018-05-14T09:02:18.612000\",\"2018-05-14T09:32:18\",\"2018-05-14T10:02:18.615000\",\"2018-05-14T13:32:18.741000\",\"2018-05-14T15:02:18.663000\",\"2018-05-15T11:32:18.613000\",\"2018-05-15T12:02:18.682000\",\"2018-05-15T12:32:18.628000\",\"2018-05-15T13:02:18.612000\",\"2018-05-16T12:02:18.732000\",\"2018-05-16T12:32:18.621000\",\"2018-05-16T13:02:18\",\"2018-05-17T09:32:18.619000\",\"2018-05-17T10:02:18.614000\",\"2018-05-17T10:32:18.623000\",\"2018-05-17T11:02:18.620000\",\"2018-05-17T11:32:18.616000\",\"2018-05-17T12:02:18.698000\",\"2018-05-17T15:32:18.619000\",\"2018-05-17T16:02:18.615000\",\"2018-05-17T16:32:18.611000\",\"2018-05-17T17:02:18.622000\",\"2018-05-17T18:02:18.876000\",\"2018-05-17T18:32:18.627000\",\"2018-05-18T10:32:18.614000\",\"2018-05-18T11:02:18\",\"2018-05-18T11:32:18.614000\",\"2018-05-21T12:32:18.609000\",\"2018-05-21T14:02:18.611000\",\"2018-05-21T14:32:18.649000\",\"2018-05-21T15:02:18.614000\",\"2018-05-22T11:32:18.610000\",\"2018-05-22T12:02:18.616000\",\"2018-05-22T12:32:18.619000\",\"2018-05-22T13:02:18.613000\",\"2018-05-22T13:32:18.616000\",\"2018-05-22T14:02:18.849000\",\"2018-05-22T14:32:18.865000\",\"2018-05-22T15:02:18\",\"2018-05-22T15:32:18.617000\",\"2018-05-22T16:02:18.611000\",\"2018-05-22T16:32:18.610000\",\"2018-05-23T12:02:18.620000\",\"2018-05-23T12:32:18.637000\",\"2018-05-23T13:02:18.624000\",\"2018-05-23T13:32:18.624000\"],\"type\":\"scatter3d\"}],                        {\"template\":{\"data\":{\"bar\":[{\"error_x\":{\"color\":\"#2a3f5f\"},\"error_y\":{\"color\":\"#2a3f5f\"},\"marker\":{\"line\":{\"color\":\"#E5ECF6\",\"width\":0.5},\"pattern\":{\"fillmode\":\"overlay\",\"size\":10,\"solidity\":0.2}},\"type\":\"bar\"}],\"barpolar\":[{\"marker\":{\"line\":{\"color\":\"#E5ECF6\",\"width\":0.5},\"pattern\":{\"fillmode\":\"overlay\",\"size\":10,\"solidity\":0.2}},\"type\":\"barpolar\"}],\"carpet\":[{\"aaxis\":{\"endlinecolor\":\"#2a3f5f\",\"gridcolor\":\"white\",\"linecolor\":\"white\",\"minorgridcolor\":\"white\",\"startlinecolor\":\"#2a3f5f\"},\"baxis\":{\"endlinecolor\":\"#2a3f5f\",\"gridcolor\":\"white\",\"linecolor\":\"white\",\"minorgridcolor\":\"white\",\"startlinecolor\":\"#2a3f5f\"},\"type\":\"carpet\"}],\"choropleth\":[{\"colorbar\":{\"outlinewidth\":0,\"ticks\":\"\"},\"type\":\"choropleth\"}],\"contour\":[{\"colorbar\":{\"outlinewidth\":0,\"ticks\":\"\"},\"colorscale\":[[0.0,\"#0d0887\"],[0.1111111111111111,\"#46039f\"],[0.2222222222222222,\"#7201a8\"],[0.3333333333333333,\"#9c179e\"],[0.4444444444444444,\"#bd3786\"],[0.5555555555555556,\"#d8576b\"],[0.6666666666666666,\"#ed7953\"],[0.7777777777777778,\"#fb9f3a\"],[0.8888888888888888,\"#fdca26\"],[1.0,\"#f0f921\"]],\"type\":\"contour\"}],\"contourcarpet\":[{\"colorbar\":{\"outlinewidth\":0,\"ticks\":\"\"},\"type\":\"contourcarpet\"}],\"heatmap\":[{\"colorbar\":{\"outlinewidth\":0,\"ticks\":\"\"},\"colorscale\":[[0.0,\"#0d0887\"],[0.1111111111111111,\"#46039f\"],[0.2222222222222222,\"#7201a8\"],[0.3333333333333333,\"#9c179e\"],[0.4444444444444444,\"#bd3786\"],[0.5555555555555556,\"#d8576b\"],[0.6666666666666666,\"#ed7953\"],[0.7777777777777778,\"#fb9f3a\"],[0.8888888888888888,\"#fdca26\"],[1.0,\"#f0f921\"]],\"type\":\"heatmap\"}],\"heatmapgl\":[{\"colorbar\":{\"outlinewidth\":0,\"ticks\":\"\"},\"colorscale\":[[0.0,\"#0d0887\"],[0.1111111111111111,\"#46039f\"],[0.2222222222222222,\"#7201a8\"],[0.3333333333333333,\"#9c179e\"],[0.4444444444444444,\"#bd3786\"],[0.5555555555555556,\"#d8576b\"],[0.6666666666666666,\"#ed7953\"],[0.7777777777777778,\"#fb9f3a\"],[0.8888888888888888,\"#fdca26\"],[1.0,\"#f0f921\"]],\"type\":\"heatmapgl\"}],\"histogram\":[{\"marker\":{\"pattern\":{\"fillmode\":\"overlay\",\"size\":10,\"solidity\":0.2}},\"type\":\"histogram\"}],\"histogram2d\":[{\"colorbar\":{\"outlinewidth\":0,\"ticks\":\"\"},\"colorscale\":[[0.0,\"#0d0887\"],[0.1111111111111111,\"#46039f\"],[0.2222222222222222,\"#7201a8\"],[0.3333333333333333,\"#9c179e\"],[0.4444444444444444,\"#bd3786\"],[0.5555555555555556,\"#d8576b\"],[0.6666666666666666,\"#ed7953\"],[0.7777777777777778,\"#fb9f3a\"],[0.8888888888888888,\"#fdca26\"],[1.0,\"#f0f921\"]],\"type\":\"histogram2d\"}],\"histogram2dcontour\":[{\"colorbar\":{\"outlinewidth\":0,\"ticks\":\"\"},\"colorscale\":[[0.0,\"#0d0887\"],[0.1111111111111111,\"#46039f\"],[0.2222222222222222,\"#7201a8\"],[0.3333333333333333,\"#9c179e\"],[0.4444444444444444,\"#bd3786\"],[0.5555555555555556,\"#d8576b\"],[0.6666666666666666,\"#ed7953\"],[0.7777777777777778,\"#fb9f3a\"],[0.8888888888888888,\"#fdca26\"],[1.0,\"#f0f921\"]],\"type\":\"histogram2dcontour\"}],\"mesh3d\":[{\"colorbar\":{\"outlinewidth\":0,\"ticks\":\"\"},\"type\":\"mesh3d\"}],\"parcoords\":[{\"line\":{\"colorbar\":{\"outlinewidth\":0,\"ticks\":\"\"}},\"type\":\"parcoords\"}],\"pie\":[{\"automargin\":true,\"type\":\"pie\"}],\"scatter\":[{\"marker\":{\"colorbar\":{\"outlinewidth\":0,\"ticks\":\"\"}},\"type\":\"scatter\"}],\"scatter3d\":[{\"line\":{\"colorbar\":{\"outlinewidth\":0,\"ticks\":\"\"}},\"marker\":{\"colorbar\":{\"outlinewidth\":0,\"ticks\":\"\"}},\"type\":\"scatter3d\"}],\"scattercarpet\":[{\"marker\":{\"colorbar\":{\"outlinewidth\":0,\"ticks\":\"\"}},\"type\":\"scattercarpet\"}],\"scattergeo\":[{\"marker\":{\"colorbar\":{\"outlinewidth\":0,\"ticks\":\"\"}},\"type\":\"scattergeo\"}],\"scattergl\":[{\"marker\":{\"colorbar\":{\"outlinewidth\":0,\"ticks\":\"\"}},\"type\":\"scattergl\"}],\"scattermapbox\":[{\"marker\":{\"colorbar\":{\"outlinewidth\":0,\"ticks\":\"\"}},\"type\":\"scattermapbox\"}],\"scatterpolar\":[{\"marker\":{\"colorbar\":{\"outlinewidth\":0,\"ticks\":\"\"}},\"type\":\"scatterpolar\"}],\"scatterpolargl\":[{\"marker\":{\"colorbar\":{\"outlinewidth\":0,\"ticks\":\"\"}},\"type\":\"scatterpolargl\"}],\"scatterternary\":[{\"marker\":{\"colorbar\":{\"outlinewidth\":0,\"ticks\":\"\"}},\"type\":\"scatterternary\"}],\"surface\":[{\"colorbar\":{\"outlinewidth\":0,\"ticks\":\"\"},\"colorscale\":[[0.0,\"#0d0887\"],[0.1111111111111111,\"#46039f\"],[0.2222222222222222,\"#7201a8\"],[0.3333333333333333,\"#9c179e\"],[0.4444444444444444,\"#bd3786\"],[0.5555555555555556,\"#d8576b\"],[0.6666666666666666,\"#ed7953\"],[0.7777777777777778,\"#fb9f3a\"],[0.8888888888888888,\"#fdca26\"],[1.0,\"#f0f921\"]],\"type\":\"surface\"}],\"table\":[{\"cells\":{\"fill\":{\"color\":\"#EBF0F8\"},\"line\":{\"color\":\"white\"}},\"header\":{\"fill\":{\"color\":\"#C8D4E3\"},\"line\":{\"color\":\"white\"}},\"type\":\"table\"}]},\"layout\":{\"annotationdefaults\":{\"arrowcolor\":\"#2a3f5f\",\"arrowhead\":0,\"arrowwidth\":1},\"autotypenumbers\":\"strict\",\"coloraxis\":{\"colorbar\":{\"outlinewidth\":0,\"ticks\":\"\"}},\"colorscale\":{\"diverging\":[[0,\"#8e0152\"],[0.1,\"#c51b7d\"],[0.2,\"#de77ae\"],[0.3,\"#f1b6da\"],[0.4,\"#fde0ef\"],[0.5,\"#f7f7f7\"],[0.6,\"#e6f5d0\"],[0.7,\"#b8e186\"],[0.8,\"#7fbc41\"],[0.9,\"#4d9221\"],[1,\"#276419\"]],\"sequential\":[[0.0,\"#0d0887\"],[0.1111111111111111,\"#46039f\"],[0.2222222222222222,\"#7201a8\"],[0.3333333333333333,\"#9c179e\"],[0.4444444444444444,\"#bd3786\"],[0.5555555555555556,\"#d8576b\"],[0.6666666666666666,\"#ed7953\"],[0.7777777777777778,\"#fb9f3a\"],[0.8888888888888888,\"#fdca26\"],[1.0,\"#f0f921\"]],\"sequentialminus\":[[0.0,\"#0d0887\"],[0.1111111111111111,\"#46039f\"],[0.2222222222222222,\"#7201a8\"],[0.3333333333333333,\"#9c179e\"],[0.4444444444444444,\"#bd3786\"],[0.5555555555555556,\"#d8576b\"],[0.6666666666666666,\"#ed7953\"],[0.7777777777777778,\"#fb9f3a\"],[0.8888888888888888,\"#fdca26\"],[1.0,\"#f0f921\"]]},\"colorway\":[\"#636efa\",\"#EF553B\",\"#00cc96\",\"#ab63fa\",\"#FFA15A\",\"#19d3f3\",\"#FF6692\",\"#B6E880\",\"#FF97FF\",\"#FECB52\"],\"font\":{\"color\":\"#2a3f5f\"},\"geo\":{\"bgcolor\":\"white\",\"lakecolor\":\"white\",\"landcolor\":\"#E5ECF6\",\"showlakes\":true,\"showland\":true,\"subunitcolor\":\"white\"},\"hoverlabel\":{\"align\":\"left\"},\"hovermode\":\"closest\",\"mapbox\":{\"style\":\"light\"},\"paper_bgcolor\":\"white\",\"plot_bgcolor\":\"#E5ECF6\",\"polar\":{\"angularaxis\":{\"gridcolor\":\"white\",\"linecolor\":\"white\",\"ticks\":\"\"},\"bgcolor\":\"#E5ECF6\",\"radialaxis\":{\"gridcolor\":\"white\",\"linecolor\":\"white\",\"ticks\":\"\"}},\"scene\":{\"xaxis\":{\"backgroundcolor\":\"#E5ECF6\",\"gridcolor\":\"white\",\"gridwidth\":2,\"linecolor\":\"white\",\"showbackground\":true,\"ticks\":\"\",\"zerolinecolor\":\"white\"},\"yaxis\":{\"backgroundcolor\":\"#E5ECF6\",\"gridcolor\":\"white\",\"gridwidth\":2,\"linecolor\":\"white\",\"showbackground\":true,\"ticks\":\"\",\"zerolinecolor\":\"white\"},\"zaxis\":{\"backgroundcolor\":\"#E5ECF6\",\"gridcolor\":\"white\",\"gridwidth\":2,\"linecolor\":\"white\",\"showbackground\":true,\"ticks\":\"\",\"zerolinecolor\":\"white\"}},\"shapedefaults\":{\"line\":{\"color\":\"#2a3f5f\"}},\"ternary\":{\"aaxis\":{\"gridcolor\":\"white\",\"linecolor\":\"white\",\"ticks\":\"\"},\"baxis\":{\"gridcolor\":\"white\",\"linecolor\":\"white\",\"ticks\":\"\"},\"bgcolor\":\"#E5ECF6\",\"caxis\":{\"gridcolor\":\"white\",\"linecolor\":\"white\",\"ticks\":\"\"}},\"title\":{\"x\":0.05},\"xaxis\":{\"automargin\":true,\"gridcolor\":\"white\",\"linecolor\":\"white\",\"ticks\":\"\",\"title\":{\"standoff\":15},\"zerolinecolor\":\"white\",\"zerolinewidth\":2},\"yaxis\":{\"automargin\":true,\"gridcolor\":\"white\",\"linecolor\":\"white\",\"ticks\":\"\",\"title\":{\"standoff\":15},\"zerolinecolor\":\"white\",\"zerolinewidth\":2}}},\"scene\":{\"domain\":{\"x\":[0.0,1.0],\"y\":[0.0,1.0]},\"xaxis\":{\"title\":{\"text\":\"longitude_home\"}},\"yaxis\":{\"title\":{\"text\":\"latitude_home\"}},\"zaxis\":{\"title\":{\"text\":\"Time\"}}},\"legend\":{\"title\":{\"text\":\"with_who\"},\"tracegroupgap\":0},\"margin\":{\"t\":60},\"title\":{\"text\":\"subject_2- 4D visualization(time-space-cube + with_who)  \"},\"autosize\":false,\"width\":800,\"height\":600},                        {\"responsive\": true}                    ).then(function(){\n",
       "                            \n",
       "var gd = document.getElementById('fe3b0585-ae45-4bc2-8b32-e841956bca58');\n",
       "var x = new MutationObserver(function (mutations, observer) {{\n",
       "        var display = window.getComputedStyle(gd).display;\n",
       "        if (!display || display === 'none') {{\n",
       "            console.log([gd, 'removed!']);\n",
       "            Plotly.purge(gd);\n",
       "            observer.disconnect();\n",
       "        }}\n",
       "}});\n",
       "\n",
       "// Listen for the removal of the full notebook cells\n",
       "var notebookContainer = gd.closest('#notebook-container');\n",
       "if (notebookContainer) {{\n",
       "    x.observe(notebookContainer, {childList: true});\n",
       "}}\n",
       "\n",
       "// Listen for the clearing of the current output cell\n",
       "var outputEl = gd.closest('.output');\n",
       "if (outputEl) {{\n",
       "    x.observe(outputEl, {childList: true});\n",
       "}}\n",
       "\n",
       "                        })                };                });            </script>        </div>"
      ]
     },
     "metadata": {},
     "output_type": "display_data"
    }
   ],
   "source": [
    "# Plot the trajectory in space-time cube \n",
    "\n",
    "fig = px.line_3d(tdf_sub2, x=\"longitude_home\", y=\"latitude_home\", z=\"Time\",color=\"with_who\",hover_name=\"location_name\")\n",
    "fig.update_traces(line=dict(width=5))\n",
    "fig.update_layout(autosize = False,width = 800,height = 600,title_text='subject_2- 4D visualization(time-space-cube + with_who)  ')\n",
    "\n",
    "\n",
    "\n",
    "fig.show()"
   ]
  },
  {
   "cell_type": "code",
   "execution_count": null,
   "metadata": {},
   "outputs": [],
   "source": []
  },
  {
   "cell_type": "code",
   "execution_count": null,
   "metadata": {},
   "outputs": [],
   "source": []
  }
 ],
 "metadata": {
  "kernelspec": {
   "display_name": "Python 3 (ipykernel)",
   "language": "python",
   "name": "python3"
  },
  "language_info": {
   "codemirror_mode": {
    "name": "ipython",
    "version": 3
   },
   "file_extension": ".py",
   "mimetype": "text/x-python",
   "name": "python",
   "nbconvert_exporter": "python",
   "pygments_lexer": "ipython3",
   "version": "3.8.12"
  }
 },
 "nbformat": 4,
 "nbformat_minor": 4
}
