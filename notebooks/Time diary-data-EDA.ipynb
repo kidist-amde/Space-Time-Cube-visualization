{
 "cells": [
  {
   "cell_type": "code",
   "execution_count": 7,
   "id": "247ed2cd",
   "metadata": {},
   "outputs": [],
   "source": [
    "import matplotlib.pyplot as plt\n",
    "import pandas as pd\n",
    "import numpy as np"
   ]
  },
  {
   "cell_type": "code",
   "execution_count": 8,
   "id": "7b69b003",
   "metadata": {},
   "outputs": [
    {
     "data": {
      "text/html": [
       "<div>\n",
       "<style scoped>\n",
       "    .dataframe tbody tr th:only-of-type {\n",
       "        vertical-align: middle;\n",
       "    }\n",
       "\n",
       "    .dataframe tbody tr th {\n",
       "        vertical-align: top;\n",
       "    }\n",
       "\n",
       "    .dataframe thead th {\n",
       "        text-align: right;\n",
       "    }\n",
       "</style>\n",
       "<table border=\"1\" class=\"dataframe\">\n",
       "  <thead>\n",
       "    <tr style=\"text-align: right;\">\n",
       "      <th></th>\n",
       "      <th>idcode</th>\n",
       "      <th>MM</th>\n",
       "      <th>GG</th>\n",
       "      <th>hh</th>\n",
       "      <th>mm</th>\n",
       "      <th>ss</th>\n",
       "      <th>ms</th>\n",
       "      <th>cosarr</th>\n",
       "      <th>conchir</th>\n",
       "      <th>doverr</th>\n",
       "      <th>weeks</th>\n",
       "      <th>mood</th>\n",
       "      <th>dayweek</th>\n",
       "      <th>sex</th>\n",
       "      <th>lat_casa</th>\n",
       "      <th>lon_casa</th>\n",
       "      <th>time_str</th>\n",
       "      <th>timestamp_TD</th>\n",
       "    </tr>\n",
       "  </thead>\n",
       "  <tbody>\n",
       "    <tr>\n",
       "      <th>0</th>\n",
       "      <td>deb1cc1094abe3b84148183e5acff809c7890942</td>\n",
       "      <td>5.0</td>\n",
       "      <td>10.0</td>\n",
       "      <td>0.0</td>\n",
       "      <td>2.0</td>\n",
       "      <td>18.0</td>\n",
       "      <td>790.0</td>\n",
       "      <td>Sleeping</td>\n",
       "      <td>Roommate(s)</td>\n",
       "      <td>Home Apartment Room</td>\n",
       "      <td>prime due settimane</td>\n",
       "      <td>NaN</td>\n",
       "      <td>Thursday</td>\n",
       "      <td>F</td>\n",
       "      <td>46.061207</td>\n",
       "      <td>11.130863</td>\n",
       "      <td>10/5/2018 0:2:18.790</td>\n",
       "      <td>2018-05-10 00:02:18.790</td>\n",
       "    </tr>\n",
       "    <tr>\n",
       "      <th>1</th>\n",
       "      <td>deb1cc1094abe3b84148183e5acff809c7890942</td>\n",
       "      <td>5.0</td>\n",
       "      <td>10.0</td>\n",
       "      <td>0.0</td>\n",
       "      <td>32.0</td>\n",
       "      <td>18.0</td>\n",
       "      <td>635.0</td>\n",
       "      <td>Sleeping</td>\n",
       "      <td>Roommate(s)</td>\n",
       "      <td>Home Apartment Room</td>\n",
       "      <td>prime due settimane</td>\n",
       "      <td>NaN</td>\n",
       "      <td>Thursday</td>\n",
       "      <td>F</td>\n",
       "      <td>46.061207</td>\n",
       "      <td>11.130863</td>\n",
       "      <td>10/5/2018 0:32:18.635</td>\n",
       "      <td>2018-05-10 00:32:18.635</td>\n",
       "    </tr>\n",
       "    <tr>\n",
       "      <th>2</th>\n",
       "      <td>deb1cc1094abe3b84148183e5acff809c7890942</td>\n",
       "      <td>5.0</td>\n",
       "      <td>10.0</td>\n",
       "      <td>1.0</td>\n",
       "      <td>2.0</td>\n",
       "      <td>18.0</td>\n",
       "      <td>641.0</td>\n",
       "      <td>Sleeping</td>\n",
       "      <td>Roommate(s)</td>\n",
       "      <td>Home Apartment Room</td>\n",
       "      <td>prime due settimane</td>\n",
       "      <td>NaN</td>\n",
       "      <td>Thursday</td>\n",
       "      <td>F</td>\n",
       "      <td>46.061207</td>\n",
       "      <td>11.130863</td>\n",
       "      <td>10/5/2018 1:2:18.641</td>\n",
       "      <td>2018-05-10 01:02:18.641</td>\n",
       "    </tr>\n",
       "    <tr>\n",
       "      <th>3</th>\n",
       "      <td>deb1cc1094abe3b84148183e5acff809c7890942</td>\n",
       "      <td>5.0</td>\n",
       "      <td>10.0</td>\n",
       "      <td>1.0</td>\n",
       "      <td>32.0</td>\n",
       "      <td>18.0</td>\n",
       "      <td>620.0</td>\n",
       "      <td>Sleeping</td>\n",
       "      <td>Roommate(s)</td>\n",
       "      <td>Home Apartment Room</td>\n",
       "      <td>prime due settimane</td>\n",
       "      <td>1.0</td>\n",
       "      <td>Thursday</td>\n",
       "      <td>F</td>\n",
       "      <td>46.061207</td>\n",
       "      <td>11.130863</td>\n",
       "      <td>10/5/2018 1:32:18.620</td>\n",
       "      <td>2018-05-10 01:32:18.620</td>\n",
       "    </tr>\n",
       "    <tr>\n",
       "      <th>4</th>\n",
       "      <td>deb1cc1094abe3b84148183e5acff809c7890942</td>\n",
       "      <td>5.0</td>\n",
       "      <td>10.0</td>\n",
       "      <td>2.0</td>\n",
       "      <td>2.0</td>\n",
       "      <td>18.0</td>\n",
       "      <td>631.0</td>\n",
       "      <td>Sleeping</td>\n",
       "      <td>Roommate(s)</td>\n",
       "      <td>Home Apartment Room</td>\n",
       "      <td>prime due settimane</td>\n",
       "      <td>1.0</td>\n",
       "      <td>Thursday</td>\n",
       "      <td>F</td>\n",
       "      <td>46.061207</td>\n",
       "      <td>11.130863</td>\n",
       "      <td>10/5/2018 2:2:18.631</td>\n",
       "      <td>2018-05-10 02:02:18.631</td>\n",
       "    </tr>\n",
       "  </tbody>\n",
       "</table>\n",
       "</div>"
      ],
      "text/plain": [
       "                                     idcode   MM    GG   hh    mm    ss  \\\n",
       "0  deb1cc1094abe3b84148183e5acff809c7890942  5.0  10.0  0.0   2.0  18.0   \n",
       "1  deb1cc1094abe3b84148183e5acff809c7890942  5.0  10.0  0.0  32.0  18.0   \n",
       "2  deb1cc1094abe3b84148183e5acff809c7890942  5.0  10.0  1.0   2.0  18.0   \n",
       "3  deb1cc1094abe3b84148183e5acff809c7890942  5.0  10.0  1.0  32.0  18.0   \n",
       "4  deb1cc1094abe3b84148183e5acff809c7890942  5.0  10.0  2.0   2.0  18.0   \n",
       "\n",
       "      ms    cosarr      conchir               doverr                weeks  \\\n",
       "0  790.0  Sleeping  Roommate(s)  Home Apartment Room  prime due settimane   \n",
       "1  635.0  Sleeping  Roommate(s)  Home Apartment Room  prime due settimane   \n",
       "2  641.0  Sleeping  Roommate(s)  Home Apartment Room  prime due settimane   \n",
       "3  620.0  Sleeping  Roommate(s)  Home Apartment Room  prime due settimane   \n",
       "4  631.0  Sleeping  Roommate(s)  Home Apartment Room  prime due settimane   \n",
       "\n",
       "  mood   dayweek sex   lat_casa   lon_casa               time_str  \\\n",
       "0  NaN  Thursday   F  46.061207  11.130863   10/5/2018 0:2:18.790   \n",
       "1  NaN  Thursday   F  46.061207  11.130863  10/5/2018 0:32:18.635   \n",
       "2  NaN  Thursday   F  46.061207  11.130863   10/5/2018 1:2:18.641   \n",
       "3  1.0  Thursday   F  46.061207  11.130863  10/5/2018 1:32:18.620   \n",
       "4  1.0  Thursday   F  46.061207  11.130863   10/5/2018 2:2:18.631   \n",
       "\n",
       "             timestamp_TD  \n",
       "0 2018-05-10 00:02:18.790  \n",
       "1 2018-05-10 00:32:18.635  \n",
       "2 2018-05-10 01:02:18.641  \n",
       "3 2018-05-10 01:32:18.620  \n",
       "4 2018-05-10 02:02:18.631  "
      ]
     },
     "execution_count": 8,
     "metadata": {},
     "output_type": "execute_result"
    }
   ],
   "source": [
    "df_td = pd.read_stata(\"raw_data/td4_3D.dta\")\n",
    "\n",
    "df_td.head()"
   ]
  },
  {
   "cell_type": "code",
   "execution_count": 9,
   "id": "660cd88c",
   "metadata": {},
   "outputs": [],
   "source": [
    "sub_1,sub_2,sub_3 = df_td.idcode.unique().tolist()\n"
   ]
  },
  {
   "cell_type": "code",
   "execution_count": 10,
   "id": "1a7148cd",
   "metadata": {},
   "outputs": [
    {
     "name": "stdout",
     "output_type": "stream",
     "text": [
      "(672, 18)\n",
      "(672, 18)\n",
      "(672, 18)\n"
     ]
    }
   ],
   "source": [
    "tdf_sub1 = df_td[df_td[\"idcode\"]==sub_1].reset_index(drop=True)\n",
    "tdf_sub2 = df_td[df_td[\"idcode\"]==sub_2].reset_index(drop=True)\n",
    "tdf_sub3 = df_td[df_td[\"idcode\"]==sub_3].reset_index(drop=True)\n",
    "print(tdf_sub1.shape)\n",
    "print(tdf_sub2.shape)\n",
    "print(tdf_sub3.shape)"
   ]
  },
  {
   "cell_type": "code",
   "execution_count": 4,
   "id": "86d91891",
   "metadata": {},
   "outputs": [
    {
     "data": {
      "text/plain": [
       "Index(['idcode', 'MM', 'GG', 'hh', 'mm', 'ss', 'ms', 'cosarr', 'conchir',\n",
       "       'doverr', 'weeks', 'mood', 'dayweek', 'sex', 'lat_casa', 'lon_casa',\n",
       "       'time_str', 'timestamp_TD'],\n",
       "      dtype='object')"
      ]
     },
     "execution_count": 4,
     "metadata": {},
     "output_type": "execute_result"
    }
   ],
   "source": [
    "df_td.columns"
   ]
  },
  {
   "cell_type": "markdown",
   "id": "548140c8",
   "metadata": {},
   "source": [
    "##  Drop unwanted columns\n"
   ]
  },
  {
   "cell_type": "code",
   "execution_count": 5,
   "id": "162ab3b4",
   "metadata": {},
   "outputs": [
    {
     "data": {
      "text/plain": [
       "Index(['idcode', 'cosarr', 'conchir', 'doverr', 'weeks', 'mood', 'dayweek',\n",
       "       'sex', 'lat_casa', 'lon_casa', 'timestamp_TD'],\n",
       "      dtype='object')"
      ]
     },
     "execution_count": 5,
     "metadata": {},
     "output_type": "execute_result"
    }
   ],
   "source": [
    "df_td = df_td.drop(['MM', 'GG', 'hh', 'mm', 'ss', 'ms',\"time_str\"], axis=1)\n",
    "df_td.columns"
   ]
  },
  {
   "cell_type": "markdown",
   "id": "c4e33834",
   "metadata": {},
   "source": [
    "## Rename the columns name "
   ]
  },
  {
   "cell_type": "code",
   "execution_count": 6,
   "id": "4bf3985d",
   "metadata": {},
   "outputs": [],
   "source": [
    "df_td = df_td.rename(columns={\"cosarr\": \"activity\",'conchir':'with_who', 'doverr':\"where\",\\\n",
    "                              \"lat_casa\":\"latitude_home\",\"lon_casa\":\"longitude_home\",\"dayweek\":\"day_of_week\"})"
   ]
  },
  {
   "cell_type": "code",
   "execution_count": 7,
   "id": "59bd397a",
   "metadata": {},
   "outputs": [
    {
     "data": {
      "text/plain": [
       "Index(['idcode', 'activity', 'with_who', 'where', 'weeks', 'mood',\n",
       "       'day_of_week', 'sex', 'latitude_home', 'longitude_home',\n",
       "       'timestamp_TD'],\n",
       "      dtype='object')"
      ]
     },
     "execution_count": 7,
     "metadata": {},
     "output_type": "execute_result"
    }
   ],
   "source": [
    "df_td.columns"
   ]
  },
  {
   "cell_type": "code",
   "execution_count": 8,
   "id": "f6314db1",
   "metadata": {},
   "outputs": [
    {
     "data": {
      "text/plain": [
       "(2016, 11)"
      ]
     },
     "execution_count": 8,
     "metadata": {},
     "output_type": "execute_result"
    }
   ],
   "source": [
    "df_td.shape"
   ]
  },
  {
   "cell_type": "markdown",
   "id": "1e3c9afc",
   "metadata": {},
   "source": [
    "## Rename/ convert the value of week to English"
   ]
  },
  {
   "cell_type": "code",
   "execution_count": 11,
   "id": "1e2adb62",
   "metadata": {},
   "outputs": [
    {
     "name": "stdout",
     "output_type": "stream",
     "text": [
      "['first two weeks']\n",
      "Categories (1, object): ['first two weeks']\n",
      "['first two weeks']\n",
      "Categories (1, object): ['first two weeks']\n"
     ]
    }
   ],
   "source": [
    "print(df_td.weeks.unique())\n",
    "# rename the value to english \n",
    "df_td[\"weeks\"].replace({\"prime due settimane\": \"first two weeks\"}, inplace=True)\n",
    "print(df_td.weeks.unique())\n"
   ]
  },
  {
   "cell_type": "markdown",
   "id": "8a31a7ed",
   "metadata": {},
   "source": [
    "# Recode mood column value\n",
    "### Convert mood label to consistent text format"
   ]
  },
  {
   "cell_type": "code",
   "execution_count": 13,
   "id": "fa9fa1e2",
   "metadata": {},
   "outputs": [
    {
     "data": {
      "text/plain": [
       "[NaN, 1.0, 'Happy', 2.0, 3.0, 'Sad']\n",
       "Categories (5, object): ['Happy' < 1.0 < 2.0 < 3.0 < 'Sad']"
      ]
     },
     "execution_count": 13,
     "metadata": {},
     "output_type": "execute_result"
    }
   ],
   "source": [
    "df_td.mood.unique()\n"
   ]
  },
  {
   "cell_type": "code",
   "execution_count": 14,
   "id": "baf226cb",
   "metadata": {},
   "outputs": [
    {
     "data": {
      "text/plain": [
       "[NaN, 'Fairly happy', 'Very happy', 'Neutral', 'Fairly sad', 'Very sad']\n",
       "Categories (5, object): ['Very happy' < 'Fairly happy' < 'Neutral' < 'Fairly sad' < 'Very sad']"
      ]
     },
     "execution_count": 14,
     "metadata": {},
     "output_type": "execute_result"
    }
   ],
   "source": [
    "mood = {\n",
    "    \"Happy\":\"Very happy\",\n",
    "    1.0  :\"Fairly happy\",\n",
    "    2.0: \"Neutral\",\n",
    "    3.0 : \"Fairly sad\",\n",
    "   \"Sad\": \"Very sad\", \n",
    "    \n",
    "    \n",
    "    \n",
    "    \n",
    "}\n",
    "\n",
    "\n",
    "df_td[\"mood\"] = df_td.mood.apply(lambda m: mood[m])\n",
    "df_td.mood.unique()\n"
   ]
  },
  {
   "cell_type": "markdown",
   "id": "0b32ef38",
   "metadata": {},
   "source": [
    "## Missing Values \n",
    "#### Put  the Null/Nan value  as a missing_value "
   ]
  },
  {
   "cell_type": "code",
   "execution_count": 15,
   "id": "17ad1d43",
   "metadata": {},
   "outputs": [
    {
     "data": {
      "text/plain": [
       "['missing_val', 'Fairly happy', 'Very happy', 'Neutral', 'Fairly sad', 'Very sad']\n",
       "Categories (6, object): ['Very happy' < 'Fairly happy' < 'Neutral' < 'Fairly sad' < 'Very sad' < 'missing_val']"
      ]
     },
     "execution_count": 15,
     "metadata": {},
     "output_type": "execute_result"
    }
   ],
   "source": [
    "df_td.mood = df_td.mood.cat.add_categories(\"missing_val\").fillna(\"missing_val\")\n",
    "df_td.mood.unique()"
   ]
  },
  {
   "cell_type": "code",
   "execution_count": 16,
   "id": "44d053a2",
   "metadata": {},
   "outputs": [
    {
     "data": {
      "text/html": [
       "<div>\n",
       "<style scoped>\n",
       "    .dataframe tbody tr th:only-of-type {\n",
       "        vertical-align: middle;\n",
       "    }\n",
       "\n",
       "    .dataframe tbody tr th {\n",
       "        vertical-align: top;\n",
       "    }\n",
       "\n",
       "    .dataframe thead th {\n",
       "        text-align: right;\n",
       "    }\n",
       "</style>\n",
       "<table border=\"1\" class=\"dataframe\">\n",
       "  <thead>\n",
       "    <tr style=\"text-align: right;\">\n",
       "      <th></th>\n",
       "      <th>idcode</th>\n",
       "      <th>activity</th>\n",
       "      <th>with_who</th>\n",
       "      <th>where</th>\n",
       "      <th>weeks</th>\n",
       "      <th>mood</th>\n",
       "      <th>day_of_week</th>\n",
       "      <th>sex</th>\n",
       "      <th>latitude_home</th>\n",
       "      <th>longitude_home</th>\n",
       "      <th>timestamp_TD</th>\n",
       "    </tr>\n",
       "  </thead>\n",
       "  <tbody>\n",
       "    <tr>\n",
       "      <th>0</th>\n",
       "      <td>deb1cc1094abe3b84148183e5acff809c7890942</td>\n",
       "      <td>Sleeping</td>\n",
       "      <td>Roommate(s)</td>\n",
       "      <td>Home Apartment Room</td>\n",
       "      <td>first two weeks</td>\n",
       "      <td>missing_val</td>\n",
       "      <td>Thursday</td>\n",
       "      <td>F</td>\n",
       "      <td>46.061207</td>\n",
       "      <td>11.130863</td>\n",
       "      <td>2018-05-10 00:02:18.790</td>\n",
       "    </tr>\n",
       "    <tr>\n",
       "      <th>1</th>\n",
       "      <td>deb1cc1094abe3b84148183e5acff809c7890942</td>\n",
       "      <td>Sleeping</td>\n",
       "      <td>Roommate(s)</td>\n",
       "      <td>Home Apartment Room</td>\n",
       "      <td>first two weeks</td>\n",
       "      <td>missing_val</td>\n",
       "      <td>Thursday</td>\n",
       "      <td>F</td>\n",
       "      <td>46.061207</td>\n",
       "      <td>11.130863</td>\n",
       "      <td>2018-05-10 00:32:18.635</td>\n",
       "    </tr>\n",
       "    <tr>\n",
       "      <th>2</th>\n",
       "      <td>deb1cc1094abe3b84148183e5acff809c7890942</td>\n",
       "      <td>Sleeping</td>\n",
       "      <td>Roommate(s)</td>\n",
       "      <td>Home Apartment Room</td>\n",
       "      <td>first two weeks</td>\n",
       "      <td>missing_val</td>\n",
       "      <td>Thursday</td>\n",
       "      <td>F</td>\n",
       "      <td>46.061207</td>\n",
       "      <td>11.130863</td>\n",
       "      <td>2018-05-10 01:02:18.641</td>\n",
       "    </tr>\n",
       "    <tr>\n",
       "      <th>3</th>\n",
       "      <td>deb1cc1094abe3b84148183e5acff809c7890942</td>\n",
       "      <td>Sleeping</td>\n",
       "      <td>Roommate(s)</td>\n",
       "      <td>Home Apartment Room</td>\n",
       "      <td>first two weeks</td>\n",
       "      <td>Fairly happy</td>\n",
       "      <td>Thursday</td>\n",
       "      <td>F</td>\n",
       "      <td>46.061207</td>\n",
       "      <td>11.130863</td>\n",
       "      <td>2018-05-10 01:32:18.620</td>\n",
       "    </tr>\n",
       "    <tr>\n",
       "      <th>4</th>\n",
       "      <td>deb1cc1094abe3b84148183e5acff809c7890942</td>\n",
       "      <td>Sleeping</td>\n",
       "      <td>Roommate(s)</td>\n",
       "      <td>Home Apartment Room</td>\n",
       "      <td>first two weeks</td>\n",
       "      <td>Fairly happy</td>\n",
       "      <td>Thursday</td>\n",
       "      <td>F</td>\n",
       "      <td>46.061207</td>\n",
       "      <td>11.130863</td>\n",
       "      <td>2018-05-10 02:02:18.631</td>\n",
       "    </tr>\n",
       "  </tbody>\n",
       "</table>\n",
       "</div>"
      ],
      "text/plain": [
       "                                     idcode  activity     with_who  \\\n",
       "0  deb1cc1094abe3b84148183e5acff809c7890942  Sleeping  Roommate(s)   \n",
       "1  deb1cc1094abe3b84148183e5acff809c7890942  Sleeping  Roommate(s)   \n",
       "2  deb1cc1094abe3b84148183e5acff809c7890942  Sleeping  Roommate(s)   \n",
       "3  deb1cc1094abe3b84148183e5acff809c7890942  Sleeping  Roommate(s)   \n",
       "4  deb1cc1094abe3b84148183e5acff809c7890942  Sleeping  Roommate(s)   \n",
       "\n",
       "                 where            weeks          mood day_of_week sex  \\\n",
       "0  Home Apartment Room  first two weeks   missing_val    Thursday   F   \n",
       "1  Home Apartment Room  first two weeks   missing_val    Thursday   F   \n",
       "2  Home Apartment Room  first two weeks   missing_val    Thursday   F   \n",
       "3  Home Apartment Room  first two weeks  Fairly happy    Thursday   F   \n",
       "4  Home Apartment Room  first two weeks  Fairly happy    Thursday   F   \n",
       "\n",
       "   latitude_home  longitude_home            timestamp_TD  \n",
       "0      46.061207       11.130863 2018-05-10 00:02:18.790  \n",
       "1      46.061207       11.130863 2018-05-10 00:32:18.635  \n",
       "2      46.061207       11.130863 2018-05-10 01:02:18.641  \n",
       "3      46.061207       11.130863 2018-05-10 01:32:18.620  \n",
       "4      46.061207       11.130863 2018-05-10 02:02:18.631  "
      ]
     },
     "execution_count": 16,
     "metadata": {},
     "output_type": "execute_result"
    }
   ],
   "source": [
    "df_td.head()"
   ]
  },
  {
   "cell_type": "code",
   "execution_count": 17,
   "id": "b04d409a",
   "metadata": {},
   "outputs": [
    {
     "data": {
      "text/plain": [
       "['first two weeks']\n",
       "Categories (1, object): ['first two weeks']"
      ]
     },
     "execution_count": 17,
     "metadata": {},
     "output_type": "execute_result"
    }
   ],
   "source": [
    "df_td.weeks.unique()"
   ]
  },
  {
   "cell_type": "code",
   "execution_count": 18,
   "id": "cc4f5d55",
   "metadata": {},
   "outputs": [
    {
     "data": {
      "text/plain": [
       "(2016, 10)"
      ]
     },
     "execution_count": 18,
     "metadata": {},
     "output_type": "execute_result"
    }
   ],
   "source": [
    "df_td = df_td.drop([\"weeks\"], axis=1)\n",
    "df_td.shape"
   ]
  },
  {
   "cell_type": "code",
   "execution_count": 19,
   "id": "0eca6b57",
   "metadata": {},
   "outputs": [],
   "source": [
    "# save cleand data of all subject as csv \n",
    "df_td.to_csv(\"tdata/tdf_clean.csv\", sep='\\t',index=False)"
   ]
  },
  {
   "cell_type": "code",
   "execution_count": 20,
   "id": "e7d237cd",
   "metadata": {},
   "outputs": [],
   "source": [
    "# we have 3 subject \n",
    "sub_1,sub_2,sub_3 = df_td.idcode.unique().tolist()\n"
   ]
  },
  {
   "cell_type": "code",
   "execution_count": 21,
   "id": "a673c6b4",
   "metadata": {},
   "outputs": [
    {
     "name": "stdout",
     "output_type": "stream",
     "text": [
      "(672, 10)\n",
      "(672, 10)\n",
      "(672, 10)\n"
     ]
    }
   ],
   "source": [
    "tdf_sub1 = df_td[df_td[\"idcode\"]==sub_1].reset_index(drop=True)\n",
    "tdf_sub2 = df_td[df_td[\"idcode\"]==sub_2].reset_index(drop=True)\n",
    "tdf_sub3 = df_td[df_td[\"idcode\"]==sub_3].reset_index(drop=True)\n",
    "print(tdf_sub1.shape)\n",
    "print(tdf_sub2.shape)\n",
    "print(tdf_sub3.shape)"
   ]
  },
  {
   "cell_type": "markdown",
   "id": "fdf4817d",
   "metadata": {},
   "source": [
    "## Export the  processed dataset of ecah subject as CSV file"
   ]
  },
  {
   "cell_type": "code",
   "execution_count": 22,
   "id": "2e4235d0",
   "metadata": {},
   "outputs": [],
   "source": [
    "# save as csv \n",
    "tdf_sub1.to_csv(\"tdata/tdf_sub1.csv\", sep='\\t',index=False)\n",
    "tdf_sub2.to_csv(\"tdata/tdf_sub2.csv\", sep='\\t',index=False)\n",
    "tdf_sub3.to_csv(\"tdata/tdf_sub3.csv\", sep='\\t',index=False)\n"
   ]
  },
  {
   "cell_type": "code",
   "execution_count": null,
   "id": "03f29020",
   "metadata": {},
   "outputs": [],
   "source": []
  },
  {
   "cell_type": "code",
   "execution_count": null,
   "id": "1468bf34",
   "metadata": {},
   "outputs": [],
   "source": []
  }
 ],
 "metadata": {
  "kernelspec": {
   "display_name": "Python 3 (ipykernel)",
   "language": "python",
   "name": "python3"
  },
  "language_info": {
   "codemirror_mode": {
    "name": "ipython",
    "version": 3
   },
   "file_extension": ".py",
   "mimetype": "text/x-python",
   "name": "python",
   "nbconvert_exporter": "python",
   "pygments_lexer": "ipython3",
   "version": "3.8.12"
  }
 },
 "nbformat": 4,
 "nbformat_minor": 5
}
